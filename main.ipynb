{
 "cells": [
  {
   "cell_type": "markdown",
   "id": "9d9bd546",
   "metadata": {},
   "source": [
    "# ReesSaver Discriminator Agent"
   ]
  },
  {
   "cell_type": "markdown",
   "id": "435d5507",
   "metadata": {},
   "source": [
    "## Notes:\n",
    "- Roughly 90% of our boards are unique\n",
    "- Every time you call generate_data it gets new games/games in a different order?"
   ]
  },
  {
   "cell_type": "code",
   "execution_count": null,
   "id": "df45d77a",
   "metadata": {
    "is_executing": true
   },
   "outputs": [],
   "source": [
    "import chess\n",
    "\n",
    "import chess.svg\n",
    "import cv2\n",
    "\n",
    "from IPython.display import display, SVG\n",
    "\n",
    "import numpy as np\n",
    "import random\n",
    "from tqdm import tqdm\n",
    "from importlib import reload\n",
    "import gc\n",
    "\n",
    "import torch\n",
    "import torch.nn as nn\n",
    "import torch.nn.functional as F\n",
    "import torch.optim as optim\n",
    "from torch.utils.data import DataLoader, Dataset\n",
    "\n",
    "import utils\n",
    "reload(utils)\n",
    "import utils\n",
    "\n",
    "import matplotlib.pyplot as plt\n",
    "\n",
    "from sklearn.model_selection import train_test_split"
   ]
  },
  {
   "cell_type": "code",
   "execution_count": 2,
   "id": "b917432f",
   "metadata": {
    "ExecuteTime": {
     "end_time": "2024-04-23T02:41:14.528222Z",
     "start_time": "2024-04-23T02:41:14.515271Z"
    }
   },
   "outputs": [
    {
     "name": "stdout",
     "output_type": "stream",
     "text": [
      "True\n"
     ]
    }
   ],
   "source": [
    "if torch.cuda.is_available():\n",
    "    # Set default tensor type to CUDA tensors\n",
    "    torch.set_default_tensor_type(torch.cuda.FloatTensor)\n",
    "    \n",
    "else:\n",
    "    \n",
    "    torch.set_default_tensor_type(torch.FloatTensor)\n",
    " \n",
    "print(torch.cuda.is_available())\n",
    "device = torch.device('cuda' if torch.cuda.is_available() else 'cpu')\n",
    "\n",
    "made_loader = False"
   ]
  },
  {
   "cell_type": "code",
   "outputs": [
    {
     "data": {
      "text/plain": "0"
     },
     "execution_count": 3,
     "metadata": {},
     "output_type": "execute_result"
    }
   ],
   "source": [
    "torch.cuda.empty_cache()\n",
    "gc.collect()"
   ],
   "metadata": {
    "collapsed": false,
    "ExecuteTime": {
     "end_time": "2024-04-23T02:41:14.635390Z",
     "start_time": "2024-04-23T02:41:14.529220Z"
    }
   },
   "id": "544e440d30974945",
   "execution_count": 3
  },
  {
   "cell_type": "code",
   "outputs": [],
   "source": [
    "def clear_cuda():\n",
    "    \n",
    "    input()\n",
    "    \n",
    "    for obj in gc.get_objects():\n",
    "        if torch.is_tensor(obj):\n",
    "            if obj.is_cuda:\n",
    "                print(type(obj), obj.size(), obj.device)\n",
    "                del obj\n",
    "    torch.cuda.empty_cache()\n",
    "    gc.collect()"
   ],
   "metadata": {
    "collapsed": false,
    "ExecuteTime": {
     "end_time": "2024-04-23T02:41:14.651338Z",
     "start_time": "2024-04-23T02:41:14.638378Z"
    }
   },
   "id": "5e426489c167da5c",
   "execution_count": 4
  },
  {
   "cell_type": "code",
   "outputs": [
    {
     "name": "stdout",
     "output_type": "stream",
     "text": [
      "<class 'torch.Tensor'> torch.Size([64]) cuda:0\n"
     ]
    },
    {
     "name": "stderr",
     "output_type": "stream",
     "text": [
      "C:\\Users\\osama\\anaconda3\\lib\\site-packages\\torch\\distributed\\distributed_c10d.py:359: UserWarning: torch.distributed.reduce_op is deprecated, please use torch.distributed.ReduceOp instead\n",
      "  warnings.warn(\n"
     ]
    }
   ],
   "source": [
    "clear_cuda()"
   ],
   "metadata": {
    "collapsed": false,
    "ExecuteTime": {
     "end_time": "2024-04-23T01:48:39.383063Z",
     "start_time": "2024-04-23T01:48:37.701535Z"
    }
   },
   "id": "24b4c10246dd3c83",
   "execution_count": 5
  },
  {
   "cell_type": "code",
   "outputs": [],
   "source": [
    "from utils.Datasets import *\n",
    "\n",
    "import utils.Dataloading\n",
    "reload(utils.Dataloading)\n",
    "from utils.Dataloading import *\n",
    "from utils.Game_playing import *\n",
    "\n",
    "import utils.Playing_agents\n",
    "reload(utils.Playing_agents)\n",
    "from utils.Playing_agents import *\n",
    "\n",
    "from utils.CSV_data import *\n",
    "from utils.Puzzles import *"
   ],
   "metadata": {
    "ExecuteTime": {
     "end_time": "2024-04-23T02:41:14.667284Z",
     "start_time": "2024-04-23T02:41:14.653330Z"
    }
   },
   "id": "aced8f27",
   "execution_count": 5
  },
  {
   "cell_type": "code",
   "outputs": [],
   "source": [
    "class MLPv2_1(nn.Module):\n",
    "\n",
    "    def __init__(self):\n",
    "\n",
    "        super().__init__()\n",
    "        self.conv1 = nn.Conv2d(14, 64, 3, 1, padding=1, padding_mode = 'zeros')\n",
    "\n",
    "        self.layers = nn.ModuleList()\n",
    "\n",
    "        self.depth = 6\n",
    "\n",
    "        for _ in range(self.depth):\n",
    "            self.layers.append(nn.Conv2d(64,64, 3, 1, padding=1, padding_mode = 'zeros'))\n",
    "            self.layers.append(nn.BatchNorm2d(64))\n",
    "            self.layers.append(nn.Conv2d(64,64, 3, 1, padding=1, padding_mode = 'zeros'))\n",
    "            self.layers.append(nn.BatchNorm2d(64))\n",
    "\n",
    "        self.linear = nn.Linear(4096, 128)\n",
    "\n",
    "    def forward(self, x):\n",
    "\n",
    "        x = self.conv1(x)\n",
    "\n",
    "        for i in range(self.depth):\n",
    "            j = i*4\n",
    "            ph = x.clone()\n",
    "            ph = self.layers[j](ph)\n",
    "            ph = self.layers[j+1](ph)\n",
    "            ph = F.relu(ph)\n",
    "            ph = self.layers[j+2](ph)\n",
    "            ph = self.layers[j+3](ph)\n",
    "\n",
    "            x = x + ph\n",
    "            x = F.relu(x)\n",
    "\n",
    "\n",
    "        x = torch.flatten(x, start_dim=1)\n",
    "\n",
    "        x = self.linear(x)\n",
    "\n",
    "        minn, ila = x[:,:64], x[:,64:]\n",
    "\n",
    "        return minn, ila"
   ],
   "metadata": {
    "collapsed": false,
    "ExecuteTime": {
     "end_time": "2024-04-23T02:41:14.682235Z",
     "start_time": "2024-04-23T02:41:14.668279Z"
    }
   },
   "id": "2e17ab646265886d",
   "execution_count": 6
  },
  {
   "cell_type": "code",
   "outputs": [],
   "source": [
    "RDv2 = torch.load(\"Models/RDv2.3 CB.pt\", map_location= device)"
   ],
   "metadata": {
    "collapsed": false,
    "ExecuteTime": {
     "end_time": "2024-04-23T02:41:14.743553Z",
     "start_time": "2024-04-23T02:41:14.683239Z"
    }
   },
   "id": "34154737e9a1cf50",
   "execution_count": 7
  },
  {
   "cell_type": "code",
   "outputs": [
    {
     "name": "stderr",
     "output_type": "stream",
     "text": [
      "0it [00:00, ?it/s]\n",
      "100%|██████████| 30000/30000 [10:17<00:00, 48.61it/s]\n"
     ]
    }
   ],
   "source": [
    "boards, meta, elo, moves, _, _, fens = generate_data(\"./Data/GAN_human_data.pgn\", N = 30_000)"
   ],
   "metadata": {
    "ExecuteTime": {
     "end_time": "2024-04-12T20:32:25.603839Z",
     "start_time": "2024-04-12T20:21:12.149814Z"
    }
   },
   "id": "4d02f81d",
   "execution_count": 7
  },
  {
   "cell_type": "code",
   "outputs": [],
   "source": [
    "class generator_1(nn.Module):\n",
    "\n",
    "    def __init__(self, conv_depth):\n",
    "\n",
    "        super().__init__()\n",
    "        self.conv1 = nn.Conv2d(14, 64, 3, 1, padding=1, padding_mode = 'zeros')\n",
    "        \n",
    "        self.conv_layers = nn.ModuleList()\n",
    "        self.conv_depth = conv_depth\n",
    "        \n",
    "        for i in range(self.conv_depth):\n",
    "            self.conv_layers.append(nn.Conv2d(64,64, 3, 1, padding=1, padding_mode = 'zeros'))\n",
    "            #self.conv_layers.append(nn.BatchNorm2d(64))\n",
    "            self.conv_layers.append(nn.Conv2d(64,64, 3, 1, padding=1, padding_mode = 'zeros'))\n",
    "            #if i < self.conv_depth - 1:\n",
    "                #self.conv_layers.append(nn.BatchNorm2d(64))\n",
    "\n",
    "        self.linear = nn.Linear(4096, 128)\n",
    "\n",
    "    def forward(self, x):\n",
    "\n",
    "        x = self.conv1(x)\n",
    "        \n",
    "        for i in range(self.conv_depth):\n",
    "            j = i*2\n",
    "            ph = x.clone()\n",
    "            ph = self.conv_layers[j](ph)\n",
    "            #ph = self.conv_layers[j+1](ph)\n",
    "            ph = F.relu(ph)\n",
    "            ph = self.conv_layers[j+1](ph)\n",
    "            #if i < self.conv_depth - 1:\n",
    "                #ph = self.conv_layers[j+3](ph)\n",
    "            \n",
    "            x = x + ph\n",
    "            x = F.relu(x)   \n",
    "        \n",
    "        x = torch.flatten(x, start_dim=1)\n",
    "\n",
    "        x = self.linear(x)\n",
    "        minn, ila = x[:,:64], x[:,64:]\n",
    "\n",
    "        minn = F.softmax(minn, dim=1)\n",
    "        ila = F.softmax(ila, dim=1)\n",
    "\n",
    "        return torch.cat([minn, ila], dim=1).view(-1, 2, 8, 8)"
   ],
   "metadata": {
    "ExecuteTime": {
     "end_time": "2024-04-23T02:41:14.758506Z",
     "start_time": "2024-04-23T02:41:14.745547Z"
    }
   },
   "id": "bab89efa",
   "execution_count": 8
  },
  {
   "cell_type": "code",
   "outputs": [],
   "source": [
    "class discriminator_1(nn.Module):\n",
    "\n",
    "    def __init__(self, conv_depth):\n",
    "\n",
    "        super().__init__()\n",
    "        self.conv1 = nn.Conv2d(16, 64, 3, 1, padding=1, padding_mode = 'zeros')\n",
    "\n",
    "        self.conv_layers = nn.ModuleList()\n",
    "        self.conv_depth = conv_depth\n",
    "\n",
    "        for _ in range(self.conv_depth):\n",
    "            self.conv_layers.append(nn.Conv2d(64,64, 3, 1, padding=1, padding_mode = 'zeros'))\n",
    "            self.conv_layers.append(nn.LayerNorm([64,8,8]))\n",
    "            self.conv_layers.append(nn.Conv2d(64,64, 3, 1, padding=1, padding_mode = 'zeros'))\n",
    "            self.conv_layers.append(nn.LayerNorm([64,8,8]))\n",
    "            \n",
    "        self.linear = nn.Linear(4096, 1)\n",
    "    \n",
    "\n",
    "    def forward(self, board, move):\n",
    "        \n",
    "        x = torch.cat((board, move), dim = 1)\n",
    "\n",
    "        x = self.conv1(x)\n",
    "        \n",
    "        for i in range(self.conv_depth):\n",
    "            j = i*2\n",
    "            ph = x.clone()\n",
    "            ph = self.conv_layers[j](ph)\n",
    "            ph = self.conv_layers[j+1](ph)\n",
    "            ph = F.leaky_relu(ph)\n",
    "            ph = self.conv_layers[j+2](ph)\n",
    "            ph = self.conv_layers[j+3](ph)\n",
    "            \n",
    "            x = x + ph\n",
    "            x = F.leaky_relu(x)\n",
    "                  \n",
    "                  \n",
    "        x = torch.flatten(x, start_dim=1)\n",
    "        \n",
    "        x = self.linear(x)\n",
    "        x = F.sigmoid(x)\n",
    "        \n",
    "        return x"
   ],
   "metadata": {
    "ExecuteTime": {
     "end_time": "2024-04-23T02:41:14.773452Z",
     "start_time": "2024-04-23T02:41:14.759500Z"
    }
   },
   "id": "da16f337",
   "execution_count": 9
  },
  {
   "cell_type": "code",
   "outputs": [],
   "source": [
    "class GAN_1(nn.Module):\n",
    "    #AI: 0, Human: 1\n",
    "    def __init__(self, g_conv_depth, d_conv_depth, lr, pre_trained_g = None):\n",
    "        \n",
    "        super().__init__()\n",
    "        \n",
    "        print(device)\n",
    "        \n",
    "        self.save_every = 2\n",
    "\n",
    "        self.alpha = 0.2\n",
    "        \n",
    "        if pre_trained_g is not None:\n",
    "            \n",
    "            self.generator = pre_trained_g\n",
    "            self.pre_trained = True\n",
    "        \n",
    "        else:\n",
    "            \n",
    "            self.generator = generator_1(g_conv_depth)\n",
    "            self.pre_trained = False\n",
    "\n",
    "\n",
    "        self.discriminator = discriminator_1(d_conv_depth)\n",
    "        \n",
    "        self.logs = {\"g_acc\": [0], \"d_acc_r\": [0], \"d_acc_f\": [0], \n",
    "                     \"g_loss\": [0], \"d_loss\": [0],\"d_dist_f\": [0], \"d_dist_r\": [0], \n",
    "                     \"cur_g_loss\": 0, \"cur_d_loss\": 0}\n",
    "        \n",
    "        self.made_loader = False\n",
    "        \n",
    "        self.configure_optimizers(lr)\n",
    "        self.categorical_loss_1 = torch.nn.CrossEntropyLoss()\n",
    "        self.categorical_loss_2 = torch.nn.CrossEntropyLoss()\n",
    "        \n",
    "        \n",
    "        \n",
    "    def forward(self, x):\n",
    "        return self.generator(x)\n",
    "    \n",
    "    def adversarial_loss(self, y_hat, y):\n",
    "        return F.binary_cross_entropy(y_hat, y)\n",
    "    \n",
    "    def stockfish_train(self, train_boards, moves):\n",
    "\n",
    "        self.generator.train()\n",
    "        \n",
    "        self.discriminator.eval()\n",
    "        \n",
    "        self.opt_g.zero_grad()\n",
    "\n",
    "        fake_moves = self(train_boards)\n",
    "\n",
    "        moves = moves.view(-1, 128)\n",
    "\n",
    "        if self.pre_trained:\n",
    "\n",
    "            fake_moves = F.softmax(fake_moves[0], dim=1), F.softmax(fake_moves[1], dim=1)\n",
    "            g_loss = self.categorical_loss_1(fake_moves[0], moves[:,:64]) + self.categorical_loss_2(fake_moves[1], moves[:,64:])\n",
    "            \n",
    "        else:\n",
    "            \n",
    "            fake_moves = fake_moves.view(-1, 128)\n",
    "\n",
    "            g_loss = self.categorical_loss_1(fake_moves[:,:64], moves[:,:64]) + self.categorical_loss_2(fake_moves[:,64:], moves[:,64:])\n",
    "            \n",
    "        #g_loss = torch.sum(torch.log((y - y_hat) + epsilon), dim=0)\n",
    "        \n",
    "        g_loss *= self.alpha\n",
    "\n",
    "        self.logs[\"cur_g_loss\"] += g_loss.item()\n",
    "\n",
    "        g_loss.backward()\n",
    "\n",
    "        self.opt_g.step()\n",
    "    \n",
    "    def train_step(self, train_boards, real_moves, train_generator, prev_generator=None):\n",
    "\n",
    "        self.discriminator.train()\n",
    "\n",
    "        self.generator.train()\n",
    "\n",
    "        epsilon = 1e-8\n",
    "        \n",
    "        #train generator\n",
    "        if train_generator:\n",
    "            \n",
    "            self.discriminator.eval()\n",
    "\n",
    "            self.opt_g.zero_grad()\n",
    "            \n",
    "            fake_moves = self(train_boards)\n",
    "            \n",
    "            if self.pre_trained:\n",
    "                \n",
    "                fake_moves = F.softmax(fake_moves[0], dim=1), F.softmax(fake_moves[1], dim=1)\n",
    "                fake_moves = self.diffable_argmax_moves(torch.cat(fake_moves,dim=1)).view(-1,2,8,8)\n",
    "                \n",
    "            else:\n",
    "                \n",
    "                fake_moves = self.diffable_argmax_moves(fake_moves).view(-1,2,8,8)\n",
    "            \n",
    "            y_hat = self.discriminator(train_boards, fake_moves)\n",
    "            \n",
    "            y = torch.zeros(real_moves.size(0), 1).to(device)\n",
    "            \n",
    "            g_loss = -1 * self.adversarial_loss(y_hat, y)\n",
    "            #g_loss = torch.sum(torch.log((y - y_hat) + epsilon), dim=0)\n",
    "                        \n",
    "            self.logs[\"cur_g_loss\"] += g_loss.item()\n",
    "            \n",
    "            g_loss.backward()\n",
    "\n",
    "            self.opt_g.step()\n",
    "              \n",
    "        #discriminator training \n",
    "        else:\n",
    "\n",
    "            self.generator.eval()\n",
    "\n",
    "            self.opt_d.zero_grad()\n",
    "            \n",
    "            y_hat_real = self.discriminator(train_boards, real_moves)\n",
    "            y_real = torch.ones(real_moves.size(0), 1).to(device)\n",
    "            \n",
    "            #d_real_loss = torch.sum(y_hat_real, dim = 0)\n",
    "            d_real_loss = self.adversarial_loss(y_hat_real, y_real)\n",
    "            \n",
    "            if prev_generator is not None:\n",
    "                \n",
    "                prev_fake_moves = prev_generator(train_boards[:len(train_boards)//8])\n",
    "                fake_moves = self(train_boards[len(train_boards)//8:])\n",
    "\n",
    "                if self.pre_trained:\n",
    "\n",
    "                    fake_moves = F.softmax(fake_moves[0], dim=1), F.softmax(fake_moves[1], dim=1)\n",
    "                    fake_moves = self.diffable_argmax_moves(torch.cat(fake_moves,dim=1)).view(-1,2,8,8).detach()\n",
    "                    prev_fake_moves = F.softmax(prev_fake_moves[0], dim=1), F.softmax(prev_fake_moves[1], dim=1)\n",
    "                    prev_fake_moves = self.diffable_argmax_moves((torch.cat(prev_fake_moves,dim=1))).view(-1,2,8,8).detach()\n",
    "\n",
    "                else:\n",
    "\n",
    "                    fake_moves = self.diffable_argmax_moves(fake_moves).view(-1,2,8,8).detach()\n",
    "                    prev_fake_moves = self.diffable_argmax_moves(prev_fake_moves).view(-1,2,8,8).detach()\n",
    "                \n",
    "                fake_moves = torch.cat([prev_fake_moves, fake_moves], dim=0)\n",
    "\n",
    "                \n",
    "            else:\n",
    "                \n",
    "                fake_moves = self(train_boards)\n",
    "\n",
    "                if self.pre_trained:\n",
    "                    fake_moves = F.softmax(fake_moves[0], dim=1), F.softmax(fake_moves[1], dim=1)\n",
    "                    fake_moves = self.diffable_argmax_moves(torch.cat(fake_moves,dim=1)).view(-1,2,8,8).detach()\n",
    "\n",
    "                else:\n",
    "\n",
    "                    fake_moves = self.diffable_argmax_moves(fake_moves).view(-1,2,8,8).detach()\n",
    "\n",
    "            \n",
    "            y_hat_fake = self.discriminator(train_boards, fake_moves)\n",
    "            y_fake = torch.zeros(real_moves.size(0), 1).to(device)\n",
    "\n",
    "            #d_fake_loss = torch.sum(y_hat_fake, dim = 0)\n",
    "            d_fake_loss = self.adversarial_loss(y_hat_fake, y_fake)\n",
    "            \n",
    "            \n",
    "            d_loss = d_fake_loss + d_real_loss # - d_fake_loss * d_real_loss\n",
    "            self.logs[\"cur_d_loss\"] += d_loss.item()\n",
    "            \n",
    "            d_loss.backward()\n",
    "\n",
    "            self.opt_d.step()\n",
    "            \n",
    "            #for param in self.discriminator.parameters():\n",
    "            #    param.data.clamp_(-0.01, 0.01)\n",
    "            \n",
    "    def diffable_argmax_moves(self, moves):\n",
    "        \n",
    "        moves = moves.view(-1,2,64)\n",
    "        # Create a tensor to hold the transformed results\n",
    "        transformed_tensor = torch.zeros_like(moves).to(device)\n",
    "    \n",
    "        # Find the indices of the maximum values along the last two dimensions\n",
    "        max_indices = torch.argmax(moves, dim=2, keepdim=True).to(device) # 5000, 2\n",
    "    \n",
    "        # Create a mask where the maximum indices are set to 1\n",
    "        idx0 = torch.arange(transformed_tensor.size(0)).unsqueeze(1).unsqueeze(2).to(device)\n",
    "        idx1 = torch.arange(transformed_tensor.size(1)).unsqueeze(0).unsqueeze(2).to(device)\n",
    "    \n",
    "        transformed_tensor[idx0, idx1, max_indices] = 1\n",
    "        \n",
    "        moves = moves * transformed_tensor\n",
    "\n",
    "        moves /= moves[idx0, idx1, max_indices]\n",
    "    \n",
    "        return moves\n",
    "            \n",
    "    \n",
    "    def configure_optimizers(self, lr):\n",
    "        self.lr = lr\n",
    "        self.opt_g = torch.optim.Adam(self.generator.parameters(), lr=lr, betas = (0.5, 0.999),  weight_decay=0.0)\n",
    "        self.opt_d = torch.optim.Adam(self.discriminator.parameters(), lr=lr,  betas = (0.5, 0.999), weight_decay=0.0)\n",
    "    \n",
    "    def on_epoch_end(self, epoch, G, prefix, val_data=None):\n",
    "        \n",
    "        self.logs[\"g_loss\"].append(self.logs[\"cur_g_loss\"] / G)\n",
    "        self.logs[\"d_loss\"].append(self.logs[\"cur_d_loss\"] / G)\n",
    "        \n",
    "        print(f'Epoch {epoch+1} with g_loss: {self.logs[\"cur_g_loss\"] / G} and d_loss: {self.logs[\"cur_d_loss\"] / G}')\n",
    "        \n",
    "        self.logs[\"cur_g_loss\"] = 0\n",
    "        self.logs[\"cur_d_loss\"] = 0\n",
    "        \n",
    "        if epoch % 1 == 0:\n",
    "            \n",
    "            if val_data is not None:\n",
    "                \n",
    "                self.discriminator.eval()\n",
    "                \n",
    "                self.generator.eval()\n",
    "                \n",
    "                val_boards = val_data.bitboards\n",
    "                real_moves = val_data.moves\n",
    "                \n",
    "                #fake_moves_ind = torch.argmax(fake_moves, dim=1)\n",
    "                values = np.zeros(5)\n",
    "                \n",
    "                for i in range(0,len(val_boards), 100):\n",
    "                \n",
    "                    with torch.no_grad():\n",
    "                        \n",
    "                        curr_boards, curr_moves = val_boards[i:i+100], real_moves[i:i+100]\n",
    "    \n",
    "                        fake_moves = self(curr_boards)\n",
    "                                                \n",
    "                        if self.pre_trained:\n",
    "                            \n",
    "                            fake_from_moves = torch.argmax(fake_moves[0], dim=1)\n",
    "                            fake_to_moves = torch.argmax(fake_moves[1], dim=1)\n",
    "                            real_from_moves = torch.argmax(curr_moves[:,0].view(-1,64), dim=1)\n",
    "                            real_to_moves = torch.argmax(curr_moves[:,1].view(-1,64), dim=1)\n",
    "                            values[4] += torch.sum((fake_from_moves == real_from_moves) & (fake_to_moves == real_to_moves)).item()/fake_from_moves.size(0)\n",
    "                        \n",
    "                            fake_moves = self.diffable_argmax_moves(torch.cat([F.softmax(fake_moves[0], dim=1), F.softmax(fake_moves[1], dim=1)], dim=1)).view(-1,2,8,8)\n",
    "\n",
    "                        else:\n",
    "\n",
    "                            fake_moves = self.diffable_argmax_moves(fake_moves).view(-1,2,8,8)\n",
    "\n",
    "\n",
    "                        f_pred = self.discriminator(curr_boards, fake_moves)\n",
    "                        r_pred = self.discriminator(curr_boards, curr_moves)\n",
    "    \n",
    "                        values[0] += torch.mean(torch.round(f_pred) == 0, dtype=torch.float).item() #d_acc_f\n",
    "                        values[1] += torch.mean(torch.round(r_pred) == 1, dtype=torch.float).item() #d_acc_r\n",
    "    \n",
    "                        values[2] += torch.mean(torch.abs(f_pred)) #d_dist_f\n",
    "                        values[3] += torch.mean(torch.abs(1 - r_pred)) #d_dist_r\n",
    "\n",
    "                        if not self.pre_trained:\n",
    "    \n",
    "                            values[4] += torch.mean((curr_moves.view(-1,128) == torch.round(fake_moves).view(-1,128)).all(dim=1), dtype=torch.float).item() # g_acc\n",
    "                                                    \n",
    "                n = int(len(val_boards) // 100)\n",
    "                d_acc_f, d_acc_r = values[0] / n, values[1] / n\n",
    "                d_dist_f, d_dist_r = values[2] / n, values[3] / n\n",
    "                g_acc = values[4] / n\n",
    "                \n",
    "                print(f'Epoch: {epoch+1}, {g_acc=}, {d_acc_f=}, {d_acc_r=}')\n",
    "                print(f\"{d_dist_f=}, {d_dist_r=}\")\n",
    "                \n",
    "                self.logs[\"d_acc_f\"].append(d_acc_f)\n",
    "                self.logs[\"d_acc_r\"].append(d_acc_r)\n",
    "                self.logs[\"d_dist_f\"].append(d_dist_f)\n",
    "                self.logs[\"d_dist_r\"].append(d_dist_r)\n",
    "                self.logs[\"g_acc\"].append(g_acc)\n",
    "                \n",
    "                \n",
    "            if epoch % self.save_every == 0:\n",
    "            \n",
    "                torch.save(self.generator, f\"{prefix}-generator {epoch}.pt\")\n",
    "                torch.save(self.discriminator, f\"{prefix}-discriminator {epoch}.pt\")\n",
    "            \n",
    "    def create_dataloader(self, boards, meta, moves, B, N, N_val):\n",
    "\n",
    "        if self.made_loader:\n",
    "\n",
    "            clear_cuda()\n",
    "            \n",
    "        loader = DataLoader(GANData(boards[:N], meta[:N], moves[:N]), batch_size = B, shuffle = True, generator=torch.Generator(device=device))\n",
    "        val_loader = GANData(boards[N:N+N_val], meta[N:N+N_val], moves[N:N+N_val])\n",
    "        \n",
    "        self.made_loader = True\n",
    "        \n",
    "        return loader, val_loader\n",
    "        \n",
    "\n",
    "        "
   ],
   "metadata": {
    "collapsed": false,
    "ExecuteTime": {
     "end_time": "2024-04-23T13:49:05.016900Z",
     "start_time": "2024-04-23T13:49:04.946719Z"
    }
   },
   "id": "cf3c6fec864d134d",
   "execution_count": 29
  },
  {
   "cell_type": "code",
   "outputs": [],
   "source": [
    "class GANData(Dataset):\n",
    "\n",
    "    def __init__(self, bitboards, meta, moves):\n",
    "\n",
    "        self.bitboards = torch.tensor(bitboards, dtype = torch.float).to(device)\n",
    "\n",
    "        self.moves = torch.tensor(moves.reshape(-1,2,8,8), dtype = torch.float).to(device)\n",
    "\n",
    "    def __len__(self):\n",
    "\n",
    "        return self.moves.size(dim=0)\n",
    "\n",
    "\n",
    "    def __getitem__(self, idx):\n",
    "\n",
    "        return self.bitboards[idx], self.moves[idx]\n",
    "    \n",
    "    "
   ],
   "metadata": {
    "collapsed": false,
    "ExecuteTime": {
     "end_time": "2024-04-23T02:41:14.852910Z",
     "start_time": "2024-04-23T02:41:14.838756Z"
    }
   },
   "id": "4677947170615bf9",
   "execution_count": 11
  },
  {
   "cell_type": "code",
   "outputs": [
    {
     "name": "stdout",
     "output_type": "stream",
     "text": [
      "<class 'torch.Tensor'> torch.Size([64]) cuda:0\n",
      "<class 'torch.nn.parameter.Parameter'> torch.Size([64, 14, 3, 3]) cuda:0\n",
      "<class 'torch.nn.parameter.Parameter'> torch.Size([64]) cuda:0\n",
      "<class 'torch.nn.parameter.Parameter'> torch.Size([128, 4096]) cuda:0\n",
      "<class 'torch.nn.parameter.Parameter'> torch.Size([128]) cuda:0\n",
      "<class 'torch.nn.parameter.Parameter'> torch.Size([64, 64, 3, 3]) cuda:0\n",
      "<class 'torch.nn.parameter.Parameter'> torch.Size([64]) cuda:0\n",
      "<class 'torch.nn.parameter.Parameter'> torch.Size([64]) cuda:0\n",
      "<class 'torch.nn.parameter.Parameter'> torch.Size([64]) cuda:0\n",
      "<class 'torch.Tensor'> torch.Size([64]) cuda:0\n",
      "<class 'torch.Tensor'> torch.Size([64]) cuda:0\n",
      "<class 'torch.Tensor'> torch.Size([]) cuda:0\n",
      "<class 'torch.nn.parameter.Parameter'> torch.Size([64, 64, 3, 3]) cuda:0\n",
      "<class 'torch.nn.parameter.Parameter'> torch.Size([64]) cuda:0\n",
      "<class 'torch.nn.parameter.Parameter'> torch.Size([64]) cuda:0\n",
      "<class 'torch.nn.parameter.Parameter'> torch.Size([64]) cuda:0\n",
      "<class 'torch.Tensor'> torch.Size([64]) cuda:0\n",
      "<class 'torch.Tensor'> torch.Size([64]) cuda:0\n",
      "<class 'torch.Tensor'> torch.Size([]) cuda:0\n",
      "<class 'torch.nn.parameter.Parameter'> torch.Size([64, 64, 3, 3]) cuda:0\n",
      "<class 'torch.nn.parameter.Parameter'> torch.Size([64]) cuda:0\n",
      "<class 'torch.nn.parameter.Parameter'> torch.Size([64]) cuda:0\n",
      "<class 'torch.nn.parameter.Parameter'> torch.Size([64]) cuda:0\n",
      "<class 'torch.Tensor'> torch.Size([64]) cuda:0\n",
      "<class 'torch.Tensor'> torch.Size([64]) cuda:0\n",
      "<class 'torch.Tensor'> torch.Size([]) cuda:0\n",
      "<class 'torch.nn.parameter.Parameter'> torch.Size([64, 64, 3, 3]) cuda:0\n",
      "<class 'torch.nn.parameter.Parameter'> torch.Size([64]) cuda:0\n",
      "<class 'torch.nn.parameter.Parameter'> torch.Size([64]) cuda:0\n",
      "<class 'torch.nn.parameter.Parameter'> torch.Size([64]) cuda:0\n",
      "<class 'torch.Tensor'> torch.Size([64]) cuda:0\n",
      "<class 'torch.Tensor'> torch.Size([64]) cuda:0\n",
      "<class 'torch.Tensor'> torch.Size([]) cuda:0\n",
      "<class 'torch.nn.parameter.Parameter'> torch.Size([64, 64, 3, 3]) cuda:0\n",
      "<class 'torch.nn.parameter.Parameter'> torch.Size([64]) cuda:0\n",
      "<class 'torch.nn.parameter.Parameter'> torch.Size([64]) cuda:0\n",
      "<class 'torch.nn.parameter.Parameter'> torch.Size([64]) cuda:0\n",
      "<class 'torch.Tensor'> torch.Size([64]) cuda:0\n",
      "<class 'torch.Tensor'> torch.Size([64]) cuda:0\n",
      "<class 'torch.Tensor'> torch.Size([]) cuda:0\n",
      "<class 'torch.nn.parameter.Parameter'> torch.Size([64, 64, 3, 3]) cuda:0\n",
      "<class 'torch.nn.parameter.Parameter'> torch.Size([64]) cuda:0\n",
      "<class 'torch.nn.parameter.Parameter'> torch.Size([64]) cuda:0\n",
      "<class 'torch.nn.parameter.Parameter'> torch.Size([64]) cuda:0\n",
      "<class 'torch.Tensor'> torch.Size([64]) cuda:0\n",
      "<class 'torch.Tensor'> torch.Size([64]) cuda:0\n",
      "<class 'torch.Tensor'> torch.Size([]) cuda:0\n",
      "<class 'torch.nn.parameter.Parameter'> torch.Size([64, 64, 3, 3]) cuda:0\n",
      "<class 'torch.nn.parameter.Parameter'> torch.Size([64]) cuda:0\n",
      "<class 'torch.nn.parameter.Parameter'> torch.Size([64]) cuda:0\n",
      "<class 'torch.nn.parameter.Parameter'> torch.Size([64]) cuda:0\n",
      "<class 'torch.Tensor'> torch.Size([64]) cuda:0\n",
      "<class 'torch.Tensor'> torch.Size([64]) cuda:0\n",
      "<class 'torch.Tensor'> torch.Size([]) cuda:0\n",
      "<class 'torch.nn.parameter.Parameter'> torch.Size([64, 64, 3, 3]) cuda:0\n",
      "<class 'torch.nn.parameter.Parameter'> torch.Size([64]) cuda:0\n",
      "<class 'torch.nn.parameter.Parameter'> torch.Size([64]) cuda:0\n",
      "<class 'torch.nn.parameter.Parameter'> torch.Size([64]) cuda:0\n",
      "<class 'torch.Tensor'> torch.Size([64]) cuda:0\n",
      "<class 'torch.Tensor'> torch.Size([64]) cuda:0\n",
      "<class 'torch.Tensor'> torch.Size([]) cuda:0\n",
      "<class 'torch.nn.parameter.Parameter'> torch.Size([64, 64, 3, 3]) cuda:0\n",
      "<class 'torch.nn.parameter.Parameter'> torch.Size([64]) cuda:0\n",
      "<class 'torch.nn.parameter.Parameter'> torch.Size([64]) cuda:0\n",
      "<class 'torch.nn.parameter.Parameter'> torch.Size([64]) cuda:0\n",
      "<class 'torch.Tensor'> torch.Size([64]) cuda:0\n",
      "<class 'torch.Tensor'> torch.Size([64]) cuda:0\n",
      "<class 'torch.Tensor'> torch.Size([]) cuda:0\n",
      "<class 'torch.nn.parameter.Parameter'> torch.Size([64, 64, 3, 3]) cuda:0\n",
      "<class 'torch.nn.parameter.Parameter'> torch.Size([64]) cuda:0\n",
      "<class 'torch.nn.parameter.Parameter'> torch.Size([64]) cuda:0\n",
      "<class 'torch.nn.parameter.Parameter'> torch.Size([64]) cuda:0\n",
      "<class 'torch.Tensor'> torch.Size([64]) cuda:0\n",
      "<class 'torch.Tensor'> torch.Size([64]) cuda:0\n",
      "<class 'torch.Tensor'> torch.Size([]) cuda:0\n",
      "<class 'torch.nn.parameter.Parameter'> torch.Size([64, 64, 3, 3]) cuda:0\n",
      "<class 'torch.nn.parameter.Parameter'> torch.Size([64]) cuda:0\n",
      "<class 'torch.nn.parameter.Parameter'> torch.Size([64]) cuda:0\n",
      "<class 'torch.nn.parameter.Parameter'> torch.Size([64]) cuda:0\n",
      "<class 'torch.Tensor'> torch.Size([64]) cuda:0\n",
      "<class 'torch.Tensor'> torch.Size([64]) cuda:0\n",
      "<class 'torch.Tensor'> torch.Size([]) cuda:0\n",
      "<class 'torch.nn.parameter.Parameter'> torch.Size([64, 64, 3, 3]) cuda:0\n",
      "<class 'torch.nn.parameter.Parameter'> torch.Size([64]) cuda:0\n",
      "<class 'torch.nn.parameter.Parameter'> torch.Size([64]) cuda:0\n",
      "<class 'torch.nn.parameter.Parameter'> torch.Size([64]) cuda:0\n",
      "<class 'torch.Tensor'> torch.Size([64]) cuda:0\n",
      "<class 'torch.Tensor'> torch.Size([64]) cuda:0\n",
      "<class 'torch.Tensor'> torch.Size([]) cuda:0\n",
      "<class 'torch.Tensor'> torch.Size([512, 14, 8, 8]) cuda:0\n",
      "<class 'torch.Tensor'> torch.Size([512, 2, 8, 8]) cuda:0\n",
      "<class 'torch.Tensor'> torch.Size([64]) cuda:0\n",
      "<class 'torch.nn.parameter.Parameter'> torch.Size([64, 14, 3, 3]) cuda:0\n",
      "<class 'torch.nn.parameter.Parameter'> torch.Size([64]) cuda:0\n",
      "<class 'torch.nn.parameter.Parameter'> torch.Size([128, 4096]) cuda:0\n",
      "<class 'torch.nn.parameter.Parameter'> torch.Size([128]) cuda:0\n",
      "<class 'torch.nn.parameter.Parameter'> torch.Size([64, 64, 3, 3]) cuda:0\n",
      "<class 'torch.nn.parameter.Parameter'> torch.Size([64]) cuda:0\n",
      "<class 'torch.nn.parameter.Parameter'> torch.Size([64]) cuda:0\n",
      "<class 'torch.nn.parameter.Parameter'> torch.Size([64]) cuda:0\n",
      "<class 'torch.Tensor'> torch.Size([64]) cuda:0\n",
      "<class 'torch.Tensor'> torch.Size([64]) cuda:0\n",
      "<class 'torch.Tensor'> torch.Size([]) cuda:0\n",
      "<class 'torch.nn.parameter.Parameter'> torch.Size([64, 64, 3, 3]) cuda:0\n",
      "<class 'torch.nn.parameter.Parameter'> torch.Size([64]) cuda:0\n",
      "<class 'torch.nn.parameter.Parameter'> torch.Size([64]) cuda:0\n",
      "<class 'torch.nn.parameter.Parameter'> torch.Size([64]) cuda:0\n",
      "<class 'torch.Tensor'> torch.Size([64]) cuda:0\n",
      "<class 'torch.Tensor'> torch.Size([64]) cuda:0\n",
      "<class 'torch.Tensor'> torch.Size([]) cuda:0\n",
      "<class 'torch.nn.parameter.Parameter'> torch.Size([64, 64, 3, 3]) cuda:0\n",
      "<class 'torch.nn.parameter.Parameter'> torch.Size([64]) cuda:0\n",
      "<class 'torch.nn.parameter.Parameter'> torch.Size([64]) cuda:0\n",
      "<class 'torch.nn.parameter.Parameter'> torch.Size([64]) cuda:0\n",
      "<class 'torch.Tensor'> torch.Size([64]) cuda:0\n",
      "<class 'torch.Tensor'> torch.Size([64]) cuda:0\n",
      "<class 'torch.Tensor'> torch.Size([]) cuda:0\n",
      "<class 'torch.nn.parameter.Parameter'> torch.Size([64, 64, 3, 3]) cuda:0\n",
      "<class 'torch.nn.parameter.Parameter'> torch.Size([64]) cuda:0\n",
      "<class 'torch.nn.parameter.Parameter'> torch.Size([64]) cuda:0\n",
      "<class 'torch.nn.parameter.Parameter'> torch.Size([64]) cuda:0\n",
      "<class 'torch.Tensor'> torch.Size([64]) cuda:0\n",
      "<class 'torch.Tensor'> torch.Size([64]) cuda:0\n",
      "<class 'torch.Tensor'> torch.Size([]) cuda:0\n",
      "<class 'torch.nn.parameter.Parameter'> torch.Size([64, 64, 3, 3]) cuda:0\n",
      "<class 'torch.nn.parameter.Parameter'> torch.Size([64]) cuda:0\n",
      "<class 'torch.nn.parameter.Parameter'> torch.Size([64]) cuda:0\n",
      "<class 'torch.nn.parameter.Parameter'> torch.Size([64]) cuda:0\n",
      "<class 'torch.Tensor'> torch.Size([64]) cuda:0\n",
      "<class 'torch.Tensor'> torch.Size([64]) cuda:0\n",
      "<class 'torch.Tensor'> torch.Size([]) cuda:0\n",
      "<class 'torch.nn.parameter.Parameter'> torch.Size([64, 64, 3, 3]) cuda:0\n",
      "<class 'torch.nn.parameter.Parameter'> torch.Size([64]) cuda:0\n",
      "<class 'torch.nn.parameter.Parameter'> torch.Size([64]) cuda:0\n",
      "<class 'torch.nn.parameter.Parameter'> torch.Size([64]) cuda:0\n",
      "<class 'torch.Tensor'> torch.Size([64]) cuda:0\n",
      "<class 'torch.Tensor'> torch.Size([64]) cuda:0\n",
      "<class 'torch.Tensor'> torch.Size([]) cuda:0\n",
      "<class 'torch.nn.parameter.Parameter'> torch.Size([64, 64, 3, 3]) cuda:0\n",
      "<class 'torch.nn.parameter.Parameter'> torch.Size([64]) cuda:0\n",
      "<class 'torch.nn.parameter.Parameter'> torch.Size([64]) cuda:0\n",
      "<class 'torch.nn.parameter.Parameter'> torch.Size([64]) cuda:0\n",
      "<class 'torch.Tensor'> torch.Size([64]) cuda:0\n",
      "<class 'torch.Tensor'> torch.Size([64]) cuda:0\n",
      "<class 'torch.Tensor'> torch.Size([]) cuda:0\n",
      "<class 'torch.nn.parameter.Parameter'> torch.Size([64, 64, 3, 3]) cuda:0\n",
      "<class 'torch.nn.parameter.Parameter'> torch.Size([64]) cuda:0\n",
      "<class 'torch.nn.parameter.Parameter'> torch.Size([64]) cuda:0\n",
      "<class 'torch.nn.parameter.Parameter'> torch.Size([64]) cuda:0\n",
      "<class 'torch.Tensor'> torch.Size([64]) cuda:0\n",
      "<class 'torch.Tensor'> torch.Size([64]) cuda:0\n",
      "<class 'torch.Tensor'> torch.Size([]) cuda:0\n",
      "<class 'torch.nn.parameter.Parameter'> torch.Size([64, 64, 3, 3]) cuda:0\n",
      "<class 'torch.nn.parameter.Parameter'> torch.Size([64]) cuda:0\n",
      "<class 'torch.nn.parameter.Parameter'> torch.Size([64]) cuda:0\n",
      "<class 'torch.nn.parameter.Parameter'> torch.Size([64]) cuda:0\n",
      "<class 'torch.Tensor'> torch.Size([64]) cuda:0\n",
      "<class 'torch.Tensor'> torch.Size([64]) cuda:0\n",
      "<class 'torch.Tensor'> torch.Size([]) cuda:0\n",
      "<class 'torch.nn.parameter.Parameter'> torch.Size([64, 64, 3, 3]) cuda:0\n",
      "<class 'torch.nn.parameter.Parameter'> torch.Size([64]) cuda:0\n",
      "<class 'torch.nn.parameter.Parameter'> torch.Size([64]) cuda:0\n",
      "<class 'torch.nn.parameter.Parameter'> torch.Size([64]) cuda:0\n",
      "<class 'torch.Tensor'> torch.Size([64]) cuda:0\n",
      "<class 'torch.Tensor'> torch.Size([64]) cuda:0\n",
      "<class 'torch.Tensor'> torch.Size([]) cuda:0\n",
      "<class 'torch.nn.parameter.Parameter'> torch.Size([64, 64, 3, 3]) cuda:0\n",
      "<class 'torch.nn.parameter.Parameter'> torch.Size([64]) cuda:0\n",
      "<class 'torch.nn.parameter.Parameter'> torch.Size([64]) cuda:0\n",
      "<class 'torch.nn.parameter.Parameter'> torch.Size([64]) cuda:0\n",
      "<class 'torch.Tensor'> torch.Size([64]) cuda:0\n",
      "<class 'torch.Tensor'> torch.Size([64]) cuda:0\n",
      "<class 'torch.Tensor'> torch.Size([]) cuda:0\n",
      "<class 'torch.nn.parameter.Parameter'> torch.Size([64, 64, 3, 3]) cuda:0\n",
      "<class 'torch.nn.parameter.Parameter'> torch.Size([64]) cuda:0\n",
      "<class 'torch.nn.parameter.Parameter'> torch.Size([64]) cuda:0\n",
      "<class 'torch.nn.parameter.Parameter'> torch.Size([64]) cuda:0\n",
      "<class 'torch.Tensor'> torch.Size([64]) cuda:0\n",
      "<class 'torch.Tensor'> torch.Size([64]) cuda:0\n",
      "<class 'torch.Tensor'> torch.Size([]) cuda:0\n",
      "<class 'torch.Tensor'> torch.Size([512, 14, 8, 8]) cuda:0\n",
      "<class 'torch.Tensor'> torch.Size([512, 2, 8, 8]) cuda:0\n",
      "<class 'torch.Tensor'> torch.Size([64]) cuda:0\n",
      "<class 'torch.nn.parameter.Parameter'> torch.Size([64, 14, 3, 3]) cuda:0\n",
      "<class 'torch.nn.parameter.Parameter'> torch.Size([64]) cuda:0\n",
      "<class 'torch.nn.parameter.Parameter'> torch.Size([128, 4096]) cuda:0\n",
      "<class 'torch.nn.parameter.Parameter'> torch.Size([128]) cuda:0\n",
      "<class 'torch.nn.parameter.Parameter'> torch.Size([64, 64, 3, 3]) cuda:0\n",
      "<class 'torch.nn.parameter.Parameter'> torch.Size([64]) cuda:0\n",
      "<class 'torch.nn.parameter.Parameter'> torch.Size([64]) cuda:0\n",
      "<class 'torch.nn.parameter.Parameter'> torch.Size([64]) cuda:0\n",
      "<class 'torch.Tensor'> torch.Size([64]) cuda:0\n",
      "<class 'torch.Tensor'> torch.Size([64]) cuda:0\n",
      "<class 'torch.Tensor'> torch.Size([]) cuda:0\n",
      "<class 'torch.nn.parameter.Parameter'> torch.Size([64, 64, 3, 3]) cuda:0\n",
      "<class 'torch.nn.parameter.Parameter'> torch.Size([64]) cuda:0\n",
      "<class 'torch.nn.parameter.Parameter'> torch.Size([64]) cuda:0\n",
      "<class 'torch.nn.parameter.Parameter'> torch.Size([64]) cuda:0\n",
      "<class 'torch.Tensor'> torch.Size([64]) cuda:0\n",
      "<class 'torch.Tensor'> torch.Size([64]) cuda:0\n",
      "<class 'torch.Tensor'> torch.Size([]) cuda:0\n",
      "<class 'torch.nn.parameter.Parameter'> torch.Size([64, 64, 3, 3]) cuda:0\n",
      "<class 'torch.nn.parameter.Parameter'> torch.Size([64]) cuda:0\n",
      "<class 'torch.nn.parameter.Parameter'> torch.Size([64]) cuda:0\n",
      "<class 'torch.nn.parameter.Parameter'> torch.Size([64]) cuda:0\n",
      "<class 'torch.Tensor'> torch.Size([64]) cuda:0\n",
      "<class 'torch.Tensor'> torch.Size([64]) cuda:0\n",
      "<class 'torch.Tensor'> torch.Size([]) cuda:0\n",
      "<class 'torch.nn.parameter.Parameter'> torch.Size([64, 64, 3, 3]) cuda:0\n",
      "<class 'torch.nn.parameter.Parameter'> torch.Size([64]) cuda:0\n",
      "<class 'torch.nn.parameter.Parameter'> torch.Size([64]) cuda:0\n",
      "<class 'torch.nn.parameter.Parameter'> torch.Size([64]) cuda:0\n",
      "<class 'torch.Tensor'> torch.Size([64]) cuda:0\n",
      "<class 'torch.Tensor'> torch.Size([64]) cuda:0\n",
      "<class 'torch.Tensor'> torch.Size([]) cuda:0\n",
      "<class 'torch.nn.parameter.Parameter'> torch.Size([64, 64, 3, 3]) cuda:0\n",
      "<class 'torch.nn.parameter.Parameter'> torch.Size([64]) cuda:0\n",
      "<class 'torch.nn.parameter.Parameter'> torch.Size([64]) cuda:0\n",
      "<class 'torch.nn.parameter.Parameter'> torch.Size([64]) cuda:0\n",
      "<class 'torch.Tensor'> torch.Size([64]) cuda:0\n",
      "<class 'torch.Tensor'> torch.Size([64]) cuda:0\n",
      "<class 'torch.Tensor'> torch.Size([]) cuda:0\n",
      "<class 'torch.nn.parameter.Parameter'> torch.Size([64, 64, 3, 3]) cuda:0\n",
      "<class 'torch.nn.parameter.Parameter'> torch.Size([64]) cuda:0\n",
      "<class 'torch.nn.parameter.Parameter'> torch.Size([64]) cuda:0\n",
      "<class 'torch.nn.parameter.Parameter'> torch.Size([64]) cuda:0\n",
      "<class 'torch.Tensor'> torch.Size([64]) cuda:0\n",
      "<class 'torch.Tensor'> torch.Size([64]) cuda:0\n",
      "<class 'torch.Tensor'> torch.Size([]) cuda:0\n",
      "<class 'torch.nn.parameter.Parameter'> torch.Size([64, 64, 3, 3]) cuda:0\n",
      "<class 'torch.nn.parameter.Parameter'> torch.Size([64]) cuda:0\n",
      "<class 'torch.nn.parameter.Parameter'> torch.Size([64]) cuda:0\n",
      "<class 'torch.nn.parameter.Parameter'> torch.Size([64]) cuda:0\n",
      "<class 'torch.Tensor'> torch.Size([64]) cuda:0\n",
      "<class 'torch.Tensor'> torch.Size([64]) cuda:0\n",
      "<class 'torch.Tensor'> torch.Size([]) cuda:0\n",
      "<class 'torch.nn.parameter.Parameter'> torch.Size([64, 64, 3, 3]) cuda:0\n",
      "<class 'torch.nn.parameter.Parameter'> torch.Size([64]) cuda:0\n",
      "<class 'torch.nn.parameter.Parameter'> torch.Size([64]) cuda:0\n",
      "<class 'torch.nn.parameter.Parameter'> torch.Size([64]) cuda:0\n",
      "<class 'torch.Tensor'> torch.Size([64]) cuda:0\n",
      "<class 'torch.Tensor'> torch.Size([64]) cuda:0\n",
      "<class 'torch.Tensor'> torch.Size([]) cuda:0\n",
      "<class 'torch.nn.parameter.Parameter'> torch.Size([64, 64, 3, 3]) cuda:0\n",
      "<class 'torch.nn.parameter.Parameter'> torch.Size([64]) cuda:0\n",
      "<class 'torch.nn.parameter.Parameter'> torch.Size([64]) cuda:0\n",
      "<class 'torch.nn.parameter.Parameter'> torch.Size([64]) cuda:0\n",
      "<class 'torch.Tensor'> torch.Size([64]) cuda:0\n",
      "<class 'torch.Tensor'> torch.Size([64]) cuda:0\n",
      "<class 'torch.Tensor'> torch.Size([]) cuda:0\n",
      "<class 'torch.nn.parameter.Parameter'> torch.Size([64, 64, 3, 3]) cuda:0\n",
      "<class 'torch.nn.parameter.Parameter'> torch.Size([64]) cuda:0\n",
      "<class 'torch.nn.parameter.Parameter'> torch.Size([64]) cuda:0\n",
      "<class 'torch.nn.parameter.Parameter'> torch.Size([64]) cuda:0\n",
      "<class 'torch.Tensor'> torch.Size([64]) cuda:0\n",
      "<class 'torch.Tensor'> torch.Size([64]) cuda:0\n",
      "<class 'torch.Tensor'> torch.Size([]) cuda:0\n",
      "<class 'torch.nn.parameter.Parameter'> torch.Size([64, 64, 3, 3]) cuda:0\n",
      "<class 'torch.nn.parameter.Parameter'> torch.Size([64]) cuda:0\n",
      "<class 'torch.nn.parameter.Parameter'> torch.Size([64]) cuda:0\n",
      "<class 'torch.nn.parameter.Parameter'> torch.Size([64]) cuda:0\n",
      "<class 'torch.Tensor'> torch.Size([64]) cuda:0\n",
      "<class 'torch.Tensor'> torch.Size([64]) cuda:0\n",
      "<class 'torch.Tensor'> torch.Size([]) cuda:0\n",
      "<class 'torch.nn.parameter.Parameter'> torch.Size([64, 64, 3, 3]) cuda:0\n",
      "<class 'torch.nn.parameter.Parameter'> torch.Size([64]) cuda:0\n",
      "<class 'torch.nn.parameter.Parameter'> torch.Size([64]) cuda:0\n",
      "<class 'torch.nn.parameter.Parameter'> torch.Size([64]) cuda:0\n",
      "<class 'torch.Tensor'> torch.Size([64]) cuda:0\n",
      "<class 'torch.Tensor'> torch.Size([64]) cuda:0\n",
      "<class 'torch.Tensor'> torch.Size([]) cuda:0\n",
      "<class 'torch.Tensor'> torch.Size([512, 14, 8, 8]) cuda:0\n",
      "<class 'torch.Tensor'> torch.Size([512, 2, 8, 8]) cuda:0\n",
      "<class 'torch.Tensor'> torch.Size([64]) cuda:0\n",
      "<class 'torch.nn.parameter.Parameter'> torch.Size([64, 14, 3, 3]) cuda:0\n",
      "<class 'torch.nn.parameter.Parameter'> torch.Size([64]) cuda:0\n",
      "<class 'torch.nn.parameter.Parameter'> torch.Size([128, 4096]) cuda:0\n",
      "<class 'torch.nn.parameter.Parameter'> torch.Size([128]) cuda:0\n",
      "<class 'torch.nn.parameter.Parameter'> torch.Size([64, 64, 3, 3]) cuda:0\n",
      "<class 'torch.nn.parameter.Parameter'> torch.Size([64]) cuda:0\n",
      "<class 'torch.nn.parameter.Parameter'> torch.Size([64]) cuda:0\n",
      "<class 'torch.nn.parameter.Parameter'> torch.Size([64]) cuda:0\n",
      "<class 'torch.Tensor'> torch.Size([64]) cuda:0\n",
      "<class 'torch.Tensor'> torch.Size([64]) cuda:0\n",
      "<class 'torch.Tensor'> torch.Size([]) cuda:0\n",
      "<class 'torch.nn.parameter.Parameter'> torch.Size([64, 64, 3, 3]) cuda:0\n",
      "<class 'torch.nn.parameter.Parameter'> torch.Size([64]) cuda:0\n",
      "<class 'torch.nn.parameter.Parameter'> torch.Size([64]) cuda:0\n",
      "<class 'torch.nn.parameter.Parameter'> torch.Size([64]) cuda:0\n",
      "<class 'torch.Tensor'> torch.Size([64]) cuda:0\n",
      "<class 'torch.Tensor'> torch.Size([64]) cuda:0\n",
      "<class 'torch.Tensor'> torch.Size([]) cuda:0\n",
      "<class 'torch.nn.parameter.Parameter'> torch.Size([64, 64, 3, 3]) cuda:0\n",
      "<class 'torch.nn.parameter.Parameter'> torch.Size([64]) cuda:0\n",
      "<class 'torch.nn.parameter.Parameter'> torch.Size([64]) cuda:0\n",
      "<class 'torch.nn.parameter.Parameter'> torch.Size([64]) cuda:0\n",
      "<class 'torch.Tensor'> torch.Size([64]) cuda:0\n",
      "<class 'torch.Tensor'> torch.Size([64]) cuda:0\n",
      "<class 'torch.Tensor'> torch.Size([]) cuda:0\n",
      "<class 'torch.nn.parameter.Parameter'> torch.Size([64, 64, 3, 3]) cuda:0\n",
      "<class 'torch.nn.parameter.Parameter'> torch.Size([64]) cuda:0\n",
      "<class 'torch.nn.parameter.Parameter'> torch.Size([64]) cuda:0\n",
      "<class 'torch.nn.parameter.Parameter'> torch.Size([64]) cuda:0\n",
      "<class 'torch.Tensor'> torch.Size([64]) cuda:0\n",
      "<class 'torch.Tensor'> torch.Size([64]) cuda:0\n",
      "<class 'torch.Tensor'> torch.Size([]) cuda:0\n",
      "<class 'torch.nn.parameter.Parameter'> torch.Size([64, 64, 3, 3]) cuda:0\n",
      "<class 'torch.nn.parameter.Parameter'> torch.Size([64]) cuda:0\n",
      "<class 'torch.nn.parameter.Parameter'> torch.Size([64]) cuda:0\n",
      "<class 'torch.nn.parameter.Parameter'> torch.Size([64]) cuda:0\n",
      "<class 'torch.Tensor'> torch.Size([64]) cuda:0\n",
      "<class 'torch.Tensor'> torch.Size([64]) cuda:0\n",
      "<class 'torch.Tensor'> torch.Size([]) cuda:0\n",
      "<class 'torch.nn.parameter.Parameter'> torch.Size([64, 64, 3, 3]) cuda:0\n",
      "<class 'torch.nn.parameter.Parameter'> torch.Size([64]) cuda:0\n",
      "<class 'torch.nn.parameter.Parameter'> torch.Size([64]) cuda:0\n",
      "<class 'torch.nn.parameter.Parameter'> torch.Size([64]) cuda:0\n",
      "<class 'torch.Tensor'> torch.Size([64]) cuda:0\n",
      "<class 'torch.Tensor'> torch.Size([64]) cuda:0\n",
      "<class 'torch.Tensor'> torch.Size([]) cuda:0\n",
      "<class 'torch.nn.parameter.Parameter'> torch.Size([64, 64, 3, 3]) cuda:0\n",
      "<class 'torch.nn.parameter.Parameter'> torch.Size([64]) cuda:0\n",
      "<class 'torch.nn.parameter.Parameter'> torch.Size([64]) cuda:0\n",
      "<class 'torch.nn.parameter.Parameter'> torch.Size([64]) cuda:0\n",
      "<class 'torch.Tensor'> torch.Size([64]) cuda:0\n",
      "<class 'torch.Tensor'> torch.Size([64]) cuda:0\n",
      "<class 'torch.Tensor'> torch.Size([]) cuda:0\n",
      "<class 'torch.nn.parameter.Parameter'> torch.Size([64, 64, 3, 3]) cuda:0\n",
      "<class 'torch.nn.parameter.Parameter'> torch.Size([64]) cuda:0\n",
      "<class 'torch.nn.parameter.Parameter'> torch.Size([64]) cuda:0\n",
      "<class 'torch.nn.parameter.Parameter'> torch.Size([64]) cuda:0\n",
      "<class 'torch.Tensor'> torch.Size([64]) cuda:0\n",
      "<class 'torch.Tensor'> torch.Size([64]) cuda:0\n",
      "<class 'torch.Tensor'> torch.Size([]) cuda:0\n",
      "<class 'torch.nn.parameter.Parameter'> torch.Size([64, 64, 3, 3]) cuda:0\n",
      "<class 'torch.nn.parameter.Parameter'> torch.Size([64]) cuda:0\n",
      "<class 'torch.nn.parameter.Parameter'> torch.Size([64]) cuda:0\n",
      "<class 'torch.nn.parameter.Parameter'> torch.Size([64]) cuda:0\n",
      "<class 'torch.Tensor'> torch.Size([64]) cuda:0\n",
      "<class 'torch.Tensor'> torch.Size([64]) cuda:0\n",
      "<class 'torch.Tensor'> torch.Size([]) cuda:0\n",
      "<class 'torch.nn.parameter.Parameter'> torch.Size([64, 64, 3, 3]) cuda:0\n",
      "<class 'torch.nn.parameter.Parameter'> torch.Size([64]) cuda:0\n",
      "<class 'torch.nn.parameter.Parameter'> torch.Size([64]) cuda:0\n",
      "<class 'torch.nn.parameter.Parameter'> torch.Size([64]) cuda:0\n",
      "<class 'torch.Tensor'> torch.Size([64]) cuda:0\n",
      "<class 'torch.Tensor'> torch.Size([64]) cuda:0\n",
      "<class 'torch.Tensor'> torch.Size([]) cuda:0\n",
      "<class 'torch.nn.parameter.Parameter'> torch.Size([64, 64, 3, 3]) cuda:0\n",
      "<class 'torch.nn.parameter.Parameter'> torch.Size([64]) cuda:0\n",
      "<class 'torch.nn.parameter.Parameter'> torch.Size([64]) cuda:0\n",
      "<class 'torch.nn.parameter.Parameter'> torch.Size([64]) cuda:0\n",
      "<class 'torch.Tensor'> torch.Size([64]) cuda:0\n",
      "<class 'torch.Tensor'> torch.Size([64]) cuda:0\n",
      "<class 'torch.Tensor'> torch.Size([]) cuda:0\n",
      "<class 'torch.nn.parameter.Parameter'> torch.Size([64, 64, 3, 3]) cuda:0\n",
      "<class 'torch.nn.parameter.Parameter'> torch.Size([64]) cuda:0\n",
      "<class 'torch.nn.parameter.Parameter'> torch.Size([64]) cuda:0\n",
      "<class 'torch.nn.parameter.Parameter'> torch.Size([64]) cuda:0\n",
      "<class 'torch.Tensor'> torch.Size([64]) cuda:0\n",
      "<class 'torch.Tensor'> torch.Size([64]) cuda:0\n",
      "<class 'torch.Tensor'> torch.Size([]) cuda:0\n",
      "<class 'torch.Tensor'> torch.Size([512, 14, 8, 8]) cuda:0\n",
      "<class 'torch.Tensor'> torch.Size([512, 2, 8, 8]) cuda:0\n"
     ]
    }
   ],
   "source": [
    "for _ in range(4): clear_cuda()"
   ],
   "metadata": {
    "collapsed": false,
    "ExecuteTime": {
     "end_time": "2024-04-12T17:56:04.474779Z",
     "start_time": "2024-04-12T17:55:55.119667Z"
    }
   },
   "id": "e99e721a3307a923",
   "execution_count": 126
  },
  {
   "cell_type": "code",
   "outputs": [],
   "source": [
    "del RSv1"
   ],
   "metadata": {
    "collapsed": false,
    "ExecuteTime": {
     "end_time": "2024-04-21T18:57:54.009509Z",
     "start_time": "2024-04-21T18:57:54.003524Z"
    }
   },
   "id": "4e0029868663dd9c",
   "execution_count": 39
  },
  {
   "cell_type": "code",
   "outputs": [],
   "source": [
    "del loader\n",
    "del val_data"
   ],
   "metadata": {
    "collapsed": false,
    "ExecuteTime": {
     "end_time": "2024-04-12T20:50:39.309749Z",
     "start_time": "2024-04-12T20:50:39.304767Z"
    }
   },
   "id": "620dd96bb49cfb95",
   "execution_count": 30
  },
  {
   "cell_type": "code",
   "outputs": [
    {
     "name": "stdout",
     "output_type": "stream",
     "text": [
      "cuda\n"
     ]
    }
   ],
   "source": [
    "RSv1 = GAN_1(g_conv_depth=6, d_conv_depth=6, lr=0.0002, pre_trained_g=None).to(device)"
   ],
   "metadata": {
    "ExecuteTime": {
     "end_time": "2024-04-21T18:57:58.151770Z",
     "start_time": "2024-04-21T18:57:58.129839Z"
    }
   },
   "id": "6b0cc09a",
   "execution_count": 42
  },
  {
   "cell_type": "code",
   "outputs": [],
   "source": [
    "loader, val_data = RSv1.create_dataloader(boards, meta, human_moves, B = 128, N=len(boards)-4_001, N_val=4_000) # try B = 128\n",
    "G = len(loader)"
   ],
   "metadata": {
    "collapsed": false,
    "ExecuteTime": {
     "end_time": "2024-04-21T18:22:39.206303Z",
     "start_time": "2024-04-21T18:22:34.291481Z"
    }
   },
   "id": "813dd34e6b3493d9",
   "execution_count": 22
  },
  {
   "cell_type": "code",
   "outputs": [
    {
     "data": {
      "text/plain": "0"
     },
     "execution_count": 41,
     "metadata": {},
     "output_type": "execute_result"
    }
   ],
   "source": [
    "torch.cuda.empty_cache()\n",
    "gc.collect()"
   ],
   "metadata": {
    "collapsed": false,
    "ExecuteTime": {
     "end_time": "2024-04-21T18:57:57.197298Z",
     "start_time": "2024-04-21T18:57:57.065700Z"
    }
   },
   "id": "d7a7619c0d741a1f",
   "execution_count": 41
  },
  {
   "cell_type": "code",
   "outputs": [],
   "source": [
    "RSv1.opt_g = torch.optim.Adam(RSv1.generator.parameters(), lr=0.00075, betas = (0.5, 0.999),  weight_decay=0.0)"
   ],
   "metadata": {
    "collapsed": false,
    "ExecuteTime": {
     "end_time": "2024-04-18T00:02:09.806354Z",
     "start_time": "2024-04-18T00:02:09.793344Z"
    }
   },
   "id": "7c01df55c0590460",
   "execution_count": 32
  },
  {
   "cell_type": "code",
   "outputs": [],
   "source": [
    "del RSv1.discriminator\n",
    "\n",
    "RSv1.discriminator = discriminator_1(conv_depth=4)\n",
    "RSv1.configure_optimizers(0.001)"
   ],
   "metadata": {
    "collapsed": false,
    "ExecuteTime": {
     "end_time": "2024-04-18T00:18:05.296310Z",
     "start_time": "2024-04-18T00:18:05.290809Z"
    }
   },
   "id": "ae05e0141e2312f6",
   "execution_count": 36
  },
  {
   "cell_type": "code",
   "outputs": [],
   "source": [
    "del RSv1.generator\n",
    "\n",
    "RSv1.generator = generator_1(conv_depth=6)\n",
    "RSv1.configure_optimizers(0.001)"
   ],
   "metadata": {
    "collapsed": false,
    "ExecuteTime": {
     "end_time": "2024-04-21T18:45:25.041781Z",
     "start_time": "2024-04-21T18:45:25.023842Z"
    }
   },
   "id": "4422e84a0c20287d",
   "execution_count": 32
  },
  {
   "cell_type": "code",
   "outputs": [],
   "source": [
    "train_discriminator = False\n",
    "train_all = True\n",
    "train_generator = False"
   ],
   "metadata": {
    "collapsed": false,
    "ExecuteTime": {
     "end_time": "2024-04-21T18:22:39.848411Z",
     "start_time": "2024-04-21T18:22:39.833457Z"
    }
   },
   "id": "2eb6651643a9eb0b",
   "execution_count": 24
  },
  {
   "cell_type": "code",
   "outputs": [
    {
     "data": {
      "text/plain": "True"
     },
     "execution_count": 25,
     "metadata": {},
     "output_type": "execute_result"
    }
   ],
   "source": [
    "r_bound, f_bound = 0.75,0.7\n",
    "not (RSv1.logs['d_acc_f'][-1] > f_bound and RSv1.logs['d_acc_r'][-1] > r_bound)"
   ],
   "metadata": {
    "collapsed": false,
    "ExecuteTime": {
     "end_time": "2024-04-21T18:22:39.864357Z",
     "start_time": "2024-04-21T18:22:39.849403Z"
    }
   },
   "id": "e66ef50aff6d08d6",
   "execution_count": 25
  },
  {
   "cell_type": "code",
   "outputs": [],
   "source": [
    "save_thresh = 0"
   ],
   "metadata": {
    "collapsed": false,
    "ExecuteTime": {
     "end_time": "2024-04-21T18:22:39.880258Z",
     "start_time": "2024-04-21T18:22:39.865352Z"
    }
   },
   "id": "d8d8dc6ba5615510",
   "execution_count": 26
  },
  {
   "cell_type": "code",
   "outputs": [
    {
     "name": "stderr",
     "output_type": "stream",
     "text": [
      " 50%|█████     | 3710/7418 [01:03<01:03, 58.41it/s]\n"
     ]
    },
    {
     "name": "stdout",
     "output_type": "stream",
     "text": [
      "Discriminator Training\n",
      "Epoch 1 with g_loss: 0.0 and d_loss: 0.01984932302100059\n",
      "Epoch: 1, g_acc=0.0012499999720603228, d_acc_f=0.9979999959468842, d_acc_r=0.9957499817013741\n",
      "d_dist_f=0.0029053444042801855, d_dist_r=0.0051368772983551025\n"
     ]
    },
    {
     "name": "stderr",
     "output_type": "stream",
     "text": [
      "100%|██████████| 7418/7418 [01:47<00:00, 69.03it/s]\n"
     ]
    },
    {
     "name": "stdout",
     "output_type": "stream",
     "text": [
      "Generator Training\n",
      "Epoch 1 with g_loss: -0.1935240814132083 and d_loss: 0.0\n",
      "Epoch: 1, g_acc=0.0, d_acc_f=0.46899998709559443, d_acc_r=0.9957499817013741\n",
      "d_dist_f=0.5233109951019287, d_dist_r=0.0051368772983551025\n"
     ]
    },
    {
     "name": "stderr",
     "output_type": "stream",
     "text": [
      " 50%|█████     | 3710/7418 [01:02<01:02, 59.34it/s]\n"
     ]
    },
    {
     "name": "stdout",
     "output_type": "stream",
     "text": [
      "Discriminator Training\n",
      "Epoch 2 with g_loss: 0.0 and d_loss: 0.020383594635012516\n",
      "Epoch: 2, g_acc=0.0, d_acc_f=0.9974999919533729, d_acc_r=0.9979999914765358\n",
      "d_dist_f=0.0030429648235440255, d_dist_r=0.0041373327374458315\n"
     ]
    },
    {
     "name": "stderr",
     "output_type": "stream",
     "text": [
      "100%|██████████| 7418/7418 [01:48<00:00, 68.62it/s]\n"
     ]
    },
    {
     "name": "stdout",
     "output_type": "stream",
     "text": [
      "Generator Training\n",
      "Epoch 2 with g_loss: -0.00418573184682164 and d_loss: 0.0\n",
      "Epoch: 2, g_acc=0.0, d_acc_f=0.9992499962449074, d_acc_r=0.9979999914765358\n",
      "d_dist_f=0.0009851831942796706, d_dist_r=0.0041373327374458315\n"
     ]
    },
    {
     "name": "stderr",
     "output_type": "stream",
     "text": [
      "100%|██████████| 7418/7418 [01:48<00:00, 68.50it/s]\n"
     ]
    },
    {
     "name": "stdout",
     "output_type": "stream",
     "text": [
      "Generator Training\n",
      "Epoch 2 with g_loss: -0.002451480722255028 and d_loss: 0.0\n",
      "Epoch: 2, g_acc=0.0, d_acc_f=1.0, d_acc_r=0.9979999914765358\n",
      "d_dist_f=0.0003872070461511612, d_dist_r=0.0041373327374458315\n"
     ]
    },
    {
     "name": "stderr",
     "output_type": "stream",
     "text": [
      " 20%|██        | 1519/7418 [00:22<01:28, 66.79it/s]\n"
     ]
    },
    {
     "ename": "KeyboardInterrupt",
     "evalue": "",
     "output_type": "error",
     "traceback": [
      "\u001B[1;31m---------------------------------------------------------------------------\u001B[0m",
      "\u001B[1;31mKeyboardInterrupt\u001B[0m                         Traceback (most recent call last)",
      "Input \u001B[1;32mIn [43]\u001B[0m, in \u001B[0;36m<cell line: 2>\u001B[1;34m()\u001B[0m\n\u001B[0;32m     48\u001B[0m     \u001B[38;5;28;01mif\u001B[39;00m i \u001B[38;5;241m>\u001B[39m G \u001B[38;5;241m/\u001B[39m\u001B[38;5;241m/\u001B[39m \u001B[38;5;241m1\u001B[39m:\n\u001B[0;32m     49\u001B[0m        \u001B[38;5;28;01mbreak\u001B[39;00m\n\u001B[1;32m---> 51\u001B[0m     \u001B[43mRSv1\u001B[49m\u001B[38;5;241;43m.\u001B[39;49m\u001B[43mtrain_step\u001B[49m\u001B[43m(\u001B[49m\u001B[43mbitboards\u001B[49m\u001B[43m,\u001B[49m\u001B[43m \u001B[49m\u001B[43mmvs\u001B[49m\u001B[43m,\u001B[49m\u001B[43m \u001B[49m\u001B[43mtrain_generator\u001B[49m\u001B[38;5;241;43m=\u001B[39;49m\u001B[38;5;28;43;01mTrue\u001B[39;49;00m\u001B[43m)\u001B[49m\n\u001B[0;32m     52\u001B[0m     i \u001B[38;5;241m+\u001B[39m\u001B[38;5;241m=\u001B[39m \u001B[38;5;241m1\u001B[39m\n\u001B[0;32m     54\u001B[0m \u001B[38;5;28mprint\u001B[39m(\u001B[38;5;124m'\u001B[39m\u001B[38;5;124mGenerator Training\u001B[39m\u001B[38;5;124m'\u001B[39m)\n",
      "Input \u001B[1;32mIn [38]\u001B[0m, in \u001B[0;36mGAN_1.train_step\u001B[1;34m(self, train_boards, real_moves, train_generator, prev_generator)\u001B[0m\n\u001B[0;32m     82\u001B[0m \u001B[38;5;28mself\u001B[39m\u001B[38;5;241m.\u001B[39mdiscriminator\u001B[38;5;241m.\u001B[39meval()\n\u001B[0;32m     84\u001B[0m \u001B[38;5;28mself\u001B[39m\u001B[38;5;241m.\u001B[39mopt_g\u001B[38;5;241m.\u001B[39mzero_grad()\n\u001B[1;32m---> 86\u001B[0m fake_moves \u001B[38;5;241m=\u001B[39m \u001B[38;5;28;43mself\u001B[39;49m\u001B[43m(\u001B[49m\u001B[43mtrain_boards\u001B[49m\u001B[43m)\u001B[49m\n\u001B[0;32m     88\u001B[0m \u001B[38;5;28;01mif\u001B[39;00m \u001B[38;5;28mself\u001B[39m\u001B[38;5;241m.\u001B[39mpre_trained:\n\u001B[0;32m     90\u001B[0m     fake_moves \u001B[38;5;241m=\u001B[39m F\u001B[38;5;241m.\u001B[39msoftmax(fake_moves[\u001B[38;5;241m0\u001B[39m], dim\u001B[38;5;241m=\u001B[39m\u001B[38;5;241m1\u001B[39m), F\u001B[38;5;241m.\u001B[39msoftmax(fake_moves[\u001B[38;5;241m1\u001B[39m], dim\u001B[38;5;241m=\u001B[39m\u001B[38;5;241m1\u001B[39m)\n",
      "File \u001B[1;32m~\\anaconda3\\lib\\site-packages\\torch\\nn\\modules\\module.py:1511\u001B[0m, in \u001B[0;36mModule._wrapped_call_impl\u001B[1;34m(self, *args, **kwargs)\u001B[0m\n\u001B[0;32m   1509\u001B[0m     \u001B[38;5;28;01mreturn\u001B[39;00m \u001B[38;5;28mself\u001B[39m\u001B[38;5;241m.\u001B[39m_compiled_call_impl(\u001B[38;5;241m*\u001B[39margs, \u001B[38;5;241m*\u001B[39m\u001B[38;5;241m*\u001B[39mkwargs)  \u001B[38;5;66;03m# type: ignore[misc]\u001B[39;00m\n\u001B[0;32m   1510\u001B[0m \u001B[38;5;28;01melse\u001B[39;00m:\n\u001B[1;32m-> 1511\u001B[0m     \u001B[38;5;28;01mreturn\u001B[39;00m \u001B[38;5;28mself\u001B[39m\u001B[38;5;241m.\u001B[39m_call_impl(\u001B[38;5;241m*\u001B[39margs, \u001B[38;5;241m*\u001B[39m\u001B[38;5;241m*\u001B[39mkwargs)\n",
      "File \u001B[1;32m~\\anaconda3\\lib\\site-packages\\torch\\nn\\modules\\module.py:1520\u001B[0m, in \u001B[0;36mModule._call_impl\u001B[1;34m(self, *args, **kwargs)\u001B[0m\n\u001B[0;32m   1515\u001B[0m \u001B[38;5;66;03m# If we don't have any hooks, we want to skip the rest of the logic in\u001B[39;00m\n\u001B[0;32m   1516\u001B[0m \u001B[38;5;66;03m# this function, and just call forward.\u001B[39;00m\n\u001B[0;32m   1517\u001B[0m \u001B[38;5;28;01mif\u001B[39;00m \u001B[38;5;129;01mnot\u001B[39;00m (\u001B[38;5;28mself\u001B[39m\u001B[38;5;241m.\u001B[39m_backward_hooks \u001B[38;5;129;01mor\u001B[39;00m \u001B[38;5;28mself\u001B[39m\u001B[38;5;241m.\u001B[39m_backward_pre_hooks \u001B[38;5;129;01mor\u001B[39;00m \u001B[38;5;28mself\u001B[39m\u001B[38;5;241m.\u001B[39m_forward_hooks \u001B[38;5;129;01mor\u001B[39;00m \u001B[38;5;28mself\u001B[39m\u001B[38;5;241m.\u001B[39m_forward_pre_hooks\n\u001B[0;32m   1518\u001B[0m         \u001B[38;5;129;01mor\u001B[39;00m _global_backward_pre_hooks \u001B[38;5;129;01mor\u001B[39;00m _global_backward_hooks\n\u001B[0;32m   1519\u001B[0m         \u001B[38;5;129;01mor\u001B[39;00m _global_forward_hooks \u001B[38;5;129;01mor\u001B[39;00m _global_forward_pre_hooks):\n\u001B[1;32m-> 1520\u001B[0m     \u001B[38;5;28;01mreturn\u001B[39;00m forward_call(\u001B[38;5;241m*\u001B[39margs, \u001B[38;5;241m*\u001B[39m\u001B[38;5;241m*\u001B[39mkwargs)\n\u001B[0;32m   1522\u001B[0m \u001B[38;5;28;01mtry\u001B[39;00m:\n\u001B[0;32m   1523\u001B[0m     result \u001B[38;5;241m=\u001B[39m \u001B[38;5;28;01mNone\u001B[39;00m\n",
      "Input \u001B[1;32mIn [38]\u001B[0m, in \u001B[0;36mGAN_1.forward\u001B[1;34m(self, x)\u001B[0m\n\u001B[0;32m     36\u001B[0m \u001B[38;5;28;01mdef\u001B[39;00m \u001B[38;5;21mforward\u001B[39m(\u001B[38;5;28mself\u001B[39m, x):\n\u001B[1;32m---> 37\u001B[0m     \u001B[38;5;28;01mreturn\u001B[39;00m \u001B[38;5;28;43mself\u001B[39;49m\u001B[38;5;241;43m.\u001B[39;49m\u001B[43mgenerator\u001B[49m\u001B[43m(\u001B[49m\u001B[43mx\u001B[49m\u001B[43m)\u001B[49m\n",
      "File \u001B[1;32m~\\anaconda3\\lib\\site-packages\\torch\\nn\\modules\\module.py:1511\u001B[0m, in \u001B[0;36mModule._wrapped_call_impl\u001B[1;34m(self, *args, **kwargs)\u001B[0m\n\u001B[0;32m   1509\u001B[0m     \u001B[38;5;28;01mreturn\u001B[39;00m \u001B[38;5;28mself\u001B[39m\u001B[38;5;241m.\u001B[39m_compiled_call_impl(\u001B[38;5;241m*\u001B[39margs, \u001B[38;5;241m*\u001B[39m\u001B[38;5;241m*\u001B[39mkwargs)  \u001B[38;5;66;03m# type: ignore[misc]\u001B[39;00m\n\u001B[0;32m   1510\u001B[0m \u001B[38;5;28;01melse\u001B[39;00m:\n\u001B[1;32m-> 1511\u001B[0m     \u001B[38;5;28;01mreturn\u001B[39;00m \u001B[38;5;28mself\u001B[39m\u001B[38;5;241m.\u001B[39m_call_impl(\u001B[38;5;241m*\u001B[39margs, \u001B[38;5;241m*\u001B[39m\u001B[38;5;241m*\u001B[39mkwargs)\n",
      "File \u001B[1;32m~\\anaconda3\\lib\\site-packages\\torch\\nn\\modules\\module.py:1520\u001B[0m, in \u001B[0;36mModule._call_impl\u001B[1;34m(self, *args, **kwargs)\u001B[0m\n\u001B[0;32m   1515\u001B[0m \u001B[38;5;66;03m# If we don't have any hooks, we want to skip the rest of the logic in\u001B[39;00m\n\u001B[0;32m   1516\u001B[0m \u001B[38;5;66;03m# this function, and just call forward.\u001B[39;00m\n\u001B[0;32m   1517\u001B[0m \u001B[38;5;28;01mif\u001B[39;00m \u001B[38;5;129;01mnot\u001B[39;00m (\u001B[38;5;28mself\u001B[39m\u001B[38;5;241m.\u001B[39m_backward_hooks \u001B[38;5;129;01mor\u001B[39;00m \u001B[38;5;28mself\u001B[39m\u001B[38;5;241m.\u001B[39m_backward_pre_hooks \u001B[38;5;129;01mor\u001B[39;00m \u001B[38;5;28mself\u001B[39m\u001B[38;5;241m.\u001B[39m_forward_hooks \u001B[38;5;129;01mor\u001B[39;00m \u001B[38;5;28mself\u001B[39m\u001B[38;5;241m.\u001B[39m_forward_pre_hooks\n\u001B[0;32m   1518\u001B[0m         \u001B[38;5;129;01mor\u001B[39;00m _global_backward_pre_hooks \u001B[38;5;129;01mor\u001B[39;00m _global_backward_hooks\n\u001B[0;32m   1519\u001B[0m         \u001B[38;5;129;01mor\u001B[39;00m _global_forward_hooks \u001B[38;5;129;01mor\u001B[39;00m _global_forward_pre_hooks):\n\u001B[1;32m-> 1520\u001B[0m     \u001B[38;5;28;01mreturn\u001B[39;00m forward_call(\u001B[38;5;241m*\u001B[39margs, \u001B[38;5;241m*\u001B[39m\u001B[38;5;241m*\u001B[39mkwargs)\n\u001B[0;32m   1522\u001B[0m \u001B[38;5;28;01mtry\u001B[39;00m:\n\u001B[0;32m   1523\u001B[0m     result \u001B[38;5;241m=\u001B[39m \u001B[38;5;28;01mNone\u001B[39;00m\n",
      "Input \u001B[1;32mIn [7]\u001B[0m, in \u001B[0;36mgenerator_1.forward\u001B[1;34m(self, x)\u001B[0m\n\u001B[0;32m     25\u001B[0m j \u001B[38;5;241m=\u001B[39m i\u001B[38;5;241m*\u001B[39m\u001B[38;5;241m2\u001B[39m\n\u001B[0;32m     26\u001B[0m ph \u001B[38;5;241m=\u001B[39m x\u001B[38;5;241m.\u001B[39mclone()\n\u001B[1;32m---> 27\u001B[0m ph \u001B[38;5;241m=\u001B[39m \u001B[38;5;28;43mself\u001B[39;49m\u001B[38;5;241;43m.\u001B[39;49m\u001B[43mconv_layers\u001B[49m\u001B[43m[\u001B[49m\u001B[43mj\u001B[49m\u001B[43m]\u001B[49m\u001B[43m(\u001B[49m\u001B[43mph\u001B[49m\u001B[43m)\u001B[49m\n\u001B[0;32m     28\u001B[0m \u001B[38;5;66;03m#ph = self.conv_layers[j+1](ph)\u001B[39;00m\n\u001B[0;32m     29\u001B[0m ph \u001B[38;5;241m=\u001B[39m F\u001B[38;5;241m.\u001B[39mrelu(ph)\n",
      "File \u001B[1;32m~\\anaconda3\\lib\\site-packages\\torch\\nn\\modules\\module.py:1511\u001B[0m, in \u001B[0;36mModule._wrapped_call_impl\u001B[1;34m(self, *args, **kwargs)\u001B[0m\n\u001B[0;32m   1509\u001B[0m     \u001B[38;5;28;01mreturn\u001B[39;00m \u001B[38;5;28mself\u001B[39m\u001B[38;5;241m.\u001B[39m_compiled_call_impl(\u001B[38;5;241m*\u001B[39margs, \u001B[38;5;241m*\u001B[39m\u001B[38;5;241m*\u001B[39mkwargs)  \u001B[38;5;66;03m# type: ignore[misc]\u001B[39;00m\n\u001B[0;32m   1510\u001B[0m \u001B[38;5;28;01melse\u001B[39;00m:\n\u001B[1;32m-> 1511\u001B[0m     \u001B[38;5;28;01mreturn\u001B[39;00m \u001B[38;5;28mself\u001B[39m\u001B[38;5;241m.\u001B[39m_call_impl(\u001B[38;5;241m*\u001B[39margs, \u001B[38;5;241m*\u001B[39m\u001B[38;5;241m*\u001B[39mkwargs)\n",
      "File \u001B[1;32m~\\anaconda3\\lib\\site-packages\\torch\\nn\\modules\\module.py:1520\u001B[0m, in \u001B[0;36mModule._call_impl\u001B[1;34m(self, *args, **kwargs)\u001B[0m\n\u001B[0;32m   1515\u001B[0m \u001B[38;5;66;03m# If we don't have any hooks, we want to skip the rest of the logic in\u001B[39;00m\n\u001B[0;32m   1516\u001B[0m \u001B[38;5;66;03m# this function, and just call forward.\u001B[39;00m\n\u001B[0;32m   1517\u001B[0m \u001B[38;5;28;01mif\u001B[39;00m \u001B[38;5;129;01mnot\u001B[39;00m (\u001B[38;5;28mself\u001B[39m\u001B[38;5;241m.\u001B[39m_backward_hooks \u001B[38;5;129;01mor\u001B[39;00m \u001B[38;5;28mself\u001B[39m\u001B[38;5;241m.\u001B[39m_backward_pre_hooks \u001B[38;5;129;01mor\u001B[39;00m \u001B[38;5;28mself\u001B[39m\u001B[38;5;241m.\u001B[39m_forward_hooks \u001B[38;5;129;01mor\u001B[39;00m \u001B[38;5;28mself\u001B[39m\u001B[38;5;241m.\u001B[39m_forward_pre_hooks\n\u001B[0;32m   1518\u001B[0m         \u001B[38;5;129;01mor\u001B[39;00m _global_backward_pre_hooks \u001B[38;5;129;01mor\u001B[39;00m _global_backward_hooks\n\u001B[0;32m   1519\u001B[0m         \u001B[38;5;129;01mor\u001B[39;00m _global_forward_hooks \u001B[38;5;129;01mor\u001B[39;00m _global_forward_pre_hooks):\n\u001B[1;32m-> 1520\u001B[0m     \u001B[38;5;28;01mreturn\u001B[39;00m forward_call(\u001B[38;5;241m*\u001B[39margs, \u001B[38;5;241m*\u001B[39m\u001B[38;5;241m*\u001B[39mkwargs)\n\u001B[0;32m   1522\u001B[0m \u001B[38;5;28;01mtry\u001B[39;00m:\n\u001B[0;32m   1523\u001B[0m     result \u001B[38;5;241m=\u001B[39m \u001B[38;5;28;01mNone\u001B[39;00m\n",
      "File \u001B[1;32m~\\anaconda3\\lib\\site-packages\\torch\\nn\\modules\\conv.py:460\u001B[0m, in \u001B[0;36mConv2d.forward\u001B[1;34m(self, input)\u001B[0m\n\u001B[0;32m    459\u001B[0m \u001B[38;5;28;01mdef\u001B[39;00m \u001B[38;5;21mforward\u001B[39m(\u001B[38;5;28mself\u001B[39m, \u001B[38;5;28minput\u001B[39m: Tensor) \u001B[38;5;241m-\u001B[39m\u001B[38;5;241m>\u001B[39m Tensor:\n\u001B[1;32m--> 460\u001B[0m     \u001B[38;5;28;01mreturn\u001B[39;00m \u001B[38;5;28;43mself\u001B[39;49m\u001B[38;5;241;43m.\u001B[39;49m\u001B[43m_conv_forward\u001B[49m\u001B[43m(\u001B[49m\u001B[38;5;28;43minput\u001B[39;49m\u001B[43m,\u001B[49m\u001B[43m \u001B[49m\u001B[38;5;28;43mself\u001B[39;49m\u001B[38;5;241;43m.\u001B[39;49m\u001B[43mweight\u001B[49m\u001B[43m,\u001B[49m\u001B[43m \u001B[49m\u001B[38;5;28;43mself\u001B[39;49m\u001B[38;5;241;43m.\u001B[39;49m\u001B[43mbias\u001B[49m\u001B[43m)\u001B[49m\n",
      "File \u001B[1;32m~\\anaconda3\\lib\\site-packages\\torch\\nn\\modules\\conv.py:456\u001B[0m, in \u001B[0;36mConv2d._conv_forward\u001B[1;34m(self, input, weight, bias)\u001B[0m\n\u001B[0;32m    452\u001B[0m \u001B[38;5;28;01mif\u001B[39;00m \u001B[38;5;28mself\u001B[39m\u001B[38;5;241m.\u001B[39mpadding_mode \u001B[38;5;241m!=\u001B[39m \u001B[38;5;124m'\u001B[39m\u001B[38;5;124mzeros\u001B[39m\u001B[38;5;124m'\u001B[39m:\n\u001B[0;32m    453\u001B[0m     \u001B[38;5;28;01mreturn\u001B[39;00m F\u001B[38;5;241m.\u001B[39mconv2d(F\u001B[38;5;241m.\u001B[39mpad(\u001B[38;5;28minput\u001B[39m, \u001B[38;5;28mself\u001B[39m\u001B[38;5;241m.\u001B[39m_reversed_padding_repeated_twice, mode\u001B[38;5;241m=\u001B[39m\u001B[38;5;28mself\u001B[39m\u001B[38;5;241m.\u001B[39mpadding_mode),\n\u001B[0;32m    454\u001B[0m                     weight, bias, \u001B[38;5;28mself\u001B[39m\u001B[38;5;241m.\u001B[39mstride,\n\u001B[0;32m    455\u001B[0m                     _pair(\u001B[38;5;241m0\u001B[39m), \u001B[38;5;28mself\u001B[39m\u001B[38;5;241m.\u001B[39mdilation, \u001B[38;5;28mself\u001B[39m\u001B[38;5;241m.\u001B[39mgroups)\n\u001B[1;32m--> 456\u001B[0m \u001B[38;5;28;01mreturn\u001B[39;00m \u001B[43mF\u001B[49m\u001B[38;5;241;43m.\u001B[39;49m\u001B[43mconv2d\u001B[49m\u001B[43m(\u001B[49m\u001B[38;5;28;43minput\u001B[39;49m\u001B[43m,\u001B[49m\u001B[43m \u001B[49m\u001B[43mweight\u001B[49m\u001B[43m,\u001B[49m\u001B[43m \u001B[49m\u001B[43mbias\u001B[49m\u001B[43m,\u001B[49m\u001B[43m \u001B[49m\u001B[38;5;28;43mself\u001B[39;49m\u001B[38;5;241;43m.\u001B[39;49m\u001B[43mstride\u001B[49m\u001B[43m,\u001B[49m\n\u001B[0;32m    457\u001B[0m \u001B[43m                \u001B[49m\u001B[38;5;28;43mself\u001B[39;49m\u001B[38;5;241;43m.\u001B[39;49m\u001B[43mpadding\u001B[49m\u001B[43m,\u001B[49m\u001B[43m \u001B[49m\u001B[38;5;28;43mself\u001B[39;49m\u001B[38;5;241;43m.\u001B[39;49m\u001B[43mdilation\u001B[49m\u001B[43m,\u001B[49m\u001B[43m \u001B[49m\u001B[38;5;28;43mself\u001B[39;49m\u001B[38;5;241;43m.\u001B[39;49m\u001B[43mgroups\u001B[49m\u001B[43m)\u001B[49m\n",
      "\u001B[1;31mKeyboardInterrupt\u001B[0m: "
     ]
    }
   ],
   "source": [
    "prefix = \"BasicGAN\"\n",
    "for epoch in range(0,50):\n",
    "\n",
    "    reps = 0\n",
    "\n",
    "    if train_all or train_discriminator:\n",
    "        prev_generator = None\n",
    "\n",
    "        if epoch > RSv1.save_every + 1 and not (RSv1.logs['d_acc_f'][-1] > f_bound and RSv1.logs['d_acc_r'][-1] > r_bound):\n",
    "            choice = np.random.choice(np.arange(start=RSv1.save_every, stop= (epoch//(RSv1.save_every+1) * RSv1.save_every)+1, step = RSv1.save_every))\n",
    "\n",
    "            prev_generator = torch.load(f'{prefix}-generator {choice}.pt', map_location= device)\n",
    "    \n",
    "        while not (RSv1.logs['d_acc_f'][-1] > f_bound and RSv1.logs['d_acc_r'][-1] > r_bound):\n",
    "            \n",
    "            reps += 1\n",
    "            if reps > 20:\n",
    "                train_all = False\n",
    "                train_discriminator = False\n",
    "                train_generator = False\n",
    "                break\n",
    "\n",
    "            i=0\n",
    "            \n",
    "            for bitboards, mvs in tqdm(loader):\n",
    "                if i > G // 2:\n",
    "                    break\n",
    "                RSv1.train_step(bitboards, mvs, train_generator=False, prev_generator=prev_generator)\n",
    "                i += 1\n",
    "\n",
    "            print('Discriminator Training')\n",
    "            RSv1.on_epoch_end(epoch, G,  prefix, val_data)\n",
    "\n",
    "\n",
    "    reps = 0\n",
    "    if train_all or train_generator:\n",
    "        while (RSv1.logs['d_acc_f'][-1] > f_bound and RSv1.logs['d_acc_r'][-1] > r_bound):\n",
    "            reps += 1\n",
    "            if reps > 20:\n",
    "                train_all = False\n",
    "                train_generator = False\n",
    "                train_discriminator = False\n",
    "                break\n",
    "\n",
    "            i=0\n",
    "            for bitboards, mvs in tqdm(loader):\n",
    "\n",
    "                if i > G // 1:\n",
    "                   break\n",
    "\n",
    "                RSv1.train_step(bitboards, mvs, train_generator=True)\n",
    "                i += 1\n",
    "            \n",
    "            print('Generator Training')\n",
    "            RSv1.on_epoch_end(epoch, G,  prefix,  val_data)\n",
    "            \n",
    "            if RSv1.logs[\"g_acc\"][-1] > save_thresh:\n",
    "                save_thresh = RSv1.logs[\"g_acc\"][-1]\n",
    "                torch.save(RSv1.generator, f\"StockGAN_RDv2_acc{save_thresh}.pt\")\n",
    "            \n",
    "        "
   ],
   "metadata": {
    "collapsed": false,
    "ExecuteTime": {
     "end_time": "2024-04-21T19:05:54.666263Z",
     "start_time": "2024-04-21T18:58:00.623354Z"
    }
   },
   "id": "68ecb55a7a2f10f5",
   "execution_count": 43
  },
  {
   "cell_type": "code",
   "outputs": [
    {
     "name": "stdout",
     "output_type": "stream",
     "text": [
      "Epoch 3 with g_loss: 0.0 and d_loss: 0.0\n"
     ]
    }
   ],
   "source": [
    "RSv1.on_epoch_end(2, G,  \"BasicGAN\", None)"
   ],
   "metadata": {
    "collapsed": false,
    "ExecuteTime": {
     "end_time": "2024-04-18T00:00:01.714356Z",
     "start_time": "2024-04-18T00:00:01.685098Z"
    }
   },
   "id": "ac47942caba40169",
   "execution_count": 27
  },
  {
   "cell_type": "code",
   "outputs": [],
   "source": [
    "pd.DataFrame.from_dict(RSv1.logs).to_csv('Results/StockGAN-RDv2.csv', index = None)"
   ],
   "metadata": {
    "collapsed": false,
    "ExecuteTime": {
     "end_time": "2024-04-21T17:34:43.727879Z",
     "start_time": "2024-04-21T17:34:43.688445Z"
    }
   },
   "id": "8c7093e9da4664ce",
   "execution_count": 25
  },
  {
   "cell_type": "code",
   "outputs": [],
   "source": [
    "old_generator = torch.load(\"Models/RDv2.3 CB.pt\", map_location= device)\n",
    "RSv1.generator = torch.load(\"StockGAN_RDv2_acc0.39400000000000013.pt\", map_location=device)"
   ],
   "metadata": {
    "collapsed": false,
    "ExecuteTime": {
     "end_time": "2024-04-21T17:35:57.319703Z",
     "start_time": "2024-04-21T17:35:57.195986Z"
    }
   },
   "id": "2aa444e6c058731b",
   "execution_count": 26
  },
  {
   "cell_type": "code",
   "outputs": [],
   "source": [
    "old_generator_model = lambda x: network_agent_prob_conv(x, lambda y: old_generator(y))\n",
    "generator_model = lambda x: network_agent_prob_conv(x, lambda y: RSv1(y))\n",
    "#generator_model = lambda x: network_agent_prob_conv(x, lambda y: (RSv1.generator(y).view(-1,128)))"
   ],
   "metadata": {
    "collapsed": false,
    "ExecuteTime": {
     "end_time": "2024-04-21T17:36:27.090131Z",
     "start_time": "2024-04-21T17:36:27.070116Z"
    }
   },
   "id": "30a042950898223c",
   "execution_count": 28
  },
  {
   "cell_type": "code",
   "outputs": [
    {
     "name": "stderr",
     "output_type": "stream",
     "text": [
      "100%|██████████| 250/250 [02:04<00:00,  2.01it/s]\n",
      "100%|██████████| 250/250 [01:58<00:00,  2.10it/s]\n"
     ]
    },
    {
     "data": {
      "text/plain": "(61, 358, 81, 0.122)"
     },
     "execution_count": 30,
     "metadata": {},
     "output_type": "execute_result"
    }
   ],
   "source": [
    "test_against(old_generator_model, generator_model, N=500, unique=True)"
   ],
   "metadata": {
    "ExecuteTime": {
     "end_time": "2024-04-21T17:47:36.361078Z",
     "start_time": "2024-04-21T17:43:32.987292Z"
    }
   },
   "id": "aa4d829c",
   "execution_count": 30
  },
  {
   "cell_type": "code",
   "outputs": [
    {
     "data": {
      "text/plain": "tensor(0.0005, grad_fn=<MeanBackward0>)"
     },
     "execution_count": 28,
     "metadata": {},
     "output_type": "execute_result"
    }
   ],
   "source": [
    "fake_moves = test_gen(val_data.bitboards)\n",
    "\n",
    "fake_moves = F.softmax(fake_moves[0], dim=1), F.softmax(fake_moves[1], dim=1)\n",
    "fake_moves = torch.cat(fake_moves,dim=1).view(-1,2,8,8).detach()\n",
    "\n",
    "torch.mean(test_disc(val_data.bitboards, fake_moves))"
   ],
   "metadata": {
    "collapsed": false,
    "ExecuteTime": {
     "end_time": "2024-04-10T14:46:10.415520Z",
     "start_time": "2024-04-10T14:46:10.209158Z"
    }
   },
   "id": "b70ad01c0b8d0347",
   "execution_count": 28
  },
  {
   "cell_type": "code",
   "outputs": [],
   "source": [
    "test_gen = torch.load(\"Models/RDv2.3 CB.pt\", map_location=device)"
   ],
   "metadata": {
    "collapsed": false,
    "ExecuteTime": {
     "end_time": "2024-04-10T21:27:17.388711Z",
     "start_time": "2024-04-10T21:27:17.352407Z"
    }
   },
   "id": "d053853b7b8f8332",
   "execution_count": 76
  },
  {
   "cell_type": "code",
   "outputs": [
    {
     "name": "stdout",
     "output_type": "stream",
     "text": [
      "tensor([[[0., 0., 0., 0., 0., 0., 0., 0.],\n",
      "         [0., 0., 0., 0., 1., 0., 0., 0.],\n",
      "         [0., 0., 0., 0., 0., 0., 0., 0.],\n",
      "         [0., 0., 0., 0., 0., 0., 0., 0.],\n",
      "         [0., 0., 0., 0., 0., 0., 0., 0.],\n",
      "         [0., 0., 0., 0., 0., 0., 0., 0.],\n",
      "         [0., 0., 0., 0., 0., 0., 0., 0.],\n",
      "         [0., 0., 0., 0., 0., 0., 0., 0.]],\n",
      "\n",
      "        [[0., 0., 0., 0., 0., 0., 0., 0.],\n",
      "         [0., 0., 0., 0., 0., 0., 0., 0.],\n",
      "         [0., 0., 0., 0., 0., 0., 0., 0.],\n",
      "         [0., 0., 0., 0., 0., 0., 0., 0.],\n",
      "         [0., 0., 0., 0., 1., 0., 0., 0.],\n",
      "         [0., 0., 0., 0., 0., 0., 0., 0.],\n",
      "         [0., 0., 0., 0., 0., 0., 0., 0.],\n",
      "         [0., 0., 0., 0., 0., 0., 0., 0.]]])\n"
     ]
    }
   ],
   "source": [
    "fake_moves = RSv1(val_data.bitboards[:100])\n",
    "\n",
    "fake_moves = F.softmax(fake_moves[0], dim=1), F.softmax(fake_moves[1], dim=1)\n",
    "fake_moves = RSv1.diffable_argmax_moves(torch.cat(fake_moves,dim=1)).view(-1,2,8,8).detach()\n",
    "print(fake_moves[0])"
   ],
   "metadata": {
    "collapsed": false,
    "ExecuteTime": {
     "end_time": "2024-04-12T18:27:43.396185Z",
     "start_time": "2024-04-12T18:27:43.362596Z"
    }
   },
   "id": "f3ef8c313939e0e3",
   "execution_count": 21
  },
  {
   "cell_type": "code",
   "outputs": [
    {
     "ename": "TypeError",
     "evalue": "eval() takes 1 positional argument but 2 were given",
     "output_type": "error",
     "traceback": [
      "\u001B[1;31m---------------------------------------------------------------------------\u001B[0m",
      "\u001B[1;31mTypeError\u001B[0m                                 Traceback (most recent call last)",
      "Input \u001B[1;32mIn [61]\u001B[0m, in \u001B[0;36m<cell line: 1>\u001B[1;34m()\u001B[0m\n\u001B[1;32m----> 1\u001B[0m \u001B[43mRSv1\u001B[49m\u001B[38;5;241;43m.\u001B[39;49m\u001B[43mdiscriminator\u001B[49m\u001B[38;5;241;43m.\u001B[39;49m\u001B[43meval\u001B[49m\u001B[43m(\u001B[49m\u001B[43m(\u001B[49m\u001B[43mval_data\u001B[49m\u001B[38;5;241;43m.\u001B[39;49m\u001B[43mbitboards\u001B[49m\u001B[43m[\u001B[49m\u001B[38;5;241;43m0\u001B[39;49m\u001B[43m:\u001B[49m\u001B[38;5;241;43m1\u001B[39;49m\u001B[43m]\u001B[49m\u001B[43m,\u001B[49m\u001B[43m \u001B[49m\u001B[43mfake_moves\u001B[49m\u001B[43m[\u001B[49m\u001B[38;5;241;43m0\u001B[39;49m\u001B[43m:\u001B[49m\u001B[38;5;241;43m1\u001B[39;49m\u001B[43m]\u001B[49m\u001B[43m)\u001B[49m\u001B[43m)\u001B[49m\n",
      "\u001B[1;31mTypeError\u001B[0m: eval() takes 1 positional argument but 2 were given"
     ]
    }
   ],
   "source": [
    "RSv1.discriminator(val_data.bitboards[0:1], fake_moves[0:1])"
   ],
   "metadata": {
    "collapsed": false,
    "ExecuteTime": {
     "end_time": "2024-04-12T18:36:58.416838Z",
     "start_time": "2024-04-12T18:36:58.391413Z"
    }
   },
   "id": "51bed9a51aad48ea",
   "execution_count": 61
  },
  {
   "cell_type": "code",
   "outputs": [],
   "source": [
    "new_val = torch.round(fake_moves[0:1])"
   ],
   "metadata": {
    "collapsed": false,
    "ExecuteTime": {
     "end_time": "2024-04-10T16:01:57.041354Z",
     "start_time": "2024-04-10T16:01:57.035064Z"
    }
   },
   "id": "1368277752f4ce7a",
   "execution_count": 115
  },
  {
   "cell_type": "code",
   "outputs": [],
   "source": [
    "counter = 13"
   ],
   "metadata": {
    "collapsed": false,
    "ExecuteTime": {
     "end_time": "2024-04-12T18:30:51.114598Z",
     "start_time": "2024-04-12T18:30:51.102530Z"
    }
   },
   "id": "a7d9459c95ef974",
   "execution_count": 49
  },
  {
   "cell_type": "code",
   "outputs": [
    {
     "data": {
      "text/plain": "tensor(False)"
     },
     "execution_count": 50,
     "metadata": {},
     "output_type": "execute_result"
    }
   ],
   "source": [
    "torch.all(val_data.moves[counter] == fake_moves[counter])"
   ],
   "metadata": {
    "collapsed": false,
    "ExecuteTime": {
     "end_time": "2024-04-12T18:30:51.491947Z",
     "start_time": "2024-04-12T18:30:51.473440Z"
    }
   },
   "id": "b391aaf64f72620e",
   "execution_count": 50
  },
  {
   "cell_type": "code",
   "outputs": [
    {
     "data": {
      "text/plain": "torch.Size([1, 14, 8, 8])"
     },
     "execution_count": 58,
     "metadata": {},
     "output_type": "execute_result"
    }
   ],
   "source": [
    "val_data.bitboards[0:1].shape"
   ],
   "metadata": {
    "collapsed": false,
    "ExecuteTime": {
     "end_time": "2024-04-12T18:32:38.844551Z",
     "start_time": "2024-04-12T18:32:38.831248Z"
    }
   },
   "id": "6f5f9b6045d2e7b6",
   "execution_count": 58
  },
  {
   "cell_type": "code",
   "outputs": [
    {
     "data": {
      "text/plain": "tensor([[3.5519e-03],\n        [1.9832e-03],\n        [5.9222e-08]], grad_fn=<SigmoidBackward0>)"
     },
     "execution_count": 62,
     "metadata": {},
     "output_type": "execute_result"
    }
   ],
   "source": [
    "RSv1.discriminator.eval()\n",
    "RSv1.discriminator(val_data.bitboards[counter:counter+3], val_data.moves[counter:counter+3])"
   ],
   "metadata": {
    "collapsed": false,
    "ExecuteTime": {
     "end_time": "2024-04-12T18:37:53.156882Z",
     "start_time": "2024-04-12T18:37:53.132964Z"
    }
   },
   "id": "2422f3394ea7dc0a",
   "execution_count": 62
  },
  {
   "cell_type": "code",
   "outputs": [
    {
     "data": {
      "text/plain": "tensor([[0.0024]], grad_fn=<SigmoidBackward0>)"
     },
     "execution_count": 63,
     "metadata": {},
     "output_type": "execute_result"
    }
   ],
   "source": [
    "RSv1.discriminator(val_data.bitboards[counter:counter+1], fake_moves[counter:counter+1])"
   ],
   "metadata": {
    "collapsed": false,
    "ExecuteTime": {
     "end_time": "2024-04-12T18:38:14.629310Z",
     "start_time": "2024-04-12T18:38:14.609377Z"
    }
   },
   "id": "fa73b6c3a8683cf0",
   "execution_count": 63
  },
  {
   "cell_type": "markdown",
   "source": [
    "# Stockfish GAN"
   ],
   "metadata": {
    "collapsed": false
   },
   "id": "e4bc343b0b178b4c"
  },
  {
   "cell_type": "code",
   "outputs": [],
   "source": [
    "def load_stockfish_data(N=2_000_000):\n",
    "    \n",
    "    file_path = \"Data/StockData.csv\"\n",
    "    new_data = True\n",
    "    epsilon = 1e-5\n",
    "    \n",
    "    df = pd.read_csv(file_path, nrows=N)\n",
    "    ind_map = index_map.cpu().numpy()\n",
    "    \n",
    "    \n",
    "    df.dropna(axis=0, inplace=True)\n",
    "    df.reset_index(inplace=True)\n",
    "\n",
    "    \n",
    "    fens = np.array(df['FENs'])\n",
    "    moves = np.zeros((len(fens), 128))\n",
    "    h_moves = np.zeros((len(fens), 128))\n",
    "\n",
    "    bitboards, meta = zip(*[fen_to_board(x) for x in tqdm(fens, total=len(fens))])\n",
    "    \n",
    "    bitboards = np.asarray(bitboards)\n",
    "\n",
    "    meta = np.asarray(meta)\n",
    "    \n",
    "    if new_data:\n",
    "\n",
    "        moves[df.index,df['stock_moves'].apply(lambda x: chess.Move.from_uci(x).from_square)] = 1\n",
    "        moves[df.index, 64 + df['stock_moves'].apply(lambda x: chess.Move.from_uci(x).to_square)] = 1\n",
    "        \n",
    "    else:\n",
    "        \n",
    "        for i in tqdm(range(4)):\n",
    "            \n",
    "            moves[df.index,df[f'move{i}'].apply(lambda x: chess.Move.from_uci(x).from_square)] += df[f'eval{i}'] + epsilon\n",
    "            moves[df.index, 64 + df[f'move{i}'].apply(lambda x: chess.Move.from_uci(x).to_square)] += df[f'eval{i}'] + epsilon\n",
    "        \n",
    "    \n",
    "    h_moves[df.index, df[\"hmoves\"].apply(lambda x: chess.Move.from_uci(x).from_square)] = 1\n",
    "    h_moves[df.index, 64 + df[\"hmoves\"].apply(lambda x: chess.Move.from_uci(x).to_square)] = 1\n",
    "    \n",
    "    flipped_moves = np.zeros_like(moves)    \n",
    "    flipped_moves[:,:64] = moves[:,ind_map]\n",
    "    flipped_moves[:,64:] = moves[:,64+ind_map]\n",
    "    #v_fens = np.vectorize(fen_to_board)\n",
    "    moves = np.where(np.expand_dims(meta, 1), moves, flipped_moves)\n",
    "\n",
    "    flipped_moves = np.zeros_like(h_moves)\n",
    "    flipped_moves[:,:64] = h_moves[:,ind_map]\n",
    "    flipped_moves[:,64:] = h_moves[:,64+ind_map]\n",
    "    #v_fens = np.vectorize(fen_to_board)\n",
    "    h_moves = np.where(np.expand_dims(meta, 1), h_moves, flipped_moves)\n",
    "    \n",
    "    #bitboards = np.array(list(map(fen_to_board, fens)))\n",
    "    \n",
    "    del df\n",
    "    \n",
    "    \n",
    "    return bitboards, meta, h_moves, moves"
   ],
   "metadata": {
    "collapsed": false,
    "ExecuteTime": {
     "end_time": "2024-04-23T02:41:29.575680Z",
     "start_time": "2024-04-23T02:41:29.550854Z"
    }
   },
   "id": "990b518f35d3cd09",
   "execution_count": 12
  },
  {
   "cell_type": "code",
   "outputs": [
    {
     "name": "stdout",
     "output_type": "stream",
     "text": [
      "Kernel saved\n"
     ]
    }
   ],
   "source": [
    "print('Kernel saved')"
   ],
   "metadata": {
    "collapsed": false,
    "ExecuteTime": {
     "end_time": "2024-04-23T02:41:30.324204Z",
     "start_time": "2024-04-23T02:41:30.316016Z"
    }
   },
   "id": "87782b6e4482f494",
   "execution_count": 13
  },
  {
   "cell_type": "code",
   "outputs": [
    {
     "name": "stderr",
     "output_type": "stream",
     "text": [
      "100%|██████████| 500000/500000 [07:47<00:00, 1070.11it/s]\n"
     ]
    }
   ],
   "source": [
    "boards, meta, human_moves, stock_moves = load_stockfish_data(500_000)"
   ],
   "metadata": {
    "collapsed": false,
    "ExecuteTime": {
     "end_time": "2024-04-23T02:50:10.323352Z",
     "start_time": "2024-04-23T02:41:31.219751Z"
    }
   },
   "id": "ac09fd92d5c1ff97",
   "execution_count": 14
  },
  {
   "cell_type": "code",
   "outputs": [],
   "source": [
    "test_discriminator = torch.load(\"Models/StockGAN/discriminator 6.pt\")\n",
    "test_generator = torch.load(\"Models/StockGAN/generator 6.pt\")"
   ],
   "metadata": {
    "collapsed": false,
    "ExecuteTime": {
     "end_time": "2024-04-17T22:25:34.023591Z",
     "start_time": "2024-04-17T22:25:33.985878Z"
    }
   },
   "id": "1647d1c18a897bd1",
   "execution_count": 54
  },
  {
   "cell_type": "code",
   "outputs": [
    {
     "data": {
      "text/plain": "tensor(0.6572, grad_fn=<MeanBackward0>)"
     },
     "execution_count": 21,
     "metadata": {},
     "output_type": "execute_result"
    }
   ],
   "source": [
    "torch.mean(test_discriminator(torch.tensor(boards[:1000], dtype=torch.float), torch.tensor(stock_maxmoves[:1000], dtype=torch.float).view(-1,2,8,8)))"
   ],
   "metadata": {
    "collapsed": false,
    "ExecuteTime": {
     "end_time": "2024-04-17T21:40:21.883969Z",
     "start_time": "2024-04-17T21:40:21.701232Z"
    }
   },
   "id": "a68072b56a84827a",
   "execution_count": 21
  },
  {
   "cell_type": "code",
   "outputs": [],
   "source": [
    "num_samples = 5000\n",
    "test_generator.eval()\n",
    "ai_moves = test_generator(torch.tensor(boards[:num_samples], dtype=torch.float))"
   ],
   "metadata": {
    "collapsed": false,
    "ExecuteTime": {
     "end_time": "2024-04-17T22:25:42.584740Z",
     "start_time": "2024-04-17T22:25:42.548542Z"
    }
   },
   "id": "5faf286f97835e3e",
   "execution_count": 55
  },
  {
   "cell_type": "code",
   "outputs": [],
   "source": [
    "ai_moves = ai_moves.view(5000, 128).detach().cpu()"
   ],
   "metadata": {
    "collapsed": false,
    "ExecuteTime": {
     "end_time": "2024-04-17T22:25:44.588877Z",
     "start_time": "2024-04-17T22:25:44.572046Z"
    }
   },
   "id": "f0e47d54fe5bd48a",
   "execution_count": 56
  },
  {
   "cell_type": "code",
   "outputs": [],
   "source": [
    "ai_moves = RSv1.diffable_argmax_moves(torch.cat([ai_moves[0], ai_moves[1]], dim = 1)).view(-1,128).detach().cpu()"
   ],
   "metadata": {
    "collapsed": false,
    "ExecuteTime": {
     "end_time": "2024-04-17T22:24:24.932677Z",
     "start_time": "2024-04-17T22:24:24.905981Z"
    }
   },
   "id": "a9ec283de40fcf22",
   "execution_count": 50
  },
  {
   "cell_type": "code",
   "outputs": [
    {
     "name": "stdout",
     "output_type": "stream",
     "text": [
      "[[8.96252815e-07 5.54740632e-07 2.82778967e-07 9.97050991e-07\n",
      "  5.15450548e-07 8.56230156e-07 8.88985452e-07 8.90846889e-07\n",
      "  1.62689170e-07 1.26445707e-07 4.18896885e-07 9.90336431e-07\n",
      "  5.90766688e-08 2.57920543e-07 8.18890459e-07 6.52590343e-07\n",
      "  1.12924585e-07 6.59827495e-08 1.79162249e-07 9.26542648e-07\n",
      "  3.05664467e-07 4.17475634e-07 6.80336533e-07 5.18829982e-07\n",
      "  1.22801870e-07 5.60642105e-07 9.71069396e-07 8.09582577e-07\n",
      "  8.41275178e-07 5.43626629e-07 4.41134487e-07 1.75101523e-08\n",
      "  2.29159837e-07 3.96879068e-07 2.85584221e-07 7.38117052e-07\n",
      "  8.63113542e-07 1.23752096e-07 6.74661651e-08 9.60774156e-07\n",
      "  7.41347611e-08 2.40753799e-07 5.31088403e-07 9.42260871e-08\n",
      "  4.45399450e-07 7.28351680e-07 9.69149007e-07 2.68432228e-07\n",
      "  6.32634585e-07 2.32795715e-07 1.19681510e-07 5.38292480e-07\n",
      "  7.65188072e-07 3.00512851e-07 7.95322374e-07 9.56565912e-07\n",
      "  6.19336732e-07 4.24447714e-07 1.67386756e-07 2.94386172e-07\n",
      "  4.75547907e-07 5.73834599e-07 9.97078595e-08 3.76911519e-07\n",
      "  2.82923978e-07 6.80404245e-07 6.57139076e-07 9.32144138e-07\n",
      "  5.15032139e-07 9.60060716e-07 6.67715403e-07 1.05183617e-07\n",
      "  1.67273481e-08 4.30015871e-07 5.96474427e-07 2.27082261e-07\n",
      "  4.68625954e-08 5.36444721e-07 5.54924853e-07 3.94565400e-07\n",
      "  6.07520314e-07 8.38493955e-07 1.48698825e-07 7.45195452e-07\n",
      "  3.41904970e-07 8.30216678e-07 5.99594856e-07 1.57439019e-07\n",
      "  8.42337048e-07 3.63846690e-07 1.70871681e-07 9.96990462e-07\n",
      "  9.40237238e-07 2.64776197e-07 6.28580248e-07 3.84046790e-07\n",
      "  4.70555037e-07 3.02388925e-08 7.75084441e-07 8.97106743e-07\n",
      "  4.88811921e-07 1.20551094e-07 3.13722247e-07 6.14748254e-07\n",
      "  8.59253163e-07 6.97874930e-07 2.80382076e-07 6.23948610e-07\n",
      "  5.81804542e-07 8.69476705e-07 3.95275857e-07 5.29128609e-07\n",
      "  8.01848395e-07 1.89229866e-07 2.85324670e-09 4.65100900e-08\n",
      "  1.38635712e-07 7.03687586e-07 5.86838897e-07 1.14583464e-07\n",
      "  9.99679278e-07 6.84399338e-07 7.73113260e-07 8.14941670e-07\n",
      "  7.90536887e-07 5.15776674e-07 1.51026592e-07 1.63880263e-07]\n",
      " [8.34138714e-07 9.70682554e-07 5.57862499e-07 2.33386111e-07\n",
      "  1.78183867e-07 9.44837765e-07 7.88264400e-07 7.98549221e-07\n",
      "  4.63153828e-07 4.43838869e-07 8.05065758e-07 6.48961672e-08\n",
      "  2.77001534e-07 8.41522938e-07 6.44672461e-07 4.82989433e-07\n",
      "  6.09694834e-07 5.71889857e-07 5.35163681e-07 6.36331677e-07\n",
      "  6.83118394e-07 9.91380966e-07 4.91402239e-07 3.88652645e-07\n",
      "  1.13578425e-07 3.84888030e-07 6.10589688e-07 7.14291692e-07\n",
      "  6.37280178e-07 7.88223770e-07 4.27980547e-08 8.25282436e-07\n",
      "  6.35709795e-07 6.62509792e-07 5.79419915e-07 2.74652492e-08\n",
      "  5.43839489e-07 3.13954155e-07 3.19208707e-07 8.69328714e-07\n",
      "  1.78761858e-07 8.69083628e-07 4.04733016e-07 2.49064443e-07\n",
      "  1.18323680e-07 3.72675652e-08 7.55340098e-07 8.45025599e-07\n",
      "  8.98562464e-07 8.89540368e-08 6.94970196e-08 7.21705489e-07\n",
      "  9.48868776e-07 9.09853074e-07 3.98639652e-07 2.85793637e-07\n",
      "  4.96812771e-07 8.61894104e-07 7.50504164e-07 3.29501221e-07\n",
      "  9.82654288e-07 8.97781523e-07 3.28209507e-07 1.69217414e-07\n",
      "  1.18182659e-07 1.18068992e-07 6.34243967e-07 2.31496257e-07\n",
      "  3.89181435e-07 2.67867051e-07 5.11082639e-07 9.63792547e-07\n",
      "  2.47665414e-08 6.62800231e-07 3.22831254e-07 9.61061094e-07\n",
      "  3.09448698e-07 7.10232656e-07 2.91784375e-07 9.04912745e-07\n",
      "  9.24607116e-08 4.28543438e-07 5.63212672e-07 2.68902503e-08\n",
      "  1.29958994e-07 1.01283793e-07 7.23302001e-07 6.65739579e-07\n",
      "  8.82427514e-07 9.23585532e-07 9.53279288e-07 9.03493203e-07\n",
      "  6.98849912e-07 6.00043142e-07 4.72070117e-07 1.66182592e-07\n",
      "  4.34636479e-07 1.00268760e-07 8.42679192e-07 5.20305436e-07\n",
      "  9.19482976e-07 6.38686923e-07 8.04222291e-07 4.90808922e-09\n",
      "  1.25694060e-07 4.18340028e-07 9.98800329e-07 7.70537525e-07\n",
      "  9.90166113e-07 5.13267017e-07 8.46996845e-07 2.22902979e-07\n",
      "  6.23404958e-07 7.52818979e-07 7.54011273e-07 2.60667982e-07\n",
      "  8.63471756e-07 9.58902215e-07 6.29981360e-07 4.39123149e-07\n",
      "  9.98097598e-07 4.09589054e-07 7.86837492e-07 6.67312711e-07\n",
      "  5.68831102e-07 5.42213555e-07 7.24006675e-07 4.01061436e-07]\n",
      " [7.25016234e-07 4.70706220e-07 1.32546519e-07 5.29880038e-07\n",
      "  7.74698949e-08 5.93566388e-07 5.95847031e-07 8.96068199e-07\n",
      "  7.82367167e-09 7.74928816e-07 9.02994783e-07 3.75391516e-07\n",
      "  7.22165239e-07 2.06751628e-07 9.87062425e-07 4.28410016e-07\n",
      "  9.09041391e-07 1.44699290e-07 6.29616996e-07 8.19837559e-07\n",
      "  4.61343787e-07 7.71504576e-07 3.41531474e-07 1.96633968e-07\n",
      "  9.64249320e-07 2.29821543e-07 1.87339562e-07 4.86858959e-07\n",
      "  1.25929292e-07 2.79946980e-07 9.70114644e-07 2.32325256e-07\n",
      "  3.27537750e-07 1.33856729e-07 8.91236664e-07 7.80915446e-08\n",
      "  6.08609424e-07 3.30888559e-07 4.35057629e-07 8.49720808e-07\n",
      "  7.08819578e-08 5.84814468e-07 5.51252674e-07 2.41335660e-07\n",
      "  7.10597282e-07 8.78717794e-07 1.65560459e-07 6.81600552e-07\n",
      "  5.24753697e-07 6.35817324e-07 8.66056691e-07 4.91791070e-07\n",
      "  5.07349880e-07 8.99934118e-07 9.13897889e-07 8.08411229e-07\n",
      "  3.33404301e-07 6.38751274e-07 9.11787515e-07 4.79891529e-07\n",
      "  1.79938425e-08 2.51065027e-07 5.95958611e-07 8.16721513e-07\n",
      "  9.53819971e-08 8.31828968e-07 6.93407750e-07 2.09728972e-07\n",
      "  4.93768443e-07 2.17828077e-07 3.60038375e-07 1.81575663e-07\n",
      "  5.46760970e-07 1.08512805e-08 6.77120750e-07 2.27755465e-07\n",
      "  6.03208110e-07 8.31403116e-07 8.23427833e-07 5.36850628e-07\n",
      "  3.32974554e-07 6.19052207e-07 4.12765375e-07 4.54937005e-07\n",
      "  7.31529535e-08 5.60601960e-07 8.97006917e-07 2.99999660e-07\n",
      "  6.72121718e-07 6.81944733e-07 5.92788105e-07 3.85535222e-07\n",
      "  9.46475527e-07 6.84722252e-07 9.54090230e-07 8.85795924e-07\n",
      "  7.19793698e-07 1.67158829e-07 8.12361932e-07 1.07599558e-07\n",
      "  6.25692215e-07 8.19325459e-07 5.99074472e-07 5.42647423e-07\n",
      "  8.91815151e-07 8.86299273e-07 6.09701236e-07 2.18862009e-07\n",
      "  6.43915260e-07 7.73549002e-07 5.55204198e-07 8.71842162e-07\n",
      "  3.03063042e-07 3.13089415e-07 4.64252560e-07 4.54637082e-07\n",
      "  9.31708021e-07 7.36703596e-08 5.18829552e-07 1.72935190e-07\n",
      "  8.89118047e-07 9.98091171e-07 8.39158883e-07 3.43793766e-07\n",
      "  1.43096814e-08 9.13567064e-07 4.26610668e-07 2.93793557e-07]\n",
      " [2.99676097e-07 2.50609086e-07 9.80529546e-07 1.11658414e-07\n",
      "  4.00827611e-07 3.41082138e-08 1.92275962e-07 4.77355960e-07\n",
      "  6.42929577e-07 5.28636176e-07 4.26580650e-07 2.82183422e-08\n",
      "  3.61241969e-07 7.98493881e-07 6.31687001e-07 2.08782683e-07\n",
      "  7.78092096e-08 1.00626629e-07 4.83097441e-07 2.83774742e-07\n",
      "  7.99287910e-07 6.20011561e-07 7.03525714e-07 7.24892952e-07\n",
      "  6.96122090e-07 4.94425931e-07 7.74497983e-07 8.79347448e-08\n",
      "  2.70272771e-07 7.57759435e-07 4.13762330e-07 1.49721164e-07\n",
      "  9.42255966e-07 1.00778639e-07 9.89850644e-07 2.88445502e-07\n",
      "  9.65050231e-07 7.79984383e-07 8.40985175e-07 3.94206991e-08\n",
      "  3.90352393e-07 7.86018845e-07 6.40502950e-07 6.54163405e-07\n",
      "  6.25259086e-07 1.32720967e-07 7.37901949e-07 2.49538457e-07\n",
      "  3.49328350e-07 9.72159999e-07 2.27162837e-08 9.42235501e-07\n",
      "  1.48386882e-07 6.86007730e-07 5.16563025e-07 3.17432264e-08\n",
      "  4.02390468e-07 4.56977169e-07 8.51589098e-07 2.17855541e-07\n",
      "  8.23642262e-07 4.58281583e-07 3.23432299e-07 3.11970200e-07\n",
      "  2.22451570e-08 9.96047159e-07 6.61366064e-07 3.84827206e-07\n",
      "  2.07694974e-08 4.04299877e-07 9.94968436e-07 1.98242636e-08\n",
      "  8.19743333e-07 3.18533305e-08 8.80219776e-07 5.49037197e-07\n",
      "  4.81005859e-07 6.49774594e-08 8.87862428e-07 8.40562143e-07\n",
      "  1.58540956e-08 1.74426325e-07 9.35266496e-07 3.90886044e-07\n",
      "  9.23978313e-07 4.69135321e-07 5.83256613e-07 6.38451482e-07\n",
      "  2.06303153e-07 6.51114316e-07 1.42466832e-07 2.75259083e-08\n",
      "  6.15531879e-07 6.25476222e-07 3.79992809e-07 8.22804561e-07\n",
      "  6.25729954e-07 9.34767080e-07 9.07751738e-08 2.08079697e-07\n",
      "  1.67582485e-07 3.06087626e-07 7.54204733e-07 5.61305591e-07\n",
      "  1.19959523e-07 2.62448731e-07 2.34157919e-07 4.67513438e-07\n",
      "  3.83889427e-07 4.50095402e-07 4.25615990e-07 4.70674678e-07\n",
      "  1.52763926e-07 1.20593794e-07 7.23779523e-08 7.56890910e-07\n",
      "  2.33266106e-09 6.72234721e-07 3.14357198e-07 1.20693098e-07\n",
      "  1.76210967e-07 3.82144366e-07 3.02244860e-07 4.97843048e-07\n",
      "  9.24743242e-07 9.57175428e-07 2.17805207e-07 5.08047942e-07]\n",
      " [2.26222563e-07 2.32838569e-08 6.96377232e-07 5.40045750e-07\n",
      "  7.76540601e-07 3.33599951e-07 4.93599859e-07 2.88274982e-08\n",
      "  2.26398346e-07 5.99005820e-07 8.14578604e-07 1.18734791e-07\n",
      "  5.69418306e-07 1.65894533e-07 1.48677797e-07 3.47242633e-07\n",
      "  4.27249296e-07 2.88828773e-07 4.38239448e-07 3.63643387e-07\n",
      "  1.60643470e-07 4.53386256e-08 6.86637115e-09 7.46387712e-07\n",
      "  7.24802870e-07 3.82451601e-07 1.72589567e-07 2.37676512e-07\n",
      "  6.25454144e-07 7.21631395e-07 9.30431319e-07 5.27226480e-07\n",
      "  5.13548457e-07 4.17712690e-07 2.79137394e-07 7.82365397e-07\n",
      "  1.60806720e-07 8.96728446e-07 3.66974723e-07 6.93417182e-07\n",
      "  5.16279062e-07 4.41114551e-07 1.10293008e-07 2.26544869e-07\n",
      "  2.16818914e-08 7.15054284e-07 9.99530144e-07 2.10556061e-07\n",
      "  3.20855444e-07 8.39235505e-07 7.83552846e-07 3.45393710e-07\n",
      "  7.52361326e-07 5.58371895e-08 8.91084749e-07 3.98013354e-07\n",
      "  9.83918280e-07 1.87094082e-07 3.89983652e-07 8.13107472e-07\n",
      "  7.71366247e-07 8.84714580e-07 6.25855518e-07 5.21936123e-07\n",
      "  9.75378427e-07 7.56666596e-07 3.29600685e-08 8.46613353e-07\n",
      "  5.60410706e-07 1.10323317e-07 2.47068594e-07 1.54662865e-07\n",
      "  1.22809483e-07 5.00436808e-07 5.98684480e-07 4.23825118e-07\n",
      "  2.79227239e-07 7.03971273e-07 1.42695229e-07 9.13211344e-07\n",
      "  8.90244264e-07 3.67256952e-07 6.11681610e-07 1.91137388e-07\n",
      "  4.71315808e-07 5.02199499e-07 3.88815908e-07 2.98942951e-07\n",
      "  1.47680941e-07 9.34052704e-07 5.96151890e-07 8.47299843e-07\n",
      "  3.92295184e-07 6.40052370e-07 7.62607034e-07 9.14564547e-07\n",
      "  3.10721486e-07 1.06538963e-08 9.41146136e-07 5.91675584e-07\n",
      "  7.38972967e-07 5.06932340e-07 4.40164844e-07 9.20788104e-07\n",
      "  9.92927232e-07 8.62908428e-07 6.23941582e-07 6.13355812e-07\n",
      "  6.89502131e-07 5.59275023e-07 2.57030891e-07 5.05752748e-07\n",
      "  8.83068502e-07 2.77306985e-07 9.41921860e-08 3.75709497e-07\n",
      "  6.57848208e-08 8.93742549e-07 7.79982845e-07 1.75379806e-07\n",
      "  6.44393017e-07 5.37580729e-07 4.07308070e-07 2.28708152e-07\n",
      "  1.80927172e-07 9.46362828e-07 6.87244827e-07 7.57318432e-07]]\n"
     ]
    }
   ],
   "source": [
    "stock_noise = np.random.uniform(low = 0, high = 1e-6, size = stock_moves.shape)\n",
    "print(stock_noise[:5])"
   ],
   "metadata": {
    "collapsed": false,
    "ExecuteTime": {
     "end_time": "2024-04-17T21:38:16.380538Z",
     "start_time": "2024-04-17T21:38:15.501125Z"
    }
   },
   "id": "38dc99ffdc54fffc",
   "execution_count": 15
  },
  {
   "cell_type": "code",
   "outputs": [],
   "source": [
    "stock_maxmoves = np.zeros_like(stock_moves)\n",
    "stock_maxmoves[np.arange(len(stock_moves)), np.argmax(stock_moves[:,:64] + stock_noise[:,:64], axis = 1)] = 1\n",
    "stock_maxmoves[np.arange(len(stock_moves)), 64 + np.argmax(stock_moves[:,64:] + stock_noise[:,64:], axis = 1)] = 1"
   ],
   "metadata": {
    "collapsed": false,
    "ExecuteTime": {
     "end_time": "2024-04-17T21:38:20.041202Z",
     "start_time": "2024-04-17T21:38:18.448692Z"
    }
   },
   "id": "cfac7ec540c9e60b",
   "execution_count": 16
  },
  {
   "cell_type": "code",
   "outputs": [
    {
     "name": "stdout",
     "output_type": "stream",
     "text": [
      "     RDv2 mean  RDv2 std  Human mean  Human std  Stock mean  Stock std\n",
      "0       0.0254  0.157352    0.024259   0.153853    0.024258   0.153850\n",
      "1       0.0270  0.162100    0.027148   0.162514    0.028379   0.166054\n",
      "2       0.0386  0.192659    0.038954   0.193486    0.035294   0.184521\n",
      "3       0.0376  0.190246    0.045448   0.208284    0.055144   0.228262\n",
      "4       0.0562  0.230331    0.044122   0.205366    0.031583   0.174886\n",
      "..         ...       ...         ...        ...         ...        ...\n",
      "123     0.0042  0.064678    0.006133   0.078071    0.005139   0.071506\n",
      "124     0.0052  0.071930    0.004862   0.069555    0.004272   0.065221\n",
      "125     0.0040  0.063125    0.004559   0.067370    0.003769   0.061273\n",
      "126     0.0004  0.019998    0.002424   0.049174    0.002230   0.047169\n",
      "127     0.0014  0.037394    0.003083   0.055436    0.002427   0.049206\n",
      "\n",
      "[128 rows x 6 columns]\n"
     ]
    }
   ],
   "source": [
    "df = pd.DataFrame({\"Axis Number\" : list(range(128))})\n",
    "\n",
    "df['RDv2 mean'] = torch.mean(ai_moves, axis=0)\n",
    "df['RDv2 std'] = torch.std(ai_moves, axis=0)\n",
    "\n",
    "df['Human mean'] =  np.mean(human_moves, axis= 0)\n",
    "df['Human std'] = np.std(human_moves, axis= 0)\n",
    "df['Stock mean'] = np.mean(stock_maxmoves, axis= 0)\n",
    "df['Stock std'] = np.std(stock_maxmoves, axis= 0)\n",
    "\n",
    "#df['Distance'] = np.abs((df['AI mean'] - df['Human mean'])/df['Human mean'])\n",
    "#df.sort_values(['Distance'], inplace= True)\n",
    "print(df.drop('Axis Number', axis = 1))"
   ],
   "metadata": {
    "collapsed": false,
    "ExecuteTime": {
     "end_time": "2024-04-17T22:25:24.538896Z",
     "start_time": "2024-04-17T22:25:22.891336Z"
    }
   },
   "id": "2a09cb613b51cbe1",
   "execution_count": 53
  },
  {
   "cell_type": "code",
   "outputs": [],
   "source": [
    "df['StockGAN mean'] = torch.mean(ai_moves, axis=0)\n",
    "df['StockGAN std'] = torch.std(ai_moves, axis=0)"
   ],
   "metadata": {
    "collapsed": false,
    "ExecuteTime": {
     "end_time": "2024-04-17T22:26:01.855677Z",
     "start_time": "2024-04-17T22:26:01.847141Z"
    }
   },
   "id": "1cfed1ac6572b5e3",
   "execution_count": 57
  },
  {
   "cell_type": "code",
   "outputs": [
    {
     "data": {
      "text/plain": "<Figure size 432x288 with 1 Axes>",
      "image/png": "[encoded data removed]"
     },
     "metadata": {
      "needs_background": "light"
     },
     "output_type": "display_data"
    }
   ],
   "source": [
    "plt.stem(df.index, df['AI mean'])\n",
    "plt.ylabel(\"Occurrence rate\")\n",
    "plt.xlabel(\"From square                                To square\")\n",
    "plt.title(\" move distribution\")\n",
    "plt.savefig(\"Results/StockGAN_mean.png\")"
   ],
   "metadata": {
    "collapsed": false,
    "ExecuteTime": {
     "end_time": "2024-04-17T22:23:59.752355Z",
     "start_time": "2024-04-17T22:23:59.594625Z"
    }
   },
   "id": "93b2254ac7fd4f5f",
   "execution_count": 48
  },
  {
   "cell_type": "code",
   "outputs": [
    {
     "data": {
      "text/plain": "    Axis Number  AI mean    AI std  Human mean  Human std  Stock mean  \\\n12           12      0.5  0.707107    0.038249   0.191797    0.039720   \n82           82      0.5  0.707107    0.035182   0.184240    0.034124   \n18           18      0.5  0.707107    0.034003   0.181238    0.035136   \n70           70      0.5  0.707107    0.029655   0.169633    0.021157   \n\n    Stock std   Distance  \n12   0.195300  12.072161  \n82   0.181548  13.211684  \n18   0.184124  13.704417  \n70   0.143907  15.860697  ",
      "text/html": "<div>\n<style scoped>\n    .dataframe tbody tr th:only-of-type {\n        vertical-align: middle;\n    }\n\n    .dataframe tbody tr th {\n        vertical-align: top;\n    }\n\n    .dataframe thead th {\n        text-align: right;\n    }\n</style>\n<table border=\"1\" class=\"dataframe\">\n  <thead>\n    <tr style=\"text-align: right;\">\n      <th></th>\n      <th>Axis Number</th>\n      <th>AI mean</th>\n      <th>AI std</th>\n      <th>Human mean</th>\n      <th>Human std</th>\n      <th>Stock mean</th>\n      <th>Stock std</th>\n      <th>Distance</th>\n    </tr>\n  </thead>\n  <tbody>\n    <tr>\n      <th>12</th>\n      <td>12</td>\n      <td>0.5</td>\n      <td>0.707107</td>\n      <td>0.038249</td>\n      <td>0.191797</td>\n      <td>0.039720</td>\n      <td>0.195300</td>\n      <td>12.072161</td>\n    </tr>\n    <tr>\n      <th>82</th>\n      <td>82</td>\n      <td>0.5</td>\n      <td>0.707107</td>\n      <td>0.035182</td>\n      <td>0.184240</td>\n      <td>0.034124</td>\n      <td>0.181548</td>\n      <td>13.211684</td>\n    </tr>\n    <tr>\n      <th>18</th>\n      <td>18</td>\n      <td>0.5</td>\n      <td>0.707107</td>\n      <td>0.034003</td>\n      <td>0.181238</td>\n      <td>0.035136</td>\n      <td>0.184124</td>\n      <td>13.704417</td>\n    </tr>\n    <tr>\n      <th>70</th>\n      <td>70</td>\n      <td>0.5</td>\n      <td>0.707107</td>\n      <td>0.029655</td>\n      <td>0.169633</td>\n      <td>0.021157</td>\n      <td>0.143907</td>\n      <td>15.860697</td>\n    </tr>\n  </tbody>\n</table>\n</div>"
     },
     "execution_count": 38,
     "metadata": {},
     "output_type": "execute_result"
    }
   ],
   "source": [
    "df[df[\"AI mean\"] > 0.02]"
   ],
   "metadata": {
    "collapsed": false,
    "ExecuteTime": {
     "end_time": "2024-04-17T22:19:16.121204Z",
     "start_time": "2024-04-17T22:19:16.106096Z"
    }
   },
   "id": "eab6a9adc7b45535",
   "execution_count": 38
  },
  {
   "cell_type": "code",
   "outputs": [
    {
     "data": {
      "text/plain": "<Figure size 432x288 with 1 Axes>",
      "image/png": "[encoded data removed]"
     },
     "metadata": {
      "needs_background": "light"
     },
     "output_type": "display_data"
    }
   ],
   "source": [
    "plt.stem(df.index, df['Human mean'])\n",
    "plt.ylabel(\"Occurrence rate\")\n",
    "plt.xlabel(\"From square                                To square\")\n",
    "plt.title(\"Human move distribution\")\n",
    "plt.savefig(\"Results/Human_mean.png\")"
   ],
   "metadata": {
    "collapsed": false,
    "ExecuteTime": {
     "end_time": "2024-04-17T03:15:35.547621Z",
     "start_time": "2024-04-17T03:15:35.422105Z"
    }
   },
   "id": "10c7d5e0d452b008",
   "execution_count": 44
  },
  {
   "cell_type": "code",
   "outputs": [
    {
     "data": {
      "text/plain": "<Figure size 432x288 with 1 Axes>",
      "image/png": "[encoded data removed]"
     },
     "metadata": {
      "needs_background": "light"
     },
     "output_type": "display_data"
    }
   ],
   "source": [
    "plt.stem(df.index, df['Stock mean'])\n",
    "plt.ylabel(\"Occurrence rate\")\n",
    "plt.xlabel(\"From square                                To square\")\n",
    "plt.title(\"Stockfish move distribution\")\n",
    "plt.savefig(\"Results/stock_mean.png\")"
   ],
   "metadata": {
    "collapsed": false,
    "ExecuteTime": {
     "end_time": "2024-04-17T03:15:50.294686Z",
     "start_time": "2024-04-17T03:15:50.166729Z"
    }
   },
   "id": "1649bf451dbd08ab",
   "execution_count": 45
  },
  {
   "cell_type": "code",
   "outputs": [
    {
     "data": {
      "text/plain": "<Figure size 432x288 with 1 Axes>",
      "image/png": "[encoded data removed]"
     },
     "metadata": {
      "needs_background": "light"
     },
     "output_type": "display_data"
    }
   ],
   "source": [
    "plt.stem(df.index, df[\"Human std\"])\n",
    "plt.ylabel(\"Occurrence deviation\")\n",
    "plt.xlabel(\"From square                                To square\")\n",
    "plt.title(\"Human move deviations\")\n",
    "plt.savefig(\"Results/human_std.png\")"
   ],
   "metadata": {
    "collapsed": false,
    "ExecuteTime": {
     "end_time": "2024-04-17T03:18:02.155984Z",
     "start_time": "2024-04-17T03:18:02.028460Z"
    }
   },
   "id": "3015baea5ac1abaa",
   "execution_count": 47
  },
  {
   "cell_type": "code",
   "outputs": [
    {
     "data": {
      "text/plain": "<Figure size 432x288 with 1 Axes>",
      "image/png": "[encoded data removed]"
     },
     "metadata": {
      "needs_background": "light"
     },
     "output_type": "display_data"
    }
   ],
   "source": [
    "plt.stem(df.index, df[\"AI std\"])\n",
    "plt.ylabel(\"Occurrence deviation\")\n",
    "plt.xlabel(\"From square                                To square\")\n",
    "plt.title(\"AI move deviations\")\n",
    "plt.savefig(\"Results/AI_std.png\")"
   ],
   "metadata": {
    "collapsed": false,
    "ExecuteTime": {
     "end_time": "2024-04-17T03:18:23.986357Z",
     "start_time": "2024-04-17T03:18:23.858783Z"
    }
   },
   "id": "ef6aaf8074d7b48b",
   "execution_count": 48
  },
  {
   "cell_type": "code",
   "outputs": [
    {
     "data": {
      "text/plain": "<Figure size 432x288 with 1 Axes>",
      "image/png": "[encoded data removed]"
     },
     "metadata": {
      "needs_background": "light"
     },
     "output_type": "display_data"
    }
   ],
   "source": [
    "plt.stem(df.index, df[\"Stock std\"])\n",
    "plt.ylabel(\"Occurrence deviation\")\n",
    "plt.xlabel(\"From square                                To square\")\n",
    "plt.title(\"Stockfish move deviations\")\n",
    "plt.savefig(\"Results/stock_std.png\")"
   ],
   "metadata": {
    "collapsed": false,
    "ExecuteTime": {
     "end_time": "2024-04-17T03:18:44.531831Z",
     "start_time": "2024-04-17T03:18:44.406973Z"
    }
   },
   "id": "c2c19468de8ead17",
   "execution_count": 49
  },
  {
   "cell_type": "code",
   "outputs": [],
   "source": [
    "class StockData(Dataset):\n",
    "\n",
    "    def __init__(self, bitboards, moves, stock_moves):\n",
    "\n",
    "        self.bitboards = torch.tensor(bitboards, dtype = torch.float).to(device)\n",
    "\n",
    "        self.moves = torch.tensor(moves, dtype = torch.float).view(-1,2,8,8).to(device)\n",
    "        self.stock_moves = torch.tensor(stock_moves, dtype=torch.float).view(-1,2,8,8).to(device)\n",
    "\n",
    "    def __len__(self):\n",
    "\n",
    "        return self.moves.size(dim=0)\n",
    "\n",
    "\n",
    "    def __getitem__(self, idx):\n",
    "\n",
    "        return self.bitboards[idx], self.moves[idx], self.stock_moves[idx]\n",
    "    "
   ],
   "metadata": {
    "collapsed": false,
    "ExecuteTime": {
     "end_time": "2024-04-23T02:50:10.384228Z",
     "start_time": "2024-04-23T02:50:10.339377Z"
    }
   },
   "id": "db829524ce5a783b",
   "execution_count": 15
  },
  {
   "cell_type": "code",
   "outputs": [],
   "source": [
    "del RSv1"
   ],
   "metadata": {
    "collapsed": false,
    "ExecuteTime": {
     "end_time": "2024-04-23T14:05:45.984042Z",
     "start_time": "2024-04-23T14:05:45.979005Z"
    }
   },
   "id": "7d4f8be3135c9ae7",
   "execution_count": 38
  },
  {
   "cell_type": "code",
   "outputs": [
    {
     "name": "stdout",
     "output_type": "stream",
     "text": [
      "cuda\n"
     ]
    }
   ],
   "source": [
    "RSv1 = GAN_1(g_conv_depth=6, d_conv_depth=6, lr=0.0002, pre_trained_g=RDv2).to(device)"
   ],
   "metadata": {
    "collapsed": false,
    "ExecuteTime": {
     "end_time": "2024-04-23T14:05:47.218162Z",
     "start_time": "2024-04-23T14:05:47.190260Z"
    }
   },
   "id": "c0b2645f10c27291",
   "execution_count": 39
  },
  {
   "cell_type": "code",
   "outputs": [],
   "source": [
    "val_size = 2_000\n",
    "B = 128\n",
    "loader = DataLoader(StockData(boards[:-val_size], human_moves[:-val_size], stock_moves[:-val_size]), batch_size = B, shuffle = True, generator=torch.Generator(device=device))\n",
    "val_data = StockData(boards[-val_size:], human_moves[-val_size:], stock_moves[-val_size:])\n",
    "G = len(loader)"
   ],
   "metadata": {
    "collapsed": false,
    "ExecuteTime": {
     "end_time": "2024-04-23T13:51:22.939014Z",
     "start_time": "2024-04-23T13:51:18.647910Z"
    }
   },
   "id": "f4ca7a20fd919134",
   "execution_count": 32
  },
  {
   "cell_type": "code",
   "outputs": [
    {
     "data": {
      "text/plain": "0"
     },
     "execution_count": 41,
     "metadata": {},
     "output_type": "execute_result"
    }
   ],
   "source": [
    "torch.cuda.empty_cache()\n",
    "gc.collect()"
   ],
   "metadata": {
    "collapsed": false,
    "ExecuteTime": {
     "end_time": "2024-04-23T14:05:52.464899Z",
     "start_time": "2024-04-23T14:05:52.289895Z"
    }
   },
   "id": "a4559f1556161967",
   "execution_count": 41
  },
  {
   "cell_type": "code",
   "outputs": [],
   "source": [
    "del RSv1.discriminator\n",
    "\n",
    "RSv1.discriminator = discriminator_1(conv_depth=4)\n",
    "RSv1.configure_optimizers(0.001)"
   ],
   "metadata": {
    "collapsed": false
   },
   "id": "f329bacc28310fe0"
  },
  {
   "cell_type": "code",
   "outputs": [],
   "source": [
    "del RSv1.generator\n",
    "\n",
    "RSv1.generator = generator_1(conv_depth=6)\n",
    "RSv1.configure_optimizers(0.0002)"
   ],
   "metadata": {
    "collapsed": false
   },
   "id": "967e166e9e31040f"
  },
  {
   "cell_type": "code",
   "outputs": [],
   "source": [
    "train_discriminator = False\n",
    "train_all = True\n",
    "train_generator = False\n",
    "\n",
    "r_bound, f_bound = 0.6, 0.6"
   ],
   "metadata": {
    "collapsed": false,
    "ExecuteTime": {
     "end_time": "2024-04-23T15:09:26.195134Z",
     "start_time": "2024-04-23T15:09:26.188158Z"
    }
   },
   "id": "954f59800fd8ceec",
   "execution_count": 46
  },
  {
   "cell_type": "code",
   "outputs": [],
   "source": [
    "save_thresh = 0"
   ],
   "metadata": {
    "collapsed": false,
    "ExecuteTime": {
     "end_time": "2024-04-23T14:06:14.225216Z",
     "start_time": "2024-04-23T14:06:14.215246Z"
    }
   },
   "id": "29a5da2211b68ffd",
   "execution_count": 44
  },
  {
   "cell_type": "code",
   "outputs": [
    {
     "name": "stderr",
     "output_type": "stream",
     "text": [
      "100%|██████████| 3891/3891 [01:50<00:00, 35.15it/s]\n"
     ]
    },
    {
     "name": "stdout",
     "output_type": "stream",
     "text": [
      "Generator Training\n",
      "Epoch 1 with g_loss: 1.1716305581808275 and d_loss: 0.0\n",
      "Epoch: 1, g_acc=0.386, d_acc_f=0.6244999885559082, d_acc_r=0.6214999854564667\n",
      "d_dist_f=0.4158209800720215, d_dist_r=0.407623815536499\n"
     ]
    },
    {
     "name": "stderr",
     "output_type": "stream",
     "text": [
      "100%|██████████| 3891/3891 [01:47<00:00, 36.04it/s]\n"
     ]
    },
    {
     "name": "stdout",
     "output_type": "stream",
     "text": [
      "Generator Training\n",
      "Epoch 1 with g_loss: 0.8325836021224321 and d_loss: 0.0\n",
      "Epoch: 1, g_acc=0.38, d_acc_f=0.6274999856948853, d_acc_r=0.6214999854564667\n",
      "d_dist_f=0.4118049144744873, d_dist_r=0.407623815536499\n"
     ]
    },
    {
     "name": "stderr",
     "output_type": "stream",
     "text": [
      "100%|██████████| 3891/3891 [01:47<00:00, 36.10it/s]\n"
     ]
    },
    {
     "name": "stdout",
     "output_type": "stream",
     "text": [
      "Generator Training\n",
      "Epoch 1 with g_loss: 0.8189324451439548 and d_loss: 0.0\n",
      "Epoch: 1, g_acc=0.3755, d_acc_f=0.6164999812841415, d_acc_r=0.6214999854564667\n",
      "d_dist_f=0.4165057182312012, d_dist_r=0.407623815536499\n"
     ]
    },
    {
     "name": "stderr",
     "output_type": "stream",
     "text": [
      "100%|██████████| 3891/3891 [01:50<00:00, 35.24it/s]\n"
     ]
    },
    {
     "name": "stdout",
     "output_type": "stream",
     "text": [
      "Generator Training\n",
      "Epoch 1 with g_loss: 0.8066265681919846 and d_loss: 0.0\n",
      "Epoch: 1, g_acc=0.38049999999999995, d_acc_f=0.6144999861717224, d_acc_r=0.6214999854564667\n",
      "d_dist_f=0.4173689365386963, d_dist_r=0.407623815536499\n"
     ]
    },
    {
     "name": "stderr",
     "output_type": "stream",
     "text": [
      "100%|██████████| 3891/3891 [01:49<00:00, 35.38it/s]\n"
     ]
    },
    {
     "name": "stdout",
     "output_type": "stream",
     "text": [
      "Generator Training\n",
      "Epoch 1 with g_loss: 0.7963385244195242 and d_loss: 0.0\n",
      "Epoch: 1, g_acc=0.37849999999999995, d_acc_f=0.6184999883174896, d_acc_r=0.6214999854564667\n",
      "d_dist_f=0.41969051361083987, d_dist_r=0.407623815536499\n"
     ]
    },
    {
     "name": "stderr",
     "output_type": "stream",
     "text": [
      "100%|██████████| 3891/3891 [01:49<00:00, 35.66it/s]\n"
     ]
    },
    {
     "name": "stdout",
     "output_type": "stream",
     "text": [
      "Generator Training\n",
      "Epoch 1 with g_loss: 0.7872827774575791 and d_loss: 0.0\n",
      "Epoch: 1, g_acc=0.3725, d_acc_f=0.6119999915361405, d_acc_r=0.6214999854564667\n",
      "d_dist_f=0.419127082824707, d_dist_r=0.407623815536499\n"
     ]
    },
    {
     "name": "stderr",
     "output_type": "stream",
     "text": [
      " 12%|█▏        | 454/3891 [00:13<01:40, 34.36it/s]\n"
     ]
    },
    {
     "ename": "KeyboardInterrupt",
     "evalue": "",
     "output_type": "error",
     "traceback": [
      "\u001B[1;31m---------------------------------------------------------------------------\u001B[0m",
      "\u001B[1;31mKeyboardInterrupt\u001B[0m                         Traceback (most recent call last)",
      "Input \u001B[1;32mIn [59]\u001B[0m, in \u001B[0;36m<cell line: 2>\u001B[1;34m()\u001B[0m\n\u001B[0;32m     49\u001B[0m         \u001B[38;5;28;01mbreak\u001B[39;00m\n\u001B[0;32m     51\u001B[0m     RSv1\u001B[38;5;241m.\u001B[39mtrain_step(bitboards, mvs, train_generator\u001B[38;5;241m=\u001B[39m\u001B[38;5;28;01mTrue\u001B[39;00m)\n\u001B[1;32m---> 52\u001B[0m     \u001B[43mRSv1\u001B[49m\u001B[38;5;241;43m.\u001B[39;49m\u001B[43mstockfish_train\u001B[49m\u001B[43m(\u001B[49m\u001B[43mbitboards\u001B[49m\u001B[43m,\u001B[49m\u001B[43m \u001B[49m\u001B[43mstk_mvs\u001B[49m\u001B[43m)\u001B[49m\n\u001B[0;32m     53\u001B[0m     i \u001B[38;5;241m+\u001B[39m\u001B[38;5;241m=\u001B[39m \u001B[38;5;241m1\u001B[39m\n\u001B[0;32m     55\u001B[0m \u001B[38;5;28mprint\u001B[39m(\u001B[38;5;124m'\u001B[39m\u001B[38;5;124mGenerator Training\u001B[39m\u001B[38;5;124m'\u001B[39m)\n",
      "Input \u001B[1;32mIn [29]\u001B[0m, in \u001B[0;36mGAN_1.stockfish_train\u001B[1;34m(self, train_boards, moves)\u001B[0m\n\u001B[0;32m     69\u001B[0m g_loss \u001B[38;5;241m*\u001B[39m\u001B[38;5;241m=\u001B[39m \u001B[38;5;28mself\u001B[39m\u001B[38;5;241m.\u001B[39malpha\n\u001B[0;32m     71\u001B[0m \u001B[38;5;28mself\u001B[39m\u001B[38;5;241m.\u001B[39mlogs[\u001B[38;5;124m\"\u001B[39m\u001B[38;5;124mcur_g_loss\u001B[39m\u001B[38;5;124m\"\u001B[39m] \u001B[38;5;241m+\u001B[39m\u001B[38;5;241m=\u001B[39m g_loss\u001B[38;5;241m.\u001B[39mitem()\n\u001B[1;32m---> 73\u001B[0m \u001B[43mg_loss\u001B[49m\u001B[38;5;241;43m.\u001B[39;49m\u001B[43mbackward\u001B[49m\u001B[43m(\u001B[49m\u001B[43m)\u001B[49m\n\u001B[0;32m     75\u001B[0m \u001B[38;5;28mself\u001B[39m\u001B[38;5;241m.\u001B[39mopt_g\u001B[38;5;241m.\u001B[39mstep()\n",
      "File \u001B[1;32m~\\anaconda3\\lib\\site-packages\\torch\\_tensor.py:522\u001B[0m, in \u001B[0;36mTensor.backward\u001B[1;34m(self, gradient, retain_graph, create_graph, inputs)\u001B[0m\n\u001B[0;32m    512\u001B[0m \u001B[38;5;28;01mif\u001B[39;00m has_torch_function_unary(\u001B[38;5;28mself\u001B[39m):\n\u001B[0;32m    513\u001B[0m     \u001B[38;5;28;01mreturn\u001B[39;00m handle_torch_function(\n\u001B[0;32m    514\u001B[0m         Tensor\u001B[38;5;241m.\u001B[39mbackward,\n\u001B[0;32m    515\u001B[0m         (\u001B[38;5;28mself\u001B[39m,),\n\u001B[1;32m   (...)\u001B[0m\n\u001B[0;32m    520\u001B[0m         inputs\u001B[38;5;241m=\u001B[39minputs,\n\u001B[0;32m    521\u001B[0m     )\n\u001B[1;32m--> 522\u001B[0m \u001B[43mtorch\u001B[49m\u001B[38;5;241;43m.\u001B[39;49m\u001B[43mautograd\u001B[49m\u001B[38;5;241;43m.\u001B[39;49m\u001B[43mbackward\u001B[49m\u001B[43m(\u001B[49m\n\u001B[0;32m    523\u001B[0m \u001B[43m    \u001B[49m\u001B[38;5;28;43mself\u001B[39;49m\u001B[43m,\u001B[49m\u001B[43m \u001B[49m\u001B[43mgradient\u001B[49m\u001B[43m,\u001B[49m\u001B[43m \u001B[49m\u001B[43mretain_graph\u001B[49m\u001B[43m,\u001B[49m\u001B[43m \u001B[49m\u001B[43mcreate_graph\u001B[49m\u001B[43m,\u001B[49m\u001B[43m \u001B[49m\u001B[43minputs\u001B[49m\u001B[38;5;241;43m=\u001B[39;49m\u001B[43minputs\u001B[49m\n\u001B[0;32m    524\u001B[0m \u001B[43m\u001B[49m\u001B[43m)\u001B[49m\n",
      "File \u001B[1;32m~\\anaconda3\\lib\\site-packages\\torch\\autograd\\__init__.py:266\u001B[0m, in \u001B[0;36mbackward\u001B[1;34m(tensors, grad_tensors, retain_graph, create_graph, grad_variables, inputs)\u001B[0m\n\u001B[0;32m    261\u001B[0m     retain_graph \u001B[38;5;241m=\u001B[39m create_graph\n\u001B[0;32m    263\u001B[0m \u001B[38;5;66;03m# The reason we repeat the same comment below is that\u001B[39;00m\n\u001B[0;32m    264\u001B[0m \u001B[38;5;66;03m# some Python versions print out the first line of a multi-line function\u001B[39;00m\n\u001B[0;32m    265\u001B[0m \u001B[38;5;66;03m# calls in the traceback and some print out the last line\u001B[39;00m\n\u001B[1;32m--> 266\u001B[0m \u001B[43mVariable\u001B[49m\u001B[38;5;241;43m.\u001B[39;49m\u001B[43m_execution_engine\u001B[49m\u001B[38;5;241;43m.\u001B[39;49m\u001B[43mrun_backward\u001B[49m\u001B[43m(\u001B[49m\u001B[43m  \u001B[49m\u001B[38;5;66;43;03m# Calls into the C++ engine to run the backward pass\u001B[39;49;00m\n\u001B[0;32m    267\u001B[0m \u001B[43m    \u001B[49m\u001B[43mtensors\u001B[49m\u001B[43m,\u001B[49m\n\u001B[0;32m    268\u001B[0m \u001B[43m    \u001B[49m\u001B[43mgrad_tensors_\u001B[49m\u001B[43m,\u001B[49m\n\u001B[0;32m    269\u001B[0m \u001B[43m    \u001B[49m\u001B[43mretain_graph\u001B[49m\u001B[43m,\u001B[49m\n\u001B[0;32m    270\u001B[0m \u001B[43m    \u001B[49m\u001B[43mcreate_graph\u001B[49m\u001B[43m,\u001B[49m\n\u001B[0;32m    271\u001B[0m \u001B[43m    \u001B[49m\u001B[43minputs\u001B[49m\u001B[43m,\u001B[49m\n\u001B[0;32m    272\u001B[0m \u001B[43m    \u001B[49m\u001B[43mallow_unreachable\u001B[49m\u001B[38;5;241;43m=\u001B[39;49m\u001B[38;5;28;43;01mTrue\u001B[39;49;00m\u001B[43m,\u001B[49m\n\u001B[0;32m    273\u001B[0m \u001B[43m    \u001B[49m\u001B[43maccumulate_grad\u001B[49m\u001B[38;5;241;43m=\u001B[39;49m\u001B[38;5;28;43;01mTrue\u001B[39;49;00m\u001B[43m,\u001B[49m\n\u001B[0;32m    274\u001B[0m \u001B[43m\u001B[49m\u001B[43m)\u001B[49m\n",
      "\u001B[1;31mKeyboardInterrupt\u001B[0m: "
     ]
    }
   ],
   "source": [
    "prefix = \"StockGAN-RDv2\"\n",
    "for epoch in range(50):\n",
    "\n",
    "    reps = 0\n",
    "\n",
    "    if train_all or train_discriminator:\n",
    "        prev_generator = None\n",
    "\n",
    "        if epoch > RSv1.save_every + 1 and not (RSv1.logs['d_acc_f'][-1] > f_bound and RSv1.logs['d_acc_r'][-1] > r_bound):\n",
    "            choice = np.random.choice(np.arange(start=RSv1.save_every, stop= (epoch//(RSv1.save_every+1) * RSv1.save_every)+1, step = RSv1.save_every))\n",
    "\n",
    "            prev_generator = torch.load(f'{prefix}-generator {choice}.pt', map_location= device)\n",
    "\n",
    "        while not (RSv1.logs['d_acc_f'][-1] > f_bound and RSv1.logs['d_acc_r'][-1] > r_bound):\n",
    "\n",
    "            reps += 1\n",
    "            if reps > 20:\n",
    "                train_all = False\n",
    "                train_discriminator = False\n",
    "                train_generator = False\n",
    "                break\n",
    "\n",
    "            i=0\n",
    "\n",
    "            for bitboards, mvs, _ in tqdm(loader):\n",
    "                if i > G // 1:\n",
    "                    break\n",
    "                RSv1.train_step(bitboards, mvs, train_generator=False, prev_generator=prev_generator)\n",
    "                i += 1\n",
    "\n",
    "            print('Discriminator Training')\n",
    "            RSv1.on_epoch_end(epoch, G, prefix, val_data)\n",
    "\n",
    "\n",
    "    reps = 0\n",
    "    if train_all or train_generator:\n",
    "\n",
    "        while (RSv1.logs['d_acc_f'][-1] > f_bound and RSv1.logs['d_acc_r'][-1] > r_bound):\n",
    "            reps += 1\n",
    "            if reps > 20:\n",
    "                train_all = False\n",
    "                train_generator = False\n",
    "                train_discriminator = False\n",
    "                break\n",
    "\n",
    "            i=0\n",
    "            for bitboards, mvs, stk_mvs in tqdm(loader):\n",
    "                if i > G // 1:\n",
    "                    break\n",
    "\n",
    "                RSv1.train_step(bitboards, mvs, train_generator=True)\n",
    "                RSv1.stockfish_train(bitboards, stk_mvs)\n",
    "                i += 1\n",
    "\n",
    "            print('Generator Training')\n",
    "            RSv1.on_epoch_end(epoch, G, prefix, val_data )\n",
    "            \n",
    "            if RSv1.logs[\"g_acc\"][-1] > save_thresh:\n",
    "                save_thresh = RSv1.logs[\"g_acc\"][-1]\n",
    "                torch.save(RSv1.generator, f\"{prefix}-acc_{save_thresh}.pt\")\n",
    "            \n",
    "        "
   ],
   "metadata": {
    "collapsed": false,
    "ExecuteTime": {
     "end_time": "2024-04-23T15:52:53.822192Z",
     "start_time": "2024-04-23T15:41:43.582242Z"
    }
   },
   "id": "183bdcbed9d95856",
   "execution_count": 59
  },
  {
   "cell_type": "code",
   "outputs": [],
   "source": [
    "pd.DataFrame.from_dict(RSv1.logs).to_csv('Results/StockGAN_RDv2.csv', index = None)"
   ],
   "metadata": {
    "collapsed": false,
    "ExecuteTime": {
     "end_time": "2024-04-23T14:05:39.384392Z",
     "start_time": "2024-04-23T14:05:39.383394Z"
    }
   },
   "id": "4d09422a0c5c7c08",
   "execution_count": null
  },
  {
   "cell_type": "code",
   "outputs": [],
   "source": [
    "new_generator = torch.load(\"StockGAN-RDv2-acc_0.4025.pt\")\n",
    "old_generator = torch.load(\"Models/BasicGAN/BasicGAN_RDv2_acc0.394.pt\")"
   ],
   "metadata": {
    "collapsed": false,
    "ExecuteTime": {
     "end_time": "2024-04-23T15:36:58.253969Z",
     "start_time": "2024-04-23T15:36:58.188010Z"
    }
   },
   "id": "c3364375c510db9",
   "execution_count": 56
  },
  {
   "cell_type": "code",
   "outputs": [
    {
     "data": {
      "text/plain": "tensor([[[[0.0000e+00, 0.0000e+00, 0.0000e+00,  ..., 0.0000e+00,\n           0.0000e+00, 0.0000e+00],\n          [0.0000e+00, 0.0000e+00, 0.0000e+00,  ..., 0.0000e+00,\n           5.1000e-04, 0.0000e+00],\n          [0.0000e+00, 0.0000e+00, 0.0000e+00,  ..., 0.0000e+00,\n           0.0000e+00, 0.0000e+00],\n          ...,\n          [0.0000e+00, 0.0000e+00, 0.0000e+00,  ..., 0.0000e+00,\n           0.0000e+00, 0.0000e+00],\n          [0.0000e+00, 0.0000e+00, 0.0000e+00,  ..., 0.0000e+00,\n           0.0000e+00, 0.0000e+00],\n          [0.0000e+00, 0.0000e+00, 0.0000e+00,  ..., 0.0000e+00,\n           0.0000e+00, 0.0000e+00]],\n\n         [[0.0000e+00, 0.0000e+00, 0.0000e+00,  ..., 0.0000e+00,\n           0.0000e+00, 0.0000e+00],\n          [0.0000e+00, 0.0000e+00, 0.0000e+00,  ..., 0.0000e+00,\n           0.0000e+00, 0.0000e+00],\n          [0.0000e+00, 0.0000e+00, 0.0000e+00,  ..., 0.0000e+00,\n           0.0000e+00, 0.0000e+00],\n          ...,\n          [0.0000e+00, 0.0000e+00, 0.0000e+00,  ..., 0.0000e+00,\n           0.0000e+00, 0.0000e+00],\n          [0.0000e+00, 0.0000e+00, 0.0000e+00,  ..., 0.0000e+00,\n           1.0000e-05, 0.0000e+00],\n          [0.0000e+00, 0.0000e+00, 0.0000e+00,  ..., 0.0000e+00,\n           0.0000e+00, 0.0000e+00]]],\n\n\n        [[[0.0000e+00, 0.0000e+00, 0.0000e+00,  ..., 0.0000e+00,\n           0.0000e+00, 9.8251e-01],\n          [9.9951e-01, 0.0000e+00, 0.0000e+00,  ..., 0.0000e+00,\n           0.0000e+00, 0.0000e+00],\n          [0.0000e+00, 0.0000e+00, 0.0000e+00,  ..., 0.0000e+00,\n           0.0000e+00, 0.0000e+00],\n          ...,\n          [0.0000e+00, 0.0000e+00, 0.0000e+00,  ..., 0.0000e+00,\n           0.0000e+00, 0.0000e+00],\n          [0.0000e+00, 0.0000e+00, 0.0000e+00,  ..., 0.0000e+00,\n           0.0000e+00, 0.0000e+00],\n          [0.0000e+00, 0.0000e+00, 0.0000e+00,  ..., 0.0000e+00,\n           0.0000e+00, 0.0000e+00]],\n\n         [[0.0000e+00, 0.0000e+00, 0.0000e+00,  ..., 0.0000e+00,\n           9.8251e-01, 0.0000e+00],\n          [0.0000e+00, 0.0000e+00, 0.0000e+00,  ..., 0.0000e+00,\n           0.0000e+00, 0.0000e+00],\n          [0.0000e+00, 0.0000e+00, 0.0000e+00,  ..., 0.0000e+00,\n           0.0000e+00, 0.0000e+00],\n          ...,\n          [0.0000e+00, 0.0000e+00, 0.0000e+00,  ..., 0.0000e+00,\n           0.0000e+00, 0.0000e+00],\n          [0.0000e+00, 0.0000e+00, 0.0000e+00,  ..., 0.0000e+00,\n           0.0000e+00, 0.0000e+00],\n          [0.0000e+00, 0.0000e+00, 0.0000e+00,  ..., 0.0000e+00,\n           0.0000e+00, 0.0000e+00]]],\n\n\n        [[[0.0000e+00, 0.0000e+00, 0.0000e+00,  ..., 0.0000e+00,\n           0.0000e+00, 0.0000e+00],\n          [0.0000e+00, 0.0000e+00, 0.0000e+00,  ..., 0.0000e+00,\n           4.9352e-01, 0.0000e+00],\n          [0.0000e+00, 0.0000e+00, 0.0000e+00,  ..., 0.0000e+00,\n           0.0000e+00, 0.0000e+00],\n          ...,\n          [0.0000e+00, 0.0000e+00, 0.0000e+00,  ..., 0.0000e+00,\n           0.0000e+00, 0.0000e+00],\n          [0.0000e+00, 0.0000e+00, 0.0000e+00,  ..., 0.0000e+00,\n           1.0000e-05, 0.0000e+00],\n          [0.0000e+00, 0.0000e+00, 0.0000e+00,  ..., 0.0000e+00,\n           0.0000e+00, 0.0000e+00]],\n\n         [[0.0000e+00, 0.0000e+00, 0.0000e+00,  ..., 0.0000e+00,\n           0.0000e+00, 0.0000e+00],\n          [0.0000e+00, 0.0000e+00, 0.0000e+00,  ..., 0.0000e+00,\n           0.0000e+00, 0.0000e+00],\n          [0.0000e+00, 0.0000e+00, 0.0000e+00,  ..., 0.0000e+00,\n           4.4201e-01, 0.0000e+00],\n          ...,\n          [0.0000e+00, 0.0000e+00, 0.0000e+00,  ..., 0.0000e+00,\n           0.0000e+00, 0.0000e+00],\n          [0.0000e+00, 0.0000e+00, 0.0000e+00,  ..., 0.0000e+00,\n           0.0000e+00, 0.0000e+00],\n          [0.0000e+00, 0.0000e+00, 0.0000e+00,  ..., 0.0000e+00,\n           0.0000e+00, 0.0000e+00]]],\n\n\n        ...,\n\n\n        [[[0.0000e+00, 0.0000e+00, 0.0000e+00,  ..., 0.0000e+00,\n           0.0000e+00, 0.0000e+00],\n          [0.0000e+00, 0.0000e+00, 0.0000e+00,  ..., 0.0000e+00,\n           0.0000e+00, 0.0000e+00],\n          [0.0000e+00, 0.0000e+00, 0.0000e+00,  ..., 0.0000e+00,\n           0.0000e+00, 0.0000e+00],\n          ...,\n          [0.0000e+00, 0.0000e+00, 0.0000e+00,  ..., 0.0000e+00,\n           0.0000e+00, 0.0000e+00],\n          [0.0000e+00, 0.0000e+00, 0.0000e+00,  ..., 0.0000e+00,\n           0.0000e+00, 0.0000e+00],\n          [0.0000e+00, 0.0000e+00, 0.0000e+00,  ..., 0.0000e+00,\n           0.0000e+00, 0.0000e+00]],\n\n         [[0.0000e+00, 0.0000e+00, 0.0000e+00,  ..., 5.0251e-01,\n           0.0000e+00, 0.0000e+00],\n          [0.0000e+00, 0.0000e+00, 0.0000e+00,  ..., 5.0051e-01,\n           0.0000e+00, 0.0000e+00],\n          [0.0000e+00, 0.0000e+00, 0.0000e+00,  ..., 0.0000e+00,\n           0.0000e+00, 0.0000e+00],\n          ...,\n          [0.0000e+00, 0.0000e+00, 0.0000e+00,  ..., 0.0000e+00,\n           0.0000e+00, 0.0000e+00],\n          [0.0000e+00, 0.0000e+00, 0.0000e+00,  ..., 0.0000e+00,\n           0.0000e+00, 0.0000e+00],\n          [0.0000e+00, 0.0000e+00, 0.0000e+00,  ..., 0.0000e+00,\n           0.0000e+00, 0.0000e+00]]],\n\n\n        [[[0.0000e+00, 0.0000e+00, 0.0000e+00,  ..., 0.0000e+00,\n           0.0000e+00, 0.0000e+00],\n          [0.0000e+00, 0.0000e+00, 0.0000e+00,  ..., 0.0000e+00,\n           0.0000e+00, 0.0000e+00],\n          [4.8251e-01, 0.0000e+00, 0.0000e+00,  ..., 0.0000e+00,\n           0.0000e+00, 0.0000e+00],\n          ...,\n          [0.0000e+00, 0.0000e+00, 0.0000e+00,  ..., 0.0000e+00,\n           0.0000e+00, 0.0000e+00],\n          [0.0000e+00, 0.0000e+00, 0.0000e+00,  ..., 0.0000e+00,\n           0.0000e+00, 0.0000e+00],\n          [0.0000e+00, 0.0000e+00, 0.0000e+00,  ..., 0.0000e+00,\n           0.0000e+00, 0.0000e+00]],\n\n         [[0.0000e+00, 0.0000e+00, 0.0000e+00,  ..., 0.0000e+00,\n           0.0000e+00, 0.0000e+00],\n          [0.0000e+00, 0.0000e+00, 0.0000e+00,  ..., 0.0000e+00,\n           0.0000e+00, 0.0000e+00],\n          [0.0000e+00, 0.0000e+00, 0.0000e+00,  ..., 0.0000e+00,\n           0.0000e+00, 0.0000e+00],\n          ...,\n          [0.0000e+00, 0.0000e+00, 5.0601e-01,  ..., 0.0000e+00,\n           0.0000e+00, 0.0000e+00],\n          [0.0000e+00, 0.0000e+00, 0.0000e+00,  ..., 0.0000e+00,\n           0.0000e+00, 0.0000e+00],\n          [0.0000e+00, 0.0000e+00, 0.0000e+00,  ..., 0.0000e+00,\n           0.0000e+00, 0.0000e+00]]],\n\n\n        [[[0.0000e+00, 0.0000e+00, 0.0000e+00,  ..., 0.0000e+00,\n           0.0000e+00, 0.0000e+00],\n          [0.0000e+00, 0.0000e+00, 0.0000e+00,  ..., 0.0000e+00,\n           0.0000e+00, 0.0000e+00],\n          [0.0000e+00, 0.0000e+00, 0.0000e+00,  ..., 0.0000e+00,\n           4.9801e-01, 0.0000e+00],\n          ...,\n          [0.0000e+00, 0.0000e+00, 0.0000e+00,  ..., 0.0000e+00,\n           0.0000e+00, 0.0000e+00],\n          [0.0000e+00, 0.0000e+00, 0.0000e+00,  ..., 0.0000e+00,\n           0.0000e+00, 0.0000e+00],\n          [0.0000e+00, 0.0000e+00, 0.0000e+00,  ..., 0.0000e+00,\n           0.0000e+00, 0.0000e+00]],\n\n         [[0.0000e+00, 0.0000e+00, 0.0000e+00,  ..., 0.0000e+00,\n           0.0000e+00, 0.0000e+00],\n          [0.0000e+00, 0.0000e+00, 0.0000e+00,  ..., 0.0000e+00,\n           0.0000e+00, 0.0000e+00],\n          [0.0000e+00, 0.0000e+00, 0.0000e+00,  ..., 0.0000e+00,\n           0.0000e+00, 0.0000e+00],\n          ...,\n          [0.0000e+00, 0.0000e+00, 0.0000e+00,  ..., 0.0000e+00,\n           0.0000e+00, 4.8351e-01],\n          [0.0000e+00, 0.0000e+00, 0.0000e+00,  ..., 0.0000e+00,\n           0.0000e+00, 0.0000e+00],\n          [0.0000e+00, 0.0000e+00, 0.0000e+00,  ..., 0.0000e+00,\n           0.0000e+00, 0.0000e+00]]]])"
     },
     "execution_count": 61,
     "metadata": {},
     "output_type": "execute_result"
    }
   ],
   "source": [
    "loader.dataset.moves.resize_(len(loader.dataset), 2, 8, 8)\n",
    "loader.dataset.stock_moves.resize_(len(loader.dataset), 2, 8, 8)\n",
    "val_data.moves.resize_(len(val_data), 2, 8, 8)\n",
    "val_data.stock_moves.resize_(len(val_data), 2, 8, 8)"
   ],
   "metadata": {
    "collapsed": false,
    "ExecuteTime": {
     "end_time": "2024-04-17T03:32:13.821589Z",
     "start_time": "2024-04-17T03:32:13.796590Z"
    }
   },
   "id": "7374b50be74aeda2",
   "execution_count": 61
  },
  {
   "cell_type": "code",
   "outputs": [
    {
     "data": {
      "text/plain": "0.3946939809620326"
     },
     "execution_count": 41,
     "metadata": {},
     "output_type": "execute_result"
    }
   ],
   "source": [
    "np.mean(np.all(human_moves == stock_moves, axis=1))"
   ],
   "metadata": {
    "collapsed": false,
    "ExecuteTime": {
     "end_time": "2024-04-21T18:04:38.738031Z",
     "start_time": "2024-04-21T18:04:38.719509Z"
    }
   },
   "id": "5ef1892e3d861e8",
   "execution_count": 41
  },
  {
   "cell_type": "code",
   "outputs": [],
   "source": [
    "old_generator_model = lambda x: network_agent_prob_conv(x, lambda y: RSv1(y))\n",
    "generator_model = lambda x: network_agent_prob_conv(x, lambda y: (new_generator(y)))"
   ],
   "metadata": {
    "collapsed": false,
    "ExecuteTime": {
     "end_time": "2024-04-23T15:53:25.925895Z",
     "start_time": "2024-04-23T15:53:25.911856Z"
    }
   },
   "id": "dda912296c384c60",
   "execution_count": 60
  },
  {
   "cell_type": "code",
   "outputs": [
    {
     "name": "stderr",
     "output_type": "stream",
     "text": [
      "100%|██████████| 250/250 [01:58<00:00,  2.11it/s]\n",
      "100%|██████████| 250/250 [01:56<00:00,  2.14it/s]\n"
     ]
    },
    {
     "data": {
      "text/plain": "(259, 52, 189, 0.518)"
     },
     "execution_count": 61,
     "metadata": {},
     "output_type": "execute_result"
    }
   ],
   "source": [
    "test_against(generator_model, old_generator_model, N=500, unique=True)"
   ],
   "metadata": {
    "collapsed": false,
    "ExecuteTime": {
     "end_time": "2024-04-23T15:57:22.289570Z",
     "start_time": "2024-04-23T15:53:27.221140Z"
    }
   },
   "id": "fe633d4226eb1269",
   "execution_count": 61
  },
  {
   "cell_type": "code",
   "outputs": [],
   "source": [
    "play_game(old_generator_model, generator_model, show_boards=True)"
   ],
   "metadata": {
    "collapsed": false
   },
   "id": "36bf7a18ea71bbff",
   "execution_count": null
  },
  {
   "cell_type": "code",
   "outputs": [],
   "source": [],
   "metadata": {
    "collapsed": false
   },
   "id": "af1a45e567b7e012"
  }
 ],
 "metadata": {
  "kernelspec": {
   "display_name": "Python 3 (ipykernel)",
   "language": "python",
   "name": "python3"
  },
  "language_info": {
   "codemirror_mode": {
    "name": "ipython",
    "version": 3
   },
   "file_extension": ".py",
   "mimetype": "text/x-python",
   "name": "python",
   "nbconvert_exporter": "python",
   "pygments_lexer": "ipython3",
   "version": "3.10.12"
  }
 },
 "nbformat": 4,
 "nbformat_minor": 5
}
