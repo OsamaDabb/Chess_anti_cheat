{
 "cells": [
  {
   "cell_type": "code",
   "execution_count": 10,
   "metadata": {
    "ExecuteTime": {
     "end_time": "2024-02-21T04:47:49.376701Z",
     "start_time": "2024-02-21T04:47:46.006590Z"
    },
    "id": "AH3tBvloOknn"
   },
   "outputs": [],
   "source": [
    "#python level imports\n",
    "import chess\n",
    "import gc\n",
    "import chess.svg\n",
    "import cv2\n",
    "from IPython.display import display, SVG\n",
    "\n",
    "import numpy as np\n",
    "import random\n",
    "from tqdm import tqdm\n",
    "from importlib import reload\n",
    "\n",
    "import torch\n",
    "import torch.nn as nn\n",
    "import torch.nn.functional as F\n",
    "import torch.optim as optim\n",
    "from torch.utils.data import DataLoader, Dataset\n",
    "\n",
    "import utils\n",
    "reload(utils)\n",
    "import utils"
   ]
  },
  {
   "cell_type": "code",
   "execution_count": 2,
   "metadata": {},
   "outputs": [
    {
     "name": "stdout",
     "output_type": "stream",
     "text": [
      "False\n"
     ]
    }
   ],
   "source": [
    "if torch.cuda.is_available():\n",
    "    # Set default tensor type to CUDA tensors\n",
    "    torch.set_default_tensor_type(torch.cuda.FloatTensor)\n",
    "    \n",
    "else:\n",
    "    \n",
    "    torch.set_default_tensor_type(torch.FloatTensor)\n",
    " \n",
    "print(torch.cuda.is_available())\n",
    "device = torch.device('cuda' if torch.cuda.is_available() else 'cpu')"
   ]
  },
  {
   "cell_type": "code",
   "execution_count": null,
   "metadata": {
    "ExecuteTime": {
     "end_time": "2024-02-21T04:54:07.571966Z",
     "start_time": "2024-02-21T04:47:50.398500Z"
    },
    "id": "bQtbn5kanziZ",
    "scrolled": true
   },
   "outputs": [],
   "source": [
    "#generate N games worth of data\n",
    "boards, meta, _, moves, _, _ = generate_data(output_file, N = 20_000)"
   ]
  },
  {
   "cell_type": "code",
   "execution_count": 4,
   "metadata": {},
   "outputs": [],
   "source": [
    "# Behavioral Cloning Model Architecture\n",
    "class MLPv2_1(nn.Module):\n",
    "\n",
    "    def __init__(self):\n",
    "\n",
    "        super().__init__()\n",
    "        self.conv1 = nn.Conv2d(14, 64, 3, 1, padding=1, padding_mode = 'zeros')\n",
    "        \n",
    "        self.layers = nn.ModuleList()\n",
    "        \n",
    "        self.depth = 6\n",
    "        \n",
    "        for _ in range(self.depth):\n",
    "            self.layers.append(nn.Conv2d(64,64, 3, 1, padding=1, padding_mode = 'zeros'))\n",
    "            self.layers.append(nn.BatchNorm2d(64))\n",
    "            self.layers.append(nn.Conv2d(64,64, 3, 1, padding=1, padding_mode = 'zeros'))\n",
    "            self.layers.append(nn.BatchNorm2d(64))\n",
    "\n",
    "        self.linear = nn.Linear(4096, 128)\n",
    "\n",
    "    def forward(self, x):\n",
    "\n",
    "        x = self.conv1(x)\n",
    "        \n",
    "        for i in range(self.depth):\n",
    "            j = i*4\n",
    "            ph = x.clone()\n",
    "            ph = self.layers[j](ph)\n",
    "            ph = self.layers[j+1](ph)\n",
    "            ph = F.relu(ph)\n",
    "            ph = self.layers[j+2](ph)\n",
    "            ph = self.layers[j+3](ph)\n",
    "            \n",
    "            x = x + ph\n",
    "            x = F.relu(x)\n",
    "                  \n",
    "        \n",
    "        x = torch.flatten(x, start_dim=1)\n",
    "        \n",
    "        x = self.linear(x)\n",
    "        \n",
    "        minn, ila = x[:,:64], x[:,64:]\n",
    "\n",
    "        return minn, ila"
   ]
  },
  {
   "cell_type": "code",
   "execution_count": null,
   "metadata": {
    "collapsed": true
   },
   "outputs": [],
   "source": [
    "# Set up model, dataloader, loss criteria and optimizers\n",
    "RDv2_1 = MLPv2_1()\n",
    "RDv2_1 = RDv2_1.to(device)\n",
    "\n",
    "criterion = nn.CrossEntropyLoss()\n",
    "criterion2 = nn.CrossEntropyLoss()\n",
    "\n",
    "optimizer = optim.SGD(RDv2_1.parameters(), lr = 0.01, momentum=0.9)\n",
    "B = 128\n",
    "\n",
    "loader = DataLoader(ChessDataConv(boards, meta, moves), batch_size = B, shuffle = True, generator=torch.Generator(device='cuda'))"
   ]
  },
  {
   "cell_type": "code",
   "execution_count": null,
   "metadata": {
    "scrolled": true
   },
   "outputs": [],
   "source": [
    "#Initial Training Loop\n",
    "losses = []\n",
    "\n",
    "G = len(loader)\n",
    "\n",
    "for epoch in range(20):\n",
    "\n",
    "    running_loss = 0\n",
    "\n",
    "    for bitboards, target in tqdm(loader):\n",
    "\n",
    "        optimizer.zero_grad()\n",
    "\n",
    "        minn, ila = RDv2_1(bitboards)\n",
    "\n",
    "        loss = criterion(minn, target[:,:64]) + criterion2(ila, target[:,64:])\n",
    "\n",
    "        loss.backward()\n",
    "\n",
    "        optimizer.step()\n",
    "\n",
    "        running_loss += loss.item()\n",
    "        \n",
    "    running_loss /= G\n",
    "    \n",
    "    losses.append(running_loss)\n",
    "    print(f'Finished epoch {epoch+1} with loss {running_loss:.4f}')\n",
    "    if epoch % 5 == 4:\n",
    "        torch.save(RDv2_1,f\"RDv2.1 3M' {G*B*(epoch+1)}iters.pt\")\n",
    "        print(f\"Baseline against RDv2.0: {test_against(lambda x: network_agent_prob_conv(x, RDv2_1, with_attacks=True), lambda x: network_agent_prob_conv(x, RDv2_1_0, with_attacks=True),N=50)}\")\n",
    "        \n",
    "    \n",
    "    if epoch > 3 and losses[-1] > losses[-2]:\n",
    "        break\n",
    "        \n",
    "\n",
    "print('Finished Training')"
   ]
  },
  {
   "cell_type": "code",
   "execution_count": null,
   "metadata": {
    "scrolled": true
   },
   "outputs": [],
   "source": [
    "# this is the bigger trianing loop used to finally optimize the model—very similar to the training loop above\n",
    "    \n",
    "loops = 3\n",
    "start = 0\n",
    "\n",
    "losses = []\n",
    "\n",
    "RDv2_3 = torch.load(\"Models/RDv2.3 CB.pt\", map_location=device)\n",
    "\n",
    "criterion = nn.CrossEntropyLoss()\n",
    "criterion2 = nn.CrossEntropyLoss()\n",
    "\n",
    "optimizer = optim.SGD(RDv2_3.parameters(), lr = 0.001, momentum=0.9)\n",
    "B = 1024\n",
    "\n",
    "for i in range(start,loops + start):\n",
    "\n",
    "    boards, meta, _, moves = load_from_csv(\"Data/lichess_games.csv\", N = 1_000_000, skip=1_000_000 * i)\n",
    "    \n",
    "    loader = DataLoader(ChessDataConv(boards, meta, moves), batch_size = B, shuffle = True, generator=torch.Generator(device='cuda'))\n",
    "    \n",
    "    G = len(loader)\n",
    "\n",
    "    for epoch in range(15):\n",
    "\n",
    "        running_loss = 0\n",
    "\n",
    "        for bitboards, target in loader:\n",
    "\n",
    "            optimizer.zero_grad()\n",
    "\n",
    "            minn, ila = RDv2_3(bitboards)\n",
    "\n",
    "            loss = criterion(minn, target[:,:64]) + criterion2(ila, target[:,64:])\n",
    "\n",
    "            loss.backward()\n",
    "\n",
    "            optimizer.step()\n",
    "\n",
    "            running_loss += loss.item()\n",
    "\n",
    "        running_loss /= G\n",
    "\n",
    "        losses.append(running_loss)\n",
    "        print(f'Finished epoch {epoch+1} with loss {running_loss:.4f}')\n",
    "\n",
    "\n",
    "        if epoch > 3 and losses[-1] > losses[-2]:\n",
    "            break\n",
    "            \n",
    "    torch.save(RDv2_3,f\"RDv2.3 {i} loops.pt\")\n",
    "            \n",
    "    compete = test_against(lambda x: network_agent_prob_conv(x, RDv2_3, with_attacks=True), \\\n",
    "                           lambda x: network_agent_prob_conv(x, RDv2_1, with_attacks=True),N=50)\n",
    "    print(f\"Baseline against RDv2.1: {compete}\")\n",
    "    \n",
    "    del loader, boards, meta, moves\n",
    "\n",
    "    # Clean up GPU memory\n",
    "    torch.cuda.empty_cache()\n",
    "    gc.collect()\n",
    "\n",
    "\n",
    "print('Finished Training')"
   ]
  },
  {
   "cell_type": "markdown",
   "metadata": {},
   "source": [
    "# Clear cuda cache stuff"
   ]
  },
  {
   "cell_type": "code",
   "execution_count": 14,
   "metadata": {},
   "outputs": [
    {
     "data": {
      "text/plain": [
       "1395"
      ]
     },
     "execution_count": 14,
     "metadata": {},
     "output_type": "execute_result"
    }
   ],
   "source": [
    "# run this cell to clear cuda\n",
    "\n",
    "torch.cuda.empty_cache()\n",
    "gc.collect()"
   ]
  }
 ],
 "metadata": {
  "colab": {
   "collapsed_sections": [
    "AYbL3HxymT75",
    "016lVIEOYwci"
   ],
   "provenance": []
  },
  "kernelspec": {
   "display_name": "Python 3 (ipykernel)",
   "language": "python",
   "name": "python3"
  },
  "language_info": {
   "codemirror_mode": {
    "name": "ipython",
    "version": 3
   },
   "file_extension": ".py",
   "mimetype": "text/x-python",
   "name": "python",
   "nbconvert_exporter": "python",
   "pygments_lexer": "ipython3",
   "version": "3.10.12"
  }
 },
 "nbformat": 4,
 "nbformat_minor": 1
}
