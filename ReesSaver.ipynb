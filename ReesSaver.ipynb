{
 "cells": [
  {
   "cell_type": "markdown",
   "id": "9d9bd546",
   "metadata": {},
   "source": [
    "# ReesSaver Discriminator Agent"
   ]
  },
  {
   "cell_type": "markdown",
   "id": "435d5507",
   "metadata": {},
   "source": [
    "## Notes:\n",
    "- Roughly 90% of our boards are unique\n",
    "- Every time you call generate_data it gets new games/games in a different order?"
   ]
  },
  {
   "cell_type": "code",
   "execution_count": 1,
   "id": "df45d77a",
   "metadata": {
    "ExecuteTime": {
     "end_time": "2024-04-09T00:35:48.071109Z",
     "start_time": "2024-04-09T00:35:45.102784Z"
    }
   },
   "outputs": [
    {
     "name": "stderr",
     "output_type": "stream",
     "text": [
      "C:\\Users\\osama\\anaconda3\\lib\\site-packages\\torch\\__init__.py:690: UserWarning: torch.set_default_tensor_type() is deprecated as of PyTorch 2.1, please use torch.set_default_dtype() and torch.set_default_device() as alternatives. (Triggered internally at C:\\actions-runner\\_work\\pytorch\\pytorch\\builder\\windows\\pytorch\\torch\\csrc\\tensor\\python_tensor.cpp:453.)\n",
      "  _C._set_default_tensor_type(t)\n"
     ]
    }
   ],
   "source": [
    "import chess\n",
    "\n",
    "import chess.svg\n",
    "import cv2\n",
    "from IPython.display import display, SVG\n",
    "\n",
    "import numpy as np\n",
    "import random\n",
    "from tqdm import tqdm\n",
    "from importlib import reload\n",
    "import gc\n",
    "\n",
    "import torch\n",
    "import torch.nn as nn\n",
    "import torch.nn.functional as F\n",
    "import torch.optim as optim\n",
    "from torch.utils.data import DataLoader, Dataset\n",
    "\n",
    "import utils\n",
    "reload(utils)\n",
    "import utils\n",
    "\n",
    "\n",
    "from sklearn.model_selection import train_test_split"
   ]
  },
  {
   "cell_type": "code",
   "execution_count": 2,
   "id": "b917432f",
   "metadata": {
    "ExecuteTime": {
     "end_time": "2024-04-09T00:36:34.919081Z",
     "start_time": "2024-04-09T00:36:34.900079Z"
    }
   },
   "outputs": [
    {
     "name": "stdout",
     "output_type": "stream",
     "text": [
      "True\n"
     ]
    }
   ],
   "source": [
    "if torch.cuda.is_available():\n",
    "    # Set default tensor type to CUDA tensors\n",
    "    torch.set_default_tensor_type(torch.cuda.FloatTensor)\n",
    "    \n",
    "else:\n",
    "    \n",
    "    torch.set_default_tensor_type(torch.FloatTensor)\n",
    " \n",
    "print(torch.cuda.is_available())\n",
    "device = torch.device('cuda' if torch.cuda.is_available() else 'cpu')\n",
    "\n",
    "made_loader = False"
   ]
  },
  {
   "cell_type": "code",
   "outputs": [],
   "source": [
    "def clear_cuda():\n",
    "    \n",
    "    input()\n",
    "    \n",
    "    for obj in gc.get_objects():\n",
    "        if torch.is_tensor(obj):\n",
    "            if obj.is_cuda:\n",
    "                print(type(obj), obj.size(), obj.device)\n",
    "                del obj\n",
    "    torch.cuda.empty_cache()\n",
    "    gc.collect()"
   ],
   "metadata": {
    "collapsed": false,
    "ExecuteTime": {
     "end_time": "2024-04-09T00:36:35.679521Z",
     "start_time": "2024-04-09T00:36:35.672515Z"
    }
   },
   "id": "5e426489c167da5c",
   "execution_count": 3
  },
  {
   "cell_type": "code",
   "outputs": [
    {
     "name": "stdout",
     "output_type": "stream",
     "text": [
      "<class 'torch.Tensor'> torch.Size([64]) cuda:0\n"
     ]
    }
   ],
   "source": [
    "clear_cuda()"
   ],
   "metadata": {
    "collapsed": false,
    "ExecuteTime": {
     "end_time": "2024-04-07T04:06:11.654220Z",
     "start_time": "2024-04-07T04:06:10.594470Z"
    }
   },
   "id": "24b4c10246dd3c83",
   "execution_count": 6
  },
  {
   "cell_type": "code",
   "outputs": [],
   "source": [
    "from utils.Datasets import *\n",
    "\n",
    "import utils.Dataloading\n",
    "reload(utils.Dataloading)\n",
    "from utils.Dataloading import *\n",
    "from utils.Game_playing import *\n",
    "\n",
    "import utils.Playing_agents\n",
    "reload(utils.Playing_agents)\n",
    "from utils.Playing_agents import *\n",
    "\n",
    "from utils.CSV_data import *\n",
    "from utils.Puzzles import *"
   ],
   "metadata": {
    "ExecuteTime": {
     "end_time": "2024-04-09T01:54:21.034826Z",
     "start_time": "2024-04-09T01:54:21.005821Z"
    }
   },
   "id": "aced8f27",
   "execution_count": 61
  },
  {
   "cell_type": "code",
   "outputs": [],
   "source": [
    "class MLPv2_1(nn.Module):\n",
    "\n",
    "    def __init__(self):\n",
    "\n",
    "        super().__init__()\n",
    "        self.conv1 = nn.Conv2d(14, 64, 3, 1, padding=1, padding_mode = 'zeros')\n",
    "\n",
    "        self.layers = nn.ModuleList()\n",
    "\n",
    "        self.depth = 6\n",
    "\n",
    "        for _ in range(self.depth):\n",
    "            self.layers.append(nn.Conv2d(64,64, 3, 1, padding=1, padding_mode = 'zeros'))\n",
    "            self.layers.append(nn.BatchNorm2d(64))\n",
    "            self.layers.append(nn.Conv2d(64,64, 3, 1, padding=1, padding_mode = 'zeros'))\n",
    "            self.layers.append(nn.BatchNorm2d(64))\n",
    "\n",
    "        self.linear = nn.Linear(4096, 128)\n",
    "\n",
    "    def forward(self, x):\n",
    "\n",
    "        x = self.conv1(x)\n",
    "\n",
    "        for i in range(self.depth):\n",
    "            j = i*4\n",
    "            ph = x.clone()\n",
    "            ph = self.layers[j](ph)\n",
    "            ph = self.layers[j+1](ph)\n",
    "            ph = F.relu(ph)\n",
    "            ph = self.layers[j+2](ph)\n",
    "            ph = self.layers[j+3](ph)\n",
    "\n",
    "            x = x + ph\n",
    "            x = F.relu(x)\n",
    "\n",
    "\n",
    "        x = torch.flatten(x, start_dim=1)\n",
    "\n",
    "        x = self.linear(x)\n",
    "\n",
    "        minn, ila = x[:,:64], x[:,64:]\n",
    "\n",
    "        return minn, ila"
   ],
   "metadata": {
    "collapsed": false,
    "ExecuteTime": {
     "end_time": "2024-04-09T00:36:43.397591Z",
     "start_time": "2024-04-09T00:36:43.387590Z"
    }
   },
   "id": "2e17ab646265886d",
   "execution_count": 5
  },
  {
   "cell_type": "code",
   "outputs": [],
   "source": [
    "RDv2 = torch.load(\"Models/RDv2.3 CB.pt\", map_location= device)"
   ],
   "metadata": {
    "collapsed": false,
    "ExecuteTime": {
     "end_time": "2024-04-09T00:36:46.105537Z",
     "start_time": "2024-04-09T00:36:46.060712Z"
    }
   },
   "id": "34154737e9a1cf50",
   "execution_count": 6
  },
  {
   "cell_type": "code",
   "outputs": [
    {
     "name": "stderr",
     "output_type": "stream",
     "text": [
      "0it [00:00, ?it/s]\n",
      "100%|██████████| 50000/50000 [16:40<00:00, 49.96it/s]\n"
     ]
    }
   ],
   "source": [
    "boards, meta, elo, moves, _, _, fens = generate_data(\"./Data/GAN_human_data.pgn\", N = 50_000)\n",
    "elo = [int(x) for x in elo]"
   ],
   "metadata": {
    "ExecuteTime": {
     "end_time": "2024-04-09T01:19:09.581101Z",
     "start_time": "2024-04-09T01:00:42.269993Z"
    }
   },
   "id": "4d02f81d",
   "execution_count": 60
  },
  {
   "cell_type": "code",
   "outputs": [],
   "source": [
    "class generator_1(nn.Module):\n",
    "\n",
    "    def __init__(self, conv_depth):\n",
    "\n",
    "        super().__init__()\n",
    "        self.conv1 = nn.Conv2d(14, 64, 3, 1, padding=1, padding_mode = 'zeros')\n",
    "        \n",
    "        self.conv_layers = nn.ModuleList()\n",
    "        self.conv_depth = conv_depth\n",
    "        \n",
    "        for i in range(self.conv_depth):\n",
    "            self.conv_layers.append(nn.Conv2d(64,64, 3, 1, padding=1, padding_mode = 'zeros'))\n",
    "            self.conv_layers.append(nn.BatchNorm2d(64))\n",
    "            self.conv_layers.append(nn.Conv2d(64,64, 3, 1, padding=1, padding_mode = 'zeros'))\n",
    "            if i < self.conv_depth - 1:\n",
    "                self.conv_layers.append(nn.BatchNorm2d(64))\n",
    "\n",
    "        self.linear = nn.Linear(4096, 128)\n",
    "\n",
    "    def forward(self, x):\n",
    "\n",
    "        x = self.conv1(x)\n",
    "        \n",
    "        for i in range(self.conv_depth):\n",
    "            j = i*4\n",
    "            ph = x.clone()\n",
    "            ph = self.conv_layers[j](ph)\n",
    "            ph = self.conv_layers[j+1](ph)\n",
    "            ph = F.relu(ph)\n",
    "            ph = self.conv_layers[j+2](ph)\n",
    "            if i < self.conv_depth - 1:\n",
    "                ph = self.conv_layers[j+3](ph)\n",
    "            \n",
    "            x = x + ph\n",
    "            x = F.relu(x)   \n",
    "        \n",
    "        x = torch.flatten(x, start_dim=1)\n",
    "\n",
    "        x = self.linear(x)\n",
    "        minn, ila = x[:,:64], x[:,64:]\n",
    "\n",
    "        minn = F.softmax(minn, dim=1)\n",
    "        ila = F.softmax(ila, dim=1)\n",
    "\n",
    "        return torch.cat([minn, ila], dim=1).view(-1, 2, 8, 8)"
   ],
   "metadata": {
    "ExecuteTime": {
     "end_time": "2024-04-09T00:37:14.155072Z",
     "start_time": "2024-04-09T00:37:14.140063Z"
    }
   },
   "id": "bab89efa",
   "execution_count": 8
  },
  {
   "cell_type": "code",
   "outputs": [],
   "source": [
    "class discriminator_1(nn.Module):\n",
    "\n",
    "    def __init__(self, conv_depth):\n",
    "\n",
    "        super().__init__()\n",
    "        self.conv1 = nn.Conv2d(16, 64, 3, 1, padding=1, padding_mode = 'zeros')\n",
    "\n",
    "        self.conv_layers = nn.ModuleList()\n",
    "        self.conv_depth = conv_depth\n",
    "\n",
    "        for _ in range(self.conv_depth):\n",
    "            self.conv_layers.append(nn.Conv2d(64,64, 3, 1, padding=1, padding_mode = 'zeros'))\n",
    "            self.conv_layers.append(nn.BatchNorm2d(64))\n",
    "            self.conv_layers.append(nn.Conv2d(64,64, 3, 1, padding=1, padding_mode = 'zeros'))\n",
    "            self.conv_layers.append(nn.BatchNorm2d(64))\n",
    "            \n",
    "        self.linear = nn.Linear(4096, 1)\n",
    "    \n",
    "\n",
    "    def forward(self, board, move):\n",
    "        \n",
    "        x = torch.cat((board, move), dim = 1)\n",
    "\n",
    "        x = self.conv1(x)\n",
    "        \n",
    "        for i in range(self.conv_depth):\n",
    "            j = i*4\n",
    "            ph = x.clone()\n",
    "            ph = self.conv_layers[j](ph)\n",
    "            ph = self.conv_layers[j+1](ph)\n",
    "            ph = F.leaky_relu(ph)\n",
    "            ph = self.conv_layers[j+2](ph)\n",
    "            ph = self.conv_layers[j+3](ph)\n",
    "            \n",
    "            x = x + ph\n",
    "            x = F.leaky_relu(x)\n",
    "                  \n",
    "                  \n",
    "        x = torch.flatten(x, start_dim=1)\n",
    "        \n",
    "        x = self.linear(x)\n",
    "        x = F.sigmoid(x)\n",
    "        \n",
    "        return x"
   ],
   "metadata": {
    "ExecuteTime": {
     "end_time": "2024-04-09T00:37:14.170302Z",
     "start_time": "2024-04-09T00:37:14.156071Z"
    }
   },
   "id": "da16f337",
   "execution_count": 9
  },
  {
   "cell_type": "code",
   "outputs": [],
   "source": [
    "class GAN_1(nn.Module):\n",
    "    #AI: 0, Human: 1\n",
    "    def __init__(self, g_conv_depth, d_conv_depth, lr, pre_trained_g = None):\n",
    "        \n",
    "        super().__init__()\n",
    "        \n",
    "        print(device)\n",
    "        \n",
    "        if pre_trained_g is not None:\n",
    "            \n",
    "            self.generator = pre_trained_g\n",
    "            self.pre_trained = True\n",
    "        \n",
    "        else:\n",
    "            \n",
    "            self.generator = generator_1(g_conv_depth)\n",
    "            self.pre_trained = False\n",
    "\n",
    "\n",
    "        self.discriminator = discriminator_1(d_conv_depth)\n",
    "        \n",
    "        self.logs = {\"g_acc\": [0], \"d_acc_r\": [0], \"d_acc_f\": [0], \n",
    "                     \"g_loss\": [0], \"d_loss\": [0],\"d_dist_f\": [0], \"d_dist_r\": [0], \n",
    "                     \"cur_g_loss\": 0, \"cur_d_loss\": 0}\n",
    "        \n",
    "        self.made_loader = False\n",
    "        \n",
    "        self.configure_optimizers(lr)\n",
    "        \n",
    "    def forward(self, x):\n",
    "        return self.generator(x)\n",
    "    \n",
    "    def adversarial_loss(self, y_hat, y):\n",
    "        return F.binary_cross_entropy(y_hat, y)\n",
    "    \n",
    "    def train_step(self, train_boards, real_moves, train_generator):\n",
    "\n",
    "        epsilon = 1e-8\n",
    "        \n",
    "        #train generator\n",
    "        if train_generator:\n",
    "\n",
    "            self.opt_g.zero_grad()\n",
    "            \n",
    "            fake_moves = self(train_boards)\n",
    "            \n",
    "            if self.pre_trained:\n",
    "                \n",
    "                fake_moves = F.softmax(fake_moves[0], dim=1), F.softmax(fake_moves[1], dim=1)\n",
    "                fake_moves = torch.cat(fake_moves,dim=1).view(-1,2,8,8)\n",
    "            \n",
    "            y_hat = self.discriminator(train_boards, fake_moves)\n",
    "            \n",
    "            y = torch.zeros(real_moves.size(0), 1).to(device)\n",
    "            \n",
    "            g_loss = -1 * self.adversarial_loss(y_hat, y)\n",
    "            #g_loss = torch.sum(torch.log((y - y_hat) + epsilon), dim=0)\n",
    "                        \n",
    "            self.logs[\"cur_g_loss\"] += g_loss.item()\n",
    "            \n",
    "            g_loss.backward()\n",
    "\n",
    "            self.opt_g.step()\n",
    "              \n",
    "            \n",
    "        else:\n",
    "\n",
    "            self.opt_d.zero_grad()\n",
    "            \n",
    "            y_hat_real = self.discriminator(train_boards, real_moves)\n",
    "            y_real = torch.ones(real_moves.size(0), 1).to(device)\n",
    "            \n",
    "            d_real_loss = self.adversarial_loss(y_hat_real, y_real)\n",
    "            #d_real_loss = -1 * torch.sum(torch.log(y_hat_real + epsilon), dim=0)\n",
    "            \n",
    "            fake_moves = self(train_boards)\n",
    "\n",
    "            if self.pre_trained:\n",
    "                fake_moves = F.softmax(fake_moves[0], dim=1), F.softmax(fake_moves[1], dim=1)\n",
    "                fake_moves = torch.cat(fake_moves,dim=1).view(-1,2,8,8).detach()\n",
    "                \n",
    "\n",
    "            \n",
    "            y_hat_fake = self.discriminator(train_boards, fake_moves)\n",
    "            y_fake = torch.zeros(real_moves.size(0), 1).to(device)\n",
    "            \n",
    "            d_fake_loss = self.adversarial_loss(y_hat_fake, y_fake)\n",
    "            #d_fake_loss = -1 * torch.sum(torch.log((y_real - y_hat_fake) + epsilon), dim=0)\n",
    "            \n",
    "            \n",
    "            d_loss = d_real_loss + d_fake_loss\n",
    "            self.logs[\"cur_d_loss\"] += d_loss.item()\n",
    "            \n",
    "            d_loss.backward()\n",
    "\n",
    "            self.opt_d.step()\n",
    "            \n",
    "    \n",
    "    def configure_optimizers(self, lr):\n",
    "        self.lr = lr\n",
    "        self.opt_g = torch.optim.Adam(self.generator.parameters(), lr=lr, betas = (0.5, 0.999),  weight_decay=0.0)\n",
    "        self.opt_d = torch.optim.Adam(self.discriminator.parameters(), lr=lr,  betas = (0.5, 0.999), weight_decay=0.0)\n",
    "    \n",
    "    def on_epoch_end(self, epoch, G, val_data=None):\n",
    "        \n",
    "        self.logs[\"g_loss\"].append(self.logs[\"cur_g_loss\"] / G)\n",
    "        self.logs[\"d_loss\"].append(self.logs[\"cur_d_loss\"] / G)\n",
    "        \n",
    "        print(f'Epoch {epoch+1} with g_loss: {self.logs[\"cur_g_loss\"] / G} and d_loss: {self.logs[\"cur_d_loss\"] / G}')\n",
    "        \n",
    "        self.logs[\"cur_g_loss\"] = 0\n",
    "        self.logs[\"cur_d_loss\"] = 0\n",
    "        \n",
    "        if epoch % 1 == 0:\n",
    "            \n",
    "            if val_data is not None:\n",
    "                \n",
    "                val_boards = val_data.bitboards\n",
    "                real_moves = val_data.moves\n",
    "                \n",
    "                #fake_moves_ind = torch.argmax(fake_moves, dim=1)\n",
    "                values = np.zeros(5)\n",
    "                \n",
    "                for i in range(0,len(val_boards), 100):\n",
    "                \n",
    "                    with torch.no_grad():\n",
    "                        \n",
    "                        curr_boards, curr_moves = val_boards[i:i+100], real_moves[i:i+100]\n",
    "    \n",
    "                        fake_moves = self(curr_boards)\n",
    "\n",
    "                        f_pred = self.discriminator(curr_boards, fake_moves)\n",
    "                        r_pred = self.discriminator(curr_boards, curr_moves)\n",
    "    \n",
    "                        values[0] += torch.mean(torch.round(f_pred) == 0, dtype=torch.float).item() #d_acc_f\n",
    "                        values[1] += torch.mean(torch.round(r_pred) == 1, dtype=torch.float).item() #d_acc_r\n",
    "    \n",
    "                        values[2] += torch.mean(torch.abs(f_pred)) #d_dist_f\n",
    "                        values[3] += torch.mean(torch.abs(1 - r_pred)) #d_dist_r\n",
    "                        \n",
    "                        \n",
    "                        if not self.pre_trained:\n",
    "\n",
    "                            values[4] = torch.mean((curr_moves == torch.round(fake_moves)).all(dim=1), dtype=torch.float).item() # g_acc\n",
    "                        \n",
    "                        else:\n",
    "                            \n",
    "                            fake_from_moves = torch.argmax(fake_moves[0], dim=1)\n",
    "                            fake_to_moves = torch.argmax(fake_moves[1], dim=1)\n",
    "                            real_from_moves = torch.argmax(real_moves[:,0].view(-1,64), dim=1)\n",
    "                            real_to_moves = torch.argmax(real_moves[:,1].view(-1,64), dim=1)\n",
    "                            values[4] = torch.sum((fake_from_moves == real_from_moves) & (fake_to_moves == real_to_moves))/fake_from_moves.size(0)\n",
    "                                                    \n",
    "                n = int(len(val_boards) // 100)\n",
    "                d_acc_f, d_acc_r = values[0] / n, values[1] / n\n",
    "                d_dist_f, d_dist_r = values[2] / n, values[3] / n\n",
    "                g_acc = values[4] / n\n",
    "                \n",
    "                print(f'Epoch: {epoch+1}, {g_acc=}, {d_acc_f=}, {d_acc_r=}')\n",
    "                print(f\"{d_dist_f=}, {d_dist_r=}\")\n",
    "                \n",
    "                self.logs[\"d_acc_f\"].append(d_acc_f)\n",
    "                self.logs[\"d_acc_r\"].append(d_acc_r)\n",
    "                self.logs[\"d_dist_f\"].append(d_dist_f)\n",
    "                self.logs[\"d_dist_r\"].append(d_dist_r)\n",
    "                self.logs[\"g_acc\"].append(g_acc)\n",
    "                \n",
    "                \n",
    "            if epoch % 5 == 0:\n",
    "            \n",
    "                torch.save(self.generator, f\"generator {epoch}.pt\")\n",
    "                torch.save(self.discriminator, f\"discriminator {epoch}.pt\")\n",
    "            \n",
    "    def create_dataloader(self, boards, meta, moves, B, N, N_val):\n",
    "\n",
    "        if self.made_loader:\n",
    "\n",
    "            clear_cuda()\n",
    "            \n",
    "        loader = DataLoader(GANData(boards[:N], meta[:N], moves[:N]), batch_size = B, shuffle = True, generator=torch.Generator(device=device))\n",
    "        val_loader = GANData(boards[N:N+N_val], meta[N:N+N_val], moves[N:N+N_val])\n",
    "        \n",
    "        self.made_loader = True\n",
    "        \n",
    "        return loader, val_loader\n",
    "        \n",
    "\n",
    "        "
   ],
   "metadata": {
    "collapsed": false,
    "ExecuteTime": {
     "end_time": "2024-04-09T02:29:34.558166Z",
     "start_time": "2024-04-09T02:29:34.523980Z"
    }
   },
   "id": "cf3c6fec864d134d",
   "execution_count": 77
  },
  {
   "cell_type": "code",
   "outputs": [],
   "source": [
    "class GANData(Dataset):\n",
    "\n",
    "    def __init__(self, bitboards, white_turn, moves):\n",
    "\n",
    "        self.bitboards = torch.tensor(bitboards, dtype = torch.float).to(device)\n",
    "\n",
    "        self.moves = np.zeros((self.bitboards.size(dim=0), 128))\n",
    "\n",
    "        for ind, move in tqdm(enumerate(moves), total=len(moves)):\n",
    "\n",
    "            minn = move.from_square\n",
    "            ila = move.to_square\n",
    "        \n",
    "            if not white_turn[ind]:\n",
    "                minn = (63 - minn) // 8 * 8 + minn % 8\n",
    "                ila = (63 - ila) // 8 * 8 + ila % 8\n",
    "\n",
    "            self.moves[ind,minn] = 1\n",
    "            self.moves[ind, ila + 64] = 1\n",
    "            \n",
    "            \n",
    "        self.moves = torch.tensor(self.moves.reshape(-1,2,8,8), dtype = torch.float).to(device)\n",
    "\n",
    "    def __len__(self):\n",
    "\n",
    "        return self.moves.size(dim=0)\n",
    "\n",
    "\n",
    "    def __getitem__(self, idx):\n",
    "\n",
    "        return self.bitboards[idx], self.moves[idx]\n",
    "    \n",
    "    "
   ],
   "metadata": {
    "collapsed": false,
    "ExecuteTime": {
     "end_time": "2024-04-09T00:37:14.217302Z",
     "start_time": "2024-04-09T00:37:14.202301Z"
    }
   },
   "id": "4677947170615bf9",
   "execution_count": 11
  },
  {
   "cell_type": "code",
   "outputs": [
    {
     "name": "stdout",
     "output_type": "stream",
     "text": [
      "<class 'torch.Tensor'> torch.Size([64]) cuda:0\n",
      "<class 'torch.nn.parameter.Parameter'> torch.Size([64, 14, 3, 3]) cuda:0\n",
      "<class 'torch.nn.parameter.Parameter'> torch.Size([64]) cuda:0\n",
      "<class 'torch.nn.parameter.Parameter'> torch.Size([128, 4096]) cuda:0\n",
      "<class 'torch.nn.parameter.Parameter'> torch.Size([128]) cuda:0\n",
      "<class 'torch.nn.parameter.Parameter'> torch.Size([64, 64, 3, 3]) cuda:0\n",
      "<class 'torch.nn.parameter.Parameter'> torch.Size([64]) cuda:0\n",
      "<class 'torch.nn.parameter.Parameter'> torch.Size([64]) cuda:0\n",
      "<class 'torch.nn.parameter.Parameter'> torch.Size([64]) cuda:0\n",
      "<class 'torch.Tensor'> torch.Size([64]) cuda:0\n",
      "<class 'torch.Tensor'> torch.Size([64]) cuda:0\n",
      "<class 'torch.Tensor'> torch.Size([]) cuda:0\n",
      "<class 'torch.nn.parameter.Parameter'> torch.Size([64, 64, 3, 3]) cuda:0\n",
      "<class 'torch.nn.parameter.Parameter'> torch.Size([64]) cuda:0\n",
      "<class 'torch.nn.parameter.Parameter'> torch.Size([64]) cuda:0\n",
      "<class 'torch.nn.parameter.Parameter'> torch.Size([64]) cuda:0\n",
      "<class 'torch.Tensor'> torch.Size([64]) cuda:0\n",
      "<class 'torch.Tensor'> torch.Size([64]) cuda:0\n",
      "<class 'torch.Tensor'> torch.Size([]) cuda:0\n",
      "<class 'torch.nn.parameter.Parameter'> torch.Size([64, 64, 3, 3]) cuda:0\n",
      "<class 'torch.nn.parameter.Parameter'> torch.Size([64]) cuda:0\n",
      "<class 'torch.nn.parameter.Parameter'> torch.Size([64]) cuda:0\n",
      "<class 'torch.nn.parameter.Parameter'> torch.Size([64]) cuda:0\n",
      "<class 'torch.Tensor'> torch.Size([64]) cuda:0\n",
      "<class 'torch.Tensor'> torch.Size([64]) cuda:0\n",
      "<class 'torch.Tensor'> torch.Size([]) cuda:0\n",
      "<class 'torch.nn.parameter.Parameter'> torch.Size([64, 64, 3, 3]) cuda:0\n",
      "<class 'torch.nn.parameter.Parameter'> torch.Size([64]) cuda:0\n",
      "<class 'torch.nn.parameter.Parameter'> torch.Size([64]) cuda:0\n",
      "<class 'torch.nn.parameter.Parameter'> torch.Size([64]) cuda:0\n",
      "<class 'torch.Tensor'> torch.Size([64]) cuda:0\n",
      "<class 'torch.Tensor'> torch.Size([64]) cuda:0\n",
      "<class 'torch.Tensor'> torch.Size([]) cuda:0\n",
      "<class 'torch.nn.parameter.Parameter'> torch.Size([64, 64, 3, 3]) cuda:0\n",
      "<class 'torch.nn.parameter.Parameter'> torch.Size([64]) cuda:0\n",
      "<class 'torch.nn.parameter.Parameter'> torch.Size([64]) cuda:0\n",
      "<class 'torch.nn.parameter.Parameter'> torch.Size([64]) cuda:0\n",
      "<class 'torch.Tensor'> torch.Size([64]) cuda:0\n",
      "<class 'torch.Tensor'> torch.Size([64]) cuda:0\n",
      "<class 'torch.Tensor'> torch.Size([]) cuda:0\n",
      "<class 'torch.nn.parameter.Parameter'> torch.Size([64, 64, 3, 3]) cuda:0\n",
      "<class 'torch.nn.parameter.Parameter'> torch.Size([64]) cuda:0\n",
      "<class 'torch.nn.parameter.Parameter'> torch.Size([64]) cuda:0\n",
      "<class 'torch.nn.parameter.Parameter'> torch.Size([64]) cuda:0\n",
      "<class 'torch.Tensor'> torch.Size([64]) cuda:0\n",
      "<class 'torch.Tensor'> torch.Size([64]) cuda:0\n",
      "<class 'torch.Tensor'> torch.Size([]) cuda:0\n",
      "<class 'torch.nn.parameter.Parameter'> torch.Size([64, 64, 3, 3]) cuda:0\n",
      "<class 'torch.nn.parameter.Parameter'> torch.Size([64]) cuda:0\n",
      "<class 'torch.nn.parameter.Parameter'> torch.Size([64]) cuda:0\n",
      "<class 'torch.nn.parameter.Parameter'> torch.Size([64]) cuda:0\n",
      "<class 'torch.Tensor'> torch.Size([64]) cuda:0\n",
      "<class 'torch.Tensor'> torch.Size([64]) cuda:0\n",
      "<class 'torch.Tensor'> torch.Size([]) cuda:0\n",
      "<class 'torch.nn.parameter.Parameter'> torch.Size([64, 64, 3, 3]) cuda:0\n",
      "<class 'torch.nn.parameter.Parameter'> torch.Size([64]) cuda:0\n",
      "<class 'torch.nn.parameter.Parameter'> torch.Size([64]) cuda:0\n",
      "<class 'torch.nn.parameter.Parameter'> torch.Size([64]) cuda:0\n",
      "<class 'torch.Tensor'> torch.Size([64]) cuda:0\n",
      "<class 'torch.Tensor'> torch.Size([64]) cuda:0\n",
      "<class 'torch.Tensor'> torch.Size([]) cuda:0\n",
      "<class 'torch.nn.parameter.Parameter'> torch.Size([64, 64, 3, 3]) cuda:0\n",
      "<class 'torch.nn.parameter.Parameter'> torch.Size([64]) cuda:0\n",
      "<class 'torch.nn.parameter.Parameter'> torch.Size([64]) cuda:0\n",
      "<class 'torch.nn.parameter.Parameter'> torch.Size([64]) cuda:0\n",
      "<class 'torch.Tensor'> torch.Size([64]) cuda:0\n",
      "<class 'torch.Tensor'> torch.Size([64]) cuda:0\n",
      "<class 'torch.Tensor'> torch.Size([]) cuda:0\n",
      "<class 'torch.nn.parameter.Parameter'> torch.Size([64, 64, 3, 3]) cuda:0\n",
      "<class 'torch.nn.parameter.Parameter'> torch.Size([64]) cuda:0\n",
      "<class 'torch.nn.parameter.Parameter'> torch.Size([64]) cuda:0\n",
      "<class 'torch.nn.parameter.Parameter'> torch.Size([64]) cuda:0\n",
      "<class 'torch.Tensor'> torch.Size([64]) cuda:0\n",
      "<class 'torch.Tensor'> torch.Size([64]) cuda:0\n",
      "<class 'torch.Tensor'> torch.Size([]) cuda:0\n",
      "<class 'torch.nn.parameter.Parameter'> torch.Size([64, 64, 3, 3]) cuda:0\n",
      "<class 'torch.nn.parameter.Parameter'> torch.Size([64]) cuda:0\n",
      "<class 'torch.nn.parameter.Parameter'> torch.Size([64]) cuda:0\n",
      "<class 'torch.nn.parameter.Parameter'> torch.Size([64]) cuda:0\n",
      "<class 'torch.Tensor'> torch.Size([64]) cuda:0\n",
      "<class 'torch.Tensor'> torch.Size([64]) cuda:0\n",
      "<class 'torch.Tensor'> torch.Size([]) cuda:0\n",
      "<class 'torch.nn.parameter.Parameter'> torch.Size([64, 64, 3, 3]) cuda:0\n",
      "<class 'torch.nn.parameter.Parameter'> torch.Size([64]) cuda:0\n",
      "<class 'torch.nn.parameter.Parameter'> torch.Size([64]) cuda:0\n",
      "<class 'torch.nn.parameter.Parameter'> torch.Size([64]) cuda:0\n",
      "<class 'torch.Tensor'> torch.Size([64]) cuda:0\n",
      "<class 'torch.Tensor'> torch.Size([64]) cuda:0\n",
      "<class 'torch.Tensor'> torch.Size([]) cuda:0\n",
      "<class 'torch.Tensor'> torch.Size([5000, 2, 8, 8]) cuda:0\n",
      "<class 'torch.Tensor'> torch.Size([5000, 14, 8, 8]) cuda:0\n",
      "<class 'torch.Tensor'> torch.Size([500000, 14, 8, 8]) cuda:0\n",
      "<class 'torch.Tensor'> torch.Size([500000, 2, 8, 8]) cuda:0\n",
      "<class 'torch.Tensor'> torch.Size([64, 14, 3, 3]) cuda:0\n",
      "<class 'torch.Tensor'> torch.Size([64]) cuda:0\n",
      "<class 'torch.Tensor'> torch.Size([64, 64, 3, 3]) cuda:0\n",
      "<class 'torch.Tensor'> torch.Size([64]) cuda:0\n",
      "<class 'torch.Tensor'> torch.Size([64]) cuda:0\n",
      "<class 'torch.Tensor'> torch.Size([64]) cuda:0\n",
      "<class 'torch.Tensor'> torch.Size([64, 64, 3, 3]) cuda:0\n",
      "<class 'torch.Tensor'> torch.Size([64]) cuda:0\n",
      "<class 'torch.Tensor'> torch.Size([64]) cuda:0\n",
      "<class 'torch.Tensor'> torch.Size([64]) cuda:0\n",
      "<class 'torch.Tensor'> torch.Size([64, 64, 3, 3]) cuda:0\n",
      "<class 'torch.Tensor'> torch.Size([64]) cuda:0\n",
      "<class 'torch.Tensor'> torch.Size([64]) cuda:0\n",
      "<class 'torch.Tensor'> torch.Size([64]) cuda:0\n",
      "<class 'torch.Tensor'> torch.Size([64, 64, 3, 3]) cuda:0\n",
      "<class 'torch.Tensor'> torch.Size([64]) cuda:0\n",
      "<class 'torch.Tensor'> torch.Size([64]) cuda:0\n",
      "<class 'torch.Tensor'> torch.Size([64]) cuda:0\n",
      "<class 'torch.Tensor'> torch.Size([64, 64, 3, 3]) cuda:0\n",
      "<class 'torch.Tensor'> torch.Size([64]) cuda:0\n",
      "<class 'torch.Tensor'> torch.Size([64]) cuda:0\n",
      "<class 'torch.Tensor'> torch.Size([64]) cuda:0\n",
      "<class 'torch.Tensor'> torch.Size([64, 64, 3, 3]) cuda:0\n",
      "<class 'torch.Tensor'> torch.Size([64]) cuda:0\n",
      "<class 'torch.Tensor'> torch.Size([64]) cuda:0\n",
      "<class 'torch.Tensor'> torch.Size([64]) cuda:0\n",
      "<class 'torch.Tensor'> torch.Size([64, 64, 3, 3]) cuda:0\n",
      "<class 'torch.Tensor'> torch.Size([64]) cuda:0\n",
      "<class 'torch.Tensor'> torch.Size([64]) cuda:0\n",
      "<class 'torch.Tensor'> torch.Size([64]) cuda:0\n",
      "<class 'torch.Tensor'> torch.Size([64, 64, 3, 3]) cuda:0\n",
      "<class 'torch.Tensor'> torch.Size([64]) cuda:0\n",
      "<class 'torch.Tensor'> torch.Size([64]) cuda:0\n",
      "<class 'torch.Tensor'> torch.Size([64]) cuda:0\n",
      "<class 'torch.Tensor'> torch.Size([64, 64, 3, 3]) cuda:0\n",
      "<class 'torch.Tensor'> torch.Size([64]) cuda:0\n",
      "<class 'torch.Tensor'> torch.Size([64]) cuda:0\n",
      "<class 'torch.Tensor'> torch.Size([64]) cuda:0\n",
      "<class 'torch.Tensor'> torch.Size([64, 64, 3, 3]) cuda:0\n",
      "<class 'torch.Tensor'> torch.Size([64]) cuda:0\n",
      "<class 'torch.Tensor'> torch.Size([64]) cuda:0\n",
      "<class 'torch.Tensor'> torch.Size([64]) cuda:0\n",
      "<class 'torch.Tensor'> torch.Size([64, 64, 3, 3]) cuda:0\n",
      "<class 'torch.Tensor'> torch.Size([64]) cuda:0\n",
      "<class 'torch.Tensor'> torch.Size([64]) cuda:0\n",
      "<class 'torch.Tensor'> torch.Size([64]) cuda:0\n",
      "<class 'torch.Tensor'> torch.Size([64, 64, 3, 3]) cuda:0\n",
      "<class 'torch.Tensor'> torch.Size([64]) cuda:0\n",
      "<class 'torch.Tensor'> torch.Size([64]) cuda:0\n",
      "<class 'torch.Tensor'> torch.Size([64]) cuda:0\n",
      "<class 'torch.Tensor'> torch.Size([128, 4096]) cuda:0\n",
      "<class 'torch.Tensor'> torch.Size([128]) cuda:0\n",
      "<class 'torch.Tensor'> torch.Size([512, 14, 8, 8]) cuda:0\n",
      "<class 'torch.Tensor'> torch.Size([512, 2, 8, 8]) cuda:0\n",
      "<class 'torch.Tensor'> torch.Size([64]) cuda:0\n",
      "<class 'torch.Tensor'> torch.Size([64]) cuda:0\n",
      "<class 'torch.Tensor'> torch.Size([]) cuda:0\n",
      "<class 'torch.Tensor'> torch.Size([64]) cuda:0\n",
      "<class 'torch.Tensor'> torch.Size([64]) cuda:0\n",
      "<class 'torch.Tensor'> torch.Size([]) cuda:0\n",
      "<class 'torch.Tensor'> torch.Size([64]) cuda:0\n",
      "<class 'torch.Tensor'> torch.Size([64]) cuda:0\n",
      "<class 'torch.Tensor'> torch.Size([]) cuda:0\n",
      "<class 'torch.Tensor'> torch.Size([64]) cuda:0\n",
      "<class 'torch.Tensor'> torch.Size([64]) cuda:0\n",
      "<class 'torch.Tensor'> torch.Size([]) cuda:0\n",
      "<class 'torch.Tensor'> torch.Size([64]) cuda:0\n",
      "<class 'torch.Tensor'> torch.Size([64]) cuda:0\n",
      "<class 'torch.Tensor'> torch.Size([]) cuda:0\n",
      "<class 'torch.Tensor'> torch.Size([64]) cuda:0\n",
      "<class 'torch.Tensor'> torch.Size([64]) cuda:0\n",
      "<class 'torch.Tensor'> torch.Size([]) cuda:0\n",
      "<class 'torch.Tensor'> torch.Size([64]) cuda:0\n",
      "<class 'torch.Tensor'> torch.Size([64]) cuda:0\n",
      "<class 'torch.Tensor'> torch.Size([]) cuda:0\n",
      "<class 'torch.Tensor'> torch.Size([64]) cuda:0\n",
      "<class 'torch.Tensor'> torch.Size([64]) cuda:0\n",
      "<class 'torch.Tensor'> torch.Size([]) cuda:0\n",
      "<class 'torch.Tensor'> torch.Size([64]) cuda:0\n",
      "<class 'torch.Tensor'> torch.Size([64]) cuda:0\n",
      "<class 'torch.Tensor'> torch.Size([]) cuda:0\n",
      "<class 'torch.Tensor'> torch.Size([64]) cuda:0\n",
      "<class 'torch.Tensor'> torch.Size([64]) cuda:0\n",
      "<class 'torch.Tensor'> torch.Size([]) cuda:0\n",
      "<class 'torch.Tensor'> torch.Size([64]) cuda:0\n",
      "<class 'torch.Tensor'> torch.Size([64]) cuda:0\n",
      "<class 'torch.Tensor'> torch.Size([]) cuda:0\n",
      "<class 'torch.nn.parameter.Parameter'> torch.Size([64, 14, 3, 3]) cuda:0\n",
      "<class 'torch.nn.parameter.Parameter'> torch.Size([64]) cuda:0\n",
      "<class 'torch.nn.parameter.Parameter'> torch.Size([64, 64, 3, 3]) cuda:0\n",
      "<class 'torch.nn.parameter.Parameter'> torch.Size([64]) cuda:0\n",
      "<class 'torch.nn.parameter.Parameter'> torch.Size([64]) cuda:0\n",
      "<class 'torch.nn.parameter.Parameter'> torch.Size([64]) cuda:0\n",
      "<class 'torch.nn.parameter.Parameter'> torch.Size([64, 64, 3, 3]) cuda:0\n",
      "<class 'torch.nn.parameter.Parameter'> torch.Size([64]) cuda:0\n",
      "<class 'torch.nn.parameter.Parameter'> torch.Size([64]) cuda:0\n",
      "<class 'torch.nn.parameter.Parameter'> torch.Size([64]) cuda:0\n",
      "<class 'torch.nn.parameter.Parameter'> torch.Size([64, 64, 3, 3]) cuda:0\n",
      "<class 'torch.nn.parameter.Parameter'> torch.Size([64]) cuda:0\n",
      "<class 'torch.nn.parameter.Parameter'> torch.Size([64]) cuda:0\n",
      "<class 'torch.nn.parameter.Parameter'> torch.Size([64]) cuda:0\n",
      "<class 'torch.nn.parameter.Parameter'> torch.Size([64, 64, 3, 3]) cuda:0\n",
      "<class 'torch.nn.parameter.Parameter'> torch.Size([64]) cuda:0\n",
      "<class 'torch.nn.parameter.Parameter'> torch.Size([64]) cuda:0\n",
      "<class 'torch.nn.parameter.Parameter'> torch.Size([64]) cuda:0\n",
      "<class 'torch.nn.parameter.Parameter'> torch.Size([64, 64, 3, 3]) cuda:0\n",
      "<class 'torch.nn.parameter.Parameter'> torch.Size([64]) cuda:0\n",
      "<class 'torch.nn.parameter.Parameter'> torch.Size([64]) cuda:0\n",
      "<class 'torch.nn.parameter.Parameter'> torch.Size([64]) cuda:0\n",
      "<class 'torch.nn.parameter.Parameter'> torch.Size([64, 64, 3, 3]) cuda:0\n",
      "<class 'torch.nn.parameter.Parameter'> torch.Size([64]) cuda:0\n",
      "<class 'torch.nn.parameter.Parameter'> torch.Size([64]) cuda:0\n",
      "<class 'torch.nn.parameter.Parameter'> torch.Size([64]) cuda:0\n",
      "<class 'torch.nn.parameter.Parameter'> torch.Size([64, 64, 3, 3]) cuda:0\n",
      "<class 'torch.nn.parameter.Parameter'> torch.Size([64]) cuda:0\n",
      "<class 'torch.nn.parameter.Parameter'> torch.Size([64]) cuda:0\n",
      "<class 'torch.nn.parameter.Parameter'> torch.Size([64]) cuda:0\n",
      "<class 'torch.nn.parameter.Parameter'> torch.Size([64, 64, 3, 3]) cuda:0\n",
      "<class 'torch.nn.parameter.Parameter'> torch.Size([64]) cuda:0\n",
      "<class 'torch.nn.parameter.Parameter'> torch.Size([64]) cuda:0\n",
      "<class 'torch.nn.parameter.Parameter'> torch.Size([64]) cuda:0\n",
      "<class 'torch.nn.parameter.Parameter'> torch.Size([64, 64, 3, 3]) cuda:0\n",
      "<class 'torch.nn.parameter.Parameter'> torch.Size([64]) cuda:0\n",
      "<class 'torch.nn.parameter.Parameter'> torch.Size([64]) cuda:0\n",
      "<class 'torch.nn.parameter.Parameter'> torch.Size([64]) cuda:0\n",
      "<class 'torch.nn.parameter.Parameter'> torch.Size([64, 64, 3, 3]) cuda:0\n",
      "<class 'torch.nn.parameter.Parameter'> torch.Size([64]) cuda:0\n",
      "<class 'torch.nn.parameter.Parameter'> torch.Size([64]) cuda:0\n",
      "<class 'torch.nn.parameter.Parameter'> torch.Size([64]) cuda:0\n",
      "<class 'torch.nn.parameter.Parameter'> torch.Size([64, 64, 3, 3]) cuda:0\n",
      "<class 'torch.nn.parameter.Parameter'> torch.Size([64]) cuda:0\n",
      "<class 'torch.nn.parameter.Parameter'> torch.Size([64]) cuda:0\n",
      "<class 'torch.nn.parameter.Parameter'> torch.Size([64]) cuda:0\n",
      "<class 'torch.nn.parameter.Parameter'> torch.Size([64, 64, 3, 3]) cuda:0\n",
      "<class 'torch.nn.parameter.Parameter'> torch.Size([64]) cuda:0\n",
      "<class 'torch.nn.parameter.Parameter'> torch.Size([128, 4096]) cuda:0\n",
      "<class 'torch.nn.parameter.Parameter'> torch.Size([128]) cuda:0\n",
      "<class 'torch.nn.parameter.Parameter'> torch.Size([64, 16, 3, 3]) cuda:0\n",
      "<class 'torch.nn.parameter.Parameter'> torch.Size([64]) cuda:0\n",
      "<class 'torch.nn.parameter.Parameter'> torch.Size([64, 64, 3, 3]) cuda:0\n",
      "<class 'torch.nn.parameter.Parameter'> torch.Size([64]) cuda:0\n",
      "<class 'torch.Tensor'> torch.Size([64]) cuda:0\n",
      "<class 'torch.Tensor'> torch.Size([64]) cuda:0\n",
      "<class 'torch.Tensor'> torch.Size([]) cuda:0\n",
      "<class 'torch.Tensor'> torch.Size([64]) cuda:0\n",
      "<class 'torch.Tensor'> torch.Size([64]) cuda:0\n",
      "<class 'torch.Tensor'> torch.Size([]) cuda:0\n",
      "<class 'torch.Tensor'> torch.Size([64]) cuda:0\n",
      "<class 'torch.Tensor'> torch.Size([64]) cuda:0\n",
      "<class 'torch.Tensor'> torch.Size([]) cuda:0\n",
      "<class 'torch.Tensor'> torch.Size([64]) cuda:0\n",
      "<class 'torch.Tensor'> torch.Size([64]) cuda:0\n",
      "<class 'torch.Tensor'> torch.Size([]) cuda:0\n",
      "<class 'torch.Tensor'> torch.Size([64]) cuda:0\n",
      "<class 'torch.Tensor'> torch.Size([64]) cuda:0\n",
      "<class 'torch.Tensor'> torch.Size([]) cuda:0\n",
      "<class 'torch.Tensor'> torch.Size([64]) cuda:0\n",
      "<class 'torch.Tensor'> torch.Size([64]) cuda:0\n",
      "<class 'torch.Tensor'> torch.Size([]) cuda:0\n",
      "<class 'torch.Tensor'> torch.Size([64]) cuda:0\n",
      "<class 'torch.Tensor'> torch.Size([64]) cuda:0\n",
      "<class 'torch.Tensor'> torch.Size([]) cuda:0\n",
      "<class 'torch.Tensor'> torch.Size([64]) cuda:0\n",
      "<class 'torch.Tensor'> torch.Size([64]) cuda:0\n",
      "<class 'torch.Tensor'> torch.Size([]) cuda:0\n",
      "<class 'torch.Tensor'> torch.Size([64]) cuda:0\n",
      "<class 'torch.Tensor'> torch.Size([64]) cuda:0\n",
      "<class 'torch.Tensor'> torch.Size([]) cuda:0\n",
      "<class 'torch.Tensor'> torch.Size([64]) cuda:0\n",
      "<class 'torch.Tensor'> torch.Size([64]) cuda:0\n",
      "<class 'torch.Tensor'> torch.Size([]) cuda:0\n",
      "<class 'torch.Tensor'> torch.Size([64]) cuda:0\n",
      "<class 'torch.Tensor'> torch.Size([64]) cuda:0\n",
      "<class 'torch.Tensor'> torch.Size([]) cuda:0\n",
      "<class 'torch.Tensor'> torch.Size([64]) cuda:0\n",
      "<class 'torch.Tensor'> torch.Size([64]) cuda:0\n",
      "<class 'torch.Tensor'> torch.Size([]) cuda:0\n",
      "<class 'torch.nn.parameter.Parameter'> torch.Size([1]) cuda:0\n",
      "<class 'torch.nn.parameter.Parameter'> torch.Size([1, 4096]) cuda:0\n",
      "<class 'torch.nn.parameter.Parameter'> torch.Size([64]) cuda:0\n",
      "<class 'torch.nn.parameter.Parameter'> torch.Size([64]) cuda:0\n",
      "<class 'torch.nn.parameter.Parameter'> torch.Size([64]) cuda:0\n",
      "<class 'torch.nn.parameter.Parameter'> torch.Size([64, 64, 3, 3]) cuda:0\n",
      "<class 'torch.nn.parameter.Parameter'> torch.Size([64]) cuda:0\n",
      "<class 'torch.nn.parameter.Parameter'> torch.Size([64]) cuda:0\n",
      "<class 'torch.nn.parameter.Parameter'> torch.Size([64]) cuda:0\n",
      "<class 'torch.nn.parameter.Parameter'> torch.Size([64, 64, 3, 3]) cuda:0\n",
      "<class 'torch.nn.parameter.Parameter'> torch.Size([64]) cuda:0\n",
      "<class 'torch.nn.parameter.Parameter'> torch.Size([64]) cuda:0\n",
      "<class 'torch.nn.parameter.Parameter'> torch.Size([64]) cuda:0\n",
      "<class 'torch.nn.parameter.Parameter'> torch.Size([64, 64, 3, 3]) cuda:0\n",
      "<class 'torch.nn.parameter.Parameter'> torch.Size([64]) cuda:0\n",
      "<class 'torch.nn.parameter.Parameter'> torch.Size([64]) cuda:0\n",
      "<class 'torch.nn.parameter.Parameter'> torch.Size([64]) cuda:0\n",
      "<class 'torch.nn.parameter.Parameter'> torch.Size([64, 64, 3, 3]) cuda:0\n",
      "<class 'torch.nn.parameter.Parameter'> torch.Size([64]) cuda:0\n",
      "<class 'torch.nn.parameter.Parameter'> torch.Size([64]) cuda:0\n",
      "<class 'torch.nn.parameter.Parameter'> torch.Size([64]) cuda:0\n",
      "<class 'torch.nn.parameter.Parameter'> torch.Size([64, 64, 3, 3]) cuda:0\n",
      "<class 'torch.nn.parameter.Parameter'> torch.Size([64]) cuda:0\n",
      "<class 'torch.nn.parameter.Parameter'> torch.Size([64]) cuda:0\n",
      "<class 'torch.nn.parameter.Parameter'> torch.Size([64]) cuda:0\n",
      "<class 'torch.nn.parameter.Parameter'> torch.Size([64, 64, 3, 3]) cuda:0\n",
      "<class 'torch.nn.parameter.Parameter'> torch.Size([64]) cuda:0\n",
      "<class 'torch.nn.parameter.Parameter'> torch.Size([64]) cuda:0\n",
      "<class 'torch.nn.parameter.Parameter'> torch.Size([64]) cuda:0\n",
      "<class 'torch.nn.parameter.Parameter'> torch.Size([64, 64, 3, 3]) cuda:0\n",
      "<class 'torch.nn.parameter.Parameter'> torch.Size([64]) cuda:0\n",
      "<class 'torch.nn.parameter.Parameter'> torch.Size([64]) cuda:0\n",
      "<class 'torch.nn.parameter.Parameter'> torch.Size([64]) cuda:0\n",
      "<class 'torch.nn.parameter.Parameter'> torch.Size([64, 64, 3, 3]) cuda:0\n",
      "<class 'torch.nn.parameter.Parameter'> torch.Size([64]) cuda:0\n",
      "<class 'torch.nn.parameter.Parameter'> torch.Size([64]) cuda:0\n",
      "<class 'torch.nn.parameter.Parameter'> torch.Size([64]) cuda:0\n",
      "<class 'torch.nn.parameter.Parameter'> torch.Size([64, 64, 3, 3]) cuda:0\n",
      "<class 'torch.nn.parameter.Parameter'> torch.Size([64]) cuda:0\n",
      "<class 'torch.nn.parameter.Parameter'> torch.Size([64]) cuda:0\n",
      "<class 'torch.nn.parameter.Parameter'> torch.Size([64]) cuda:0\n",
      "<class 'torch.nn.parameter.Parameter'> torch.Size([64, 64, 3, 3]) cuda:0\n",
      "<class 'torch.nn.parameter.Parameter'> torch.Size([64]) cuda:0\n",
      "<class 'torch.nn.parameter.Parameter'> torch.Size([64]) cuda:0\n",
      "<class 'torch.nn.parameter.Parameter'> torch.Size([64]) cuda:0\n",
      "<class 'torch.nn.parameter.Parameter'> torch.Size([64, 64, 3, 3]) cuda:0\n",
      "<class 'torch.nn.parameter.Parameter'> torch.Size([64]) cuda:0\n",
      "<class 'torch.nn.parameter.Parameter'> torch.Size([64]) cuda:0\n",
      "<class 'torch.Tensor'> torch.Size([512, 2, 8, 8]) cuda:0\n",
      "<class 'torch.Tensor'> torch.Size([512, 1]) cuda:0\n",
      "<class 'torch.Tensor'> torch.Size([512, 1]) cuda:0\n",
      "<class 'torch.Tensor'> torch.Size([1]) cuda:0\n",
      "<class 'torch.Tensor'> torch.Size([512, 1]) cuda:0\n",
      "<class 'torch.Tensor'> torch.Size([512, 1]) cuda:0\n",
      "<class 'torch.Tensor'> torch.Size([1]) cuda:0\n",
      "<class 'torch.Tensor'> torch.Size([1]) cuda:0\n",
      "<class 'torch.Tensor'> torch.Size([1]) cuda:0\n",
      "<class 'torch.nn.parameter.Parameter'> torch.Size([64, 16, 3, 3]) cuda:0\n",
      "<class 'torch.nn.parameter.Parameter'> torch.Size([64]) cuda:0\n",
      "<class 'torch.nn.parameter.Parameter'> torch.Size([64, 64, 3, 3]) cuda:0\n",
      "<class 'torch.nn.parameter.Parameter'> torch.Size([64]) cuda:0\n",
      "<class 'torch.nn.parameter.Parameter'> torch.Size([64]) cuda:0\n",
      "<class 'torch.nn.parameter.Parameter'> torch.Size([64]) cuda:0\n",
      "<class 'torch.nn.parameter.Parameter'> torch.Size([64, 64, 3, 3]) cuda:0\n",
      "<class 'torch.nn.parameter.Parameter'> torch.Size([64]) cuda:0\n",
      "<class 'torch.nn.parameter.Parameter'> torch.Size([64]) cuda:0\n",
      "<class 'torch.nn.parameter.Parameter'> torch.Size([64]) cuda:0\n",
      "<class 'torch.nn.parameter.Parameter'> torch.Size([64, 64, 3, 3]) cuda:0\n",
      "<class 'torch.nn.parameter.Parameter'> torch.Size([64]) cuda:0\n",
      "<class 'torch.nn.parameter.Parameter'> torch.Size([64]) cuda:0\n",
      "<class 'torch.nn.parameter.Parameter'> torch.Size([64]) cuda:0\n",
      "<class 'torch.nn.parameter.Parameter'> torch.Size([64, 64, 3, 3]) cuda:0\n",
      "<class 'torch.nn.parameter.Parameter'> torch.Size([64]) cuda:0\n",
      "<class 'torch.nn.parameter.Parameter'> torch.Size([64]) cuda:0\n",
      "<class 'torch.nn.parameter.Parameter'> torch.Size([64]) cuda:0\n",
      "<class 'torch.nn.parameter.Parameter'> torch.Size([64, 64, 3, 3]) cuda:0\n",
      "<class 'torch.nn.parameter.Parameter'> torch.Size([64]) cuda:0\n",
      "<class 'torch.nn.parameter.Parameter'> torch.Size([64]) cuda:0\n",
      "<class 'torch.nn.parameter.Parameter'> torch.Size([64]) cuda:0\n",
      "<class 'torch.nn.parameter.Parameter'> torch.Size([64, 64, 3, 3]) cuda:0\n",
      "<class 'torch.nn.parameter.Parameter'> torch.Size([64]) cuda:0\n",
      "<class 'torch.nn.parameter.Parameter'> torch.Size([64]) cuda:0\n",
      "<class 'torch.nn.parameter.Parameter'> torch.Size([64]) cuda:0\n",
      "<class 'torch.nn.parameter.Parameter'> torch.Size([64, 64, 3, 3]) cuda:0\n",
      "<class 'torch.nn.parameter.Parameter'> torch.Size([64]) cuda:0\n",
      "<class 'torch.nn.parameter.Parameter'> torch.Size([64]) cuda:0\n",
      "<class 'torch.nn.parameter.Parameter'> torch.Size([64]) cuda:0\n",
      "<class 'torch.nn.parameter.Parameter'> torch.Size([64, 64, 3, 3]) cuda:0\n",
      "<class 'torch.nn.parameter.Parameter'> torch.Size([64]) cuda:0\n",
      "<class 'torch.nn.parameter.Parameter'> torch.Size([64]) cuda:0\n",
      "<class 'torch.nn.parameter.Parameter'> torch.Size([64]) cuda:0\n",
      "<class 'torch.nn.parameter.Parameter'> torch.Size([64, 64, 3, 3]) cuda:0\n",
      "<class 'torch.nn.parameter.Parameter'> torch.Size([64]) cuda:0\n",
      "<class 'torch.nn.parameter.Parameter'> torch.Size([64]) cuda:0\n",
      "<class 'torch.nn.parameter.Parameter'> torch.Size([64]) cuda:0\n",
      "<class 'torch.nn.parameter.Parameter'> torch.Size([64, 64, 3, 3]) cuda:0\n",
      "<class 'torch.nn.parameter.Parameter'> torch.Size([64]) cuda:0\n",
      "<class 'torch.nn.parameter.Parameter'> torch.Size([64]) cuda:0\n",
      "<class 'torch.nn.parameter.Parameter'> torch.Size([64]) cuda:0\n",
      "<class 'torch.nn.parameter.Parameter'> torch.Size([64, 64, 3, 3]) cuda:0\n",
      "<class 'torch.nn.parameter.Parameter'> torch.Size([64]) cuda:0\n",
      "<class 'torch.nn.parameter.Parameter'> torch.Size([64]) cuda:0\n",
      "<class 'torch.nn.parameter.Parameter'> torch.Size([64]) cuda:0\n",
      "<class 'torch.nn.parameter.Parameter'> torch.Size([64, 64, 3, 3]) cuda:0\n",
      "<class 'torch.nn.parameter.Parameter'> torch.Size([64]) cuda:0\n",
      "<class 'torch.nn.parameter.Parameter'> torch.Size([64]) cuda:0\n",
      "<class 'torch.nn.parameter.Parameter'> torch.Size([64]) cuda:0\n",
      "<class 'torch.nn.parameter.Parameter'> torch.Size([1, 4096]) cuda:0\n",
      "<class 'torch.nn.parameter.Parameter'> torch.Size([1]) cuda:0\n",
      "<class 'torch.Tensor'> torch.Size([]) cuda:0\n",
      "<class 'torch.Tensor'> torch.Size([64, 16, 3, 3]) cuda:0\n",
      "<class 'torch.Tensor'> torch.Size([64, 16, 3, 3]) cuda:0\n",
      "<class 'torch.Tensor'> torch.Size([]) cuda:0\n",
      "<class 'torch.Tensor'> torch.Size([64]) cuda:0\n",
      "<class 'torch.Tensor'> torch.Size([64]) cuda:0\n",
      "<class 'torch.Tensor'> torch.Size([]) cuda:0\n",
      "<class 'torch.Tensor'> torch.Size([64, 64, 3, 3]) cuda:0\n",
      "<class 'torch.Tensor'> torch.Size([64, 64, 3, 3]) cuda:0\n",
      "<class 'torch.Tensor'> torch.Size([]) cuda:0\n",
      "<class 'torch.Tensor'> torch.Size([64]) cuda:0\n",
      "<class 'torch.Tensor'> torch.Size([64]) cuda:0\n",
      "<class 'torch.Tensor'> torch.Size([]) cuda:0\n",
      "<class 'torch.Tensor'> torch.Size([64]) cuda:0\n",
      "<class 'torch.Tensor'> torch.Size([64]) cuda:0\n",
      "<class 'torch.Tensor'> torch.Size([]) cuda:0\n",
      "<class 'torch.Tensor'> torch.Size([64]) cuda:0\n",
      "<class 'torch.Tensor'> torch.Size([64]) cuda:0\n",
      "<class 'torch.Tensor'> torch.Size([]) cuda:0\n",
      "<class 'torch.Tensor'> torch.Size([64, 64, 3, 3]) cuda:0\n",
      "<class 'torch.Tensor'> torch.Size([64, 64, 3, 3]) cuda:0\n",
      "<class 'torch.Tensor'> torch.Size([]) cuda:0\n",
      "<class 'torch.Tensor'> torch.Size([64]) cuda:0\n",
      "<class 'torch.Tensor'> torch.Size([64]) cuda:0\n",
      "<class 'torch.Tensor'> torch.Size([]) cuda:0\n",
      "<class 'torch.Tensor'> torch.Size([64]) cuda:0\n",
      "<class 'torch.Tensor'> torch.Size([64]) cuda:0\n",
      "<class 'torch.Tensor'> torch.Size([]) cuda:0\n",
      "<class 'torch.Tensor'> torch.Size([64]) cuda:0\n",
      "<class 'torch.Tensor'> torch.Size([64]) cuda:0\n",
      "<class 'torch.Tensor'> torch.Size([]) cuda:0\n",
      "<class 'torch.Tensor'> torch.Size([64, 64, 3, 3]) cuda:0\n",
      "<class 'torch.Tensor'> torch.Size([64, 64, 3, 3]) cuda:0\n",
      "<class 'torch.Tensor'> torch.Size([]) cuda:0\n",
      "<class 'torch.Tensor'> torch.Size([64]) cuda:0\n",
      "<class 'torch.Tensor'> torch.Size([64]) cuda:0\n",
      "<class 'torch.Tensor'> torch.Size([]) cuda:0\n",
      "<class 'torch.Tensor'> torch.Size([64]) cuda:0\n",
      "<class 'torch.Tensor'> torch.Size([64]) cuda:0\n",
      "<class 'torch.Tensor'> torch.Size([]) cuda:0\n",
      "<class 'torch.Tensor'> torch.Size([64]) cuda:0\n",
      "<class 'torch.Tensor'> torch.Size([64]) cuda:0\n",
      "<class 'torch.Tensor'> torch.Size([]) cuda:0\n",
      "<class 'torch.Tensor'> torch.Size([64, 64, 3, 3]) cuda:0\n",
      "<class 'torch.Tensor'> torch.Size([64, 64, 3, 3]) cuda:0\n",
      "<class 'torch.Tensor'> torch.Size([]) cuda:0\n",
      "<class 'torch.Tensor'> torch.Size([64]) cuda:0\n",
      "<class 'torch.Tensor'> torch.Size([64]) cuda:0\n",
      "<class 'torch.Tensor'> torch.Size([]) cuda:0\n",
      "<class 'torch.Tensor'> torch.Size([64]) cuda:0\n",
      "<class 'torch.Tensor'> torch.Size([64]) cuda:0\n",
      "<class 'torch.Tensor'> torch.Size([]) cuda:0\n",
      "<class 'torch.Tensor'> torch.Size([64]) cuda:0\n",
      "<class 'torch.Tensor'> torch.Size([64]) cuda:0\n",
      "<class 'torch.Tensor'> torch.Size([]) cuda:0\n",
      "<class 'torch.Tensor'> torch.Size([64, 64, 3, 3]) cuda:0\n",
      "<class 'torch.Tensor'> torch.Size([64, 64, 3, 3]) cuda:0\n",
      "<class 'torch.Tensor'> torch.Size([]) cuda:0\n",
      "<class 'torch.Tensor'> torch.Size([64]) cuda:0\n",
      "<class 'torch.Tensor'> torch.Size([64]) cuda:0\n",
      "<class 'torch.Tensor'> torch.Size([]) cuda:0\n",
      "<class 'torch.Tensor'> torch.Size([64]) cuda:0\n",
      "<class 'torch.Tensor'> torch.Size([64]) cuda:0\n",
      "<class 'torch.Tensor'> torch.Size([]) cuda:0\n",
      "<class 'torch.Tensor'> torch.Size([64]) cuda:0\n",
      "<class 'torch.Tensor'> torch.Size([64]) cuda:0\n",
      "<class 'torch.Tensor'> torch.Size([]) cuda:0\n",
      "<class 'torch.Tensor'> torch.Size([64, 64, 3, 3]) cuda:0\n",
      "<class 'torch.Tensor'> torch.Size([64, 64, 3, 3]) cuda:0\n",
      "<class 'torch.Tensor'> torch.Size([]) cuda:0\n",
      "<class 'torch.Tensor'> torch.Size([64]) cuda:0\n",
      "<class 'torch.Tensor'> torch.Size([64]) cuda:0\n",
      "<class 'torch.Tensor'> torch.Size([]) cuda:0\n",
      "<class 'torch.Tensor'> torch.Size([64]) cuda:0\n",
      "<class 'torch.Tensor'> torch.Size([64]) cuda:0\n",
      "<class 'torch.Tensor'> torch.Size([]) cuda:0\n",
      "<class 'torch.Tensor'> torch.Size([64]) cuda:0\n",
      "<class 'torch.Tensor'> torch.Size([64]) cuda:0\n",
      "<class 'torch.Tensor'> torch.Size([]) cuda:0\n",
      "<class 'torch.Tensor'> torch.Size([64, 64, 3, 3]) cuda:0\n",
      "<class 'torch.Tensor'> torch.Size([64, 64, 3, 3]) cuda:0\n",
      "<class 'torch.Tensor'> torch.Size([]) cuda:0\n",
      "<class 'torch.Tensor'> torch.Size([64]) cuda:0\n",
      "<class 'torch.Tensor'> torch.Size([64]) cuda:0\n",
      "<class 'torch.Tensor'> torch.Size([]) cuda:0\n",
      "<class 'torch.Tensor'> torch.Size([64]) cuda:0\n",
      "<class 'torch.Tensor'> torch.Size([64]) cuda:0\n",
      "<class 'torch.Tensor'> torch.Size([]) cuda:0\n",
      "<class 'torch.Tensor'> torch.Size([64]) cuda:0\n",
      "<class 'torch.Tensor'> torch.Size([64]) cuda:0\n",
      "<class 'torch.Tensor'> torch.Size([]) cuda:0\n",
      "<class 'torch.Tensor'> torch.Size([64, 64, 3, 3]) cuda:0\n",
      "<class 'torch.Tensor'> torch.Size([64, 64, 3, 3]) cuda:0\n",
      "<class 'torch.Tensor'> torch.Size([]) cuda:0\n",
      "<class 'torch.Tensor'> torch.Size([64]) cuda:0\n",
      "<class 'torch.Tensor'> torch.Size([64]) cuda:0\n",
      "<class 'torch.Tensor'> torch.Size([]) cuda:0\n",
      "<class 'torch.Tensor'> torch.Size([64]) cuda:0\n",
      "<class 'torch.Tensor'> torch.Size([64]) cuda:0\n",
      "<class 'torch.Tensor'> torch.Size([]) cuda:0\n",
      "<class 'torch.Tensor'> torch.Size([64]) cuda:0\n",
      "<class 'torch.Tensor'> torch.Size([64]) cuda:0\n",
      "<class 'torch.Tensor'> torch.Size([]) cuda:0\n",
      "<class 'torch.Tensor'> torch.Size([64, 64, 3, 3]) cuda:0\n",
      "<class 'torch.Tensor'> torch.Size([64, 64, 3, 3]) cuda:0\n",
      "<class 'torch.Tensor'> torch.Size([]) cuda:0\n",
      "<class 'torch.Tensor'> torch.Size([64]) cuda:0\n",
      "<class 'torch.Tensor'> torch.Size([64]) cuda:0\n",
      "<class 'torch.Tensor'> torch.Size([]) cuda:0\n",
      "<class 'torch.Tensor'> torch.Size([64]) cuda:0\n",
      "<class 'torch.Tensor'> torch.Size([64]) cuda:0\n",
      "<class 'torch.Tensor'> torch.Size([]) cuda:0\n",
      "<class 'torch.Tensor'> torch.Size([64]) cuda:0\n",
      "<class 'torch.Tensor'> torch.Size([64]) cuda:0\n",
      "<class 'torch.Tensor'> torch.Size([]) cuda:0\n",
      "<class 'torch.Tensor'> torch.Size([64, 64, 3, 3]) cuda:0\n",
      "<class 'torch.Tensor'> torch.Size([64, 64, 3, 3]) cuda:0\n",
      "<class 'torch.Tensor'> torch.Size([]) cuda:0\n",
      "<class 'torch.Tensor'> torch.Size([64]) cuda:0\n",
      "<class 'torch.Tensor'> torch.Size([64]) cuda:0\n",
      "<class 'torch.Tensor'> torch.Size([]) cuda:0\n",
      "<class 'torch.Tensor'> torch.Size([64]) cuda:0\n",
      "<class 'torch.Tensor'> torch.Size([64]) cuda:0\n",
      "<class 'torch.Tensor'> torch.Size([]) cuda:0\n",
      "<class 'torch.Tensor'> torch.Size([64]) cuda:0\n",
      "<class 'torch.Tensor'> torch.Size([64]) cuda:0\n",
      "<class 'torch.Tensor'> torch.Size([]) cuda:0\n",
      "<class 'torch.Tensor'> torch.Size([64, 64, 3, 3]) cuda:0\n",
      "<class 'torch.Tensor'> torch.Size([64, 64, 3, 3]) cuda:0\n",
      "<class 'torch.Tensor'> torch.Size([]) cuda:0\n",
      "<class 'torch.Tensor'> torch.Size([64]) cuda:0\n",
      "<class 'torch.Tensor'> torch.Size([64]) cuda:0\n",
      "<class 'torch.Tensor'> torch.Size([]) cuda:0\n",
      "<class 'torch.Tensor'> torch.Size([64]) cuda:0\n",
      "<class 'torch.Tensor'> torch.Size([64]) cuda:0\n",
      "<class 'torch.Tensor'> torch.Size([]) cuda:0\n",
      "<class 'torch.Tensor'> torch.Size([64]) cuda:0\n",
      "<class 'torch.Tensor'> torch.Size([64]) cuda:0\n",
      "<class 'torch.Tensor'> torch.Size([]) cuda:0\n",
      "<class 'torch.Tensor'> torch.Size([64, 64, 3, 3]) cuda:0\n",
      "<class 'torch.Tensor'> torch.Size([64, 64, 3, 3]) cuda:0\n",
      "<class 'torch.Tensor'> torch.Size([]) cuda:0\n",
      "<class 'torch.Tensor'> torch.Size([64]) cuda:0\n",
      "<class 'torch.Tensor'> torch.Size([64]) cuda:0\n",
      "<class 'torch.Tensor'> torch.Size([]) cuda:0\n",
      "<class 'torch.Tensor'> torch.Size([64]) cuda:0\n",
      "<class 'torch.Tensor'> torch.Size([64]) cuda:0\n",
      "<class 'torch.Tensor'> torch.Size([]) cuda:0\n",
      "<class 'torch.Tensor'> torch.Size([64]) cuda:0\n",
      "<class 'torch.Tensor'> torch.Size([64]) cuda:0\n",
      "<class 'torch.Tensor'> torch.Size([]) cuda:0\n",
      "<class 'torch.Tensor'> torch.Size([1, 4096]) cuda:0\n",
      "<class 'torch.Tensor'> torch.Size([1, 4096]) cuda:0\n",
      "<class 'torch.Tensor'> torch.Size([]) cuda:0\n",
      "<class 'torch.Tensor'> torch.Size([1]) cuda:0\n",
      "<class 'torch.Tensor'> torch.Size([1]) cuda:0\n",
      "<class 'torch.Tensor'> torch.Size([64]) cuda:0\n",
      "<class 'torch.Tensor'> torch.Size([64]) cuda:0\n",
      "<class 'torch.Tensor'> torch.Size([]) cuda:0\n",
      "<class 'torch.Tensor'> torch.Size([64]) cuda:0\n",
      "<class 'torch.Tensor'> torch.Size([64]) cuda:0\n",
      "<class 'torch.Tensor'> torch.Size([]) cuda:0\n",
      "<class 'torch.Tensor'> torch.Size([64]) cuda:0\n",
      "<class 'torch.Tensor'> torch.Size([64]) cuda:0\n",
      "<class 'torch.Tensor'> torch.Size([]) cuda:0\n",
      "<class 'torch.Tensor'> torch.Size([64]) cuda:0\n",
      "<class 'torch.Tensor'> torch.Size([64]) cuda:0\n",
      "<class 'torch.Tensor'> torch.Size([]) cuda:0\n",
      "<class 'torch.Tensor'> torch.Size([64]) cuda:0\n",
      "<class 'torch.Tensor'> torch.Size([64]) cuda:0\n",
      "<class 'torch.Tensor'> torch.Size([]) cuda:0\n",
      "<class 'torch.Tensor'> torch.Size([64]) cuda:0\n",
      "<class 'torch.Tensor'> torch.Size([64]) cuda:0\n",
      "<class 'torch.Tensor'> torch.Size([]) cuda:0\n",
      "<class 'torch.Tensor'> torch.Size([64]) cuda:0\n",
      "<class 'torch.Tensor'> torch.Size([64]) cuda:0\n",
      "<class 'torch.Tensor'> torch.Size([]) cuda:0\n",
      "<class 'torch.Tensor'> torch.Size([64]) cuda:0\n",
      "<class 'torch.Tensor'> torch.Size([64]) cuda:0\n",
      "<class 'torch.Tensor'> torch.Size([]) cuda:0\n",
      "<class 'torch.Tensor'> torch.Size([64]) cuda:0\n",
      "<class 'torch.Tensor'> torch.Size([64]) cuda:0\n",
      "<class 'torch.Tensor'> torch.Size([]) cuda:0\n",
      "<class 'torch.Tensor'> torch.Size([64]) cuda:0\n",
      "<class 'torch.Tensor'> torch.Size([64]) cuda:0\n",
      "<class 'torch.Tensor'> torch.Size([]) cuda:0\n",
      "<class 'torch.Tensor'> torch.Size([64]) cuda:0\n",
      "<class 'torch.Tensor'> torch.Size([64]) cuda:0\n",
      "<class 'torch.Tensor'> torch.Size([]) cuda:0\n",
      "<class 'torch.Tensor'> torch.Size([64]) cuda:0\n",
      "<class 'torch.Tensor'> torch.Size([64]) cuda:0\n",
      "<class 'torch.Tensor'> torch.Size([]) cuda:0\n"
     ]
    }
   ],
   "source": [
    "clear_cuda()"
   ],
   "metadata": {
    "collapsed": false,
    "ExecuteTime": {
     "end_time": "2024-04-07T04:33:23.552983Z",
     "start_time": "2024-04-07T04:33:21.427131Z"
    }
   },
   "id": "e99e721a3307a923",
   "execution_count": 68
  },
  {
   "cell_type": "code",
   "outputs": [],
   "source": [
    "del RSv1"
   ],
   "metadata": {
    "collapsed": false,
    "ExecuteTime": {
     "end_time": "2024-04-09T00:45:19.619660Z",
     "start_time": "2024-04-09T00:45:19.605074Z"
    }
   },
   "id": "4e0029868663dd9c",
   "execution_count": 45
  },
  {
   "cell_type": "code",
   "outputs": [],
   "source": [
    "del loader"
   ],
   "metadata": {
    "collapsed": false,
    "ExecuteTime": {
     "end_time": "2024-04-07T04:33:26.411805Z",
     "start_time": "2024-04-07T04:33:26.399806Z"
    }
   },
   "id": "620dd96bb49cfb95",
   "execution_count": 70
  },
  {
   "cell_type": "code",
   "outputs": [
    {
     "name": "stdout",
     "output_type": "stream",
     "text": [
      "cuda\n"
     ]
    }
   ],
   "source": [
    "RSv1 = GAN_1(g_conv_depth=6, d_conv_depth=6, lr=0.0002, pre_trained_g=RDv2).to(device)"
   ],
   "metadata": {
    "ExecuteTime": {
     "end_time": "2024-04-09T00:45:21.645502Z",
     "start_time": "2024-04-09T00:45:21.634502Z"
    }
   },
   "id": "6b0cc09a",
   "execution_count": 46
  },
  {
   "cell_type": "code",
   "outputs": [
    {
     "name": "stdout",
     "output_type": "stream",
     "text": [
      "<class 'torch.Tensor'> torch.Size([64]) cuda:0\n",
      "<class 'torch.nn.parameter.Parameter'> torch.Size([64, 14, 3, 3]) cuda:0\n",
      "<class 'torch.nn.parameter.Parameter'> torch.Size([64]) cuda:0\n",
      "<class 'torch.nn.parameter.Parameter'> torch.Size([128, 4096]) cuda:0\n",
      "<class 'torch.nn.parameter.Parameter'> torch.Size([128]) cuda:0\n",
      "<class 'torch.nn.parameter.Parameter'> torch.Size([64, 64, 3, 3]) cuda:0\n",
      "<class 'torch.nn.parameter.Parameter'> torch.Size([64]) cuda:0\n",
      "<class 'torch.nn.parameter.Parameter'> torch.Size([64]) cuda:0\n",
      "<class 'torch.nn.parameter.Parameter'> torch.Size([64]) cuda:0\n",
      "<class 'torch.Tensor'> torch.Size([64]) cuda:0\n",
      "<class 'torch.Tensor'> torch.Size([64]) cuda:0\n",
      "<class 'torch.Tensor'> torch.Size([]) cuda:0\n",
      "<class 'torch.nn.parameter.Parameter'> torch.Size([64, 64, 3, 3]) cuda:0\n",
      "<class 'torch.nn.parameter.Parameter'> torch.Size([64]) cuda:0\n",
      "<class 'torch.nn.parameter.Parameter'> torch.Size([64]) cuda:0\n",
      "<class 'torch.nn.parameter.Parameter'> torch.Size([64]) cuda:0\n",
      "<class 'torch.Tensor'> torch.Size([64]) cuda:0\n",
      "<class 'torch.Tensor'> torch.Size([64]) cuda:0\n",
      "<class 'torch.Tensor'> torch.Size([]) cuda:0\n",
      "<class 'torch.nn.parameter.Parameter'> torch.Size([64, 64, 3, 3]) cuda:0\n",
      "<class 'torch.nn.parameter.Parameter'> torch.Size([64]) cuda:0\n",
      "<class 'torch.nn.parameter.Parameter'> torch.Size([64]) cuda:0\n",
      "<class 'torch.nn.parameter.Parameter'> torch.Size([64]) cuda:0\n",
      "<class 'torch.Tensor'> torch.Size([64]) cuda:0\n",
      "<class 'torch.Tensor'> torch.Size([64]) cuda:0\n",
      "<class 'torch.Tensor'> torch.Size([]) cuda:0\n",
      "<class 'torch.nn.parameter.Parameter'> torch.Size([64, 64, 3, 3]) cuda:0\n",
      "<class 'torch.nn.parameter.Parameter'> torch.Size([64]) cuda:0\n",
      "<class 'torch.nn.parameter.Parameter'> torch.Size([64]) cuda:0\n",
      "<class 'torch.nn.parameter.Parameter'> torch.Size([64]) cuda:0\n",
      "<class 'torch.Tensor'> torch.Size([64]) cuda:0\n",
      "<class 'torch.Tensor'> torch.Size([64]) cuda:0\n",
      "<class 'torch.Tensor'> torch.Size([]) cuda:0\n",
      "<class 'torch.nn.parameter.Parameter'> torch.Size([64, 64, 3, 3]) cuda:0\n",
      "<class 'torch.nn.parameter.Parameter'> torch.Size([64]) cuda:0\n",
      "<class 'torch.nn.parameter.Parameter'> torch.Size([64]) cuda:0\n",
      "<class 'torch.nn.parameter.Parameter'> torch.Size([64]) cuda:0\n",
      "<class 'torch.Tensor'> torch.Size([64]) cuda:0\n",
      "<class 'torch.Tensor'> torch.Size([64]) cuda:0\n",
      "<class 'torch.Tensor'> torch.Size([]) cuda:0\n",
      "<class 'torch.nn.parameter.Parameter'> torch.Size([64, 64, 3, 3]) cuda:0\n",
      "<class 'torch.nn.parameter.Parameter'> torch.Size([64]) cuda:0\n",
      "<class 'torch.nn.parameter.Parameter'> torch.Size([64]) cuda:0\n",
      "<class 'torch.nn.parameter.Parameter'> torch.Size([64]) cuda:0\n",
      "<class 'torch.Tensor'> torch.Size([64]) cuda:0\n",
      "<class 'torch.Tensor'> torch.Size([64]) cuda:0\n",
      "<class 'torch.Tensor'> torch.Size([]) cuda:0\n",
      "<class 'torch.nn.parameter.Parameter'> torch.Size([64, 64, 3, 3]) cuda:0\n",
      "<class 'torch.nn.parameter.Parameter'> torch.Size([64]) cuda:0\n",
      "<class 'torch.nn.parameter.Parameter'> torch.Size([64]) cuda:0\n",
      "<class 'torch.nn.parameter.Parameter'> torch.Size([64]) cuda:0\n",
      "<class 'torch.Tensor'> torch.Size([64]) cuda:0\n",
      "<class 'torch.Tensor'> torch.Size([64]) cuda:0\n",
      "<class 'torch.Tensor'> torch.Size([]) cuda:0\n",
      "<class 'torch.nn.parameter.Parameter'> torch.Size([64, 64, 3, 3]) cuda:0\n",
      "<class 'torch.nn.parameter.Parameter'> torch.Size([64]) cuda:0\n",
      "<class 'torch.nn.parameter.Parameter'> torch.Size([64]) cuda:0\n",
      "<class 'torch.nn.parameter.Parameter'> torch.Size([64]) cuda:0\n",
      "<class 'torch.Tensor'> torch.Size([64]) cuda:0\n",
      "<class 'torch.Tensor'> torch.Size([64]) cuda:0\n",
      "<class 'torch.Tensor'> torch.Size([]) cuda:0\n",
      "<class 'torch.nn.parameter.Parameter'> torch.Size([64, 64, 3, 3]) cuda:0\n",
      "<class 'torch.nn.parameter.Parameter'> torch.Size([64]) cuda:0\n",
      "<class 'torch.nn.parameter.Parameter'> torch.Size([64]) cuda:0\n",
      "<class 'torch.nn.parameter.Parameter'> torch.Size([64]) cuda:0\n",
      "<class 'torch.Tensor'> torch.Size([64]) cuda:0\n",
      "<class 'torch.Tensor'> torch.Size([64]) cuda:0\n",
      "<class 'torch.Tensor'> torch.Size([]) cuda:0\n",
      "<class 'torch.nn.parameter.Parameter'> torch.Size([64, 64, 3, 3]) cuda:0\n",
      "<class 'torch.nn.parameter.Parameter'> torch.Size([64]) cuda:0\n",
      "<class 'torch.nn.parameter.Parameter'> torch.Size([64]) cuda:0\n",
      "<class 'torch.nn.parameter.Parameter'> torch.Size([64]) cuda:0\n",
      "<class 'torch.Tensor'> torch.Size([64]) cuda:0\n",
      "<class 'torch.Tensor'> torch.Size([64]) cuda:0\n",
      "<class 'torch.Tensor'> torch.Size([]) cuda:0\n",
      "<class 'torch.nn.parameter.Parameter'> torch.Size([64, 64, 3, 3]) cuda:0\n",
      "<class 'torch.nn.parameter.Parameter'> torch.Size([64]) cuda:0\n",
      "<class 'torch.nn.parameter.Parameter'> torch.Size([64]) cuda:0\n",
      "<class 'torch.nn.parameter.Parameter'> torch.Size([64]) cuda:0\n",
      "<class 'torch.Tensor'> torch.Size([64]) cuda:0\n",
      "<class 'torch.Tensor'> torch.Size([64]) cuda:0\n",
      "<class 'torch.Tensor'> torch.Size([]) cuda:0\n",
      "<class 'torch.nn.parameter.Parameter'> torch.Size([64, 64, 3, 3]) cuda:0\n",
      "<class 'torch.nn.parameter.Parameter'> torch.Size([64]) cuda:0\n",
      "<class 'torch.nn.parameter.Parameter'> torch.Size([64]) cuda:0\n",
      "<class 'torch.nn.parameter.Parameter'> torch.Size([64]) cuda:0\n",
      "<class 'torch.Tensor'> torch.Size([64]) cuda:0\n",
      "<class 'torch.Tensor'> torch.Size([64]) cuda:0\n",
      "<class 'torch.Tensor'> torch.Size([]) cuda:0\n",
      "<class 'torch.Tensor'> torch.Size([512, 14, 8, 8]) cuda:0\n",
      "<class 'torch.Tensor'> torch.Size([512, 2, 8, 8]) cuda:0\n",
      "<class 'torch.Tensor'> torch.Size([512, 2, 8, 8]) cuda:0\n",
      "<class 'torch.Tensor'> torch.Size([512, 1]) cuda:0\n",
      "<class 'torch.Tensor'> torch.Size([512, 1]) cuda:0\n",
      "<class 'torch.Tensor'> torch.Size([]) cuda:0\n",
      "<class 'torch.Tensor'> torch.Size([512, 1]) cuda:0\n",
      "<class 'torch.Tensor'> torch.Size([512, 1]) cuda:0\n",
      "<class 'torch.Tensor'> torch.Size([]) cuda:0\n",
      "<class 'torch.Tensor'> torch.Size([]) cuda:0\n",
      "<class 'torch.Tensor'> torch.Size([]) cuda:0\n",
      "<class 'torch.nn.parameter.Parameter'> torch.Size([64, 16, 3, 3]) cuda:0\n",
      "<class 'torch.nn.parameter.Parameter'> torch.Size([64]) cuda:0\n",
      "<class 'torch.nn.parameter.Parameter'> torch.Size([64, 64, 3, 3]) cuda:0\n",
      "<class 'torch.nn.parameter.Parameter'> torch.Size([64]) cuda:0\n",
      "<class 'torch.nn.parameter.Parameter'> torch.Size([64]) cuda:0\n",
      "<class 'torch.nn.parameter.Parameter'> torch.Size([64]) cuda:0\n",
      "<class 'torch.nn.parameter.Parameter'> torch.Size([64, 64, 3, 3]) cuda:0\n",
      "<class 'torch.nn.parameter.Parameter'> torch.Size([64]) cuda:0\n",
      "<class 'torch.nn.parameter.Parameter'> torch.Size([64]) cuda:0\n",
      "<class 'torch.nn.parameter.Parameter'> torch.Size([64]) cuda:0\n",
      "<class 'torch.nn.parameter.Parameter'> torch.Size([64, 64, 3, 3]) cuda:0\n",
      "<class 'torch.nn.parameter.Parameter'> torch.Size([64]) cuda:0\n",
      "<class 'torch.nn.parameter.Parameter'> torch.Size([64]) cuda:0\n",
      "<class 'torch.nn.parameter.Parameter'> torch.Size([64]) cuda:0\n",
      "<class 'torch.nn.parameter.Parameter'> torch.Size([64, 64, 3, 3]) cuda:0\n",
      "<class 'torch.nn.parameter.Parameter'> torch.Size([64]) cuda:0\n",
      "<class 'torch.nn.parameter.Parameter'> torch.Size([64]) cuda:0\n",
      "<class 'torch.nn.parameter.Parameter'> torch.Size([64]) cuda:0\n",
      "<class 'torch.nn.parameter.Parameter'> torch.Size([64, 64, 3, 3]) cuda:0\n",
      "<class 'torch.nn.parameter.Parameter'> torch.Size([64]) cuda:0\n",
      "<class 'torch.nn.parameter.Parameter'> torch.Size([64]) cuda:0\n",
      "<class 'torch.nn.parameter.Parameter'> torch.Size([64]) cuda:0\n",
      "<class 'torch.nn.parameter.Parameter'> torch.Size([64, 64, 3, 3]) cuda:0\n",
      "<class 'torch.nn.parameter.Parameter'> torch.Size([64]) cuda:0\n",
      "<class 'torch.nn.parameter.Parameter'> torch.Size([64]) cuda:0\n",
      "<class 'torch.nn.parameter.Parameter'> torch.Size([64]) cuda:0\n",
      "<class 'torch.nn.parameter.Parameter'> torch.Size([64, 64, 3, 3]) cuda:0\n",
      "<class 'torch.nn.parameter.Parameter'> torch.Size([64]) cuda:0\n",
      "<class 'torch.nn.parameter.Parameter'> torch.Size([64]) cuda:0\n",
      "<class 'torch.nn.parameter.Parameter'> torch.Size([64]) cuda:0\n",
      "<class 'torch.nn.parameter.Parameter'> torch.Size([64, 64, 3, 3]) cuda:0\n",
      "<class 'torch.nn.parameter.Parameter'> torch.Size([64]) cuda:0\n",
      "<class 'torch.nn.parameter.Parameter'> torch.Size([64]) cuda:0\n",
      "<class 'torch.nn.parameter.Parameter'> torch.Size([64]) cuda:0\n",
      "<class 'torch.nn.parameter.Parameter'> torch.Size([64, 64, 3, 3]) cuda:0\n",
      "<class 'torch.nn.parameter.Parameter'> torch.Size([64]) cuda:0\n",
      "<class 'torch.nn.parameter.Parameter'> torch.Size([64]) cuda:0\n",
      "<class 'torch.nn.parameter.Parameter'> torch.Size([64]) cuda:0\n",
      "<class 'torch.nn.parameter.Parameter'> torch.Size([64, 64, 3, 3]) cuda:0\n",
      "<class 'torch.nn.parameter.Parameter'> torch.Size([64]) cuda:0\n",
      "<class 'torch.nn.parameter.Parameter'> torch.Size([64]) cuda:0\n",
      "<class 'torch.nn.parameter.Parameter'> torch.Size([64]) cuda:0\n",
      "<class 'torch.nn.parameter.Parameter'> torch.Size([64, 64, 3, 3]) cuda:0\n",
      "<class 'torch.nn.parameter.Parameter'> torch.Size([64]) cuda:0\n",
      "<class 'torch.nn.parameter.Parameter'> torch.Size([64]) cuda:0\n",
      "<class 'torch.nn.parameter.Parameter'> torch.Size([64]) cuda:0\n",
      "<class 'torch.nn.parameter.Parameter'> torch.Size([64, 64, 3, 3]) cuda:0\n",
      "<class 'torch.nn.parameter.Parameter'> torch.Size([64]) cuda:0\n",
      "<class 'torch.nn.parameter.Parameter'> torch.Size([64]) cuda:0\n",
      "<class 'torch.nn.parameter.Parameter'> torch.Size([64]) cuda:0\n",
      "<class 'torch.nn.parameter.Parameter'> torch.Size([1, 4096]) cuda:0\n",
      "<class 'torch.nn.parameter.Parameter'> torch.Size([1]) cuda:0\n",
      "<class 'torch.Tensor'> torch.Size([]) cuda:0\n",
      "<class 'torch.Tensor'> torch.Size([64, 16, 3, 3]) cuda:0\n",
      "<class 'torch.Tensor'> torch.Size([64, 16, 3, 3]) cuda:0\n",
      "<class 'torch.Tensor'> torch.Size([]) cuda:0\n",
      "<class 'torch.Tensor'> torch.Size([64]) cuda:0\n",
      "<class 'torch.Tensor'> torch.Size([64]) cuda:0\n",
      "<class 'torch.Tensor'> torch.Size([]) cuda:0\n",
      "<class 'torch.Tensor'> torch.Size([64, 64, 3, 3]) cuda:0\n",
      "<class 'torch.Tensor'> torch.Size([64, 64, 3, 3]) cuda:0\n",
      "<class 'torch.Tensor'> torch.Size([]) cuda:0\n",
      "<class 'torch.Tensor'> torch.Size([64]) cuda:0\n",
      "<class 'torch.Tensor'> torch.Size([64]) cuda:0\n",
      "<class 'torch.Tensor'> torch.Size([]) cuda:0\n",
      "<class 'torch.Tensor'> torch.Size([64]) cuda:0\n",
      "<class 'torch.Tensor'> torch.Size([64]) cuda:0\n",
      "<class 'torch.Tensor'> torch.Size([]) cuda:0\n",
      "<class 'torch.Tensor'> torch.Size([64]) cuda:0\n",
      "<class 'torch.Tensor'> torch.Size([64]) cuda:0\n",
      "<class 'torch.Tensor'> torch.Size([]) cuda:0\n",
      "<class 'torch.Tensor'> torch.Size([64, 64, 3, 3]) cuda:0\n",
      "<class 'torch.Tensor'> torch.Size([64, 64, 3, 3]) cuda:0\n",
      "<class 'torch.Tensor'> torch.Size([]) cuda:0\n",
      "<class 'torch.Tensor'> torch.Size([64]) cuda:0\n",
      "<class 'torch.Tensor'> torch.Size([64]) cuda:0\n",
      "<class 'torch.Tensor'> torch.Size([]) cuda:0\n",
      "<class 'torch.Tensor'> torch.Size([64]) cuda:0\n",
      "<class 'torch.Tensor'> torch.Size([64]) cuda:0\n",
      "<class 'torch.Tensor'> torch.Size([]) cuda:0\n",
      "<class 'torch.Tensor'> torch.Size([64]) cuda:0\n",
      "<class 'torch.Tensor'> torch.Size([64]) cuda:0\n",
      "<class 'torch.Tensor'> torch.Size([]) cuda:0\n",
      "<class 'torch.Tensor'> torch.Size([64, 64, 3, 3]) cuda:0\n",
      "<class 'torch.Tensor'> torch.Size([64, 64, 3, 3]) cuda:0\n",
      "<class 'torch.Tensor'> torch.Size([]) cuda:0\n",
      "<class 'torch.Tensor'> torch.Size([64]) cuda:0\n",
      "<class 'torch.Tensor'> torch.Size([64]) cuda:0\n",
      "<class 'torch.Tensor'> torch.Size([]) cuda:0\n",
      "<class 'torch.Tensor'> torch.Size([64]) cuda:0\n",
      "<class 'torch.Tensor'> torch.Size([64]) cuda:0\n",
      "<class 'torch.Tensor'> torch.Size([]) cuda:0\n",
      "<class 'torch.Tensor'> torch.Size([64]) cuda:0\n",
      "<class 'torch.Tensor'> torch.Size([64]) cuda:0\n",
      "<class 'torch.Tensor'> torch.Size([]) cuda:0\n",
      "<class 'torch.Tensor'> torch.Size([64, 64, 3, 3]) cuda:0\n",
      "<class 'torch.Tensor'> torch.Size([64, 64, 3, 3]) cuda:0\n",
      "<class 'torch.Tensor'> torch.Size([]) cuda:0\n",
      "<class 'torch.Tensor'> torch.Size([64]) cuda:0\n",
      "<class 'torch.Tensor'> torch.Size([64]) cuda:0\n",
      "<class 'torch.Tensor'> torch.Size([]) cuda:0\n",
      "<class 'torch.Tensor'> torch.Size([64]) cuda:0\n",
      "<class 'torch.Tensor'> torch.Size([64]) cuda:0\n",
      "<class 'torch.Tensor'> torch.Size([]) cuda:0\n",
      "<class 'torch.Tensor'> torch.Size([64]) cuda:0\n",
      "<class 'torch.Tensor'> torch.Size([64]) cuda:0\n",
      "<class 'torch.Tensor'> torch.Size([]) cuda:0\n",
      "<class 'torch.Tensor'> torch.Size([64, 64, 3, 3]) cuda:0\n",
      "<class 'torch.Tensor'> torch.Size([64, 64, 3, 3]) cuda:0\n",
      "<class 'torch.Tensor'> torch.Size([]) cuda:0\n",
      "<class 'torch.Tensor'> torch.Size([64]) cuda:0\n",
      "<class 'torch.Tensor'> torch.Size([64]) cuda:0\n",
      "<class 'torch.Tensor'> torch.Size([]) cuda:0\n",
      "<class 'torch.Tensor'> torch.Size([64]) cuda:0\n",
      "<class 'torch.Tensor'> torch.Size([64]) cuda:0\n",
      "<class 'torch.Tensor'> torch.Size([]) cuda:0\n",
      "<class 'torch.Tensor'> torch.Size([64]) cuda:0\n",
      "<class 'torch.Tensor'> torch.Size([64]) cuda:0\n",
      "<class 'torch.Tensor'> torch.Size([]) cuda:0\n",
      "<class 'torch.Tensor'> torch.Size([64, 64, 3, 3]) cuda:0\n",
      "<class 'torch.Tensor'> torch.Size([64, 64, 3, 3]) cuda:0\n",
      "<class 'torch.Tensor'> torch.Size([]) cuda:0\n",
      "<class 'torch.Tensor'> torch.Size([64]) cuda:0\n",
      "<class 'torch.Tensor'> torch.Size([64]) cuda:0\n",
      "<class 'torch.Tensor'> torch.Size([]) cuda:0\n",
      "<class 'torch.Tensor'> torch.Size([64]) cuda:0\n",
      "<class 'torch.Tensor'> torch.Size([64]) cuda:0\n",
      "<class 'torch.Tensor'> torch.Size([]) cuda:0\n",
      "<class 'torch.Tensor'> torch.Size([64]) cuda:0\n",
      "<class 'torch.Tensor'> torch.Size([64]) cuda:0\n",
      "<class 'torch.Tensor'> torch.Size([]) cuda:0\n",
      "<class 'torch.Tensor'> torch.Size([64, 64, 3, 3]) cuda:0\n",
      "<class 'torch.Tensor'> torch.Size([64, 64, 3, 3]) cuda:0\n",
      "<class 'torch.Tensor'> torch.Size([]) cuda:0\n",
      "<class 'torch.Tensor'> torch.Size([64]) cuda:0\n",
      "<class 'torch.Tensor'> torch.Size([64]) cuda:0\n",
      "<class 'torch.Tensor'> torch.Size([]) cuda:0\n",
      "<class 'torch.Tensor'> torch.Size([64]) cuda:0\n",
      "<class 'torch.Tensor'> torch.Size([64]) cuda:0\n",
      "<class 'torch.Tensor'> torch.Size([]) cuda:0\n",
      "<class 'torch.Tensor'> torch.Size([64]) cuda:0\n",
      "<class 'torch.Tensor'> torch.Size([64]) cuda:0\n",
      "<class 'torch.Tensor'> torch.Size([]) cuda:0\n",
      "<class 'torch.Tensor'> torch.Size([64, 64, 3, 3]) cuda:0\n",
      "<class 'torch.Tensor'> torch.Size([64, 64, 3, 3]) cuda:0\n",
      "<class 'torch.Tensor'> torch.Size([]) cuda:0\n",
      "<class 'torch.Tensor'> torch.Size([64]) cuda:0\n",
      "<class 'torch.Tensor'> torch.Size([64]) cuda:0\n",
      "<class 'torch.Tensor'> torch.Size([]) cuda:0\n",
      "<class 'torch.Tensor'> torch.Size([64]) cuda:0\n",
      "<class 'torch.Tensor'> torch.Size([64]) cuda:0\n",
      "<class 'torch.Tensor'> torch.Size([]) cuda:0\n",
      "<class 'torch.Tensor'> torch.Size([64]) cuda:0\n",
      "<class 'torch.Tensor'> torch.Size([64]) cuda:0\n",
      "<class 'torch.Tensor'> torch.Size([]) cuda:0\n",
      "<class 'torch.Tensor'> torch.Size([64, 64, 3, 3]) cuda:0\n",
      "<class 'torch.Tensor'> torch.Size([64, 64, 3, 3]) cuda:0\n",
      "<class 'torch.Tensor'> torch.Size([]) cuda:0\n",
      "<class 'torch.Tensor'> torch.Size([64]) cuda:0\n",
      "<class 'torch.Tensor'> torch.Size([64]) cuda:0\n",
      "<class 'torch.Tensor'> torch.Size([]) cuda:0\n",
      "<class 'torch.Tensor'> torch.Size([64]) cuda:0\n",
      "<class 'torch.Tensor'> torch.Size([64]) cuda:0\n",
      "<class 'torch.Tensor'> torch.Size([]) cuda:0\n",
      "<class 'torch.Tensor'> torch.Size([64]) cuda:0\n",
      "<class 'torch.Tensor'> torch.Size([64]) cuda:0\n",
      "<class 'torch.Tensor'> torch.Size([]) cuda:0\n",
      "<class 'torch.Tensor'> torch.Size([64, 64, 3, 3]) cuda:0\n",
      "<class 'torch.Tensor'> torch.Size([64, 64, 3, 3]) cuda:0\n",
      "<class 'torch.Tensor'> torch.Size([]) cuda:0\n",
      "<class 'torch.Tensor'> torch.Size([64]) cuda:0\n",
      "<class 'torch.Tensor'> torch.Size([64]) cuda:0\n",
      "<class 'torch.Tensor'> torch.Size([]) cuda:0\n",
      "<class 'torch.Tensor'> torch.Size([64]) cuda:0\n",
      "<class 'torch.Tensor'> torch.Size([64]) cuda:0\n",
      "<class 'torch.Tensor'> torch.Size([]) cuda:0\n",
      "<class 'torch.Tensor'> torch.Size([64]) cuda:0\n",
      "<class 'torch.Tensor'> torch.Size([64]) cuda:0\n",
      "<class 'torch.Tensor'> torch.Size([]) cuda:0\n",
      "<class 'torch.Tensor'> torch.Size([64, 64, 3, 3]) cuda:0\n",
      "<class 'torch.Tensor'> torch.Size([64, 64, 3, 3]) cuda:0\n",
      "<class 'torch.Tensor'> torch.Size([]) cuda:0\n",
      "<class 'torch.Tensor'> torch.Size([64]) cuda:0\n",
      "<class 'torch.Tensor'> torch.Size([64]) cuda:0\n",
      "<class 'torch.Tensor'> torch.Size([]) cuda:0\n",
      "<class 'torch.Tensor'> torch.Size([64]) cuda:0\n",
      "<class 'torch.Tensor'> torch.Size([64]) cuda:0\n",
      "<class 'torch.Tensor'> torch.Size([]) cuda:0\n",
      "<class 'torch.Tensor'> torch.Size([64]) cuda:0\n",
      "<class 'torch.Tensor'> torch.Size([64]) cuda:0\n",
      "<class 'torch.Tensor'> torch.Size([]) cuda:0\n",
      "<class 'torch.Tensor'> torch.Size([64, 64, 3, 3]) cuda:0\n",
      "<class 'torch.Tensor'> torch.Size([64, 64, 3, 3]) cuda:0\n",
      "<class 'torch.Tensor'> torch.Size([]) cuda:0\n",
      "<class 'torch.Tensor'> torch.Size([64]) cuda:0\n",
      "<class 'torch.Tensor'> torch.Size([64]) cuda:0\n",
      "<class 'torch.Tensor'> torch.Size([]) cuda:0\n",
      "<class 'torch.Tensor'> torch.Size([64]) cuda:0\n",
      "<class 'torch.Tensor'> torch.Size([64]) cuda:0\n",
      "<class 'torch.Tensor'> torch.Size([]) cuda:0\n",
      "<class 'torch.Tensor'> torch.Size([64]) cuda:0\n",
      "<class 'torch.Tensor'> torch.Size([64]) cuda:0\n",
      "<class 'torch.Tensor'> torch.Size([]) cuda:0\n",
      "<class 'torch.Tensor'> torch.Size([1, 4096]) cuda:0\n",
      "<class 'torch.Tensor'> torch.Size([1, 4096]) cuda:0\n",
      "<class 'torch.Tensor'> torch.Size([]) cuda:0\n",
      "<class 'torch.Tensor'> torch.Size([1]) cuda:0\n",
      "<class 'torch.Tensor'> torch.Size([1]) cuda:0\n",
      "<class 'torch.Tensor'> torch.Size([64]) cuda:0\n",
      "<class 'torch.Tensor'> torch.Size([64]) cuda:0\n",
      "<class 'torch.Tensor'> torch.Size([]) cuda:0\n",
      "<class 'torch.Tensor'> torch.Size([64]) cuda:0\n",
      "<class 'torch.Tensor'> torch.Size([64]) cuda:0\n",
      "<class 'torch.Tensor'> torch.Size([]) cuda:0\n",
      "<class 'torch.Tensor'> torch.Size([64]) cuda:0\n",
      "<class 'torch.Tensor'> torch.Size([64]) cuda:0\n",
      "<class 'torch.Tensor'> torch.Size([]) cuda:0\n",
      "<class 'torch.Tensor'> torch.Size([64]) cuda:0\n",
      "<class 'torch.Tensor'> torch.Size([64]) cuda:0\n",
      "<class 'torch.Tensor'> torch.Size([]) cuda:0\n",
      "<class 'torch.Tensor'> torch.Size([64]) cuda:0\n",
      "<class 'torch.Tensor'> torch.Size([64]) cuda:0\n",
      "<class 'torch.Tensor'> torch.Size([]) cuda:0\n",
      "<class 'torch.Tensor'> torch.Size([64]) cuda:0\n",
      "<class 'torch.Tensor'> torch.Size([64]) cuda:0\n",
      "<class 'torch.Tensor'> torch.Size([]) cuda:0\n",
      "<class 'torch.Tensor'> torch.Size([64]) cuda:0\n",
      "<class 'torch.Tensor'> torch.Size([64]) cuda:0\n",
      "<class 'torch.Tensor'> torch.Size([]) cuda:0\n",
      "<class 'torch.Tensor'> torch.Size([64]) cuda:0\n",
      "<class 'torch.Tensor'> torch.Size([64]) cuda:0\n",
      "<class 'torch.Tensor'> torch.Size([]) cuda:0\n",
      "<class 'torch.Tensor'> torch.Size([64]) cuda:0\n",
      "<class 'torch.Tensor'> torch.Size([64]) cuda:0\n",
      "<class 'torch.Tensor'> torch.Size([]) cuda:0\n",
      "<class 'torch.Tensor'> torch.Size([64]) cuda:0\n",
      "<class 'torch.Tensor'> torch.Size([64]) cuda:0\n",
      "<class 'torch.Tensor'> torch.Size([]) cuda:0\n",
      "<class 'torch.Tensor'> torch.Size([64]) cuda:0\n",
      "<class 'torch.Tensor'> torch.Size([64]) cuda:0\n",
      "<class 'torch.Tensor'> torch.Size([]) cuda:0\n",
      "<class 'torch.Tensor'> torch.Size([64]) cuda:0\n",
      "<class 'torch.Tensor'> torch.Size([64]) cuda:0\n",
      "<class 'torch.Tensor'> torch.Size([]) cuda:0\n",
      "<class 'torch.Tensor'> torch.Size([64]) cuda:0\n",
      "<class 'torch.Tensor'> torch.Size([64]) cuda:0\n",
      "<class 'torch.Tensor'> torch.Size([]) cuda:0\n",
      "<class 'torch.Tensor'> torch.Size([64]) cuda:0\n",
      "<class 'torch.Tensor'> torch.Size([64]) cuda:0\n",
      "<class 'torch.Tensor'> torch.Size([]) cuda:0\n",
      "<class 'torch.Tensor'> torch.Size([64]) cuda:0\n",
      "<class 'torch.Tensor'> torch.Size([64]) cuda:0\n",
      "<class 'torch.Tensor'> torch.Size([]) cuda:0\n",
      "<class 'torch.Tensor'> torch.Size([64]) cuda:0\n",
      "<class 'torch.Tensor'> torch.Size([64]) cuda:0\n",
      "<class 'torch.Tensor'> torch.Size([]) cuda:0\n",
      "<class 'torch.Tensor'> torch.Size([64]) cuda:0\n",
      "<class 'torch.Tensor'> torch.Size([64]) cuda:0\n",
      "<class 'torch.Tensor'> torch.Size([]) cuda:0\n",
      "<class 'torch.Tensor'> torch.Size([64]) cuda:0\n",
      "<class 'torch.Tensor'> torch.Size([64]) cuda:0\n",
      "<class 'torch.Tensor'> torch.Size([]) cuda:0\n",
      "<class 'torch.Tensor'> torch.Size([64]) cuda:0\n",
      "<class 'torch.Tensor'> torch.Size([64]) cuda:0\n",
      "<class 'torch.Tensor'> torch.Size([]) cuda:0\n",
      "<class 'torch.Tensor'> torch.Size([64]) cuda:0\n",
      "<class 'torch.Tensor'> torch.Size([64]) cuda:0\n",
      "<class 'torch.Tensor'> torch.Size([]) cuda:0\n",
      "<class 'torch.Tensor'> torch.Size([64]) cuda:0\n",
      "<class 'torch.Tensor'> torch.Size([64]) cuda:0\n",
      "<class 'torch.Tensor'> torch.Size([]) cuda:0\n",
      "<class 'torch.Tensor'> torch.Size([64]) cuda:0\n",
      "<class 'torch.Tensor'> torch.Size([64]) cuda:0\n",
      "<class 'torch.Tensor'> torch.Size([]) cuda:0\n",
      "<class 'torch.Tensor'> torch.Size([64]) cuda:0\n",
      "<class 'torch.Tensor'> torch.Size([64]) cuda:0\n",
      "<class 'torch.Tensor'> torch.Size([]) cuda:0\n",
      "<class 'torch.Tensor'> torch.Size([64]) cuda:0\n",
      "<class 'torch.Tensor'> torch.Size([64]) cuda:0\n",
      "<class 'torch.Tensor'> torch.Size([]) cuda:0\n",
      "<class 'torch.nn.parameter.Parameter'> torch.Size([1]) cuda:0\n",
      "<class 'torch.nn.parameter.Parameter'> torch.Size([1, 4096]) cuda:0\n",
      "<class 'torch.nn.parameter.Parameter'> torch.Size([64]) cuda:0\n",
      "<class 'torch.nn.parameter.Parameter'> torch.Size([64]) cuda:0\n",
      "<class 'torch.nn.parameter.Parameter'> torch.Size([64]) cuda:0\n",
      "<class 'torch.nn.parameter.Parameter'> torch.Size([64, 64, 3, 3]) cuda:0\n",
      "<class 'torch.nn.parameter.Parameter'> torch.Size([64]) cuda:0\n",
      "<class 'torch.nn.parameter.Parameter'> torch.Size([64]) cuda:0\n",
      "<class 'torch.nn.parameter.Parameter'> torch.Size([64]) cuda:0\n",
      "<class 'torch.nn.parameter.Parameter'> torch.Size([64, 64, 3, 3]) cuda:0\n",
      "<class 'torch.nn.parameter.Parameter'> torch.Size([64]) cuda:0\n",
      "<class 'torch.nn.parameter.Parameter'> torch.Size([64]) cuda:0\n",
      "<class 'torch.nn.parameter.Parameter'> torch.Size([64]) cuda:0\n",
      "<class 'torch.nn.parameter.Parameter'> torch.Size([64, 64, 3, 3]) cuda:0\n",
      "<class 'torch.nn.parameter.Parameter'> torch.Size([64]) cuda:0\n",
      "<class 'torch.nn.parameter.Parameter'> torch.Size([64]) cuda:0\n",
      "<class 'torch.nn.parameter.Parameter'> torch.Size([64]) cuda:0\n",
      "<class 'torch.nn.parameter.Parameter'> torch.Size([64, 64, 3, 3]) cuda:0\n",
      "<class 'torch.nn.parameter.Parameter'> torch.Size([64]) cuda:0\n",
      "<class 'torch.nn.parameter.Parameter'> torch.Size([64]) cuda:0\n",
      "<class 'torch.nn.parameter.Parameter'> torch.Size([64]) cuda:0\n",
      "<class 'torch.nn.parameter.Parameter'> torch.Size([64, 64, 3, 3]) cuda:0\n",
      "<class 'torch.nn.parameter.Parameter'> torch.Size([64]) cuda:0\n",
      "<class 'torch.nn.parameter.Parameter'> torch.Size([64]) cuda:0\n",
      "<class 'torch.nn.parameter.Parameter'> torch.Size([64]) cuda:0\n",
      "<class 'torch.nn.parameter.Parameter'> torch.Size([64, 64, 3, 3]) cuda:0\n",
      "<class 'torch.nn.parameter.Parameter'> torch.Size([64]) cuda:0\n",
      "<class 'torch.nn.parameter.Parameter'> torch.Size([64]) cuda:0\n",
      "<class 'torch.nn.parameter.Parameter'> torch.Size([64]) cuda:0\n",
      "<class 'torch.nn.parameter.Parameter'> torch.Size([64, 64, 3, 3]) cuda:0\n",
      "<class 'torch.nn.parameter.Parameter'> torch.Size([64]) cuda:0\n",
      "<class 'torch.nn.parameter.Parameter'> torch.Size([64]) cuda:0\n",
      "<class 'torch.nn.parameter.Parameter'> torch.Size([64]) cuda:0\n",
      "<class 'torch.nn.parameter.Parameter'> torch.Size([64, 64, 3, 3]) cuda:0\n",
      "<class 'torch.nn.parameter.Parameter'> torch.Size([64]) cuda:0\n",
      "<class 'torch.nn.parameter.Parameter'> torch.Size([64]) cuda:0\n",
      "<class 'torch.nn.parameter.Parameter'> torch.Size([64]) cuda:0\n",
      "<class 'torch.nn.parameter.Parameter'> torch.Size([64, 64, 3, 3]) cuda:0\n",
      "<class 'torch.nn.parameter.Parameter'> torch.Size([64]) cuda:0\n",
      "<class 'torch.nn.parameter.Parameter'> torch.Size([64]) cuda:0\n",
      "<class 'torch.nn.parameter.Parameter'> torch.Size([64]) cuda:0\n",
      "<class 'torch.nn.parameter.Parameter'> torch.Size([64, 64, 3, 3]) cuda:0\n",
      "<class 'torch.nn.parameter.Parameter'> torch.Size([64]) cuda:0\n",
      "<class 'torch.nn.parameter.Parameter'> torch.Size([64]) cuda:0\n",
      "<class 'torch.nn.parameter.Parameter'> torch.Size([64]) cuda:0\n",
      "<class 'torch.nn.parameter.Parameter'> torch.Size([64, 64, 3, 3]) cuda:0\n",
      "<class 'torch.nn.parameter.Parameter'> torch.Size([64]) cuda:0\n",
      "<class 'torch.nn.parameter.Parameter'> torch.Size([64]) cuda:0\n",
      "<class 'torch.nn.parameter.Parameter'> torch.Size([64]) cuda:0\n",
      "<class 'torch.nn.parameter.Parameter'> torch.Size([64, 64, 3, 3]) cuda:0\n",
      "<class 'torch.nn.parameter.Parameter'> torch.Size([64]) cuda:0\n",
      "<class 'torch.nn.parameter.Parameter'> torch.Size([64, 16, 3, 3]) cuda:0\n",
      "<class 'torch.Tensor'> torch.Size([64, 16, 3, 3]) cuda:0\n",
      "<class 'torch.Tensor'> torch.Size([64, 16, 3, 3]) cuda:0\n",
      "<class 'torch.Tensor'> torch.Size([64]) cuda:0\n",
      "<class 'torch.Tensor'> torch.Size([64]) cuda:0\n",
      "<class 'torch.Tensor'> torch.Size([64, 64, 3, 3]) cuda:0\n",
      "<class 'torch.Tensor'> torch.Size([64, 64, 3, 3]) cuda:0\n",
      "<class 'torch.Tensor'> torch.Size([64]) cuda:0\n",
      "<class 'torch.Tensor'> torch.Size([64]) cuda:0\n",
      "<class 'torch.Tensor'> torch.Size([64]) cuda:0\n",
      "<class 'torch.Tensor'> torch.Size([64]) cuda:0\n",
      "<class 'torch.Tensor'> torch.Size([64]) cuda:0\n",
      "<class 'torch.Tensor'> torch.Size([64]) cuda:0\n",
      "<class 'torch.Tensor'> torch.Size([64, 64, 3, 3]) cuda:0\n",
      "<class 'torch.Tensor'> torch.Size([64, 64, 3, 3]) cuda:0\n",
      "<class 'torch.Tensor'> torch.Size([64]) cuda:0\n",
      "<class 'torch.Tensor'> torch.Size([64]) cuda:0\n",
      "<class 'torch.Tensor'> torch.Size([64]) cuda:0\n",
      "<class 'torch.Tensor'> torch.Size([64]) cuda:0\n",
      "<class 'torch.Tensor'> torch.Size([64]) cuda:0\n",
      "<class 'torch.Tensor'> torch.Size([64]) cuda:0\n",
      "<class 'torch.Tensor'> torch.Size([64, 64, 3, 3]) cuda:0\n",
      "<class 'torch.Tensor'> torch.Size([64, 64, 3, 3]) cuda:0\n",
      "<class 'torch.Tensor'> torch.Size([64]) cuda:0\n",
      "<class 'torch.Tensor'> torch.Size([64]) cuda:0\n",
      "<class 'torch.Tensor'> torch.Size([64]) cuda:0\n",
      "<class 'torch.Tensor'> torch.Size([64]) cuda:0\n",
      "<class 'torch.Tensor'> torch.Size([64]) cuda:0\n",
      "<class 'torch.Tensor'> torch.Size([64]) cuda:0\n",
      "<class 'torch.Tensor'> torch.Size([64, 64, 3, 3]) cuda:0\n",
      "<class 'torch.Tensor'> torch.Size([64, 64, 3, 3]) cuda:0\n",
      "<class 'torch.Tensor'> torch.Size([64]) cuda:0\n",
      "<class 'torch.Tensor'> torch.Size([64]) cuda:0\n",
      "<class 'torch.Tensor'> torch.Size([64]) cuda:0\n",
      "<class 'torch.Tensor'> torch.Size([64]) cuda:0\n",
      "<class 'torch.Tensor'> torch.Size([64]) cuda:0\n",
      "<class 'torch.Tensor'> torch.Size([64]) cuda:0\n",
      "<class 'torch.Tensor'> torch.Size([64, 64, 3, 3]) cuda:0\n",
      "<class 'torch.Tensor'> torch.Size([64, 64, 3, 3]) cuda:0\n",
      "<class 'torch.Tensor'> torch.Size([64]) cuda:0\n",
      "<class 'torch.Tensor'> torch.Size([64]) cuda:0\n",
      "<class 'torch.Tensor'> torch.Size([64]) cuda:0\n",
      "<class 'torch.Tensor'> torch.Size([64]) cuda:0\n",
      "<class 'torch.Tensor'> torch.Size([64]) cuda:0\n",
      "<class 'torch.Tensor'> torch.Size([64]) cuda:0\n",
      "<class 'torch.Tensor'> torch.Size([64, 64, 3, 3]) cuda:0\n",
      "<class 'torch.Tensor'> torch.Size([64, 64, 3, 3]) cuda:0\n",
      "<class 'torch.Tensor'> torch.Size([64]) cuda:0\n",
      "<class 'torch.Tensor'> torch.Size([64]) cuda:0\n",
      "<class 'torch.Tensor'> torch.Size([64]) cuda:0\n",
      "<class 'torch.Tensor'> torch.Size([64]) cuda:0\n",
      "<class 'torch.Tensor'> torch.Size([64]) cuda:0\n",
      "<class 'torch.Tensor'> torch.Size([64]) cuda:0\n",
      "<class 'torch.Tensor'> torch.Size([64, 64, 3, 3]) cuda:0\n",
      "<class 'torch.Tensor'> torch.Size([64, 64, 3, 3]) cuda:0\n",
      "<class 'torch.Tensor'> torch.Size([64]) cuda:0\n",
      "<class 'torch.Tensor'> torch.Size([64]) cuda:0\n",
      "<class 'torch.Tensor'> torch.Size([64]) cuda:0\n",
      "<class 'torch.Tensor'> torch.Size([64]) cuda:0\n",
      "<class 'torch.Tensor'> torch.Size([64]) cuda:0\n",
      "<class 'torch.Tensor'> torch.Size([64]) cuda:0\n",
      "<class 'torch.Tensor'> torch.Size([64, 64, 3, 3]) cuda:0\n",
      "<class 'torch.Tensor'> torch.Size([64, 64, 3, 3]) cuda:0\n",
      "<class 'torch.Tensor'> torch.Size([64]) cuda:0\n",
      "<class 'torch.Tensor'> torch.Size([64]) cuda:0\n",
      "<class 'torch.Tensor'> torch.Size([64]) cuda:0\n",
      "<class 'torch.Tensor'> torch.Size([64]) cuda:0\n",
      "<class 'torch.Tensor'> torch.Size([64]) cuda:0\n",
      "<class 'torch.Tensor'> torch.Size([64]) cuda:0\n",
      "<class 'torch.Tensor'> torch.Size([64, 64, 3, 3]) cuda:0\n",
      "<class 'torch.Tensor'> torch.Size([64, 64, 3, 3]) cuda:0\n",
      "<class 'torch.Tensor'> torch.Size([64]) cuda:0\n",
      "<class 'torch.Tensor'> torch.Size([64]) cuda:0\n",
      "<class 'torch.Tensor'> torch.Size([64]) cuda:0\n",
      "<class 'torch.Tensor'> torch.Size([64]) cuda:0\n",
      "<class 'torch.Tensor'> torch.Size([64]) cuda:0\n",
      "<class 'torch.Tensor'> torch.Size([64]) cuda:0\n",
      "<class 'torch.Tensor'> torch.Size([64, 64, 3, 3]) cuda:0\n",
      "<class 'torch.Tensor'> torch.Size([64, 64, 3, 3]) cuda:0\n",
      "<class 'torch.Tensor'> torch.Size([64]) cuda:0\n",
      "<class 'torch.Tensor'> torch.Size([64]) cuda:0\n",
      "<class 'torch.Tensor'> torch.Size([64]) cuda:0\n",
      "<class 'torch.Tensor'> torch.Size([64]) cuda:0\n",
      "<class 'torch.Tensor'> torch.Size([64]) cuda:0\n",
      "<class 'torch.Tensor'> torch.Size([64]) cuda:0\n",
      "<class 'torch.Tensor'> torch.Size([64, 64, 3, 3]) cuda:0\n",
      "<class 'torch.Tensor'> torch.Size([64, 64, 3, 3]) cuda:0\n",
      "<class 'torch.Tensor'> torch.Size([64]) cuda:0\n",
      "<class 'torch.Tensor'> torch.Size([64]) cuda:0\n",
      "<class 'torch.Tensor'> torch.Size([64]) cuda:0\n",
      "<class 'torch.Tensor'> torch.Size([64]) cuda:0\n",
      "<class 'torch.Tensor'> torch.Size([64]) cuda:0\n",
      "<class 'torch.Tensor'> torch.Size([64]) cuda:0\n",
      "<class 'torch.Tensor'> torch.Size([64, 64, 3, 3]) cuda:0\n",
      "<class 'torch.Tensor'> torch.Size([64, 64, 3, 3]) cuda:0\n",
      "<class 'torch.Tensor'> torch.Size([64]) cuda:0\n",
      "<class 'torch.Tensor'> torch.Size([64]) cuda:0\n",
      "<class 'torch.Tensor'> torch.Size([64]) cuda:0\n",
      "<class 'torch.Tensor'> torch.Size([64]) cuda:0\n",
      "<class 'torch.Tensor'> torch.Size([64]) cuda:0\n",
      "<class 'torch.Tensor'> torch.Size([64]) cuda:0\n",
      "<class 'torch.Tensor'> torch.Size([1, 4096]) cuda:0\n",
      "<class 'torch.Tensor'> torch.Size([1, 4096]) cuda:0\n",
      "<class 'torch.Tensor'> torch.Size([1]) cuda:0\n",
      "<class 'torch.Tensor'> torch.Size([1]) cuda:0\n",
      "<class 'torch.Tensor'> torch.Size([]) cuda:0\n",
      "<class 'torch.Tensor'> torch.Size([]) cuda:0\n",
      "<class 'torch.Tensor'> torch.Size([]) cuda:0\n",
      "<class 'torch.Tensor'> torch.Size([]) cuda:0\n",
      "<class 'torch.Tensor'> torch.Size([]) cuda:0\n",
      "<class 'torch.Tensor'> torch.Size([]) cuda:0\n",
      "<class 'torch.Tensor'> torch.Size([]) cuda:0\n",
      "<class 'torch.Tensor'> torch.Size([]) cuda:0\n",
      "<class 'torch.Tensor'> torch.Size([]) cuda:0\n",
      "<class 'torch.Tensor'> torch.Size([]) cuda:0\n",
      "<class 'torch.Tensor'> torch.Size([]) cuda:0\n",
      "<class 'torch.Tensor'> torch.Size([]) cuda:0\n",
      "<class 'torch.Tensor'> torch.Size([]) cuda:0\n",
      "<class 'torch.Tensor'> torch.Size([]) cuda:0\n",
      "<class 'torch.Tensor'> torch.Size([]) cuda:0\n",
      "<class 'torch.Tensor'> torch.Size([]) cuda:0\n",
      "<class 'torch.Tensor'> torch.Size([]) cuda:0\n",
      "<class 'torch.Tensor'> torch.Size([]) cuda:0\n",
      "<class 'torch.Tensor'> torch.Size([]) cuda:0\n",
      "<class 'torch.Tensor'> torch.Size([]) cuda:0\n",
      "<class 'torch.Tensor'> torch.Size([]) cuda:0\n",
      "<class 'torch.Tensor'> torch.Size([]) cuda:0\n",
      "<class 'torch.Tensor'> torch.Size([]) cuda:0\n",
      "<class 'torch.Tensor'> torch.Size([]) cuda:0\n",
      "<class 'torch.Tensor'> torch.Size([]) cuda:0\n",
      "<class 'torch.Tensor'> torch.Size([]) cuda:0\n",
      "<class 'torch.Tensor'> torch.Size([]) cuda:0\n",
      "<class 'torch.Tensor'> torch.Size([]) cuda:0\n",
      "<class 'torch.Tensor'> torch.Size([]) cuda:0\n",
      "<class 'torch.Tensor'> torch.Size([]) cuda:0\n",
      "<class 'torch.Tensor'> torch.Size([]) cuda:0\n",
      "<class 'torch.Tensor'> torch.Size([]) cuda:0\n",
      "<class 'torch.Tensor'> torch.Size([]) cuda:0\n",
      "<class 'torch.Tensor'> torch.Size([]) cuda:0\n",
      "<class 'torch.Tensor'> torch.Size([]) cuda:0\n",
      "<class 'torch.Tensor'> torch.Size([]) cuda:0\n",
      "<class 'torch.Tensor'> torch.Size([]) cuda:0\n",
      "<class 'torch.Tensor'> torch.Size([]) cuda:0\n",
      "<class 'torch.Tensor'> torch.Size([]) cuda:0\n",
      "<class 'torch.Tensor'> torch.Size([]) cuda:0\n",
      "<class 'torch.Tensor'> torch.Size([]) cuda:0\n",
      "<class 'torch.Tensor'> torch.Size([]) cuda:0\n",
      "<class 'torch.Tensor'> torch.Size([]) cuda:0\n",
      "<class 'torch.Tensor'> torch.Size([]) cuda:0\n",
      "<class 'torch.Tensor'> torch.Size([]) cuda:0\n",
      "<class 'torch.Tensor'> torch.Size([]) cuda:0\n",
      "<class 'torch.Tensor'> torch.Size([]) cuda:0\n",
      "<class 'torch.Tensor'> torch.Size([]) cuda:0\n",
      "<class 'torch.Tensor'> torch.Size([]) cuda:0\n",
      "<class 'torch.Tensor'> torch.Size([]) cuda:0\n",
      "<class 'torch.Tensor'> torch.Size([]) cuda:0\n",
      "<class 'torch.Tensor'> torch.Size([]) cuda:0\n",
      "<class 'torch.Tensor'> torch.Size([282, 14, 8, 8]) cuda:0\n",
      "<class 'torch.Tensor'> torch.Size([282, 2, 8, 8]) cuda:0\n",
      "<class 'torch.Tensor'> torch.Size([64, 16, 3, 3]) cuda:0\n",
      "<class 'torch.Tensor'> torch.Size([64]) cuda:0\n",
      "<class 'torch.Tensor'> torch.Size([64, 64, 3, 3]) cuda:0\n",
      "<class 'torch.Tensor'> torch.Size([64]) cuda:0\n",
      "<class 'torch.Tensor'> torch.Size([64]) cuda:0\n",
      "<class 'torch.Tensor'> torch.Size([64]) cuda:0\n",
      "<class 'torch.Tensor'> torch.Size([64, 64, 3, 3]) cuda:0\n",
      "<class 'torch.Tensor'> torch.Size([64]) cuda:0\n",
      "<class 'torch.Tensor'> torch.Size([64]) cuda:0\n",
      "<class 'torch.Tensor'> torch.Size([64]) cuda:0\n",
      "<class 'torch.Tensor'> torch.Size([64, 64, 3, 3]) cuda:0\n",
      "<class 'torch.Tensor'> torch.Size([64]) cuda:0\n",
      "<class 'torch.Tensor'> torch.Size([64]) cuda:0\n",
      "<class 'torch.Tensor'> torch.Size([64]) cuda:0\n",
      "<class 'torch.Tensor'> torch.Size([64, 64, 3, 3]) cuda:0\n",
      "<class 'torch.Tensor'> torch.Size([64]) cuda:0\n",
      "<class 'torch.Tensor'> torch.Size([64]) cuda:0\n",
      "<class 'torch.Tensor'> torch.Size([64]) cuda:0\n",
      "<class 'torch.Tensor'> torch.Size([64, 64, 3, 3]) cuda:0\n",
      "<class 'torch.Tensor'> torch.Size([64]) cuda:0\n",
      "<class 'torch.Tensor'> torch.Size([64]) cuda:0\n",
      "<class 'torch.Tensor'> torch.Size([64]) cuda:0\n",
      "<class 'torch.Tensor'> torch.Size([64, 64, 3, 3]) cuda:0\n",
      "<class 'torch.Tensor'> torch.Size([64]) cuda:0\n",
      "<class 'torch.Tensor'> torch.Size([64]) cuda:0\n",
      "<class 'torch.Tensor'> torch.Size([64]) cuda:0\n",
      "<class 'torch.Tensor'> torch.Size([64, 64, 3, 3]) cuda:0\n",
      "<class 'torch.Tensor'> torch.Size([64]) cuda:0\n",
      "<class 'torch.Tensor'> torch.Size([64]) cuda:0\n",
      "<class 'torch.Tensor'> torch.Size([64]) cuda:0\n",
      "<class 'torch.Tensor'> torch.Size([64, 64, 3, 3]) cuda:0\n",
      "<class 'torch.Tensor'> torch.Size([64]) cuda:0\n",
      "<class 'torch.Tensor'> torch.Size([64]) cuda:0\n",
      "<class 'torch.Tensor'> torch.Size([64]) cuda:0\n",
      "<class 'torch.Tensor'> torch.Size([64, 64, 3, 3]) cuda:0\n",
      "<class 'torch.Tensor'> torch.Size([64]) cuda:0\n",
      "<class 'torch.Tensor'> torch.Size([64]) cuda:0\n",
      "<class 'torch.Tensor'> torch.Size([64]) cuda:0\n",
      "<class 'torch.Tensor'> torch.Size([64, 64, 3, 3]) cuda:0\n",
      "<class 'torch.Tensor'> torch.Size([64]) cuda:0\n",
      "<class 'torch.Tensor'> torch.Size([64]) cuda:0\n",
      "<class 'torch.Tensor'> torch.Size([64]) cuda:0\n",
      "<class 'torch.Tensor'> torch.Size([64, 64, 3, 3]) cuda:0\n",
      "<class 'torch.Tensor'> torch.Size([64]) cuda:0\n",
      "<class 'torch.Tensor'> torch.Size([64]) cuda:0\n",
      "<class 'torch.Tensor'> torch.Size([64]) cuda:0\n",
      "<class 'torch.Tensor'> torch.Size([64, 64, 3, 3]) cuda:0\n",
      "<class 'torch.Tensor'> torch.Size([64]) cuda:0\n",
      "<class 'torch.Tensor'> torch.Size([64]) cuda:0\n",
      "<class 'torch.Tensor'> torch.Size([64]) cuda:0\n",
      "<class 'torch.Tensor'> torch.Size([1, 4096]) cuda:0\n",
      "<class 'torch.Tensor'> torch.Size([1]) cuda:0\n",
      "<class 'torch.Tensor'> torch.Size([1000, 2, 8, 8]) cuda:0\n",
      "<class 'torch.Tensor'> torch.Size([1000, 14, 8, 8]) cuda:0\n",
      "<class 'torch.Tensor'> torch.Size([1000, 14, 8, 8]) cuda:0\n",
      "<class 'torch.Tensor'> torch.Size([1000, 2, 8, 8]) cuda:0\n"
     ]
    },
    {
     "name": "stderr",
     "output_type": "stream",
     "text": [
      "100%|██████████| 10000/10000 [00:00<00:00, 553703.50it/s]\n",
      "100%|██████████| 1000/1000 [00:00<00:00, 499976.64it/s]\n"
     ]
    }
   ],
   "source": [
    "loader, val_data = RSv1.create_dataloader(boards, meta, moves, B = 512, N=10_000, N_val=1_000) # try B = 128\n",
    "G = len(loader)"
   ],
   "metadata": {
    "collapsed": false,
    "ExecuteTime": {
     "end_time": "2024-04-09T00:44:24.532642Z",
     "start_time": "2024-04-09T00:44:22.048972Z"
    }
   },
   "id": "813dd34e6b3493d9",
   "execution_count": 39
  },
  {
   "cell_type": "code",
   "outputs": [],
   "source": [
    "del RSv1.discriminator\n",
    "\n",
    "RSv1.discriminator = discriminator_1(conv_depth=4)\n",
    "RSv1.configure_optimizers(0.001)"
   ],
   "metadata": {
    "collapsed": false,
    "ExecuteTime": {
     "end_time": "2024-04-02T04:39:55.040593Z",
     "start_time": "2024-04-02T04:39:55.018509Z"
    }
   },
   "id": "ae05e0141e2312f6",
   "execution_count": 80
  },
  {
   "cell_type": "code",
   "outputs": [],
   "source": [
    "del RSv1.generator\n",
    "\n",
    "RSv1.generator = generator_1(conv_depth=6)\n",
    "RSv1.configure_optimizers(0.0002)"
   ],
   "metadata": {
    "collapsed": false,
    "ExecuteTime": {
     "end_time": "2024-04-07T03:44:52.994668Z",
     "start_time": "2024-04-07T03:44:52.982663Z"
    }
   },
   "id": "4422e84a0c20287d",
   "execution_count": 35
  },
  {
   "cell_type": "code",
   "outputs": [],
   "source": [
    "train_discriminator = False\n",
    "train_all = True"
   ],
   "metadata": {
    "collapsed": false,
    "ExecuteTime": {
     "end_time": "2024-04-09T00:45:26.013857Z",
     "start_time": "2024-04-09T00:45:25.998891Z"
    }
   },
   "id": "2eb6651643a9eb0b",
   "execution_count": 47
  },
  {
   "cell_type": "code",
   "outputs": [
    {
     "name": "stderr",
     "output_type": "stream",
     "text": [
      "100%|██████████| 20/20 [00:01<00:00, 17.50it/s]\n",
      "C:\\Users\\osama\\AppData\\Local\\Temp\\ipykernel_4716\\3366513572.py:133: UserWarning: Implicit dimension choice for softmax has been deprecated. Change the call to include dim=X as an argument.\n",
      "  fake_moves = F.softmax(fake_moves[0], dim=1), F.softmax(fake_moves[1])\n"
     ]
    },
    {
     "name": "stdout",
     "output_type": "stream",
     "text": [
      "Epoch 1 with g_loss: 0.0 and d_loss: 1.3676099717617034\n",
      "Epoch: 1, g_acc=0.09640624523162841, d_acc_f=0.6519999861717224, d_acc_r=0.7709999799728393\n",
      "d_dist_f=0.3696484088897705, d_dist_r=0.34300570487976073\n"
     ]
    },
    {
     "name": "stderr",
     "output_type": "stream",
     "text": [
      "100%|██████████| 20/20 [00:00<00:00, 27.86it/s]\n"
     ]
    },
    {
     "name": "stdout",
     "output_type": "stream",
     "text": [
      "Epoch 1 with g_loss: -0.6591579854488373 and d_loss: 0.0\n",
      "Epoch: 1, g_acc=0.09660937190055847, d_acc_f=0.43699999153614044, d_acc_r=0.7709999799728393\n",
      "d_dist_f=0.5103607654571534, d_dist_r=0.34300570487976073\n"
     ]
    },
    {
     "name": "stderr",
     "output_type": "stream",
     "text": [
      "100%|██████████| 20/20 [00:00<00:00, 24.47it/s]\n"
     ]
    },
    {
     "name": "stdout",
     "output_type": "stream",
     "text": [
      "Epoch 2 with g_loss: 0.0 and d_loss: 1.2236130118370057\n",
      "Epoch: 2, g_acc=0.09660937190055847, d_acc_f=0.6829999923706055, d_acc_r=0.6229999870061874\n",
      "d_dist_f=0.37467801570892334, d_dist_r=0.43149781227111816\n"
     ]
    },
    {
     "name": "stderr",
     "output_type": "stream",
     "text": [
      "100%|██████████| 20/20 [00:00<00:00, 27.78it/s]\n"
     ]
    },
    {
     "name": "stdout",
     "output_type": "stream",
     "text": [
      "Epoch 2 with g_loss: -0.5483318507671356 and d_loss: 0.0\n",
      "Epoch: 2, g_acc=0.09671874642372132, d_acc_f=0.5589999943971634, d_acc_r=0.6229999870061874\n",
      "d_dist_f=0.4577776908874512, d_dist_r=0.43149781227111816\n"
     ]
    },
    {
     "name": "stderr",
     "output_type": "stream",
     "text": [
      "100%|██████████| 20/20 [00:00<00:00, 27.98it/s]\n"
     ]
    },
    {
     "name": "stdout",
     "output_type": "stream",
     "text": [
      "Epoch 2 with g_loss: -0.7624371767044067 and d_loss: 0.0\n",
      "Epoch: 2, g_acc=0.09668749570846558, d_acc_f=0.4279999941587448, d_acc_r=0.6229999870061874\n",
      "d_dist_f=0.5313076496124267, d_dist_r=0.43149781227111816\n"
     ]
    },
    {
     "name": "stderr",
     "output_type": "stream",
     "text": [
      "100%|██████████| 20/20 [00:00<00:00, 24.34it/s]\n"
     ]
    },
    {
     "name": "stdout",
     "output_type": "stream",
     "text": [
      "Epoch 3 with g_loss: 0.0 and d_loss: 1.3696855306625366\n",
      "Epoch: 3, g_acc=0.09668749570846558, d_acc_f=0.7639999747276306, d_acc_r=0.39799998700618744\n",
      "d_dist_f=0.3779248476028442, d_dist_r=0.5426502227783203\n"
     ]
    },
    {
     "name": "stderr",
     "output_type": "stream",
     "text": [
      "100%|██████████| 20/20 [00:00<00:00, 27.85it/s]\n"
     ]
    },
    {
     "name": "stdout",
     "output_type": "stream",
     "text": [
      "Epoch 3 with g_loss: -0.45282574743032455 and d_loss: 0.0\n",
      "Epoch: 3, g_acc=0.09671874642372132, d_acc_f=0.7339999854564667, d_acc_r=0.39799998700618744\n",
      "d_dist_f=0.3963720083236694, d_dist_r=0.5426502227783203\n"
     ]
    },
    {
     "name": "stderr",
     "output_type": "stream",
     "text": [
      "100%|██████████| 20/20 [00:00<00:00, 27.84it/s]\n"
     ]
    },
    {
     "name": "stdout",
     "output_type": "stream",
     "text": [
      "Epoch 3 with g_loss: -0.5226018935441971 and d_loss: 0.0\n",
      "Epoch: 3, g_acc=0.09699999690055847, d_acc_f=0.6179999828338623, d_acc_r=0.39799998700618744\n",
      "d_dist_f=0.44977498054504395, d_dist_r=0.5426502227783203\n"
     ]
    },
    {
     "name": "stderr",
     "output_type": "stream",
     "text": [
      "100%|██████████| 20/20 [00:00<00:00, 27.34it/s]\n"
     ]
    },
    {
     "name": "stdout",
     "output_type": "stream",
     "text": [
      "Epoch 3 with g_loss: -0.7837356001138687 and d_loss: 0.0\n",
      "Epoch: 3, g_acc=0.09659374952316284, d_acc_f=0.31899999380111693, d_acc_r=0.39799998700618744\n",
      "d_dist_f=0.5904438972473145, d_dist_r=0.5426502227783203\n"
     ]
    },
    {
     "name": "stderr",
     "output_type": "stream",
     "text": [
      "100%|██████████| 20/20 [00:00<00:00, 24.67it/s]\n"
     ]
    },
    {
     "name": "stdout",
     "output_type": "stream",
     "text": [
      "Epoch 4 with g_loss: 0.0 and d_loss: 1.426854282617569\n",
      "Epoch: 4, g_acc=0.09659374952316284, d_acc_f=0.47399999052286146, d_acc_r=0.8159999787807465\n",
      "d_dist_f=0.5057966232299804, d_dist_r=0.34414992332458494\n"
     ]
    },
    {
     "name": "stderr",
     "output_type": "stream",
     "text": [
      "100%|██████████| 20/20 [00:00<00:00, 24.41it/s]\n"
     ]
    },
    {
     "name": "stdout",
     "output_type": "stream",
     "text": [
      "Epoch 4 with g_loss: 0.0 and d_loss: 1.0745045125484467\n",
      "Epoch: 4, g_acc=0.09659374952316284, d_acc_f=0.818999981880188, d_acc_r=0.6039999842643737\n",
      "d_dist_f=0.2853677988052368, d_dist_r=0.45203361511230467\n"
     ]
    },
    {
     "name": "stderr",
     "output_type": "stream",
     "text": [
      "100%|██████████| 20/20 [00:00<00:00, 28.03it/s]\n"
     ]
    },
    {
     "name": "stdout",
     "output_type": "stream",
     "text": [
      "Epoch 4 with g_loss: -0.42497614324092864 and d_loss: 0.0\n",
      "Epoch: 4, g_acc=0.09714062213897705, d_acc_f=0.5139999985694885, d_acc_r=0.6039999842643737\n",
      "d_dist_f=0.4906888484954834, d_dist_r=0.45203361511230467\n"
     ]
    },
    {
     "name": "stderr",
     "output_type": "stream",
     "text": [
      "100%|██████████| 20/20 [00:00<00:00, 24.37it/s]\n"
     ]
    },
    {
     "name": "stdout",
     "output_type": "stream",
     "text": [
      "Epoch 4 with g_loss: -0.8783006250858307 and d_loss: 0.0\n",
      "Epoch: 4, g_acc=0.0968593716621399, d_acc_f=0.26999999582767487, d_acc_r=0.6039999842643737\n",
      "d_dist_f=0.6211438179016113, d_dist_r=0.45203361511230467\n"
     ]
    },
    {
     "name": "stderr",
     "output_type": "stream",
     "text": [
      "100%|██████████| 20/20 [00:00<00:00, 24.10it/s]\n"
     ]
    },
    {
     "name": "stdout",
     "output_type": "stream",
     "text": [
      "Epoch 5 with g_loss: 0.0 and d_loss: 1.4160034298896789\n",
      "Epoch: 5, g_acc=0.0968593716621399, d_acc_f=0.6819999873638153, d_acc_r=0.42299999594688414\n",
      "d_dist_f=0.441742992401123, d_dist_r=0.5170690059661865\n"
     ]
    },
    {
     "name": "stderr",
     "output_type": "stream",
     "text": [
      "100%|██████████| 20/20 [00:00<00:00, 27.44it/s]\n"
     ]
    },
    {
     "name": "stdout",
     "output_type": "stream",
     "text": [
      "Epoch 5 with g_loss: -0.5540796399116517 and d_loss: 0.0\n",
      "Epoch: 5, g_acc=0.096937495470047, d_acc_f=0.6409999787807464, d_acc_r=0.42299999594688414\n",
      "d_dist_f=0.45627532005310056, d_dist_r=0.5170690059661865\n"
     ]
    },
    {
     "name": "stderr",
     "output_type": "stream",
     "text": [
      "100%|██████████| 20/20 [00:00<00:00, 27.66it/s]\n"
     ]
    },
    {
     "name": "stdout",
     "output_type": "stream",
     "text": [
      "Epoch 5 with g_loss: -0.6036776304244995 and d_loss: 0.0\n",
      "Epoch: 5, g_acc=0.09715625047683715, d_acc_f=0.6019999861717225, d_acc_r=0.42299999594688414\n",
      "d_dist_f=0.4702409267425537, d_dist_r=0.5170690059661865\n"
     ]
    },
    {
     "name": "stderr",
     "output_type": "stream",
     "text": [
      "100%|██████████| 20/20 [00:00<00:00, 27.62it/s]\n"
     ]
    },
    {
     "name": "stdout",
     "output_type": "stream",
     "text": [
      "Epoch 5 with g_loss: -0.6718064904212951 and d_loss: 0.0\n",
      "Epoch: 5, g_acc=0.09735937118530273, d_acc_f=0.529999989271164, d_acc_r=0.42299999594688414\n",
      "d_dist_f=0.49764056205749513, d_dist_r=0.5170690059661865\n"
     ]
    },
    {
     "name": "stderr",
     "output_type": "stream",
     "text": [
      "100%|██████████| 20/20 [00:00<00:00, 27.43it/s]\n"
     ]
    },
    {
     "name": "stdout",
     "output_type": "stream",
     "text": [
      "Epoch 5 with g_loss: -0.7736188113689423 and d_loss: 0.0\n",
      "Epoch: 5, g_acc=0.09704686999320984, d_acc_f=0.47399998605251314, d_acc_r=0.42299999594688414\n",
      "d_dist_f=0.5263890743255615, d_dist_r=0.5170690059661865\n"
     ]
    },
    {
     "name": "stderr",
     "output_type": "stream",
     "text": [
      "100%|██████████| 20/20 [00:00<00:00, 24.09it/s]\n"
     ]
    },
    {
     "name": "stdout",
     "output_type": "stream",
     "text": [
      "Epoch 6 with g_loss: 0.0 and d_loss: 1.2491093933582307\n",
      "Epoch: 6, g_acc=0.09704686999320984, d_acc_f=0.35199998766183854, d_acc_r=0.8359999775886535\n",
      "d_dist_f=0.5626391887664794, d_dist_r=0.33722386360168455\n"
     ]
    },
    {
     "name": "stderr",
     "output_type": "stream",
     "text": [
      "100%|██████████| 20/20 [00:00<00:00, 24.15it/s]\n"
     ]
    },
    {
     "name": "stdout",
     "output_type": "stream",
     "text": [
      "Epoch 6 with g_loss: 0.0 and d_loss: 1.1411882907152175\n",
      "Epoch: 6, g_acc=0.09704686999320984, d_acc_f=0.19399999529123307, d_acc_r=0.9579999804496765\n",
      "d_dist_f=0.642824935913086, d_dist_r=0.23244976997375488\n"
     ]
    },
    {
     "name": "stderr",
     "output_type": "stream",
     "text": [
      "100%|██████████| 20/20 [00:00<00:00, 23.86it/s]\n"
     ]
    },
    {
     "name": "stdout",
     "output_type": "stream",
     "text": [
      "Epoch 6 with g_loss: 0.0 and d_loss: 0.9707630753517151\n",
      "Epoch: 6, g_acc=0.09704686999320984, d_acc_f=0.6199999883770942, d_acc_r=0.9319999814033508\n",
      "d_dist_f=0.43628249168395994, d_dist_r=0.2423693895339966\n"
     ]
    },
    {
     "name": "stderr",
     "output_type": "stream",
     "text": [
      "100%|██████████| 20/20 [00:00<00:00, 27.28it/s]\n"
     ]
    },
    {
     "name": "stdout",
     "output_type": "stream",
     "text": [
      "Epoch 6 with g_loss: -1.2964788019657134 and d_loss: 0.0\n",
      "Epoch: 6, g_acc=0.09681249856948852, d_acc_f=0.0019999999552965165, d_acc_r=0.9319999814033508\n",
      "d_dist_f=0.8944827079772949, d_dist_r=0.2423693895339966\n"
     ]
    },
    {
     "name": "stderr",
     "output_type": "stream",
     "text": [
      "100%|██████████| 20/20 [00:00<00:00, 24.10it/s]\n"
     ]
    },
    {
     "name": "stdout",
     "output_type": "stream",
     "text": [
      "Epoch 7 with g_loss: 0.0 and d_loss: 1.4084854245185852\n",
      "Epoch: 7, g_acc=0.09681249856948852, d_acc_f=0.2029999941587448, d_acc_r=0.9759999752044678\n",
      "d_dist_f=0.631264591217041, d_dist_r=0.1835608124732971\n"
     ]
    },
    {
     "name": "stderr",
     "output_type": "stream",
     "text": [
      "100%|██████████| 20/20 [00:00<00:00, 24.12it/s]\n"
     ]
    },
    {
     "name": "stdout",
     "output_type": "stream",
     "text": [
      "Epoch 7 with g_loss: 0.0 and d_loss: 0.7345766395330429\n",
      "Epoch: 7, g_acc=0.09681249856948852, d_acc_f=0.9959999918937683, d_acc_r=0.9389999866485595\n",
      "d_dist_f=0.11866617202758789, d_dist_r=0.2120213031768799\n"
     ]
    },
    {
     "name": "stderr",
     "output_type": "stream",
     "text": [
      "100%|██████████| 20/20 [00:00<00:00, 27.72it/s]\n"
     ]
    },
    {
     "name": "stdout",
     "output_type": "stream",
     "text": [
      "Epoch 7 with g_loss: -0.3855607021600008 and d_loss: 0.0\n",
      "Epoch: 7, g_acc=0.09723437428474427, d_acc_f=0.14099999740719796, d_acc_r=0.9389999866485595\n",
      "d_dist_f=0.7238658428192138, d_dist_r=0.2120213031768799\n"
     ]
    },
    {
     "name": "stderr",
     "output_type": "stream",
     "text": [
      "100%|██████████| 20/20 [00:00<00:00, 24.45it/s]\n"
     ]
    },
    {
     "name": "stdout",
     "output_type": "stream",
     "text": [
      "Epoch 8 with g_loss: 0.0 and d_loss: 1.7115408897399902\n",
      "Epoch: 8, g_acc=0.09723437428474427, d_acc_f=0.6349999815225601, d_acc_r=0.5759999841451645\n",
      "d_dist_f=0.451399040222168, d_dist_r=0.4748822212219238\n"
     ]
    },
    {
     "name": "stderr",
     "output_type": "stream",
     "text": [
      "100%|██████████| 20/20 [00:00<00:00, 27.80it/s]\n"
     ]
    },
    {
     "name": "stdout",
     "output_type": "stream",
     "text": [
      "Epoch 8 with g_loss: -0.6912980645895004 and d_loss: 0.0\n",
      "Epoch: 8, g_acc=0.09646874666213989, d_acc_f=0.15199999641627074, d_acc_r=0.5759999841451645\n",
      "d_dist_f=0.6504472255706787, d_dist_r=0.4748822212219238\n"
     ]
    },
    {
     "name": "stderr",
     "output_type": "stream",
     "text": [
      "100%|██████████| 20/20 [00:00<00:00, 24.49it/s]\n"
     ]
    },
    {
     "name": "stdout",
     "output_type": "stream",
     "text": [
      "Epoch 9 with g_loss: 0.0 and d_loss: 0.7728925630450248\n",
      "Epoch: 9, g_acc=0.09646874666213989, d_acc_f=0.8919999837875366, d_acc_r=0.9659999787807465\n",
      "d_dist_f=0.20925436019897461, d_dist_r=0.19130454063415528\n"
     ]
    },
    {
     "name": "stderr",
     "output_type": "stream",
     "text": [
      "100%|██████████| 20/20 [00:00<00:00, 27.52it/s]\n"
     ]
    },
    {
     "name": "stdout",
     "output_type": "stream",
     "text": [
      "Epoch 9 with g_loss: -1.2127744998782872 and d_loss: 0.0\n",
      "Epoch: 9, g_acc=0.0969531238079071, d_acc_f=0.004999999888241291, d_acc_r=0.9659999787807465\n",
      "d_dist_f=0.9063617706298828, d_dist_r=0.19130454063415528\n"
     ]
    },
    {
     "name": "stderr",
     "output_type": "stream",
     "text": [
      "100%|██████████| 20/20 [00:00<00:00, 24.21it/s]\n"
     ]
    },
    {
     "name": "stdout",
     "output_type": "stream",
     "text": [
      "Epoch 10 with g_loss: 0.0 and d_loss: 1.4694032162427901\n",
      "Epoch: 10, g_acc=0.0969531238079071, d_acc_f=0.5609999850392342, d_acc_r=0.9449999868869782\n",
      "d_dist_f=0.46610198020935056, d_dist_r=0.22331221103668214\n"
     ]
    },
    {
     "name": "stderr",
     "output_type": "stream",
     "text": [
      "100%|██████████| 20/20 [00:00<00:00, 27.93it/s]\n"
     ]
    },
    {
     "name": "stdout",
     "output_type": "stream",
     "text": [
      "Epoch 10 with g_loss: -1.3035360515117644 and d_loss: 0.0\n",
      "Epoch: 10, g_acc=0.09709374904632569, d_acc_f=0.0009999999776482583, d_acc_r=0.9449999868869782\n",
      "d_dist_f=0.8959953308105468, d_dist_r=0.22331221103668214\n"
     ]
    },
    {
     "name": "stderr",
     "output_type": "stream",
     "text": [
      "100%|██████████| 20/20 [00:00<00:00, 24.36it/s]\n"
     ]
    },
    {
     "name": "stdout",
     "output_type": "stream",
     "text": [
      "Epoch 11 with g_loss: 0.0 and d_loss: 1.2647688657045364\n",
      "Epoch: 11, g_acc=0.09709374904632569, d_acc_f=0.7299999713897705, d_acc_r=0.7819999814033508\n",
      "d_dist_f=0.38964436054229734, d_dist_r=0.3664832353591919\n"
     ]
    },
    {
     "name": "stderr",
     "output_type": "stream",
     "text": [
      "100%|██████████| 20/20 [00:00<00:00, 27.70it/s]\n"
     ]
    },
    {
     "name": "stdout",
     "output_type": "stream",
     "text": [
      "Epoch 11 with g_loss: -0.4696280673146248 and d_loss: 0.0\n",
      "Epoch: 11, g_acc=0.09724999666213989, d_acc_f=0.3549999952316284, d_acc_r=0.7819999814033508\n",
      "d_dist_f=0.5604177474975586, d_dist_r=0.3664832353591919\n"
     ]
    },
    {
     "name": "stderr",
     "output_type": "stream",
     "text": [
      "100%|██████████| 20/20 [00:00<00:00, 24.25it/s]\n"
     ]
    },
    {
     "name": "stdout",
     "output_type": "stream",
     "text": [
      "Epoch 12 with g_loss: 0.0 and d_loss: 1.0695615440607071\n",
      "Epoch: 12, g_acc=0.09724999666213989, d_acc_f=0.5249999836087227, d_acc_r=0.7019999772310257\n",
      "d_dist_f=0.48449058532714845, d_dist_r=0.4074233531951904\n"
     ]
    },
    {
     "name": "stderr",
     "output_type": "stream",
     "text": [
      "100%|██████████| 20/20 [00:00<00:00, 27.68it/s]\n"
     ]
    },
    {
     "name": "stdout",
     "output_type": "stream",
     "text": [
      "Epoch 12 with g_loss: -0.6059899240732193 and d_loss: 0.0\n",
      "Epoch: 12, g_acc=0.0970312476158142, d_acc_f=0.28399999216198923, d_acc_r=0.7019999772310257\n",
      "d_dist_f=0.5950436592102051, d_dist_r=0.4074233531951904\n"
     ]
    },
    {
     "name": "stderr",
     "output_type": "stream",
     "text": [
      "100%|██████████| 20/20 [00:00<00:00, 24.30it/s]\n"
     ]
    },
    {
     "name": "stdout",
     "output_type": "stream",
     "text": [
      "Epoch 13 with g_loss: 0.0 and d_loss: 1.1084007978439332\n",
      "Epoch: 13, g_acc=0.0970312476158142, d_acc_f=0.4559999883174896, d_acc_r=0.7229999840259552\n",
      "d_dist_f=0.5062779426574707, d_dist_r=0.3933044672012329\n"
     ]
    },
    {
     "name": "stderr",
     "output_type": "stream",
     "text": [
      "100%|██████████| 20/20 [00:00<00:00, 21.86it/s]\n"
     ]
    },
    {
     "name": "stdout",
     "output_type": "stream",
     "text": [
      "Epoch 13 with g_loss: 0.0 and d_loss: 0.9362290054559708\n",
      "Epoch: 13, g_acc=0.0970312476158142, d_acc_f=0.910999983549118, d_acc_r=0.3689999863505363\n",
      "d_dist_f=0.27671160697937014, d_dist_r=0.5599945545196533\n"
     ]
    },
    {
     "name": "stderr",
     "output_type": "stream",
     "text": [
      "100%|██████████| 20/20 [00:00<00:00, 27.48it/s]\n"
     ]
    },
    {
     "name": "stdout",
     "output_type": "stream",
     "text": [
      "Epoch 13 with g_loss: -0.23602263405919074 and d_loss: 0.0\n",
      "Epoch: 13, g_acc=0.09715625047683715, d_acc_f=0.8749999821186065, d_acc_r=0.3689999863505363\n",
      "d_dist_f=0.30325214862823485, d_dist_r=0.5599945545196533\n"
     ]
    },
    {
     "name": "stderr",
     "output_type": "stream",
     "text": [
      "100%|██████████| 20/20 [00:00<00:00, 27.71it/s]\n"
     ]
    },
    {
     "name": "stdout",
     "output_type": "stream",
     "text": [
      "Epoch 13 with g_loss: -0.290367079526186 and d_loss: 0.0\n",
      "Epoch: 13, g_acc=0.09718749523162842, d_acc_f=0.7939999878406525, d_acc_r=0.3689999863505363\n",
      "d_dist_f=0.3535332679748535, d_dist_r=0.5599945545196533\n"
     ]
    },
    {
     "name": "stderr",
     "output_type": "stream",
     "text": [
      "100%|██████████| 20/20 [00:00<00:00, 27.35it/s]\n"
     ]
    },
    {
     "name": "stdout",
     "output_type": "stream",
     "text": [
      "Epoch 13 with g_loss: -0.4113363265991211 and d_loss: 0.0\n",
      "Epoch: 13, g_acc=0.09710937142372131, d_acc_f=0.5309999942779541, d_acc_r=0.3689999863505363\n",
      "d_dist_f=0.48217148780822755, d_dist_r=0.5599945545196533\n"
     ]
    },
    {
     "name": "stderr",
     "output_type": "stream",
     "text": [
      "100%|██████████| 20/20 [00:00<00:00, 27.46it/s]\n"
     ]
    },
    {
     "name": "stdout",
     "output_type": "stream",
     "text": [
      "Epoch 13 with g_loss: -1.2536039233207703 and d_loss: 0.0\n",
      "Epoch: 13, g_acc=0.095765620470047, d_acc_f=0.043999999202787875, d_acc_r=0.3689999863505363\n",
      "d_dist_f=0.816743278503418, d_dist_r=0.5599945545196533\n"
     ]
    },
    {
     "name": "stderr",
     "output_type": "stream",
     "text": [
      "100%|██████████| 20/20 [00:00<00:00, 24.30it/s]\n"
     ]
    },
    {
     "name": "stdout",
     "output_type": "stream",
     "text": [
      "Epoch 14 with g_loss: 0.0 and d_loss: 0.5173047244548797\n",
      "Epoch: 14, g_acc=0.095765620470047, d_acc_f=0.8749999880790711, d_acc_r=0.9989999949932098\n",
      "d_dist_f=0.16425931453704834, d_dist_r=0.04166121482849121\n"
     ]
    },
    {
     "name": "stderr",
     "output_type": "stream",
     "text": [
      "100%|██████████| 20/20 [00:00<00:00, 27.09it/s]\n"
     ]
    },
    {
     "name": "stdout",
     "output_type": "stream",
     "text": [
      "Epoch 14 with g_loss: -0.05807659048587084 and d_loss: 0.0\n",
      "Epoch: 14, g_acc=0.09581249952316284, d_acc_f=0.8369999930262566, d_acc_r=0.9989999949932098\n",
      "d_dist_f=0.19794223308563233, d_dist_r=0.04166121482849121\n"
     ]
    },
    {
     "name": "stderr",
     "output_type": "stream",
     "text": [
      "100%|██████████| 20/20 [00:00<00:00, 27.37it/s]\n"
     ]
    },
    {
     "name": "stdout",
     "output_type": "stream",
     "text": [
      "Epoch 14 with g_loss: -0.17324050478637218 and d_loss: 0.0\n",
      "Epoch: 14, g_acc=0.09671874642372132, d_acc_f=0.5319999843835831, d_acc_r=0.9989999949932098\n",
      "d_dist_f=0.4763651847839355, d_dist_r=0.04166121482849121\n"
     ]
    },
    {
     "name": "stderr",
     "output_type": "stream",
     "text": [
      "100%|██████████| 20/20 [00:00<00:00, 27.70it/s]\n"
     ]
    },
    {
     "name": "stdout",
     "output_type": "stream",
     "text": [
      "Epoch 14 with g_loss: -3.7367400407791136 and d_loss: 0.0\n",
      "Epoch: 14, g_acc=0.09673437476158142, d_acc_f=0.0, d_acc_r=0.9989999949932098\n",
      "d_dist_f=0.9895228385925293, d_dist_r=0.04166121482849121\n"
     ]
    },
    {
     "name": "stderr",
     "output_type": "stream",
     "text": [
      "100%|██████████| 20/20 [00:00<00:00, 24.52it/s]\n"
     ]
    },
    {
     "name": "stdout",
     "output_type": "stream",
     "text": [
      "Epoch 15 with g_loss: 0.0 and d_loss: 1.6438619017601013\n",
      "Epoch: 15, g_acc=0.09673437476158142, d_acc_f=0.6849999904632569, d_acc_r=0.546999990940094\n",
      "d_dist_f=0.4151447296142578, d_dist_r=0.47745137214660643\n"
     ]
    },
    {
     "name": "stderr",
     "output_type": "stream",
     "text": [
      "100%|██████████| 20/20 [00:00<00:00, 27.51it/s]\n"
     ]
    },
    {
     "name": "stdout",
     "output_type": "stream",
     "text": [
      "Epoch 15 with g_loss: -0.4718790099024773 and d_loss: 0.0\n",
      "Epoch: 15, g_acc=0.09671874642372132, d_acc_f=0.6629999816417694, d_acc_r=0.546999990940094\n",
      "d_dist_f=0.42653803825378417, d_dist_r=0.47745137214660643\n"
     ]
    },
    {
     "name": "stderr",
     "output_type": "stream",
     "text": [
      "100%|██████████| 20/20 [00:00<00:00, 27.41it/s]\n"
     ]
    },
    {
     "name": "stdout",
     "output_type": "stream",
     "text": [
      "Epoch 15 with g_loss: -0.507580180466175 and d_loss: 0.0\n",
      "Epoch: 15, g_acc=0.09671874642372132, d_acc_f=0.632999986410141, d_acc_r=0.546999990940094\n",
      "d_dist_f=0.438077449798584, d_dist_r=0.47745137214660643\n"
     ]
    },
    {
     "name": "stderr",
     "output_type": "stream",
     "text": [
      "100%|██████████| 20/20 [00:00<00:00, 27.58it/s]\n"
     ]
    },
    {
     "name": "stdout",
     "output_type": "stream",
     "text": [
      "Epoch 15 with g_loss: -0.5406337887048721 and d_loss: 0.0\n",
      "Epoch: 15, g_acc=0.09674999713897706, d_acc_f=0.6099999845027924, d_acc_r=0.546999990940094\n",
      "d_dist_f=0.448773193359375, d_dist_r=0.47745137214660643\n"
     ]
    },
    {
     "name": "stderr",
     "output_type": "stream",
     "text": [
      "100%|██████████| 20/20 [00:00<00:00, 27.66it/s]\n"
     ]
    },
    {
     "name": "stdout",
     "output_type": "stream",
     "text": [
      "Epoch 15 with g_loss: -0.5697028398513794 and d_loss: 0.0\n",
      "Epoch: 15, g_acc=0.09673437476158142, d_acc_f=0.5889999836683273, d_acc_r=0.546999990940094\n",
      "d_dist_f=0.45813307762145994, d_dist_r=0.47745137214660643\n"
     ]
    },
    {
     "name": "stderr",
     "output_type": "stream",
     "text": [
      "100%|██████████| 20/20 [00:00<00:00, 27.65it/s]\n"
     ]
    },
    {
     "name": "stdout",
     "output_type": "stream",
     "text": [
      "Epoch 15 with g_loss: -0.5988175660371781 and d_loss: 0.0\n",
      "Epoch: 15, g_acc=0.09671874642372132, d_acc_f=0.5659999847412109, d_acc_r=0.546999990940094\n",
      "d_dist_f=0.4675755977630615, d_dist_r=0.47745137214660643\n"
     ]
    },
    {
     "name": "stderr",
     "output_type": "stream",
     "text": [
      "100%|██████████| 20/20 [00:00<00:00, 27.46it/s]\n"
     ]
    },
    {
     "name": "stdout",
     "output_type": "stream",
     "text": [
      "Epoch 15 with g_loss: -0.6321934789419175 and d_loss: 0.0\n",
      "Epoch: 15, g_acc=0.09678124785423278, d_acc_f=0.5419999867677688, d_acc_r=0.546999990940094\n",
      "d_dist_f=0.47842698097229003, d_dist_r=0.47745137214660643\n"
     ]
    },
    {
     "name": "stderr",
     "output_type": "stream",
     "text": [
      "100%|██████████| 20/20 [00:00<00:00, 27.92it/s]\n"
     ]
    },
    {
     "name": "stdout",
     "output_type": "stream",
     "text": [
      "Epoch 15 with g_loss: -0.6607346653938293 and d_loss: 0.0\n",
      "Epoch: 15, g_acc=0.09682812094688416, d_acc_f=0.5319999843835831, d_acc_r=0.546999990940094\n",
      "d_dist_f=0.48729467391967773, d_dist_r=0.47745137214660643\n"
     ]
    },
    {
     "name": "stderr",
     "output_type": "stream",
     "text": [
      "100%|██████████| 20/20 [00:00<00:00, 27.61it/s]\n"
     ]
    },
    {
     "name": "stdout",
     "output_type": "stream",
     "text": [
      "Epoch 15 with g_loss: -0.6928016364574432 and d_loss: 0.0\n",
      "Epoch: 15, g_acc=0.09676562547683716, d_acc_f=0.502999997138977, d_acc_r=0.546999990940094\n",
      "d_dist_f=0.4999424934387207, d_dist_r=0.47745137214660643\n"
     ]
    },
    {
     "name": "stderr",
     "output_type": "stream",
     "text": [
      "100%|██████████| 20/20 [00:00<00:00, 27.66it/s]\n"
     ]
    },
    {
     "name": "stdout",
     "output_type": "stream",
     "text": [
      "Epoch 15 with g_loss: -0.7649308919906617 and d_loss: 0.0\n",
      "Epoch: 15, g_acc=0.09676562547683716, d_acc_f=0.43099998533725736, d_acc_r=0.546999990940094\n",
      "d_dist_f=0.5415592670440674, d_dist_r=0.47745137214660643\n"
     ]
    },
    {
     "name": "stderr",
     "output_type": "stream",
     "text": [
      "100%|██████████| 20/20 [00:00<00:00, 23.85it/s]\n"
     ]
    },
    {
     "name": "stdout",
     "output_type": "stream",
     "text": [
      "Epoch 16 with g_loss: 0.0 and d_loss: 1.0449087917804718\n",
      "Epoch: 16, g_acc=0.09676562547683716, d_acc_f=0.7699999868869781, d_acc_r=0.7109999716281891\n",
      "d_dist_f=0.35969033241271975, d_dist_r=0.3902414321899414\n"
     ]
    },
    {
     "name": "stderr",
     "output_type": "stream",
     "text": [
      "100%|██████████| 20/20 [00:00<00:00, 27.43it/s]\n"
     ]
    },
    {
     "name": "stdout",
     "output_type": "stream",
     "text": [
      "Epoch 16 with g_loss: -0.43389859050512314 and d_loss: 0.0\n",
      "Epoch: 16, g_acc=0.09690625071525574, d_acc_f=0.6949999928474426, d_acc_r=0.7109999716281891\n",
      "d_dist_f=0.40306806564331055, d_dist_r=0.3902414321899414\n"
     ]
    },
    {
     "name": "stderr",
     "output_type": "stream",
     "text": [
      "100%|██████████| 20/20 [00:00<00:00, 27.23it/s]\n"
     ]
    },
    {
     "name": "stdout",
     "output_type": "stream",
     "text": [
      "Epoch 16 with g_loss: -0.5441678315401077 and d_loss: 0.0\n",
      "Epoch: 16, g_acc=0.09701562523841858, d_acc_f=0.5559999912977218, d_acc_r=0.7109999716281891\n",
      "d_dist_f=0.4723809242248535, d_dist_r=0.3902414321899414\n"
     ]
    },
    {
     "name": "stderr",
     "output_type": "stream",
     "text": [
      "100%|██████████| 20/20 [00:00<00:00, 27.40it/s]\n"
     ]
    },
    {
     "name": "stdout",
     "output_type": "stream",
     "text": [
      "Epoch 16 with g_loss: -0.7372415214776993 and d_loss: 0.0\n",
      "Epoch: 16, g_acc=0.09720312356948853, d_acc_f=0.3749999895691872, d_acc_r=0.7109999716281891\n",
      "d_dist_f=0.5694368362426758, d_dist_r=0.3902414321899414\n"
     ]
    },
    {
     "name": "stderr",
     "output_type": "stream",
     "text": [
      "100%|██████████| 20/20 [00:00<00:00, 24.21it/s]\n"
     ]
    },
    {
     "name": "stdout",
     "output_type": "stream",
     "text": [
      "Epoch 17 with g_loss: 0.0 and d_loss: 1.0328330129384995\n",
      "Epoch: 17, g_acc=0.09720312356948853, d_acc_f=0.5299999922513962, d_acc_r=0.746999990940094\n",
      "d_dist_f=0.48371686935424807, d_dist_r=0.36774919033050535\n"
     ]
    },
    {
     "name": "stderr",
     "output_type": "stream",
     "text": [
      "100%|██████████| 20/20 [00:00<00:00, 24.28it/s]\n"
     ]
    },
    {
     "name": "stdout",
     "output_type": "stream",
     "text": [
      "Epoch 17 with g_loss: -0.9034503728151322 and d_loss: 0.0\n",
      "Epoch: 17, g_acc=0.09715625047683715, d_acc_f=0.09799999762326479, d_acc_r=0.746999990940094\n",
      "d_dist_f=0.7289900302886962, d_dist_r=0.36774919033050535\n"
     ]
    },
    {
     "name": "stderr",
     "output_type": "stream",
     "text": [
      "100%|██████████| 20/20 [00:00<00:00, 24.27it/s]\n"
     ]
    },
    {
     "name": "stdout",
     "output_type": "stream",
     "text": [
      "Epoch 18 with g_loss: 0.0 and d_loss: 0.8740298837423325\n",
      "Epoch: 18, g_acc=0.09715625047683715, d_acc_f=0.9319999814033508, d_acc_r=0.5549999862909317\n",
      "d_dist_f=0.18109015226364136, d_dist_r=0.4653254508972168\n"
     ]
    },
    {
     "name": "stderr",
     "output_type": "stream",
     "text": [
      "100%|██████████| 20/20 [00:00<00:00, 27.33it/s]\n"
     ]
    },
    {
     "name": "stdout",
     "output_type": "stream",
     "text": [
      "Epoch 18 with g_loss: -0.14646230414509773 and d_loss: 0.0\n",
      "Epoch: 18, g_acc=0.09734374880790711, d_acc_f=0.8689999759197236, d_acc_r=0.5549999862909317\n",
      "d_dist_f=0.26323528289794923, d_dist_r=0.4653254508972168\n"
     ]
    },
    {
     "name": "stderr",
     "output_type": "stream",
     "text": [
      "100%|██████████| 20/20 [00:00<00:00, 27.52it/s]\n"
     ]
    },
    {
     "name": "stdout",
     "output_type": "stream",
     "text": [
      "Epoch 18 with g_loss: -0.3763894774019718 and d_loss: 0.0\n",
      "Epoch: 18, g_acc=0.09724999666213989, d_acc_f=0.42799999117851256, d_acc_r=0.5549999862909317\n",
      "d_dist_f=0.5416905403137207, d_dist_r=0.4653254508972168\n"
     ]
    },
    {
     "name": "stderr",
     "output_type": "stream",
     "text": [
      "100%|██████████| 20/20 [00:00<00:00, 24.20it/s]\n"
     ]
    },
    {
     "name": "stdout",
     "output_type": "stream",
     "text": [
      "Epoch 19 with g_loss: 0.0 and d_loss: 1.1569812059402467\n",
      "Epoch: 19, g_acc=0.09724999666213989, d_acc_f=0.8309999704360962, d_acc_r=0.3439999908208847\n",
      "d_dist_f=0.3095802068710327, d_dist_r=0.5767223834991455\n"
     ]
    },
    {
     "name": "stderr",
     "output_type": "stream",
     "text": [
      "100%|██████████| 20/20 [00:00<00:00, 27.44it/s]\n"
     ]
    },
    {
     "name": "stdout",
     "output_type": "stream",
     "text": [
      "Epoch 19 with g_loss: -0.2718852959573269 and d_loss: 0.0\n",
      "Epoch: 19, g_acc=0.09717187285423279, d_acc_f=0.7989999830722809, d_acc_r=0.3439999908208847\n",
      "d_dist_f=0.32786033153533933, d_dist_r=0.5767223834991455\n"
     ]
    },
    {
     "name": "stderr",
     "output_type": "stream",
     "text": [
      "100%|██████████| 20/20 [00:00<00:00, 27.49it/s]\n"
     ]
    },
    {
     "name": "stdout",
     "output_type": "stream",
     "text": [
      "Epoch 19 with g_loss: -0.3099707320332527 and d_loss: 0.0\n",
      "Epoch: 19, g_acc=0.0970312476158142, d_acc_f=0.7769999802112579, d_acc_r=0.3439999908208847\n",
      "d_dist_f=0.34760935306549073, d_dist_r=0.5767223834991455\n"
     ]
    },
    {
     "name": "stderr",
     "output_type": "stream",
     "text": [
      "100%|██████████| 20/20 [00:00<00:00, 27.63it/s]\n"
     ]
    },
    {
     "name": "stdout",
     "output_type": "stream",
     "text": [
      "Epoch 19 with g_loss: -0.3467496380209923 and d_loss: 0.0\n",
      "Epoch: 19, g_acc=0.09682812094688416, d_acc_f=0.7519999861717224, d_acc_r=0.3439999908208847\n",
      "d_dist_f=0.36831581592559814, d_dist_r=0.5767223834991455\n"
     ]
    },
    {
     "name": "stderr",
     "output_type": "stream",
     "text": [
      "100%|██████████| 20/20 [00:00<00:00, 27.50it/s]\n"
     ]
    },
    {
     "name": "stdout",
     "output_type": "stream",
     "text": [
      "Epoch 19 with g_loss: -0.3910245090723038 and d_loss: 0.0\n",
      "Epoch: 19, g_acc=0.09674999713897706, d_acc_f=0.677999985218048, d_acc_r=0.3439999908208847\n",
      "d_dist_f=0.40440797805786133, d_dist_r=0.5767223834991455\n"
     ]
    },
    {
     "name": "stderr",
     "output_type": "stream",
     "text": [
      "100%|██████████| 20/20 [00:00<00:00, 27.39it/s]\n"
     ]
    },
    {
     "name": "stdout",
     "output_type": "stream",
     "text": [
      "Epoch 19 with g_loss: -0.4822011426091194 and d_loss: 0.0\n",
      "Epoch: 19, g_acc=0.09659374952316284, d_acc_f=0.5479999840259552, d_acc_r=0.3439999908208847\n",
      "d_dist_f=0.473498010635376, d_dist_r=0.5767223834991455\n"
     ]
    },
    {
     "name": "stderr",
     "output_type": "stream",
     "text": [
      "100%|██████████| 20/20 [00:00<00:00, 27.61it/s]\n"
     ]
    },
    {
     "name": "stdout",
     "output_type": "stream",
     "text": [
      "Epoch 19 with g_loss: -0.6511976331472397 and d_loss: 0.0\n",
      "Epoch: 19, g_acc=0.09621874690055847, d_acc_f=0.3789999932050705, d_acc_r=0.3439999908208847\n",
      "d_dist_f=0.5631120204925537, d_dist_r=0.5767223834991455\n"
     ]
    },
    {
     "name": "stderr",
     "output_type": "stream",
     "text": [
      "100%|██████████| 20/20 [00:00<00:00, 23.85it/s]\n"
     ]
    },
    {
     "name": "stdout",
     "output_type": "stream",
     "text": [
      "Epoch 20 with g_loss: 0.0 and d_loss: 0.6911466896533967\n",
      "Epoch: 20, g_acc=0.09621874690055847, d_acc_f=0.9589999675750732, d_acc_r=0.8879999816417694\n",
      "d_dist_f=0.16577184200286865, d_dist_r=0.23629214763641357\n"
     ]
    },
    {
     "name": "stderr",
     "output_type": "stream",
     "text": [
      "100%|██████████| 20/20 [00:00<00:00, 27.46it/s]\n"
     ]
    },
    {
     "name": "stdout",
     "output_type": "stream",
     "text": [
      "Epoch 20 with g_loss: -0.5774483740329742 and d_loss: 0.0\n",
      "Epoch: 20, g_acc=0.096546870470047, d_acc_f=0.009999999776482582, d_acc_r=0.8879999816417694\n",
      "d_dist_f=0.9155488014221191, d_dist_r=0.23629214763641357\n"
     ]
    },
    {
     "name": "stderr",
     "output_type": "stream",
     "text": [
      "100%|██████████| 20/20 [00:00<00:00, 24.29it/s]\n"
     ]
    },
    {
     "name": "stdout",
     "output_type": "stream",
     "text": [
      "Epoch 21 with g_loss: 0.0 and d_loss: 1.1403576910495759\n",
      "Epoch: 21, g_acc=0.096546870470047, d_acc_f=0.7749999821186065, d_acc_r=0.8809999823570251\n",
      "d_dist_f=0.3094871282577515, d_dist_r=0.2578631639480591\n"
     ]
    },
    {
     "name": "stderr",
     "output_type": "stream",
     "text": [
      "100%|██████████| 20/20 [00:00<00:00, 27.02it/s]\n"
     ]
    },
    {
     "name": "stdout",
     "output_type": "stream",
     "text": [
      "Epoch 21 with g_loss: -0.4434161737561226 and d_loss: 0.0\n",
      "Epoch: 21, g_acc=0.0969531238079071, d_acc_f=0.19999999795109033, d_acc_r=0.8809999823570251\n",
      "d_dist_f=0.6722744941711426, d_dist_r=0.2578631639480591\n"
     ]
    },
    {
     "name": "stderr",
     "output_type": "stream",
     "text": [
      "100%|██████████| 20/20 [00:00<00:00, 24.09it/s]\n"
     ]
    },
    {
     "name": "stdout",
     "output_type": "stream",
     "text": [
      "Epoch 22 with g_loss: 0.0 and d_loss: 1.0843009054660797\n",
      "Epoch: 22, g_acc=0.0969531238079071, d_acc_f=0.4989999942481518, d_acc_r=0.7189999938011169\n",
      "d_dist_f=0.4964878082275391, d_dist_r=0.3722801923751831\n"
     ]
    },
    {
     "name": "stderr",
     "output_type": "stream",
     "text": [
      "100%|██████████| 20/20 [00:00<00:00, 24.20it/s]\n"
     ]
    },
    {
     "name": "stdout",
     "output_type": "stream",
     "text": [
      "Epoch 22 with g_loss: 0.0 and d_loss: 0.7698813855648041\n",
      "Epoch: 22, g_acc=0.0969531238079071, d_acc_f=0.7059999823570251, d_acc_r=0.5099999845027924\n",
      "d_dist_f=0.3569403886795044, d_dist_r=0.4831995964050293\n"
     ]
    },
    {
     "name": "stderr",
     "output_type": "stream",
     "text": [
      "100%|██████████| 20/20 [00:00<00:00, 27.67it/s]\n"
     ]
    },
    {
     "name": "stdout",
     "output_type": "stream",
     "text": [
      "Epoch 22 with g_loss: -0.33907079324126244 and d_loss: 0.0\n",
      "Epoch: 22, g_acc=0.09698437452316284, d_acc_f=0.5089999839663506, d_acc_r=0.5099999845027924\n",
      "d_dist_f=0.5030240058898926, d_dist_r=0.4831995964050293\n"
     ]
    },
    {
     "name": "stderr",
     "output_type": "stream",
     "text": [
      "100%|██████████| 20/20 [00:00<00:00, 27.42it/s]\n"
     ]
    },
    {
     "name": "stdout",
     "output_type": "stream",
     "text": [
      "Epoch 22 with g_loss: -0.8191113382577896 and d_loss: 0.0\n",
      "Epoch: 22, g_acc=0.09668749570846558, d_acc_f=0.14799999669194222, d_acc_r=0.5099999845027924\n",
      "d_dist_f=0.7235501766204834, d_dist_r=0.4831995964050293\n"
     ]
    },
    {
     "name": "stderr",
     "output_type": "stream",
     "text": [
      "100%|██████████| 20/20 [00:00<00:00, 24.02it/s]\n"
     ]
    },
    {
     "name": "stdout",
     "output_type": "stream",
     "text": [
      "Epoch 23 with g_loss: 0.0 and d_loss: 0.8791972801089287\n",
      "Epoch: 23, g_acc=0.09668749570846558, d_acc_f=0.9609999656677246, d_acc_r=0.7689999759197235\n",
      "d_dist_f=0.14166812896728515, d_dist_r=0.32884457111358645\n"
     ]
    },
    {
     "name": "stderr",
     "output_type": "stream",
     "text": [
      "100%|██████████| 20/20 [00:00<00:00, 27.36it/s]\n"
     ]
    },
    {
     "name": "stdout",
     "output_type": "stream",
     "text": [
      "Epoch 23 with g_loss: -0.22353427447378635 and d_loss: 0.0\n",
      "Epoch: 23, g_acc=0.09698437452316284, d_acc_f=0.6209999769926071, d_acc_r=0.7689999759197235\n",
      "d_dist_f=0.42072529792785646, d_dist_r=0.32884457111358645\n"
     ]
    },
    {
     "name": "stderr",
     "output_type": "stream",
     "text": [
      "100%|██████████| 20/20 [00:00<00:00, 27.45it/s]\n"
     ]
    },
    {
     "name": "stdout",
     "output_type": "stream",
     "text": [
      "Epoch 23 with g_loss: -2.3022815227508544 and d_loss: 0.0\n",
      "Epoch: 23, g_acc=0.09629687070846557, d_acc_f=0.0009999999776482583, d_acc_r=0.7689999759197235\n",
      "d_dist_f=0.9611479759216308, d_dist_r=0.32884457111358645\n"
     ]
    },
    {
     "name": "stderr",
     "output_type": "stream",
     "text": [
      "100%|██████████| 20/20 [00:00<00:00, 24.11it/s]\n"
     ]
    },
    {
     "name": "stdout",
     "output_type": "stream",
     "text": [
      "Epoch 24 with g_loss: 0.0 and d_loss: 0.8354060128331184\n",
      "Epoch: 24, g_acc=0.09629687070846557, d_acc_f=0.8649999909102917, d_acc_r=1.0\n",
      "d_dist_f=0.18974697589874268, d_dist_r=0.06314171552658081\n"
     ]
    },
    {
     "name": "stderr",
     "output_type": "stream",
     "text": [
      "100%|██████████| 20/20 [00:00<00:00, 27.54it/s]\n"
     ]
    },
    {
     "name": "stdout",
     "output_type": "stream",
     "text": [
      "Epoch 24 with g_loss: -0.1610190037637949 and d_loss: 0.0\n",
      "Epoch: 24, g_acc=0.09659374952316284, d_acc_f=0.5479999884963036, d_acc_r=1.0\n",
      "d_dist_f=0.481338357925415, d_dist_r=0.06314171552658081\n"
     ]
    },
    {
     "name": "stderr",
     "output_type": "stream",
     "text": [
      "100%|██████████| 20/20 [00:00<00:00, 24.25it/s]\n"
     ]
    },
    {
     "name": "stdout",
     "output_type": "stream",
     "text": [
      "Epoch 24 with g_loss: -2.1638793855905534 and d_loss: 0.0\n",
      "Epoch: 24, g_acc=0.09706249833106995, d_acc_f=0.0, d_acc_r=1.0\n",
      "d_dist_f=0.9735139846801758, d_dist_r=0.06314171552658081\n"
     ]
    },
    {
     "name": "stderr",
     "output_type": "stream",
     "text": [
      "100%|██████████| 20/20 [00:00<00:00, 24.03it/s]\n"
     ]
    },
    {
     "name": "stdout",
     "output_type": "stream",
     "text": [
      "Epoch 25 with g_loss: 0.0 and d_loss: 1.3023071110248565\n",
      "Epoch: 25, g_acc=0.09706249833106995, d_acc_f=0.8319999873638153, d_acc_r=0.5329999923706055\n",
      "d_dist_f=0.2966327428817749, d_dist_r=0.48084068298339844\n"
     ]
    },
    {
     "name": "stderr",
     "output_type": "stream",
     "text": [
      "100%|██████████| 20/20 [00:00<00:00, 27.22it/s]\n"
     ]
    },
    {
     "name": "stdout",
     "output_type": "stream",
     "text": [
      "Epoch 25 with g_loss: -0.30538551807403563 and d_loss: 0.0\n",
      "Epoch: 25, g_acc=0.09710937142372131, d_acc_f=0.7859999895095825, d_acc_r=0.5329999923706055\n",
      "d_dist_f=0.3305954456329346, d_dist_r=0.48084068298339844\n"
     ]
    },
    {
     "name": "stderr",
     "output_type": "stream",
     "text": [
      "100%|██████████| 20/20 [00:00<00:00, 27.59it/s]\n"
     ]
    },
    {
     "name": "stdout",
     "output_type": "stream",
     "text": [
      "Epoch 25 with g_loss: -0.3841077506542206 and d_loss: 0.0\n",
      "Epoch: 25, g_acc=0.09717187285423279, d_acc_f=0.6899999916553498, d_acc_r=0.5329999923706055\n",
      "d_dist_f=0.38922719955444335, d_dist_r=0.48084068298339844\n"
     ]
    },
    {
     "name": "stderr",
     "output_type": "stream",
     "text": [
      "100%|██████████| 20/20 [00:00<00:00, 27.31it/s]\n"
     ]
    },
    {
     "name": "stdout",
     "output_type": "stream",
     "text": [
      "Epoch 25 with g_loss: -0.5335006654262543 and d_loss: 0.0\n",
      "Epoch: 25, g_acc=0.09728124737739563, d_acc_f=0.5109999924898148, d_acc_r=0.5329999923706055\n",
      "d_dist_f=0.49248518943786623, d_dist_r=0.48084068298339844\n"
     ]
    },
    {
     "name": "stderr",
     "output_type": "stream",
     "text": [
      "100%|██████████| 20/20 [00:00<00:00, 27.83it/s]\n"
     ]
    },
    {
     "name": "stdout",
     "output_type": "stream",
     "text": [
      "Epoch 25 with g_loss: -0.7903701215982437 and d_loss: 0.0\n",
      "Epoch: 25, g_acc=0.09707812070846558, d_acc_f=0.2859999917447567, d_acc_r=0.5329999923706055\n",
      "d_dist_f=0.6220139503479004, d_dist_r=0.48084068298339844\n"
     ]
    },
    {
     "name": "stderr",
     "output_type": "stream",
     "text": [
      "100%|██████████| 20/20 [00:00<00:00, 24.34it/s]\n"
     ]
    },
    {
     "name": "stdout",
     "output_type": "stream",
     "text": [
      "Epoch 26 with g_loss: 0.0 and d_loss: 0.8489274740219116\n",
      "Epoch: 26, g_acc=0.09707812070846558, d_acc_f=0.7839999854564667, d_acc_r=0.8029999792575836\n",
      "d_dist_f=0.3138066291809082, d_dist_r=0.31840298175811765\n"
     ]
    },
    {
     "name": "stderr",
     "output_type": "stream",
     "text": [
      "100%|██████████| 20/20 [00:00<00:00, 27.59it/s]\n"
     ]
    },
    {
     "name": "stdout",
     "output_type": "stream",
     "text": [
      "Epoch 26 with g_loss: -0.46811685860157015 and d_loss: 0.0\n",
      "Epoch: 26, g_acc=0.09740625023841858, d_acc_f=0.43799998909235, d_acc_r=0.8029999792575836\n",
      "d_dist_f=0.5338963031768799, d_dist_r=0.31840298175811765\n"
     ]
    },
    {
     "name": "stderr",
     "output_type": "stream",
     "text": [
      "100%|██████████| 20/20 [00:00<00:00, 24.39it/s]\n"
     ]
    },
    {
     "name": "stdout",
     "output_type": "stream",
     "text": [
      "Epoch 27 with g_loss: 0.0 and d_loss: 0.8301682949066163\n",
      "Epoch: 27, g_acc=0.09740625023841858, d_acc_f=0.7969999670982361, d_acc_r=0.5749999821186066\n",
      "d_dist_f=0.3155719757080078, d_dist_r=0.4562829494476318\n"
     ]
    },
    {
     "name": "stderr",
     "output_type": "stream",
     "text": [
      "100%|██████████| 20/20 [00:00<00:00, 27.60it/s]\n"
     ]
    },
    {
     "name": "stdout",
     "output_type": "stream",
     "text": [
      "Epoch 27 with g_loss: -0.3025519110262394 and d_loss: 0.0\n",
      "Epoch: 27, g_acc=0.09732812047004699, d_acc_f=0.7029999852180481, d_acc_r=0.5749999821186066\n",
      "d_dist_f=0.3832318067550659, d_dist_r=0.4562829494476318\n"
     ]
    },
    {
     "name": "stderr",
     "output_type": "stream",
     "text": [
      "100%|██████████| 20/20 [00:00<00:00, 27.60it/s]\n"
     ]
    },
    {
     "name": "stdout",
     "output_type": "stream",
     "text": [
      "Epoch 27 with g_loss: -0.5370501056313515 and d_loss: 0.0\n",
      "Epoch: 27, g_acc=0.09717187285423279, d_acc_f=0.32299998849630357, d_acc_r=0.5749999821186066\n",
      "d_dist_f=0.6000673770904541, d_dist_r=0.4562829494476318\n"
     ]
    },
    {
     "name": "stderr",
     "output_type": "stream",
     "text": [
      "100%|██████████| 20/20 [00:00<00:00, 24.09it/s]\n"
     ]
    },
    {
     "name": "stdout",
     "output_type": "stream",
     "text": [
      "Epoch 28 with g_loss: 0.0 and d_loss: 0.9593467205762863\n",
      "Epoch: 28, g_acc=0.09717187285423279, d_acc_f=0.6649999916553497, d_acc_r=0.6769999921321869\n",
      "d_dist_f=0.3952144145965576, d_dist_r=0.3884568214416504\n"
     ]
    },
    {
     "name": "stderr",
     "output_type": "stream",
     "text": [
      "100%|██████████| 20/20 [00:00<00:00, 27.55it/s]\n"
     ]
    },
    {
     "name": "stdout",
     "output_type": "stream",
     "text": [
      "Epoch 28 with g_loss: -0.4378089666366577 and d_loss: 0.0\n",
      "Epoch: 28, g_acc=0.09724999666213989, d_acc_f=0.40099999457597735, d_acc_r=0.6769999921321869\n",
      "d_dist_f=0.5615092754364014, d_dist_r=0.3884568214416504\n"
     ]
    },
    {
     "name": "stderr",
     "output_type": "stream",
     "text": [
      "100%|██████████| 20/20 [00:00<00:00, 24.12it/s]\n"
     ]
    },
    {
     "name": "stdout",
     "output_type": "stream",
     "text": [
      "Epoch 29 with g_loss: 0.0 and d_loss: 0.8454745203256607\n",
      "Epoch: 29, g_acc=0.09724999666213989, d_acc_f=0.48699998259544375, d_acc_r=0.6979999899864197\n",
      "d_dist_f=0.5133785724639892, d_dist_r=0.372298526763916\n"
     ]
    },
    {
     "name": "stderr",
     "output_type": "stream",
     "text": [
      "100%|██████████| 20/20 [00:00<00:00, 24.31it/s]\n"
     ]
    },
    {
     "name": "stdout",
     "output_type": "stream",
     "text": [
      "Epoch 29 with g_loss: 0.0 and d_loss: 0.7071480721235275\n",
      "Epoch: 29, g_acc=0.09724999666213989, d_acc_f=0.568999981880188, d_acc_r=0.643999981880188\n",
      "d_dist_f=0.45265541076660154, d_dist_r=0.4070693016052246\n"
     ]
    },
    {
     "name": "stderr",
     "output_type": "stream",
     "text": [
      "100%|██████████| 20/20 [00:00<00:00, 27.48it/s]\n"
     ]
    },
    {
     "name": "stdout",
     "output_type": "stream",
     "text": [
      "Epoch 29 with g_loss: -0.4192546114325523 and d_loss: 0.0\n",
      "Epoch: 29, g_acc=0.09723437428474427, d_acc_f=0.5219999939203263, d_acc_r=0.643999981880188\n",
      "d_dist_f=0.4884756088256836, d_dist_r=0.4070693016052246\n"
     ]
    },
    {
     "name": "stderr",
     "output_type": "stream",
     "text": [
      "100%|██████████| 20/20 [00:00<00:00, 27.50it/s]\n"
     ]
    },
    {
     "name": "stdout",
     "output_type": "stream",
     "text": [
      "Epoch 29 with g_loss: -0.5633859992027282 and d_loss: 0.0\n",
      "Epoch: 29, g_acc=0.09720312356948853, d_acc_f=0.46299999207258224, d_acc_r=0.643999981880188\n",
      "d_dist_f=0.5368714332580566, d_dist_r=0.4070693016052246\n"
     ]
    },
    {
     "name": "stderr",
     "output_type": "stream",
     "text": [
      "100%|██████████| 20/20 [00:00<00:00, 23.97it/s]\n"
     ]
    },
    {
     "name": "stdout",
     "output_type": "stream",
     "text": [
      "Epoch 30 with g_loss: 0.0 and d_loss: 0.8099440574645996\n",
      "Epoch: 30, g_acc=0.09720312356948853, d_acc_f=0.8929999828338623, d_acc_r=0.28699999302625656\n",
      "d_dist_f=0.19320156574249267, d_dist_r=0.6419692993164062\n"
     ]
    },
    {
     "name": "stderr",
     "output_type": "stream",
     "text": [
      "100%|██████████| 20/20 [00:00<00:00, 26.89it/s]\n"
     ]
    },
    {
     "name": "stdout",
     "output_type": "stream",
     "text": [
      "Epoch 30 with g_loss: -0.12125451937317848 and d_loss: 0.0\n",
      "Epoch: 30, g_acc=0.09721874594688415, d_acc_f=0.8599999904632568, d_acc_r=0.28699999302625656\n",
      "d_dist_f=0.22414712905883788, d_dist_r=0.6419692993164062\n"
     ]
    },
    {
     "name": "stderr",
     "output_type": "stream",
     "text": [
      "100%|██████████| 20/20 [00:00<00:00, 27.26it/s]\n"
     ]
    },
    {
     "name": "stdout",
     "output_type": "stream",
     "text": [
      "Epoch 30 with g_loss: -0.18041624799370765 and d_loss: 0.0\n",
      "Epoch: 30, g_acc=0.09709374904632569, d_acc_f=0.7509999871253967, d_acc_r=0.28699999302625656\n",
      "d_dist_f=0.3250554323196411, d_dist_r=0.6419692993164062\n"
     ]
    },
    {
     "name": "stderr",
     "output_type": "stream",
     "text": [
      "100%|██████████| 20/20 [00:00<00:00, 27.35it/s]\n"
     ]
    },
    {
     "name": "stdout",
     "output_type": "stream",
     "text": [
      "Epoch 30 with g_loss: -0.6491696871817112 and d_loss: 0.0\n",
      "Epoch: 30, g_acc=0.09651562571525574, d_acc_f=0.14299999736249447, d_acc_r=0.28699999302625656\n",
      "d_dist_f=0.7639029502868653, d_dist_r=0.6419692993164062\n"
     ]
    },
    {
     "name": "stderr",
     "output_type": "stream",
     "text": [
      "100%|██████████| 20/20 [00:00<00:00, 23.99it/s]\n"
     ]
    },
    {
     "name": "stdout",
     "output_type": "stream",
     "text": [
      "Epoch 31 with g_loss: 0.0 and d_loss: 0.45676661618053915\n",
      "Epoch: 31, g_acc=0.09651562571525574, d_acc_f=0.921999990940094, d_acc_r=0.9789999902248383\n",
      "d_dist_f=0.11405746936798096, d_dist_r=0.10248651504516601\n"
     ]
    },
    {
     "name": "stderr",
     "output_type": "stream",
     "text": [
      "100%|██████████| 20/20 [00:00<00:00, 27.26it/s]\n"
     ]
    },
    {
     "name": "stdout",
     "output_type": "stream",
     "text": [
      "Epoch 31 with g_loss: -0.0325486870482564 and d_loss: 0.0\n",
      "Epoch: 31, g_acc=0.09670312404632568, d_acc_f=0.9089999943971634, d_acc_r=0.9789999902248383\n",
      "d_dist_f=0.13892886638641358, d_dist_r=0.10248651504516601\n"
     ]
    },
    {
     "name": "stderr",
     "output_type": "stream",
     "text": [
      "100%|██████████| 20/20 [00:00<00:00, 27.35it/s]\n"
     ]
    },
    {
     "name": "stdout",
     "output_type": "stream",
     "text": [
      "Epoch 31 with g_loss: -0.4181963596493006 and d_loss: 0.0\n",
      "Epoch: 31, g_acc=0.09723437428474427, d_acc_f=0.0259999992325902, d_acc_r=0.9789999902248383\n",
      "d_dist_f=0.8902984619140625, d_dist_r=0.10248651504516601\n"
     ]
    },
    {
     "name": "stderr",
     "output_type": "stream",
     "text": [
      "100%|██████████| 20/20 [00:00<00:00, 21.29it/s]\n"
     ]
    },
    {
     "name": "stdout",
     "output_type": "stream",
     "text": [
      "Epoch 32 with g_loss: 0.0 and d_loss: 1.132947626709938\n",
      "Epoch: 32, g_acc=0.09723437428474427, d_acc_f=0.7679999887943267, d_acc_r=0.3789999887347221\n",
      "d_dist_f=0.32063424587249756, d_dist_r=0.5822508335113525\n"
     ]
    },
    {
     "name": "stderr",
     "output_type": "stream",
     "text": [
      "100%|██████████| 20/20 [00:00<00:00, 27.38it/s]\n"
     ]
    },
    {
     "name": "stdout",
     "output_type": "stream",
     "text": [
      "Epoch 32 with g_loss: -0.25842510238289834 and d_loss: 0.0\n",
      "Epoch: 32, g_acc=0.09720312356948853, d_acc_f=0.6739999771118164, d_acc_r=0.3789999887347221\n",
      "d_dist_f=0.38721158504486086, d_dist_r=0.5822508335113525\n"
     ]
    },
    {
     "name": "stderr",
     "output_type": "stream",
     "text": [
      "100%|██████████| 20/20 [00:00<00:00, 27.34it/s]\n"
     ]
    },
    {
     "name": "stdout",
     "output_type": "stream",
     "text": [
      "Epoch 32 with g_loss: -0.35833446830511095 and d_loss: 0.0\n",
      "Epoch: 32, g_acc=0.09723437428474427, d_acc_f=0.625999990105629, d_acc_r=0.3789999887347221\n",
      "d_dist_f=0.4278076648712158, d_dist_r=0.5822508335113525\n"
     ]
    },
    {
     "name": "stderr",
     "output_type": "stream",
     "text": [
      "100%|██████████| 20/20 [00:00<00:00, 27.85it/s]\n"
     ]
    },
    {
     "name": "stdout",
     "output_type": "stream",
     "text": [
      "Epoch 32 with g_loss: -0.46223907768726347 and d_loss: 0.0\n",
      "Epoch: 32, g_acc=0.09698437452316284, d_acc_f=0.5339999884366989, d_acc_r=0.3789999887347221\n",
      "d_dist_f=0.4725442409515381, d_dist_r=0.5822508335113525\n"
     ]
    },
    {
     "name": "stderr",
     "output_type": "stream",
     "text": [
      "100%|██████████| 20/20 [00:00<00:00, 27.80it/s]\n"
     ]
    },
    {
     "name": "stdout",
     "output_type": "stream",
     "text": [
      "Epoch 32 with g_loss: -0.5681026250123977 and d_loss: 0.0\n",
      "Epoch: 32, g_acc=0.096937495470047, d_acc_f=0.5089999824762345, d_acc_r=0.3789999887347221\n",
      "d_dist_f=0.4932861328125, d_dist_r=0.5822508335113525\n"
     ]
    },
    {
     "name": "stderr",
     "output_type": "stream",
     "text": [
      "100%|██████████| 20/20 [00:00<00:00, 27.60it/s]\n"
     ]
    },
    {
     "name": "stdout",
     "output_type": "stream",
     "text": [
      "Epoch 32 with g_loss: -0.6671745270490647 and d_loss: 0.0\n",
      "Epoch: 32, g_acc=0.096875, d_acc_f=0.4549999922513962, d_acc_r=0.3789999887347221\n",
      "d_dist_f=0.5229072570800781, d_dist_r=0.5822508335113525\n"
     ]
    },
    {
     "name": "stderr",
     "output_type": "stream",
     "text": [
      "100%|██████████| 20/20 [00:00<00:00, 24.28it/s]\n"
     ]
    },
    {
     "name": "stdout",
     "output_type": "stream",
     "text": [
      "Epoch 33 with g_loss: 0.0 and d_loss: 0.5024073183536529\n",
      "Epoch: 33, g_acc=0.096875, d_acc_f=0.9469999730587005, d_acc_r=0.8769999802112579\n",
      "d_dist_f=0.12199848890304565, d_dist_r=0.22437744140625\n"
     ]
    },
    {
     "name": "stderr",
     "output_type": "stream",
     "text": [
      "100%|██████████| 20/20 [00:00<00:00, 27.38it/s]\n"
     ]
    },
    {
     "name": "stdout",
     "output_type": "stream",
     "text": [
      "Epoch 33 with g_loss: -0.19299512840807437 and d_loss: 0.0\n",
      "Epoch: 33, g_acc=0.09724999666213989, d_acc_f=0.7019999772310257, d_acc_r=0.8769999802112579\n",
      "d_dist_f=0.3502640962600708, d_dist_r=0.22437744140625\n"
     ]
    },
    {
     "name": "stderr",
     "output_type": "stream",
     "text": [
      "100%|██████████| 20/20 [00:00<00:00, 27.65it/s]\n"
     ]
    },
    {
     "name": "stdout",
     "output_type": "stream",
     "text": [
      "Epoch 33 with g_loss: -1.7849737107753754 and d_loss: 0.0\n",
      "Epoch: 33, g_acc=0.09660937190055847, d_acc_f=0.0029999999329447745, d_acc_r=0.8769999802112579\n",
      "d_dist_f=0.9673343658447265, d_dist_r=0.22437744140625\n"
     ]
    },
    {
     "name": "stderr",
     "output_type": "stream",
     "text": [
      "100%|██████████| 20/20 [00:00<00:00, 23.85it/s]\n"
     ]
    },
    {
     "name": "stdout",
     "output_type": "stream",
     "text": [
      "Epoch 34 with g_loss: 0.0 and d_loss: 0.8488768629729748\n",
      "Epoch: 34, g_acc=0.09660937190055847, d_acc_f=0.9309999883174896, d_acc_r=0.9319999754428864\n",
      "d_dist_f=0.13449761867523194, d_dist_r=0.17327033281326293\n"
     ]
    },
    {
     "name": "stderr",
     "output_type": "stream",
     "text": [
      "100%|██████████| 20/20 [00:00<00:00, 27.25it/s]\n"
     ]
    },
    {
     "name": "stdout",
     "output_type": "stream",
     "text": [
      "Epoch 34 with g_loss: -0.03704459834843874 and d_loss: 0.0\n",
      "Epoch: 34, g_acc=0.09668749570846558, d_acc_f=0.924999988079071, d_acc_r=0.9319999754428864\n",
      "d_dist_f=0.14113996028900147, d_dist_r=0.17327033281326293\n"
     ]
    },
    {
     "name": "stderr",
     "output_type": "stream",
     "text": [
      "100%|██████████| 20/20 [00:00<00:00, 27.60it/s]\n"
     ]
    },
    {
     "name": "stdout",
     "output_type": "stream",
     "text": [
      "Epoch 34 with g_loss: -0.07774296682327986 and d_loss: 0.0\n",
      "Epoch: 34, g_acc=0.09671874642372132, d_acc_f=0.853999987244606, d_acc_r=0.9319999754428864\n",
      "d_dist_f=0.22715823650360106, d_dist_r=0.17327033281326293\n"
     ]
    },
    {
     "name": "stderr",
     "output_type": "stream",
     "text": [
      "100%|██████████| 20/20 [00:00<00:00, 27.38it/s]\n"
     ]
    },
    {
     "name": "stdout",
     "output_type": "stream",
     "text": [
      "Epoch 34 with g_loss: -0.42476183027029035 and d_loss: 0.0\n",
      "Epoch: 34, g_acc=0.09721874594688415, d_acc_f=0.16999999452382325, d_acc_r=0.9319999754428864\n",
      "d_dist_f=0.7235881328582764, d_dist_r=0.17327033281326293\n"
     ]
    },
    {
     "name": "stderr",
     "output_type": "stream",
     "text": [
      "100%|██████████| 20/20 [00:00<00:00, 24.10it/s]\n"
     ]
    },
    {
     "name": "stdout",
     "output_type": "stream",
     "text": [
      "Epoch 35 with g_loss: 0.0 and d_loss: 0.9380592107772827\n",
      "Epoch: 35, g_acc=0.09721874594688415, d_acc_f=0.6699999898672104, d_acc_r=0.686999985575676\n",
      "d_dist_f=0.38125972747802733, d_dist_r=0.3754993200302124\n"
     ]
    },
    {
     "name": "stderr",
     "output_type": "stream",
     "text": [
      "100%|██████████| 20/20 [00:00<00:00, 27.39it/s]\n"
     ]
    },
    {
     "name": "stdout",
     "output_type": "stream",
     "text": [
      "Epoch 35 with g_loss: -0.6257520779967308 and d_loss: 0.0\n",
      "Epoch: 35, g_acc=0.09737499952316284, d_acc_f=0.19899999722838402, d_acc_r=0.686999985575676\n",
      "d_dist_f=0.7082470417022705, d_dist_r=0.3754993200302124\n"
     ]
    },
    {
     "name": "stderr",
     "output_type": "stream",
     "text": [
      "100%|██████████| 20/20 [00:00<00:00, 23.98it/s]\n"
     ]
    },
    {
     "name": "stdout",
     "output_type": "stream",
     "text": [
      "Epoch 36 with g_loss: 0.0 and d_loss: 0.9226330339908599\n",
      "Epoch: 36, g_acc=0.09737499952316284, d_acc_f=0.6869999766349792, d_acc_r=0.6179999798536301\n",
      "d_dist_f=0.3739495754241943, d_dist_r=0.4117023468017578\n"
     ]
    },
    {
     "name": "stderr",
     "output_type": "stream",
     "text": [
      "100%|██████████| 20/20 [00:00<00:00, 27.66it/s]\n"
     ]
    },
    {
     "name": "stdout",
     "output_type": "stream",
     "text": [
      "Epoch 36 with g_loss: -0.37918880879878997 and d_loss: 0.0\n",
      "Epoch: 36, g_acc=0.09728124737739563, d_acc_f=0.6459999859333039, d_acc_r=0.6179999798536301\n",
      "d_dist_f=0.41041202545166017, d_dist_r=0.4117023468017578\n"
     ]
    },
    {
     "name": "stderr",
     "output_type": "stream",
     "text": [
      "100%|██████████| 20/20 [00:00<00:00, 27.35it/s]\n"
     ]
    },
    {
     "name": "stdout",
     "output_type": "stream",
     "text": [
      "Epoch 36 with g_loss: -0.5159472450613976 and d_loss: 0.0\n",
      "Epoch: 36, g_acc=0.09710937142372131, d_acc_f=0.5219999849796295, d_acc_r=0.6179999798536301\n",
      "d_dist_f=0.49434776306152345, d_dist_r=0.4117023468017578\n"
     ]
    },
    {
     "name": "stderr",
     "output_type": "stream",
     "text": [
      "100%|██████████| 20/20 [00:00<00:00, 27.37it/s]\n"
     ]
    },
    {
     "name": "stdout",
     "output_type": "stream",
     "text": [
      "Epoch 36 with g_loss: -0.8089120596647262 and d_loss: 0.0\n",
      "Epoch: 36, g_acc=0.09707812070846558, d_acc_f=0.21699999421834945, d_acc_r=0.6179999798536301\n",
      "d_dist_f=0.6870413303375245, d_dist_r=0.4117023468017578\n"
     ]
    },
    {
     "name": "stderr",
     "output_type": "stream",
     "text": [
      "100%|██████████| 20/20 [00:00<00:00, 24.32it/s]\n"
     ]
    },
    {
     "name": "stdout",
     "output_type": "stream",
     "text": [
      "Epoch 37 with g_loss: 0.0 and d_loss: 0.5507090583443641\n",
      "Epoch: 37, g_acc=0.09707812070846558, d_acc_f=0.8899999886751175, d_acc_r=0.7479999840259552\n",
      "d_dist_f=0.18223928213119506, d_dist_r=0.3231778860092163\n"
     ]
    },
    {
     "name": "stderr",
     "output_type": "stream",
     "text": [
      "100%|██████████| 20/20 [00:00<00:00, 27.32it/s]\n"
     ]
    },
    {
     "name": "stdout",
     "output_type": "stream",
     "text": [
      "Epoch 37 with g_loss: -0.20604543387889862 and d_loss: 0.0\n",
      "Epoch: 37, g_acc=0.09717187285423279, d_acc_f=0.5009999878704547, d_acc_r=0.7479999840259552\n",
      "d_dist_f=0.5056770801544189, d_dist_r=0.3231778860092163\n"
     ]
    },
    {
     "name": "stderr",
     "output_type": "stream",
     "text": [
      "100%|██████████| 20/20 [00:00<00:00, 27.21it/s]\n"
     ]
    },
    {
     "name": "stdout",
     "output_type": "stream",
     "text": [
      "Epoch 37 with g_loss: -1.8566214799880982 and d_loss: 0.0\n",
      "Epoch: 37, g_acc=0.09692187309265136, d_acc_f=0.006999999843537807, d_acc_r=0.7479999840259552\n",
      "d_dist_f=0.9305861473083497, d_dist_r=0.3231778860092163\n"
     ]
    },
    {
     "name": "stderr",
     "output_type": "stream",
     "text": [
      "100%|██████████| 20/20 [00:00<00:00, 24.41it/s]\n"
     ]
    },
    {
     "name": "stdout",
     "output_type": "stream",
     "text": [
      "Epoch 38 with g_loss: 0.0 and d_loss: 0.7701176524162292\n",
      "Epoch: 38, g_acc=0.09692187309265136, d_acc_f=0.9769999802112579, d_acc_r=0.8569999814033509\n",
      "d_dist_f=0.08782908320426941, d_dist_r=0.25343573093414307\n"
     ]
    },
    {
     "name": "stderr",
     "output_type": "stream",
     "text": [
      "100%|██████████| 20/20 [00:00<00:00, 27.25it/s]\n"
     ]
    },
    {
     "name": "stdout",
     "output_type": "stream",
     "text": [
      "Epoch 38 with g_loss: -0.05231254734098911 and d_loss: 0.0\n",
      "Epoch: 38, g_acc=0.09689062237739562, d_acc_f=0.9739999771118164, d_acc_r=0.8569999814033509\n",
      "d_dist_f=0.09142698049545288, d_dist_r=0.25343573093414307\n"
     ]
    },
    {
     "name": "stderr",
     "output_type": "stream",
     "text": [
      "100%|██████████| 20/20 [00:00<00:00, 23.62it/s]\n"
     ]
    },
    {
     "name": "stdout",
     "output_type": "stream",
     "text": [
      "Epoch 38 with g_loss: -0.07491974383592606 and d_loss: 0.0\n",
      "Epoch: 38, g_acc=0.09690625071525574, d_acc_f=0.971999979019165, d_acc_r=0.8569999814033509\n",
      "d_dist_f=0.10533703565597534, d_dist_r=0.25343573093414307\n"
     ]
    },
    {
     "name": "stderr",
     "output_type": "stream",
     "text": [
      "100%|██████████| 20/20 [00:00<00:00, 27.28it/s]\n"
     ]
    },
    {
     "name": "stdout",
     "output_type": "stream",
     "text": [
      "Epoch 38 with g_loss: -0.12233077809214592 and d_loss: 0.0\n",
      "Epoch: 38, g_acc=0.096937495470047, d_acc_f=0.9489999651908875, d_acc_r=0.8569999814033509\n",
      "d_dist_f=0.1444493293762207, d_dist_r=0.25343573093414307\n"
     ]
    },
    {
     "name": "stderr",
     "output_type": "stream",
     "text": [
      "100%|██████████| 20/20 [00:00<00:00, 27.42it/s]\n"
     ]
    },
    {
     "name": "stdout",
     "output_type": "stream",
     "text": [
      "Epoch 38 with g_loss: -0.5105459503829479 and d_loss: 0.0\n",
      "Epoch: 38, g_acc=0.09701562523841858, d_acc_f=0.1739999944344163, d_acc_r=0.8569999814033509\n",
      "d_dist_f=0.7196754932403564, d_dist_r=0.25343573093414307\n"
     ]
    },
    {
     "name": "stderr",
     "output_type": "stream",
     "text": [
      "100%|██████████| 20/20 [00:00<00:00, 24.15it/s]\n"
     ]
    },
    {
     "name": "stdout",
     "output_type": "stream",
     "text": [
      "Epoch 39 with g_loss: 0.0 and d_loss: 1.0712184250354766\n",
      "Epoch: 39, g_acc=0.09701562523841858, d_acc_f=0.6529999762773514, d_acc_r=0.5179999858140946\n",
      "d_dist_f=0.38796796798706057, d_dist_r=0.4851820468902588\n"
     ]
    },
    {
     "name": "stderr",
     "output_type": "stream",
     "text": [
      "100%|██████████| 20/20 [00:00<00:00, 27.43it/s]\n"
     ]
    },
    {
     "name": "stdout",
     "output_type": "stream",
     "text": [
      "Epoch 39 with g_loss: -0.5010398924350739 and d_loss: 0.0\n",
      "Epoch: 39, g_acc=0.09696874618530274, d_acc_f=0.4919999837875366, d_acc_r=0.5179999858140946\n",
      "d_dist_f=0.4970533847808838, d_dist_r=0.4851820468902588\n"
     ]
    },
    {
     "name": "stderr",
     "output_type": "stream",
     "text": [
      "100%|██████████| 20/20 [00:00<00:00, 23.76it/s]\n"
     ]
    },
    {
     "name": "stdout",
     "output_type": "stream",
     "text": [
      "Epoch 40 with g_loss: 0.0 and d_loss: 0.6399528682231903\n",
      "Epoch: 40, g_acc=0.09696874618530274, d_acc_f=0.6449999898672104, d_acc_r=0.6869999825954437\n",
      "d_dist_f=0.40801849365234377, d_dist_r=0.3662315607070923\n"
     ]
    },
    {
     "name": "stderr",
     "output_type": "stream",
     "text": [
      "100%|██████████| 20/20 [00:00<00:00, 27.44it/s]\n"
     ]
    },
    {
     "name": "stdout",
     "output_type": "stream",
     "text": [
      "Epoch 40 with g_loss: -0.5379289835691452 and d_loss: 0.0\n",
      "Epoch: 40, g_acc=0.09701562523841858, d_acc_f=0.28299999311566354, d_acc_r=0.6869999825954437\n",
      "d_dist_f=0.6514118194580079, d_dist_r=0.3662315607070923\n"
     ]
    },
    {
     "name": "stderr",
     "output_type": "stream",
     "text": [
      "100%|██████████| 20/20 [00:00<00:00, 24.03it/s]\n"
     ]
    },
    {
     "name": "stdout",
     "output_type": "stream",
     "text": [
      "Epoch 41 with g_loss: 0.0 and d_loss: 0.7513894975185395\n",
      "Epoch: 41, g_acc=0.09701562523841858, d_acc_f=0.9119999766349792, d_acc_r=0.2369999945163727\n",
      "d_dist_f=0.16536300182342528, d_dist_r=0.6901146411895752\n"
     ]
    },
    {
     "name": "stderr",
     "output_type": "stream",
     "text": [
      "100%|██████████| 20/20 [00:00<00:00, 27.35it/s]\n"
     ]
    },
    {
     "name": "stdout",
     "output_type": "stream",
     "text": [
      "Epoch 41 with g_loss: -0.08717756532132626 and d_loss: 0.0\n",
      "Epoch: 41, g_acc=0.09701562523841858, d_acc_f=0.9039999842643738, d_acc_r=0.2369999945163727\n",
      "d_dist_f=0.17396448850631713, d_dist_r=0.6901146411895752\n"
     ]
    },
    {
     "name": "stderr",
     "output_type": "stream",
     "text": [
      "100%|██████████| 20/20 [00:00<00:00, 27.52it/s]\n"
     ]
    },
    {
     "name": "stdout",
     "output_type": "stream",
     "text": [
      "Epoch 41 with g_loss: -0.10686961486935616 and d_loss: 0.0\n",
      "Epoch: 41, g_acc=0.0969531238079071, d_acc_f=0.8839999735355377, d_acc_r=0.2369999945163727\n",
      "d_dist_f=0.1981780171394348, d_dist_r=0.6901146411895752\n"
     ]
    },
    {
     "name": "stderr",
     "output_type": "stream",
     "text": [
      "100%|██████████| 20/20 [00:00<00:00, 27.44it/s]\n"
     ]
    },
    {
     "name": "stdout",
     "output_type": "stream",
     "text": [
      "Epoch 41 with g_loss: -0.1297892939299345 and d_loss: 0.0\n",
      "Epoch: 41, g_acc=0.096937495470047, d_acc_f=0.8759999871253967, d_acc_r=0.2369999945163727\n",
      "d_dist_f=0.2175858736038208, d_dist_r=0.6901146411895752\n"
     ]
    },
    {
     "name": "stderr",
     "output_type": "stream",
     "text": [
      "100%|██████████| 20/20 [00:00<00:00, 27.47it/s]\n"
     ]
    },
    {
     "name": "stdout",
     "output_type": "stream",
     "text": [
      "Epoch 41 with g_loss: -0.153989677131176 and d_loss: 0.0\n",
      "Epoch: 41, g_acc=0.0970312476158142, d_acc_f=0.8589999854564667, d_acc_r=0.2369999945163727\n",
      "d_dist_f=0.2354072093963623, d_dist_r=0.6901146411895752\n"
     ]
    },
    {
     "name": "stderr",
     "output_type": "stream",
     "text": [
      "100%|██████████| 20/20 [00:00<00:00, 27.44it/s]\n"
     ]
    },
    {
     "name": "stdout",
     "output_type": "stream",
     "text": [
      "Epoch 41 with g_loss: -0.17780470252037048 and d_loss: 0.0\n",
      "Epoch: 41, g_acc=0.09698437452316284, d_acc_f=0.8179999887943268, d_acc_r=0.2369999945163727\n",
      "d_dist_f=0.2674786329269409, d_dist_r=0.6901146411895752\n"
     ]
    },
    {
     "name": "stderr",
     "output_type": "stream",
     "text": [
      "100%|██████████| 20/20 [00:00<00:00, 27.38it/s]\n"
     ]
    },
    {
     "name": "stdout",
     "output_type": "stream",
     "text": [
      "Epoch 41 with g_loss: -0.2045433208346367 and d_loss: 0.0\n",
      "Epoch: 41, g_acc=0.09699999690055847, d_acc_f=0.782999974489212, d_acc_r=0.2369999945163727\n",
      "d_dist_f=0.2954216718673706, d_dist_r=0.6901146411895752\n"
     ]
    },
    {
     "name": "stderr",
     "output_type": "stream",
     "text": [
      "100%|██████████| 20/20 [00:00<00:00, 27.37it/s]\n"
     ]
    },
    {
     "name": "stdout",
     "output_type": "stream",
     "text": [
      "Epoch 41 with g_loss: -0.24105787202715873 and d_loss: 0.0\n",
      "Epoch: 41, g_acc=0.09707812070846558, d_acc_f=0.7509999811649323, d_acc_r=0.2369999945163727\n",
      "d_dist_f=0.32228660583496094, d_dist_r=0.6901146411895752\n"
     ]
    },
    {
     "name": "stderr",
     "output_type": "stream",
     "text": [
      "100%|██████████| 20/20 [00:00<00:00, 26.93it/s]\n"
     ]
    },
    {
     "name": "stdout",
     "output_type": "stream",
     "text": [
      "Epoch 41 with g_loss: -0.3101787231862545 and d_loss: 0.0\n",
      "Epoch: 41, g_acc=0.09712499976158143, d_acc_f=0.6779999792575836, d_acc_r=0.2369999945163727\n",
      "d_dist_f=0.3751878499984741, d_dist_r=0.6901146411895752\n"
     ]
    },
    {
     "name": "stderr",
     "output_type": "stream",
     "text": [
      "100%|██████████| 20/20 [00:00<00:00, 27.08it/s]\n"
     ]
    },
    {
     "name": "stdout",
     "output_type": "stream",
     "text": [
      "Epoch 41 with g_loss: -0.4435816898941994 and d_loss: 0.0\n",
      "Epoch: 41, g_acc=0.096875, d_acc_f=0.5909999877214431, d_acc_r=0.2369999945163727\n",
      "d_dist_f=0.4347818374633789, d_dist_r=0.6901146411895752\n"
     ]
    },
    {
     "name": "stderr",
     "output_type": "stream",
     "text": [
      "100%|██████████| 20/20 [00:00<00:00, 27.47it/s]\n"
     ]
    },
    {
     "name": "stdout",
     "output_type": "stream",
     "text": [
      "Epoch 41 with g_loss: -0.562449999153614 and d_loss: 0.0\n",
      "Epoch: 41, g_acc=0.09682812094688416, d_acc_f=0.5539999842643738, d_acc_r=0.2369999945163727\n",
      "d_dist_f=0.4618526458740234, d_dist_r=0.6901146411895752\n"
     ]
    },
    {
     "name": "stderr",
     "output_type": "stream",
     "text": [
      "100%|██████████| 20/20 [00:00<00:00, 27.37it/s]\n"
     ]
    },
    {
     "name": "stdout",
     "output_type": "stream",
     "text": [
      "Epoch 41 with g_loss: -0.6637736797332764 and d_loss: 0.0\n",
      "Epoch: 41, g_acc=0.09678124785423278, d_acc_f=0.5169999897480011, d_acc_r=0.2369999945163727\n",
      "d_dist_f=0.485720157623291, d_dist_r=0.6901146411895752\n"
     ]
    },
    {
     "name": "stderr",
     "output_type": "stream",
     "text": [
      "100%|██████████| 20/20 [00:00<00:00, 27.56it/s]\n"
     ]
    },
    {
     "name": "stdout",
     "output_type": "stream",
     "text": [
      "Epoch 41 with g_loss: -0.7732617199420929 and d_loss: 0.0\n",
      "Epoch: 41, g_acc=0.09674999713897706, d_acc_f=0.496999990940094, d_acc_r=0.2369999945163727\n",
      "d_dist_f=0.4982272148132324, d_dist_r=0.6901146411895752\n"
     ]
    },
    {
     "name": "stderr",
     "output_type": "stream",
     "text": [
      "100%|██████████| 20/20 [00:00<00:00, 24.13it/s]\n"
     ]
    },
    {
     "name": "stdout",
     "output_type": "stream",
     "text": [
      "Epoch 42 with g_loss: 0.0 and d_loss: 0.31268047317862513\n",
      "Epoch: 42, g_acc=0.09674999713897706, d_acc_f=0.9189999908208847, d_acc_r=0.9819999814033509\n",
      "d_dist_f=0.11862031221389771, d_dist_r=0.08203123807907105\n"
     ]
    },
    {
     "name": "stderr",
     "output_type": "stream",
     "text": [
      "100%|██████████| 20/20 [00:00<00:00, 27.34it/s]\n"
     ]
    },
    {
     "name": "stdout",
     "output_type": "stream",
     "text": [
      "Epoch 42 with g_loss: -0.06179872211068869 and d_loss: 0.0\n",
      "Epoch: 42, g_acc=0.09682812094688416, d_acc_f=0.85899997651577, d_acc_r=0.9819999814033509\n",
      "d_dist_f=0.20002944469451905, d_dist_r=0.08203123807907105\n"
     ]
    },
    {
     "name": "stderr",
     "output_type": "stream",
     "text": [
      "100%|██████████| 20/20 [00:00<00:00, 27.48it/s]\n"
     ]
    },
    {
     "name": "stdout",
     "output_type": "stream",
     "text": [
      "Epoch 42 with g_loss: -1.2175793260335923 and d_loss: 0.0\n",
      "Epoch: 42, g_acc=0.09715625047683715, d_acc_f=0.0, d_acc_r=0.9819999814033509\n",
      "d_dist_f=0.9800535202026367, d_dist_r=0.08203123807907105\n"
     ]
    },
    {
     "name": "stderr",
     "output_type": "stream",
     "text": [
      "100%|██████████| 20/20 [00:00<00:00, 21.34it/s]\n"
     ]
    },
    {
     "name": "stdout",
     "output_type": "stream",
     "text": [
      "Epoch 43 with g_loss: 0.0 and d_loss: 0.9880232214927673\n",
      "Epoch: 43, g_acc=0.09715625047683715, d_acc_f=0.8569999814033509, d_acc_r=0.6439999788999557\n",
      "d_dist_f=0.24583649635314941, d_dist_r=0.4024956226348877\n"
     ]
    },
    {
     "name": "stderr",
     "output_type": "stream",
     "text": [
      "100%|██████████| 20/20 [00:00<00:00, 27.23it/s]\n"
     ]
    },
    {
     "name": "stdout",
     "output_type": "stream",
     "text": [
      "Epoch 43 with g_loss: -0.27354525551199915 and d_loss: 0.0\n",
      "Epoch: 43, g_acc=0.09710937142372131, d_acc_f=0.6399999886751175, d_acc_r=0.6439999788999557\n",
      "d_dist_f=0.391008996963501, d_dist_r=0.4024956226348877\n"
     ]
    },
    {
     "name": "stderr",
     "output_type": "stream",
     "text": [
      "100%|██████████| 20/20 [00:00<00:00, 27.25it/s]\n"
     ]
    },
    {
     "name": "stdout",
     "output_type": "stream",
     "text": [
      "Epoch 43 with g_loss: -0.9877951860427856 and d_loss: 0.0\n",
      "Epoch: 43, g_acc=0.0970312476158142, d_acc_f=0.1699999939650297, d_acc_r=0.6439999788999557\n",
      "d_dist_f=0.7285942554473877, d_dist_r=0.4024956226348877\n"
     ]
    },
    {
     "name": "stderr",
     "output_type": "stream",
     "text": [
      "100%|██████████| 20/20 [00:00<00:00, 24.17it/s]\n"
     ]
    },
    {
     "name": "stdout",
     "output_type": "stream",
     "text": [
      "Epoch 44 with g_loss: 0.0 and d_loss: 0.771877397596836\n",
      "Epoch: 44, g_acc=0.0970312476158142, d_acc_f=0.7829999774694443, d_acc_r=0.7409999907016754\n",
      "d_dist_f=0.27711808681488037, d_dist_r=0.3239616394042969\n"
     ]
    },
    {
     "name": "stderr",
     "output_type": "stream",
     "text": [
      "100%|██████████| 20/20 [00:00<00:00, 26.70it/s]\n"
     ]
    },
    {
     "name": "stdout",
     "output_type": "stream",
     "text": [
      "Epoch 44 with g_loss: -0.3494595929980278 and d_loss: 0.0\n",
      "Epoch: 44, g_acc=0.09699999690055847, d_acc_f=0.43499998971819875, d_acc_r=0.7409999907016754\n",
      "d_dist_f=0.5435530185699463, d_dist_r=0.3239616394042969\n"
     ]
    },
    {
     "name": "stderr",
     "output_type": "stream",
     "text": [
      "100%|██████████| 20/20 [00:00<00:00, 23.71it/s]\n"
     ]
    },
    {
     "name": "stdout",
     "output_type": "stream",
     "text": [
      "Epoch 45 with g_loss: 0.0 and d_loss: 0.6585926532745361\n",
      "Epoch: 45, g_acc=0.09699999690055847, d_acc_f=0.6739999890327454, d_acc_r=0.5509999841451645\n",
      "d_dist_f=0.36372671127319334, d_dist_r=0.45933899879455564\n"
     ]
    },
    {
     "name": "stderr",
     "output_type": "stream",
     "text": [
      "100%|██████████| 20/20 [00:00<00:00, 27.21it/s]\n"
     ]
    },
    {
     "name": "stdout",
     "output_type": "stream",
     "text": [
      "Epoch 45 with g_loss: -0.3482342712581158 and d_loss: 0.0\n",
      "Epoch: 45, g_acc=0.09712499976158143, d_acc_f=0.5659999862313271, d_acc_r=0.5509999841451645\n",
      "d_dist_f=0.4529105663299561, d_dist_r=0.45933899879455564\n"
     ]
    },
    {
     "name": "stderr",
     "output_type": "stream",
     "text": [
      "100%|██████████| 20/20 [00:00<00:00, 27.23it/s]\n"
     ]
    },
    {
     "name": "stdout",
     "output_type": "stream",
     "text": [
      "Epoch 45 with g_loss: -0.5853603884577752 and d_loss: 0.0\n",
      "Epoch: 45, g_acc=0.09704686999320984, d_acc_f=0.355999992787838, d_acc_r=0.5509999841451645\n",
      "d_dist_f=0.6120707035064697, d_dist_r=0.45933899879455564\n"
     ]
    },
    {
     "name": "stderr",
     "output_type": "stream",
     "text": [
      "100%|██████████| 20/20 [00:00<00:00, 23.97it/s]\n"
     ]
    },
    {
     "name": "stdout",
     "output_type": "stream",
     "text": [
      "Epoch 46 with g_loss: 0.0 and d_loss: 0.5989445552229882\n",
      "Epoch: 46, g_acc=0.09704686999320984, d_acc_f=0.9229999780654907, d_acc_r=0.6099999815225601\n",
      "d_dist_f=0.15315552949905395, d_dist_r=0.42983098030090333\n"
     ]
    },
    {
     "name": "stderr",
     "output_type": "stream",
     "text": [
      "100%|██████████| 20/20 [00:00<00:00, 27.48it/s]\n"
     ]
    },
    {
     "name": "stdout",
     "output_type": "stream",
     "text": [
      "Epoch 46 with g_loss: -0.3439899101853371 and d_loss: 0.0\n",
      "Epoch: 46, g_acc=0.09696874618530274, d_acc_f=0.5839999914169312, d_acc_r=0.6099999815225601\n",
      "d_dist_f=0.43288168907165525, d_dist_r=0.42983098030090333\n"
     ]
    },
    {
     "name": "stderr",
     "output_type": "stream",
     "text": [
      "100%|██████████| 20/20 [00:00<00:00, 27.50it/s]\n"
     ]
    },
    {
     "name": "stdout",
     "output_type": "stream",
     "text": [
      "Epoch 46 with g_loss: -1.6349389016628266 and d_loss: 0.0\n",
      "Epoch: 46, g_acc=0.09676562547683716, d_acc_f=0.019999999180436136, d_acc_r=0.6099999815225601\n",
      "d_dist_f=0.9203304290771485, d_dist_r=0.42983098030090333\n"
     ]
    },
    {
     "name": "stderr",
     "output_type": "stream",
     "text": [
      "100%|██████████| 20/20 [00:00<00:00, 24.04it/s]\n"
     ]
    },
    {
     "name": "stdout",
     "output_type": "stream",
     "text": [
      "Epoch 47 with g_loss: 0.0 and d_loss: 0.5668565843254327\n",
      "Epoch: 47, g_acc=0.09676562547683716, d_acc_f=0.9019999921321868, d_acc_r=0.979999977350235\n",
      "d_dist_f=0.13563873767852783, d_dist_r=0.09161854386329651\n"
     ]
    },
    {
     "name": "stderr",
     "output_type": "stream",
     "text": [
      "100%|██████████| 20/20 [00:00<00:00, 26.82it/s]\n"
     ]
    },
    {
     "name": "stdout",
     "output_type": "stream",
     "text": [
      "Epoch 47 with g_loss: -0.03587518986314535 and d_loss: 0.0\n",
      "Epoch: 47, g_acc=0.09681249856948852, d_acc_f=0.8689999863505363, d_acc_r=0.979999977350235\n",
      "d_dist_f=0.17298178672790526, d_dist_r=0.09161854386329651\n"
     ]
    },
    {
     "name": "stderr",
     "output_type": "stream",
     "text": [
      "100%|██████████| 20/20 [00:00<00:00, 27.22it/s]\n"
     ]
    },
    {
     "name": "stdout",
     "output_type": "stream",
     "text": [
      "Epoch 47 with g_loss: -0.33308582082390786 and d_loss: 0.0\n",
      "Epoch: 47, g_acc=0.09692187309265136, d_acc_f=0.2049999987706542, d_acc_r=0.979999977350235\n",
      "d_dist_f=0.7255200386047364, d_dist_r=0.09161854386329651\n"
     ]
    },
    {
     "name": "stderr",
     "output_type": "stream",
     "text": [
      "100%|██████████| 20/20 [00:00<00:00, 24.05it/s]\n"
     ]
    },
    {
     "name": "stdout",
     "output_type": "stream",
     "text": [
      "Epoch 48 with g_loss: 0.0 and d_loss: 0.6712732046842576\n",
      "Epoch: 48, g_acc=0.09692187309265136, d_acc_f=0.5939999785274267, d_acc_r=0.8099999845027923\n",
      "d_dist_f=0.4351088523864746, d_dist_r=0.2686296463012695\n"
     ]
    },
    {
     "name": "stderr",
     "output_type": "stream",
     "text": [
      "100%|██████████| 20/20 [00:00<00:00, 27.24it/s]\n"
     ]
    },
    {
     "name": "stdout",
     "output_type": "stream",
     "text": [
      "Epoch 48 with g_loss: -1.4029042527079583 and d_loss: 0.0\n",
      "Epoch: 48, g_acc=0.09699999690055847, d_acc_f=0.0139999995008111, d_acc_r=0.8099999845027923\n",
      "d_dist_f=0.9372480392456055, d_dist_r=0.2686296463012695\n"
     ]
    },
    {
     "name": "stderr",
     "output_type": "stream",
     "text": [
      "100%|██████████| 20/20 [00:00<00:00, 23.63it/s]\n"
     ]
    },
    {
     "name": "stdout",
     "output_type": "stream",
     "text": [
      "Epoch 49 with g_loss: 0.0 and d_loss: 0.6748425595462322\n",
      "Epoch: 49, g_acc=0.09699999690055847, d_acc_f=0.9519999742507934, d_acc_r=0.7859999775886536\n",
      "d_dist_f=0.11464189291000366, d_dist_r=0.29193012714385985\n"
     ]
    },
    {
     "name": "stderr",
     "output_type": "stream",
     "text": [
      "100%|██████████| 20/20 [00:00<00:00, 27.46it/s]\n"
     ]
    },
    {
     "name": "stdout",
     "output_type": "stream",
     "text": [
      "Epoch 49 with g_loss: -0.09726455342024565 and d_loss: 0.0\n",
      "Epoch: 49, g_acc=0.09701562523841858, d_acc_f=0.9059999763965607, d_acc_r=0.7859999775886536\n",
      "d_dist_f=0.170626699924469, d_dist_r=0.29193012714385985\n"
     ]
    },
    {
     "name": "stderr",
     "output_type": "stream",
     "text": [
      "100%|██████████| 20/20 [00:00<00:00, 27.46it/s]\n"
     ]
    },
    {
     "name": "stdout",
     "output_type": "stream",
     "text": [
      "Epoch 49 with g_loss: -0.6337343320250511 and d_loss: 0.0\n",
      "Epoch: 49, g_acc=0.09707812070846558, d_acc_f=0.2599999949336052, d_acc_r=0.7859999775886536\n",
      "d_dist_f=0.6746458530426025, d_dist_r=0.29193012714385985\n"
     ]
    },
    {
     "name": "stderr",
     "output_type": "stream",
     "text": [
      "100%|██████████| 20/20 [00:00<00:00, 24.14it/s]\n"
     ]
    },
    {
     "name": "stdout",
     "output_type": "stream",
     "text": [
      "Epoch 50 with g_loss: 0.0 and d_loss: 0.9268015682697296\n",
      "Epoch: 50, g_acc=0.09707812070846558, d_acc_f=0.6079999834299088, d_acc_r=0.6949999868869782\n",
      "d_dist_f=0.41907472610473634, d_dist_r=0.35543274879455566\n"
     ]
    },
    {
     "name": "stderr",
     "output_type": "stream",
     "text": [
      "100%|██████████| 20/20 [00:00<00:00, 27.25it/s]"
     ]
    },
    {
     "name": "stdout",
     "output_type": "stream",
     "text": [
      "Epoch 50 with g_loss: -0.6386753052473069 and d_loss: 0.0\n",
      "Epoch: 50, g_acc=0.09692187309265136, d_acc_f=0.4649999916553497, d_acc_r=0.6949999868869782\n",
      "d_dist_f=0.5264176368713379, d_dist_r=0.35543274879455566\n"
     ]
    },
    {
     "name": "stderr",
     "output_type": "stream",
     "text": [
      "\n"
     ]
    }
   ],
   "source": [
    "for epoch in range(0,50):\n",
    "\n",
    "    reps = 0\n",
    "\n",
    "    if train_all or train_discriminator:\n",
    "\n",
    "        while RSv1.logs['d_acc_f'][-1] < 0.5:\n",
    "            \n",
    "            reps += 1\n",
    "            if reps > 5:\n",
    "                train_all = False\n",
    "                train_discriminator = False\n",
    "                break\n",
    "            for bitboards, mvs in tqdm(loader):\n",
    "\n",
    "                RSv1.train_step(bitboards, mvs, train_generator=False)\n",
    "\n",
    "\n",
    "            RSv1.on_epoch_end(epoch, G, val_data)\n",
    "\n",
    "    reps = 0\n",
    "    if train_all or not train_discriminator:\n",
    "\n",
    "        while RSv1.logs['d_acc_f'][-1] > 0.5:\n",
    "            reps += 1\n",
    "            if reps > 12:\n",
    "                train_all = False\n",
    "                train_discriminator = True\n",
    "                break\n",
    "\n",
    "            #i=0\n",
    "            for bitboards, mvs in tqdm(loader):\n",
    "\n",
    "               # if i > G // 8:\n",
    "                #    break\n",
    "\n",
    "                RSv1.train_step(bitboards, mvs, train_generator=True)\n",
    "                #i += 1\n",
    "\n",
    "            RSv1.on_epoch_end(epoch, G, val_data)"
   ],
   "metadata": {
    "collapsed": false,
    "ExecuteTime": {
     "end_time": "2024-04-09T00:47:56.380484Z",
     "start_time": "2024-04-09T00:45:26.680797Z"
    }
   },
   "id": "68ecb55a7a2f10f5",
   "execution_count": 48
  },
  {
   "cell_type": "code",
   "outputs": [],
   "source": [
    "val_boards = val_data.bitboards\n",
    "real_moves = val_data.moves\n",
    "\n",
    "minn, ila = old_generator(val_boards)\n",
    "\n",
    "\n",
    "fake_from_moves = torch.argmax(minn, dim=1)\n",
    "fake_to_moves = torch.argmax(ila, dim=1)\n",
    "real_from_moves = torch.argmax(real_moves[:,0].view(-1,64), dim=1)\n",
    "real_to_moves = torch.argmax(real_moves[:,1].view(-1,64), dim=1)\n",
    "torch.sum((fake_from_moves == real_from_moves) & (fake_to_moves == real_to_moves))/fake_from_moves.size(0)"
   ],
   "metadata": {
    "collapsed": false,
    "ExecuteTime": {
     "end_time": "2024-04-09T02:24:22.593742Z",
     "start_time": "2024-04-09T02:24:22.573235Z"
    }
   },
   "id": "16b09e78fe015185",
   "execution_count": 72
  },
  {
   "cell_type": "code",
   "outputs": [],
   "source": [
    "old_generator = torch.load(\"Models/RDv2.3 CB.pt\")\n",
    "#old_discriminator = torch.load(\"discriminator 15.pt\")\n"
   ],
   "metadata": {
    "collapsed": false,
    "ExecuteTime": {
     "end_time": "2024-04-09T00:49:33.885036Z",
     "start_time": "2024-04-09T00:49:33.856018Z"
    }
   },
   "id": "2aa444e6c058731b",
   "execution_count": 53
  },
  {
   "cell_type": "code",
   "outputs": [
    {
     "name": "stderr",
     "output_type": "stream",
     "text": [
      "100%|██████████| 250/250 [02:48<00:00,  1.48it/s]\n",
      "100%|██████████| 250/250 [01:59<00:00,  2.10it/s]\n"
     ]
    },
    {
     "data": {
      "text/plain": "(114, 228, 158, 0.228)"
     },
     "execution_count": 62,
     "metadata": {},
     "output_type": "execute_result"
    }
   ],
   "source": [
    "test_against(old_generator_model, generator_model, N=500)"
   ],
   "metadata": {
    "ExecuteTime": {
     "end_time": "2024-04-09T02:04:09.452085Z",
     "start_time": "2024-04-09T01:59:21.441296Z"
    }
   },
   "id": "aa4d829c",
   "execution_count": 62
  },
  {
   "cell_type": "code",
   "outputs": [],
   "source": [],
   "metadata": {
    "collapsed": false
   },
   "id": "59dd252864a8fce8"
  },
  {
   "cell_type": "code",
   "outputs": [],
   "source": [
    "old_generator_model = lambda x: network_agent_prob_conv(x, lambda y: old_generator(y))\n",
    "generator_model = lambda x: network_agent_prob_conv(x, lambda y: RSv1.generator(y))"
   ],
   "metadata": {
    "collapsed": false,
    "ExecuteTime": {
     "end_time": "2024-04-09T00:51:36.896164Z",
     "start_time": "2024-04-09T00:51:36.890164Z"
    }
   },
   "id": "30a042950898223c",
   "execution_count": 58
  },
  {
   "cell_type": "code",
   "outputs": [
    {
     "data": {
      "text/plain": "7274496"
     },
     "execution_count": 15,
     "metadata": {},
     "output_type": "execute_result"
    }
   ],
   "source": [
    "torch.cuda.memory_allocated() "
   ],
   "metadata": {
    "collapsed": false,
    "ExecuteTime": {
     "end_time": "2024-03-27T05:01:28.670133Z",
     "start_time": "2024-03-27T05:01:28.649203Z"
    }
   },
   "id": "9f9494059602bcb1",
   "execution_count": 15
  }
 ],
 "metadata": {
  "kernelspec": {
   "display_name": "Python 3 (ipykernel)",
   "language": "python",
   "name": "python3"
  },
  "language_info": {
   "codemirror_mode": {
    "name": "ipython",
    "version": 3
   },
   "file_extension": ".py",
   "mimetype": "text/x-python",
   "name": "python",
   "nbconvert_exporter": "python",
   "pygments_lexer": "ipython3",
   "version": "3.10.12"
  }
 },
 "nbformat": 4,
 "nbformat_minor": 5
}
