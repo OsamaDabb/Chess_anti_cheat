{
 "cells": [
  {
   "cell_type": "markdown",
   "id": "9d9bd546",
   "metadata": {},
   "source": [
    "# ReesSaver Discriminator Agent"
   ]
  },
  {
   "cell_type": "markdown",
   "id": "435d5507",
   "metadata": {},
   "source": [
    "## Notes:\n",
    "- Roughly 90% of our boards are unique\n",
    "- Every time you call generate_data it gets new games/games in a different order?"
   ]
  },
  {
   "cell_type": "code",
   "execution_count": 1,
   "id": "df45d77a",
   "metadata": {
    "ExecuteTime": {
     "end_time": "2024-04-04T21:14:32.466608Z",
     "start_time": "2024-04-04T21:14:28.032185Z"
    }
   },
   "outputs": [
    {
     "name": "stderr",
     "output_type": "stream",
     "text": [
      "C:\\Users\\osama\\anaconda3\\lib\\site-packages\\torch\\__init__.py:690: UserWarning: torch.set_default_tensor_type() is deprecated as of PyTorch 2.1, please use torch.set_default_dtype() and torch.set_default_device() as alternatives. (Triggered internally at C:\\actions-runner\\_work\\pytorch\\pytorch\\builder\\windows\\pytorch\\torch\\csrc\\tensor\\python_tensor.cpp:453.)\n",
      "  _C._set_default_tensor_type(t)\n"
     ]
    }
   ],
   "source": [
    "import chess\n",
    "\n",
    "import chess.svg\n",
    "import cv2\n",
    "from IPython.display import display, SVG\n",
    "\n",
    "import numpy as np\n",
    "import random\n",
    "from tqdm import tqdm\n",
    "from importlib import reload\n",
    "import gc\n",
    "\n",
    "import torch\n",
    "import torch.nn as nn\n",
    "import torch.nn.functional as F\n",
    "import torch.optim as optim\n",
    "from torch.utils.data import DataLoader, Dataset\n",
    "\n",
    "import utils\n",
    "reload(utils)\n",
    "import utils\n",
    "\n",
    "\n",
    "from sklearn.model_selection import train_test_split"
   ]
  },
  {
   "cell_type": "code",
   "execution_count": 2,
   "id": "b917432f",
   "metadata": {
    "ExecuteTime": {
     "end_time": "2024-04-04T21:14:32.482609Z",
     "start_time": "2024-04-04T21:14:32.468606Z"
    }
   },
   "outputs": [
    {
     "name": "stdout",
     "output_type": "stream",
     "text": [
      "True\n"
     ]
    }
   ],
   "source": [
    "if torch.cuda.is_available():\n",
    "    # Set default tensor type to CUDA tensors\n",
    "    torch.set_default_tensor_type(torch.cuda.FloatTensor)\n",
    "    \n",
    "else:\n",
    "    \n",
    "    torch.set_default_tensor_type(torch.FloatTensor)\n",
    " \n",
    "print(torch.cuda.is_available())\n",
    "device = torch.device('cuda' if torch.cuda.is_available() else 'cpu')\n",
    "\n",
    "made_loader = False"
   ]
  },
  {
   "cell_type": "code",
   "outputs": [],
   "source": [
    "def clear_cuda():\n",
    "    \n",
    "    input()\n",
    "    \n",
    "    for obj in gc.get_objects():\n",
    "        if torch.is_tensor(obj):\n",
    "            if obj.is_cuda:\n",
    "                print(type(obj), obj.size(), obj.device)\n",
    "                del obj\n",
    "    torch.cuda.empty_cache()\n",
    "    gc.collect()"
   ],
   "metadata": {
    "collapsed": false,
    "ExecuteTime": {
     "end_time": "2024-04-04T21:15:01.115998Z",
     "start_time": "2024-04-04T21:15:01.107996Z"
    }
   },
   "id": "5e426489c167da5c",
   "execution_count": 3
  },
  {
   "cell_type": "code",
   "outputs": [
    {
     "name": "stdout",
     "output_type": "stream",
     "text": [
      "<class 'torch.Tensor'> torch.Size([64]) cuda:0\n"
     ]
    },
    {
     "name": "stderr",
     "output_type": "stream",
     "text": [
      "C:\\Users\\osama\\anaconda3\\lib\\site-packages\\torch\\distributed\\distributed_c10d.py:359: UserWarning: torch.distributed.reduce_op is deprecated, please use torch.distributed.ReduceOp instead\n",
      "  warnings.warn(\n"
     ]
    }
   ],
   "source": [
    "clear_cuda()"
   ],
   "metadata": {
    "collapsed": false,
    "ExecuteTime": {
     "end_time": "2024-04-03T23:10:02.544801Z",
     "start_time": "2024-04-03T23:10:00.797596Z"
    }
   },
   "id": "24b4c10246dd3c83",
   "execution_count": 4
  },
  {
   "cell_type": "code",
   "outputs": [],
   "source": [
    "from utils.Datasets import *\n",
    "\n",
    "import utils.Dataloading\n",
    "reload(utils.Dataloading)\n",
    "from utils.Dataloading import *\n",
    "from utils.Game_playing import *\n",
    "\n",
    "import utils.Playing_agents\n",
    "reload(utils.Playing_agents)\n",
    "from utils.Playing_agents import *\n",
    "\n",
    "from utils.CSV_data import *\n",
    "from utils.Puzzles import *"
   ],
   "metadata": {
    "ExecuteTime": {
     "end_time": "2024-04-04T21:15:02.352392Z",
     "start_time": "2024-04-04T21:15:02.337391Z"
    }
   },
   "id": "aced8f27",
   "execution_count": 4
  },
  {
   "cell_type": "code",
   "outputs": [],
   "source": [
    "class MLPv2_1(nn.Module):\n",
    "\n",
    "    def __init__(self):\n",
    "\n",
    "        super().__init__()\n",
    "        self.conv1 = nn.Conv2d(14, 64, 3, 1, padding=1, padding_mode = 'zeros')\n",
    "\n",
    "        self.layers = nn.ModuleList()\n",
    "\n",
    "        self.depth = 6\n",
    "\n",
    "        for _ in range(self.depth):\n",
    "            self.layers.append(nn.Conv2d(64,64, 3, 1, padding=1, padding_mode = 'zeros'))\n",
    "            self.layers.append(nn.BatchNorm2d(64))\n",
    "            self.layers.append(nn.Conv2d(64,64, 3, 1, padding=1, padding_mode = 'zeros'))\n",
    "            self.layers.append(nn.BatchNorm2d(64))\n",
    "\n",
    "        self.linear = nn.Linear(4096, 128)\n",
    "\n",
    "    def forward(self, x):\n",
    "\n",
    "        x = self.conv1(x)\n",
    "\n",
    "        for i in range(self.depth):\n",
    "            j = i*4\n",
    "            ph = x.clone()\n",
    "            ph = self.layers[j](ph)\n",
    "            ph = self.layers[j+1](ph)\n",
    "            ph = F.relu(ph)\n",
    "            ph = self.layers[j+2](ph)\n",
    "            ph = self.layers[j+3](ph)\n",
    "\n",
    "            x = x + ph\n",
    "            x = F.relu(x)\n",
    "\n",
    "\n",
    "        x = torch.flatten(x, start_dim=1)\n",
    "\n",
    "        x = self.linear(x)\n",
    "\n",
    "        minn, ila = x[:,:64], x[:,64:]\n",
    "\n",
    "        return minn, ila"
   ],
   "metadata": {
    "collapsed": false,
    "ExecuteTime": {
     "end_time": "2024-04-04T21:42:37.855447Z",
     "start_time": "2024-04-04T21:42:37.844445Z"
    }
   },
   "id": "2e17ab646265886d",
   "execution_count": 41
  },
  {
   "cell_type": "code",
   "outputs": [],
   "source": [
    "RDv2 = torch.load(\"Models/RDv2.3 CB.pt\", map_location= device)"
   ],
   "metadata": {
    "collapsed": false,
    "ExecuteTime": {
     "end_time": "2024-04-04T21:42:38.532043Z",
     "start_time": "2024-04-04T21:42:38.499638Z"
    }
   },
   "id": "34154737e9a1cf50",
   "execution_count": 42
  },
  {
   "cell_type": "code",
   "outputs": [
    {
     "name": "stderr",
     "output_type": "stream",
     "text": [
      "0it [00:00, ?it/s]\n",
      "100%|██████████| 10000/10000 [04:47<00:00, 34.74it/s]\n"
     ]
    }
   ],
   "source": [
    "boards, meta, elo, moves, _, _, fens = generate_data(\"./Data/GAN_human_data.pgn\", N = 10_000)\n",
    "elo = [int(x) for x in elo]"
   ],
   "metadata": {
    "ExecuteTime": {
     "end_time": "2024-04-04T21:20:18.419344Z",
     "start_time": "2024-04-04T21:15:23.078565Z"
    }
   },
   "id": "4d02f81d",
   "execution_count": 7
  },
  {
   "cell_type": "code",
   "outputs": [],
   "source": [
    "class generator_1(nn.Module):\n",
    "\n",
    "    def __init__(self, conv_depth):\n",
    "\n",
    "        super().__init__()\n",
    "        self.conv1 = nn.Conv2d(14, 64, 3, 1, padding=1, padding_mode = 'zeros')\n",
    "        \n",
    "        self.conv_layers = nn.ModuleList()\n",
    "        self.conv_depth = conv_depth\n",
    "        \n",
    "        for i in range(self.conv_depth):\n",
    "            self.conv_layers.append(nn.Conv2d(64,64, 3, 1, padding=1, padding_mode = 'zeros'))\n",
    "            self.conv_layers.append(nn.BatchNorm2d(64))\n",
    "            self.conv_layers.append(nn.Conv2d(64,64, 3, 1, padding=1, padding_mode = 'zeros'))\n",
    "            if i < self.conv_depth - 1:\n",
    "                self.conv_layers.append(nn.BatchNorm2d(64))\n",
    "\n",
    "        self.linear = nn.Linear(4096, 128)\n",
    "\n",
    "    def forward(self, x):\n",
    "\n",
    "        x = self.conv1(x)\n",
    "        \n",
    "        for i in range(self.conv_depth):\n",
    "            j = i*4\n",
    "            ph = x.clone()\n",
    "            ph = self.conv_layers[j](ph)\n",
    "            ph = self.conv_layers[j+1](ph)\n",
    "            ph = F.relu(ph)\n",
    "            ph = self.conv_layers[j+2](ph)\n",
    "            if i < self.conv_depth - 1:\n",
    "                ph = self.conv_layers[j+3](ph)\n",
    "            \n",
    "            x = x + ph\n",
    "            x = F.relu(x)   \n",
    "        \n",
    "        x = torch.flatten(x, start_dim=1)\n",
    "\n",
    "        x = self.linear(x)\n",
    "        minn, ila = x[:,:64], x[:,64:]\n",
    "\n",
    "        minn = F.softmax(minn, dim=1)\n",
    "        ila = F.softmax(ila, dim=1)\n",
    "\n",
    "        return torch.cat([minn, ila], dim=1).view(-1, 2, 8, 8)"
   ],
   "metadata": {
    "ExecuteTime": {
     "end_time": "2024-04-04T21:20:18.482151Z",
     "start_time": "2024-04-04T21:20:18.468342Z"
    }
   },
   "id": "bab89efa",
   "execution_count": 9
  },
  {
   "cell_type": "code",
   "outputs": [],
   "source": [
    "class discriminator_1(nn.Module):\n",
    "\n",
    "    def __init__(self, conv_depth):\n",
    "\n",
    "        super().__init__()\n",
    "        self.conv1 = nn.Conv2d(16, 64, 3, 1, padding=1, padding_mode = 'zeros')\n",
    "\n",
    "        self.conv_layers = nn.ModuleList()\n",
    "        self.conv_depth = conv_depth\n",
    "\n",
    "        for _ in range(self.conv_depth):\n",
    "            self.conv_layers.append(nn.Conv2d(64,64, 3, 1, padding=1, padding_mode = 'zeros'))\n",
    "            self.conv_layers.append(nn.BatchNorm2d(64))\n",
    "            self.conv_layers.append(nn.Conv2d(64,64, 3, 1, padding=1, padding_mode = 'zeros'))\n",
    "            self.conv_layers.append(nn.BatchNorm2d(64))\n",
    "            \n",
    "        self.linear = nn.Linear(4096, 1)\n",
    "    \n",
    "\n",
    "    def forward(self, board, move):\n",
    "        \n",
    "        x = torch.cat((board, move), dim = 1)\n",
    "\n",
    "        x = self.conv1(x)\n",
    "        \n",
    "        for i in range(self.conv_depth):\n",
    "            j = i*4\n",
    "            ph = x.clone()\n",
    "            ph = self.conv_layers[j](ph)\n",
    "            ph = self.conv_layers[j+1](ph)\n",
    "            ph = F.leaky_relu(ph)\n",
    "            ph = self.conv_layers[j+2](ph)\n",
    "            ph = self.conv_layers[j+3](ph)\n",
    "            \n",
    "            x = x + ph\n",
    "            x = F.leaky_relu(x)\n",
    "                  \n",
    "                  \n",
    "        x = torch.flatten(x, start_dim=1)\n",
    "        \n",
    "        x = self.linear(x)\n",
    "        x = F.sigmoid(x)\n",
    "        \n",
    "        return x"
   ],
   "metadata": {
    "ExecuteTime": {
     "end_time": "2024-04-04T21:20:18.497294Z",
     "start_time": "2024-04-04T21:20:18.483290Z"
    }
   },
   "id": "da16f337",
   "execution_count": 10
  },
  {
   "cell_type": "code",
   "outputs": [],
   "source": [
    "class GAN_1(nn.Module):\n",
    "    #AI: 0, Human: 1\n",
    "    def __init__(self, g_conv_depth, d_conv_depth, lr, pre_trained_g = None):\n",
    "        \n",
    "        super().__init__()\n",
    "        \n",
    "        print(device)\n",
    "        if pre_trained_g is not None:\n",
    "            \n",
    "            self.generator = pre_trained_g\n",
    "            self.pre_trained = True\n",
    "        \n",
    "        else:\n",
    "            self.generator = generator_1(g_conv_depth)\n",
    "        self.discriminator = discriminator_1(d_conv_depth)\n",
    "        \n",
    "        self.logs = {\"g_acc\": [0], \"d_acc_r\": [0], \"d_acc_f\": [0], \n",
    "                     \"g_loss\": [0], \"d_loss\": [0],\"d_dist_f\": [0], \"d_dist_r\": [0], \n",
    "                     \"cur_g_loss\": 0, \"cur_d_loss\": 0}\n",
    "        \n",
    "        self.made_loader = False\n",
    "        \n",
    "        self.configure_optimizers(lr)\n",
    "        \n",
    "    def forward(self, x):\n",
    "        return self.generator(x)\n",
    "    \n",
    "    def adversarial_loss(self, y_hat, y):\n",
    "        return F.binary_cross_entropy(y_hat, y)\n",
    "    \n",
    "    def train_step(self, train_boards, real_moves, train_generator):\n",
    "        \n",
    "        #train generator\n",
    "        if train_generator:\n",
    "\n",
    "            self.opt_g.zero_grad()\n",
    "            \n",
    "            fake_moves = self(train_boards)\n",
    "            \n",
    "            if self.pre_trained:\n",
    "                \n",
    "                fake_moves = F.softmax(fake_moves[0], dim=1), F.softmax(fake_moves[1])\n",
    "                fake_moves = torch.cat(fake_moves,dim=1).view(-1,2,8,8)\n",
    "                \n",
    "            y_hat = self.discriminator(train_boards, fake_moves)\n",
    "            \n",
    "            y = torch.ones(real_moves.size(0), 1).to(device)\n",
    "            \n",
    "            g_loss = self.adversarial_loss(y_hat, y)\n",
    "            self.logs[\"cur_g_loss\"] += g_loss.item()\n",
    "            \n",
    "            g_loss.backward()\n",
    "\n",
    "            self.opt_g.step()\n",
    "              \n",
    "            \n",
    "        else:\n",
    "\n",
    "            self.opt_d.zero_grad()\n",
    "            \n",
    "            y_hat_real = self.discriminator(train_boards, real_moves)\n",
    "            y_real = torch.ones(real_moves.size(0), 1).to(device)\n",
    "            \n",
    "            d_real_loss = self.adversarial_loss(y_hat_real, y_real)\n",
    "\n",
    "            fake_moves = self(train_boards)\n",
    "\n",
    "            if self.pre_trained:\n",
    "                fake_moves = F.softmax(fake_moves[0], dim=1), F.softmax(fake_moves[1])\n",
    "                fake_moves = torch.cat(fake_moves,dim=1).view(-1,2,8,8).detach()\n",
    "            \n",
    "            y_hat_fake = self.discriminator(train_boards, fake_moves)\n",
    "            y_fake = torch.zeros(real_moves.size(0), 1).to(device)\n",
    "            \n",
    "            d_fake_loss = self.adversarial_loss(y_hat_fake, y_fake)\n",
    "            \n",
    "            d_loss = d_real_loss + d_fake_loss\n",
    "            self.logs[\"cur_d_loss\"] += d_loss.item()\n",
    "            \n",
    "            d_loss.backward()\n",
    "\n",
    "            self.opt_d.step()\n",
    "            \n",
    "    \n",
    "    def configure_optimizers(self, lr):\n",
    "        self.lr = lr\n",
    "        self.opt_g = torch.optim.Adam(self.generator.parameters(), lr=lr, betas = (0.5, 0.999),  weight_decay=0.0)\n",
    "        self.opt_d = torch.optim.Adam(self.discriminator.parameters(), lr=lr,  betas = (0.5, 0.999), weight_decay=0.0)\n",
    "    \n",
    "    def on_epoch_end(self, epoch, G, val_data=None):\n",
    "        \n",
    "        self.logs[\"g_loss\"].append(self.logs[\"cur_g_loss\"] / G)\n",
    "        self.logs[\"d_loss\"].append(self.logs[\"cur_d_loss\"] / G)\n",
    "        \n",
    "        print(f'Epoch {epoch+1} with g_loss: {self.logs[\"cur_g_loss\"] / G} and d_loss: {self.logs[\"cur_d_loss\"] / G}')\n",
    "        \n",
    "        self.logs[\"cur_g_loss\"] = 0\n",
    "        self.logs[\"cur_d_loss\"] = 0\n",
    "        \n",
    "        if epoch % 1 == 0:\n",
    "            \n",
    "            if val_data is not None:\n",
    "                \n",
    "                val_boards = val_data.bitboards\n",
    "                real_moves = val_data.moves\n",
    "                \n",
    "                #fake_moves_ind = torch.argmax(fake_moves, dim=1)\n",
    "                values = np.zeros(5)\n",
    "                \n",
    "                for i in range(0,len(val_boards), 100):\n",
    "                \n",
    "                    with torch.no_grad():\n",
    "                        \n",
    "                        curr_boards, curr_moves = val_boards[i:i+100], real_moves[i:i+100]\n",
    "    \n",
    "                        fake_moves = self(curr_boards)\n",
    "                        \n",
    "                        if self.pre_trained:\n",
    "                            fake_moves = F.softmax(fake_moves[0], dim=1), F.softmax(fake_moves[1])\n",
    "                            fake_moves = torch.cat(fake_moves,dim=1).view(-1,2,8,8).detach()\n",
    "                        \n",
    "                        f_pred = self.discriminator(curr_boards, fake_moves)\n",
    "                        r_pred = self.discriminator(curr_boards, curr_moves) \n",
    "                        \n",
    "                        values[0] += torch.mean(torch.round(f_pred) == 0, dtype=torch.float).item() #d_acc_f\n",
    "                        values[1] += torch.mean(torch.round(r_pred) == 1, dtype=torch.float).item() #d_acc_r\n",
    "                        \n",
    "                        values[2] += torch.mean(torch.abs(f_pred)) #d_dist_f\n",
    "                        values[3] += torch.mean(torch.abs(1 - r_pred)) #d_dist_r\n",
    "                        \n",
    "                        values[4] = torch.mean((curr_moves == torch.round(fake_moves)).all(dim=1), dtype=torch.float).item() # g_acc\n",
    "                \n",
    "                n = int(len(val_boards) // 100)\n",
    "                d_acc_f, d_acc_r = values[0] / n, values[1] / n\n",
    "                d_dist_f, d_dist_r = values[2] / n, values[3] / n\n",
    "                g_acc = values[4] / n\n",
    "                \n",
    "                print(f'Epoch: {epoch+1}, {g_acc=}, {d_acc_f=}, {d_acc_r=}')\n",
    "                print(f\"{d_dist_f=}, {d_dist_r=}\")\n",
    "                \n",
    "                self.logs[\"d_acc_f\"].append(d_acc_f)\n",
    "                self.logs[\"d_acc_r\"].append(d_acc_r)\n",
    "                self.logs[\"d_dist_f\"].append(d_dist_f)\n",
    "                self.logs[\"d_dist_r\"].append(d_dist_r)\n",
    "                self.logs[\"g_acc\"].append(g_acc)\n",
    "                \n",
    "                \n",
    "            if epoch % 5 == 0:\n",
    "            \n",
    "                torch.save(self.generator, f\"generator {epoch}.pt\")\n",
    "                torch.save(self.discriminator, f\"discriminator {epoch}.pt\")\n",
    "            \n",
    "    def create_dataloader(self, boards, meta, moves, B, N, N_val):\n",
    "\n",
    "        if self.made_loader:\n",
    "\n",
    "            clear_cuda()\n",
    "            \n",
    "        loader = DataLoader(GANData(boards[:N], meta[:N], moves[:N]), batch_size = B, shuffle = True, generator=torch.Generator(device=device))\n",
    "        val_loader = GANData(boards[N:N+N_val], meta[N:N+N_val], moves[N:N+N_val])\n",
    "        \n",
    "        self.made_loader = True\n",
    "        \n",
    "        return loader, val_loader\n",
    "        \n",
    "\n",
    "        "
   ],
   "metadata": {
    "collapsed": false,
    "ExecuteTime": {
     "end_time": "2024-04-04T21:32:49.124469Z",
     "start_time": "2024-04-04T21:32:49.089467Z"
    }
   },
   "id": "cf3c6fec864d134d",
   "execution_count": 32
  },
  {
   "cell_type": "code",
   "outputs": [],
   "source": [
    "class GANData(Dataset):\n",
    "\n",
    "    def __init__(self, bitboards, white_turn, moves):\n",
    "\n",
    "        self.bitboards = torch.tensor(bitboards, dtype = torch.float).to(device)\n",
    "\n",
    "        self.moves = np.zeros((self.bitboards.size(dim=0), 128))\n",
    "\n",
    "        for ind, move in tqdm(enumerate(moves), total=len(moves)):\n",
    "\n",
    "            minn = move.from_square\n",
    "            ila = move.to_square\n",
    "        \n",
    "            if not white_turn[ind]:\n",
    "                minn = (63 - minn) // 8 * 8 + minn % 8\n",
    "                ila = (63 - ila) // 8 * 8 + ila % 8\n",
    "\n",
    "            self.moves[ind,minn] = 1\n",
    "            self.moves[ind, ila + 64] = 1\n",
    "            \n",
    "            \n",
    "        self.moves = torch.tensor(self.moves.reshape(-1,2,8,8), dtype = torch.float).to(device)\n",
    "\n",
    "    def __len__(self):\n",
    "\n",
    "        return self.moves.size(dim=0)\n",
    "\n",
    "\n",
    "    def __getitem__(self, idx):\n",
    "\n",
    "        return self.bitboards[idx], self.moves[idx]\n",
    "    "
   ],
   "metadata": {
    "collapsed": false,
    "ExecuteTime": {
     "end_time": "2024-04-04T21:22:24.873043Z",
     "start_time": "2024-04-04T21:22:24.855043Z"
    }
   },
   "id": "4677947170615bf9",
   "execution_count": 23
  },
  {
   "cell_type": "code",
   "outputs": [
    {
     "name": "stdout",
     "output_type": "stream",
     "text": [
      "<class 'torch.Tensor'> torch.Size([64]) cuda:0\n",
      "<class 'torch.nn.parameter.Parameter'> torch.Size([64, 14, 3, 3]) cuda:0\n",
      "<class 'torch.nn.parameter.Parameter'> torch.Size([64]) cuda:0\n",
      "<class 'torch.nn.parameter.Parameter'> torch.Size([128, 4096]) cuda:0\n",
      "<class 'torch.nn.parameter.Parameter'> torch.Size([128]) cuda:0\n",
      "<class 'torch.nn.parameter.Parameter'> torch.Size([64, 64, 3, 3]) cuda:0\n",
      "<class 'torch.nn.parameter.Parameter'> torch.Size([64]) cuda:0\n",
      "<class 'torch.nn.parameter.Parameter'> torch.Size([64]) cuda:0\n",
      "<class 'torch.nn.parameter.Parameter'> torch.Size([64]) cuda:0\n",
      "<class 'torch.Tensor'> torch.Size([64]) cuda:0\n",
      "<class 'torch.Tensor'> torch.Size([64]) cuda:0\n",
      "<class 'torch.Tensor'> torch.Size([]) cuda:0\n",
      "<class 'torch.nn.parameter.Parameter'> torch.Size([64, 64, 3, 3]) cuda:0\n",
      "<class 'torch.nn.parameter.Parameter'> torch.Size([64]) cuda:0\n",
      "<class 'torch.nn.parameter.Parameter'> torch.Size([64]) cuda:0\n",
      "<class 'torch.nn.parameter.Parameter'> torch.Size([64]) cuda:0\n",
      "<class 'torch.Tensor'> torch.Size([64]) cuda:0\n",
      "<class 'torch.Tensor'> torch.Size([64]) cuda:0\n",
      "<class 'torch.Tensor'> torch.Size([]) cuda:0\n",
      "<class 'torch.nn.parameter.Parameter'> torch.Size([64, 64, 3, 3]) cuda:0\n",
      "<class 'torch.nn.parameter.Parameter'> torch.Size([64]) cuda:0\n",
      "<class 'torch.nn.parameter.Parameter'> torch.Size([64]) cuda:0\n",
      "<class 'torch.nn.parameter.Parameter'> torch.Size([64]) cuda:0\n",
      "<class 'torch.Tensor'> torch.Size([64]) cuda:0\n",
      "<class 'torch.Tensor'> torch.Size([64]) cuda:0\n",
      "<class 'torch.Tensor'> torch.Size([]) cuda:0\n",
      "<class 'torch.nn.parameter.Parameter'> torch.Size([64, 64, 3, 3]) cuda:0\n",
      "<class 'torch.nn.parameter.Parameter'> torch.Size([64]) cuda:0\n",
      "<class 'torch.nn.parameter.Parameter'> torch.Size([64]) cuda:0\n",
      "<class 'torch.nn.parameter.Parameter'> torch.Size([64]) cuda:0\n",
      "<class 'torch.Tensor'> torch.Size([64]) cuda:0\n",
      "<class 'torch.Tensor'> torch.Size([64]) cuda:0\n",
      "<class 'torch.Tensor'> torch.Size([]) cuda:0\n",
      "<class 'torch.nn.parameter.Parameter'> torch.Size([64, 64, 3, 3]) cuda:0\n",
      "<class 'torch.nn.parameter.Parameter'> torch.Size([64]) cuda:0\n",
      "<class 'torch.nn.parameter.Parameter'> torch.Size([64]) cuda:0\n",
      "<class 'torch.nn.parameter.Parameter'> torch.Size([64]) cuda:0\n",
      "<class 'torch.Tensor'> torch.Size([64]) cuda:0\n",
      "<class 'torch.Tensor'> torch.Size([64]) cuda:0\n",
      "<class 'torch.Tensor'> torch.Size([]) cuda:0\n",
      "<class 'torch.nn.parameter.Parameter'> torch.Size([64, 64, 3, 3]) cuda:0\n",
      "<class 'torch.nn.parameter.Parameter'> torch.Size([64]) cuda:0\n",
      "<class 'torch.nn.parameter.Parameter'> torch.Size([64]) cuda:0\n",
      "<class 'torch.nn.parameter.Parameter'> torch.Size([64]) cuda:0\n",
      "<class 'torch.Tensor'> torch.Size([64]) cuda:0\n",
      "<class 'torch.Tensor'> torch.Size([64]) cuda:0\n",
      "<class 'torch.Tensor'> torch.Size([]) cuda:0\n",
      "<class 'torch.nn.parameter.Parameter'> torch.Size([64, 64, 3, 3]) cuda:0\n",
      "<class 'torch.nn.parameter.Parameter'> torch.Size([64]) cuda:0\n",
      "<class 'torch.nn.parameter.Parameter'> torch.Size([64]) cuda:0\n",
      "<class 'torch.nn.parameter.Parameter'> torch.Size([64]) cuda:0\n",
      "<class 'torch.Tensor'> torch.Size([64]) cuda:0\n",
      "<class 'torch.Tensor'> torch.Size([64]) cuda:0\n",
      "<class 'torch.Tensor'> torch.Size([]) cuda:0\n",
      "<class 'torch.nn.parameter.Parameter'> torch.Size([64, 64, 3, 3]) cuda:0\n",
      "<class 'torch.nn.parameter.Parameter'> torch.Size([64]) cuda:0\n",
      "<class 'torch.nn.parameter.Parameter'> torch.Size([64]) cuda:0\n",
      "<class 'torch.nn.parameter.Parameter'> torch.Size([64]) cuda:0\n",
      "<class 'torch.Tensor'> torch.Size([64]) cuda:0\n",
      "<class 'torch.Tensor'> torch.Size([64]) cuda:0\n",
      "<class 'torch.Tensor'> torch.Size([]) cuda:0\n",
      "<class 'torch.nn.parameter.Parameter'> torch.Size([64, 64, 3, 3]) cuda:0\n",
      "<class 'torch.nn.parameter.Parameter'> torch.Size([64]) cuda:0\n",
      "<class 'torch.nn.parameter.Parameter'> torch.Size([64]) cuda:0\n",
      "<class 'torch.nn.parameter.Parameter'> torch.Size([64]) cuda:0\n",
      "<class 'torch.Tensor'> torch.Size([64]) cuda:0\n",
      "<class 'torch.Tensor'> torch.Size([64]) cuda:0\n",
      "<class 'torch.Tensor'> torch.Size([]) cuda:0\n",
      "<class 'torch.nn.parameter.Parameter'> torch.Size([64, 64, 3, 3]) cuda:0\n",
      "<class 'torch.nn.parameter.Parameter'> torch.Size([64]) cuda:0\n",
      "<class 'torch.nn.parameter.Parameter'> torch.Size([64]) cuda:0\n",
      "<class 'torch.nn.parameter.Parameter'> torch.Size([64]) cuda:0\n",
      "<class 'torch.Tensor'> torch.Size([64]) cuda:0\n",
      "<class 'torch.Tensor'> torch.Size([64]) cuda:0\n",
      "<class 'torch.Tensor'> torch.Size([]) cuda:0\n",
      "<class 'torch.nn.parameter.Parameter'> torch.Size([64, 64, 3, 3]) cuda:0\n",
      "<class 'torch.nn.parameter.Parameter'> torch.Size([64]) cuda:0\n",
      "<class 'torch.nn.parameter.Parameter'> torch.Size([64]) cuda:0\n",
      "<class 'torch.nn.parameter.Parameter'> torch.Size([64]) cuda:0\n",
      "<class 'torch.Tensor'> torch.Size([64]) cuda:0\n",
      "<class 'torch.Tensor'> torch.Size([64]) cuda:0\n",
      "<class 'torch.Tensor'> torch.Size([]) cuda:0\n",
      "<class 'torch.nn.parameter.Parameter'> torch.Size([64, 64, 3, 3]) cuda:0\n",
      "<class 'torch.nn.parameter.Parameter'> torch.Size([64]) cuda:0\n",
      "<class 'torch.nn.parameter.Parameter'> torch.Size([64]) cuda:0\n",
      "<class 'torch.nn.parameter.Parameter'> torch.Size([64]) cuda:0\n",
      "<class 'torch.Tensor'> torch.Size([64]) cuda:0\n",
      "<class 'torch.Tensor'> torch.Size([64]) cuda:0\n",
      "<class 'torch.Tensor'> torch.Size([]) cuda:0\n",
      "<class 'torch.Tensor'> torch.Size([5000, 128]) cuda:0\n",
      "<class 'torch.Tensor'> torch.Size([5000, 14, 8, 8]) cuda:0\n",
      "<class 'torch.Tensor'> torch.Size([64]) cuda:0\n",
      "<class 'torch.Tensor'> torch.Size([64]) cuda:0\n",
      "<class 'torch.Tensor'> torch.Size([64]) cuda:0\n",
      "<class 'torch.Tensor'> torch.Size([64]) cuda:0\n",
      "<class 'torch.Tensor'> torch.Size([64]) cuda:0\n",
      "<class 'torch.Tensor'> torch.Size([64]) cuda:0\n",
      "<class 'torch.Tensor'> torch.Size([64]) cuda:0\n",
      "<class 'torch.Tensor'> torch.Size([64]) cuda:0\n",
      "<class 'torch.Tensor'> torch.Size([64]) cuda:0\n",
      "<class 'torch.Tensor'> torch.Size([64]) cuda:0\n",
      "<class 'torch.Tensor'> torch.Size([64]) cuda:0\n",
      "<class 'torch.Tensor'> torch.Size([64]) cuda:0\n",
      "<class 'torch.Tensor'> torch.Size([64]) cuda:0\n",
      "<class 'torch.Tensor'> torch.Size([64]) cuda:0\n",
      "<class 'torch.Tensor'> torch.Size([64]) cuda:0\n",
      "<class 'torch.Tensor'> torch.Size([64]) cuda:0\n",
      "<class 'torch.Tensor'> torch.Size([64]) cuda:0\n",
      "<class 'torch.Tensor'> torch.Size([64]) cuda:0\n",
      "<class 'torch.Tensor'> torch.Size([64]) cuda:0\n",
      "<class 'torch.Tensor'> torch.Size([64]) cuda:0\n",
      "<class 'torch.Tensor'> torch.Size([64]) cuda:0\n",
      "<class 'torch.Tensor'> torch.Size([64]) cuda:0\n",
      "<class 'torch.Tensor'> torch.Size([64]) cuda:0\n",
      "<class 'torch.Tensor'> torch.Size([64]) cuda:0\n",
      "<class 'torch.nn.parameter.Parameter'> torch.Size([64, 14, 3, 3]) cuda:0\n",
      "<class 'torch.nn.parameter.Parameter'> torch.Size([64]) cuda:0\n",
      "<class 'torch.nn.parameter.Parameter'> torch.Size([64, 64, 3, 3]) cuda:0\n",
      "<class 'torch.nn.parameter.Parameter'> torch.Size([64]) cuda:0\n",
      "<class 'torch.nn.parameter.Parameter'> torch.Size([64]) cuda:0\n",
      "<class 'torch.nn.parameter.Parameter'> torch.Size([64]) cuda:0\n",
      "<class 'torch.nn.parameter.Parameter'> torch.Size([64, 64, 3, 3]) cuda:0\n",
      "<class 'torch.nn.parameter.Parameter'> torch.Size([64]) cuda:0\n",
      "<class 'torch.nn.parameter.Parameter'> torch.Size([64]) cuda:0\n",
      "<class 'torch.nn.parameter.Parameter'> torch.Size([64]) cuda:0\n",
      "<class 'torch.nn.parameter.Parameter'> torch.Size([64, 64, 3, 3]) cuda:0\n",
      "<class 'torch.nn.parameter.Parameter'> torch.Size([64]) cuda:0\n",
      "<class 'torch.nn.parameter.Parameter'> torch.Size([64]) cuda:0\n",
      "<class 'torch.nn.parameter.Parameter'> torch.Size([64]) cuda:0\n",
      "<class 'torch.nn.parameter.Parameter'> torch.Size([64, 64, 3, 3]) cuda:0\n",
      "<class 'torch.nn.parameter.Parameter'> torch.Size([64]) cuda:0\n",
      "<class 'torch.nn.parameter.Parameter'> torch.Size([64]) cuda:0\n",
      "<class 'torch.nn.parameter.Parameter'> torch.Size([64]) cuda:0\n",
      "<class 'torch.nn.parameter.Parameter'> torch.Size([64, 64, 3, 3]) cuda:0\n",
      "<class 'torch.nn.parameter.Parameter'> torch.Size([64]) cuda:0\n",
      "<class 'torch.nn.parameter.Parameter'> torch.Size([64]) cuda:0\n",
      "<class 'torch.nn.parameter.Parameter'> torch.Size([64]) cuda:0\n",
      "<class 'torch.nn.parameter.Parameter'> torch.Size([64, 64, 3, 3]) cuda:0\n",
      "<class 'torch.nn.parameter.Parameter'> torch.Size([64]) cuda:0\n",
      "<class 'torch.nn.parameter.Parameter'> torch.Size([64]) cuda:0\n",
      "<class 'torch.nn.parameter.Parameter'> torch.Size([64]) cuda:0\n",
      "<class 'torch.nn.parameter.Parameter'> torch.Size([64, 64, 3, 3]) cuda:0\n",
      "<class 'torch.nn.parameter.Parameter'> torch.Size([64]) cuda:0\n",
      "<class 'torch.nn.parameter.Parameter'> torch.Size([64]) cuda:0\n",
      "<class 'torch.nn.parameter.Parameter'> torch.Size([64]) cuda:0\n",
      "<class 'torch.nn.parameter.Parameter'> torch.Size([64, 64, 3, 3]) cuda:0\n",
      "<class 'torch.nn.parameter.Parameter'> torch.Size([64]) cuda:0\n",
      "<class 'torch.nn.parameter.Parameter'> torch.Size([64]) cuda:0\n",
      "<class 'torch.nn.parameter.Parameter'> torch.Size([64]) cuda:0\n",
      "<class 'torch.nn.parameter.Parameter'> torch.Size([64, 64, 3, 3]) cuda:0\n",
      "<class 'torch.nn.parameter.Parameter'> torch.Size([64]) cuda:0\n",
      "<class 'torch.nn.parameter.Parameter'> torch.Size([64]) cuda:0\n",
      "<class 'torch.nn.parameter.Parameter'> torch.Size([64]) cuda:0\n",
      "<class 'torch.nn.parameter.Parameter'> torch.Size([64, 64, 3, 3]) cuda:0\n",
      "<class 'torch.nn.parameter.Parameter'> torch.Size([64]) cuda:0\n",
      "<class 'torch.nn.parameter.Parameter'> torch.Size([64]) cuda:0\n",
      "<class 'torch.nn.parameter.Parameter'> torch.Size([64]) cuda:0\n",
      "<class 'torch.nn.parameter.Parameter'> torch.Size([64, 64, 3, 3]) cuda:0\n",
      "<class 'torch.nn.parameter.Parameter'> torch.Size([64]) cuda:0\n",
      "<class 'torch.nn.parameter.Parameter'> torch.Size([64]) cuda:0\n",
      "<class 'torch.nn.parameter.Parameter'> torch.Size([64]) cuda:0\n",
      "<class 'torch.nn.parameter.Parameter'> torch.Size([64, 64, 3, 3]) cuda:0\n",
      "<class 'torch.nn.parameter.Parameter'> torch.Size([64]) cuda:0\n",
      "<class 'torch.nn.parameter.Parameter'> torch.Size([64]) cuda:0\n",
      "<class 'torch.nn.parameter.Parameter'> torch.Size([64]) cuda:0\n",
      "<class 'torch.nn.parameter.Parameter'> torch.Size([1024, 4096]) cuda:0\n",
      "<class 'torch.nn.parameter.Parameter'> torch.Size([1024]) cuda:0\n",
      "<class 'torch.nn.parameter.Parameter'> torch.Size([1024, 128]) cuda:0\n",
      "<class 'torch.nn.parameter.Parameter'> torch.Size([1024]) cuda:0\n",
      "<class 'torch.nn.parameter.Parameter'> torch.Size([2048, 2048]) cuda:0\n",
      "<class 'torch.nn.parameter.Parameter'> torch.Size([2048]) cuda:0\n",
      "<class 'torch.nn.parameter.Parameter'> torch.Size([2048, 2048]) cuda:0\n",
      "<class 'torch.nn.parameter.Parameter'> torch.Size([2048]) cuda:0\n",
      "<class 'torch.nn.parameter.Parameter'> torch.Size([1, 2048]) cuda:0\n",
      "<class 'torch.nn.parameter.Parameter'> torch.Size([1]) cuda:0\n",
      "<class 'torch.Tensor'> torch.Size([64, 14, 3, 3]) cuda:0\n",
      "<class 'torch.Tensor'> torch.Size([64]) cuda:0\n",
      "<class 'torch.Tensor'> torch.Size([64, 64, 3, 3]) cuda:0\n",
      "<class 'torch.Tensor'> torch.Size([64]) cuda:0\n",
      "<class 'torch.Tensor'> torch.Size([64]) cuda:0\n",
      "<class 'torch.Tensor'> torch.Size([64]) cuda:0\n",
      "<class 'torch.Tensor'> torch.Size([64, 64, 3, 3]) cuda:0\n",
      "<class 'torch.Tensor'> torch.Size([64]) cuda:0\n",
      "<class 'torch.Tensor'> torch.Size([64]) cuda:0\n",
      "<class 'torch.Tensor'> torch.Size([64]) cuda:0\n",
      "<class 'torch.Tensor'> torch.Size([64, 64, 3, 3]) cuda:0\n",
      "<class 'torch.Tensor'> torch.Size([64]) cuda:0\n",
      "<class 'torch.Tensor'> torch.Size([64]) cuda:0\n",
      "<class 'torch.Tensor'> torch.Size([64]) cuda:0\n",
      "<class 'torch.Tensor'> torch.Size([64, 64, 3, 3]) cuda:0\n",
      "<class 'torch.Tensor'> torch.Size([64]) cuda:0\n",
      "<class 'torch.Tensor'> torch.Size([64]) cuda:0\n",
      "<class 'torch.Tensor'> torch.Size([64]) cuda:0\n",
      "<class 'torch.Tensor'> torch.Size([64, 64, 3, 3]) cuda:0\n",
      "<class 'torch.Tensor'> torch.Size([64]) cuda:0\n",
      "<class 'torch.Tensor'> torch.Size([64]) cuda:0\n",
      "<class 'torch.Tensor'> torch.Size([64]) cuda:0\n",
      "<class 'torch.Tensor'> torch.Size([64, 64, 3, 3]) cuda:0\n",
      "<class 'torch.Tensor'> torch.Size([64]) cuda:0\n",
      "<class 'torch.Tensor'> torch.Size([64]) cuda:0\n",
      "<class 'torch.Tensor'> torch.Size([64]) cuda:0\n",
      "<class 'torch.Tensor'> torch.Size([64, 64, 3, 3]) cuda:0\n",
      "<class 'torch.Tensor'> torch.Size([64]) cuda:0\n",
      "<class 'torch.Tensor'> torch.Size([64]) cuda:0\n",
      "<class 'torch.Tensor'> torch.Size([64]) cuda:0\n",
      "<class 'torch.Tensor'> torch.Size([64, 64, 3, 3]) cuda:0\n",
      "<class 'torch.Tensor'> torch.Size([64]) cuda:0\n",
      "<class 'torch.Tensor'> torch.Size([64]) cuda:0\n",
      "<class 'torch.Tensor'> torch.Size([64]) cuda:0\n",
      "<class 'torch.Tensor'> torch.Size([64, 64, 3, 3]) cuda:0\n",
      "<class 'torch.Tensor'> torch.Size([64]) cuda:0\n",
      "<class 'torch.Tensor'> torch.Size([64]) cuda:0\n",
      "<class 'torch.Tensor'> torch.Size([64]) cuda:0\n",
      "<class 'torch.Tensor'> torch.Size([64, 64, 3, 3]) cuda:0\n",
      "<class 'torch.Tensor'> torch.Size([64]) cuda:0\n",
      "<class 'torch.Tensor'> torch.Size([64]) cuda:0\n",
      "<class 'torch.Tensor'> torch.Size([64]) cuda:0\n",
      "<class 'torch.Tensor'> torch.Size([64, 64, 3, 3]) cuda:0\n",
      "<class 'torch.Tensor'> torch.Size([64]) cuda:0\n",
      "<class 'torch.Tensor'> torch.Size([64]) cuda:0\n",
      "<class 'torch.Tensor'> torch.Size([64]) cuda:0\n",
      "<class 'torch.Tensor'> torch.Size([64, 64, 3, 3]) cuda:0\n",
      "<class 'torch.Tensor'> torch.Size([64]) cuda:0\n",
      "<class 'torch.Tensor'> torch.Size([64]) cuda:0\n",
      "<class 'torch.Tensor'> torch.Size([64]) cuda:0\n",
      "<class 'torch.Tensor'> torch.Size([2048, 2048]) cuda:0\n",
      "<class 'torch.Tensor'> torch.Size([2048]) cuda:0\n",
      "<class 'torch.Tensor'> torch.Size([2048, 2048]) cuda:0\n",
      "<class 'torch.Tensor'> torch.Size([2048]) cuda:0\n",
      "<class 'torch.Tensor'> torch.Size([1, 2048]) cuda:0\n",
      "<class 'torch.Tensor'> torch.Size([1]) cuda:0\n",
      "<class 'torch.Tensor'> torch.Size([1024, 4096]) cuda:0\n",
      "<class 'torch.Tensor'> torch.Size([1024]) cuda:0\n",
      "<class 'torch.Tensor'> torch.Size([1024, 128]) cuda:0\n",
      "<class 'torch.Tensor'> torch.Size([1024]) cuda:0\n",
      "<class 'torch.Tensor'> torch.Size([512, 14, 8, 8]) cuda:0\n",
      "<class 'torch.Tensor'> torch.Size([512, 128]) cuda:0\n",
      "<class 'torch.Tensor'> torch.Size([1000, 14, 8, 8]) cuda:0\n",
      "<class 'torch.Tensor'> torch.Size([1000, 14, 8, 8]) cuda:0\n",
      "<class 'torch.Tensor'> torch.Size([1000, 64, 8, 8]) cuda:0\n",
      "<class 'torch.Tensor'> torch.Size([1000, 64, 8, 8]) cuda:0\n",
      "<class 'torch.Tensor'> torch.Size([1000, 64, 8, 8]) cuda:0\n",
      "<class 'torch.Tensor'> torch.Size([1000, 64, 8, 8]) cuda:0\n",
      "<class 'torch.Tensor'> torch.Size([1000, 64, 8, 8]) cuda:0\n",
      "<class 'torch.Tensor'> torch.Size([1000, 64, 8, 8]) cuda:0\n",
      "<class 'torch.Tensor'> torch.Size([1000, 64, 8, 8]) cuda:0\n",
      "<class 'torch.Tensor'> torch.Size([1000, 64, 8, 8]) cuda:0\n",
      "<class 'torch.Tensor'> torch.Size([1000, 64, 8, 8]) cuda:0\n",
      "<class 'torch.Tensor'> torch.Size([1000, 64, 8, 8]) cuda:0\n",
      "<class 'torch.Tensor'> torch.Size([1000, 64, 8, 8]) cuda:0\n",
      "<class 'torch.Tensor'> torch.Size([1000, 64, 8, 8]) cuda:0\n",
      "<class 'torch.Tensor'> torch.Size([1000, 64, 8, 8]) cuda:0\n",
      "<class 'torch.Tensor'> torch.Size([1000, 64, 8, 8]) cuda:0\n",
      "<class 'torch.Tensor'> torch.Size([1000, 64, 8, 8]) cuda:0\n",
      "<class 'torch.Tensor'> torch.Size([1000, 64, 8, 8]) cuda:0\n",
      "<class 'torch.Tensor'> torch.Size([1000, 64, 8, 8]) cuda:0\n",
      "<class 'torch.Tensor'> torch.Size([1000, 64, 8, 8]) cuda:0\n",
      "<class 'torch.Tensor'> torch.Size([1000, 64, 8, 8]) cuda:0\n",
      "<class 'torch.Tensor'> torch.Size([1000, 64, 8, 8]) cuda:0\n",
      "<class 'torch.Tensor'> torch.Size([1000, 64, 8, 8]) cuda:0\n",
      "<class 'torch.Tensor'> torch.Size([1000, 64, 8, 8]) cuda:0\n",
      "<class 'torch.Tensor'> torch.Size([1000, 64, 8, 8]) cuda:0\n",
      "<class 'torch.Tensor'> torch.Size([1000, 64, 8, 8]) cuda:0\n",
      "<class 'torch.Tensor'> torch.Size([1000, 64, 8, 8]) cuda:0\n",
      "<class 'torch.Tensor'> torch.Size([1000, 4096]) cuda:0\n",
      "<class 'torch.Tensor'> torch.Size([1000, 1024]) cuda:0\n",
      "<class 'torch.Tensor'> torch.Size([1000, 1024]) cuda:0\n",
      "<class 'torch.Tensor'> torch.Size([1000, 1024]) cuda:0\n",
      "<class 'torch.Tensor'> torch.Size([1000, 1024]) cuda:0\n",
      "<class 'torch.Tensor'> torch.Size([1000, 128]) cuda:0\n",
      "<class 'torch.Tensor'> torch.Size([1000, 64, 8, 8]) cuda:0\n",
      "<class 'torch.Tensor'> torch.Size([1000, 64, 8, 8]) cuda:0\n",
      "<class 'torch.Tensor'> torch.Size([1000, 64, 8, 8]) cuda:0\n",
      "<class 'torch.Tensor'> torch.Size([1000, 64, 8, 8]) cuda:0\n",
      "<class 'torch.Tensor'> torch.Size([1000, 64, 8, 8]) cuda:0\n",
      "<class 'torch.Tensor'> torch.Size([1000, 64, 8, 8]) cuda:0\n",
      "<class 'torch.Tensor'> torch.Size([1000, 64, 8, 8]) cuda:0\n",
      "<class 'torch.Tensor'> torch.Size([1000, 64, 8, 8]) cuda:0\n",
      "<class 'torch.Tensor'> torch.Size([1000, 64, 8, 8]) cuda:0\n",
      "<class 'torch.Tensor'> torch.Size([1000, 64, 8, 8]) cuda:0\n",
      "<class 'torch.Tensor'> torch.Size([1000, 64, 8, 8]) cuda:0\n",
      "<class 'torch.Tensor'> torch.Size([1000, 64, 8, 8]) cuda:0\n",
      "<class 'torch.Tensor'> torch.Size([1000, 64, 8, 8]) cuda:0\n",
      "<class 'torch.Tensor'> torch.Size([1000, 64, 8, 8]) cuda:0\n",
      "<class 'torch.Tensor'> torch.Size([1000, 64, 8, 8]) cuda:0\n",
      "<class 'torch.Tensor'> torch.Size([1000, 64, 8, 8]) cuda:0\n",
      "<class 'torch.Tensor'> torch.Size([1000, 64, 8, 8]) cuda:0\n",
      "<class 'torch.Tensor'> torch.Size([1000, 64, 8, 8]) cuda:0\n",
      "<class 'torch.Tensor'> torch.Size([1000, 64, 8, 8]) cuda:0\n",
      "<class 'torch.Tensor'> torch.Size([1000, 64, 8, 8]) cuda:0\n",
      "<class 'torch.Tensor'> torch.Size([1000, 64, 8, 8]) cuda:0\n",
      "<class 'torch.Tensor'> torch.Size([1000, 64, 8, 8]) cuda:0\n",
      "<class 'torch.Tensor'> torch.Size([1000, 64, 8, 8]) cuda:0\n",
      "<class 'torch.Tensor'> torch.Size([1000, 64, 8, 8]) cuda:0\n",
      "<class 'torch.Tensor'> torch.Size([1000, 64, 8, 8]) cuda:0\n",
      "<class 'torch.Tensor'> torch.Size([1000, 4096]) cuda:0\n",
      "<class 'torch.Tensor'> torch.Size([1000, 1024]) cuda:0\n",
      "<class 'torch.Tensor'> torch.Size([1000, 1024]) cuda:0\n",
      "<class 'torch.Tensor'> torch.Size([1000, 2048]) cuda:0\n",
      "<class 'torch.Tensor'> torch.Size([1000, 2048]) cuda:0\n",
      "<class 'torch.Tensor'> torch.Size([1000, 2048]) cuda:0\n",
      "<class 'torch.Tensor'> torch.Size([1000, 2048]) cuda:0\n",
      "<class 'torch.Tensor'> torch.Size([1000, 2048]) cuda:0\n",
      "<class 'torch.Tensor'> torch.Size([]) cuda:0\n",
      "<class 'torch.nn.parameter.Parameter'> torch.Size([64, 14, 3, 3]) cuda:0\n",
      "<class 'torch.nn.parameter.Parameter'> torch.Size([64]) cuda:0\n",
      "<class 'torch.nn.parameter.Parameter'> torch.Size([64, 64, 3, 3]) cuda:0\n",
      "<class 'torch.nn.parameter.Parameter'> torch.Size([64]) cuda:0\n",
      "<class 'torch.nn.parameter.Parameter'> torch.Size([64]) cuda:0\n",
      "<class 'torch.nn.parameter.Parameter'> torch.Size([64]) cuda:0\n",
      "<class 'torch.Tensor'> torch.Size([64]) cuda:0\n",
      "<class 'torch.Tensor'> torch.Size([64]) cuda:0\n",
      "<class 'torch.Tensor'> torch.Size([]) cuda:0\n",
      "<class 'torch.nn.parameter.Parameter'> torch.Size([64, 64, 3, 3]) cuda:0\n",
      "<class 'torch.nn.parameter.Parameter'> torch.Size([64]) cuda:0\n",
      "<class 'torch.nn.parameter.Parameter'> torch.Size([64]) cuda:0\n",
      "<class 'torch.nn.parameter.Parameter'> torch.Size([64]) cuda:0\n",
      "<class 'torch.Tensor'> torch.Size([64]) cuda:0\n",
      "<class 'torch.Tensor'> torch.Size([64]) cuda:0\n",
      "<class 'torch.Tensor'> torch.Size([]) cuda:0\n",
      "<class 'torch.nn.parameter.Parameter'> torch.Size([64, 64, 3, 3]) cuda:0\n",
      "<class 'torch.nn.parameter.Parameter'> torch.Size([64]) cuda:0\n",
      "<class 'torch.nn.parameter.Parameter'> torch.Size([64]) cuda:0\n",
      "<class 'torch.nn.parameter.Parameter'> torch.Size([64]) cuda:0\n",
      "<class 'torch.Tensor'> torch.Size([64]) cuda:0\n",
      "<class 'torch.Tensor'> torch.Size([64]) cuda:0\n",
      "<class 'torch.Tensor'> torch.Size([]) cuda:0\n",
      "<class 'torch.nn.parameter.Parameter'> torch.Size([64, 64, 3, 3]) cuda:0\n",
      "<class 'torch.nn.parameter.Parameter'> torch.Size([64]) cuda:0\n",
      "<class 'torch.nn.parameter.Parameter'> torch.Size([64]) cuda:0\n",
      "<class 'torch.nn.parameter.Parameter'> torch.Size([64]) cuda:0\n",
      "<class 'torch.Tensor'> torch.Size([64]) cuda:0\n",
      "<class 'torch.Tensor'> torch.Size([64]) cuda:0\n",
      "<class 'torch.Tensor'> torch.Size([]) cuda:0\n",
      "<class 'torch.nn.parameter.Parameter'> torch.Size([64, 64, 3, 3]) cuda:0\n",
      "<class 'torch.nn.parameter.Parameter'> torch.Size([64]) cuda:0\n",
      "<class 'torch.nn.parameter.Parameter'> torch.Size([64]) cuda:0\n",
      "<class 'torch.nn.parameter.Parameter'> torch.Size([64]) cuda:0\n",
      "<class 'torch.Tensor'> torch.Size([64]) cuda:0\n",
      "<class 'torch.Tensor'> torch.Size([64]) cuda:0\n",
      "<class 'torch.Tensor'> torch.Size([]) cuda:0\n",
      "<class 'torch.nn.parameter.Parameter'> torch.Size([64, 64, 3, 3]) cuda:0\n",
      "<class 'torch.nn.parameter.Parameter'> torch.Size([64]) cuda:0\n",
      "<class 'torch.nn.parameter.Parameter'> torch.Size([64]) cuda:0\n",
      "<class 'torch.nn.parameter.Parameter'> torch.Size([64]) cuda:0\n",
      "<class 'torch.Tensor'> torch.Size([64]) cuda:0\n",
      "<class 'torch.Tensor'> torch.Size([64]) cuda:0\n",
      "<class 'torch.Tensor'> torch.Size([]) cuda:0\n",
      "<class 'torch.nn.parameter.Parameter'> torch.Size([64, 64, 3, 3]) cuda:0\n",
      "<class 'torch.nn.parameter.Parameter'> torch.Size([64]) cuda:0\n",
      "<class 'torch.nn.parameter.Parameter'> torch.Size([64]) cuda:0\n",
      "<class 'torch.nn.parameter.Parameter'> torch.Size([64]) cuda:0\n",
      "<class 'torch.Tensor'> torch.Size([64]) cuda:0\n",
      "<class 'torch.Tensor'> torch.Size([64]) cuda:0\n",
      "<class 'torch.Tensor'> torch.Size([]) cuda:0\n",
      "<class 'torch.nn.parameter.Parameter'> torch.Size([64, 64, 3, 3]) cuda:0\n",
      "<class 'torch.nn.parameter.Parameter'> torch.Size([64]) cuda:0\n",
      "<class 'torch.nn.parameter.Parameter'> torch.Size([64]) cuda:0\n",
      "<class 'torch.nn.parameter.Parameter'> torch.Size([64]) cuda:0\n",
      "<class 'torch.Tensor'> torch.Size([64]) cuda:0\n",
      "<class 'torch.Tensor'> torch.Size([64]) cuda:0\n",
      "<class 'torch.Tensor'> torch.Size([]) cuda:0\n",
      "<class 'torch.nn.parameter.Parameter'> torch.Size([64, 64, 3, 3]) cuda:0\n",
      "<class 'torch.nn.parameter.Parameter'> torch.Size([64]) cuda:0\n",
      "<class 'torch.nn.parameter.Parameter'> torch.Size([64]) cuda:0\n",
      "<class 'torch.nn.parameter.Parameter'> torch.Size([64]) cuda:0\n",
      "<class 'torch.Tensor'> torch.Size([64]) cuda:0\n",
      "<class 'torch.Tensor'> torch.Size([64]) cuda:0\n",
      "<class 'torch.Tensor'> torch.Size([]) cuda:0\n",
      "<class 'torch.nn.parameter.Parameter'> torch.Size([64, 64, 3, 3]) cuda:0\n",
      "<class 'torch.nn.parameter.Parameter'> torch.Size([64]) cuda:0\n",
      "<class 'torch.nn.parameter.Parameter'> torch.Size([64]) cuda:0\n",
      "<class 'torch.nn.parameter.Parameter'> torch.Size([64]) cuda:0\n",
      "<class 'torch.Tensor'> torch.Size([64]) cuda:0\n",
      "<class 'torch.Tensor'> torch.Size([64]) cuda:0\n",
      "<class 'torch.Tensor'> torch.Size([]) cuda:0\n",
      "<class 'torch.nn.parameter.Parameter'> torch.Size([64, 64, 3, 3]) cuda:0\n",
      "<class 'torch.nn.parameter.Parameter'> torch.Size([64]) cuda:0\n",
      "<class 'torch.nn.parameter.Parameter'> torch.Size([64]) cuda:0\n",
      "<class 'torch.nn.parameter.Parameter'> torch.Size([64]) cuda:0\n",
      "<class 'torch.Tensor'> torch.Size([64]) cuda:0\n",
      "<class 'torch.Tensor'> torch.Size([64]) cuda:0\n",
      "<class 'torch.Tensor'> torch.Size([]) cuda:0\n",
      "<class 'torch.nn.parameter.Parameter'> torch.Size([64, 64, 3, 3]) cuda:0\n",
      "<class 'torch.nn.parameter.Parameter'> torch.Size([64]) cuda:0\n",
      "<class 'torch.nn.parameter.Parameter'> torch.Size([64]) cuda:0\n",
      "<class 'torch.nn.parameter.Parameter'> torch.Size([64]) cuda:0\n",
      "<class 'torch.Tensor'> torch.Size([64]) cuda:0\n",
      "<class 'torch.Tensor'> torch.Size([64]) cuda:0\n",
      "<class 'torch.Tensor'> torch.Size([]) cuda:0\n",
      "<class 'torch.nn.parameter.Parameter'> torch.Size([1024, 4096]) cuda:0\n",
      "<class 'torch.nn.parameter.Parameter'> torch.Size([1024]) cuda:0\n",
      "<class 'torch.nn.parameter.Parameter'> torch.Size([1024, 1024]) cuda:0\n",
      "<class 'torch.nn.parameter.Parameter'> torch.Size([1024]) cuda:0\n",
      "<class 'torch.nn.parameter.Parameter'> torch.Size([128, 1024]) cuda:0\n",
      "<class 'torch.nn.parameter.Parameter'> torch.Size([128]) cuda:0\n"
     ]
    }
   ],
   "source": [
    "clear_cuda()"
   ],
   "metadata": {
    "collapsed": false,
    "ExecuteTime": {
     "end_time": "2024-04-04T03:38:48.069882Z",
     "start_time": "2024-04-04T03:38:44.597210Z"
    }
   },
   "id": "e99e721a3307a923",
   "execution_count": 73
  },
  {
   "cell_type": "code",
   "outputs": [],
   "source": [
    "del RSv1"
   ],
   "metadata": {
    "collapsed": false,
    "ExecuteTime": {
     "end_time": "2024-04-04T21:32:54.614051Z",
     "start_time": "2024-04-04T21:32:54.603051Z"
    }
   },
   "id": "4e0029868663dd9c",
   "execution_count": 33
  },
  {
   "cell_type": "code",
   "outputs": [
    {
     "ename": "NameError",
     "evalue": "name 'loader' is not defined",
     "output_type": "error",
     "traceback": [
      "\u001B[1;31m---------------------------------------------------------------------------\u001B[0m",
      "\u001B[1;31mNameError\u001B[0m                                 Traceback (most recent call last)",
      "Input \u001B[1;32mIn [70]\u001B[0m, in \u001B[0;36m<cell line: 1>\u001B[1;34m()\u001B[0m\n\u001B[1;32m----> 1\u001B[0m \u001B[38;5;28;01mdel\u001B[39;00m loader\n",
      "\u001B[1;31mNameError\u001B[0m: name 'loader' is not defined"
     ]
    }
   ],
   "source": [
    "del loader"
   ],
   "metadata": {
    "collapsed": false,
    "ExecuteTime": {
     "end_time": "2024-04-04T03:38:28.684011Z",
     "start_time": "2024-04-04T03:38:28.667496Z"
    }
   },
   "id": "620dd96bb49cfb95",
   "execution_count": 70
  },
  {
   "cell_type": "code",
   "outputs": [
    {
     "name": "stdout",
     "output_type": "stream",
     "text": [
      "cuda\n"
     ]
    }
   ],
   "source": [
    "RSv1 = GAN_1(g_conv_depth=6, d_conv_depth=6, lr=0.0002, pre_trained_g=RDv2).to(device)"
   ],
   "metadata": {
    "ExecuteTime": {
     "end_time": "2024-04-04T21:32:58.382959Z",
     "start_time": "2024-04-04T21:32:58.369959Z"
    }
   },
   "id": "6b0cc09a",
   "execution_count": 34
  },
  {
   "cell_type": "code",
   "outputs": [
    {
     "name": "stderr",
     "output_type": "stream",
     "text": [
      "100%|██████████| 500000/500000 [00:00<00:00, 849631.06it/s]\n",
      "100%|██████████| 5000/5000 [00:00<00:00, 714264.50it/s]\n"
     ]
    }
   ],
   "source": [
    "loader, val_data = RSv1.create_dataloader(boards, meta, moves, B = 512, N=500_000, N_val=5_000) # try B = 128\n",
    "G = len(loader)"
   ],
   "metadata": {
    "collapsed": false,
    "ExecuteTime": {
     "end_time": "2024-04-04T21:20:42.496915Z",
     "start_time": "2024-04-04T21:20:40.553381Z"
    }
   },
   "id": "813dd34e6b3493d9",
   "execution_count": 15
  },
  {
   "cell_type": "code",
   "outputs": [],
   "source": [
    "del RSv1.discriminator\n",
    "\n",
    "RSv1.discriminator = discriminator_1(conv_depth=4)\n",
    "RSv1.configure_optimizers(0.001)"
   ],
   "metadata": {
    "collapsed": false,
    "ExecuteTime": {
     "end_time": "2024-04-02T04:39:55.040593Z",
     "start_time": "2024-04-02T04:39:55.018509Z"
    }
   },
   "id": "ae05e0141e2312f6",
   "execution_count": 80
  },
  {
   "cell_type": "code",
   "outputs": [],
   "source": [
    "del RSv1.generator\n",
    "\n",
    "RSv1.generator = generator_1(conv_depth=6)\n",
    "RSv1.configure_optimizers(0.001)"
   ],
   "metadata": {
    "collapsed": false,
    "ExecuteTime": {
     "end_time": "2024-04-02T04:53:58.041573Z",
     "start_time": "2024-04-02T04:53:58.017654Z"
    }
   },
   "id": "4422e84a0c20287d",
   "execution_count": 84
  },
  {
   "cell_type": "code",
   "outputs": [],
   "source": [
    "train_discriminator = True\n",
    "train_all = False"
   ],
   "metadata": {
    "collapsed": false,
    "ExecuteTime": {
     "end_time": "2024-04-04T21:20:52.908304Z",
     "start_time": "2024-04-04T21:20:52.902304Z"
    }
   },
   "id": "2eb6651643a9eb0b",
   "execution_count": 16
  },
  {
   "cell_type": "code",
   "outputs": [
    {
     "name": "stderr",
     "output_type": "stream",
     "text": [
      "  0%|          | 0/977 [00:00<?, ?it/s]C:\\Users\\osama\\AppData\\Local\\Temp\\ipykernel_3068\\2571930676.py:69: UserWarning: Implicit dimension choice for softmax has been deprecated. Change the call to include dim=X as an argument.\n",
      "  fake_moves = F.softmax(fake_moves[0], dim=1), F.softmax(fake_moves[1])\n",
      "100%|██████████| 977/977 [00:42<00:00, 23.24it/s]\n",
      "C:\\Users\\osama\\AppData\\Local\\Temp\\ipykernel_3068\\2571930676.py:119: UserWarning: Implicit dimension choice for softmax has been deprecated. Change the call to include dim=X as an argument.\n",
      "  fake_moves = F.softmax(fake_moves[0], dim=1), F.softmax(fake_moves[1])\n"
     ]
    },
    {
     "name": "stdout",
     "output_type": "stream",
     "text": [
      "Epoch 1 with g_loss: 0.0 and d_loss: 0.2405167545939111\n",
      "Epoch: 1, g_acc=0.01949687480926514, d_acc_f=0.985799999833107, d_acc_r=1.0\n",
      "d_dist_f=0.016812589168548584, d_dist_r=0.0003224104270339012\n"
     ]
    }
   ],
   "source": [
    "for epoch in range(0,50):\n",
    "\n",
    "    reps = 0\n",
    "\n",
    "    if train_all or train_discriminator:\n",
    "\n",
    "        while RSv1.logs['d_acc_f'][-1] < 0.5:\n",
    "            reps += 1\n",
    "            if reps > 5:\n",
    "                train_all = False\n",
    "                train_discriminator = False\n",
    "                break\n",
    "            for bitboards, mvs in tqdm(loader):\n",
    "\n",
    "                RSv1.train_step(bitboards, mvs, train_generator=False)\n",
    "\n",
    "\n",
    "            RSv1.on_epoch_end(epoch, G, val_data)\n",
    "\n",
    "    reps = 0\n",
    "    if train_all or not train_discriminator:\n",
    "\n",
    "        while RSv1.logs['d_acc_f'][-1] > 0.5:\n",
    "            reps += 1\n",
    "            if reps > 12:\n",
    "                train_all = False\n",
    "                train_discriminator = True\n",
    "                break\n",
    "\n",
    "            #i=0\n",
    "            for bitboards, mvs in tqdm(loader):\n",
    "\n",
    "               # if i > G // 8:\n",
    "                #    break\n",
    "\n",
    "                RSv1.train_step(bitboards, mvs, train_generator=True)\n",
    "                #i += 1\n",
    "\n",
    "            RSv1.on_epoch_end(epoch, G, val_data)"
   ],
   "metadata": {
    "collapsed": false,
    "ExecuteTime": {
     "end_time": "2024-04-04T21:33:45.028174Z",
     "start_time": "2024-04-04T21:33:02.575906Z"
    }
   },
   "id": "68ecb55a7a2f10f5",
   "execution_count": 35
  },
  {
   "cell_type": "code",
   "outputs": [],
   "source": [
    "val_boards = val_data.bitboards\n",
    "real_moves = val_data.moves\n",
    "\n",
    "minn, ila = RDv2(val_boards)\n",
    "fake_from_moves = torch.argmax(minn, dim=1).detach().cpu().numpy()\n",
    "fake_to_moves = torch.argmax(ila, dim=1).detach().cpu().numpy()\n",
    "real_from_moves = torch.argmax(real_moves[:,0].view(-1,64), dim=1)\n",
    "real_to_moves = torch.argmax(real_moves[:,1].view(-1,64), dim=1)"
   ],
   "metadata": {
    "collapsed": false,
    "ExecuteTime": {
     "end_time": "2024-04-04T21:56:27.427328Z",
     "start_time": "2024-04-04T21:56:25.481906Z"
    }
   },
   "id": "16b09e78fe015185",
   "execution_count": 73
  },
  {
   "cell_type": "code",
   "outputs": [
    {
     "name": "stdout",
     "output_type": "stream",
     "text": [
      "0.4004\n"
     ]
    }
   ],
   "source": [
    "count = 0\n",
    "for i in range(len(fake_from_moves)):\n",
    "    if fake_from_moves[i] == real_from_moves[i] and fake_to_moves[i] == real_to_moves[i]:\n",
    "        count += 1\n",
    "\n",
    "count /= len(fake_from_moves)\n",
    "print(count)"
   ],
   "metadata": {
    "collapsed": false,
    "ExecuteTime": {
     "end_time": "2024-04-04T21:58:05.491477Z",
     "start_time": "2024-04-04T21:58:04.594020Z"
    }
   },
   "id": "8b3a36861f661a8f",
   "execution_count": 78
  },
  {
   "cell_type": "code",
   "outputs": [],
   "source": [
    "old_generator = torch.load(\"generator 5.pt\")\n",
    "#old_discriminator = torch.load(\"discriminator 15.pt\")\n"
   ],
   "metadata": {
    "collapsed": false,
    "ExecuteTime": {
     "end_time": "2024-04-04T13:01:42.060076Z",
     "start_time": "2024-04-04T13:01:42.004496Z"
    }
   },
   "id": "2aa444e6c058731b",
   "execution_count": 30
  },
  {
   "cell_type": "code",
   "outputs": [
    {
     "name": "stderr",
     "output_type": "stream",
     "text": [
      "100%|██████████| 50/50 [00:33<00:00,  1.51it/s]\n",
      "100%|██████████| 50/50 [00:33<00:00,  1.50it/s]\n"
     ]
    },
    {
     "data": {
      "text/plain": "(97, 0, 3, 0.97)"
     },
     "execution_count": 15,
     "metadata": {},
     "output_type": "execute_result"
    }
   ],
   "source": [
    "test_against(lambda x: network_agent_prob_conv(x, RDv2), generator_model, N=100)"
   ],
   "metadata": {
    "ExecuteTime": {
     "end_time": "2024-04-04T12:55:42.604469Z",
     "start_time": "2024-04-04T12:54:36.146616Z"
    }
   },
   "id": "aa4d829c",
   "execution_count": 15
  },
  {
   "cell_type": "code",
   "outputs": [],
   "source": [
    "generator_model = lambda x: network_agent_prob_conv(x, lambda y: old_generator(y).reshape(-1,128))"
   ],
   "metadata": {
    "collapsed": false,
    "ExecuteTime": {
     "end_time": "2024-04-04T12:54:26.641737Z",
     "start_time": "2024-04-04T12:54:26.636735Z"
    }
   },
   "id": "30a042950898223c",
   "execution_count": 14
  },
  {
   "cell_type": "code",
   "outputs": [
    {
     "data": {
      "text/plain": "7274496"
     },
     "execution_count": 15,
     "metadata": {},
     "output_type": "execute_result"
    }
   ],
   "source": [
    "torch.cuda.memory_allocated() "
   ],
   "metadata": {
    "collapsed": false,
    "ExecuteTime": {
     "end_time": "2024-03-27T05:01:28.670133Z",
     "start_time": "2024-03-27T05:01:28.649203Z"
    }
   },
   "id": "9f9494059602bcb1",
   "execution_count": 15
  }
 ],
 "metadata": {
  "kernelspec": {
   "display_name": "Python 3 (ipykernel)",
   "language": "python",
   "name": "python3"
  },
  "language_info": {
   "codemirror_mode": {
    "name": "ipython",
    "version": 3
   },
   "file_extension": ".py",
   "mimetype": "text/x-python",
   "name": "python",
   "nbconvert_exporter": "python",
   "pygments_lexer": "ipython3",
   "version": "3.10.12"
  }
 },
 "nbformat": 4,
 "nbformat_minor": 5
}
