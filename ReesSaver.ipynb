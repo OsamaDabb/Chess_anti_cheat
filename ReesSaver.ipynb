{
 "cells": [
  {
   "cell_type": "markdown",
   "id": "9d9bd546",
   "metadata": {},
   "source": [
    "# ReesSaver Discriminator Agent"
   ]
  },
  {
   "cell_type": "markdown",
   "id": "435d5507",
   "metadata": {},
   "source": [
    "## Notes:\n",
    "- Roughly 90% of our boards are unique\n",
    "- Every time you call generate_data it gets new games/games in a different order?"
   ]
  },
  {
   "cell_type": "code",
   "execution_count": 1,
   "id": "df45d77a",
   "metadata": {
    "ExecuteTime": {
     "end_time": "2024-04-02T01:32:31.683681Z",
     "start_time": "2024-04-02T01:32:27.884995Z"
    }
   },
   "outputs": [
    {
     "name": "stderr",
     "output_type": "stream",
     "text": [
      "C:\\Users\\osama\\anaconda3\\lib\\site-packages\\torch\\__init__.py:690: UserWarning: torch.set_default_tensor_type() is deprecated as of PyTorch 2.1, please use torch.set_default_dtype() and torch.set_default_device() as alternatives. (Triggered internally at C:\\actions-runner\\_work\\pytorch\\pytorch\\builder\\windows\\pytorch\\torch\\csrc\\tensor\\python_tensor.cpp:453.)\n",
      "  _C._set_default_tensor_type(t)\n"
     ]
    }
   ],
   "source": [
    "import chess\n",
    "\n",
    "import chess.svg\n",
    "import cv2\n",
    "from IPython.display import display, SVG\n",
    "\n",
    "import numpy as np\n",
    "import random\n",
    "from tqdm import tqdm\n",
    "from importlib import reload\n",
    "import gc\n",
    "\n",
    "import torch\n",
    "import torch.nn as nn\n",
    "import torch.nn.functional as F\n",
    "import torch.optim as optim\n",
    "from torch.utils.data import DataLoader, Dataset\n",
    "\n",
    "import utils\n",
    "reload(utils)\n",
    "import utils\n",
    "\n",
    "\n",
    "from sklearn.model_selection import train_test_split"
   ]
  },
  {
   "cell_type": "code",
   "execution_count": 2,
   "id": "b917432f",
   "metadata": {
    "ExecuteTime": {
     "end_time": "2024-04-02T01:32:31.698630Z",
     "start_time": "2024-04-02T01:32:31.684675Z"
    }
   },
   "outputs": [
    {
     "name": "stdout",
     "output_type": "stream",
     "text": [
      "True\n"
     ]
    }
   ],
   "source": [
    "if torch.cuda.is_available():\n",
    "    # Set default tensor type to CUDA tensors\n",
    "    torch.set_default_tensor_type(torch.cuda.FloatTensor)\n",
    "    \n",
    "else:\n",
    "    \n",
    "    torch.set_default_tensor_type(torch.FloatTensor)\n",
    " \n",
    "print(torch.cuda.is_available())\n",
    "device = torch.device('cuda' if torch.cuda.is_available() else 'cpu')\n",
    "\n",
    "made_loader = False"
   ]
  },
  {
   "cell_type": "code",
   "outputs": [],
   "source": [
    "def clear_cuda():\n",
    "    \n",
    "    input()\n",
    "    \n",
    "    for obj in gc.get_objects():\n",
    "        if torch.is_tensor(obj):\n",
    "            if obj.is_cuda:\n",
    "                print(type(obj), obj.size(), obj.device)\n",
    "                del obj\n",
    "    torch.cuda.empty_cache()\n",
    "    gc.collect()"
   ],
   "metadata": {
    "collapsed": false,
    "ExecuteTime": {
     "end_time": "2024-04-02T01:33:10.589803Z",
     "start_time": "2024-04-02T01:33:10.584820Z"
    }
   },
   "id": "5e426489c167da5c",
   "execution_count": 3
  },
  {
   "cell_type": "code",
   "outputs": [
    {
     "name": "stdout",
     "output_type": "stream",
     "text": [
      "<class 'torch.Tensor'> torch.Size([64]) cuda:0\n"
     ]
    },
    {
     "name": "stderr",
     "output_type": "stream",
     "text": [
      "C:\\Users\\osama\\anaconda3\\lib\\site-packages\\torch\\distributed\\distributed_c10d.py:359: UserWarning: torch.distributed.reduce_op is deprecated, please use torch.distributed.ReduceOp instead\n",
      "  warnings.warn(\n"
     ]
    }
   ],
   "source": [
    "clear_cuda()"
   ],
   "metadata": {
    "collapsed": false,
    "ExecuteTime": {
     "end_time": "2024-04-02T01:33:12.996461Z",
     "start_time": "2024-04-02T01:33:11.736641Z"
    }
   },
   "id": "24b4c10246dd3c83",
   "execution_count": 4
  },
  {
   "cell_type": "code",
   "outputs": [],
   "source": [
    "from utils.Datasets import *\n",
    "\n",
    "import utils.Dataloading\n",
    "reload(utils.Dataloading)\n",
    "from utils.Dataloading import *\n",
    "from utils.Game_playing import *\n",
    "\n",
    "import utils.Playing_agents\n",
    "reload(utils.Playing_agents)\n",
    "from utils.Playing_agents import *\n",
    "\n",
    "from utils.CSV_data import *\n",
    "from utils.Puzzles import *"
   ],
   "metadata": {
    "ExecuteTime": {
     "end_time": "2024-04-02T02:51:37.815856Z",
     "start_time": "2024-04-02T02:51:37.796919Z"
    }
   },
   "id": "aced8f27",
   "execution_count": 32
  },
  {
   "cell_type": "code",
   "outputs": [],
   "source": [
    "class MLPv2_1(nn.Module):\n",
    "\n",
    "    def __init__(self):\n",
    "\n",
    "        super().__init__()\n",
    "        self.conv1 = nn.Conv2d(14, 64, 3, 1, padding=1, padding_mode = 'zeros')\n",
    "\n",
    "        self.layers = nn.ModuleList()\n",
    "\n",
    "        self.depth = 6\n",
    "\n",
    "        for _ in range(self.depth):\n",
    "            self.layers.append(nn.Conv2d(64,64, 3, 1, padding=1, padding_mode = 'zeros'))\n",
    "            self.layers.append(nn.BatchNorm2d(64))\n",
    "            self.layers.append(nn.Conv2d(64,64, 3, 1, padding=1, padding_mode = 'zeros'))\n",
    "            self.layers.append(nn.BatchNorm2d(64))\n",
    "\n",
    "        self.linear = nn.Linear(4096, 128)\n",
    "\n",
    "    def forward(self, x):\n",
    "\n",
    "        x = self.conv1(x)\n",
    "\n",
    "        for i in range(self.depth):\n",
    "            j = i*4\n",
    "            ph = x.clone()\n",
    "            ph = self.layers[j](ph)\n",
    "            ph = self.layers[j+1](ph)\n",
    "            ph = F.relu(ph)\n",
    "            ph = self.layers[j+2](ph)\n",
    "            ph = self.layers[j+3](ph)\n",
    "\n",
    "            x = x + ph\n",
    "            x = F.relu(x)\n",
    "\n",
    "\n",
    "        x = torch.flatten(x, start_dim=1)\n",
    "\n",
    "        x = self.linear(x)\n",
    "\n",
    "        minn, ila = x[:,:64], x[:,64:]\n",
    "\n",
    "        return minn, ila"
   ],
   "metadata": {
    "collapsed": false,
    "ExecuteTime": {
     "end_time": "2024-04-02T02:54:31.767134Z",
     "start_time": "2024-04-02T02:54:31.746204Z"
    }
   },
   "id": "2e17ab646265886d",
   "execution_count": 34
  },
  {
   "cell_type": "code",
   "outputs": [],
   "source": [
    "RDv2 = torch.load(\"Models/RDv2.3 CB.pt\", map_location= device)"
   ],
   "metadata": {
    "collapsed": false,
    "ExecuteTime": {
     "end_time": "2024-04-02T02:54:33.069636Z",
     "start_time": "2024-04-02T02:54:33.011743Z"
    }
   },
   "id": "34154737e9a1cf50",
   "execution_count": 35
  },
  {
   "cell_type": "code",
   "outputs": [
    {
     "name": "stderr",
     "output_type": "stream",
     "text": [
      "0it [00:00, ?it/s]\n",
      "100%|██████████| 40000/40000 [18:08<00:00, 36.74it/s]  \n"
     ]
    }
   ],
   "source": [
    "boards, meta, elo, moves, _, _, fens = generate_data(\"./Data/GAN_human_data.pgn\", N = 40_000)\n",
    "elo = [int(x) for x in elo]"
   ],
   "metadata": {
    "ExecuteTime": {
     "end_time": "2024-04-02T01:52:57.484Z",
     "start_time": "2024-04-02T01:33:25.036906Z"
    }
   },
   "id": "4d02f81d",
   "execution_count": 6
  },
  {
   "cell_type": "code",
   "outputs": [],
   "source": [
    "class generator_1(nn.Module):\n",
    "\n",
    "    def __init__(self, conv_depth, hidden_size, hidden_depth):\n",
    "\n",
    "        super().__init__()\n",
    "        self.conv1 = nn.Conv2d(14, 64, 3, 1, padding=1, padding_mode = 'zeros')\n",
    "        \n",
    "        self.conv_layers = nn.ModuleList()\n",
    "        self.hidden_layers = nn.ModuleList()\n",
    "        \n",
    "        self.conv_depth = conv_depth\n",
    "        self.hidden_depth = hidden_depth\n",
    "        self.hidden_size = hidden_size\n",
    "        \n",
    "        for _ in range(self.conv_depth):\n",
    "            self.conv_layers.append(nn.Conv2d(64,64, 3, 1, padding=1, padding_mode = 'zeros'))\n",
    "            self.conv_layers.append(nn.BatchNorm2d(64))\n",
    "            self.conv_layers.append(nn.Conv2d(64,64, 3, 1, padding=1, padding_mode = 'zeros'))\n",
    "            self.conv_layers.append(nn.BatchNorm2d(64))\n",
    "\n",
    "        self.hidden_layers.append(nn.Linear(4096, hidden_size))\n",
    "        \n",
    "        for _ in range(self.hidden_depth - 2):\n",
    "\n",
    "            self.hidden_layers.append(nn.Linear(hidden_size, hidden_size))\n",
    "\n",
    "        self.hidden_layers.append(nn.Linear(hidden_size, 128))\n",
    "\n",
    "    def forward(self, x):\n",
    "\n",
    "        x = self.conv1(x)\n",
    "        \n",
    "        for i in range(self.conv_depth):\n",
    "            j = i*4\n",
    "            ph = x.clone()\n",
    "            ph = self.conv_layers[j](ph)\n",
    "            ph = self.conv_layers[j+1](ph)\n",
    "            ph = F.relu(ph)\n",
    "            ph = self.conv_layers[j+2](ph)\n",
    "            ph = self.conv_layers[j+3](ph)\n",
    "            \n",
    "            x = x + ph\n",
    "            x = F.relu(x)   \n",
    "        \n",
    "        x = torch.flatten(x, start_dim=1)\n",
    "        \n",
    "        for i in range(self.hidden_depth - 1):\n",
    "            \n",
    "            x = self.hidden_layers[i](x)\n",
    "            x = F.leaky_relu(x)\n",
    "\n",
    "        x = self.hidden_layers[-1](x)\n",
    "        minn, ila = x[:,:64], x[:,64:]\n",
    "\n",
    "        minn = F.softmax(minn, dim=1)\n",
    "        ila = F.softmax(ila, dim=1)\n",
    "\n",
    "        return torch.cat([minn, ila], dim=1)"
   ],
   "metadata": {
    "ExecuteTime": {
     "end_time": "2024-04-02T01:52:57.559747Z",
     "start_time": "2024-04-02T01:52:57.496957Z"
    }
   },
   "id": "bab89efa",
   "execution_count": 7
  },
  {
   "cell_type": "code",
   "outputs": [],
   "source": [
    "class discriminator_1(nn.Module):\n",
    "\n",
    "    def __init__(self, conv_depth, hidden_size, hidden_depth):\n",
    "\n",
    "        super().__init__()\n",
    "        self.conv1 = nn.Conv2d(14, 64, 3, 1, padding=1, padding_mode = 'zeros')\n",
    "\n",
    "        self.conv_layers = nn.ModuleList()\n",
    "        self.hidden_layers = nn.ModuleList()\n",
    "\n",
    "        self.conv_depth = conv_depth\n",
    "        self.hidden_depth = hidden_depth\n",
    "        self.hidden_size = hidden_size\n",
    "\n",
    "        for _ in range(self.conv_depth):\n",
    "            self.conv_layers.append(nn.Conv2d(64,64, 3, 1, padding=1, padding_mode = 'zeros'))\n",
    "            self.conv_layers.append(nn.BatchNorm2d(64))\n",
    "            self.conv_layers.append(nn.Conv2d(64,64, 3, 1, padding=1, padding_mode = 'zeros'))\n",
    "            self.conv_layers.append(nn.BatchNorm2d(64))\n",
    "\n",
    "        self.hidden_layers.append(nn.Linear(4096, hidden_size))\n",
    "        \n",
    "        self.hidden_layers.append(nn.Linear(hidden_size + 128, hidden_size))\n",
    "\n",
    "        for _ in range(self.hidden_depth - 3):\n",
    "\n",
    "            self.hidden_layers.append(nn.Linear(hidden_size, hidden_size))\n",
    "\n",
    "        self.hidden_layers.append(nn.Linear(hidden_size, 1))\n",
    "    \n",
    "\n",
    "    def forward(self, board, move):\n",
    "\n",
    "        x = self.conv1(board)\n",
    "        \n",
    "        for i in range(self.conv_depth):\n",
    "            j = i*4\n",
    "            ph = x.clone()\n",
    "            ph = self.conv_layers[j](ph)\n",
    "            ph = self.conv_layers[j+1](ph)\n",
    "            ph = F.relu(ph)\n",
    "            ph = self.conv_layers[j+2](ph)\n",
    "            ph = self.conv_layers[j+3](ph)\n",
    "            \n",
    "            x = x + ph\n",
    "            x = F.relu(x)\n",
    "                  \n",
    "                  \n",
    "        x = torch.flatten(x, start_dim=1)\n",
    "\n",
    "        for i in range(self.hidden_depth - 1):\n",
    "\n",
    "            if i == 1:\n",
    "                x = torch.cat((x, move), dim=1)\n",
    "                \n",
    "            x = self.hidden_layers[i](x)\n",
    "            x = F.leaky_relu(x)\n",
    "\n",
    "        x = self.hidden_layers[-1](x)\n",
    "        x = F.sigmoid(x)\n",
    "        \n",
    "        return x"
   ],
   "metadata": {
    "ExecuteTime": {
     "end_time": "2024-04-02T02:00:39.808876Z",
     "start_time": "2024-04-02T02:00:39.794922Z"
    }
   },
   "id": "da16f337",
   "execution_count": 9
  },
  {
   "cell_type": "code",
   "outputs": [],
   "source": [
    "class GAN_1(nn.Module):\n",
    "    #AI: 0, Human: 1\n",
    "    def __init__(self, g_conv_depth, g_hidden_size, g_hidden_depth, d_conv_depth, d_hidden_size, d_hidden_depth, lr):\n",
    "        \n",
    "        super().__init__()\n",
    "        \n",
    "        print(device)\n",
    "        \n",
    "        self.generator = generator_1(g_conv_depth, g_hidden_size, g_hidden_depth)\n",
    "        self.discriminator = discriminator_1(d_conv_depth, d_hidden_size, d_hidden_depth)\n",
    "        \n",
    "        self.logs = {\"g_acc\": [], \"d_acc_r\": [], \"d_acc_f\": [], \n",
    "                     \"g_loss\": [], \"d_loss\": [], \n",
    "                     \"cur_g_loss\": 0, \"cur_d_loss\": 0}\n",
    "        \n",
    "        self.made_loader = False\n",
    "        \n",
    "        self.configure_optimizers(lr)\n",
    "        \n",
    "    def forward(self, x):\n",
    "        return self.generator(x)\n",
    "    \n",
    "    def adversarial_loss(self, y_hat, y):\n",
    "        return F.binary_cross_entropy(y_hat, y)\n",
    "    \n",
    "    def train_step(self, train_boards, real_moves, train_generator):\n",
    "        \n",
    "        #train generator\n",
    "        if train_generator:\n",
    "\n",
    "            self.opt_g.zero_grad()\n",
    "            \n",
    "            fake_moves = self(train_boards)\n",
    "                \n",
    "            y_hat = self.discriminator(train_boards, fake_moves)\n",
    "            \n",
    "            y = torch.ones(real_moves.size(0), 1).to(device)\n",
    "            \n",
    "            g_loss = self.adversarial_loss(y_hat, y)\n",
    "            self.logs[\"cur_g_loss\"] += g_loss.item()\n",
    "            \n",
    "            g_loss.backward()\n",
    "\n",
    "            self.opt_g.step()\n",
    "              \n",
    "            \n",
    "        else:\n",
    "\n",
    "            self.opt_d.zero_grad()\n",
    "            \n",
    "            y_hat_real = self.discriminator(train_boards, real_moves)\n",
    "            y_real = torch.ones(real_moves.size(0), 1).to(device)\n",
    "            \n",
    "            d_real_loss = self.adversarial_loss(y_hat_real, y_real)\n",
    "            \n",
    "            y_hat_fake = self.discriminator(train_boards, self(train_boards).detach())\n",
    "            y_fake = torch.zeros(real_moves.size(0), 1).to(device)\n",
    "            \n",
    "            d_fake_loss = self.adversarial_loss(y_hat_fake, y_fake)\n",
    "            \n",
    "            d_loss = d_real_loss + d_fake_loss\n",
    "            self.logs[\"cur_d_loss\"] += d_loss.item()\n",
    "            \n",
    "            d_loss.backward()\n",
    "\n",
    "            self.opt_d.step()\n",
    "            \n",
    "    \n",
    "    def configure_optimizers(self, lr):\n",
    "        self.lr = lr\n",
    "        self.opt_g = torch.optim.Adam(self.generator.parameters(), lr=lr, weight_decay=0.0001)\n",
    "        self.opt_d = torch.optim.Adam(self.discriminator.parameters(), lr=lr,weight_decay=0.0001)\n",
    "    \n",
    "    def on_epoch_end(self, epoch, G, val_data=None):\n",
    "        \n",
    "        self.logs[\"g_loss\"].append(self.logs[\"cur_g_loss\"] / G)\n",
    "        self.logs[\"d_loss\"].append(self.logs[\"cur_d_loss\"] / G)\n",
    "        \n",
    "        print(f'Epoch {epoch+1} with g_loss: {self.logs[\"cur_g_loss\"] / G} and d_loss: {self.logs[\"cur_d_loss\"] / G}')\n",
    "        \n",
    "        self.logs[\"cur_g_loss\"] = 0\n",
    "        self.logs[\"cur_d_loss\"] = 0\n",
    "        \n",
    "        if epoch % 1 == 0:\n",
    "            \n",
    "            if val_data is not None:\n",
    "                \n",
    "                val_boards = val_data.bitboards\n",
    "                real_moves = val_data.moves\n",
    "                \n",
    "                fake_moves = self(val_boards)\n",
    "                #fake_moves_ind = torch.argmax(fake_moves, dim=1)\n",
    "                \n",
    "                with torch.no_grad():\n",
    "                    f_pred = self.discriminator(val_boards, fake_moves)\n",
    "                    r_pred = self.discriminator(val_boards, real_moves)\n",
    "                    \n",
    "                    d_acc_f = torch.mean(torch.round(f_pred) == 0, dtype=torch.float).item()\n",
    "                    d_acc_r = torch.mean(torch.round(r_pred) == 1, dtype=torch.float).item()\n",
    "                    \n",
    "                    d_dist_f = torch.mean(torch.abs(f_pred))\n",
    "                    d_dist_r = torch.mean(torch.abs(1 - r_pred))\n",
    "                    \n",
    "                    g_acc = torch.mean((real_moves == torch.round(fake_moves)).all(dim=1), dtype=torch.float).item()\n",
    "                \n",
    "                print(f'Epoch: {epoch+1}, {g_acc=}, {d_acc_f=}, {d_acc_r=}')\n",
    "                print(f\"{d_dist_f=}, {d_dist_r=}\")\n",
    "                \n",
    "                self.logs[\"d_acc_f\"].append(d_acc_f)\n",
    "                self.logs[\"d_acc_r\"].append(d_acc_r)\n",
    "                self.logs[\"d_dist_f\"].append(d_dist_f)\n",
    "                self.logs[\"d_dist_r\"].append(d_dist_r)\n",
    "                self.logs[\"g_acc\"].append(g_acc)\n",
    "                \n",
    "        \n",
    "            torch.save(self.generator, f\"generator {epoch}.pt\")\n",
    "            torch.save(self.discriminator, f\"discriminator {epoch}.pt\")\n",
    "            \n",
    "    def create_dataloader(self, boards, meta, moves, B, N, N_val):\n",
    "\n",
    "        if self.made_loader:\n",
    "\n",
    "            clear_cuda()\n",
    "            \n",
    "        loader = DataLoader(GANData(boards[:N], meta[:N], moves[:N]), batch_size = B, shuffle = True, generator=torch.Generator(device=device))\n",
    "        val_loader = GANData(boards[N:N+N_val], meta[N:N+N_val], moves[N:N+N_val])\n",
    "        \n",
    "        self.made_loader = True\n",
    "        \n",
    "        return loader, val_loader\n",
    "        \n",
    "\n",
    "        "
   ],
   "metadata": {
    "collapsed": false,
    "ExecuteTime": {
     "end_time": "2024-04-02T15:09:50.670119Z",
     "start_time": "2024-04-02T15:09:50.634863Z"
    }
   },
   "id": "cf3c6fec864d134d",
   "execution_count": 126
  },
  {
   "cell_type": "code",
   "outputs": [],
   "source": [
    "class GANData(Dataset):\n",
    "\n",
    "    def __init__(self, bitboards, white_turn, moves):\n",
    "\n",
    "        self.bitboards = torch.tensor(bitboards, dtype = torch.float).to(device)\n",
    "\n",
    "        self.moves = torch.zeros((self.bitboards.size(dim=0), 128), dtype = torch.float).to(device)\n",
    "\n",
    "        for ind, move in tqdm(enumerate(moves), total=len(moves)):\n",
    "\n",
    "            minn = move.from_square\n",
    "            ila = move.to_square\n",
    "        \n",
    "            if not white_turn[ind]:\n",
    "                minn = (63 - minn) // 8 * 8 + minn % 8\n",
    "                ila = (63 - ila) // 8 * 8 + ila % 8\n",
    "\n",
    "            self.moves[ind,minn] = 1\n",
    "            self.moves[ind, ila + 64] = 1\n",
    "\n",
    "\n",
    "    def __len__(self):\n",
    "\n",
    "        return self.moves.size(dim=0)\n",
    "\n",
    "\n",
    "    def __getitem__(self, idx):\n",
    "\n",
    "        return self.bitboards[idx], self.moves[idx]\n",
    "    "
   ],
   "metadata": {
    "collapsed": false,
    "ExecuteTime": {
     "end_time": "2024-04-02T02:00:44.075332Z",
     "start_time": "2024-04-02T02:00:44.062374Z"
    }
   },
   "id": "4677947170615bf9",
   "execution_count": 11
  },
  {
   "cell_type": "code",
   "outputs": [
    {
     "name": "stdout",
     "output_type": "stream",
     "text": [
      "<class 'torch.Tensor'> torch.Size([64]) cuda:0\n",
      "<class 'torch.Tensor'> torch.Size([64]) cuda:0\n",
      "<class 'torch.Tensor'> torch.Size([64]) cuda:0\n",
      "<class 'torch.Tensor'> torch.Size([]) cuda:0\n",
      "<class 'torch.Tensor'> torch.Size([64]) cuda:0\n",
      "<class 'torch.Tensor'> torch.Size([64]) cuda:0\n",
      "<class 'torch.Tensor'> torch.Size([]) cuda:0\n",
      "<class 'torch.Tensor'> torch.Size([64]) cuda:0\n",
      "<class 'torch.Tensor'> torch.Size([64]) cuda:0\n",
      "<class 'torch.Tensor'> torch.Size([]) cuda:0\n",
      "<class 'torch.Tensor'> torch.Size([64]) cuda:0\n",
      "<class 'torch.Tensor'> torch.Size([64]) cuda:0\n",
      "<class 'torch.Tensor'> torch.Size([]) cuda:0\n",
      "<class 'torch.Tensor'> torch.Size([64]) cuda:0\n",
      "<class 'torch.Tensor'> torch.Size([64]) cuda:0\n",
      "<class 'torch.Tensor'> torch.Size([]) cuda:0\n",
      "<class 'torch.Tensor'> torch.Size([64]) cuda:0\n",
      "<class 'torch.Tensor'> torch.Size([64]) cuda:0\n",
      "<class 'torch.Tensor'> torch.Size([]) cuda:0\n",
      "<class 'torch.Tensor'> torch.Size([64]) cuda:0\n",
      "<class 'torch.Tensor'> torch.Size([64]) cuda:0\n",
      "<class 'torch.Tensor'> torch.Size([]) cuda:0\n",
      "<class 'torch.Tensor'> torch.Size([64]) cuda:0\n",
      "<class 'torch.Tensor'> torch.Size([64]) cuda:0\n",
      "<class 'torch.Tensor'> torch.Size([]) cuda:0\n",
      "<class 'torch.Tensor'> torch.Size([64]) cuda:0\n",
      "<class 'torch.Tensor'> torch.Size([64]) cuda:0\n",
      "<class 'torch.Tensor'> torch.Size([]) cuda:0\n",
      "<class 'torch.Tensor'> torch.Size([64]) cuda:0\n",
      "<class 'torch.Tensor'> torch.Size([64]) cuda:0\n",
      "<class 'torch.Tensor'> torch.Size([]) cuda:0\n",
      "<class 'torch.Tensor'> torch.Size([64]) cuda:0\n",
      "<class 'torch.Tensor'> torch.Size([64]) cuda:0\n",
      "<class 'torch.Tensor'> torch.Size([]) cuda:0\n",
      "<class 'torch.Tensor'> torch.Size([64]) cuda:0\n",
      "<class 'torch.Tensor'> torch.Size([64]) cuda:0\n",
      "<class 'torch.Tensor'> torch.Size([]) cuda:0\n",
      "<class 'torch.nn.parameter.Parameter'> torch.Size([64, 14, 3, 3]) cuda:0\n",
      "<class 'torch.nn.parameter.Parameter'> torch.Size([64]) cuda:0\n",
      "<class 'torch.nn.parameter.Parameter'> torch.Size([64, 64, 3, 3]) cuda:0\n",
      "<class 'torch.nn.parameter.Parameter'> torch.Size([64]) cuda:0\n",
      "<class 'torch.nn.parameter.Parameter'> torch.Size([64]) cuda:0\n",
      "<class 'torch.nn.parameter.Parameter'> torch.Size([64]) cuda:0\n",
      "<class 'torch.nn.parameter.Parameter'> torch.Size([64, 64, 3, 3]) cuda:0\n",
      "<class 'torch.nn.parameter.Parameter'> torch.Size([64]) cuda:0\n",
      "<class 'torch.nn.parameter.Parameter'> torch.Size([64]) cuda:0\n",
      "<class 'torch.nn.parameter.Parameter'> torch.Size([64]) cuda:0\n",
      "<class 'torch.nn.parameter.Parameter'> torch.Size([64, 64, 3, 3]) cuda:0\n",
      "<class 'torch.nn.parameter.Parameter'> torch.Size([64]) cuda:0\n",
      "<class 'torch.nn.parameter.Parameter'> torch.Size([64]) cuda:0\n",
      "<class 'torch.nn.parameter.Parameter'> torch.Size([64]) cuda:0\n",
      "<class 'torch.nn.parameter.Parameter'> torch.Size([64, 64, 3, 3]) cuda:0\n",
      "<class 'torch.nn.parameter.Parameter'> torch.Size([64]) cuda:0\n",
      "<class 'torch.nn.parameter.Parameter'> torch.Size([64]) cuda:0\n",
      "<class 'torch.nn.parameter.Parameter'> torch.Size([64]) cuda:0\n",
      "<class 'torch.nn.parameter.Parameter'> torch.Size([64, 64, 3, 3]) cuda:0\n",
      "<class 'torch.nn.parameter.Parameter'> torch.Size([64]) cuda:0\n",
      "<class 'torch.nn.parameter.Parameter'> torch.Size([64]) cuda:0\n",
      "<class 'torch.nn.parameter.Parameter'> torch.Size([64]) cuda:0\n",
      "<class 'torch.nn.parameter.Parameter'> torch.Size([64, 64, 3, 3]) cuda:0\n",
      "<class 'torch.nn.parameter.Parameter'> torch.Size([64]) cuda:0\n",
      "<class 'torch.nn.parameter.Parameter'> torch.Size([64]) cuda:0\n",
      "<class 'torch.nn.parameter.Parameter'> torch.Size([64]) cuda:0\n",
      "<class 'torch.nn.parameter.Parameter'> torch.Size([64, 64, 3, 3]) cuda:0\n",
      "<class 'torch.nn.parameter.Parameter'> torch.Size([64]) cuda:0\n",
      "<class 'torch.nn.parameter.Parameter'> torch.Size([64]) cuda:0\n",
      "<class 'torch.nn.parameter.Parameter'> torch.Size([64]) cuda:0\n",
      "<class 'torch.nn.parameter.Parameter'> torch.Size([64, 64, 3, 3]) cuda:0\n",
      "<class 'torch.nn.parameter.Parameter'> torch.Size([64]) cuda:0\n",
      "<class 'torch.nn.parameter.Parameter'> torch.Size([64]) cuda:0\n",
      "<class 'torch.nn.parameter.Parameter'> torch.Size([64]) cuda:0\n",
      "<class 'torch.nn.parameter.Parameter'> torch.Size([64, 64, 3, 3]) cuda:0\n",
      "<class 'torch.nn.parameter.Parameter'> torch.Size([64]) cuda:0\n",
      "<class 'torch.nn.parameter.Parameter'> torch.Size([64]) cuda:0\n",
      "<class 'torch.nn.parameter.Parameter'> torch.Size([64]) cuda:0\n",
      "<class 'torch.nn.parameter.Parameter'> torch.Size([64, 64, 3, 3]) cuda:0\n",
      "<class 'torch.nn.parameter.Parameter'> torch.Size([64]) cuda:0\n",
      "<class 'torch.nn.parameter.Parameter'> torch.Size([64]) cuda:0\n",
      "<class 'torch.nn.parameter.Parameter'> torch.Size([64]) cuda:0\n",
      "<class 'torch.nn.parameter.Parameter'> torch.Size([64, 64, 3, 3]) cuda:0\n",
      "<class 'torch.nn.parameter.Parameter'> torch.Size([64]) cuda:0\n",
      "<class 'torch.nn.parameter.Parameter'> torch.Size([64]) cuda:0\n",
      "<class 'torch.nn.parameter.Parameter'> torch.Size([64]) cuda:0\n",
      "<class 'torch.nn.parameter.Parameter'> torch.Size([64, 64, 3, 3]) cuda:0\n",
      "<class 'torch.nn.parameter.Parameter'> torch.Size([64]) cuda:0\n",
      "<class 'torch.nn.parameter.Parameter'> torch.Size([64]) cuda:0\n",
      "<class 'torch.nn.parameter.Parameter'> torch.Size([64]) cuda:0\n",
      "<class 'torch.nn.parameter.Parameter'> torch.Size([1024, 4096]) cuda:0\n",
      "<class 'torch.nn.parameter.Parameter'> torch.Size([1024]) cuda:0\n",
      "<class 'torch.nn.parameter.Parameter'> torch.Size([128, 1024]) cuda:0\n",
      "<class 'torch.nn.parameter.Parameter'> torch.Size([128]) cuda:0\n",
      "<class 'torch.nn.parameter.Parameter'> torch.Size([64, 14, 3, 3]) cuda:0\n",
      "<class 'torch.nn.parameter.Parameter'> torch.Size([64]) cuda:0\n",
      "<class 'torch.Tensor'> torch.Size([64]) cuda:0\n",
      "<class 'torch.Tensor'> torch.Size([64]) cuda:0\n",
      "<class 'torch.Tensor'> torch.Size([]) cuda:0\n",
      "<class 'torch.Tensor'> torch.Size([64]) cuda:0\n",
      "<class 'torch.Tensor'> torch.Size([64]) cuda:0\n",
      "<class 'torch.Tensor'> torch.Size([]) cuda:0\n",
      "<class 'torch.Tensor'> torch.Size([64]) cuda:0\n",
      "<class 'torch.Tensor'> torch.Size([64]) cuda:0\n",
      "<class 'torch.Tensor'> torch.Size([]) cuda:0\n",
      "<class 'torch.Tensor'> torch.Size([64]) cuda:0\n",
      "<class 'torch.Tensor'> torch.Size([64]) cuda:0\n",
      "<class 'torch.Tensor'> torch.Size([]) cuda:0\n",
      "<class 'torch.Tensor'> torch.Size([64]) cuda:0\n",
      "<class 'torch.Tensor'> torch.Size([64]) cuda:0\n",
      "<class 'torch.Tensor'> torch.Size([]) cuda:0\n",
      "<class 'torch.Tensor'> torch.Size([64]) cuda:0\n",
      "<class 'torch.Tensor'> torch.Size([64]) cuda:0\n",
      "<class 'torch.Tensor'> torch.Size([]) cuda:0\n",
      "<class 'torch.Tensor'> torch.Size([64]) cuda:0\n",
      "<class 'torch.Tensor'> torch.Size([64]) cuda:0\n",
      "<class 'torch.Tensor'> torch.Size([]) cuda:0\n",
      "<class 'torch.Tensor'> torch.Size([64]) cuda:0\n",
      "<class 'torch.Tensor'> torch.Size([64]) cuda:0\n",
      "<class 'torch.Tensor'> torch.Size([]) cuda:0\n",
      "<class 'torch.nn.parameter.Parameter'> torch.Size([64]) cuda:0\n",
      "<class 'torch.nn.parameter.Parameter'> torch.Size([64]) cuda:0\n",
      "<class 'torch.nn.parameter.Parameter'> torch.Size([64, 64, 3, 3]) cuda:0\n",
      "<class 'torch.nn.parameter.Parameter'> torch.Size([64]) cuda:0\n",
      "<class 'torch.nn.parameter.Parameter'> torch.Size([64]) cuda:0\n",
      "<class 'torch.nn.parameter.Parameter'> torch.Size([64]) cuda:0\n",
      "<class 'torch.nn.parameter.Parameter'> torch.Size([64, 64, 3, 3]) cuda:0\n",
      "<class 'torch.nn.parameter.Parameter'> torch.Size([64]) cuda:0\n",
      "<class 'torch.nn.parameter.Parameter'> torch.Size([64]) cuda:0\n",
      "<class 'torch.nn.parameter.Parameter'> torch.Size([64]) cuda:0\n",
      "<class 'torch.nn.parameter.Parameter'> torch.Size([64, 64, 3, 3]) cuda:0\n",
      "<class 'torch.nn.parameter.Parameter'> torch.Size([64]) cuda:0\n",
      "<class 'torch.nn.parameter.Parameter'> torch.Size([64]) cuda:0\n",
      "<class 'torch.nn.parameter.Parameter'> torch.Size([64]) cuda:0\n",
      "<class 'torch.nn.parameter.Parameter'> torch.Size([64, 64, 3, 3]) cuda:0\n",
      "<class 'torch.nn.parameter.Parameter'> torch.Size([64]) cuda:0\n",
      "<class 'torch.nn.parameter.Parameter'> torch.Size([64]) cuda:0\n",
      "<class 'torch.nn.parameter.Parameter'> torch.Size([64]) cuda:0\n",
      "<class 'torch.nn.parameter.Parameter'> torch.Size([64, 64, 3, 3]) cuda:0\n",
      "<class 'torch.nn.parameter.Parameter'> torch.Size([64]) cuda:0\n",
      "<class 'torch.nn.parameter.Parameter'> torch.Size([64]) cuda:0\n",
      "<class 'torch.nn.parameter.Parameter'> torch.Size([64]) cuda:0\n",
      "<class 'torch.nn.parameter.Parameter'> torch.Size([64, 64, 3, 3]) cuda:0\n",
      "<class 'torch.nn.parameter.Parameter'> torch.Size([64]) cuda:0\n",
      "<class 'torch.nn.parameter.Parameter'> torch.Size([64]) cuda:0\n",
      "<class 'torch.nn.parameter.Parameter'> torch.Size([64]) cuda:0\n",
      "<class 'torch.nn.parameter.Parameter'> torch.Size([64, 64, 3, 3]) cuda:0\n",
      "<class 'torch.nn.parameter.Parameter'> torch.Size([64]) cuda:0\n",
      "<class 'torch.nn.parameter.Parameter'> torch.Size([64]) cuda:0\n",
      "<class 'torch.nn.parameter.Parameter'> torch.Size([64]) cuda:0\n",
      "<class 'torch.nn.parameter.Parameter'> torch.Size([512, 4096]) cuda:0\n",
      "<class 'torch.nn.parameter.Parameter'> torch.Size([512]) cuda:0\n",
      "<class 'torch.nn.parameter.Parameter'> torch.Size([512, 640]) cuda:0\n",
      "<class 'torch.nn.parameter.Parameter'> torch.Size([512]) cuda:0\n",
      "<class 'torch.nn.parameter.Parameter'> torch.Size([1, 512]) cuda:0\n",
      "<class 'torch.nn.parameter.Parameter'> torch.Size([1]) cuda:0\n",
      "<class 'torch.nn.parameter.Parameter'> torch.Size([64, 64, 3, 3]) cuda:0\n",
      "<class 'torch.nn.parameter.Parameter'> torch.Size([64]) cuda:0\n"
     ]
    }
   ],
   "source": [
    "clear_cuda()"
   ],
   "metadata": {
    "collapsed": false,
    "ExecuteTime": {
     "end_time": "2024-04-02T02:09:02.822011Z",
     "start_time": "2024-04-02T02:08:57.283979Z"
    }
   },
   "id": "e99e721a3307a923",
   "execution_count": 16
  },
  {
   "cell_type": "code",
   "outputs": [],
   "source": [
    "del RSv1"
   ],
   "metadata": {
    "collapsed": false,
    "ExecuteTime": {
     "end_time": "2024-04-02T05:09:54.746154Z",
     "start_time": "2024-04-02T05:09:54.729204Z"
    }
   },
   "id": "4e0029868663dd9c",
   "execution_count": 93
  },
  {
   "cell_type": "code",
   "outputs": [
    {
     "name": "stdout",
     "output_type": "stream",
     "text": [
      "cuda\n"
     ]
    }
   ],
   "source": [
    "RSv1 = GAN_1(g_conv_depth=6, g_hidden_size=1024, g_hidden_depth=2, \n",
    "             d_conv_depth=4, d_hidden_size=512, d_hidden_depth=3,\n",
    "             lr=0.001).to(device)"
   ],
   "metadata": {
    "ExecuteTime": {
     "end_time": "2024-04-02T05:09:55.755210Z",
     "start_time": "2024-04-02T05:09:55.678953Z"
    }
   },
   "id": "6b0cc09a",
   "execution_count": 94
  },
  {
   "cell_type": "code",
   "outputs": [
    {
     "name": "stderr",
     "output_type": "stream",
     "text": [
      "100%|██████████| 2300000/2300000 [02:18<00:00, 16665.51it/s]\n",
      "100%|██████████| 1000/1000 [00:00<00:00, 13151.30it/s]\n"
     ]
    }
   ],
   "source": [
    "loader, val_data = RSv1.create_dataloader(boards, meta, moves, B = 512, N=2_300_000, N_val=1_000)\n",
    "G = len(loader)"
   ],
   "metadata": {
    "collapsed": false,
    "ExecuteTime": {
     "end_time": "2024-04-02T02:12:55.369927Z",
     "start_time": "2024-04-02T02:09:48.546705Z"
    }
   },
   "id": "813dd34e6b3493d9",
   "execution_count": 17
  },
  {
   "cell_type": "code",
   "outputs": [],
   "source": [
    "del RSv1.discriminator\n",
    "\n",
    "RSv1.discriminator = discriminator_1(conv_depth=4, hidden_size=512, hidden_depth=3)\n",
    "RSv1.configure_optimizers(0.001)"
   ],
   "metadata": {
    "collapsed": false,
    "ExecuteTime": {
     "end_time": "2024-04-02T04:39:55.040593Z",
     "start_time": "2024-04-02T04:39:55.018509Z"
    }
   },
   "id": "ae05e0141e2312f6",
   "execution_count": 80
  },
  {
   "cell_type": "code",
   "outputs": [],
   "source": [
    "del RSv1.generator\n",
    "\n",
    "RSv1.generator = generator_1(conv_depth=6, hidden_size=1024, hidden_depth=2)\n",
    "RSv1.configure_optimizers(0.001)"
   ],
   "metadata": {
    "collapsed": false,
    "ExecuteTime": {
     "end_time": "2024-04-02T04:53:58.041573Z",
     "start_time": "2024-04-02T04:53:58.017654Z"
    }
   },
   "id": "4422e84a0c20287d",
   "execution_count": 84
  },
  {
   "cell_type": "code",
   "outputs": [],
   "source": [
    "generator_1?"
   ],
   "metadata": {
    "collapsed": false,
    "ExecuteTime": {
     "end_time": "2024-04-02T04:26:58.338542Z",
     "start_time": "2024-04-02T04:26:58.329576Z"
    }
   },
   "id": "b434386a9f983bb1",
   "execution_count": 75
  },
  {
   "cell_type": "code",
   "outputs": [],
   "source": [
    "train_discriminator = False\n",
    "train_all = True"
   ],
   "metadata": {
    "collapsed": false,
    "ExecuteTime": {
     "end_time": "2024-04-02T14:34:08.421226Z",
     "start_time": "2024-04-02T14:34:08.402293Z"
    }
   },
   "id": "2eb6651643a9eb0b",
   "execution_count": 110
  },
  {
   "cell_type": "code",
   "outputs": [
    {
     "name": "stderr",
     "output_type": "stream",
     "text": [
      "100%|██████████| 4493/4493 [03:03<00:00, 24.45it/s]\n"
     ]
    },
    {
     "name": "stdout",
     "output_type": "stream",
     "text": [
      "Epoch 52 with g_loss: 0.0 and d_loss: 0.028107999774310815\n",
      "Epoch: 52, g_acc=0.003000000026077032, d_acc_f=1.0, d_acc_r=0.9970000386238098\n"
     ]
    },
    {
     "name": "stderr",
     "output_type": "stream",
     "text": [
      " 13%|█▎        | 562/4493 [00:23<02:41, 24.37it/s]\n"
     ]
    },
    {
     "name": "stdout",
     "output_type": "stream",
     "text": [
      "Epoch 52 with g_loss: 0.002368966074145966 and d_loss: 0.0\n",
      "Epoch: 52, g_acc=0.0, d_acc_f=0.0, d_acc_r=0.9970000386238098\n"
     ]
    },
    {
     "name": "stderr",
     "output_type": "stream",
     "text": [
      "100%|██████████| 4493/4493 [03:02<00:00, 24.59it/s]\n"
     ]
    },
    {
     "name": "stdout",
     "output_type": "stream",
     "text": [
      "Epoch 53 with g_loss: 0.0 and d_loss: 0.010856575276686837\n",
      "Epoch: 53, g_acc=0.0, d_acc_f=1.0, d_acc_r=1.0\n"
     ]
    },
    {
     "name": "stderr",
     "output_type": "stream",
     "text": [
      " 13%|█▎        | 562/4493 [00:24<02:49, 23.13it/s]\n"
     ]
    },
    {
     "name": "stdout",
     "output_type": "stream",
     "text": [
      "Epoch 53 with g_loss: 0.004162909363405023 and d_loss: 0.0\n",
      "Epoch: 53, g_acc=0.0010000000474974513, d_acc_f=0.0, d_acc_r=1.0\n"
     ]
    },
    {
     "name": "stderr",
     "output_type": "stream",
     "text": [
      "100%|██████████| 4493/4493 [03:02<00:00, 24.62it/s]\n"
     ]
    },
    {
     "name": "stdout",
     "output_type": "stream",
     "text": [
      "Epoch 54 with g_loss: 0.0 and d_loss: 0.009535298077133086\n",
      "Epoch: 54, g_acc=0.0010000000474974513, d_acc_f=1.0, d_acc_r=0.999000072479248\n"
     ]
    },
    {
     "name": "stderr",
     "output_type": "stream",
     "text": [
      " 13%|█▎        | 562/4493 [00:22<02:40, 24.44it/s]\n"
     ]
    },
    {
     "name": "stdout",
     "output_type": "stream",
     "text": [
      "Epoch 54 with g_loss: 0.012177055214498347 and d_loss: 0.0\n",
      "Epoch: 54, g_acc=0.0, d_acc_f=0.0, d_acc_r=0.999000072479248\n"
     ]
    },
    {
     "name": "stderr",
     "output_type": "stream",
     "text": [
      "100%|██████████| 4493/4493 [03:03<00:00, 24.43it/s]\n"
     ]
    },
    {
     "name": "stdout",
     "output_type": "stream",
     "text": [
      "Epoch 55 with g_loss: 0.0 and d_loss: 0.005395235253465298\n",
      "Epoch: 55, g_acc=0.0, d_acc_f=1.0, d_acc_r=1.0\n"
     ]
    },
    {
     "name": "stderr",
     "output_type": "stream",
     "text": [
      " 13%|█▎        | 562/4493 [00:22<02:40, 24.44it/s]\n"
     ]
    },
    {
     "name": "stdout",
     "output_type": "stream",
     "text": [
      "Epoch 55 with g_loss: 0.047325344803845044 and d_loss: 0.0\n",
      "Epoch: 55, g_acc=0.0, d_acc_f=0.0, d_acc_r=1.0\n"
     ]
    },
    {
     "name": "stderr",
     "output_type": "stream",
     "text": [
      "100%|██████████| 4493/4493 [03:02<00:00, 24.58it/s]\n"
     ]
    },
    {
     "name": "stdout",
     "output_type": "stream",
     "text": [
      "Epoch 56 with g_loss: 0.0 and d_loss: 0.009966958911728717\n",
      "Epoch: 56, g_acc=0.0, d_acc_f=1.0, d_acc_r=1.0\n"
     ]
    },
    {
     "name": "stderr",
     "output_type": "stream",
     "text": [
      " 13%|█▎        | 562/4493 [00:22<02:40, 24.48it/s]\n"
     ]
    },
    {
     "name": "stdout",
     "output_type": "stream",
     "text": [
      "Epoch 56 with g_loss: 0.001928559547894389 and d_loss: 0.0\n",
      "Epoch: 56, g_acc=0.0, d_acc_f=0.0, d_acc_r=1.0\n"
     ]
    },
    {
     "name": "stderr",
     "output_type": "stream",
     "text": [
      "100%|██████████| 4493/4493 [03:04<00:00, 24.40it/s]\n"
     ]
    },
    {
     "name": "stdout",
     "output_type": "stream",
     "text": [
      "Epoch 57 with g_loss: 0.0 and d_loss: 0.006461976194049765\n",
      "Epoch: 57, g_acc=0.0, d_acc_f=1.0, d_acc_r=1.0\n"
     ]
    },
    {
     "name": "stderr",
     "output_type": "stream",
     "text": [
      " 13%|█▎        | 562/4493 [00:23<02:41, 24.34it/s]\n"
     ]
    },
    {
     "name": "stdout",
     "output_type": "stream",
     "text": [
      "Epoch 57 with g_loss: 0.007140628914133907 and d_loss: 0.0\n",
      "Epoch: 57, g_acc=0.0010000000474974513, d_acc_f=0.0, d_acc_r=1.0\n"
     ]
    },
    {
     "name": "stderr",
     "output_type": "stream",
     "text": [
      "100%|██████████| 4493/4493 [03:02<00:00, 24.58it/s]\n"
     ]
    },
    {
     "name": "stdout",
     "output_type": "stream",
     "text": [
      "Epoch 58 with g_loss: 0.0 and d_loss: 0.010481936920442216\n",
      "Epoch: 58, g_acc=0.0010000000474974513, d_acc_f=1.0, d_acc_r=0.999000072479248\n"
     ]
    },
    {
     "name": "stderr",
     "output_type": "stream",
     "text": [
      " 13%|█▎        | 562/4493 [00:23<02:41, 24.38it/s]\n"
     ]
    },
    {
     "name": "stdout",
     "output_type": "stream",
     "text": [
      "Epoch 58 with g_loss: 1.1081478962409 and d_loss: 0.0\n",
      "Epoch: 58, g_acc=0.0010000000474974513, d_acc_f=1.0, d_acc_r=0.999000072479248\n"
     ]
    },
    {
     "name": "stderr",
     "output_type": "stream",
     "text": [
      " 13%|█▎        | 562/4493 [00:24<02:50, 23.04it/s]\n"
     ]
    },
    {
     "name": "stdout",
     "output_type": "stream",
     "text": [
      "Epoch 58 with g_loss: 0.41066834716664846 and d_loss: 0.0\n",
      "Epoch: 58, g_acc=0.0, d_acc_f=0.0, d_acc_r=0.999000072479248\n"
     ]
    },
    {
     "name": "stderr",
     "output_type": "stream",
     "text": [
      "100%|██████████| 4493/4493 [03:02<00:00, 24.59it/s]\n"
     ]
    },
    {
     "name": "stdout",
     "output_type": "stream",
     "text": [
      "Epoch 59 with g_loss: 0.0 and d_loss: 0.01521147516108586\n",
      "Epoch: 59, g_acc=0.0, d_acc_f=1.0, d_acc_r=1.0\n"
     ]
    },
    {
     "name": "stderr",
     "output_type": "stream",
     "text": [
      " 13%|█▎        | 562/4493 [00:23<02:41, 24.41it/s]\n"
     ]
    },
    {
     "name": "stdout",
     "output_type": "stream",
     "text": [
      "Epoch 59 with g_loss: 0.05443762750500293 and d_loss: 0.0\n",
      "Epoch: 59, g_acc=0.0010000000474974513, d_acc_f=0.0, d_acc_r=1.0\n"
     ]
    },
    {
     "name": "stderr",
     "output_type": "stream",
     "text": [
      "100%|██████████| 4493/4493 [03:02<00:00, 24.57it/s]\n"
     ]
    },
    {
     "name": "stdout",
     "output_type": "stream",
     "text": [
      "Epoch 60 with g_loss: 0.0 and d_loss: 0.015906701095104607\n",
      "Epoch: 60, g_acc=0.0010000000474974513, d_acc_f=1.0, d_acc_r=0.999000072479248\n"
     ]
    },
    {
     "name": "stderr",
     "output_type": "stream",
     "text": [
      " 13%|█▎        | 562/4493 [00:24<02:49, 23.18it/s]\n"
     ]
    },
    {
     "name": "stdout",
     "output_type": "stream",
     "text": [
      "Epoch 60 with g_loss: 0.6081862187570507 and d_loss: 0.0\n",
      "Epoch: 60, g_acc=0.0020000000949949026, d_acc_f=0.0, d_acc_r=0.999000072479248\n"
     ]
    },
    {
     "name": "stderr",
     "output_type": "stream",
     "text": [
      "100%|██████████| 4493/4493 [03:02<00:00, 24.59it/s]\n"
     ]
    },
    {
     "name": "stdout",
     "output_type": "stream",
     "text": [
      "Epoch 61 with g_loss: 0.0 and d_loss: 0.018672624747590922\n",
      "Epoch: 61, g_acc=0.0020000000949949026, d_acc_f=1.0, d_acc_r=0.9980000257492065\n"
     ]
    },
    {
     "name": "stderr",
     "output_type": "stream",
     "text": [
      " 13%|█▎        | 562/4493 [00:22<02:40, 24.49it/s]\n"
     ]
    },
    {
     "name": "stdout",
     "output_type": "stream",
     "text": [
      "Epoch 61 with g_loss: 1.0704600671445132 and d_loss: 0.0\n",
      "Epoch: 61, g_acc=0.0020000000949949026, d_acc_f=1.0, d_acc_r=0.9980000257492065\n"
     ]
    },
    {
     "name": "stderr",
     "output_type": "stream",
     "text": [
      " 13%|█▎        | 562/4493 [00:24<02:50, 23.08it/s]\n"
     ]
    },
    {
     "name": "stdout",
     "output_type": "stream",
     "text": [
      "Epoch 61 with g_loss: 1.070576541067735 and d_loss: 0.0\n",
      "Epoch: 61, g_acc=0.0020000000949949026, d_acc_f=1.0, d_acc_r=0.9980000257492065\n"
     ]
    },
    {
     "name": "stderr",
     "output_type": "stream",
     "text": [
      " 13%|█▎        | 562/4493 [00:23<02:41, 24.38it/s]\n"
     ]
    },
    {
     "name": "stdout",
     "output_type": "stream",
     "text": [
      "Epoch 61 with g_loss: 0.17362352871768202 and d_loss: 0.0\n",
      "Epoch: 61, g_acc=0.0, d_acc_f=0.0, d_acc_r=0.9980000257492065\n"
     ]
    },
    {
     "name": "stderr",
     "output_type": "stream",
     "text": [
      "100%|██████████| 4493/4493 [03:02<00:00, 24.57it/s]\n"
     ]
    },
    {
     "name": "stdout",
     "output_type": "stream",
     "text": [
      "Epoch 62 with g_loss: 0.0 and d_loss: 0.008569490114174495\n",
      "Epoch: 62, g_acc=0.0, d_acc_f=1.0, d_acc_r=1.0\n"
     ]
    },
    {
     "name": "stderr",
     "output_type": "stream",
     "text": [
      " 13%|█▎        | 562/4493 [00:23<02:41, 24.34it/s]\n"
     ]
    },
    {
     "name": "stdout",
     "output_type": "stream",
     "text": [
      "Epoch 62 with g_loss: 0.8775896160689637 and d_loss: 0.0\n",
      "Epoch: 62, g_acc=0.003000000026077032, d_acc_f=0.0, d_acc_r=1.0\n"
     ]
    },
    {
     "name": "stderr",
     "output_type": "stream",
     "text": [
      "100%|██████████| 4493/4493 [03:03<00:00, 24.42it/s]\n"
     ]
    },
    {
     "name": "stdout",
     "output_type": "stream",
     "text": [
      "Epoch 63 with g_loss: 0.0 and d_loss: 0.008683272759934352\n",
      "Epoch: 63, g_acc=0.003000000026077032, d_acc_f=1.0, d_acc_r=0.9970000386238098\n"
     ]
    },
    {
     "name": "stderr",
     "output_type": "stream",
     "text": [
      " 13%|█▎        | 562/4493 [00:23<02:40, 24.42it/s]\n"
     ]
    },
    {
     "name": "stdout",
     "output_type": "stream",
     "text": [
      "Epoch 63 with g_loss: 0.9456287759590223 and d_loss: 0.0\n",
      "Epoch: 63, g_acc=0.0, d_acc_f=0.0, d_acc_r=0.9970000386238098\n"
     ]
    },
    {
     "name": "stderr",
     "output_type": "stream",
     "text": [
      "100%|██████████| 4493/4493 [03:03<00:00, 24.53it/s]\n"
     ]
    },
    {
     "name": "stdout",
     "output_type": "stream",
     "text": [
      "Epoch 64 with g_loss: 0.0 and d_loss: 0.0023455811389773234\n",
      "Epoch: 64, g_acc=0.0, d_acc_f=1.0, d_acc_r=1.0\n"
     ]
    },
    {
     "name": "stderr",
     "output_type": "stream",
     "text": [
      " 13%|█▎        | 562/4493 [00:22<02:40, 24.45it/s]\n"
     ]
    },
    {
     "name": "stdout",
     "output_type": "stream",
     "text": [
      "Epoch 64 with g_loss: 1.2729282939510995 and d_loss: 0.0\n",
      "Epoch: 64, g_acc=0.0, d_acc_f=1.0, d_acc_r=1.0\n"
     ]
    },
    {
     "name": "stderr",
     "output_type": "stream",
     "text": [
      " 13%|█▎        | 562/4493 [00:23<02:41, 24.38it/s]\n"
     ]
    },
    {
     "name": "stdout",
     "output_type": "stream",
     "text": [
      "Epoch 64 with g_loss: 0.7203488752850931 and d_loss: 0.0\n",
      "Epoch: 64, g_acc=0.0, d_acc_f=0.0, d_acc_r=1.0\n"
     ]
    },
    {
     "name": "stderr",
     "output_type": "stream",
     "text": [
      "100%|██████████| 4493/4493 [03:04<00:00, 24.40it/s]\n"
     ]
    },
    {
     "name": "stdout",
     "output_type": "stream",
     "text": [
      "Epoch 65 with g_loss: 0.0 and d_loss: 0.010984087497807283\n",
      "Epoch: 65, g_acc=0.0, d_acc_f=1.0, d_acc_r=1.0\n"
     ]
    },
    {
     "name": "stderr",
     "output_type": "stream",
     "text": [
      " 13%|█▎        | 562/4493 [00:23<02:41, 24.29it/s]\n"
     ]
    },
    {
     "name": "stdout",
     "output_type": "stream",
     "text": [
      "Epoch 65 with g_loss: 0.006057196499681569 and d_loss: 0.0\n",
      "Epoch: 65, g_acc=0.0, d_acc_f=0.0, d_acc_r=1.0\n"
     ]
    },
    {
     "name": "stderr",
     "output_type": "stream",
     "text": [
      "100%|██████████| 4493/4493 [03:02<00:00, 24.57it/s]\n"
     ]
    },
    {
     "name": "stdout",
     "output_type": "stream",
     "text": [
      "Epoch 66 with g_loss: 0.0 and d_loss: 0.165339949204678\n",
      "Epoch: 66, g_acc=0.0, d_acc_f=1.0, d_acc_r=1.0\n"
     ]
    },
    {
     "name": "stderr",
     "output_type": "stream",
     "text": [
      " 13%|█▎        | 562/4493 [00:24<02:50, 23.02it/s]\n"
     ]
    },
    {
     "name": "stdout",
     "output_type": "stream",
     "text": [
      "Epoch 66 with g_loss: 1.1637175398893884 and d_loss: 0.0\n",
      "Epoch: 66, g_acc=0.0, d_acc_f=1.0, d_acc_r=1.0\n"
     ]
    },
    {
     "name": "stderr",
     "output_type": "stream",
     "text": [
      " 13%|█▎        | 562/4493 [00:23<02:42, 24.20it/s]\n"
     ]
    },
    {
     "name": "stdout",
     "output_type": "stream",
     "text": [
      "Epoch 66 with g_loss: 1.1630678382769952 and d_loss: 0.0\n",
      "Epoch: 66, g_acc=0.0, d_acc_f=1.0, d_acc_r=1.0\n"
     ]
    },
    {
     "name": "stderr",
     "output_type": "stream",
     "text": [
      " 13%|█▎        | 562/4493 [00:23<02:41, 24.32it/s]\n"
     ]
    },
    {
     "name": "stdout",
     "output_type": "stream",
     "text": [
      "Epoch 66 with g_loss: 1.1633727831217537 and d_loss: 0.0\n",
      "Epoch: 66, g_acc=0.0, d_acc_f=1.0, d_acc_r=1.0\n"
     ]
    },
    {
     "name": "stderr",
     "output_type": "stream",
     "text": [
      " 13%|█▎        | 562/4493 [00:23<02:41, 24.40it/s]\n"
     ]
    },
    {
     "name": "stdout",
     "output_type": "stream",
     "text": [
      "Epoch 66 with g_loss: 1.1635279382705264 and d_loss: 0.0\n",
      "Epoch: 66, g_acc=0.0, d_acc_f=1.0, d_acc_r=1.0\n"
     ]
    },
    {
     "name": "stderr",
     "output_type": "stream",
     "text": [
      " 13%|█▎        | 562/4493 [00:24<02:49, 23.15it/s]\n"
     ]
    },
    {
     "name": "stdout",
     "output_type": "stream",
     "text": [
      "Epoch 66 with g_loss: 1.1640877094349458 and d_loss: 0.0\n",
      "Epoch: 66, g_acc=0.0, d_acc_f=1.0, d_acc_r=1.0\n"
     ]
    },
    {
     "name": "stderr",
     "output_type": "stream",
     "text": [
      " 13%|█▎        | 562/4493 [00:22<02:40, 24.48it/s]\n"
     ]
    },
    {
     "name": "stdout",
     "output_type": "stream",
     "text": [
      "Epoch 66 with g_loss: 1.1634356197099922 and d_loss: 0.0\n",
      "Epoch: 66, g_acc=0.0, d_acc_f=1.0, d_acc_r=1.0\n"
     ]
    },
    {
     "name": "stderr",
     "output_type": "stream",
     "text": [
      " 13%|█▎        | 562/4493 [00:22<02:40, 24.44it/s]\n"
     ]
    },
    {
     "name": "stdout",
     "output_type": "stream",
     "text": [
      "Epoch 66 with g_loss: 0.8753813482901318 and d_loss: 0.0\n",
      "Epoch: 66, g_acc=0.0, d_acc_f=0.0, d_acc_r=1.0\n"
     ]
    },
    {
     "name": "stderr",
     "output_type": "stream",
     "text": [
      "100%|██████████| 4493/4493 [03:02<00:00, 24.56it/s]\n"
     ]
    },
    {
     "name": "stdout",
     "output_type": "stream",
     "text": [
      "Epoch 67 with g_loss: 0.0 and d_loss: 0.009774592416976735\n",
      "Epoch: 67, g_acc=0.0, d_acc_f=1.0, d_acc_r=1.0\n"
     ]
    },
    {
     "name": "stderr",
     "output_type": "stream",
     "text": [
      " 13%|█▎        | 562/4493 [00:24<02:50, 23.11it/s]\n"
     ]
    },
    {
     "name": "stdout",
     "output_type": "stream",
     "text": [
      "Epoch 67 with g_loss: 0.0028655421839889955 and d_loss: 0.0\n",
      "Epoch: 67, g_acc=0.0, d_acc_f=0.0, d_acc_r=1.0\n"
     ]
    },
    {
     "name": "stderr",
     "output_type": "stream",
     "text": [
      "100%|██████████| 4493/4493 [03:02<00:00, 24.57it/s]\n"
     ]
    },
    {
     "name": "stdout",
     "output_type": "stream",
     "text": [
      "Epoch 68 with g_loss: 0.0 and d_loss: 0.010596726745413662\n",
      "Epoch: 68, g_acc=0.0, d_acc_f=1.0, d_acc_r=1.0\n"
     ]
    },
    {
     "name": "stderr",
     "output_type": "stream",
     "text": [
      " 13%|█▎        | 562/4493 [00:22<02:40, 24.49it/s]\n"
     ]
    },
    {
     "name": "stdout",
     "output_type": "stream",
     "text": [
      "Epoch 68 with g_loss: 0.7622906274676088 and d_loss: 0.0\n",
      "Epoch: 68, g_acc=0.0, d_acc_f=0.0, d_acc_r=1.0\n"
     ]
    },
    {
     "name": "stderr",
     "output_type": "stream",
     "text": [
      "100%|██████████| 4493/4493 [03:02<00:00, 24.57it/s]\n"
     ]
    },
    {
     "name": "stdout",
     "output_type": "stream",
     "text": [
      "Epoch 69 with g_loss: 0.0 and d_loss: 0.005158627062757869\n",
      "Epoch: 69, g_acc=0.0, d_acc_f=1.0, d_acc_r=1.0\n"
     ]
    },
    {
     "name": "stderr",
     "output_type": "stream",
     "text": [
      " 13%|█▎        | 562/4493 [00:24<02:50, 23.10it/s]\n"
     ]
    },
    {
     "name": "stdout",
     "output_type": "stream",
     "text": [
      "Epoch 69 with g_loss: 1.017652838501475 and d_loss: 0.0\n",
      "Epoch: 69, g_acc=0.0, d_acc_f=0.0, d_acc_r=1.0\n"
     ]
    },
    {
     "name": "stderr",
     "output_type": "stream",
     "text": [
      "100%|██████████| 4493/4493 [03:03<00:00, 24.55it/s]\n"
     ]
    },
    {
     "name": "stdout",
     "output_type": "stream",
     "text": [
      "Epoch 70 with g_loss: 0.0 and d_loss: 0.012547929510349706\n",
      "Epoch: 70, g_acc=0.0, d_acc_f=1.0, d_acc_r=1.0\n"
     ]
    },
    {
     "name": "stderr",
     "output_type": "stream",
     "text": [
      " 13%|█▎        | 562/4493 [00:22<02:40, 24.45it/s]\n"
     ]
    },
    {
     "name": "stdout",
     "output_type": "stream",
     "text": [
      "Epoch 70 with g_loss: 0.36643778097513874 and d_loss: 0.0\n",
      "Epoch: 70, g_acc=0.003000000026077032, d_acc_f=0.0, d_acc_r=1.0\n"
     ]
    },
    {
     "name": "stderr",
     "output_type": "stream",
     "text": [
      "100%|██████████| 4493/4493 [03:04<00:00, 24.35it/s]\n"
     ]
    },
    {
     "name": "stdout",
     "output_type": "stream",
     "text": [
      "Epoch 71 with g_loss: 0.0 and d_loss: 0.02535790947568608\n",
      "Epoch: 71, g_acc=0.003000000026077032, d_acc_f=1.0, d_acc_r=0.9970000386238098\n"
     ]
    },
    {
     "name": "stderr",
     "output_type": "stream",
     "text": [
      " 13%|█▎        | 562/4493 [00:23<02:41, 24.41it/s]\n"
     ]
    },
    {
     "name": "stdout",
     "output_type": "stream",
     "text": [
      "Epoch 71 with g_loss: 1.0398685318203724 and d_loss: 0.0\n",
      "Epoch: 71, g_acc=0.003000000026077032, d_acc_f=1.0, d_acc_r=0.9970000386238098\n"
     ]
    },
    {
     "name": "stderr",
     "output_type": "stream",
     "text": [
      " 13%|█▎        | 562/4493 [00:22<02:40, 24.45it/s]\n"
     ]
    },
    {
     "name": "stdout",
     "output_type": "stream",
     "text": [
      "Epoch 71 with g_loss: 1.0406282666051625 and d_loss: 0.0\n",
      "Epoch: 71, g_acc=0.003000000026077032, d_acc_f=1.0, d_acc_r=0.9970000386238098\n"
     ]
    },
    {
     "name": "stderr",
     "output_type": "stream",
     "text": [
      " 13%|█▎        | 562/4493 [00:23<02:41, 24.40it/s]\n"
     ]
    },
    {
     "name": "stdout",
     "output_type": "stream",
     "text": [
      "Epoch 71 with g_loss: 1.0402255201562591 and d_loss: 0.0\n",
      "Epoch: 71, g_acc=0.003000000026077032, d_acc_f=1.0, d_acc_r=0.9970000386238098\n"
     ]
    },
    {
     "name": "stderr",
     "output_type": "stream",
     "text": [
      " 13%|█▎        | 562/4493 [00:22<02:40, 24.45it/s]\n"
     ]
    },
    {
     "name": "stdout",
     "output_type": "stream",
     "text": [
      "Epoch 71 with g_loss: 0.4623212639384192 and d_loss: 0.0\n",
      "Epoch: 71, g_acc=0.0, d_acc_f=0.01600000075995922, d_acc_r=0.9970000386238098\n"
     ]
    },
    {
     "name": "stderr",
     "output_type": "stream",
     "text": [
      "100%|██████████| 4493/4493 [03:03<00:00, 24.43it/s]\n"
     ]
    },
    {
     "name": "stdout",
     "output_type": "stream",
     "text": [
      "Epoch 72 with g_loss: 0.0 and d_loss: 0.001835285983805973\n",
      "Epoch: 72, g_acc=0.0, d_acc_f=1.0, d_acc_r=1.0\n"
     ]
    },
    {
     "name": "stderr",
     "output_type": "stream",
     "text": [
      " 13%|█▎        | 562/4493 [00:23<02:41, 24.40it/s]\n"
     ]
    },
    {
     "name": "stdout",
     "output_type": "stream",
     "text": [
      "Epoch 72 with g_loss: 1.1972540013381003 and d_loss: 0.0\n",
      "Epoch: 72, g_acc=0.0, d_acc_f=1.0, d_acc_r=1.0\n"
     ]
    },
    {
     "name": "stderr",
     "output_type": "stream",
     "text": [
      " 13%|█▎        | 562/4493 [00:23<02:41, 24.30it/s]\n"
     ]
    },
    {
     "name": "stdout",
     "output_type": "stream",
     "text": [
      "Epoch 72 with g_loss: 1.1972559933775972 and d_loss: 0.0\n",
      "Epoch: 72, g_acc=0.0, d_acc_f=1.0, d_acc_r=1.0\n"
     ]
    },
    {
     "name": "stderr",
     "output_type": "stream",
     "text": [
      " 13%|█▎        | 562/4493 [00:23<02:41, 24.38it/s]\n"
     ]
    },
    {
     "name": "stdout",
     "output_type": "stream",
     "text": [
      "Epoch 72 with g_loss: 1.1974541566272687 and d_loss: 0.0\n",
      "Epoch: 72, g_acc=0.0, d_acc_f=1.0, d_acc_r=1.0\n"
     ]
    },
    {
     "name": "stderr",
     "output_type": "stream",
     "text": [
      " 13%|█▎        | 562/4493 [00:24<02:50, 23.05it/s]\n"
     ]
    },
    {
     "name": "stdout",
     "output_type": "stream",
     "text": [
      "Epoch 72 with g_loss: 1.1971344303612503 and d_loss: 0.0\n",
      "Epoch: 72, g_acc=0.0, d_acc_f=1.0, d_acc_r=1.0\n"
     ]
    },
    {
     "name": "stderr",
     "output_type": "stream",
     "text": [
      " 13%|█▎        | 562/4493 [00:23<02:41, 24.39it/s]\n"
     ]
    },
    {
     "name": "stdout",
     "output_type": "stream",
     "text": [
      "Epoch 72 with g_loss: 1.1972563911487233 and d_loss: 0.0\n",
      "Epoch: 72, g_acc=0.0, d_acc_f=1.0, d_acc_r=1.0\n"
     ]
    },
    {
     "name": "stderr",
     "output_type": "stream",
     "text": [
      " 13%|█▎        | 562/4493 [00:23<02:41, 24.40it/s]\n"
     ]
    },
    {
     "name": "stdout",
     "output_type": "stream",
     "text": [
      "Epoch 72 with g_loss: 0.971340102064768 and d_loss: 0.0\n",
      "Epoch: 72, g_acc=0.0, d_acc_f=0.0, d_acc_r=1.0\n"
     ]
    },
    {
     "name": "stderr",
     "output_type": "stream",
     "text": [
      "100%|██████████| 4493/4493 [03:03<00:00, 24.53it/s]\n"
     ]
    },
    {
     "name": "stdout",
     "output_type": "stream",
     "text": [
      "Epoch 73 with g_loss: 0.0 and d_loss: 0.008394144573948633\n",
      "Epoch: 73, g_acc=0.0, d_acc_f=1.0, d_acc_r=1.0\n"
     ]
    },
    {
     "name": "stderr",
     "output_type": "stream",
     "text": [
      " 13%|█▎        | 562/4493 [00:24<02:50, 23.08it/s]\n"
     ]
    },
    {
     "name": "stdout",
     "output_type": "stream",
     "text": [
      "Epoch 73 with g_loss: 1.1411118769523643 and d_loss: 0.0\n",
      "Epoch: 73, g_acc=0.0, d_acc_f=1.0, d_acc_r=1.0\n"
     ]
    },
    {
     "name": "stderr",
     "output_type": "stream",
     "text": [
      " 13%|█▎        | 562/4493 [00:22<02:40, 24.46it/s]\n"
     ]
    },
    {
     "name": "stdout",
     "output_type": "stream",
     "text": [
      "Epoch 73 with g_loss: 0.5178125482000744 and d_loss: 0.0\n",
      "Epoch: 73, g_acc=0.0010000000474974513, d_acc_f=0.0, d_acc_r=1.0\n"
     ]
    },
    {
     "name": "stderr",
     "output_type": "stream",
     "text": [
      "100%|██████████| 4493/4493 [03:02<00:00, 24.60it/s]\n"
     ]
    },
    {
     "name": "stdout",
     "output_type": "stream",
     "text": [
      "Epoch 74 with g_loss: 0.0 and d_loss: 0.012654568673651573\n",
      "Epoch: 74, g_acc=0.0010000000474974513, d_acc_f=1.0, d_acc_r=0.999000072479248\n"
     ]
    },
    {
     "name": "stderr",
     "output_type": "stream",
     "text": [
      " 13%|█▎        | 562/4493 [00:23<02:41, 24.37it/s]\n"
     ]
    },
    {
     "name": "stdout",
     "output_type": "stream",
     "text": [
      "Epoch 74 with g_loss: 0.98869633488896 and d_loss: 0.0\n",
      "Epoch: 74, g_acc=0.0010000000474974513, d_acc_f=1.0, d_acc_r=0.999000072479248\n"
     ]
    },
    {
     "name": "stderr",
     "output_type": "stream",
     "text": [
      " 13%|█▎        | 562/4493 [00:24<02:49, 23.17it/s]\n"
     ]
    },
    {
     "name": "stdout",
     "output_type": "stream",
     "text": [
      "Epoch 74 with g_loss: 0.9886507930666467 and d_loss: 0.0\n",
      "Epoch: 74, g_acc=0.0010000000474974513, d_acc_f=1.0, d_acc_r=0.999000072479248\n"
     ]
    },
    {
     "name": "stderr",
     "output_type": "stream",
     "text": [
      " 13%|█▎        | 562/4493 [00:22<02:40, 24.46it/s]\n"
     ]
    },
    {
     "name": "stdout",
     "output_type": "stream",
     "text": [
      "Epoch 74 with g_loss: 0.9885679722999693 and d_loss: 0.0\n",
      "Epoch: 74, g_acc=0.0010000000474974513, d_acc_f=1.0, d_acc_r=0.999000072479248\n"
     ]
    },
    {
     "name": "stderr",
     "output_type": "stream",
     "text": [
      " 13%|█▎        | 562/4493 [00:22<02:40, 24.47it/s]\n"
     ]
    },
    {
     "name": "stdout",
     "output_type": "stream",
     "text": [
      "Epoch 74 with g_loss: 0.9886072188741827 and d_loss: 0.0\n",
      "Epoch: 74, g_acc=0.0010000000474974513, d_acc_f=1.0, d_acc_r=0.999000072479248\n"
     ]
    },
    {
     "name": "stderr",
     "output_type": "stream",
     "text": [
      " 13%|█▎        | 562/4493 [00:22<02:40, 24.45it/s]\n"
     ]
    },
    {
     "name": "stdout",
     "output_type": "stream",
     "text": [
      "Epoch 74 with g_loss: 0.21473103944185665 and d_loss: 0.0\n",
      "Epoch: 74, g_acc=0.005000000353902578, d_acc_f=0.0, d_acc_r=0.999000072479248\n"
     ]
    },
    {
     "name": "stderr",
     "output_type": "stream",
     "text": [
      "100%|██████████| 4493/4493 [03:02<00:00, 24.56it/s]\n"
     ]
    },
    {
     "name": "stdout",
     "output_type": "stream",
     "text": [
      "Epoch 75 with g_loss: 0.0 and d_loss: 0.03154092860322001\n",
      "Epoch: 75, g_acc=0.005000000353902578, d_acc_f=1.0, d_acc_r=0.9950000643730164\n"
     ]
    },
    {
     "name": "stderr",
     "output_type": "stream",
     "text": [
      " 13%|█▎        | 562/4493 [00:24<02:49, 23.20it/s]\n"
     ]
    },
    {
     "name": "stdout",
     "output_type": "stream",
     "text": [
      "Epoch 75 with g_loss: 0.0031398099924384807 and d_loss: 0.0\n",
      "Epoch: 75, g_acc=0.0, d_acc_f=0.0, d_acc_r=0.9950000643730164\n"
     ]
    },
    {
     "name": "stderr",
     "output_type": "stream",
     "text": [
      "100%|██████████| 4493/4493 [03:02<00:00, 24.58it/s]\n"
     ]
    },
    {
     "name": "stdout",
     "output_type": "stream",
     "text": [
      "Epoch 76 with g_loss: 0.0 and d_loss: 0.03893615529266071\n",
      "Epoch: 76, g_acc=0.0, d_acc_f=1.0, d_acc_r=1.0\n"
     ]
    },
    {
     "name": "stderr",
     "output_type": "stream",
     "text": [
      " 13%|█▎        | 562/4493 [00:23<02:41, 24.42it/s]\n"
     ]
    },
    {
     "name": "stdout",
     "output_type": "stream",
     "text": [
      "Epoch 76 with g_loss: 0.0017171251076108598 and d_loss: 0.0\n",
      "Epoch: 76, g_acc=0.0010000000474974513, d_acc_f=0.0, d_acc_r=1.0\n"
     ]
    },
    {
     "name": "stderr",
     "output_type": "stream",
     "text": [
      "100%|██████████| 4493/4493 [03:11<00:00, 23.52it/s]\n"
     ]
    },
    {
     "name": "stdout",
     "output_type": "stream",
     "text": [
      "Epoch 77 with g_loss: 0.0 and d_loss: 0.018082237938021935\n",
      "Epoch: 77, g_acc=0.0010000000474974513, d_acc_f=1.0, d_acc_r=0.999000072479248\n"
     ]
    },
    {
     "name": "stderr",
     "output_type": "stream",
     "text": [
      " 13%|█▎        | 562/4493 [00:23<02:46, 23.66it/s]\n"
     ]
    },
    {
     "name": "stdout",
     "output_type": "stream",
     "text": [
      "Epoch 77 with g_loss: 0.0018778061369892792 and d_loss: 0.0\n",
      "Epoch: 77, g_acc=0.0, d_acc_f=0.0, d_acc_r=0.999000072479248\n"
     ]
    },
    {
     "name": "stderr",
     "output_type": "stream",
     "text": [
      "100%|██████████| 4493/4493 [03:09<00:00, 23.71it/s]\n"
     ]
    },
    {
     "name": "stdout",
     "output_type": "stream",
     "text": [
      "Epoch 78 with g_loss: 0.0 and d_loss: 0.028661496748077362\n",
      "Epoch: 78, g_acc=0.0, d_acc_f=1.0, d_acc_r=1.0\n"
     ]
    },
    {
     "name": "stderr",
     "output_type": "stream",
     "text": [
      " 13%|█▎        | 562/4493 [00:23<02:47, 23.53it/s]\n"
     ]
    },
    {
     "name": "stdout",
     "output_type": "stream",
     "text": [
      "Epoch 78 with g_loss: 0.0043685871073641655 and d_loss: 0.0\n",
      "Epoch: 78, g_acc=0.003000000026077032, d_acc_f=0.0, d_acc_r=1.0\n"
     ]
    },
    {
     "name": "stderr",
     "output_type": "stream",
     "text": [
      "100%|██████████| 4493/4493 [03:11<00:00, 23.51it/s]\n"
     ]
    },
    {
     "name": "stdout",
     "output_type": "stream",
     "text": [
      "Epoch 79 with g_loss: 0.0 and d_loss: 0.021499786390246186\n",
      "Epoch: 79, g_acc=0.003000000026077032, d_acc_f=1.0, d_acc_r=0.9970000386238098\n"
     ]
    },
    {
     "name": "stderr",
     "output_type": "stream",
     "text": [
      " 13%|█▎        | 562/4493 [00:23<02:47, 23.53it/s]\n"
     ]
    },
    {
     "name": "stdout",
     "output_type": "stream",
     "text": [
      "Epoch 79 with g_loss: 0.0023052012772752676 and d_loss: 0.0\n",
      "Epoch: 79, g_acc=0.01100000087171793, d_acc_f=0.0, d_acc_r=0.9970000386238098\n"
     ]
    },
    {
     "name": "stderr",
     "output_type": "stream",
     "text": [
      "100%|██████████| 4493/4493 [03:09<00:00, 23.69it/s]\n"
     ]
    },
    {
     "name": "stdout",
     "output_type": "stream",
     "text": [
      "Epoch 80 with g_loss: 0.0 and d_loss: 0.01743149398224683\n",
      "Epoch: 80, g_acc=0.01100000087171793, d_acc_f=1.0, d_acc_r=0.9890000224113464\n"
     ]
    },
    {
     "name": "stderr",
     "output_type": "stream",
     "text": [
      " 13%|█▎        | 562/4493 [00:23<02:46, 23.63it/s]\n"
     ]
    },
    {
     "name": "stdout",
     "output_type": "stream",
     "text": [
      "Epoch 80 with g_loss: 0.11852390842141006 and d_loss: 0.0\n",
      "Epoch: 80, g_acc=0.0, d_acc_f=0.0, d_acc_r=0.9890000224113464\n"
     ]
    },
    {
     "name": "stderr",
     "output_type": "stream",
     "text": [
      "100%|██████████| 4493/4493 [03:11<00:00, 23.51it/s]\n"
     ]
    },
    {
     "name": "stdout",
     "output_type": "stream",
     "text": [
      "Epoch 81 with g_loss: 0.0 and d_loss: 0.01882851815650228\n",
      "Epoch: 81, g_acc=0.0, d_acc_f=1.0, d_acc_r=1.0\n"
     ]
    },
    {
     "name": "stderr",
     "output_type": "stream",
     "text": [
      " 13%|█▎        | 562/4493 [00:23<02:47, 23.43it/s]\n"
     ]
    },
    {
     "name": "stdout",
     "output_type": "stream",
     "text": [
      "Epoch 81 with g_loss: 1.0672715575716794 and d_loss: 0.0\n",
      "Epoch: 81, g_acc=0.0, d_acc_f=1.0, d_acc_r=1.0\n"
     ]
    },
    {
     "name": "stderr",
     "output_type": "stream",
     "text": [
      " 13%|█▎        | 562/4493 [00:23<02:47, 23.48it/s]\n"
     ]
    },
    {
     "name": "stdout",
     "output_type": "stream",
     "text": [
      "Epoch 81 with g_loss: 1.0678032990317023 and d_loss: 0.0\n",
      "Epoch: 81, g_acc=0.0, d_acc_f=1.0, d_acc_r=1.0\n"
     ]
    },
    {
     "name": "stderr",
     "output_type": "stream",
     "text": [
      " 13%|█▎        | 562/4493 [00:23<02:46, 23.59it/s]\n"
     ]
    },
    {
     "name": "stdout",
     "output_type": "stream",
     "text": [
      "Epoch 81 with g_loss: 1.0676724701131501 and d_loss: 0.0\n",
      "Epoch: 81, g_acc=0.0, d_acc_f=1.0, d_acc_r=1.0\n"
     ]
    },
    {
     "name": "stderr",
     "output_type": "stream",
     "text": [
      " 13%|█▎        | 562/4493 [00:23<02:47, 23.52it/s]\n"
     ]
    },
    {
     "name": "stdout",
     "output_type": "stream",
     "text": [
      "Epoch 81 with g_loss: 1.066735910992566 and d_loss: 0.0\n",
      "Epoch: 81, g_acc=0.0, d_acc_f=1.0, d_acc_r=1.0\n"
     ]
    },
    {
     "name": "stderr",
     "output_type": "stream",
     "text": [
      " 13%|█▎        | 562/4493 [00:23<02:46, 23.62it/s]\n"
     ]
    },
    {
     "name": "stdout",
     "output_type": "stream",
     "text": [
      "Epoch 81 with g_loss: 0.30132065877221376 and d_loss: 0.0\n",
      "Epoch: 81, g_acc=0.0, d_acc_f=0.0, d_acc_r=1.0\n"
     ]
    },
    {
     "name": "stderr",
     "output_type": "stream",
     "text": [
      "100%|██████████| 4493/4493 [03:10<00:00, 23.53it/s]\n"
     ]
    },
    {
     "name": "stdout",
     "output_type": "stream",
     "text": [
      "Epoch 82 with g_loss: 0.0 and d_loss: 0.0033020996924686217\n",
      "Epoch: 82, g_acc=0.0, d_acc_f=1.0, d_acc_r=1.0\n"
     ]
    },
    {
     "name": "stderr",
     "output_type": "stream",
     "text": [
      " 13%|█▎        | 562/4493 [00:23<02:46, 23.56it/s]\n"
     ]
    },
    {
     "name": "stdout",
     "output_type": "stream",
     "text": [
      "Epoch 82 with g_loss: 1.0804126899968853 and d_loss: 0.0\n",
      "Epoch: 82, g_acc=0.0, d_acc_f=1.0, d_acc_r=1.0\n"
     ]
    },
    {
     "name": "stderr",
     "output_type": "stream",
     "text": [
      " 13%|█▎        | 562/4493 [00:23<02:47, 23.48it/s]\n"
     ]
    },
    {
     "name": "stdout",
     "output_type": "stream",
     "text": [
      "Epoch 82 with g_loss: 1.0808719532701503 and d_loss: 0.0\n",
      "Epoch: 82, g_acc=0.0, d_acc_f=1.0, d_acc_r=1.0\n"
     ]
    },
    {
     "name": "stderr",
     "output_type": "stream",
     "text": [
      " 13%|█▎        | 562/4493 [00:25<02:56, 22.32it/s]\n"
     ]
    },
    {
     "name": "stdout",
     "output_type": "stream",
     "text": [
      "Epoch 82 with g_loss: 1.0804153695394116 and d_loss: 0.0\n",
      "Epoch: 82, g_acc=0.0, d_acc_f=1.0, d_acc_r=1.0\n"
     ]
    },
    {
     "name": "stderr",
     "output_type": "stream",
     "text": [
      " 13%|█▎        | 562/4493 [00:23<02:46, 23.65it/s]\n"
     ]
    },
    {
     "name": "stdout",
     "output_type": "stream",
     "text": [
      "Epoch 82 with g_loss: 0.7468417561023303 and d_loss: 0.0\n",
      "Epoch: 82, g_acc=0.0010000000474974513, d_acc_f=0.0, d_acc_r=1.0\n"
     ]
    },
    {
     "name": "stderr",
     "output_type": "stream",
     "text": [
      "100%|██████████| 4493/4493 [03:09<00:00, 23.72it/s]\n"
     ]
    },
    {
     "name": "stdout",
     "output_type": "stream",
     "text": [
      "Epoch 83 with g_loss: 0.0 and d_loss: 0.006217157644477738\n",
      "Epoch: 83, g_acc=0.0010000000474974513, d_acc_f=1.0, d_acc_r=0.999000072479248\n"
     ]
    },
    {
     "name": "stderr",
     "output_type": "stream",
     "text": [
      " 13%|█▎        | 562/4493 [00:24<02:48, 23.30it/s]\n"
     ]
    },
    {
     "name": "stdout",
     "output_type": "stream",
     "text": [
      "Epoch 83 with g_loss: 1.0872535503921492 and d_loss: 0.0\n",
      "Epoch: 83, g_acc=0.0010000000474974513, d_acc_f=1.0, d_acc_r=0.999000072479248\n"
     ]
    },
    {
     "name": "stderr",
     "output_type": "stream",
     "text": [
      " 13%|█▎        | 562/4493 [00:25<02:54, 22.47it/s]\n"
     ]
    },
    {
     "name": "stdout",
     "output_type": "stream",
     "text": [
      "Epoch 83 with g_loss: 1.0874167649697652 and d_loss: 0.0\n",
      "Epoch: 83, g_acc=0.0010000000474974513, d_acc_f=1.0, d_acc_r=0.999000072479248\n"
     ]
    },
    {
     "name": "stderr",
     "output_type": "stream",
     "text": [
      " 13%|█▎        | 562/4493 [00:23<02:46, 23.59it/s]\n"
     ]
    },
    {
     "name": "stdout",
     "output_type": "stream",
     "text": [
      "Epoch 83 with g_loss: 1.0873067037793382 and d_loss: 0.0\n",
      "Epoch: 83, g_acc=0.0010000000474974513, d_acc_f=1.0, d_acc_r=0.999000072479248\n"
     ]
    },
    {
     "name": "stderr",
     "output_type": "stream",
     "text": [
      " 13%|█▎        | 562/4493 [00:23<02:46, 23.65it/s]\n"
     ]
    },
    {
     "name": "stdout",
     "output_type": "stream",
     "text": [
      "Epoch 83 with g_loss: 1.0871356263236056 and d_loss: 0.0\n",
      "Epoch: 83, g_acc=0.0010000000474974513, d_acc_f=1.0, d_acc_r=0.999000072479248\n"
     ]
    },
    {
     "name": "stderr",
     "output_type": "stream",
     "text": [
      " 13%|█▎        | 562/4493 [00:23<02:46, 23.67it/s]\n"
     ]
    },
    {
     "name": "stdout",
     "output_type": "stream",
     "text": [
      "Epoch 83 with g_loss: 1.0872459335208284 and d_loss: 0.0\n",
      "Epoch: 83, g_acc=0.0010000000474974513, d_acc_f=1.0, d_acc_r=0.999000072479248\n"
     ]
    },
    {
     "name": "stderr",
     "output_type": "stream",
     "text": [
      " 13%|█▎        | 562/4493 [00:25<02:56, 22.30it/s]\n"
     ]
    },
    {
     "name": "stdout",
     "output_type": "stream",
     "text": [
      "Epoch 83 with g_loss: 1.087109001129103 and d_loss: 0.0\n",
      "Epoch: 83, g_acc=0.0010000000474974513, d_acc_f=1.0, d_acc_r=0.999000072479248\n"
     ]
    },
    {
     "name": "stderr",
     "output_type": "stream",
     "text": [
      " 13%|█▎        | 562/4493 [00:23<02:46, 23.54it/s]\n"
     ]
    },
    {
     "name": "stdout",
     "output_type": "stream",
     "text": [
      "Epoch 83 with g_loss: 1.0873113728142676 and d_loss: 0.0\n",
      "Epoch: 83, g_acc=0.0010000000474974513, d_acc_f=1.0, d_acc_r=0.999000072479248\n"
     ]
    },
    {
     "name": "stderr",
     "output_type": "stream",
     "text": [
      " 13%|█▎        | 562/4493 [00:23<02:47, 23.48it/s]\n"
     ]
    },
    {
     "name": "stdout",
     "output_type": "stream",
     "text": [
      "Epoch 83 with g_loss: 1.0871853311582422 and d_loss: 0.0\n",
      "Epoch: 83, g_acc=0.0010000000474974513, d_acc_f=1.0, d_acc_r=0.999000072479248\n"
     ]
    },
    {
     "name": "stderr",
     "output_type": "stream",
     "text": [
      " 13%|█▎        | 562/4493 [00:23<02:46, 23.60it/s]\n"
     ]
    },
    {
     "name": "stdout",
     "output_type": "stream",
     "text": [
      "Epoch 83 with g_loss: 1.0869357917559803 and d_loss: 0.0\n",
      "Epoch: 83, g_acc=0.0010000000474974513, d_acc_f=1.0, d_acc_r=0.999000072479248\n"
     ]
    },
    {
     "name": "stderr",
     "output_type": "stream",
     "text": [
      " 13%|█▎        | 562/4493 [00:25<02:55, 22.37it/s]\n"
     ]
    },
    {
     "name": "stdout",
     "output_type": "stream",
     "text": [
      "Epoch 83 with g_loss: 1.0867480709535253 and d_loss: 0.0\n",
      "Epoch: 83, g_acc=0.0010000000474974513, d_acc_f=1.0, d_acc_r=0.999000072479248\n"
     ]
    },
    {
     "name": "stderr",
     "output_type": "stream",
     "text": [
      " 13%|█▎        | 562/4493 [00:23<02:46, 23.59it/s]\n"
     ]
    },
    {
     "name": "stdout",
     "output_type": "stream",
     "text": [
      "Epoch 83 with g_loss: 1.0869287343962326 and d_loss: 0.0\n",
      "Epoch: 83, g_acc=0.0010000000474974513, d_acc_f=1.0, d_acc_r=0.999000072479248\n"
     ]
    },
    {
     "name": "stderr",
     "output_type": "stream",
     "text": [
      " 13%|█▎        | 562/4493 [00:23<02:46, 23.62it/s]\n"
     ]
    },
    {
     "name": "stdout",
     "output_type": "stream",
     "text": [
      "Epoch 83 with g_loss: 0.021263865336180663 and d_loss: 0.0\n",
      "Epoch: 83, g_acc=0.0, d_acc_f=0.0, d_acc_r=0.999000072479248\n"
     ]
    },
    {
     "name": "stderr",
     "output_type": "stream",
     "text": [
      "100%|██████████| 4493/4493 [03:08<00:00, 23.87it/s]\n"
     ]
    },
    {
     "name": "stdout",
     "output_type": "stream",
     "text": [
      "Epoch 84 with g_loss: 0.0 and d_loss: 0.03480817238615124\n",
      "Epoch: 84, g_acc=0.0, d_acc_f=1.0, d_acc_r=0.9950000643730164\n"
     ]
    },
    {
     "name": "stderr",
     "output_type": "stream",
     "text": [
      " 13%|█▎        | 562/4493 [00:25<02:55, 22.43it/s]\n"
     ]
    },
    {
     "name": "stdout",
     "output_type": "stream",
     "text": [
      "Epoch 84 with g_loss: 0.0028362867327362644 and d_loss: 0.0\n",
      "Epoch: 84, g_acc=0.0, d_acc_f=0.0, d_acc_r=0.9950000643730164\n"
     ]
    },
    {
     "name": "stderr",
     "output_type": "stream",
     "text": [
      "100%|██████████| 4493/4493 [03:08<00:00, 23.82it/s]\n"
     ]
    },
    {
     "name": "stdout",
     "output_type": "stream",
     "text": [
      "Epoch 85 with g_loss: 0.0 and d_loss: 47.409138822482156\n",
      "Epoch: 85, g_acc=0.0, d_acc_f=1.0, d_acc_r=1.0\n"
     ]
    },
    {
     "name": "stderr",
     "output_type": "stream",
     "text": [
      " 13%|█▎        | 562/4493 [00:23<02:46, 23.59it/s]\n"
     ]
    },
    {
     "name": "stdout",
     "output_type": "stream",
     "text": [
      "Epoch 85 with g_loss: 0.0023367475056544195 and d_loss: 0.0\n",
      "Epoch: 85, g_acc=0.0, d_acc_f=0.0, d_acc_r=1.0\n"
     ]
    },
    {
     "name": "stderr",
     "output_type": "stream",
     "text": [
      "100%|██████████| 4493/4493 [03:08<00:00, 23.78it/s]\n"
     ]
    },
    {
     "name": "stdout",
     "output_type": "stream",
     "text": [
      "Epoch 86 with g_loss: 0.0 and d_loss: 0.018808709044100418\n",
      "Epoch: 86, g_acc=0.0, d_acc_f=1.0, d_acc_r=1.0\n"
     ]
    },
    {
     "name": "stderr",
     "output_type": "stream",
     "text": [
      " 13%|█▎        | 562/4493 [00:25<02:55, 22.36it/s]\n"
     ]
    },
    {
     "name": "stdout",
     "output_type": "stream",
     "text": [
      "Epoch 86 with g_loss: 0.006770601535380557 and d_loss: 0.0\n",
      "Epoch: 86, g_acc=0.005000000353902578, d_acc_f=0.0, d_acc_r=1.0\n"
     ]
    },
    {
     "name": "stderr",
     "output_type": "stream",
     "text": [
      "100%|██████████| 4493/4493 [03:08<00:00, 23.88it/s]\n"
     ]
    },
    {
     "name": "stdout",
     "output_type": "stream",
     "text": [
      "Epoch 87 with g_loss: 0.0 and d_loss: 0.024509974021720372\n",
      "Epoch: 87, g_acc=0.005000000353902578, d_acc_f=1.0, d_acc_r=0.9950000643730164\n"
     ]
    },
    {
     "name": "stderr",
     "output_type": "stream",
     "text": [
      " 13%|█▎        | 562/4493 [00:23<02:45, 23.69it/s]\n"
     ]
    },
    {
     "name": "stdout",
     "output_type": "stream",
     "text": [
      "Epoch 87 with g_loss: 0.09390177066014421 and d_loss: 0.0\n",
      "Epoch: 87, g_acc=0.0020000000949949026, d_acc_f=0.0, d_acc_r=0.9950000643730164\n"
     ]
    },
    {
     "name": "stderr",
     "output_type": "stream",
     "text": [
      "100%|██████████| 4493/4493 [03:05<00:00, 24.17it/s]\n"
     ]
    },
    {
     "name": "stdout",
     "output_type": "stream",
     "text": [
      "Epoch 88 with g_loss: 0.0 and d_loss: 0.013084765430537255\n",
      "Epoch: 88, g_acc=0.0020000000949949026, d_acc_f=1.0, d_acc_r=0.9980000257492065\n"
     ]
    },
    {
     "name": "stderr",
     "output_type": "stream",
     "text": [
      " 13%|█▎        | 562/4493 [00:25<02:58, 22.04it/s]\n"
     ]
    },
    {
     "name": "stdout",
     "output_type": "stream",
     "text": [
      "Epoch 88 with g_loss: 0.99856780914164 and d_loss: 0.0\n",
      "Epoch: 88, g_acc=0.0020000000949949026, d_acc_f=1.0, d_acc_r=0.9980000257492065\n"
     ]
    },
    {
     "name": "stderr",
     "output_type": "stream",
     "text": [
      " 13%|█▎        | 562/4493 [00:23<02:47, 23.44it/s]\n"
     ]
    },
    {
     "name": "stdout",
     "output_type": "stream",
     "text": [
      "Epoch 88 with g_loss: 0.9988680680769736 and d_loss: 0.0\n",
      "Epoch: 88, g_acc=0.0020000000949949026, d_acc_f=1.0, d_acc_r=0.9980000257492065\n"
     ]
    },
    {
     "name": "stderr",
     "output_type": "stream",
     "text": [
      " 13%|█▎        | 562/4493 [00:23<02:45, 23.70it/s]\n"
     ]
    },
    {
     "name": "stdout",
     "output_type": "stream",
     "text": [
      "Epoch 88 with g_loss: 0.9987560406363729 and d_loss: 0.0\n",
      "Epoch: 88, g_acc=0.0020000000949949026, d_acc_f=1.0, d_acc_r=0.9980000257492065\n"
     ]
    },
    {
     "name": "stderr",
     "output_type": "stream",
     "text": [
      " 13%|█▎        | 562/4493 [00:23<02:45, 23.81it/s]\n"
     ]
    },
    {
     "name": "stdout",
     "output_type": "stream",
     "text": [
      "Epoch 88 with g_loss: 0.5331499634983548 and d_loss: 0.0\n",
      "Epoch: 88, g_acc=0.0, d_acc_f=0.0, d_acc_r=0.9980000257492065\n"
     ]
    },
    {
     "name": "stderr",
     "output_type": "stream",
     "text": [
      "100%|██████████| 4493/4493 [03:11<00:00, 23.47it/s]\n"
     ]
    },
    {
     "name": "stdout",
     "output_type": "stream",
     "text": [
      "Epoch 89 with g_loss: 0.0 and d_loss: 0.06962539549681095\n",
      "Epoch: 89, g_acc=0.0, d_acc_f=1.0, d_acc_r=1.0\n"
     ]
    },
    {
     "name": "stderr",
     "output_type": "stream",
     "text": [
      " 13%|█▎        | 562/4493 [00:23<02:46, 23.61it/s]\n"
     ]
    },
    {
     "name": "stdout",
     "output_type": "stream",
     "text": [
      "Epoch 89 with g_loss: 0.014897658247434328 and d_loss: 0.0\n",
      "Epoch: 89, g_acc=0.004000000189989805, d_acc_f=0.0, d_acc_r=1.0\n"
     ]
    },
    {
     "name": "stderr",
     "output_type": "stream",
     "text": [
      "100%|██████████| 4493/4493 [03:11<00:00, 23.43it/s]\n"
     ]
    },
    {
     "name": "stdout",
     "output_type": "stream",
     "text": [
      "Epoch 90 with g_loss: 0.0 and d_loss: 0.03257294662090059\n",
      "Epoch: 90, g_acc=0.004000000189989805, d_acc_f=1.0, d_acc_r=0.9960000514984131\n"
     ]
    },
    {
     "name": "stderr",
     "output_type": "stream",
     "text": [
      " 13%|█▎        | 562/4493 [00:23<02:46, 23.60it/s]\n"
     ]
    },
    {
     "name": "stdout",
     "output_type": "stream",
     "text": [
      "Epoch 90 with g_loss: 0.0036342408468751364 and d_loss: 0.0\n",
      "Epoch: 90, g_acc=0.0, d_acc_f=0.0, d_acc_r=0.9960000514984131\n"
     ]
    },
    {
     "name": "stderr",
     "output_type": "stream",
     "text": [
      "  2%|▏         | 87/4493 [00:03<03:14, 22.61it/s]\n"
     ]
    },
    {
     "ename": "KeyboardInterrupt",
     "evalue": "",
     "output_type": "error",
     "traceback": [
      "\u001B[1;31m---------------------------------------------------------------------------\u001B[0m",
      "\u001B[1;31mKeyboardInterrupt\u001B[0m                         Traceback (most recent call last)",
      "Input \u001B[1;32mIn [142]\u001B[0m, in \u001B[0;36m<cell line: 1>\u001B[1;34m()\u001B[0m\n\u001B[0;32m     12\u001B[0m             \u001B[38;5;28;01mbreak\u001B[39;00m\n\u001B[0;32m     13\u001B[0m         \u001B[38;5;28;01mfor\u001B[39;00m bitboards, mvs \u001B[38;5;129;01min\u001B[39;00m tqdm(loader):\n\u001B[1;32m---> 15\u001B[0m             \u001B[43mRSv1\u001B[49m\u001B[38;5;241;43m.\u001B[39;49m\u001B[43mtrain_step\u001B[49m\u001B[43m(\u001B[49m\u001B[43mbitboards\u001B[49m\u001B[43m,\u001B[49m\u001B[43m \u001B[49m\u001B[43mmvs\u001B[49m\u001B[43m,\u001B[49m\u001B[43m \u001B[49m\u001B[43mtrain_generator\u001B[49m\u001B[38;5;241;43m=\u001B[39;49m\u001B[38;5;28;43;01mFalse\u001B[39;49;00m\u001B[43m)\u001B[49m\n\u001B[0;32m     18\u001B[0m         RSv1\u001B[38;5;241m.\u001B[39mon_epoch_end(epoch, G, val_data)\n\u001B[0;32m     20\u001B[0m reps \u001B[38;5;241m=\u001B[39m \u001B[38;5;241m0\u001B[39m\n",
      "Input \u001B[1;32mIn [88]\u001B[0m, in \u001B[0;36mGAN_1.train_step\u001B[1;34m(self, train_boards, real_moves, train_generator)\u001B[0m\n\u001B[0;32m     61\u001B[0m d_loss \u001B[38;5;241m=\u001B[39m d_real_loss \u001B[38;5;241m+\u001B[39m d_fake_loss\n\u001B[0;32m     62\u001B[0m \u001B[38;5;28mself\u001B[39m\u001B[38;5;241m.\u001B[39mlogs[\u001B[38;5;124m\"\u001B[39m\u001B[38;5;124mcur_d_loss\u001B[39m\u001B[38;5;124m\"\u001B[39m] \u001B[38;5;241m+\u001B[39m\u001B[38;5;241m=\u001B[39m d_loss\u001B[38;5;241m.\u001B[39mitem()\n\u001B[1;32m---> 64\u001B[0m \u001B[43md_loss\u001B[49m\u001B[38;5;241;43m.\u001B[39;49m\u001B[43mbackward\u001B[49m\u001B[43m(\u001B[49m\u001B[43m)\u001B[49m\n\u001B[0;32m     66\u001B[0m \u001B[38;5;28mself\u001B[39m\u001B[38;5;241m.\u001B[39mopt_d\u001B[38;5;241m.\u001B[39mstep()\n",
      "File \u001B[1;32m~\\anaconda3\\lib\\site-packages\\torch\\_tensor.py:522\u001B[0m, in \u001B[0;36mTensor.backward\u001B[1;34m(self, gradient, retain_graph, create_graph, inputs)\u001B[0m\n\u001B[0;32m    512\u001B[0m \u001B[38;5;28;01mif\u001B[39;00m has_torch_function_unary(\u001B[38;5;28mself\u001B[39m):\n\u001B[0;32m    513\u001B[0m     \u001B[38;5;28;01mreturn\u001B[39;00m handle_torch_function(\n\u001B[0;32m    514\u001B[0m         Tensor\u001B[38;5;241m.\u001B[39mbackward,\n\u001B[0;32m    515\u001B[0m         (\u001B[38;5;28mself\u001B[39m,),\n\u001B[1;32m   (...)\u001B[0m\n\u001B[0;32m    520\u001B[0m         inputs\u001B[38;5;241m=\u001B[39minputs,\n\u001B[0;32m    521\u001B[0m     )\n\u001B[1;32m--> 522\u001B[0m \u001B[43mtorch\u001B[49m\u001B[38;5;241;43m.\u001B[39;49m\u001B[43mautograd\u001B[49m\u001B[38;5;241;43m.\u001B[39;49m\u001B[43mbackward\u001B[49m\u001B[43m(\u001B[49m\n\u001B[0;32m    523\u001B[0m \u001B[43m    \u001B[49m\u001B[38;5;28;43mself\u001B[39;49m\u001B[43m,\u001B[49m\u001B[43m \u001B[49m\u001B[43mgradient\u001B[49m\u001B[43m,\u001B[49m\u001B[43m \u001B[49m\u001B[43mretain_graph\u001B[49m\u001B[43m,\u001B[49m\u001B[43m \u001B[49m\u001B[43mcreate_graph\u001B[49m\u001B[43m,\u001B[49m\u001B[43m \u001B[49m\u001B[43minputs\u001B[49m\u001B[38;5;241;43m=\u001B[39;49m\u001B[43minputs\u001B[49m\n\u001B[0;32m    524\u001B[0m \u001B[43m\u001B[49m\u001B[43m)\u001B[49m\n",
      "File \u001B[1;32m~\\anaconda3\\lib\\site-packages\\torch\\autograd\\__init__.py:266\u001B[0m, in \u001B[0;36mbackward\u001B[1;34m(tensors, grad_tensors, retain_graph, create_graph, grad_variables, inputs)\u001B[0m\n\u001B[0;32m    261\u001B[0m     retain_graph \u001B[38;5;241m=\u001B[39m create_graph\n\u001B[0;32m    263\u001B[0m \u001B[38;5;66;03m# The reason we repeat the same comment below is that\u001B[39;00m\n\u001B[0;32m    264\u001B[0m \u001B[38;5;66;03m# some Python versions print out the first line of a multi-line function\u001B[39;00m\n\u001B[0;32m    265\u001B[0m \u001B[38;5;66;03m# calls in the traceback and some print out the last line\u001B[39;00m\n\u001B[1;32m--> 266\u001B[0m \u001B[43mVariable\u001B[49m\u001B[38;5;241;43m.\u001B[39;49m\u001B[43m_execution_engine\u001B[49m\u001B[38;5;241;43m.\u001B[39;49m\u001B[43mrun_backward\u001B[49m\u001B[43m(\u001B[49m\u001B[43m  \u001B[49m\u001B[38;5;66;43;03m# Calls into the C++ engine to run the backward pass\u001B[39;49;00m\n\u001B[0;32m    267\u001B[0m \u001B[43m    \u001B[49m\u001B[43mtensors\u001B[49m\u001B[43m,\u001B[49m\n\u001B[0;32m    268\u001B[0m \u001B[43m    \u001B[49m\u001B[43mgrad_tensors_\u001B[49m\u001B[43m,\u001B[49m\n\u001B[0;32m    269\u001B[0m \u001B[43m    \u001B[49m\u001B[43mretain_graph\u001B[49m\u001B[43m,\u001B[49m\n\u001B[0;32m    270\u001B[0m \u001B[43m    \u001B[49m\u001B[43mcreate_graph\u001B[49m\u001B[43m,\u001B[49m\n\u001B[0;32m    271\u001B[0m \u001B[43m    \u001B[49m\u001B[43minputs\u001B[49m\u001B[43m,\u001B[49m\n\u001B[0;32m    272\u001B[0m \u001B[43m    \u001B[49m\u001B[43mallow_unreachable\u001B[49m\u001B[38;5;241;43m=\u001B[39;49m\u001B[38;5;28;43;01mTrue\u001B[39;49;00m\u001B[43m,\u001B[49m\n\u001B[0;32m    273\u001B[0m \u001B[43m    \u001B[49m\u001B[43maccumulate_grad\u001B[49m\u001B[38;5;241;43m=\u001B[39;49m\u001B[38;5;28;43;01mTrue\u001B[39;49;00m\u001B[43m,\u001B[49m\n\u001B[0;32m    274\u001B[0m \u001B[43m\u001B[49m\u001B[43m)\u001B[49m\n",
      "\u001B[1;31mKeyboardInterrupt\u001B[0m: "
     ]
    }
   ],
   "source": [
    "for epoch in range(51,150):\n",
    "\n",
    "    reps = 0\n",
    "\n",
    "    if train_all or train_discriminator:\n",
    "\n",
    "        while RSv1.logs['d_acc_f'][-1] < 0.5:\n",
    "            reps += 1\n",
    "            if reps > 5:\n",
    "                train_all = False\n",
    "                train_discriminator = False\n",
    "                break\n",
    "            for bitboards, mvs in tqdm(loader):\n",
    "\n",
    "                RSv1.train_step(bitboards, mvs, train_generator=False)\n",
    "\n",
    "\n",
    "            RSv1.on_epoch_end(epoch, G, val_data)\n",
    "\n",
    "    reps = 0\n",
    "    if train_all or not train_discriminator:\n",
    "\n",
    "        while RSv1.logs['d_acc_f'][-1] > 0.5:\n",
    "            reps += 1\n",
    "            if reps > 12:\n",
    "                train_all = False\n",
    "                train_discriminator = True\n",
    "                break\n",
    "\n",
    "            i=0\n",
    "            for bitboards, mvs in tqdm(loader):\n",
    "\n",
    "                if i > G // 8:\n",
    "                    break\n",
    "\n",
    "                RSv1.train_step(bitboards, mvs, train_generator=True)\n",
    "                i += 1\n",
    "\n",
    "            RSv1.on_epoch_end(epoch, G, val_data)"
   ],
   "metadata": {
    "collapsed": false,
    "ExecuteTime": {
     "end_time": "2024-04-02T22:03:48.752089Z",
     "start_time": "2024-04-02T19:30:12.313285Z"
    }
   },
   "id": "68ecb55a7a2f10f5",
   "execution_count": 142
  },
  {
   "cell_type": "code",
   "outputs": [
    {
     "ename": "OutOfMemoryError",
     "evalue": "CUDA out of memory. Tried to allocate 16.00 MiB. GPU 0 has a total capacity of 8.00 GiB of which 0 bytes is free. Of the allocated memory 14.42 GiB is allocated by PyTorch, and 67.98 MiB is reserved by PyTorch but unallocated. If reserved but unallocated memory is large try setting PYTORCH_CUDA_ALLOC_CONF=expandable_segments:True to avoid fragmentation.  See documentation for Memory Management  (https://pytorch.org/docs/stable/notes/cuda.html#environment-variables)",
     "output_type": "error",
     "traceback": [
      "\u001B[1;31m---------------------------------------------------------------------------\u001B[0m",
      "\u001B[1;31mOutOfMemoryError\u001B[0m                          Traceback (most recent call last)",
      "Input \u001B[1;32mIn [150]\u001B[0m, in \u001B[0;36m<cell line: 2>\u001B[1;34m()\u001B[0m\n\u001B[0;32m      1\u001B[0m old_generator \u001B[38;5;241m=\u001B[39m torch\u001B[38;5;241m.\u001B[39mload(\u001B[38;5;124m\"\u001B[39m\u001B[38;5;124mgenerator 85.pt\u001B[39m\u001B[38;5;124m\"\u001B[39m)\n\u001B[1;32m----> 2\u001B[0m torch\u001B[38;5;241m.\u001B[39mmean(RSv1\u001B[38;5;241m.\u001B[39mdiscriminator(val_boards, \u001B[43mold_generator\u001B[49m\u001B[43m(\u001B[49m\u001B[43mval_boards\u001B[49m\u001B[43m)\u001B[49m))\n",
      "File \u001B[1;32m~\\anaconda3\\lib\\site-packages\\torch\\nn\\modules\\module.py:1511\u001B[0m, in \u001B[0;36mModule._wrapped_call_impl\u001B[1;34m(self, *args, **kwargs)\u001B[0m\n\u001B[0;32m   1509\u001B[0m     \u001B[38;5;28;01mreturn\u001B[39;00m \u001B[38;5;28mself\u001B[39m\u001B[38;5;241m.\u001B[39m_compiled_call_impl(\u001B[38;5;241m*\u001B[39margs, \u001B[38;5;241m*\u001B[39m\u001B[38;5;241m*\u001B[39mkwargs)  \u001B[38;5;66;03m# type: ignore[misc]\u001B[39;00m\n\u001B[0;32m   1510\u001B[0m \u001B[38;5;28;01melse\u001B[39;00m:\n\u001B[1;32m-> 1511\u001B[0m     \u001B[38;5;28;01mreturn\u001B[39;00m \u001B[38;5;28mself\u001B[39m\u001B[38;5;241m.\u001B[39m_call_impl(\u001B[38;5;241m*\u001B[39margs, \u001B[38;5;241m*\u001B[39m\u001B[38;5;241m*\u001B[39mkwargs)\n",
      "File \u001B[1;32m~\\anaconda3\\lib\\site-packages\\torch\\nn\\modules\\module.py:1520\u001B[0m, in \u001B[0;36mModule._call_impl\u001B[1;34m(self, *args, **kwargs)\u001B[0m\n\u001B[0;32m   1515\u001B[0m \u001B[38;5;66;03m# If we don't have any hooks, we want to skip the rest of the logic in\u001B[39;00m\n\u001B[0;32m   1516\u001B[0m \u001B[38;5;66;03m# this function, and just call forward.\u001B[39;00m\n\u001B[0;32m   1517\u001B[0m \u001B[38;5;28;01mif\u001B[39;00m \u001B[38;5;129;01mnot\u001B[39;00m (\u001B[38;5;28mself\u001B[39m\u001B[38;5;241m.\u001B[39m_backward_hooks \u001B[38;5;129;01mor\u001B[39;00m \u001B[38;5;28mself\u001B[39m\u001B[38;5;241m.\u001B[39m_backward_pre_hooks \u001B[38;5;129;01mor\u001B[39;00m \u001B[38;5;28mself\u001B[39m\u001B[38;5;241m.\u001B[39m_forward_hooks \u001B[38;5;129;01mor\u001B[39;00m \u001B[38;5;28mself\u001B[39m\u001B[38;5;241m.\u001B[39m_forward_pre_hooks\n\u001B[0;32m   1518\u001B[0m         \u001B[38;5;129;01mor\u001B[39;00m _global_backward_pre_hooks \u001B[38;5;129;01mor\u001B[39;00m _global_backward_hooks\n\u001B[0;32m   1519\u001B[0m         \u001B[38;5;129;01mor\u001B[39;00m _global_forward_hooks \u001B[38;5;129;01mor\u001B[39;00m _global_forward_pre_hooks):\n\u001B[1;32m-> 1520\u001B[0m     \u001B[38;5;28;01mreturn\u001B[39;00m forward_call(\u001B[38;5;241m*\u001B[39margs, \u001B[38;5;241m*\u001B[39m\u001B[38;5;241m*\u001B[39mkwargs)\n\u001B[0;32m   1522\u001B[0m \u001B[38;5;28;01mtry\u001B[39;00m:\n\u001B[0;32m   1523\u001B[0m     result \u001B[38;5;241m=\u001B[39m \u001B[38;5;28;01mNone\u001B[39;00m\n",
      "Input \u001B[1;32mIn [7]\u001B[0m, in \u001B[0;36mgenerator_1.forward\u001B[1;34m(self, x)\u001B[0m\n\u001B[0;32m     39\u001B[0m ph \u001B[38;5;241m=\u001B[39m F\u001B[38;5;241m.\u001B[39mrelu(ph)\n\u001B[0;32m     40\u001B[0m ph \u001B[38;5;241m=\u001B[39m \u001B[38;5;28mself\u001B[39m\u001B[38;5;241m.\u001B[39mconv_layers[j\u001B[38;5;241m+\u001B[39m\u001B[38;5;241m2\u001B[39m](ph)\n\u001B[1;32m---> 41\u001B[0m ph \u001B[38;5;241m=\u001B[39m \u001B[38;5;28;43mself\u001B[39;49m\u001B[38;5;241;43m.\u001B[39;49m\u001B[43mconv_layers\u001B[49m\u001B[43m[\u001B[49m\u001B[43mj\u001B[49m\u001B[38;5;241;43m+\u001B[39;49m\u001B[38;5;241;43m3\u001B[39;49m\u001B[43m]\u001B[49m\u001B[43m(\u001B[49m\u001B[43mph\u001B[49m\u001B[43m)\u001B[49m\n\u001B[0;32m     43\u001B[0m x \u001B[38;5;241m=\u001B[39m x \u001B[38;5;241m+\u001B[39m ph\n\u001B[0;32m     44\u001B[0m x \u001B[38;5;241m=\u001B[39m F\u001B[38;5;241m.\u001B[39mrelu(x)   \n",
      "File \u001B[1;32m~\\anaconda3\\lib\\site-packages\\torch\\nn\\modules\\module.py:1511\u001B[0m, in \u001B[0;36mModule._wrapped_call_impl\u001B[1;34m(self, *args, **kwargs)\u001B[0m\n\u001B[0;32m   1509\u001B[0m     \u001B[38;5;28;01mreturn\u001B[39;00m \u001B[38;5;28mself\u001B[39m\u001B[38;5;241m.\u001B[39m_compiled_call_impl(\u001B[38;5;241m*\u001B[39margs, \u001B[38;5;241m*\u001B[39m\u001B[38;5;241m*\u001B[39mkwargs)  \u001B[38;5;66;03m# type: ignore[misc]\u001B[39;00m\n\u001B[0;32m   1510\u001B[0m \u001B[38;5;28;01melse\u001B[39;00m:\n\u001B[1;32m-> 1511\u001B[0m     \u001B[38;5;28;01mreturn\u001B[39;00m \u001B[38;5;28mself\u001B[39m\u001B[38;5;241m.\u001B[39m_call_impl(\u001B[38;5;241m*\u001B[39margs, \u001B[38;5;241m*\u001B[39m\u001B[38;5;241m*\u001B[39mkwargs)\n",
      "File \u001B[1;32m~\\anaconda3\\lib\\site-packages\\torch\\nn\\modules\\module.py:1520\u001B[0m, in \u001B[0;36mModule._call_impl\u001B[1;34m(self, *args, **kwargs)\u001B[0m\n\u001B[0;32m   1515\u001B[0m \u001B[38;5;66;03m# If we don't have any hooks, we want to skip the rest of the logic in\u001B[39;00m\n\u001B[0;32m   1516\u001B[0m \u001B[38;5;66;03m# this function, and just call forward.\u001B[39;00m\n\u001B[0;32m   1517\u001B[0m \u001B[38;5;28;01mif\u001B[39;00m \u001B[38;5;129;01mnot\u001B[39;00m (\u001B[38;5;28mself\u001B[39m\u001B[38;5;241m.\u001B[39m_backward_hooks \u001B[38;5;129;01mor\u001B[39;00m \u001B[38;5;28mself\u001B[39m\u001B[38;5;241m.\u001B[39m_backward_pre_hooks \u001B[38;5;129;01mor\u001B[39;00m \u001B[38;5;28mself\u001B[39m\u001B[38;5;241m.\u001B[39m_forward_hooks \u001B[38;5;129;01mor\u001B[39;00m \u001B[38;5;28mself\u001B[39m\u001B[38;5;241m.\u001B[39m_forward_pre_hooks\n\u001B[0;32m   1518\u001B[0m         \u001B[38;5;129;01mor\u001B[39;00m _global_backward_pre_hooks \u001B[38;5;129;01mor\u001B[39;00m _global_backward_hooks\n\u001B[0;32m   1519\u001B[0m         \u001B[38;5;129;01mor\u001B[39;00m _global_forward_hooks \u001B[38;5;129;01mor\u001B[39;00m _global_forward_pre_hooks):\n\u001B[1;32m-> 1520\u001B[0m     \u001B[38;5;28;01mreturn\u001B[39;00m forward_call(\u001B[38;5;241m*\u001B[39margs, \u001B[38;5;241m*\u001B[39m\u001B[38;5;241m*\u001B[39mkwargs)\n\u001B[0;32m   1522\u001B[0m \u001B[38;5;28;01mtry\u001B[39;00m:\n\u001B[0;32m   1523\u001B[0m     result \u001B[38;5;241m=\u001B[39m \u001B[38;5;28;01mNone\u001B[39;00m\n",
      "File \u001B[1;32m~\\anaconda3\\lib\\site-packages\\torch\\nn\\modules\\batchnorm.py:175\u001B[0m, in \u001B[0;36m_BatchNorm.forward\u001B[1;34m(self, input)\u001B[0m\n\u001B[0;32m    168\u001B[0m     bn_training \u001B[38;5;241m=\u001B[39m (\u001B[38;5;28mself\u001B[39m\u001B[38;5;241m.\u001B[39mrunning_mean \u001B[38;5;129;01mis\u001B[39;00m \u001B[38;5;28;01mNone\u001B[39;00m) \u001B[38;5;129;01mand\u001B[39;00m (\u001B[38;5;28mself\u001B[39m\u001B[38;5;241m.\u001B[39mrunning_var \u001B[38;5;129;01mis\u001B[39;00m \u001B[38;5;28;01mNone\u001B[39;00m)\n\u001B[0;32m    170\u001B[0m \u001B[38;5;124mr\u001B[39m\u001B[38;5;124;03m\"\"\"\u001B[39;00m\n\u001B[0;32m    171\u001B[0m \u001B[38;5;124;03mBuffers are only updated if they are to be tracked and we are in training mode. Thus they only need to be\u001B[39;00m\n\u001B[0;32m    172\u001B[0m \u001B[38;5;124;03mpassed when the update should occur (i.e. in training mode when they are tracked), or when buffer stats are\u001B[39;00m\n\u001B[0;32m    173\u001B[0m \u001B[38;5;124;03mused for normalization (i.e. in eval mode when buffers are not None).\u001B[39;00m\n\u001B[0;32m    174\u001B[0m \u001B[38;5;124;03m\"\"\"\u001B[39;00m\n\u001B[1;32m--> 175\u001B[0m \u001B[38;5;28;01mreturn\u001B[39;00m \u001B[43mF\u001B[49m\u001B[38;5;241;43m.\u001B[39;49m\u001B[43mbatch_norm\u001B[49m\u001B[43m(\u001B[49m\n\u001B[0;32m    176\u001B[0m \u001B[43m    \u001B[49m\u001B[38;5;28;43minput\u001B[39;49m\u001B[43m,\u001B[49m\n\u001B[0;32m    177\u001B[0m \u001B[43m    \u001B[49m\u001B[38;5;66;43;03m# If buffers are not to be tracked, ensure that they won't be updated\u001B[39;49;00m\n\u001B[0;32m    178\u001B[0m \u001B[43m    \u001B[49m\u001B[38;5;28;43mself\u001B[39;49m\u001B[38;5;241;43m.\u001B[39;49m\u001B[43mrunning_mean\u001B[49m\n\u001B[0;32m    179\u001B[0m \u001B[43m    \u001B[49m\u001B[38;5;28;43;01mif\u001B[39;49;00m\u001B[43m \u001B[49m\u001B[38;5;129;43;01mnot\u001B[39;49;00m\u001B[43m \u001B[49m\u001B[38;5;28;43mself\u001B[39;49m\u001B[38;5;241;43m.\u001B[39;49m\u001B[43mtraining\u001B[49m\u001B[43m \u001B[49m\u001B[38;5;129;43;01mor\u001B[39;49;00m\u001B[43m \u001B[49m\u001B[38;5;28;43mself\u001B[39;49m\u001B[38;5;241;43m.\u001B[39;49m\u001B[43mtrack_running_stats\u001B[49m\n\u001B[0;32m    180\u001B[0m \u001B[43m    \u001B[49m\u001B[38;5;28;43;01melse\u001B[39;49;00m\u001B[43m \u001B[49m\u001B[38;5;28;43;01mNone\u001B[39;49;00m\u001B[43m,\u001B[49m\n\u001B[0;32m    181\u001B[0m \u001B[43m    \u001B[49m\u001B[38;5;28;43mself\u001B[39;49m\u001B[38;5;241;43m.\u001B[39;49m\u001B[43mrunning_var\u001B[49m\u001B[43m \u001B[49m\u001B[38;5;28;43;01mif\u001B[39;49;00m\u001B[43m \u001B[49m\u001B[38;5;129;43;01mnot\u001B[39;49;00m\u001B[43m \u001B[49m\u001B[38;5;28;43mself\u001B[39;49m\u001B[38;5;241;43m.\u001B[39;49m\u001B[43mtraining\u001B[49m\u001B[43m \u001B[49m\u001B[38;5;129;43;01mor\u001B[39;49;00m\u001B[43m \u001B[49m\u001B[38;5;28;43mself\u001B[39;49m\u001B[38;5;241;43m.\u001B[39;49m\u001B[43mtrack_running_stats\u001B[49m\u001B[43m \u001B[49m\u001B[38;5;28;43;01melse\u001B[39;49;00m\u001B[43m \u001B[49m\u001B[38;5;28;43;01mNone\u001B[39;49;00m\u001B[43m,\u001B[49m\n\u001B[0;32m    182\u001B[0m \u001B[43m    \u001B[49m\u001B[38;5;28;43mself\u001B[39;49m\u001B[38;5;241;43m.\u001B[39;49m\u001B[43mweight\u001B[49m\u001B[43m,\u001B[49m\n\u001B[0;32m    183\u001B[0m \u001B[43m    \u001B[49m\u001B[38;5;28;43mself\u001B[39;49m\u001B[38;5;241;43m.\u001B[39;49m\u001B[43mbias\u001B[49m\u001B[43m,\u001B[49m\n\u001B[0;32m    184\u001B[0m \u001B[43m    \u001B[49m\u001B[43mbn_training\u001B[49m\u001B[43m,\u001B[49m\n\u001B[0;32m    185\u001B[0m \u001B[43m    \u001B[49m\u001B[43mexponential_average_factor\u001B[49m\u001B[43m,\u001B[49m\n\u001B[0;32m    186\u001B[0m \u001B[43m    \u001B[49m\u001B[38;5;28;43mself\u001B[39;49m\u001B[38;5;241;43m.\u001B[39;49m\u001B[43meps\u001B[49m\u001B[43m,\u001B[49m\n\u001B[0;32m    187\u001B[0m \u001B[43m\u001B[49m\u001B[43m)\u001B[49m\n",
      "File \u001B[1;32m~\\anaconda3\\lib\\site-packages\\torch\\nn\\functional.py:2482\u001B[0m, in \u001B[0;36mbatch_norm\u001B[1;34m(input, running_mean, running_var, weight, bias, training, momentum, eps)\u001B[0m\n\u001B[0;32m   2479\u001B[0m \u001B[38;5;28;01mif\u001B[39;00m training:\n\u001B[0;32m   2480\u001B[0m     _verify_batch_size(\u001B[38;5;28minput\u001B[39m\u001B[38;5;241m.\u001B[39msize())\n\u001B[1;32m-> 2482\u001B[0m \u001B[38;5;28;01mreturn\u001B[39;00m \u001B[43mtorch\u001B[49m\u001B[38;5;241;43m.\u001B[39;49m\u001B[43mbatch_norm\u001B[49m\u001B[43m(\u001B[49m\n\u001B[0;32m   2483\u001B[0m \u001B[43m    \u001B[49m\u001B[38;5;28;43minput\u001B[39;49m\u001B[43m,\u001B[49m\u001B[43m \u001B[49m\u001B[43mweight\u001B[49m\u001B[43m,\u001B[49m\u001B[43m \u001B[49m\u001B[43mbias\u001B[49m\u001B[43m,\u001B[49m\u001B[43m \u001B[49m\u001B[43mrunning_mean\u001B[49m\u001B[43m,\u001B[49m\u001B[43m \u001B[49m\u001B[43mrunning_var\u001B[49m\u001B[43m,\u001B[49m\u001B[43m \u001B[49m\u001B[43mtraining\u001B[49m\u001B[43m,\u001B[49m\u001B[43m \u001B[49m\u001B[43mmomentum\u001B[49m\u001B[43m,\u001B[49m\u001B[43m \u001B[49m\u001B[43meps\u001B[49m\u001B[43m,\u001B[49m\u001B[43m \u001B[49m\u001B[43mtorch\u001B[49m\u001B[38;5;241;43m.\u001B[39;49m\u001B[43mbackends\u001B[49m\u001B[38;5;241;43m.\u001B[39;49m\u001B[43mcudnn\u001B[49m\u001B[38;5;241;43m.\u001B[39;49m\u001B[43menabled\u001B[49m\n\u001B[0;32m   2484\u001B[0m \u001B[43m\u001B[49m\u001B[43m)\u001B[49m\n",
      "\u001B[1;31mOutOfMemoryError\u001B[0m: CUDA out of memory. Tried to allocate 16.00 MiB. GPU 0 has a total capacity of 8.00 GiB of which 0 bytes is free. Of the allocated memory 14.42 GiB is allocated by PyTorch, and 67.98 MiB is reserved by PyTorch but unallocated. If reserved but unallocated memory is large try setting PYTORCH_CUDA_ALLOC_CONF=expandable_segments:True to avoid fragmentation.  See documentation for Memory Management  (https://pytorch.org/docs/stable/notes/cuda.html#environment-variables)"
     ]
    }
   ],
   "source": [
    "old_generator = torch.load(\"generator 85.pt\")\n",
    "torch.mean(RSv1.discriminator(val_boards, old_generator(val_boards)))"
   ],
   "metadata": {
    "collapsed": false,
    "ExecuteTime": {
     "end_time": "2024-04-02T22:06:55.635004Z",
     "start_time": "2024-04-02T22:06:52.986063Z"
    }
   },
   "id": "5d639db2d482b8de",
   "execution_count": 150
  },
  {
   "cell_type": "code",
   "outputs": [
    {
     "name": "stderr",
     "output_type": "stream",
     "text": [
      "100%|██████████| 4493/4493 [03:02<00:00, 24.58it/s]\n"
     ]
    },
    {
     "name": "stdout",
     "output_type": "stream",
     "text": [
      "Epoch 1 with g_loss: 0.0 and d_loss: 0.024132794972129612\n",
      "Epoch: 1, g_acc=0.0020000000949949026, d_acc_f=1.0, d_acc_r=1.0\n"
     ]
    },
    {
     "name": "stderr",
     "output_type": "stream",
     "text": [
      " 13%|█▎        | 562/4493 [00:23<02:41, 24.40it/s]\n"
     ]
    },
    {
     "name": "stdout",
     "output_type": "stream",
     "text": [
      "Epoch 1 with g_loss: 0.0024971719830587076 and d_loss: 0.0\n",
      "Epoch: 1, g_acc=0.0, d_acc_f=0.0, d_acc_r=1.0\n"
     ]
    },
    {
     "name": "stderr",
     "output_type": "stream",
     "text": [
      "100%|██████████| 4493/4493 [03:03<00:00, 24.51it/s]\n"
     ]
    },
    {
     "name": "stdout",
     "output_type": "stream",
     "text": [
      "Epoch 2 with g_loss: 0.0 and d_loss: 0.013789552377934151\n",
      "Epoch: 2, g_acc=0.0, d_acc_f=1.0, d_acc_r=1.0\n"
     ]
    },
    {
     "name": "stderr",
     "output_type": "stream",
     "text": [
      " 13%|█▎        | 562/4493 [00:23<02:40, 24.42it/s]\n"
     ]
    },
    {
     "name": "stdout",
     "output_type": "stream",
     "text": [
      "Epoch 2 with g_loss: 0.0026067342491099383 and d_loss: 0.0\n",
      "Epoch: 2, g_acc=0.0, d_acc_f=0.0, d_acc_r=1.0\n"
     ]
    },
    {
     "name": "stderr",
     "output_type": "stream",
     "text": [
      "100%|██████████| 4493/4493 [03:02<00:00, 24.60it/s]\n"
     ]
    },
    {
     "name": "stdout",
     "output_type": "stream",
     "text": [
      "Epoch 3 with g_loss: 0.0 and d_loss: 0.011044516429126192\n",
      "Epoch: 3, g_acc=0.0, d_acc_f=1.0, d_acc_r=1.0\n"
     ]
    },
    {
     "name": "stderr",
     "output_type": "stream",
     "text": [
      " 13%|█▎        | 562/4493 [00:24<02:50, 23.08it/s]\n"
     ]
    },
    {
     "name": "stdout",
     "output_type": "stream",
     "text": [
      "Epoch 3 with g_loss: 0.001956753350941522 and d_loss: 0.0\n",
      "Epoch: 3, g_acc=0.0, d_acc_f=0.0, d_acc_r=1.0\n"
     ]
    },
    {
     "name": "stderr",
     "output_type": "stream",
     "text": [
      "100%|██████████| 4493/4493 [03:02<00:00, 24.58it/s]\n"
     ]
    },
    {
     "name": "stdout",
     "output_type": "stream",
     "text": [
      "Epoch 4 with g_loss: 0.0 and d_loss: 0.017382621447475502\n",
      "Epoch: 4, g_acc=0.0, d_acc_f=1.0, d_acc_r=1.0\n"
     ]
    },
    {
     "name": "stderr",
     "output_type": "stream",
     "text": [
      " 13%|█▎        | 562/4493 [00:22<02:40, 24.44it/s]\n"
     ]
    },
    {
     "name": "stdout",
     "output_type": "stream",
     "text": [
      "Epoch 4 with g_loss: 0.0024146829054086227 and d_loss: 0.0\n",
      "Epoch: 4, g_acc=0.003000000026077032, d_acc_f=0.0, d_acc_r=1.0\n"
     ]
    },
    {
     "name": "stderr",
     "output_type": "stream",
     "text": [
      "100%|██████████| 4493/4493 [03:02<00:00, 24.62it/s]\n"
     ]
    },
    {
     "name": "stdout",
     "output_type": "stream",
     "text": [
      "Epoch 5 with g_loss: 0.0 and d_loss: 0.02116424934301673\n",
      "Epoch: 5, g_acc=0.003000000026077032, d_acc_f=1.0, d_acc_r=0.9970000386238098\n"
     ]
    },
    {
     "name": "stderr",
     "output_type": "stream",
     "text": [
      " 13%|█▎        | 562/4493 [00:24<02:50, 23.02it/s]\n"
     ]
    },
    {
     "name": "stdout",
     "output_type": "stream",
     "text": [
      "Epoch 5 with g_loss: 0.0022389527927109136 and d_loss: 0.0\n",
      "Epoch: 5, g_acc=0.0, d_acc_f=0.0, d_acc_r=0.9970000386238098\n"
     ]
    },
    {
     "name": "stderr",
     "output_type": "stream",
     "text": [
      "100%|██████████| 4493/4493 [03:02<00:00, 24.62it/s]\n"
     ]
    },
    {
     "name": "stdout",
     "output_type": "stream",
     "text": [
      "Epoch 6 with g_loss: 0.0 and d_loss: 0.025064310492302424\n",
      "Epoch: 6, g_acc=0.0, d_acc_f=1.0, d_acc_r=1.0\n"
     ]
    },
    {
     "name": "stderr",
     "output_type": "stream",
     "text": [
      " 13%|█▎        | 562/4493 [00:23<02:41, 24.36it/s]\n"
     ]
    },
    {
     "name": "stdout",
     "output_type": "stream",
     "text": [
      "Epoch 6 with g_loss: 0.002354529493762095 and d_loss: 0.0\n",
      "Epoch: 6, g_acc=0.0, d_acc_f=0.0, d_acc_r=1.0\n"
     ]
    },
    {
     "name": "stderr",
     "output_type": "stream",
     "text": [
      "100%|██████████| 4493/4493 [03:11<00:00, 23.47it/s]\n"
     ]
    },
    {
     "name": "stdout",
     "output_type": "stream",
     "text": [
      "Epoch 7 with g_loss: 0.0 and d_loss: 0.012076646195229303\n",
      "Epoch: 7, g_acc=0.0, d_acc_f=1.0, d_acc_r=1.0\n"
     ]
    },
    {
     "name": "stderr",
     "output_type": "stream",
     "text": [
      " 13%|█▎        | 562/4493 [00:23<02:47, 23.48it/s]\n"
     ]
    },
    {
     "name": "stdout",
     "output_type": "stream",
     "text": [
      "Epoch 7 with g_loss: 0.003113638971924814 and d_loss: 0.0\n",
      "Epoch: 7, g_acc=0.0, d_acc_f=0.0, d_acc_r=1.0\n"
     ]
    },
    {
     "name": "stderr",
     "output_type": "stream",
     "text": [
      "100%|██████████| 4493/4493 [03:09<00:00, 23.75it/s]\n"
     ]
    },
    {
     "name": "stdout",
     "output_type": "stream",
     "text": [
      "Epoch 8 with g_loss: 0.0 and d_loss: 0.02602581964305289\n",
      "Epoch: 8, g_acc=0.0, d_acc_f=1.0, d_acc_r=0.999000072479248\n"
     ]
    },
    {
     "name": "stderr",
     "output_type": "stream",
     "text": [
      " 13%|█▎        | 562/4493 [00:23<02:40, 24.43it/s]\n"
     ]
    },
    {
     "name": "stdout",
     "output_type": "stream",
     "text": [
      "Epoch 8 with g_loss: 0.0025406566680193803 and d_loss: 0.0\n",
      "Epoch: 8, g_acc=0.0010000000474974513, d_acc_f=0.0, d_acc_r=0.999000072479248\n"
     ]
    },
    {
     "name": "stderr",
     "output_type": "stream",
     "text": [
      "100%|██████████| 4493/4493 [03:04<00:00, 24.39it/s]\n"
     ]
    },
    {
     "name": "stdout",
     "output_type": "stream",
     "text": [
      "Epoch 9 with g_loss: 0.0 and d_loss: 0.017290843504149573\n",
      "Epoch: 9, g_acc=0.0010000000474974513, d_acc_f=1.0, d_acc_r=0.999000072479248\n"
     ]
    },
    {
     "name": "stderr",
     "output_type": "stream",
     "text": [
      " 13%|█▎        | 562/4493 [00:23<02:42, 24.20it/s]\n"
     ]
    },
    {
     "name": "stdout",
     "output_type": "stream",
     "text": [
      "Epoch 9 with g_loss: 0.004489525197342968 and d_loss: 0.0\n",
      "Epoch: 9, g_acc=0.0, d_acc_f=0.0, d_acc_r=0.999000072479248\n"
     ]
    },
    {
     "name": "stderr",
     "output_type": "stream",
     "text": [
      "100%|██████████| 4493/4493 [03:02<00:00, 24.61it/s]\n"
     ]
    },
    {
     "name": "stdout",
     "output_type": "stream",
     "text": [
      "Epoch 10 with g_loss: 0.0 and d_loss: 0.03192948539286519\n",
      "Epoch: 10, g_acc=0.0, d_acc_f=1.0, d_acc_r=1.0\n"
     ]
    },
    {
     "name": "stderr",
     "output_type": "stream",
     "text": [
      " 13%|█▎        | 562/4493 [00:23<02:41, 24.37it/s]\n"
     ]
    },
    {
     "name": "stdout",
     "output_type": "stream",
     "text": [
      "Epoch 10 with g_loss: 0.004548603995298355 and d_loss: 0.0\n",
      "Epoch: 10, g_acc=0.0, d_acc_f=0.0, d_acc_r=1.0\n"
     ]
    },
    {
     "name": "stderr",
     "output_type": "stream",
     "text": [
      "100%|██████████| 4493/4493 [03:03<00:00, 24.46it/s]\n"
     ]
    },
    {
     "name": "stdout",
     "output_type": "stream",
     "text": [
      "Epoch 11 with g_loss: 0.0 and d_loss: 0.02545475482570881\n",
      "Epoch: 11, g_acc=0.0, d_acc_f=1.0, d_acc_r=1.0\n"
     ]
    },
    {
     "name": "stderr",
     "output_type": "stream",
     "text": [
      " 13%|█▎        | 562/4493 [00:23<02:41, 24.38it/s]\n"
     ]
    },
    {
     "name": "stdout",
     "output_type": "stream",
     "text": [
      "Epoch 11 with g_loss: 0.0071322112835725225 and d_loss: 0.0\n",
      "Epoch: 11, g_acc=0.0, d_acc_f=0.0, d_acc_r=1.0\n"
     ]
    },
    {
     "name": "stderr",
     "output_type": "stream",
     "text": [
      "100%|██████████| 4493/4493 [03:02<00:00, 24.60it/s]\n"
     ]
    },
    {
     "name": "stdout",
     "output_type": "stream",
     "text": [
      "Epoch 12 with g_loss: 0.0 and d_loss: 0.021561579191836235\n",
      "Epoch: 12, g_acc=0.0, d_acc_f=1.0, d_acc_r=1.0\n"
     ]
    },
    {
     "name": "stderr",
     "output_type": "stream",
     "text": [
      " 13%|█▎        | 562/4493 [00:23<02:41, 24.40it/s]\n"
     ]
    },
    {
     "name": "stdout",
     "output_type": "stream",
     "text": [
      "Epoch 12 with g_loss: 0.0030548788558641365 and d_loss: 0.0\n",
      "Epoch: 12, g_acc=0.0010000000474974513, d_acc_f=0.0, d_acc_r=1.0\n"
     ]
    },
    {
     "name": "stderr",
     "output_type": "stream",
     "text": [
      "100%|██████████| 4493/4493 [03:07<00:00, 23.95it/s]\n"
     ]
    },
    {
     "name": "stdout",
     "output_type": "stream",
     "text": [
      "Epoch 13 with g_loss: 0.0 and d_loss: 0.008166748338256332\n",
      "Epoch: 13, g_acc=0.0010000000474974513, d_acc_f=1.0, d_acc_r=0.999000072479248\n"
     ]
    },
    {
     "name": "stderr",
     "output_type": "stream",
     "text": [
      " 13%|█▎        | 562/4493 [00:23<02:40, 24.42it/s]\n"
     ]
    },
    {
     "name": "stdout",
     "output_type": "stream",
     "text": [
      "Epoch 13 with g_loss: 1.14613275402722 and d_loss: 0.0\n",
      "Epoch: 13, g_acc=0.0010000000474974513, d_acc_f=1.0, d_acc_r=0.999000072479248\n"
     ]
    },
    {
     "name": "stderr",
     "output_type": "stream",
     "text": [
      " 13%|█▎        | 562/4493 [00:22<02:40, 24.48it/s]\n"
     ]
    },
    {
     "name": "stdout",
     "output_type": "stream",
     "text": [
      "Epoch 13 with g_loss: 1.1462635239381025 and d_loss: 0.0\n",
      "Epoch: 13, g_acc=0.0010000000474974513, d_acc_f=1.0, d_acc_r=0.999000072479248\n"
     ]
    },
    {
     "name": "stderr",
     "output_type": "stream",
     "text": [
      " 13%|█▎        | 562/4493 [00:24<02:50, 23.08it/s]\n"
     ]
    },
    {
     "name": "stdout",
     "output_type": "stream",
     "text": [
      "Epoch 13 with g_loss: 0.6434604772776485 and d_loss: 0.0\n",
      "Epoch: 13, g_acc=0.007000000216066837, d_acc_f=0.0, d_acc_r=0.999000072479248\n"
     ]
    },
    {
     "name": "stderr",
     "output_type": "stream",
     "text": [
      "100%|██████████| 4493/4493 [03:02<00:00, 24.60it/s]\n"
     ]
    },
    {
     "name": "stdout",
     "output_type": "stream",
     "text": [
      "Epoch 14 with g_loss: 0.0 and d_loss: 0.08564183620863015\n",
      "Epoch: 14, g_acc=0.007000000216066837, d_acc_f=1.0, d_acc_r=0.9930000305175781\n"
     ]
    },
    {
     "name": "stderr",
     "output_type": "stream",
     "text": [
      " 13%|█▎        | 562/4493 [00:23<02:41, 24.37it/s]\n"
     ]
    },
    {
     "name": "stdout",
     "output_type": "stream",
     "text": [
      "Epoch 14 with g_loss: 1.0083900795942315 and d_loss: 0.0\n",
      "Epoch: 14, g_acc=0.007000000216066837, d_acc_f=1.0, d_acc_r=0.9930000305175781\n"
     ]
    },
    {
     "name": "stderr",
     "output_type": "stream",
     "text": [
      " 13%|█▎        | 562/4493 [00:24<02:50, 23.06it/s]\n"
     ]
    },
    {
     "name": "stdout",
     "output_type": "stream",
     "text": [
      "Epoch 14 with g_loss: 1.0084392576049968 and d_loss: 0.0\n",
      "Epoch: 14, g_acc=0.007000000216066837, d_acc_f=1.0, d_acc_r=0.9930000305175781\n"
     ]
    },
    {
     "name": "stderr",
     "output_type": "stream",
     "text": [
      " 13%|█▎        | 562/4493 [00:23<02:41, 24.41it/s]\n"
     ]
    },
    {
     "name": "stdout",
     "output_type": "stream",
     "text": [
      "Epoch 14 with g_loss: 1.0086065882859612 and d_loss: 0.0\n",
      "Epoch: 14, g_acc=0.007000000216066837, d_acc_f=1.0, d_acc_r=0.9930000305175781\n"
     ]
    },
    {
     "name": "stderr",
     "output_type": "stream",
     "text": [
      " 13%|█▎        | 562/4493 [00:23<02:41, 24.29it/s]\n"
     ]
    },
    {
     "name": "stdout",
     "output_type": "stream",
     "text": [
      "Epoch 14 with g_loss: 1.0078608365146986 and d_loss: 0.0\n",
      "Epoch: 14, g_acc=0.007000000216066837, d_acc_f=1.0, d_acc_r=0.9930000305175781\n"
     ]
    },
    {
     "name": "stderr",
     "output_type": "stream",
     "text": [
      " 13%|█▎        | 562/4493 [00:23<02:41, 24.40it/s]\n"
     ]
    },
    {
     "name": "stdout",
     "output_type": "stream",
     "text": [
      "Epoch 14 with g_loss: 1.008536771812074 and d_loss: 0.0\n",
      "Epoch: 14, g_acc=0.007000000216066837, d_acc_f=1.0, d_acc_r=0.9930000305175781\n"
     ]
    },
    {
     "name": "stderr",
     "output_type": "stream",
     "text": [
      " 13%|█▎        | 562/4493 [00:24<02:50, 23.09it/s]\n"
     ]
    },
    {
     "name": "stdout",
     "output_type": "stream",
     "text": [
      "Epoch 14 with g_loss: 0.49203410669700104 and d_loss: 0.0\n",
      "Epoch: 14, g_acc=0.0010000000474974513, d_acc_f=0.0, d_acc_r=0.9930000305175781\n"
     ]
    },
    {
     "name": "stderr",
     "output_type": "stream",
     "text": [
      "100%|██████████| 4493/4493 [03:02<00:00, 24.62it/s]\n"
     ]
    },
    {
     "name": "stdout",
     "output_type": "stream",
     "text": [
      "Epoch 15 with g_loss: 0.0 and d_loss: 0.007852844052392461\n",
      "Epoch: 15, g_acc=0.0010000000474974513, d_acc_f=1.0, d_acc_r=0.999000072479248\n"
     ]
    },
    {
     "name": "stderr",
     "output_type": "stream",
     "text": [
      " 13%|█▎        | 562/4493 [00:23<02:41, 24.29it/s]\n"
     ]
    },
    {
     "name": "stdout",
     "output_type": "stream",
     "text": [
      "Epoch 15 with g_loss: 0.3792542241055219 and d_loss: 0.0\n",
      "Epoch: 15, g_acc=0.0010000000474974513, d_acc_f=0.0, d_acc_r=0.999000072479248\n"
     ]
    },
    {
     "name": "stderr",
     "output_type": "stream",
     "text": [
      "100%|██████████| 4493/4493 [03:02<00:00, 24.65it/s]\n"
     ]
    },
    {
     "name": "stdout",
     "output_type": "stream",
     "text": [
      "Epoch 16 with g_loss: 0.0 and d_loss: 0.005216305374649326\n",
      "Epoch: 16, g_acc=0.0010000000474974513, d_acc_f=1.0, d_acc_r=0.999000072479248\n"
     ]
    },
    {
     "name": "stderr",
     "output_type": "stream",
     "text": [
      " 13%|█▎        | 562/4493 [00:24<02:50, 23.01it/s]\n"
     ]
    },
    {
     "name": "stdout",
     "output_type": "stream",
     "text": [
      "Epoch 16 with g_loss: 0.9095760940205353 and d_loss: 0.0\n",
      "Epoch: 16, g_acc=0.0010000000474974513, d_acc_f=1.0, d_acc_r=0.999000072479248\n"
     ]
    },
    {
     "name": "stderr",
     "output_type": "stream",
     "text": [
      " 13%|█▎        | 562/4493 [00:23<02:41, 24.32it/s]\n"
     ]
    },
    {
     "name": "stdout",
     "output_type": "stream",
     "text": [
      "Epoch 16 with g_loss: 0.909494537036827 and d_loss: 0.0\n",
      "Epoch: 16, g_acc=0.0010000000474974513, d_acc_f=1.0, d_acc_r=0.999000072479248\n"
     ]
    },
    {
     "name": "stderr",
     "output_type": "stream",
     "text": [
      " 13%|█▎        | 562/4493 [00:23<02:41, 24.36it/s]\n"
     ]
    },
    {
     "name": "stdout",
     "output_type": "stream",
     "text": [
      "Epoch 16 with g_loss: 0.4869868645703765 and d_loss: 0.0\n",
      "Epoch: 16, g_acc=0.0, d_acc_f=0.0, d_acc_r=0.999000072479248\n"
     ]
    },
    {
     "name": "stderr",
     "output_type": "stream",
     "text": [
      "100%|██████████| 4493/4493 [03:02<00:00, 24.61it/s]\n"
     ]
    },
    {
     "name": "stdout",
     "output_type": "stream",
     "text": [
      "Epoch 17 with g_loss: 0.0 and d_loss: 0.020298042552250393\n",
      "Epoch: 17, g_acc=0.0, d_acc_f=1.0, d_acc_r=1.0\n"
     ]
    },
    {
     "name": "stderr",
     "output_type": "stream",
     "text": [
      " 13%|█▎        | 562/4493 [00:24<02:50, 23.12it/s]\n"
     ]
    },
    {
     "name": "stdout",
     "output_type": "stream",
     "text": [
      "Epoch 17 with g_loss: 0.0019280314855860746 and d_loss: 0.0\n",
      "Epoch: 17, g_acc=0.0010000000474974513, d_acc_f=0.0, d_acc_r=1.0\n"
     ]
    },
    {
     "name": "stderr",
     "output_type": "stream",
     "text": [
      "100%|██████████| 4493/4493 [03:02<00:00, 24.63it/s]\n"
     ]
    },
    {
     "name": "stdout",
     "output_type": "stream",
     "text": [
      "Epoch 18 with g_loss: 0.0 and d_loss: 0.02613615630448376\n",
      "Epoch: 18, g_acc=0.0010000000474974513, d_acc_f=1.0, d_acc_r=0.999000072479248\n"
     ]
    },
    {
     "name": "stderr",
     "output_type": "stream",
     "text": [
      " 13%|█▎        | 562/4493 [00:23<02:41, 24.38it/s]\n"
     ]
    },
    {
     "name": "stdout",
     "output_type": "stream",
     "text": [
      "Epoch 18 with g_loss: 0.0022720197435810866 and d_loss: 0.0\n",
      "Epoch: 18, g_acc=0.007000000216066837, d_acc_f=0.0, d_acc_r=0.999000072479248\n"
     ]
    },
    {
     "name": "stderr",
     "output_type": "stream",
     "text": [
      "100%|██████████| 4493/4493 [03:02<00:00, 24.58it/s]\n"
     ]
    },
    {
     "name": "stdout",
     "output_type": "stream",
     "text": [
      "Epoch 19 with g_loss: 0.0 and d_loss: 0.03952874378361315\n",
      "Epoch: 19, g_acc=0.007000000216066837, d_acc_f=1.0, d_acc_r=0.9930000305175781\n"
     ]
    },
    {
     "name": "stderr",
     "output_type": "stream",
     "text": [
      " 13%|█▎        | 562/4493 [00:25<02:55, 22.41it/s]\n"
     ]
    },
    {
     "name": "stdout",
     "output_type": "stream",
     "text": [
      "Epoch 19 with g_loss: 1.0567799240662477 and d_loss: 0.0\n",
      "Epoch: 19, g_acc=0.007000000216066837, d_acc_f=1.0, d_acc_r=0.9930000305175781\n"
     ]
    },
    {
     "name": "stderr",
     "output_type": "stream",
     "text": [
      " 13%|█▎        | 562/4493 [00:23<02:47, 23.44it/s]\n"
     ]
    },
    {
     "name": "stdout",
     "output_type": "stream",
     "text": [
      "Epoch 19 with g_loss: 1.0576880620790434 and d_loss: 0.0\n",
      "Epoch: 19, g_acc=0.007000000216066837, d_acc_f=1.0, d_acc_r=0.9930000305175781\n"
     ]
    },
    {
     "name": "stderr",
     "output_type": "stream",
     "text": [
      " 13%|█▎        | 562/4493 [00:23<02:47, 23.47it/s]\n"
     ]
    },
    {
     "name": "stdout",
     "output_type": "stream",
     "text": [
      "Epoch 19 with g_loss: 1.0577225030304302 and d_loss: 0.0\n",
      "Epoch: 19, g_acc=0.007000000216066837, d_acc_f=1.0, d_acc_r=0.9930000305175781\n"
     ]
    },
    {
     "name": "stderr",
     "output_type": "stream",
     "text": [
      " 13%|█▎        | 562/4493 [00:23<02:47, 23.47it/s]\n"
     ]
    },
    {
     "name": "stdout",
     "output_type": "stream",
     "text": [
      "Epoch 19 with g_loss: 1.057060945546099 and d_loss: 0.0\n",
      "Epoch: 19, g_acc=0.007000000216066837, d_acc_f=1.0, d_acc_r=0.9930000305175781\n"
     ]
    },
    {
     "name": "stderr",
     "output_type": "stream",
     "text": [
      " 13%|█▎        | 562/4493 [00:25<02:55, 22.34it/s]\n"
     ]
    },
    {
     "name": "stdout",
     "output_type": "stream",
     "text": [
      "Epoch 19 with g_loss: 0.857387409039782 and d_loss: 0.0\n",
      "Epoch: 19, g_acc=0.007000000216066837, d_acc_f=0.0, d_acc_r=0.9930000305175781\n"
     ]
    },
    {
     "name": "stderr",
     "output_type": "stream",
     "text": [
      "100%|██████████| 4493/4493 [03:10<00:00, 23.59it/s]\n"
     ]
    },
    {
     "name": "stdout",
     "output_type": "stream",
     "text": [
      "Epoch 20 with g_loss: 0.0 and d_loss: 0.024749410654262293\n",
      "Epoch: 20, g_acc=0.007000000216066837, d_acc_f=0.9970000386238098, d_acc_r=0.9960000514984131\n"
     ]
    },
    {
     "name": "stderr",
     "output_type": "stream",
     "text": [
      " 13%|█▎        | 562/4493 [00:23<02:47, 23.52it/s]\n"
     ]
    },
    {
     "name": "stdout",
     "output_type": "stream",
     "text": [
      "Epoch 20 with g_loss: 0.24784160958378665 and d_loss: 0.0\n",
      "Epoch: 20, g_acc=0.007000000216066837, d_acc_f=0.0, d_acc_r=0.9960000514984131\n"
     ]
    },
    {
     "name": "stderr",
     "output_type": "stream",
     "text": [
      "100%|██████████| 4493/4493 [03:09<00:00, 23.74it/s]\n"
     ]
    },
    {
     "name": "stdout",
     "output_type": "stream",
     "text": [
      "Epoch 21 with g_loss: 0.0 and d_loss: 0.029546770543393164\n",
      "Epoch: 21, g_acc=0.007000000216066837, d_acc_f=1.0, d_acc_r=0.9930000305175781\n"
     ]
    },
    {
     "name": "stderr",
     "output_type": "stream",
     "text": [
      " 13%|█▎        | 562/4493 [00:25<02:56, 22.26it/s]\n"
     ]
    },
    {
     "name": "stdout",
     "output_type": "stream",
     "text": [
      "Epoch 21 with g_loss: 0.1482545676324645 and d_loss: 0.0\n",
      "Epoch: 21, g_acc=0.0, d_acc_f=0.0, d_acc_r=0.9930000305175781\n"
     ]
    },
    {
     "name": "stderr",
     "output_type": "stream",
     "text": [
      "100%|██████████| 4493/4493 [03:05<00:00, 24.18it/s]\n"
     ]
    },
    {
     "name": "stdout",
     "output_type": "stream",
     "text": [
      "Epoch 22 with g_loss: 0.0 and d_loss: 0.0021309153491904584\n",
      "Epoch: 22, g_acc=0.0, d_acc_f=1.0, d_acc_r=1.0\n"
     ]
    },
    {
     "name": "stderr",
     "output_type": "stream",
     "text": [
      " 13%|█▎        | 562/4493 [00:22<02:40, 24.46it/s]\n"
     ]
    },
    {
     "name": "stdout",
     "output_type": "stream",
     "text": [
      "Epoch 22 with g_loss: 1.1494790569010807 and d_loss: 0.0\n",
      "Epoch: 22, g_acc=0.0, d_acc_f=1.0, d_acc_r=1.0\n"
     ]
    },
    {
     "name": "stderr",
     "output_type": "stream",
     "text": [
      " 13%|█▎        | 562/4493 [00:24<02:50, 23.05it/s]\n"
     ]
    },
    {
     "name": "stdout",
     "output_type": "stream",
     "text": [
      "Epoch 22 with g_loss: 0.49715727468460785 and d_loss: 0.0\n",
      "Epoch: 22, g_acc=0.0010000000474974513, d_acc_f=0.0, d_acc_r=1.0\n"
     ]
    },
    {
     "name": "stderr",
     "output_type": "stream",
     "text": [
      "100%|██████████| 4493/4493 [03:02<00:00, 24.62it/s]\n"
     ]
    },
    {
     "name": "stdout",
     "output_type": "stream",
     "text": [
      "Epoch 23 with g_loss: 0.0 and d_loss: 0.008832896417877698\n",
      "Epoch: 23, g_acc=0.0010000000474974513, d_acc_f=1.0, d_acc_r=0.999000072479248\n"
     ]
    },
    {
     "name": "stderr",
     "output_type": "stream",
     "text": [
      " 13%|█▎        | 562/4493 [00:23<02:40, 24.42it/s]\n"
     ]
    },
    {
     "name": "stdout",
     "output_type": "stream",
     "text": [
      "Epoch 23 with g_loss: 0.6402830028497702 and d_loss: 0.0\n",
      "Epoch: 23, g_acc=0.0, d_acc_f=0.0, d_acc_r=0.999000072479248\n"
     ]
    },
    {
     "name": "stderr",
     "output_type": "stream",
     "text": [
      "100%|██████████| 4493/4493 [03:02<00:00, 24.61it/s]\n"
     ]
    },
    {
     "name": "stdout",
     "output_type": "stream",
     "text": [
      "Epoch 24 with g_loss: 0.0 and d_loss: 0.004233283480006336\n",
      "Epoch: 24, g_acc=0.0, d_acc_f=1.0, d_acc_r=1.0\n"
     ]
    },
    {
     "name": "stderr",
     "output_type": "stream",
     "text": [
      " 13%|█▎        | 562/4493 [00:24<02:50, 23.10it/s]\n"
     ]
    },
    {
     "name": "stdout",
     "output_type": "stream",
     "text": [
      "Epoch 24 with g_loss: 0.23528336050444834 and d_loss: 0.0\n",
      "Epoch: 24, g_acc=0.0, d_acc_f=0.0, d_acc_r=1.0\n"
     ]
    },
    {
     "name": "stderr",
     "output_type": "stream",
     "text": [
      "100%|██████████| 4493/4493 [03:02<00:00, 24.57it/s]\n"
     ]
    },
    {
     "name": "stdout",
     "output_type": "stream",
     "text": [
      "Epoch 25 with g_loss: 0.0 and d_loss: 0.01180190011063971\n",
      "Epoch: 25, g_acc=0.0, d_acc_f=1.0, d_acc_r=1.0\n"
     ]
    },
    {
     "name": "stderr",
     "output_type": "stream",
     "text": [
      " 13%|█▎        | 562/4493 [00:23<02:41, 24.40it/s]\n"
     ]
    },
    {
     "name": "stdout",
     "output_type": "stream",
     "text": [
      "Epoch 25 with g_loss: 0.42441664595341805 and d_loss: 0.0\n",
      "Epoch: 25, g_acc=0.0, d_acc_f=1.0, d_acc_r=1.0\n"
     ]
    },
    {
     "name": "stderr",
     "output_type": "stream",
     "text": [
      " 13%|█▎        | 562/4493 [00:24<02:50, 23.03it/s]\n"
     ]
    },
    {
     "name": "stdout",
     "output_type": "stream",
     "text": [
      "Epoch 25 with g_loss: 0.4231362898949921 and d_loss: 0.0\n",
      "Epoch: 25, g_acc=0.0, d_acc_f=1.0, d_acc_r=1.0\n"
     ]
    },
    {
     "name": "stderr",
     "output_type": "stream",
     "text": [
      " 13%|█▎        | 562/4493 [00:22<02:40, 24.49it/s]\n"
     ]
    },
    {
     "name": "stdout",
     "output_type": "stream",
     "text": [
      "Epoch 25 with g_loss: 0.42293300937497214 and d_loss: 0.0\n",
      "Epoch: 25, g_acc=0.0, d_acc_f=1.0, d_acc_r=1.0\n"
     ]
    },
    {
     "name": "stderr",
     "output_type": "stream",
     "text": [
      " 13%|█▎        | 562/4493 [00:23<02:40, 24.42it/s]\n"
     ]
    },
    {
     "name": "stdout",
     "output_type": "stream",
     "text": [
      "Epoch 25 with g_loss: 0.42309014138680856 and d_loss: 0.0\n",
      "Epoch: 25, g_acc=0.0, d_acc_f=1.0, d_acc_r=1.0\n"
     ]
    },
    {
     "name": "stderr",
     "output_type": "stream",
     "text": [
      " 13%|█▎        | 562/4493 [00:23<02:41, 24.35it/s]\n"
     ]
    },
    {
     "name": "stdout",
     "output_type": "stream",
     "text": [
      "Epoch 25 with g_loss: 0.3306266656112207 and d_loss: 0.0\n",
      "Epoch: 25, g_acc=0.0, d_acc_f=0.0, d_acc_r=1.0\n"
     ]
    },
    {
     "name": "stderr",
     "output_type": "stream",
     "text": [
      "100%|██████████| 4493/4493 [03:02<00:00, 24.64it/s]\n"
     ]
    },
    {
     "name": "stdout",
     "output_type": "stream",
     "text": [
      "Epoch 26 with g_loss: 0.0 and d_loss: 0.0053197652965731425\n",
      "Epoch: 26, g_acc=0.0, d_acc_f=1.0, d_acc_r=1.0\n"
     ]
    },
    {
     "name": "stderr",
     "output_type": "stream",
     "text": [
      " 13%|█▎        | 562/4493 [00:24<02:50, 23.11it/s]\n"
     ]
    },
    {
     "name": "stdout",
     "output_type": "stream",
     "text": [
      "Epoch 26 with g_loss: 1.0851617696793074 and d_loss: 0.0\n",
      "Epoch: 26, g_acc=0.0, d_acc_f=1.0, d_acc_r=1.0\n"
     ]
    },
    {
     "name": "stderr",
     "output_type": "stream",
     "text": [
      " 13%|█▎        | 562/4493 [00:23<02:41, 24.39it/s]\n"
     ]
    },
    {
     "name": "stdout",
     "output_type": "stream",
     "text": [
      "Epoch 26 with g_loss: 1.0851141625885545 and d_loss: 0.0\n",
      "Epoch: 26, g_acc=0.0, d_acc_f=1.0, d_acc_r=1.0\n"
     ]
    },
    {
     "name": "stderr",
     "output_type": "stream",
     "text": [
      " 13%|█▎        | 562/4493 [00:23<02:41, 24.38it/s]\n"
     ]
    },
    {
     "name": "stdout",
     "output_type": "stream",
     "text": [
      "Epoch 26 with g_loss: 1.0850176746479632 and d_loss: 0.0\n",
      "Epoch: 26, g_acc=0.0, d_acc_f=1.0, d_acc_r=1.0\n"
     ]
    },
    {
     "name": "stderr",
     "output_type": "stream",
     "text": [
      " 13%|█▎        | 562/4493 [00:23<02:41, 24.38it/s]\n"
     ]
    },
    {
     "name": "stdout",
     "output_type": "stream",
     "text": [
      "Epoch 26 with g_loss: 1.0851203571203263 and d_loss: 0.0\n",
      "Epoch: 26, g_acc=0.0, d_acc_f=1.0, d_acc_r=1.0\n"
     ]
    },
    {
     "name": "stderr",
     "output_type": "stream",
     "text": [
      " 13%|█▎        | 562/4493 [00:24<02:50, 23.11it/s]\n"
     ]
    },
    {
     "name": "stdout",
     "output_type": "stream",
     "text": [
      "Epoch 26 with g_loss: 1.0850722145031322 and d_loss: 0.0\n",
      "Epoch: 26, g_acc=0.0, d_acc_f=1.0, d_acc_r=1.0\n"
     ]
    },
    {
     "name": "stderr",
     "output_type": "stream",
     "text": [
      " 13%|█▎        | 562/4493 [00:23<02:40, 24.43it/s]\n"
     ]
    },
    {
     "name": "stdout",
     "output_type": "stream",
     "text": [
      "Epoch 26 with g_loss: 0.34364054295389834 and d_loss: 0.0\n",
      "Epoch: 26, g_acc=0.0, d_acc_f=0.0, d_acc_r=1.0\n"
     ]
    },
    {
     "name": "stderr",
     "output_type": "stream",
     "text": [
      "100%|██████████| 4493/4493 [03:02<00:00, 24.62it/s]\n"
     ]
    },
    {
     "name": "stdout",
     "output_type": "stream",
     "text": [
      "Epoch 27 with g_loss: 0.0 and d_loss: 0.02810128170069002\n",
      "Epoch: 27, g_acc=0.0, d_acc_f=1.0, d_acc_r=1.0\n"
     ]
    },
    {
     "name": "stderr",
     "output_type": "stream",
     "text": [
      " 13%|█▎        | 562/4493 [00:23<02:41, 24.35it/s]\n"
     ]
    },
    {
     "name": "stdout",
     "output_type": "stream",
     "text": [
      "Epoch 27 with g_loss: 0.004730754672665122 and d_loss: 0.0\n",
      "Epoch: 27, g_acc=0.01100000087171793, d_acc_f=0.0, d_acc_r=1.0\n"
     ]
    },
    {
     "name": "stderr",
     "output_type": "stream",
     "text": [
      "100%|██████████| 4493/4493 [03:03<00:00, 24.47it/s]\n"
     ]
    },
    {
     "name": "stdout",
     "output_type": "stream",
     "text": [
      "Epoch 28 with g_loss: 0.0 and d_loss: 0.0701304057754693\n",
      "Epoch: 28, g_acc=0.01100000087171793, d_acc_f=0.999000072479248, d_acc_r=0.9890000224113464\n"
     ]
    },
    {
     "name": "stderr",
     "output_type": "stream",
     "text": [
      " 13%|█▎        | 562/4493 [00:23<02:41, 24.40it/s]\n"
     ]
    },
    {
     "name": "stdout",
     "output_type": "stream",
     "text": [
      "Epoch 28 with g_loss: 1.0104810746348092 and d_loss: 0.0\n",
      "Epoch: 28, g_acc=0.01100000087171793, d_acc_f=0.999000072479248, d_acc_r=0.9890000224113464\n"
     ]
    },
    {
     "name": "stderr",
     "output_type": "stream",
     "text": [
      " 13%|█▎        | 562/4493 [00:23<02:45, 23.70it/s]\n"
     ]
    },
    {
     "name": "stdout",
     "output_type": "stream",
     "text": [
      "Epoch 28 with g_loss: 1.0109130541837323 and d_loss: 0.0\n",
      "Epoch: 28, g_acc=0.01100000087171793, d_acc_f=0.999000072479248, d_acc_r=0.9890000224113464\n"
     ]
    },
    {
     "name": "stderr",
     "output_type": "stream",
     "text": [
      " 13%|█▎        | 562/4493 [00:23<02:46, 23.56it/s]\n"
     ]
    },
    {
     "name": "stdout",
     "output_type": "stream",
     "text": [
      "Epoch 28 with g_loss: 1.0110644866489977 and d_loss: 0.0\n",
      "Epoch: 28, g_acc=0.01100000087171793, d_acc_f=0.999000072479248, d_acc_r=0.9890000224113464\n"
     ]
    },
    {
     "name": "stderr",
     "output_type": "stream",
     "text": [
      " 13%|█▎        | 562/4493 [00:23<02:46, 23.68it/s]\n"
     ]
    },
    {
     "name": "stdout",
     "output_type": "stream",
     "text": [
      "Epoch 28 with g_loss: 1.0102967549452877 and d_loss: 0.0\n",
      "Epoch: 28, g_acc=0.01100000087171793, d_acc_f=0.999000072479248, d_acc_r=0.9890000224113464\n"
     ]
    },
    {
     "name": "stderr",
     "output_type": "stream",
     "text": [
      " 13%|█▎        | 562/4493 [00:23<02:46, 23.61it/s]\n"
     ]
    },
    {
     "name": "stdout",
     "output_type": "stream",
     "text": [
      "Epoch 28 with g_loss: 1.0108271996162528 and d_loss: 0.0\n",
      "Epoch: 28, g_acc=0.01100000087171793, d_acc_f=0.999000072479248, d_acc_r=0.9890000224113464\n"
     ]
    },
    {
     "name": "stderr",
     "output_type": "stream",
     "text": [
      " 13%|█▎        | 562/4493 [00:23<02:45, 23.78it/s]\n"
     ]
    },
    {
     "name": "stdout",
     "output_type": "stream",
     "text": [
      "Epoch 28 with g_loss: 0.319415412789852 and d_loss: 0.0\n",
      "Epoch: 28, g_acc=0.0, d_acc_f=0.0, d_acc_r=0.9890000224113464\n"
     ]
    },
    {
     "name": "stderr",
     "output_type": "stream",
     "text": [
      "100%|██████████| 4493/4493 [03:09<00:00, 23.70it/s]\n"
     ]
    },
    {
     "name": "stdout",
     "output_type": "stream",
     "text": [
      "Epoch 29 with g_loss: 0.0 and d_loss: 0.025883360263627645\n",
      "Epoch: 29, g_acc=0.0, d_acc_f=1.0, d_acc_r=1.0\n"
     ]
    },
    {
     "name": "stderr",
     "output_type": "stream",
     "text": [
      " 13%|█▎        | 562/4493 [00:23<02:46, 23.66it/s]\n"
     ]
    },
    {
     "name": "stdout",
     "output_type": "stream",
     "text": [
      "Epoch 29 with g_loss: 0.0015045398033764943 and d_loss: 0.0\n",
      "Epoch: 29, g_acc=0.01100000087171793, d_acc_f=0.0, d_acc_r=1.0\n"
     ]
    },
    {
     "name": "stderr",
     "output_type": "stream",
     "text": [
      "100%|██████████| 4493/4493 [03:08<00:00, 23.80it/s]\n"
     ]
    },
    {
     "name": "stdout",
     "output_type": "stream",
     "text": [
      "Epoch 30 with g_loss: 0.0 and d_loss: 0.013897468978089305\n",
      "Epoch: 30, g_acc=0.01100000087171793, d_acc_f=1.0, d_acc_r=1.0\n"
     ]
    },
    {
     "name": "stderr",
     "output_type": "stream",
     "text": [
      " 13%|█▎        | 562/4493 [00:25<02:55, 22.44it/s]\n"
     ]
    },
    {
     "name": "stdout",
     "output_type": "stream",
     "text": [
      "Epoch 30 with g_loss: 0.0019653787617225004 and d_loss: 0.0\n",
      "Epoch: 30, g_acc=0.0, d_acc_f=0.0, d_acc_r=1.0\n"
     ]
    },
    {
     "name": "stderr",
     "output_type": "stream",
     "text": [
      "100%|██████████| 4493/4493 [03:08<00:00, 23.83it/s]\n"
     ]
    },
    {
     "name": "stdout",
     "output_type": "stream",
     "text": [
      "Epoch 31 with g_loss: 0.0 and d_loss: 0.014311085127042421\n",
      "Epoch: 31, g_acc=0.0, d_acc_f=1.0, d_acc_r=1.0\n"
     ]
    },
    {
     "name": "stderr",
     "output_type": "stream",
     "text": [
      " 13%|█▎        | 562/4493 [00:23<02:47, 23.44it/s]\n"
     ]
    },
    {
     "name": "stdout",
     "output_type": "stream",
     "text": [
      "Epoch 31 with g_loss: 0.00571343115088333 and d_loss: 0.0\n",
      "Epoch: 31, g_acc=0.010000000707805157, d_acc_f=0.0, d_acc_r=1.0\n"
     ]
    },
    {
     "name": "stderr",
     "output_type": "stream",
     "text": [
      "100%|██████████| 4493/4493 [03:08<00:00, 23.84it/s]\n"
     ]
    },
    {
     "name": "stdout",
     "output_type": "stream",
     "text": [
      "Epoch 32 with g_loss: 0.0 and d_loss: 0.0377351770585002\n",
      "Epoch: 32, g_acc=0.010000000707805157, d_acc_f=1.0, d_acc_r=0.9900000691413879\n"
     ]
    },
    {
     "name": "stderr",
     "output_type": "stream",
     "text": [
      " 13%|█▎        | 562/4493 [00:25<02:55, 22.35it/s]\n"
     ]
    },
    {
     "name": "stdout",
     "output_type": "stream",
     "text": [
      "Epoch 32 with g_loss: 0.0020329938528218967 and d_loss: 0.0\n",
      "Epoch: 32, g_acc=0.0010000000474974513, d_acc_f=0.0, d_acc_r=0.9900000691413879\n"
     ]
    },
    {
     "name": "stderr",
     "output_type": "stream",
     "text": [
      "100%|██████████| 4493/4493 [03:08<00:00, 23.79it/s]\n"
     ]
    },
    {
     "name": "stdout",
     "output_type": "stream",
     "text": [
      "Epoch 33 with g_loss: 0.0 and d_loss: 0.00889352647667435\n",
      "Epoch: 33, g_acc=0.0010000000474974513, d_acc_f=1.0, d_acc_r=0.999000072479248\n"
     ]
    },
    {
     "name": "stderr",
     "output_type": "stream",
     "text": [
      " 13%|█▎        | 562/4493 [00:23<02:46, 23.57it/s]\n"
     ]
    },
    {
     "name": "stdout",
     "output_type": "stream",
     "text": [
      "Epoch 33 with g_loss: 0.7105380524813301 and d_loss: 0.0\n",
      "Epoch: 33, g_acc=0.0, d_acc_f=0.0, d_acc_r=0.999000072479248\n"
     ]
    },
    {
     "name": "stderr",
     "output_type": "stream",
     "text": [
      "100%|██████████| 4493/4493 [03:09<00:00, 23.69it/s]\n"
     ]
    },
    {
     "name": "stdout",
     "output_type": "stream",
     "text": [
      "Epoch 34 with g_loss: 0.0 and d_loss: 0.019446368198690493\n",
      "Epoch: 34, g_acc=0.0, d_acc_f=1.0, d_acc_r=1.0\n"
     ]
    },
    {
     "name": "stderr",
     "output_type": "stream",
     "text": [
      " 13%|█▎        | 562/4493 [00:23<02:46, 23.67it/s]\n"
     ]
    },
    {
     "name": "stdout",
     "output_type": "stream",
     "text": [
      "Epoch 34 with g_loss: 0.0018333214690047005 and d_loss: 0.0\n",
      "Epoch: 34, g_acc=0.005000000353902578, d_acc_f=0.0, d_acc_r=1.0\n"
     ]
    },
    {
     "name": "stderr",
     "output_type": "stream",
     "text": [
      "100%|██████████| 4493/4493 [03:08<00:00, 23.82it/s]\n"
     ]
    },
    {
     "name": "stdout",
     "output_type": "stream",
     "text": [
      "Epoch 35 with g_loss: 0.0 and d_loss: 0.016625313673626206\n",
      "Epoch: 35, g_acc=0.005000000353902578, d_acc_f=1.0, d_acc_r=1.0\n"
     ]
    },
    {
     "name": "stderr",
     "output_type": "stream",
     "text": [
      " 13%|█▎        | 562/4493 [00:23<02:41, 24.32it/s]\n"
     ]
    },
    {
     "name": "stdout",
     "output_type": "stream",
     "text": [
      "Epoch 35 with g_loss: 0.006040684454103249 and d_loss: 0.0\n",
      "Epoch: 35, g_acc=0.005000000353902578, d_acc_f=0.0, d_acc_r=1.0\n"
     ]
    },
    {
     "name": "stderr",
     "output_type": "stream",
     "text": [
      "100%|██████████| 4493/4493 [03:04<00:00, 24.37it/s]\n"
     ]
    },
    {
     "name": "stdout",
     "output_type": "stream",
     "text": [
      "Epoch 36 with g_loss: 0.0 and d_loss: 0.013459019428842482\n",
      "Epoch: 36, g_acc=0.005000000353902578, d_acc_f=1.0, d_acc_r=0.9950000643730164\n"
     ]
    },
    {
     "name": "stderr",
     "output_type": "stream",
     "text": [
      " 13%|█▎        | 562/4493 [00:23<02:42, 24.23it/s]\n"
     ]
    },
    {
     "name": "stdout",
     "output_type": "stream",
     "text": [
      "Epoch 36 with g_loss: 0.046957266955801644 and d_loss: 0.0\n",
      "Epoch: 36, g_acc=0.0020000000949949026, d_acc_f=0.0, d_acc_r=0.9950000643730164\n"
     ]
    },
    {
     "name": "stderr",
     "output_type": "stream",
     "text": [
      "100%|██████████| 4493/4493 [03:03<00:00, 24.47it/s]\n"
     ]
    },
    {
     "name": "stdout",
     "output_type": "stream",
     "text": [
      "Epoch 37 with g_loss: 0.0 and d_loss: 62.37730184793092\n",
      "Epoch: 37, g_acc=0.0020000000949949026, d_acc_f=1.0, d_acc_r=0.9980000257492065\n"
     ]
    },
    {
     "name": "stderr",
     "output_type": "stream",
     "text": [
      " 13%|█▎        | 562/4493 [00:23<02:41, 24.32it/s]\n"
     ]
    },
    {
     "name": "stdout",
     "output_type": "stream",
     "text": [
      "Epoch 37 with g_loss: 0.3587451279818375 and d_loss: 0.0\n",
      "Epoch: 37, g_acc=0.0020000000949949026, d_acc_f=0.0010000000474974513, d_acc_r=0.9980000257492065\n"
     ]
    },
    {
     "name": "stderr",
     "output_type": "stream",
     "text": [
      "100%|██████████| 4493/4493 [03:03<00:00, 24.43it/s]\n"
     ]
    },
    {
     "name": "stdout",
     "output_type": "stream",
     "text": [
      "Epoch 38 with g_loss: 0.0 and d_loss: 0.006774450282417731\n",
      "Epoch: 38, g_acc=0.0020000000949949026, d_acc_f=1.0, d_acc_r=0.9980000257492065\n"
     ]
    },
    {
     "name": "stderr",
     "output_type": "stream",
     "text": [
      " 13%|█▎        | 562/4493 [00:23<02:41, 24.35it/s]\n"
     ]
    },
    {
     "name": "stdout",
     "output_type": "stream",
     "text": [
      "Epoch 38 with g_loss: 1.0585761667757185 and d_loss: 0.0\n",
      "Epoch: 38, g_acc=0.0020000000949949026, d_acc_f=1.0, d_acc_r=0.9980000257492065\n"
     ]
    },
    {
     "name": "stderr",
     "output_type": "stream",
     "text": [
      " 13%|█▎        | 562/4493 [00:23<02:41, 24.37it/s]\n"
     ]
    },
    {
     "name": "stdout",
     "output_type": "stream",
     "text": [
      "Epoch 38 with g_loss: 1.0579749531239675 and d_loss: 0.0\n",
      "Epoch: 38, g_acc=0.0020000000949949026, d_acc_f=1.0, d_acc_r=0.9980000257492065\n"
     ]
    },
    {
     "name": "stderr",
     "output_type": "stream",
     "text": [
      " 13%|█▎        | 562/4493 [00:23<02:42, 24.26it/s]\n"
     ]
    },
    {
     "name": "stdout",
     "output_type": "stream",
     "text": [
      "Epoch 38 with g_loss: 1.0579145006153914 and d_loss: 0.0\n",
      "Epoch: 38, g_acc=0.0020000000949949026, d_acc_f=1.0, d_acc_r=0.9980000257492065\n"
     ]
    },
    {
     "name": "stderr",
     "output_type": "stream",
     "text": [
      " 13%|█▎        | 562/4493 [00:23<02:41, 24.39it/s]\n"
     ]
    },
    {
     "name": "stdout",
     "output_type": "stream",
     "text": [
      "Epoch 38 with g_loss: 0.3598136633385102 and d_loss: 0.0\n",
      "Epoch: 38, g_acc=0.0, d_acc_f=0.0, d_acc_r=0.9980000257492065\n"
     ]
    },
    {
     "name": "stderr",
     "output_type": "stream",
     "text": [
      "100%|██████████| 4493/4493 [03:03<00:00, 24.42it/s]\n"
     ]
    },
    {
     "name": "stdout",
     "output_type": "stream",
     "text": [
      "Epoch 39 with g_loss: 0.0 and d_loss: 0.06503237561745502\n",
      "Epoch: 39, g_acc=0.0, d_acc_f=1.0, d_acc_r=1.0\n"
     ]
    },
    {
     "name": "stderr",
     "output_type": "stream",
     "text": [
      " 13%|█▎        | 562/4493 [00:22<02:40, 24.45it/s]\n"
     ]
    },
    {
     "name": "stdout",
     "output_type": "stream",
     "text": [
      "Epoch 39 with g_loss: 0.0038040497419236765 and d_loss: 0.0\n",
      "Epoch: 39, g_acc=0.0, d_acc_f=0.0, d_acc_r=1.0\n"
     ]
    },
    {
     "name": "stderr",
     "output_type": "stream",
     "text": [
      "100%|██████████| 4493/4493 [03:02<00:00, 24.56it/s]\n"
     ]
    },
    {
     "name": "stdout",
     "output_type": "stream",
     "text": [
      "Epoch 40 with g_loss: 0.0 and d_loss: 0.0285007918934809\n",
      "Epoch: 40, g_acc=0.0, d_acc_f=1.0, d_acc_r=1.0\n"
     ]
    },
    {
     "name": "stderr",
     "output_type": "stream",
     "text": [
      " 13%|█▎        | 562/4493 [00:24<02:51, 22.92it/s]\n"
     ]
    },
    {
     "name": "stdout",
     "output_type": "stream",
     "text": [
      "Epoch 40 with g_loss: 0.8459185938407444 and d_loss: 0.0\n",
      "Epoch: 40, g_acc=0.0, d_acc_f=1.0, d_acc_r=1.0\n"
     ]
    },
    {
     "name": "stderr",
     "output_type": "stream",
     "text": [
      " 13%|█▎        | 562/4493 [00:24<02:48, 23.37it/s]\n"
     ]
    },
    {
     "name": "stdout",
     "output_type": "stream",
     "text": [
      "Epoch 40 with g_loss: 0.8459076930227987 and d_loss: 0.0\n",
      "Epoch: 40, g_acc=0.0, d_acc_f=1.0, d_acc_r=1.0\n"
     ]
    },
    {
     "name": "stderr",
     "output_type": "stream",
     "text": [
      " 13%|█▎        | 562/4493 [00:23<02:47, 23.48it/s]\n"
     ]
    },
    {
     "name": "stdout",
     "output_type": "stream",
     "text": [
      "Epoch 40 with g_loss: 0.5057048317482056 and d_loss: 0.0\n",
      "Epoch: 40, g_acc=0.0, d_acc_f=0.0, d_acc_r=1.0\n"
     ]
    },
    {
     "name": "stderr",
     "output_type": "stream",
     "text": [
      "100%|██████████| 4493/4493 [03:10<00:00, 23.54it/s]\n"
     ]
    },
    {
     "name": "stdout",
     "output_type": "stream",
     "text": [
      "Epoch 41 with g_loss: 0.0 and d_loss: 0.010005825766747122\n",
      "Epoch: 41, g_acc=0.0, d_acc_f=0.999000072479248, d_acc_r=1.0\n"
     ]
    },
    {
     "name": "stderr",
     "output_type": "stream",
     "text": [
      " 13%|█▎        | 562/4493 [00:25<02:58, 22.07it/s]\n"
     ]
    },
    {
     "name": "stdout",
     "output_type": "stream",
     "text": [
      "Epoch 41 with g_loss: 0.07064528664954159 and d_loss: 0.0\n",
      "Epoch: 41, g_acc=0.0, d_acc_f=0.0, d_acc_r=1.0\n"
     ]
    },
    {
     "name": "stderr",
     "output_type": "stream",
     "text": [
      "100%|██████████| 4493/4493 [03:11<00:00, 23.52it/s]\n"
     ]
    },
    {
     "name": "stdout",
     "output_type": "stream",
     "text": [
      "Epoch 42 with g_loss: 0.0 and d_loss: 0.016110362718400006\n",
      "Epoch: 42, g_acc=0.0, d_acc_f=1.0, d_acc_r=1.0\n"
     ]
    },
    {
     "name": "stderr",
     "output_type": "stream",
     "text": [
      " 13%|█▎        | 562/4493 [00:24<02:47, 23.41it/s]\n"
     ]
    },
    {
     "name": "stdout",
     "output_type": "stream",
     "text": [
      "Epoch 42 with g_loss: 0.0020489374464775743 and d_loss: 0.0\n",
      "Epoch: 42, g_acc=0.0, d_acc_f=0.0, d_acc_r=1.0\n"
     ]
    },
    {
     "name": "stderr",
     "output_type": "stream",
     "text": [
      "100%|██████████| 4493/4493 [03:11<00:00, 23.51it/s]\n"
     ]
    },
    {
     "name": "stdout",
     "output_type": "stream",
     "text": [
      "Epoch 43 with g_loss: 0.0 and d_loss: 0.23114775911245297\n",
      "Epoch: 43, g_acc=0.0, d_acc_f=1.0, d_acc_r=1.0\n"
     ]
    },
    {
     "name": "stderr",
     "output_type": "stream",
     "text": [
      " 13%|█▎        | 562/4493 [00:25<02:56, 22.23it/s]\n"
     ]
    },
    {
     "name": "stdout",
     "output_type": "stream",
     "text": [
      "Epoch 43 with g_loss: 0.09901157946243133 and d_loss: 0.0\n",
      "Epoch: 43, g_acc=0.003000000026077032, d_acc_f=0.0, d_acc_r=1.0\n"
     ]
    },
    {
     "name": "stderr",
     "output_type": "stream",
     "text": [
      "100%|██████████| 4493/4493 [03:11<00:00, 23.50it/s]\n"
     ]
    },
    {
     "name": "stdout",
     "output_type": "stream",
     "text": [
      "Epoch 44 with g_loss: 0.0 and d_loss: 0.034431312724988554\n",
      "Epoch: 44, g_acc=0.003000000026077032, d_acc_f=1.0, d_acc_r=0.9970000386238098\n"
     ]
    },
    {
     "name": "stderr",
     "output_type": "stream",
     "text": [
      " 13%|█▎        | 562/4493 [00:24<02:48, 23.35it/s]\n"
     ]
    },
    {
     "name": "stdout",
     "output_type": "stream",
     "text": [
      "Epoch 44 with g_loss: 0.002903821849011941 and d_loss: 0.0\n",
      "Epoch: 44, g_acc=0.01100000087171793, d_acc_f=0.0, d_acc_r=0.9970000386238098\n"
     ]
    },
    {
     "name": "stderr",
     "output_type": "stream",
     "text": [
      "100%|██████████| 4493/4493 [03:10<00:00, 23.52it/s]\n"
     ]
    },
    {
     "name": "stdout",
     "output_type": "stream",
     "text": [
      "Epoch 45 with g_loss: 0.0 and d_loss: 0.016043013366815136\n",
      "Epoch: 45, g_acc=0.01100000087171793, d_acc_f=1.0, d_acc_r=0.9890000224113464\n"
     ]
    },
    {
     "name": "stderr",
     "output_type": "stream",
     "text": [
      " 13%|█▎        | 562/4493 [00:25<02:58, 22.07it/s]\n"
     ]
    },
    {
     "name": "stdout",
     "output_type": "stream",
     "text": [
      "Epoch 45 with g_loss: 1.0727303874484686 and d_loss: 0.0\n",
      "Epoch: 45, g_acc=0.01100000087171793, d_acc_f=1.0, d_acc_r=0.9890000224113464\n"
     ]
    },
    {
     "name": "stderr",
     "output_type": "stream",
     "text": [
      " 13%|█▎        | 562/4493 [00:24<02:48, 23.32it/s]\n"
     ]
    },
    {
     "name": "stdout",
     "output_type": "stream",
     "text": [
      "Epoch 45 with g_loss: 1.072683942681454 and d_loss: 0.0\n",
      "Epoch: 45, g_acc=0.01100000087171793, d_acc_f=1.0, d_acc_r=0.9890000224113464\n"
     ]
    },
    {
     "name": "stderr",
     "output_type": "stream",
     "text": [
      " 13%|█▎        | 562/4493 [00:24<02:48, 23.32it/s]\n"
     ]
    },
    {
     "name": "stdout",
     "output_type": "stream",
     "text": [
      "Epoch 45 with g_loss: 1.072877934853006 and d_loss: 0.0\n",
      "Epoch: 45, g_acc=0.01100000087171793, d_acc_f=1.0, d_acc_r=0.9890000224113464\n"
     ]
    },
    {
     "name": "stderr",
     "output_type": "stream",
     "text": [
      " 13%|█▎        | 562/4493 [00:24<02:47, 23.41it/s]\n"
     ]
    },
    {
     "name": "stdout",
     "output_type": "stream",
     "text": [
      "Epoch 45 with g_loss: 1.0728727275322838 and d_loss: 0.0\n",
      "Epoch: 45, g_acc=0.01100000087171793, d_acc_f=1.0, d_acc_r=0.9890000224113464\n"
     ]
    },
    {
     "name": "stderr",
     "output_type": "stream",
     "text": [
      " 13%|█▎        | 562/4493 [00:25<02:57, 22.16it/s]\n"
     ]
    },
    {
     "name": "stdout",
     "output_type": "stream",
     "text": [
      "Epoch 45 with g_loss: 1.0728035828543485 and d_loss: 0.0\n",
      "Epoch: 45, g_acc=0.01100000087171793, d_acc_f=1.0, d_acc_r=0.9890000224113464\n"
     ]
    },
    {
     "name": "stderr",
     "output_type": "stream",
     "text": [
      " 13%|█▎        | 562/4493 [00:24<02:48, 23.37it/s]\n"
     ]
    },
    {
     "name": "stdout",
     "output_type": "stream",
     "text": [
      "Epoch 45 with g_loss: 0.38786240676831474 and d_loss: 0.0\n",
      "Epoch: 45, g_acc=0.003000000026077032, d_acc_f=0.0, d_acc_r=0.9890000224113464\n"
     ]
    },
    {
     "name": "stderr",
     "output_type": "stream",
     "text": [
      "100%|██████████| 4493/4493 [03:10<00:00, 23.55it/s]\n"
     ]
    },
    {
     "name": "stdout",
     "output_type": "stream",
     "text": [
      "Epoch 46 with g_loss: 0.0 and d_loss: 0.029451147682765084\n",
      "Epoch: 46, g_acc=0.003000000026077032, d_acc_f=1.0, d_acc_r=0.9970000386238098\n"
     ]
    },
    {
     "name": "stderr",
     "output_type": "stream",
     "text": [
      " 13%|█▎        | 562/4493 [00:23<02:44, 23.85it/s]\n"
     ]
    },
    {
     "name": "stdout",
     "output_type": "stream",
     "text": [
      "Epoch 46 with g_loss: 0.0017781945799185172 and d_loss: 0.0\n",
      "Epoch: 46, g_acc=0.003000000026077032, d_acc_f=0.0, d_acc_r=0.9970000386238098\n"
     ]
    },
    {
     "name": "stderr",
     "output_type": "stream",
     "text": [
      "100%|██████████| 4493/4493 [03:04<00:00, 24.38it/s]\n"
     ]
    },
    {
     "name": "stdout",
     "output_type": "stream",
     "text": [
      "Epoch 47 with g_loss: 0.0 and d_loss: 0.03428712216891328\n",
      "Epoch: 47, g_acc=0.003000000026077032, d_acc_f=1.0, d_acc_r=0.9970000386238098\n"
     ]
    },
    {
     "name": "stderr",
     "output_type": "stream",
     "text": [
      " 13%|█▎        | 562/4493 [00:23<02:42, 24.24it/s]\n"
     ]
    },
    {
     "name": "stdout",
     "output_type": "stream",
     "text": [
      "Epoch 47 with g_loss: 0.004009029440807323 and d_loss: 0.0\n",
      "Epoch: 47, g_acc=0.01100000087171793, d_acc_f=0.0, d_acc_r=0.9970000386238098\n"
     ]
    },
    {
     "name": "stderr",
     "output_type": "stream",
     "text": [
      "100%|██████████| 4493/4493 [03:03<00:00, 24.51it/s]\n"
     ]
    },
    {
     "name": "stdout",
     "output_type": "stream",
     "text": [
      "Epoch 48 with g_loss: 0.0 and d_loss: 0.016665056084429142\n",
      "Epoch: 48, g_acc=0.01100000087171793, d_acc_f=1.0, d_acc_r=0.9890000224113464\n"
     ]
    },
    {
     "name": "stderr",
     "output_type": "stream",
     "text": [
      " 13%|█▎        | 562/4493 [00:23<02:41, 24.27it/s]\n"
     ]
    },
    {
     "name": "stdout",
     "output_type": "stream",
     "text": [
      "Epoch 48 with g_loss: 1.2500380750172604 and d_loss: 0.0\n",
      "Epoch: 48, g_acc=0.01100000087171793, d_acc_f=1.0, d_acc_r=0.9890000224113464\n"
     ]
    },
    {
     "name": "stderr",
     "output_type": "stream",
     "text": [
      " 13%|█▎        | 562/4493 [00:23<02:41, 24.42it/s]\n"
     ]
    },
    {
     "name": "stdout",
     "output_type": "stream",
     "text": [
      "Epoch 48 with g_loss: 1.2503132982506615 and d_loss: 0.0\n",
      "Epoch: 48, g_acc=0.01100000087171793, d_acc_f=1.0, d_acc_r=0.9890000224113464\n"
     ]
    },
    {
     "name": "stderr",
     "output_type": "stream",
     "text": [
      " 13%|█▎        | 562/4493 [00:23<02:41, 24.31it/s]\n"
     ]
    },
    {
     "name": "stdout",
     "output_type": "stream",
     "text": [
      "Epoch 48 with g_loss: 1.2504820937227359 and d_loss: 0.0\n",
      "Epoch: 48, g_acc=0.01100000087171793, d_acc_f=1.0, d_acc_r=0.9890000224113464\n"
     ]
    },
    {
     "name": "stderr",
     "output_type": "stream",
     "text": [
      " 13%|█▎        | 562/4493 [00:24<02:50, 23.05it/s]\n"
     ]
    },
    {
     "name": "stdout",
     "output_type": "stream",
     "text": [
      "Epoch 48 with g_loss: 1.2503875228946362 and d_loss: 0.0\n",
      "Epoch: 48, g_acc=0.01100000087171793, d_acc_f=1.0, d_acc_r=0.9890000224113464\n"
     ]
    },
    {
     "name": "stderr",
     "output_type": "stream",
     "text": [
      " 13%|█▎        | 562/4493 [00:23<02:41, 24.31it/s]\n"
     ]
    },
    {
     "name": "stdout",
     "output_type": "stream",
     "text": [
      "Epoch 48 with g_loss: 1.2506287702335006 and d_loss: 0.0\n",
      "Epoch: 48, g_acc=0.01100000087171793, d_acc_f=1.0, d_acc_r=0.9890000224113464\n"
     ]
    },
    {
     "name": "stderr",
     "output_type": "stream",
     "text": [
      " 13%|█▎        | 562/4493 [00:23<02:41, 24.33it/s]\n"
     ]
    },
    {
     "name": "stdout",
     "output_type": "stream",
     "text": [
      "Epoch 48 with g_loss: 0.8199879871894834 and d_loss: 0.0\n",
      "Epoch: 48, g_acc=0.0, d_acc_f=0.0, d_acc_r=0.9890000224113464\n"
     ]
    },
    {
     "name": "stderr",
     "output_type": "stream",
     "text": [
      "100%|██████████| 4493/4493 [03:04<00:00, 24.38it/s]\n"
     ]
    },
    {
     "name": "stdout",
     "output_type": "stream",
     "text": [
      "Epoch 49 with g_loss: 0.0 and d_loss: 0.010932574784350531\n",
      "Epoch: 49, g_acc=0.0, d_acc_f=1.0, d_acc_r=1.0\n"
     ]
    },
    {
     "name": "stderr",
     "output_type": "stream",
     "text": [
      " 13%|█▎        | 562/4493 [00:23<02:41, 24.40it/s]\n"
     ]
    },
    {
     "name": "stdout",
     "output_type": "stream",
     "text": [
      "Epoch 49 with g_loss: 0.03563844770916103 and d_loss: 0.0\n",
      "Epoch: 49, g_acc=0.0020000000949949026, d_acc_f=0.009000000543892384, d_acc_r=1.0\n"
     ]
    },
    {
     "name": "stderr",
     "output_type": "stream",
     "text": [
      "100%|██████████| 4493/4493 [03:03<00:00, 24.51it/s]\n"
     ]
    },
    {
     "name": "stdout",
     "output_type": "stream",
     "text": [
      "Epoch 50 with g_loss: 0.0 and d_loss: 0.010246130882807146\n",
      "Epoch: 50, g_acc=0.0020000000949949026, d_acc_f=1.0, d_acc_r=0.9980000257492065\n"
     ]
    },
    {
     "name": "stderr",
     "output_type": "stream",
     "text": [
      " 13%|█▎        | 562/4493 [00:23<02:42, 24.22it/s]\n"
     ]
    },
    {
     "name": "stdout",
     "output_type": "stream",
     "text": [
      "Epoch 50 with g_loss: 1.012568757286216 and d_loss: 0.0\n",
      "Epoch: 50, g_acc=0.0020000000949949026, d_acc_f=1.0, d_acc_r=0.9980000257492065\n"
     ]
    },
    {
     "name": "stderr",
     "output_type": "stream",
     "text": [
      " 13%|█▎        | 562/4493 [00:24<02:50, 23.07it/s]"
     ]
    },
    {
     "name": "stdout",
     "output_type": "stream",
     "text": [
      "Epoch 50 with g_loss: 0.39470355253507655 and d_loss: 0.0\n",
      "Epoch: 50, g_acc=0.003000000026077032, d_acc_f=0.0, d_acc_r=0.9980000257492065\n"
     ]
    },
    {
     "name": "stderr",
     "output_type": "stream",
     "text": [
      "\n"
     ]
    }
   ],
   "source": [
    "for epoch in range(50):\n",
    "    \n",
    "    reps = 0\n",
    "    \n",
    "    if train_all or train_discriminator:\n",
    "        \n",
    "        while RSv1.logs['d_acc_f'][-1] < 0.5:\n",
    "            reps += 1\n",
    "            if reps > 5:\n",
    "                train_all = False\n",
    "                train_discriminator = False\n",
    "                break\n",
    "            for bitboards, mvs in tqdm(loader):\n",
    "        \n",
    "                RSv1.train_step(bitboards, mvs, train_generator=False)\n",
    "            \n",
    "\n",
    "            RSv1.on_epoch_end(epoch, G, val_data)\n",
    "\n",
    "    reps = 0\n",
    "    if train_all or not train_discriminator:\n",
    "        \n",
    "        while RSv1.logs['d_acc_f'][-1] > 0.5:\n",
    "            reps += 1\n",
    "            if reps > 12:\n",
    "                train_all = False\n",
    "                train_discriminator = True\n",
    "                break\n",
    "                \n",
    "            i=0\n",
    "            for bitboards, mvs in tqdm(loader):\n",
    "                \n",
    "                if i > G // 8:\n",
    "                    break\n",
    "                \n",
    "                RSv1.train_step(bitboards, mvs, train_generator=True)\n",
    "                i += 1\n",
    "            \n",
    "            RSv1.on_epoch_end(epoch, G, val_data)"
   ],
   "metadata": {
    "collapsed": false,
    "ExecuteTime": {
     "end_time": "2024-04-02T19:23:10.180819Z",
     "start_time": "2024-04-02T16:11:11.582216Z"
    }
   },
   "id": "4d4ab793678ec2c7",
   "execution_count": 140
  },
  {
   "cell_type": "code",
   "outputs": [
    {
     "data": {
      "text/plain": "0.2510000169277191"
     },
     "execution_count": 135,
     "metadata": {},
     "output_type": "execute_result"
    }
   ],
   "source": [
    "val_boards = val_data.bitboards\n",
    "real_moves = val_data.moves\n",
    "\n",
    "minn, ila = RDv2(val_boards)\n",
    "fake_moves = torch.cat([F.softmax(minn, dim=1), F.softmax(ila,dim=1)], dim=1)\n",
    "torch.mean((real_moves == torch.round(fake_moves)).all(dim=1), dtype=torch.float).item()"
   ],
   "metadata": {
    "collapsed": false,
    "ExecuteTime": {
     "end_time": "2024-04-02T15:15:13.231972Z",
     "start_time": "2024-04-02T15:15:13.035123Z"
    }
   },
   "id": "16b09e78fe015185",
   "execution_count": 135
  },
  {
   "cell_type": "code",
   "outputs": [
    {
     "name": "stdout",
     "output_type": "stream",
     "text": [
      "tensor([1.7404e-42, 0.0000e+00, 2.2697e-41, 2.9514e-19, 2.4398e-16, 4.8634e-12,\n",
      "        9.2207e-27, 3.0531e-33, 0.0000e+00, 0.0000e+00, 2.2381e-24, 2.3693e-12,\n",
      "        1.0543e-04, 2.4633e-19, 4.6248e-19, 9.9989e-01, 0.0000e+00, 0.0000e+00,\n",
      "        0.0000e+00, 1.0044e-09, 2.2264e-06, 1.8982e-10, 8.1555e-16, 6.4270e-11,\n",
      "        1.2278e-31, 0.0000e+00, 1.0315e-31, 1.0168e-20, 5.1734e-15, 8.6261e-07,\n",
      "        3.3822e-08, 5.3728e-09, 0.0000e+00, 0.0000e+00, 8.4442e-37, 1.1300e-11,\n",
      "        1.6480e-18, 1.1017e-12, 9.6544e-10, 5.9234e-10, 0.0000e+00, 0.0000e+00,\n",
      "        3.2209e-39, 1.5248e-36, 2.6022e-42, 5.4401e-41, 0.0000e+00, 4.2039e-45,\n",
      "        0.0000e+00, 0.0000e+00, 7.8557e-42, 0.0000e+00, 0.0000e+00, 0.0000e+00,\n",
      "        0.0000e+00, 0.0000e+00, 0.0000e+00, 0.0000e+00, 0.0000e+00, 0.0000e+00,\n",
      "        0.0000e+00, 0.0000e+00, 0.0000e+00, 0.0000e+00, 0.0000e+00, 0.0000e+00,\n",
      "        0.0000e+00, 0.0000e+00, 0.0000e+00, 0.0000e+00, 0.0000e+00, 0.0000e+00,\n",
      "        0.0000e+00, 0.0000e+00, 0.0000e+00, 0.0000e+00, 8.0270e-33, 3.5150e-19,\n",
      "        2.1672e-29, 0.0000e+00, 0.0000e+00, 0.0000e+00, 0.0000e+00, 0.0000e+00,\n",
      "        3.2166e-39, 1.0000e+00, 1.9417e-14, 6.5004e-16, 0.0000e+00, 0.0000e+00,\n",
      "        0.0000e+00, 2.2937e-25, 6.6810e-16, 1.5381e-18, 7.0016e-14, 3.3433e-15,\n",
      "        0.0000e+00, 0.0000e+00, 0.0000e+00, 0.0000e+00, 5.6715e-15, 4.0245e-15,\n",
      "        1.6127e-29, 5.1068e-25, 0.0000e+00, 0.0000e+00, 0.0000e+00, 0.0000e+00,\n",
      "        2.6771e-29, 1.9396e-37, 1.4888e-27, 0.0000e+00, 0.0000e+00, 0.0000e+00,\n",
      "        0.0000e+00, 1.7236e-43, 0.0000e+00, 0.0000e+00, 3.5551e-29, 0.0000e+00,\n",
      "        0.0000e+00, 0.0000e+00, 0.0000e+00, 0.0000e+00, 0.0000e+00, 0.0000e+00,\n",
      "        0.0000e+00, 0.0000e+00], grad_fn=<SelectBackward0>)\n",
      "tensor([0., 0., 0., 0., 0., 0., 0., 0., 0., 0., 0., 0., 0., 0., 0., 1., 0., 0.,\n",
      "        0., 0., 0., 0., 0., 0., 0., 0., 0., 0., 0., 0., 0., 0., 0., 0., 0., 0.,\n",
      "        0., 0., 0., 0., 0., 0., 0., 0., 0., 0., 0., 0., 0., 0., 0., 0., 0., 0.,\n",
      "        0., 0., 0., 0., 0., 0., 0., 0., 0., 0., 0., 0., 0., 0., 0., 0., 0., 0.,\n",
      "        0., 0., 0., 0., 0., 0., 0., 0., 0., 0., 0., 0., 0., 1., 0., 0., 0., 0.,\n",
      "        0., 0., 0., 0., 0., 0., 0., 0., 0., 0., 0., 0., 0., 0., 0., 0., 0., 0.,\n",
      "        0., 0., 0., 0., 0., 0., 0., 0., 0., 0., 0., 0., 0., 0., 0., 0., 0., 0.,\n",
      "        0., 0.], grad_fn=<RoundBackward0>)\n"
     ]
    }
   ],
   "source": [
    "fake_moves = RSv1(val_boards)\n",
    "print(fake_moves[0])\n",
    "\n",
    "#fake_moves_ind = torch.argmax(fake_moves, dim=1)\n",
    "print(torch.round(fake_moves[0]))\n",
    "\n",
    "g_acc = torch.mean((real_moves == torch.round(fake_moves)).all(dim=1), dtype=torch.float).item()"
   ],
   "metadata": {
    "collapsed": false,
    "ExecuteTime": {
     "end_time": "2024-04-02T15:15:38.058195Z",
     "start_time": "2024-04-02T15:15:37.743602Z"
    }
   },
   "id": "bb95d8c30b50d73a",
   "execution_count": 137
  },
  {
   "cell_type": "code",
   "outputs": [
    {
     "name": "stderr",
     "output_type": "stream",
     "text": [
      "100%|██████████| 50/50 [00:28<00:00,  1.77it/s]\n",
      "100%|██████████| 50/50 [00:27<00:00,  1.80it/s]\n"
     ]
    },
    {
     "data": {
      "text/plain": "(100, 0, 0, 1.0)"
     },
     "execution_count": 141,
     "metadata": {},
     "output_type": "execute_result"
    }
   ],
   "source": [
    "test_against(lambda x: network_agent_prob_conv(x, RDv2), lambda x: network_agent_prob_conv(x, RSv1.generator), N=100)"
   ],
   "metadata": {
    "ExecuteTime": {
     "end_time": "2024-04-02T19:26:22.605870Z",
     "start_time": "2024-04-02T19:25:26.620287Z"
    }
   },
   "id": "aa4d829c",
   "execution_count": 141
  },
  {
   "cell_type": "code",
   "outputs": [
    {
     "data": {
      "text/plain": "7274496"
     },
     "execution_count": 15,
     "metadata": {},
     "output_type": "execute_result"
    }
   ],
   "source": [
    "torch.cuda.memory_allocated() "
   ],
   "metadata": {
    "collapsed": false,
    "ExecuteTime": {
     "end_time": "2024-03-27T05:01:28.670133Z",
     "start_time": "2024-03-27T05:01:28.649203Z"
    }
   },
   "id": "9f9494059602bcb1",
   "execution_count": 15
  }
 ],
 "metadata": {
  "kernelspec": {
   "display_name": "Python 3 (ipykernel)",
   "language": "python",
   "name": "python3"
  },
  "language_info": {
   "codemirror_mode": {
    "name": "ipython",
    "version": 3
   },
   "file_extension": ".py",
   "mimetype": "text/x-python",
   "name": "python",
   "nbconvert_exporter": "python",
   "pygments_lexer": "ipython3",
   "version": "3.10.12"
  }
 },
 "nbformat": 4,
 "nbformat_minor": 5
}
