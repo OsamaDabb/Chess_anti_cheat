{
 "cells": [
  {
   "cell_type": "markdown",
   "id": "9d9bd546",
   "metadata": {},
   "source": [
    "# ReesSaver Discriminator Agent"
   ]
  },
  {
   "cell_type": "markdown",
   "id": "435d5507",
   "metadata": {},
   "source": [
    "## Notes:\n",
    "- Roughly 90% of our boards are unique\n",
    "- Every time you call generate_data it gets new games/games in a different order?"
   ]
  },
  {
   "cell_type": "code",
   "execution_count": 1,
   "id": "df45d77a",
   "metadata": {
    "ExecuteTime": {
     "end_time": "2024-04-03T23:09:47.303661Z",
     "start_time": "2024-04-03T23:09:41.505180Z"
    }
   },
   "outputs": [
    {
     "name": "stderr",
     "output_type": "stream",
     "text": [
      "C:\\Users\\osama\\anaconda3\\lib\\site-packages\\torch\\__init__.py:690: UserWarning: torch.set_default_tensor_type() is deprecated as of PyTorch 2.1, please use torch.set_default_dtype() and torch.set_default_device() as alternatives. (Triggered internally at C:\\actions-runner\\_work\\pytorch\\pytorch\\builder\\windows\\pytorch\\torch\\csrc\\tensor\\python_tensor.cpp:453.)\n",
      "  _C._set_default_tensor_type(t)\n"
     ]
    }
   ],
   "source": [
    "import chess\n",
    "\n",
    "import chess.svg\n",
    "import cv2\n",
    "from IPython.display import display, SVG\n",
    "\n",
    "import numpy as np\n",
    "import random\n",
    "from tqdm import tqdm\n",
    "from importlib import reload\n",
    "import gc\n",
    "\n",
    "import torch\n",
    "import torch.nn as nn\n",
    "import torch.nn.functional as F\n",
    "import torch.optim as optim\n",
    "from torch.utils.data import DataLoader, Dataset\n",
    "\n",
    "import utils\n",
    "reload(utils)\n",
    "import utils\n",
    "\n",
    "\n",
    "from sklearn.model_selection import train_test_split"
   ]
  },
  {
   "cell_type": "code",
   "execution_count": 2,
   "id": "b917432f",
   "metadata": {
    "ExecuteTime": {
     "end_time": "2024-04-03T23:09:50.318043Z",
     "start_time": "2024-04-03T23:09:50.311995Z"
    }
   },
   "outputs": [
    {
     "name": "stdout",
     "output_type": "stream",
     "text": [
      "True\n"
     ]
    }
   ],
   "source": [
    "if torch.cuda.is_available():\n",
    "    # Set default tensor type to CUDA tensors\n",
    "    torch.set_default_tensor_type(torch.cuda.FloatTensor)\n",
    "    \n",
    "else:\n",
    "    \n",
    "    torch.set_default_tensor_type(torch.FloatTensor)\n",
    " \n",
    "print(torch.cuda.is_available())\n",
    "device = torch.device('cuda' if torch.cuda.is_available() else 'cpu')\n",
    "\n",
    "made_loader = False"
   ]
  },
  {
   "cell_type": "code",
   "outputs": [],
   "source": [
    "def clear_cuda():\n",
    "    \n",
    "    input()\n",
    "    \n",
    "    for obj in gc.get_objects():\n",
    "        if torch.is_tensor(obj):\n",
    "            if obj.is_cuda:\n",
    "                print(type(obj), obj.size(), obj.device)\n",
    "                del obj\n",
    "    torch.cuda.empty_cache()\n",
    "    gc.collect()"
   ],
   "metadata": {
    "collapsed": false,
    "ExecuteTime": {
     "end_time": "2024-04-03T23:09:53.146391Z",
     "start_time": "2024-04-03T23:09:53.132393Z"
    }
   },
   "id": "5e426489c167da5c",
   "execution_count": 3
  },
  {
   "cell_type": "code",
   "outputs": [
    {
     "name": "stdout",
     "output_type": "stream",
     "text": [
      "<class 'torch.Tensor'> torch.Size([64]) cuda:0\n"
     ]
    },
    {
     "name": "stderr",
     "output_type": "stream",
     "text": [
      "C:\\Users\\osama\\anaconda3\\lib\\site-packages\\torch\\distributed\\distributed_c10d.py:359: UserWarning: torch.distributed.reduce_op is deprecated, please use torch.distributed.ReduceOp instead\n",
      "  warnings.warn(\n"
     ]
    }
   ],
   "source": [
    "clear_cuda()"
   ],
   "metadata": {
    "collapsed": false,
    "ExecuteTime": {
     "end_time": "2024-04-03T23:10:02.544801Z",
     "start_time": "2024-04-03T23:10:00.797596Z"
    }
   },
   "id": "24b4c10246dd3c83",
   "execution_count": 4
  },
  {
   "cell_type": "code",
   "outputs": [],
   "source": [
    "from utils.Datasets import *\n",
    "\n",
    "import utils.Dataloading\n",
    "reload(utils.Dataloading)\n",
    "from utils.Dataloading import *\n",
    "from utils.Game_playing import *\n",
    "\n",
    "import utils.Playing_agents\n",
    "reload(utils.Playing_agents)\n",
    "from utils.Playing_agents import *\n",
    "\n",
    "from utils.CSV_data import *\n",
    "from utils.Puzzles import *"
   ],
   "metadata": {
    "ExecuteTime": {
     "end_time": "2024-04-03T23:10:32.893060Z",
     "start_time": "2024-04-03T23:10:32.870530Z"
    }
   },
   "id": "aced8f27",
   "execution_count": 5
  },
  {
   "cell_type": "code",
   "outputs": [],
   "source": [
    "class MLPv2_1(nn.Module):\n",
    "\n",
    "    def __init__(self):\n",
    "\n",
    "        super().__init__()\n",
    "        self.conv1 = nn.Conv2d(14, 64, 3, 1, padding=1, padding_mode = 'zeros')\n",
    "\n",
    "        self.layers = nn.ModuleList()\n",
    "\n",
    "        self.depth = 6\n",
    "\n",
    "        for _ in range(self.depth):\n",
    "            self.layers.append(nn.Conv2d(64,64, 3, 1, padding=1, padding_mode = 'zeros'))\n",
    "            self.layers.append(nn.BatchNorm2d(64))\n",
    "            self.layers.append(nn.Conv2d(64,64, 3, 1, padding=1, padding_mode = 'zeros'))\n",
    "            self.layers.append(nn.BatchNorm2d(64))\n",
    "\n",
    "        self.linear = nn.Linear(4096, 128)\n",
    "\n",
    "    def forward(self, x):\n",
    "\n",
    "        x = self.conv1(x)\n",
    "\n",
    "        for i in range(self.depth):\n",
    "            j = i*4\n",
    "            ph = x.clone()\n",
    "            ph = self.layers[j](ph)\n",
    "            ph = self.layers[j+1](ph)\n",
    "            ph = F.relu(ph)\n",
    "            ph = self.layers[j+2](ph)\n",
    "            ph = self.layers[j+3](ph)\n",
    "\n",
    "            x = x + ph\n",
    "            x = F.relu(x)\n",
    "\n",
    "\n",
    "        x = torch.flatten(x, start_dim=1)\n",
    "\n",
    "        x = self.linear(x)\n",
    "\n",
    "        minn, ila = x[:,:64], x[:,64:]\n",
    "\n",
    "        return minn, ila"
   ],
   "metadata": {
    "collapsed": false,
    "ExecuteTime": {
     "end_time": "2024-04-03T23:10:36.911829Z",
     "start_time": "2024-04-03T23:10:36.897829Z"
    }
   },
   "id": "2e17ab646265886d",
   "execution_count": 6
  },
  {
   "cell_type": "code",
   "outputs": [],
   "source": [
    "RDv2 = torch.load(\"Models/RDv2.3 CB.pt\", map_location= device)"
   ],
   "metadata": {
    "collapsed": false,
    "ExecuteTime": {
     "end_time": "2024-04-03T23:10:39.884863Z",
     "start_time": "2024-04-03T23:10:39.790528Z"
    }
   },
   "id": "34154737e9a1cf50",
   "execution_count": 7
  },
  {
   "cell_type": "code",
   "outputs": [
    {
     "name": "stderr",
     "output_type": "stream",
     "text": [
      "0it [00:00, ?it/s]\n",
      "100%|██████████| 40000/40000 [22:30<00:00, 29.62it/s]  \n"
     ]
    }
   ],
   "source": [
    "boards, meta, elo, moves, _, _, fens = generate_data(\"./Data/GAN_human_data.pgn\", N = 40_000)\n",
    "elo = [int(x) for x in elo]"
   ],
   "metadata": {
    "ExecuteTime": {
     "end_time": "2024-04-03T23:34:41.421669Z",
     "start_time": "2024-04-03T23:10:44.077058Z"
    }
   },
   "id": "4d02f81d",
   "execution_count": 8
  },
  {
   "cell_type": "code",
   "outputs": [],
   "source": [
    "class generator_1(nn.Module):\n",
    "\n",
    "    def __init__(self, conv_depth, hidden_size, hidden_depth):\n",
    "\n",
    "        super().__init__()\n",
    "        self.conv1 = nn.Conv2d(14, 64, 3, 1, padding=1, padding_mode = 'zeros')\n",
    "        \n",
    "        self.conv_layers = nn.ModuleList()\n",
    "        self.hidden_layers = nn.ModuleList()\n",
    "        \n",
    "        self.conv_depth = conv_depth\n",
    "        self.hidden_depth = hidden_depth\n",
    "        self.hidden_size = hidden_size\n",
    "        self.dropout = nn.Dropout(0.2)\n",
    "        \n",
    "        for _ in range(self.conv_depth):\n",
    "            self.conv_layers.append(nn.Conv2d(64,64, 3, 1, padding=1, padding_mode = 'zeros'))\n",
    "            self.conv_layers.append(nn.BatchNorm2d(64))\n",
    "            self.conv_layers.append(nn.Conv2d(64,64, 3, 1, padding=1, padding_mode = 'zeros'))\n",
    "            self.conv_layers.append(nn.BatchNorm2d(64))\n",
    "\n",
    "        self.hidden_layers.append(nn.Linear(4096, hidden_size))\n",
    "        \n",
    "        for _ in range(self.hidden_depth - 2):\n",
    "\n",
    "            self.hidden_layers.append(nn.Linear(hidden_size, hidden_size))\n",
    "\n",
    "        self.hidden_layers.append(nn.Linear(hidden_size, 128))\n",
    "\n",
    "    def forward(self, x):\n",
    "\n",
    "        x = self.conv1(x)\n",
    "        \n",
    "        for i in range(self.conv_depth):\n",
    "            j = i*4\n",
    "            ph = x.clone()\n",
    "            ph = self.conv_layers[j](ph)\n",
    "            ph = self.conv_layers[j+1](ph)\n",
    "            ph = F.relu(ph)\n",
    "            ph = self.conv_layers[j+2](ph)\n",
    "            ph = self.conv_layers[j+3](ph)\n",
    "            \n",
    "            x = x + ph\n",
    "            x = F.relu(x)   \n",
    "        \n",
    "        x = torch.flatten(x, start_dim=1)\n",
    "        \n",
    "        for i in range(self.hidden_depth - 1):\n",
    "            \n",
    "            x = self.hidden_layers[i](x)\n",
    "            x = F.leaky_relu(x)\n",
    "            x = self.dropout(x)\n",
    "\n",
    "        x = self.hidden_layers[-1](x)\n",
    "        minn, ila = x[:,:64], x[:,64:]\n",
    "\n",
    "        minn = F.softmax(minn, dim=1)\n",
    "        ila = F.softmax(ila, dim=1)\n",
    "\n",
    "        return torch.cat([minn, ila], dim=1)"
   ],
   "metadata": {
    "ExecuteTime": {
     "end_time": "2024-04-03T23:35:16.230366Z",
     "start_time": "2024-04-03T23:35:16.206365Z"
    }
   },
   "id": "bab89efa",
   "execution_count": 13
  },
  {
   "cell_type": "code",
   "outputs": [],
   "source": [
    "class discriminator_1(nn.Module):\n",
    "\n",
    "    def __init__(self, conv_depth, hidden_size, hidden_depth):\n",
    "\n",
    "        super().__init__()\n",
    "        self.conv1 = nn.Conv2d(14, 64, 3, 1, padding=1, padding_mode = 'zeros')\n",
    "\n",
    "        self.conv_layers = nn.ModuleList()\n",
    "        self.hidden_layers = nn.ModuleList()\n",
    "\n",
    "        self.conv_depth = conv_depth\n",
    "        self.hidden_depth = hidden_depth\n",
    "        self.hidden_size = hidden_size\n",
    "        self.alpha = 0.5\n",
    "        self.dropout = nn.Dropout(0.2)\n",
    "\n",
    "        for _ in range(self.conv_depth):\n",
    "            self.conv_layers.append(nn.Conv2d(64,64, 3, 1, padding=1, padding_mode = 'zeros'))\n",
    "            self.conv_layers.append(nn.BatchNorm2d(64))\n",
    "            self.conv_layers.append(nn.Conv2d(64,64, 3, 1, padding=1, padding_mode = 'zeros'))\n",
    "            self.conv_layers.append(nn.BatchNorm2d(64))\n",
    "\n",
    "        self.board_linear = nn.Linear(4096, int(hidden_size*self.alpha))\n",
    "        self.move_linear = nn.Linear(128, int(hidden_size*(1-self.alpha)))\n",
    "\n",
    "        for _ in range(self.hidden_depth):\n",
    "\n",
    "            self.hidden_layers.append(nn.Linear(hidden_size, hidden_size))\n",
    "\n",
    "        self.hidden_layers.append(nn.Linear(hidden_size, 1))\n",
    "    \n",
    "\n",
    "    def forward(self, board, move):\n",
    "\n",
    "        x = self.conv1(board)\n",
    "        \n",
    "        for i in range(self.conv_depth):\n",
    "            j = i*4\n",
    "            ph = x.clone()\n",
    "            ph = self.conv_layers[j](ph)\n",
    "            ph = self.conv_layers[j+1](ph)\n",
    "            ph = F.relu(ph)\n",
    "            ph = self.conv_layers[j+2](ph)\n",
    "            ph = self.conv_layers[j+3](ph)\n",
    "            \n",
    "            x = x + ph\n",
    "            x = F.relu(x)\n",
    "                  \n",
    "                  \n",
    "        x = torch.flatten(x, start_dim=1)\n",
    "        \n",
    "        x = self.board_linear(x)\n",
    "        x = F.leaky_relu(x)\n",
    "        x = self.dropout(x)\n",
    "        \n",
    "        move = self.move_linear(move)\n",
    "        move = F.leaky_relu(move)\n",
    "        x = self.dropout(x)\n",
    "        \n",
    "        x = torch.cat((x, move), dim=1)\n",
    "\n",
    "        for i in range(self.hidden_depth):\n",
    "                \n",
    "            x = self.hidden_layers[i](x)\n",
    "            x = F.leaky_relu(x)\n",
    "            x = self.dropout(x)\n",
    "\n",
    "        x = self.hidden_layers[-1](x)\n",
    "        x = F.sigmoid(x)\n",
    "        \n",
    "        return x"
   ],
   "metadata": {
    "ExecuteTime": {
     "end_time": "2024-04-03T23:37:39.748373Z",
     "start_time": "2024-04-03T23:37:39.734005Z"
    }
   },
   "id": "da16f337",
   "execution_count": 18
  },
  {
   "cell_type": "code",
   "outputs": [],
   "source": [
    "class GAN_1(nn.Module):\n",
    "    #AI: 0, Human: 1\n",
    "    def __init__(self, g_conv_depth, g_hidden_size, g_hidden_depth, d_conv_depth, d_hidden_size, d_hidden_depth, lr):\n",
    "        \n",
    "        super().__init__()\n",
    "        \n",
    "        print(device)\n",
    "        \n",
    "        self.generator = generator_1(g_conv_depth, g_hidden_size, g_hidden_depth)\n",
    "        self.discriminator = discriminator_1(d_conv_depth, d_hidden_size, d_hidden_depth)\n",
    "        \n",
    "        self.logs = {\"g_acc\": [0], \"d_acc_r\": [0], \"d_acc_f\": [0], \n",
    "                     \"g_loss\": [0], \"d_loss\": [0],\"d_dist_f\": [0], \"d_dist_r\": [0], \n",
    "                     \"cur_g_loss\": 0, \"cur_d_loss\": 0}\n",
    "        \n",
    "        self.made_loader = False\n",
    "        \n",
    "        self.configure_optimizers(lr)\n",
    "        \n",
    "    def forward(self, x):\n",
    "        return self.generator(x)\n",
    "    \n",
    "    def adversarial_loss(self, y_hat, y):\n",
    "        return F.binary_cross_entropy(y_hat, y)\n",
    "    \n",
    "    def train_step(self, train_boards, real_moves, train_generator):\n",
    "        \n",
    "        #train generator\n",
    "        if train_generator:\n",
    "\n",
    "            self.opt_g.zero_grad()\n",
    "            \n",
    "            fake_moves = self(train_boards)\n",
    "                \n",
    "            y_hat = self.discriminator(train_boards, fake_moves)\n",
    "            \n",
    "            y = torch.ones(real_moves.size(0), 1).to(device)\n",
    "            \n",
    "            g_loss = self.adversarial_loss(y_hat, y)\n",
    "            self.logs[\"cur_g_loss\"] += g_loss.item()\n",
    "            \n",
    "            g_loss.backward()\n",
    "\n",
    "            self.opt_g.step()\n",
    "              \n",
    "            \n",
    "        else:\n",
    "\n",
    "            self.opt_d.zero_grad()\n",
    "            \n",
    "            y_hat_real = self.discriminator(train_boards, real_moves)\n",
    "            y_real = torch.ones(real_moves.size(0), 1).to(device)\n",
    "            \n",
    "            d_real_loss = self.adversarial_loss(y_hat_real, y_real)\n",
    "            \n",
    "            y_hat_fake = self.discriminator(train_boards, self(train_boards).detach())\n",
    "            y_fake = torch.zeros(real_moves.size(0), 1).to(device)\n",
    "            \n",
    "            d_fake_loss = self.adversarial_loss(y_hat_fake, y_fake)\n",
    "            \n",
    "            d_loss = d_real_loss + d_fake_loss\n",
    "            self.logs[\"cur_d_loss\"] += d_loss.item()\n",
    "            \n",
    "            d_loss.backward()\n",
    "\n",
    "            self.opt_d.step()\n",
    "            \n",
    "    \n",
    "    def configure_optimizers(self, lr):\n",
    "        self.lr = lr\n",
    "        self.opt_g = torch.optim.Adam(self.generator.parameters(), lr=lr, weight_decay=0.0001)\n",
    "        self.opt_d = torch.optim.Adam(self.discriminator.parameters(), lr=lr,weight_decay=0.0001)\n",
    "    \n",
    "    def on_epoch_end(self, epoch, G, val_data=None):\n",
    "        \n",
    "        self.logs[\"g_loss\"].append(self.logs[\"cur_g_loss\"] / G)\n",
    "        self.logs[\"d_loss\"].append(self.logs[\"cur_d_loss\"] / G)\n",
    "        \n",
    "        print(f'Epoch {epoch+1} with g_loss: {self.logs[\"cur_g_loss\"] / G} and d_loss: {self.logs[\"cur_d_loss\"] / G}')\n",
    "        \n",
    "        self.logs[\"cur_g_loss\"] = 0\n",
    "        self.logs[\"cur_d_loss\"] = 0\n",
    "        \n",
    "        if epoch % 1 == 0:\n",
    "            \n",
    "            if val_data is not None:\n",
    "                \n",
    "                val_boards = val_data.bitboards\n",
    "                real_moves = val_data.moves\n",
    "                \n",
    "                #fake_moves_ind = torch.argmax(fake_moves, dim=1)\n",
    "                values = np.zeros(5)\n",
    "                \n",
    "                for i in range(0,len(val_boards), 100):\n",
    "                \n",
    "                    with torch.no_grad():\n",
    "                        \n",
    "                        curr_boards, curr_moves = val_boards[i:i+100], real_moves[i:i+100]\n",
    "    \n",
    "                        fake_moves = self(curr_boards)\n",
    "                        \n",
    "                        f_pred = self.discriminator(curr_boards, fake_moves)\n",
    "                        r_pred = self.discriminator(curr_boards, curr_moves) \n",
    "                        \n",
    "                        values[0] += torch.mean(torch.round(f_pred) == 0, dtype=torch.float).item() #d_acc_f\n",
    "                        values[1] += torch.mean(torch.round(r_pred) == 1, dtype=torch.float).item() #d_acc_r\n",
    "                        \n",
    "                        values[2] += torch.mean(torch.abs(f_pred)) #d_dist_f\n",
    "                        values[3] += torch.mean(torch.abs(1 - r_pred)) #d_dist_r\n",
    "                        \n",
    "                        values[4] = torch.mean((curr_moves == torch.round(fake_moves)).all(dim=1), dtype=torch.float).item() # g_acc\n",
    "                \n",
    "                n = int(len(val_boards) // 100)\n",
    "                d_acc_f, d_acc_r = values[0] / n, values[1] / n\n",
    "                d_dist_f, d_dist_r = values[2] / n, values[3] / n\n",
    "                g_acc = values[4] / n\n",
    "                \n",
    "                print(f'Epoch: {epoch+1}, {g_acc=}, {d_acc_f=}, {d_acc_r=}')\n",
    "                print(f\"{d_dist_f=}, {d_dist_r=}\")\n",
    "                \n",
    "                self.logs[\"d_acc_f\"].append(d_acc_f)\n",
    "                self.logs[\"d_acc_r\"].append(d_acc_r)\n",
    "                self.logs[\"d_dist_f\"].append(d_dist_f)\n",
    "                self.logs[\"d_dist_r\"].append(d_dist_r)\n",
    "                self.logs[\"g_acc\"].append(g_acc)\n",
    "                \n",
    "                \n",
    "            if epoch % 5 == 0:\n",
    "            \n",
    "                torch.save(self.generator, f\"generator {epoch}.pt\")\n",
    "                torch.save(self.discriminator, f\"discriminator {epoch}.pt\")\n",
    "            \n",
    "    def create_dataloader(self, boards, meta, moves, B, N, N_val):\n",
    "\n",
    "        if self.made_loader:\n",
    "\n",
    "            clear_cuda()\n",
    "            \n",
    "        loader = DataLoader(GANData(boards[:N], meta[:N], moves[:N]), batch_size = B, shuffle = True, generator=torch.Generator(device=device))\n",
    "        val_loader = GANData(boards[N:N+N_val], meta[N:N+N_val], moves[N:N+N_val])\n",
    "        \n",
    "        self.made_loader = True\n",
    "        \n",
    "        return loader, val_loader\n",
    "        \n",
    "\n",
    "        "
   ],
   "metadata": {
    "collapsed": false,
    "ExecuteTime": {
     "end_time": "2024-04-04T00:20:39.924107Z",
     "start_time": "2024-04-04T00:20:39.893103Z"
    }
   },
   "id": "cf3c6fec864d134d",
   "execution_count": 44
  },
  {
   "cell_type": "code",
   "outputs": [],
   "source": [
    "class GANData(Dataset):\n",
    "\n",
    "    def __init__(self, bitboards, white_turn, moves):\n",
    "\n",
    "        self.bitboards = torch.tensor(bitboards, dtype = torch.float).to(device)\n",
    "\n",
    "        self.moves = torch.zeros((self.bitboards.size(dim=0), 128), dtype = torch.float).to(device)\n",
    "\n",
    "        for ind, move in tqdm(enumerate(moves), total=len(moves)):\n",
    "\n",
    "            minn = move.from_square\n",
    "            ila = move.to_square\n",
    "        \n",
    "            if not white_turn[ind]:\n",
    "                minn = (63 - minn) // 8 * 8 + minn % 8\n",
    "                ila = (63 - ila) // 8 * 8 + ila % 8\n",
    "\n",
    "            self.moves[ind,minn] = 1\n",
    "            self.moves[ind, ila + 64] = 1\n",
    "\n",
    "\n",
    "    def __len__(self):\n",
    "\n",
    "        return self.moves.size(dim=0)\n",
    "\n",
    "\n",
    "    def __getitem__(self, idx):\n",
    "\n",
    "        return self.bitboards[idx], self.moves[idx]\n",
    "    "
   ],
   "metadata": {
    "collapsed": false,
    "ExecuteTime": {
     "end_time": "2024-04-04T00:11:29.491124Z",
     "start_time": "2024-04-04T00:11:29.477009Z"
    }
   },
   "id": "4677947170615bf9",
   "execution_count": 36
  },
  {
   "cell_type": "code",
   "outputs": [
    {
     "name": "stdout",
     "output_type": "stream",
     "text": [
      "<class 'torch.Tensor'> torch.Size([64]) cuda:0\n",
      "<class 'torch.nn.parameter.Parameter'> torch.Size([64, 14, 3, 3]) cuda:0\n",
      "<class 'torch.nn.parameter.Parameter'> torch.Size([64]) cuda:0\n",
      "<class 'torch.nn.parameter.Parameter'> torch.Size([128, 4096]) cuda:0\n",
      "<class 'torch.nn.parameter.Parameter'> torch.Size([128]) cuda:0\n",
      "<class 'torch.nn.parameter.Parameter'> torch.Size([64, 64, 3, 3]) cuda:0\n",
      "<class 'torch.nn.parameter.Parameter'> torch.Size([64]) cuda:0\n",
      "<class 'torch.nn.parameter.Parameter'> torch.Size([64]) cuda:0\n",
      "<class 'torch.nn.parameter.Parameter'> torch.Size([64]) cuda:0\n",
      "<class 'torch.Tensor'> torch.Size([64]) cuda:0\n",
      "<class 'torch.Tensor'> torch.Size([64]) cuda:0\n",
      "<class 'torch.Tensor'> torch.Size([]) cuda:0\n",
      "<class 'torch.nn.parameter.Parameter'> torch.Size([64, 64, 3, 3]) cuda:0\n",
      "<class 'torch.nn.parameter.Parameter'> torch.Size([64]) cuda:0\n",
      "<class 'torch.nn.parameter.Parameter'> torch.Size([64]) cuda:0\n",
      "<class 'torch.nn.parameter.Parameter'> torch.Size([64]) cuda:0\n",
      "<class 'torch.Tensor'> torch.Size([64]) cuda:0\n",
      "<class 'torch.Tensor'> torch.Size([64]) cuda:0\n",
      "<class 'torch.Tensor'> torch.Size([]) cuda:0\n",
      "<class 'torch.nn.parameter.Parameter'> torch.Size([64, 64, 3, 3]) cuda:0\n",
      "<class 'torch.nn.parameter.Parameter'> torch.Size([64]) cuda:0\n",
      "<class 'torch.nn.parameter.Parameter'> torch.Size([64]) cuda:0\n",
      "<class 'torch.nn.parameter.Parameter'> torch.Size([64]) cuda:0\n",
      "<class 'torch.Tensor'> torch.Size([64]) cuda:0\n",
      "<class 'torch.Tensor'> torch.Size([64]) cuda:0\n",
      "<class 'torch.Tensor'> torch.Size([]) cuda:0\n",
      "<class 'torch.nn.parameter.Parameter'> torch.Size([64, 64, 3, 3]) cuda:0\n",
      "<class 'torch.nn.parameter.Parameter'> torch.Size([64]) cuda:0\n",
      "<class 'torch.nn.parameter.Parameter'> torch.Size([64]) cuda:0\n",
      "<class 'torch.nn.parameter.Parameter'> torch.Size([64]) cuda:0\n",
      "<class 'torch.Tensor'> torch.Size([64]) cuda:0\n",
      "<class 'torch.Tensor'> torch.Size([64]) cuda:0\n",
      "<class 'torch.Tensor'> torch.Size([]) cuda:0\n",
      "<class 'torch.nn.parameter.Parameter'> torch.Size([64, 64, 3, 3]) cuda:0\n",
      "<class 'torch.nn.parameter.Parameter'> torch.Size([64]) cuda:0\n",
      "<class 'torch.nn.parameter.Parameter'> torch.Size([64]) cuda:0\n",
      "<class 'torch.nn.parameter.Parameter'> torch.Size([64]) cuda:0\n",
      "<class 'torch.Tensor'> torch.Size([64]) cuda:0\n",
      "<class 'torch.Tensor'> torch.Size([64]) cuda:0\n",
      "<class 'torch.Tensor'> torch.Size([]) cuda:0\n",
      "<class 'torch.nn.parameter.Parameter'> torch.Size([64, 64, 3, 3]) cuda:0\n",
      "<class 'torch.nn.parameter.Parameter'> torch.Size([64]) cuda:0\n",
      "<class 'torch.nn.parameter.Parameter'> torch.Size([64]) cuda:0\n",
      "<class 'torch.nn.parameter.Parameter'> torch.Size([64]) cuda:0\n",
      "<class 'torch.Tensor'> torch.Size([64]) cuda:0\n",
      "<class 'torch.Tensor'> torch.Size([64]) cuda:0\n",
      "<class 'torch.Tensor'> torch.Size([]) cuda:0\n",
      "<class 'torch.nn.parameter.Parameter'> torch.Size([64, 64, 3, 3]) cuda:0\n",
      "<class 'torch.nn.parameter.Parameter'> torch.Size([64]) cuda:0\n",
      "<class 'torch.nn.parameter.Parameter'> torch.Size([64]) cuda:0\n",
      "<class 'torch.nn.parameter.Parameter'> torch.Size([64]) cuda:0\n",
      "<class 'torch.Tensor'> torch.Size([64]) cuda:0\n",
      "<class 'torch.Tensor'> torch.Size([64]) cuda:0\n",
      "<class 'torch.Tensor'> torch.Size([]) cuda:0\n",
      "<class 'torch.nn.parameter.Parameter'> torch.Size([64, 64, 3, 3]) cuda:0\n",
      "<class 'torch.nn.parameter.Parameter'> torch.Size([64]) cuda:0\n",
      "<class 'torch.nn.parameter.Parameter'> torch.Size([64]) cuda:0\n",
      "<class 'torch.nn.parameter.Parameter'> torch.Size([64]) cuda:0\n",
      "<class 'torch.Tensor'> torch.Size([64]) cuda:0\n",
      "<class 'torch.Tensor'> torch.Size([64]) cuda:0\n",
      "<class 'torch.Tensor'> torch.Size([]) cuda:0\n",
      "<class 'torch.nn.parameter.Parameter'> torch.Size([64, 64, 3, 3]) cuda:0\n",
      "<class 'torch.nn.parameter.Parameter'> torch.Size([64]) cuda:0\n",
      "<class 'torch.nn.parameter.Parameter'> torch.Size([64]) cuda:0\n",
      "<class 'torch.nn.parameter.Parameter'> torch.Size([64]) cuda:0\n",
      "<class 'torch.Tensor'> torch.Size([64]) cuda:0\n",
      "<class 'torch.Tensor'> torch.Size([64]) cuda:0\n",
      "<class 'torch.Tensor'> torch.Size([]) cuda:0\n",
      "<class 'torch.nn.parameter.Parameter'> torch.Size([64, 64, 3, 3]) cuda:0\n",
      "<class 'torch.nn.parameter.Parameter'> torch.Size([64]) cuda:0\n",
      "<class 'torch.nn.parameter.Parameter'> torch.Size([64]) cuda:0\n",
      "<class 'torch.nn.parameter.Parameter'> torch.Size([64]) cuda:0\n",
      "<class 'torch.Tensor'> torch.Size([64]) cuda:0\n",
      "<class 'torch.Tensor'> torch.Size([64]) cuda:0\n",
      "<class 'torch.Tensor'> torch.Size([]) cuda:0\n",
      "<class 'torch.nn.parameter.Parameter'> torch.Size([64, 64, 3, 3]) cuda:0\n",
      "<class 'torch.nn.parameter.Parameter'> torch.Size([64]) cuda:0\n",
      "<class 'torch.nn.parameter.Parameter'> torch.Size([64]) cuda:0\n",
      "<class 'torch.nn.parameter.Parameter'> torch.Size([64]) cuda:0\n",
      "<class 'torch.Tensor'> torch.Size([64]) cuda:0\n",
      "<class 'torch.Tensor'> torch.Size([64]) cuda:0\n",
      "<class 'torch.Tensor'> torch.Size([]) cuda:0\n",
      "<class 'torch.nn.parameter.Parameter'> torch.Size([64, 64, 3, 3]) cuda:0\n",
      "<class 'torch.nn.parameter.Parameter'> torch.Size([64]) cuda:0\n",
      "<class 'torch.nn.parameter.Parameter'> torch.Size([64]) cuda:0\n",
      "<class 'torch.nn.parameter.Parameter'> torch.Size([64]) cuda:0\n",
      "<class 'torch.Tensor'> torch.Size([64]) cuda:0\n",
      "<class 'torch.Tensor'> torch.Size([64]) cuda:0\n",
      "<class 'torch.Tensor'> torch.Size([]) cuda:0\n",
      "<class 'torch.Tensor'> torch.Size([5000, 128]) cuda:0\n",
      "<class 'torch.Tensor'> torch.Size([5000, 14, 8, 8]) cuda:0\n",
      "<class 'torch.Tensor'> torch.Size([64, 14, 3, 3]) cuda:0\n",
      "<class 'torch.Tensor'> torch.Size([64]) cuda:0\n",
      "<class 'torch.Tensor'> torch.Size([64, 64, 3, 3]) cuda:0\n",
      "<class 'torch.Tensor'> torch.Size([64]) cuda:0\n",
      "<class 'torch.Tensor'> torch.Size([64]) cuda:0\n",
      "<class 'torch.Tensor'> torch.Size([64]) cuda:0\n",
      "<class 'torch.Tensor'> torch.Size([64, 64, 3, 3]) cuda:0\n",
      "<class 'torch.Tensor'> torch.Size([64]) cuda:0\n",
      "<class 'torch.Tensor'> torch.Size([64]) cuda:0\n",
      "<class 'torch.Tensor'> torch.Size([64]) cuda:0\n",
      "<class 'torch.Tensor'> torch.Size([64, 64, 3, 3]) cuda:0\n",
      "<class 'torch.Tensor'> torch.Size([64]) cuda:0\n",
      "<class 'torch.Tensor'> torch.Size([64]) cuda:0\n",
      "<class 'torch.Tensor'> torch.Size([64]) cuda:0\n",
      "<class 'torch.Tensor'> torch.Size([64, 64, 3, 3]) cuda:0\n",
      "<class 'torch.Tensor'> torch.Size([64]) cuda:0\n",
      "<class 'torch.Tensor'> torch.Size([64]) cuda:0\n",
      "<class 'torch.Tensor'> torch.Size([64]) cuda:0\n",
      "<class 'torch.Tensor'> torch.Size([64, 64, 3, 3]) cuda:0\n",
      "<class 'torch.Tensor'> torch.Size([64]) cuda:0\n",
      "<class 'torch.Tensor'> torch.Size([64]) cuda:0\n",
      "<class 'torch.Tensor'> torch.Size([64]) cuda:0\n",
      "<class 'torch.Tensor'> torch.Size([64, 64, 3, 3]) cuda:0\n",
      "<class 'torch.Tensor'> torch.Size([64]) cuda:0\n",
      "<class 'torch.Tensor'> torch.Size([64]) cuda:0\n",
      "<class 'torch.Tensor'> torch.Size([64]) cuda:0\n",
      "<class 'torch.Tensor'> torch.Size([64, 64, 3, 3]) cuda:0\n",
      "<class 'torch.Tensor'> torch.Size([64]) cuda:0\n",
      "<class 'torch.Tensor'> torch.Size([64]) cuda:0\n",
      "<class 'torch.Tensor'> torch.Size([64]) cuda:0\n",
      "<class 'torch.Tensor'> torch.Size([64, 64, 3, 3]) cuda:0\n",
      "<class 'torch.Tensor'> torch.Size([64]) cuda:0\n",
      "<class 'torch.Tensor'> torch.Size([64]) cuda:0\n",
      "<class 'torch.Tensor'> torch.Size([64]) cuda:0\n",
      "<class 'torch.Tensor'> torch.Size([64, 64, 3, 3]) cuda:0\n",
      "<class 'torch.Tensor'> torch.Size([64]) cuda:0\n",
      "<class 'torch.Tensor'> torch.Size([64]) cuda:0\n",
      "<class 'torch.Tensor'> torch.Size([64]) cuda:0\n",
      "<class 'torch.Tensor'> torch.Size([64, 64, 3, 3]) cuda:0\n",
      "<class 'torch.Tensor'> torch.Size([64]) cuda:0\n",
      "<class 'torch.Tensor'> torch.Size([64]) cuda:0\n",
      "<class 'torch.Tensor'> torch.Size([64]) cuda:0\n",
      "<class 'torch.Tensor'> torch.Size([64, 64, 3, 3]) cuda:0\n",
      "<class 'torch.Tensor'> torch.Size([64]) cuda:0\n",
      "<class 'torch.Tensor'> torch.Size([64]) cuda:0\n",
      "<class 'torch.Tensor'> torch.Size([64]) cuda:0\n",
      "<class 'torch.Tensor'> torch.Size([64, 64, 3, 3]) cuda:0\n",
      "<class 'torch.Tensor'> torch.Size([64]) cuda:0\n",
      "<class 'torch.Tensor'> torch.Size([64]) cuda:0\n",
      "<class 'torch.Tensor'> torch.Size([64]) cuda:0\n",
      "<class 'torch.Tensor'> torch.Size([2048, 2048]) cuda:0\n",
      "<class 'torch.Tensor'> torch.Size([2048]) cuda:0\n",
      "<class 'torch.Tensor'> torch.Size([2048, 2048]) cuda:0\n",
      "<class 'torch.Tensor'> torch.Size([2048]) cuda:0\n",
      "<class 'torch.Tensor'> torch.Size([1, 2048]) cuda:0\n",
      "<class 'torch.Tensor'> torch.Size([1]) cuda:0\n",
      "<class 'torch.Tensor'> torch.Size([1024, 4096]) cuda:0\n",
      "<class 'torch.Tensor'> torch.Size([1024]) cuda:0\n",
      "<class 'torch.Tensor'> torch.Size([1024, 128]) cuda:0\n",
      "<class 'torch.Tensor'> torch.Size([1024]) cuda:0\n",
      "<class 'torch.Tensor'> torch.Size([64, 14, 3, 3]) cuda:0\n",
      "<class 'torch.Tensor'> torch.Size([64]) cuda:0\n",
      "<class 'torch.Tensor'> torch.Size([64, 64, 3, 3]) cuda:0\n",
      "<class 'torch.Tensor'> torch.Size([64]) cuda:0\n",
      "<class 'torch.Tensor'> torch.Size([64]) cuda:0\n",
      "<class 'torch.Tensor'> torch.Size([64]) cuda:0\n",
      "<class 'torch.Tensor'> torch.Size([64, 64, 3, 3]) cuda:0\n",
      "<class 'torch.Tensor'> torch.Size([64]) cuda:0\n",
      "<class 'torch.Tensor'> torch.Size([64]) cuda:0\n",
      "<class 'torch.Tensor'> torch.Size([64]) cuda:0\n",
      "<class 'torch.Tensor'> torch.Size([64, 64, 3, 3]) cuda:0\n",
      "<class 'torch.Tensor'> torch.Size([64]) cuda:0\n",
      "<class 'torch.Tensor'> torch.Size([64]) cuda:0\n",
      "<class 'torch.Tensor'> torch.Size([64]) cuda:0\n",
      "<class 'torch.Tensor'> torch.Size([64, 64, 3, 3]) cuda:0\n",
      "<class 'torch.Tensor'> torch.Size([64]) cuda:0\n",
      "<class 'torch.Tensor'> torch.Size([64]) cuda:0\n",
      "<class 'torch.Tensor'> torch.Size([64]) cuda:0\n",
      "<class 'torch.Tensor'> torch.Size([64, 64, 3, 3]) cuda:0\n",
      "<class 'torch.Tensor'> torch.Size([64]) cuda:0\n",
      "<class 'torch.Tensor'> torch.Size([64]) cuda:0\n",
      "<class 'torch.Tensor'> torch.Size([64]) cuda:0\n",
      "<class 'torch.Tensor'> torch.Size([64, 64, 3, 3]) cuda:0\n",
      "<class 'torch.Tensor'> torch.Size([64]) cuda:0\n",
      "<class 'torch.Tensor'> torch.Size([64]) cuda:0\n",
      "<class 'torch.Tensor'> torch.Size([64]) cuda:0\n",
      "<class 'torch.Tensor'> torch.Size([64, 64, 3, 3]) cuda:0\n",
      "<class 'torch.Tensor'> torch.Size([64]) cuda:0\n",
      "<class 'torch.Tensor'> torch.Size([64]) cuda:0\n",
      "<class 'torch.Tensor'> torch.Size([64]) cuda:0\n",
      "<class 'torch.Tensor'> torch.Size([64, 64, 3, 3]) cuda:0\n",
      "<class 'torch.Tensor'> torch.Size([64]) cuda:0\n",
      "<class 'torch.Tensor'> torch.Size([64]) cuda:0\n",
      "<class 'torch.Tensor'> torch.Size([64]) cuda:0\n",
      "<class 'torch.Tensor'> torch.Size([64, 64, 3, 3]) cuda:0\n",
      "<class 'torch.Tensor'> torch.Size([64]) cuda:0\n",
      "<class 'torch.Tensor'> torch.Size([64]) cuda:0\n",
      "<class 'torch.Tensor'> torch.Size([64]) cuda:0\n",
      "<class 'torch.Tensor'> torch.Size([64, 64, 3, 3]) cuda:0\n",
      "<class 'torch.Tensor'> torch.Size([64]) cuda:0\n",
      "<class 'torch.Tensor'> torch.Size([64]) cuda:0\n",
      "<class 'torch.Tensor'> torch.Size([64]) cuda:0\n",
      "<class 'torch.Tensor'> torch.Size([64, 64, 3, 3]) cuda:0\n",
      "<class 'torch.Tensor'> torch.Size([64]) cuda:0\n",
      "<class 'torch.Tensor'> torch.Size([64]) cuda:0\n",
      "<class 'torch.Tensor'> torch.Size([64]) cuda:0\n",
      "<class 'torch.Tensor'> torch.Size([64, 64, 3, 3]) cuda:0\n",
      "<class 'torch.Tensor'> torch.Size([64]) cuda:0\n",
      "<class 'torch.Tensor'> torch.Size([64]) cuda:0\n",
      "<class 'torch.Tensor'> torch.Size([64]) cuda:0\n",
      "<class 'torch.Tensor'> torch.Size([1024, 4096]) cuda:0\n",
      "<class 'torch.Tensor'> torch.Size([1024]) cuda:0\n",
      "<class 'torch.Tensor'> torch.Size([1024, 1024]) cuda:0\n",
      "<class 'torch.Tensor'> torch.Size([1024]) cuda:0\n",
      "<class 'torch.Tensor'> torch.Size([128, 1024]) cuda:0\n",
      "<class 'torch.Tensor'> torch.Size([128]) cuda:0\n",
      "<class 'torch.Tensor'> torch.Size([512, 14, 8, 8]) cuda:0\n",
      "<class 'torch.Tensor'> torch.Size([512, 128]) cuda:0\n",
      "<class 'torch.Tensor'> torch.Size([5000, 64, 8, 8]) cuda:0\n",
      "<class 'torch.Tensor'> torch.Size([5000, 64, 8, 8]) cuda:0\n",
      "<class 'torch.Tensor'> torch.Size([5000, 64, 8, 8]) cuda:0\n",
      "<class 'torch.Tensor'> torch.Size([5000, 64, 8, 8]) cuda:0\n",
      "<class 'torch.Tensor'> torch.Size([5000, 64, 8, 8]) cuda:0\n",
      "<class 'torch.Tensor'> torch.Size([5000, 64, 8, 8]) cuda:0\n",
      "<class 'torch.Tensor'> torch.Size([5000, 64, 8, 8]) cuda:0\n",
      "<class 'torch.Tensor'> torch.Size([5000, 64, 8, 8]) cuda:0\n",
      "<class 'torch.Tensor'> torch.Size([5000, 64, 8, 8]) cuda:0\n",
      "<class 'torch.Tensor'> torch.Size([5000, 64, 8, 8]) cuda:0\n",
      "<class 'torch.Tensor'> torch.Size([5000, 64, 8, 8]) cuda:0\n",
      "<class 'torch.Tensor'> torch.Size([5000, 64, 8, 8]) cuda:0\n",
      "<class 'torch.Tensor'> torch.Size([5000, 64, 8, 8]) cuda:0\n",
      "<class 'torch.Tensor'> torch.Size([5000, 64, 8, 8]) cuda:0\n",
      "<class 'torch.Tensor'> torch.Size([5000, 64, 8, 8]) cuda:0\n",
      "<class 'torch.Tensor'> torch.Size([5000, 64, 8, 8]) cuda:0\n",
      "<class 'torch.Tensor'> torch.Size([5000, 64, 8, 8]) cuda:0\n",
      "<class 'torch.Tensor'> torch.Size([5000, 64, 8, 8]) cuda:0\n",
      "<class 'torch.Tensor'> torch.Size([5000, 64, 8, 8]) cuda:0\n",
      "<class 'torch.Tensor'> torch.Size([5000, 64, 8, 8]) cuda:0\n",
      "<class 'torch.Tensor'> torch.Size([5000, 64, 8, 8]) cuda:0\n",
      "<class 'torch.Tensor'> torch.Size([5000, 64, 8, 8]) cuda:0\n",
      "<class 'torch.Tensor'> torch.Size([5000, 64, 8, 8]) cuda:0\n",
      "<class 'torch.Tensor'> torch.Size([5000, 64, 8, 8]) cuda:0\n",
      "<class 'torch.Tensor'> torch.Size([5000, 64, 8, 8]) cuda:0\n",
      "<class 'torch.Tensor'> torch.Size([5000, 4096]) cuda:0\n",
      "<class 'torch.Tensor'> torch.Size([5000, 1024]) cuda:0\n",
      "<class 'torch.Tensor'> torch.Size([5000, 1024]) cuda:0\n",
      "<class 'torch.Tensor'> torch.Size([5000, 1024]) cuda:0\n",
      "<class 'torch.Tensor'> torch.Size([5000, 1024]) cuda:0\n",
      "<class 'torch.Tensor'> torch.Size([5000, 128]) cuda:0\n",
      "<class 'torch.Tensor'> torch.Size([5000, 64, 8, 8]) cuda:0\n",
      "<class 'torch.Tensor'> torch.Size([5000, 64, 8, 8]) cuda:0\n",
      "<class 'torch.nn.parameter.Parameter'> torch.Size([64, 64, 3, 3]) cuda:0\n",
      "<class 'torch.nn.parameter.Parameter'> torch.Size([64]) cuda:0\n",
      "<class 'torch.Tensor'> torch.Size([]) cuda:0\n",
      "<class 'torch.Tensor'> torch.Size([]) cuda:0\n",
      "<class 'torch.nn.parameter.Parameter'> torch.Size([64, 14, 3, 3]) cuda:0\n",
      "<class 'torch.nn.parameter.Parameter'> torch.Size([64]) cuda:0\n",
      "<class 'torch.nn.parameter.Parameter'> torch.Size([64, 64, 3, 3]) cuda:0\n",
      "<class 'torch.nn.parameter.Parameter'> torch.Size([64]) cuda:0\n",
      "<class 'torch.nn.parameter.Parameter'> torch.Size([64]) cuda:0\n",
      "<class 'torch.nn.parameter.Parameter'> torch.Size([64]) cuda:0\n",
      "<class 'torch.nn.parameter.Parameter'> torch.Size([64, 64, 3, 3]) cuda:0\n",
      "<class 'torch.nn.parameter.Parameter'> torch.Size([64]) cuda:0\n",
      "<class 'torch.nn.parameter.Parameter'> torch.Size([64]) cuda:0\n",
      "<class 'torch.nn.parameter.Parameter'> torch.Size([64]) cuda:0\n",
      "<class 'torch.nn.parameter.Parameter'> torch.Size([64, 64, 3, 3]) cuda:0\n",
      "<class 'torch.nn.parameter.Parameter'> torch.Size([64]) cuda:0\n",
      "<class 'torch.nn.parameter.Parameter'> torch.Size([64]) cuda:0\n",
      "<class 'torch.nn.parameter.Parameter'> torch.Size([64]) cuda:0\n",
      "<class 'torch.nn.parameter.Parameter'> torch.Size([64, 64, 3, 3]) cuda:0\n",
      "<class 'torch.nn.parameter.Parameter'> torch.Size([64]) cuda:0\n",
      "<class 'torch.nn.parameter.Parameter'> torch.Size([64]) cuda:0\n",
      "<class 'torch.nn.parameter.Parameter'> torch.Size([64]) cuda:0\n",
      "<class 'torch.nn.parameter.Parameter'> torch.Size([64, 64, 3, 3]) cuda:0\n",
      "<class 'torch.nn.parameter.Parameter'> torch.Size([64]) cuda:0\n",
      "<class 'torch.nn.parameter.Parameter'> torch.Size([64]) cuda:0\n",
      "<class 'torch.nn.parameter.Parameter'> torch.Size([64]) cuda:0\n",
      "<class 'torch.nn.parameter.Parameter'> torch.Size([64, 64, 3, 3]) cuda:0\n",
      "<class 'torch.nn.parameter.Parameter'> torch.Size([64]) cuda:0\n",
      "<class 'torch.nn.parameter.Parameter'> torch.Size([64]) cuda:0\n",
      "<class 'torch.nn.parameter.Parameter'> torch.Size([64]) cuda:0\n",
      "<class 'torch.nn.parameter.Parameter'> torch.Size([64, 64, 3, 3]) cuda:0\n",
      "<class 'torch.nn.parameter.Parameter'> torch.Size([64]) cuda:0\n",
      "<class 'torch.nn.parameter.Parameter'> torch.Size([64]) cuda:0\n",
      "<class 'torch.nn.parameter.Parameter'> torch.Size([64]) cuda:0\n",
      "<class 'torch.nn.parameter.Parameter'> torch.Size([64, 64, 3, 3]) cuda:0\n",
      "<class 'torch.nn.parameter.Parameter'> torch.Size([64]) cuda:0\n",
      "<class 'torch.nn.parameter.Parameter'> torch.Size([64]) cuda:0\n",
      "<class 'torch.nn.parameter.Parameter'> torch.Size([64]) cuda:0\n",
      "<class 'torch.nn.parameter.Parameter'> torch.Size([64, 64, 3, 3]) cuda:0\n",
      "<class 'torch.nn.parameter.Parameter'> torch.Size([64]) cuda:0\n",
      "<class 'torch.nn.parameter.Parameter'> torch.Size([64]) cuda:0\n",
      "<class 'torch.nn.parameter.Parameter'> torch.Size([64]) cuda:0\n",
      "<class 'torch.nn.parameter.Parameter'> torch.Size([64, 64, 3, 3]) cuda:0\n",
      "<class 'torch.nn.parameter.Parameter'> torch.Size([64]) cuda:0\n",
      "<class 'torch.nn.parameter.Parameter'> torch.Size([64]) cuda:0\n",
      "<class 'torch.nn.parameter.Parameter'> torch.Size([64]) cuda:0\n",
      "<class 'torch.nn.parameter.Parameter'> torch.Size([64, 64, 3, 3]) cuda:0\n",
      "<class 'torch.nn.parameter.Parameter'> torch.Size([64]) cuda:0\n",
      "<class 'torch.nn.parameter.Parameter'> torch.Size([64]) cuda:0\n",
      "<class 'torch.nn.parameter.Parameter'> torch.Size([64]) cuda:0\n",
      "<class 'torch.nn.parameter.Parameter'> torch.Size([64, 64, 3, 3]) cuda:0\n",
      "<class 'torch.nn.parameter.Parameter'> torch.Size([64]) cuda:0\n",
      "<class 'torch.nn.parameter.Parameter'> torch.Size([64]) cuda:0\n",
      "<class 'torch.nn.parameter.Parameter'> torch.Size([64]) cuda:0\n",
      "<class 'torch.nn.parameter.Parameter'> torch.Size([1024, 4096]) cuda:0\n",
      "<class 'torch.nn.parameter.Parameter'> torch.Size([1024]) cuda:0\n",
      "<class 'torch.nn.parameter.Parameter'> torch.Size([1024, 1024]) cuda:0\n",
      "<class 'torch.nn.parameter.Parameter'> torch.Size([1024]) cuda:0\n",
      "<class 'torch.nn.parameter.Parameter'> torch.Size([128, 1024]) cuda:0\n",
      "<class 'torch.nn.parameter.Parameter'> torch.Size([128]) cuda:0\n",
      "<class 'torch.nn.parameter.Parameter'> torch.Size([64, 14, 3, 3]) cuda:0\n",
      "<class 'torch.nn.parameter.Parameter'> torch.Size([64]) cuda:0\n",
      "<class 'torch.nn.parameter.Parameter'> torch.Size([64]) cuda:0\n",
      "<class 'torch.nn.parameter.Parameter'> torch.Size([64]) cuda:0\n",
      "<class 'torch.nn.parameter.Parameter'> torch.Size([64, 64, 3, 3]) cuda:0\n",
      "<class 'torch.nn.parameter.Parameter'> torch.Size([64]) cuda:0\n",
      "<class 'torch.nn.parameter.Parameter'> torch.Size([64]) cuda:0\n",
      "<class 'torch.nn.parameter.Parameter'> torch.Size([64]) cuda:0\n",
      "<class 'torch.nn.parameter.Parameter'> torch.Size([64, 64, 3, 3]) cuda:0\n",
      "<class 'torch.nn.parameter.Parameter'> torch.Size([64]) cuda:0\n",
      "<class 'torch.nn.parameter.Parameter'> torch.Size([64]) cuda:0\n",
      "<class 'torch.nn.parameter.Parameter'> torch.Size([64]) cuda:0\n",
      "<class 'torch.nn.parameter.Parameter'> torch.Size([64, 64, 3, 3]) cuda:0\n",
      "<class 'torch.nn.parameter.Parameter'> torch.Size([64]) cuda:0\n",
      "<class 'torch.nn.parameter.Parameter'> torch.Size([64]) cuda:0\n",
      "<class 'torch.nn.parameter.Parameter'> torch.Size([64]) cuda:0\n",
      "<class 'torch.nn.parameter.Parameter'> torch.Size([64, 64, 3, 3]) cuda:0\n",
      "<class 'torch.nn.parameter.Parameter'> torch.Size([64]) cuda:0\n",
      "<class 'torch.nn.parameter.Parameter'> torch.Size([64]) cuda:0\n",
      "<class 'torch.nn.parameter.Parameter'> torch.Size([64]) cuda:0\n",
      "<class 'torch.nn.parameter.Parameter'> torch.Size([64, 64, 3, 3]) cuda:0\n",
      "<class 'torch.nn.parameter.Parameter'> torch.Size([64]) cuda:0\n",
      "<class 'torch.nn.parameter.Parameter'> torch.Size([64]) cuda:0\n",
      "<class 'torch.nn.parameter.Parameter'> torch.Size([64]) cuda:0\n",
      "<class 'torch.nn.parameter.Parameter'> torch.Size([64, 64, 3, 3]) cuda:0\n",
      "<class 'torch.nn.parameter.Parameter'> torch.Size([64]) cuda:0\n",
      "<class 'torch.nn.parameter.Parameter'> torch.Size([64]) cuda:0\n",
      "<class 'torch.nn.parameter.Parameter'> torch.Size([64]) cuda:0\n",
      "<class 'torch.nn.parameter.Parameter'> torch.Size([64, 64, 3, 3]) cuda:0\n",
      "<class 'torch.nn.parameter.Parameter'> torch.Size([64]) cuda:0\n",
      "<class 'torch.nn.parameter.Parameter'> torch.Size([64]) cuda:0\n",
      "<class 'torch.nn.parameter.Parameter'> torch.Size([64]) cuda:0\n",
      "<class 'torch.nn.parameter.Parameter'> torch.Size([64, 64, 3, 3]) cuda:0\n",
      "<class 'torch.nn.parameter.Parameter'> torch.Size([64]) cuda:0\n",
      "<class 'torch.nn.parameter.Parameter'> torch.Size([64]) cuda:0\n",
      "<class 'torch.nn.parameter.Parameter'> torch.Size([64]) cuda:0\n",
      "<class 'torch.nn.parameter.Parameter'> torch.Size([64, 64, 3, 3]) cuda:0\n",
      "<class 'torch.nn.parameter.Parameter'> torch.Size([64]) cuda:0\n",
      "<class 'torch.nn.parameter.Parameter'> torch.Size([64]) cuda:0\n",
      "<class 'torch.nn.parameter.Parameter'> torch.Size([64]) cuda:0\n",
      "<class 'torch.nn.parameter.Parameter'> torch.Size([64, 64, 3, 3]) cuda:0\n",
      "<class 'torch.nn.parameter.Parameter'> torch.Size([64]) cuda:0\n",
      "<class 'torch.nn.parameter.Parameter'> torch.Size([64]) cuda:0\n",
      "<class 'torch.nn.parameter.Parameter'> torch.Size([64]) cuda:0\n",
      "<class 'torch.nn.parameter.Parameter'> torch.Size([64, 64, 3, 3]) cuda:0\n",
      "<class 'torch.nn.parameter.Parameter'> torch.Size([64]) cuda:0\n",
      "<class 'torch.nn.parameter.Parameter'> torch.Size([64]) cuda:0\n",
      "<class 'torch.nn.parameter.Parameter'> torch.Size([64]) cuda:0\n",
      "<class 'torch.nn.parameter.Parameter'> torch.Size([2048, 2048]) cuda:0\n",
      "<class 'torch.nn.parameter.Parameter'> torch.Size([2048]) cuda:0\n",
      "<class 'torch.nn.parameter.Parameter'> torch.Size([2048, 2048]) cuda:0\n",
      "<class 'torch.nn.parameter.Parameter'> torch.Size([2048]) cuda:0\n",
      "<class 'torch.nn.parameter.Parameter'> torch.Size([1, 2048]) cuda:0\n",
      "<class 'torch.nn.parameter.Parameter'> torch.Size([1]) cuda:0\n",
      "<class 'torch.nn.parameter.Parameter'> torch.Size([1024, 4096]) cuda:0\n",
      "<class 'torch.nn.parameter.Parameter'> torch.Size([1024]) cuda:0\n",
      "<class 'torch.nn.parameter.Parameter'> torch.Size([1024, 128]) cuda:0\n",
      "<class 'torch.nn.parameter.Parameter'> torch.Size([1024]) cuda:0\n",
      "<class 'torch.Tensor'> torch.Size([]) cuda:0\n",
      "<class 'torch.Tensor'> torch.Size([64, 14, 3, 3]) cuda:0\n",
      "<class 'torch.Tensor'> torch.Size([64, 14, 3, 3]) cuda:0\n",
      "<class 'torch.Tensor'> torch.Size([]) cuda:0\n",
      "<class 'torch.Tensor'> torch.Size([64]) cuda:0\n",
      "<class 'torch.Tensor'> torch.Size([64]) cuda:0\n",
      "<class 'torch.Tensor'> torch.Size([]) cuda:0\n",
      "<class 'torch.Tensor'> torch.Size([64, 64, 3, 3]) cuda:0\n",
      "<class 'torch.Tensor'> torch.Size([64, 64, 3, 3]) cuda:0\n",
      "<class 'torch.Tensor'> torch.Size([]) cuda:0\n",
      "<class 'torch.Tensor'> torch.Size([64]) cuda:0\n",
      "<class 'torch.Tensor'> torch.Size([64]) cuda:0\n",
      "<class 'torch.Tensor'> torch.Size([]) cuda:0\n",
      "<class 'torch.Tensor'> torch.Size([64]) cuda:0\n",
      "<class 'torch.Tensor'> torch.Size([64]) cuda:0\n",
      "<class 'torch.Tensor'> torch.Size([]) cuda:0\n",
      "<class 'torch.Tensor'> torch.Size([64]) cuda:0\n",
      "<class 'torch.Tensor'> torch.Size([64]) cuda:0\n",
      "<class 'torch.Tensor'> torch.Size([]) cuda:0\n",
      "<class 'torch.Tensor'> torch.Size([64, 64, 3, 3]) cuda:0\n",
      "<class 'torch.Tensor'> torch.Size([64, 64, 3, 3]) cuda:0\n",
      "<class 'torch.Tensor'> torch.Size([]) cuda:0\n",
      "<class 'torch.Tensor'> torch.Size([64]) cuda:0\n",
      "<class 'torch.Tensor'> torch.Size([64]) cuda:0\n",
      "<class 'torch.Tensor'> torch.Size([]) cuda:0\n",
      "<class 'torch.Tensor'> torch.Size([64]) cuda:0\n",
      "<class 'torch.Tensor'> torch.Size([64]) cuda:0\n",
      "<class 'torch.Tensor'> torch.Size([]) cuda:0\n",
      "<class 'torch.Tensor'> torch.Size([64]) cuda:0\n",
      "<class 'torch.Tensor'> torch.Size([64]) cuda:0\n",
      "<class 'torch.Tensor'> torch.Size([]) cuda:0\n",
      "<class 'torch.Tensor'> torch.Size([64, 64, 3, 3]) cuda:0\n",
      "<class 'torch.Tensor'> torch.Size([64, 64, 3, 3]) cuda:0\n",
      "<class 'torch.Tensor'> torch.Size([]) cuda:0\n",
      "<class 'torch.Tensor'> torch.Size([64]) cuda:0\n",
      "<class 'torch.Tensor'> torch.Size([64]) cuda:0\n",
      "<class 'torch.Tensor'> torch.Size([]) cuda:0\n",
      "<class 'torch.Tensor'> torch.Size([64]) cuda:0\n",
      "<class 'torch.Tensor'> torch.Size([64]) cuda:0\n",
      "<class 'torch.Tensor'> torch.Size([]) cuda:0\n",
      "<class 'torch.Tensor'> torch.Size([64]) cuda:0\n",
      "<class 'torch.Tensor'> torch.Size([64]) cuda:0\n",
      "<class 'torch.Tensor'> torch.Size([]) cuda:0\n",
      "<class 'torch.Tensor'> torch.Size([64, 64, 3, 3]) cuda:0\n",
      "<class 'torch.Tensor'> torch.Size([64, 64, 3, 3]) cuda:0\n",
      "<class 'torch.Tensor'> torch.Size([]) cuda:0\n",
      "<class 'torch.Tensor'> torch.Size([64]) cuda:0\n",
      "<class 'torch.Tensor'> torch.Size([64]) cuda:0\n",
      "<class 'torch.Tensor'> torch.Size([]) cuda:0\n",
      "<class 'torch.Tensor'> torch.Size([64]) cuda:0\n",
      "<class 'torch.Tensor'> torch.Size([64]) cuda:0\n",
      "<class 'torch.Tensor'> torch.Size([]) cuda:0\n",
      "<class 'torch.Tensor'> torch.Size([64]) cuda:0\n",
      "<class 'torch.Tensor'> torch.Size([64]) cuda:0\n",
      "<class 'torch.Tensor'> torch.Size([]) cuda:0\n",
      "<class 'torch.Tensor'> torch.Size([64, 64, 3, 3]) cuda:0\n",
      "<class 'torch.Tensor'> torch.Size([64, 64, 3, 3]) cuda:0\n",
      "<class 'torch.Tensor'> torch.Size([]) cuda:0\n",
      "<class 'torch.Tensor'> torch.Size([64]) cuda:0\n",
      "<class 'torch.Tensor'> torch.Size([64]) cuda:0\n",
      "<class 'torch.Tensor'> torch.Size([]) cuda:0\n",
      "<class 'torch.Tensor'> torch.Size([64]) cuda:0\n",
      "<class 'torch.Tensor'> torch.Size([64]) cuda:0\n",
      "<class 'torch.Tensor'> torch.Size([]) cuda:0\n",
      "<class 'torch.Tensor'> torch.Size([64]) cuda:0\n",
      "<class 'torch.Tensor'> torch.Size([64]) cuda:0\n",
      "<class 'torch.Tensor'> torch.Size([]) cuda:0\n",
      "<class 'torch.Tensor'> torch.Size([64, 64, 3, 3]) cuda:0\n",
      "<class 'torch.Tensor'> torch.Size([64, 64, 3, 3]) cuda:0\n",
      "<class 'torch.Tensor'> torch.Size([]) cuda:0\n",
      "<class 'torch.Tensor'> torch.Size([64]) cuda:0\n",
      "<class 'torch.Tensor'> torch.Size([64]) cuda:0\n",
      "<class 'torch.Tensor'> torch.Size([]) cuda:0\n",
      "<class 'torch.Tensor'> torch.Size([64]) cuda:0\n",
      "<class 'torch.Tensor'> torch.Size([64]) cuda:0\n",
      "<class 'torch.Tensor'> torch.Size([]) cuda:0\n",
      "<class 'torch.Tensor'> torch.Size([64]) cuda:0\n",
      "<class 'torch.Tensor'> torch.Size([64]) cuda:0\n",
      "<class 'torch.Tensor'> torch.Size([]) cuda:0\n",
      "<class 'torch.Tensor'> torch.Size([64, 64, 3, 3]) cuda:0\n",
      "<class 'torch.Tensor'> torch.Size([64, 64, 3, 3]) cuda:0\n",
      "<class 'torch.Tensor'> torch.Size([]) cuda:0\n",
      "<class 'torch.Tensor'> torch.Size([64]) cuda:0\n",
      "<class 'torch.Tensor'> torch.Size([64]) cuda:0\n",
      "<class 'torch.Tensor'> torch.Size([]) cuda:0\n",
      "<class 'torch.Tensor'> torch.Size([64]) cuda:0\n",
      "<class 'torch.Tensor'> torch.Size([64]) cuda:0\n",
      "<class 'torch.Tensor'> torch.Size([]) cuda:0\n",
      "<class 'torch.Tensor'> torch.Size([64]) cuda:0\n",
      "<class 'torch.Tensor'> torch.Size([64]) cuda:0\n",
      "<class 'torch.Tensor'> torch.Size([]) cuda:0\n",
      "<class 'torch.Tensor'> torch.Size([64, 64, 3, 3]) cuda:0\n",
      "<class 'torch.Tensor'> torch.Size([64, 64, 3, 3]) cuda:0\n",
      "<class 'torch.Tensor'> torch.Size([]) cuda:0\n",
      "<class 'torch.Tensor'> torch.Size([64]) cuda:0\n",
      "<class 'torch.Tensor'> torch.Size([64]) cuda:0\n",
      "<class 'torch.Tensor'> torch.Size([]) cuda:0\n",
      "<class 'torch.Tensor'> torch.Size([64]) cuda:0\n",
      "<class 'torch.Tensor'> torch.Size([64]) cuda:0\n",
      "<class 'torch.Tensor'> torch.Size([]) cuda:0\n",
      "<class 'torch.Tensor'> torch.Size([64]) cuda:0\n",
      "<class 'torch.Tensor'> torch.Size([64]) cuda:0\n",
      "<class 'torch.Tensor'> torch.Size([]) cuda:0\n",
      "<class 'torch.Tensor'> torch.Size([64, 64, 3, 3]) cuda:0\n",
      "<class 'torch.Tensor'> torch.Size([64, 64, 3, 3]) cuda:0\n",
      "<class 'torch.Tensor'> torch.Size([]) cuda:0\n",
      "<class 'torch.Tensor'> torch.Size([64]) cuda:0\n",
      "<class 'torch.Tensor'> torch.Size([64]) cuda:0\n",
      "<class 'torch.Tensor'> torch.Size([]) cuda:0\n",
      "<class 'torch.Tensor'> torch.Size([64]) cuda:0\n",
      "<class 'torch.Tensor'> torch.Size([64]) cuda:0\n",
      "<class 'torch.Tensor'> torch.Size([]) cuda:0\n",
      "<class 'torch.Tensor'> torch.Size([64]) cuda:0\n",
      "<class 'torch.Tensor'> torch.Size([64]) cuda:0\n",
      "<class 'torch.Tensor'> torch.Size([]) cuda:0\n",
      "<class 'torch.Tensor'> torch.Size([64, 64, 3, 3]) cuda:0\n",
      "<class 'torch.Tensor'> torch.Size([64, 64, 3, 3]) cuda:0\n",
      "<class 'torch.Tensor'> torch.Size([]) cuda:0\n",
      "<class 'torch.Tensor'> torch.Size([64]) cuda:0\n",
      "<class 'torch.Tensor'> torch.Size([64]) cuda:0\n",
      "<class 'torch.Tensor'> torch.Size([]) cuda:0\n",
      "<class 'torch.Tensor'> torch.Size([64]) cuda:0\n",
      "<class 'torch.Tensor'> torch.Size([64]) cuda:0\n",
      "<class 'torch.Tensor'> torch.Size([]) cuda:0\n",
      "<class 'torch.Tensor'> torch.Size([64]) cuda:0\n",
      "<class 'torch.Tensor'> torch.Size([64]) cuda:0\n",
      "<class 'torch.Tensor'> torch.Size([]) cuda:0\n",
      "<class 'torch.Tensor'> torch.Size([64, 64, 3, 3]) cuda:0\n",
      "<class 'torch.Tensor'> torch.Size([64, 64, 3, 3]) cuda:0\n",
      "<class 'torch.Tensor'> torch.Size([]) cuda:0\n",
      "<class 'torch.Tensor'> torch.Size([64]) cuda:0\n",
      "<class 'torch.Tensor'> torch.Size([64]) cuda:0\n",
      "<class 'torch.Tensor'> torch.Size([]) cuda:0\n",
      "<class 'torch.Tensor'> torch.Size([64]) cuda:0\n",
      "<class 'torch.Tensor'> torch.Size([64]) cuda:0\n",
      "<class 'torch.Tensor'> torch.Size([]) cuda:0\n",
      "<class 'torch.Tensor'> torch.Size([64]) cuda:0\n",
      "<class 'torch.Tensor'> torch.Size([64]) cuda:0\n",
      "<class 'torch.Tensor'> torch.Size([]) cuda:0\n",
      "<class 'torch.Tensor'> torch.Size([64, 64, 3, 3]) cuda:0\n",
      "<class 'torch.Tensor'> torch.Size([64, 64, 3, 3]) cuda:0\n",
      "<class 'torch.Tensor'> torch.Size([]) cuda:0\n",
      "<class 'torch.Tensor'> torch.Size([64]) cuda:0\n",
      "<class 'torch.Tensor'> torch.Size([64]) cuda:0\n",
      "<class 'torch.Tensor'> torch.Size([]) cuda:0\n",
      "<class 'torch.Tensor'> torch.Size([64]) cuda:0\n",
      "<class 'torch.Tensor'> torch.Size([64]) cuda:0\n",
      "<class 'torch.Tensor'> torch.Size([]) cuda:0\n",
      "<class 'torch.Tensor'> torch.Size([64]) cuda:0\n",
      "<class 'torch.Tensor'> torch.Size([64]) cuda:0\n",
      "<class 'torch.Tensor'> torch.Size([]) cuda:0\n",
      "<class 'torch.Tensor'> torch.Size([1024, 4096]) cuda:0\n",
      "<class 'torch.Tensor'> torch.Size([1024, 4096]) cuda:0\n",
      "<class 'torch.Tensor'> torch.Size([]) cuda:0\n",
      "<class 'torch.Tensor'> torch.Size([1024]) cuda:0\n",
      "<class 'torch.Tensor'> torch.Size([1024]) cuda:0\n",
      "<class 'torch.Tensor'> torch.Size([]) cuda:0\n",
      "<class 'torch.Tensor'> torch.Size([1024, 1024]) cuda:0\n",
      "<class 'torch.Tensor'> torch.Size([1024, 1024]) cuda:0\n",
      "<class 'torch.Tensor'> torch.Size([]) cuda:0\n",
      "<class 'torch.Tensor'> torch.Size([1024]) cuda:0\n",
      "<class 'torch.Tensor'> torch.Size([1024]) cuda:0\n",
      "<class 'torch.Tensor'> torch.Size([]) cuda:0\n",
      "<class 'torch.Tensor'> torch.Size([128, 1024]) cuda:0\n",
      "<class 'torch.Tensor'> torch.Size([128, 1024]) cuda:0\n",
      "<class 'torch.Tensor'> torch.Size([]) cuda:0\n",
      "<class 'torch.Tensor'> torch.Size([128]) cuda:0\n",
      "<class 'torch.Tensor'> torch.Size([128]) cuda:0\n",
      "<class 'torch.Tensor'> torch.Size([]) cuda:0\n",
      "<class 'torch.Tensor'> torch.Size([64, 14, 3, 3]) cuda:0\n",
      "<class 'torch.Tensor'> torch.Size([64, 14, 3, 3]) cuda:0\n",
      "<class 'torch.Tensor'> torch.Size([]) cuda:0\n",
      "<class 'torch.Tensor'> torch.Size([64]) cuda:0\n",
      "<class 'torch.Tensor'> torch.Size([64]) cuda:0\n",
      "<class 'torch.Tensor'> torch.Size([]) cuda:0\n",
      "<class 'torch.Tensor'> torch.Size([64, 64, 3, 3]) cuda:0\n",
      "<class 'torch.Tensor'> torch.Size([64, 64, 3, 3]) cuda:0\n",
      "<class 'torch.Tensor'> torch.Size([]) cuda:0\n",
      "<class 'torch.Tensor'> torch.Size([64]) cuda:0\n",
      "<class 'torch.Tensor'> torch.Size([64]) cuda:0\n",
      "<class 'torch.Tensor'> torch.Size([]) cuda:0\n",
      "<class 'torch.Tensor'> torch.Size([64]) cuda:0\n",
      "<class 'torch.Tensor'> torch.Size([64]) cuda:0\n",
      "<class 'torch.Tensor'> torch.Size([]) cuda:0\n",
      "<class 'torch.Tensor'> torch.Size([64]) cuda:0\n",
      "<class 'torch.Tensor'> torch.Size([64]) cuda:0\n",
      "<class 'torch.Tensor'> torch.Size([]) cuda:0\n",
      "<class 'torch.Tensor'> torch.Size([64, 64, 3, 3]) cuda:0\n",
      "<class 'torch.Tensor'> torch.Size([64, 64, 3, 3]) cuda:0\n",
      "<class 'torch.Tensor'> torch.Size([]) cuda:0\n",
      "<class 'torch.Tensor'> torch.Size([64]) cuda:0\n",
      "<class 'torch.Tensor'> torch.Size([64]) cuda:0\n",
      "<class 'torch.Tensor'> torch.Size([]) cuda:0\n",
      "<class 'torch.Tensor'> torch.Size([64]) cuda:0\n",
      "<class 'torch.Tensor'> torch.Size([64]) cuda:0\n",
      "<class 'torch.Tensor'> torch.Size([]) cuda:0\n",
      "<class 'torch.Tensor'> torch.Size([64]) cuda:0\n",
      "<class 'torch.Tensor'> torch.Size([64]) cuda:0\n",
      "<class 'torch.Tensor'> torch.Size([]) cuda:0\n",
      "<class 'torch.Tensor'> torch.Size([64, 64, 3, 3]) cuda:0\n",
      "<class 'torch.Tensor'> torch.Size([64, 64, 3, 3]) cuda:0\n",
      "<class 'torch.Tensor'> torch.Size([]) cuda:0\n",
      "<class 'torch.Tensor'> torch.Size([64]) cuda:0\n",
      "<class 'torch.Tensor'> torch.Size([64]) cuda:0\n",
      "<class 'torch.Tensor'> torch.Size([]) cuda:0\n",
      "<class 'torch.Tensor'> torch.Size([64]) cuda:0\n",
      "<class 'torch.Tensor'> torch.Size([64]) cuda:0\n",
      "<class 'torch.Tensor'> torch.Size([]) cuda:0\n",
      "<class 'torch.Tensor'> torch.Size([64]) cuda:0\n",
      "<class 'torch.Tensor'> torch.Size([64]) cuda:0\n",
      "<class 'torch.Tensor'> torch.Size([]) cuda:0\n",
      "<class 'torch.Tensor'> torch.Size([64, 64, 3, 3]) cuda:0\n",
      "<class 'torch.Tensor'> torch.Size([64, 64, 3, 3]) cuda:0\n",
      "<class 'torch.Tensor'> torch.Size([]) cuda:0\n",
      "<class 'torch.Tensor'> torch.Size([64]) cuda:0\n",
      "<class 'torch.Tensor'> torch.Size([64]) cuda:0\n",
      "<class 'torch.Tensor'> torch.Size([]) cuda:0\n",
      "<class 'torch.Tensor'> torch.Size([64]) cuda:0\n",
      "<class 'torch.Tensor'> torch.Size([64]) cuda:0\n",
      "<class 'torch.Tensor'> torch.Size([]) cuda:0\n",
      "<class 'torch.Tensor'> torch.Size([64]) cuda:0\n",
      "<class 'torch.Tensor'> torch.Size([64]) cuda:0\n",
      "<class 'torch.Tensor'> torch.Size([]) cuda:0\n",
      "<class 'torch.Tensor'> torch.Size([64, 64, 3, 3]) cuda:0\n",
      "<class 'torch.Tensor'> torch.Size([64, 64, 3, 3]) cuda:0\n",
      "<class 'torch.Tensor'> torch.Size([]) cuda:0\n",
      "<class 'torch.Tensor'> torch.Size([64]) cuda:0\n",
      "<class 'torch.Tensor'> torch.Size([64]) cuda:0\n",
      "<class 'torch.Tensor'> torch.Size([]) cuda:0\n",
      "<class 'torch.Tensor'> torch.Size([64]) cuda:0\n",
      "<class 'torch.Tensor'> torch.Size([64]) cuda:0\n",
      "<class 'torch.Tensor'> torch.Size([]) cuda:0\n",
      "<class 'torch.Tensor'> torch.Size([64]) cuda:0\n",
      "<class 'torch.Tensor'> torch.Size([64]) cuda:0\n",
      "<class 'torch.Tensor'> torch.Size([]) cuda:0\n",
      "<class 'torch.Tensor'> torch.Size([64, 64, 3, 3]) cuda:0\n",
      "<class 'torch.Tensor'> torch.Size([64, 64, 3, 3]) cuda:0\n",
      "<class 'torch.Tensor'> torch.Size([]) cuda:0\n",
      "<class 'torch.Tensor'> torch.Size([64]) cuda:0\n",
      "<class 'torch.Tensor'> torch.Size([64]) cuda:0\n",
      "<class 'torch.Tensor'> torch.Size([]) cuda:0\n",
      "<class 'torch.Tensor'> torch.Size([64]) cuda:0\n",
      "<class 'torch.Tensor'> torch.Size([64]) cuda:0\n",
      "<class 'torch.Tensor'> torch.Size([]) cuda:0\n",
      "<class 'torch.Tensor'> torch.Size([64]) cuda:0\n",
      "<class 'torch.Tensor'> torch.Size([64]) cuda:0\n",
      "<class 'torch.Tensor'> torch.Size([]) cuda:0\n",
      "<class 'torch.Tensor'> torch.Size([64, 64, 3, 3]) cuda:0\n",
      "<class 'torch.Tensor'> torch.Size([64, 64, 3, 3]) cuda:0\n",
      "<class 'torch.Tensor'> torch.Size([]) cuda:0\n",
      "<class 'torch.Tensor'> torch.Size([64]) cuda:0\n",
      "<class 'torch.Tensor'> torch.Size([64]) cuda:0\n",
      "<class 'torch.Tensor'> torch.Size([]) cuda:0\n",
      "<class 'torch.Tensor'> torch.Size([64]) cuda:0\n",
      "<class 'torch.Tensor'> torch.Size([64]) cuda:0\n",
      "<class 'torch.Tensor'> torch.Size([]) cuda:0\n",
      "<class 'torch.Tensor'> torch.Size([64]) cuda:0\n",
      "<class 'torch.Tensor'> torch.Size([64]) cuda:0\n",
      "<class 'torch.Tensor'> torch.Size([]) cuda:0\n",
      "<class 'torch.Tensor'> torch.Size([64, 64, 3, 3]) cuda:0\n",
      "<class 'torch.Tensor'> torch.Size([64, 64, 3, 3]) cuda:0\n",
      "<class 'torch.Tensor'> torch.Size([]) cuda:0\n",
      "<class 'torch.Tensor'> torch.Size([64]) cuda:0\n",
      "<class 'torch.Tensor'> torch.Size([64]) cuda:0\n",
      "<class 'torch.Tensor'> torch.Size([]) cuda:0\n",
      "<class 'torch.Tensor'> torch.Size([64]) cuda:0\n",
      "<class 'torch.Tensor'> torch.Size([64]) cuda:0\n",
      "<class 'torch.Tensor'> torch.Size([]) cuda:0\n",
      "<class 'torch.Tensor'> torch.Size([64]) cuda:0\n",
      "<class 'torch.Tensor'> torch.Size([64]) cuda:0\n",
      "<class 'torch.Tensor'> torch.Size([]) cuda:0\n",
      "<class 'torch.Tensor'> torch.Size([64, 64, 3, 3]) cuda:0\n",
      "<class 'torch.Tensor'> torch.Size([64, 64, 3, 3]) cuda:0\n",
      "<class 'torch.Tensor'> torch.Size([]) cuda:0\n",
      "<class 'torch.Tensor'> torch.Size([64]) cuda:0\n",
      "<class 'torch.Tensor'> torch.Size([64]) cuda:0\n",
      "<class 'torch.Tensor'> torch.Size([]) cuda:0\n",
      "<class 'torch.Tensor'> torch.Size([64]) cuda:0\n",
      "<class 'torch.Tensor'> torch.Size([64]) cuda:0\n",
      "<class 'torch.Tensor'> torch.Size([]) cuda:0\n",
      "<class 'torch.Tensor'> torch.Size([64]) cuda:0\n",
      "<class 'torch.Tensor'> torch.Size([64]) cuda:0\n",
      "<class 'torch.Tensor'> torch.Size([]) cuda:0\n",
      "<class 'torch.Tensor'> torch.Size([64, 64, 3, 3]) cuda:0\n",
      "<class 'torch.Tensor'> torch.Size([64, 64, 3, 3]) cuda:0\n",
      "<class 'torch.Tensor'> torch.Size([]) cuda:0\n",
      "<class 'torch.Tensor'> torch.Size([64]) cuda:0\n",
      "<class 'torch.Tensor'> torch.Size([64]) cuda:0\n",
      "<class 'torch.Tensor'> torch.Size([]) cuda:0\n",
      "<class 'torch.Tensor'> torch.Size([64]) cuda:0\n",
      "<class 'torch.Tensor'> torch.Size([64]) cuda:0\n",
      "<class 'torch.Tensor'> torch.Size([]) cuda:0\n",
      "<class 'torch.Tensor'> torch.Size([64]) cuda:0\n",
      "<class 'torch.Tensor'> torch.Size([64]) cuda:0\n",
      "<class 'torch.Tensor'> torch.Size([]) cuda:0\n",
      "<class 'torch.Tensor'> torch.Size([64, 64, 3, 3]) cuda:0\n",
      "<class 'torch.Tensor'> torch.Size([64, 64, 3, 3]) cuda:0\n",
      "<class 'torch.Tensor'> torch.Size([]) cuda:0\n",
      "<class 'torch.Tensor'> torch.Size([64]) cuda:0\n",
      "<class 'torch.Tensor'> torch.Size([64]) cuda:0\n",
      "<class 'torch.Tensor'> torch.Size([]) cuda:0\n",
      "<class 'torch.Tensor'> torch.Size([64]) cuda:0\n",
      "<class 'torch.Tensor'> torch.Size([64]) cuda:0\n",
      "<class 'torch.Tensor'> torch.Size([]) cuda:0\n",
      "<class 'torch.Tensor'> torch.Size([64]) cuda:0\n",
      "<class 'torch.Tensor'> torch.Size([64]) cuda:0\n",
      "<class 'torch.Tensor'> torch.Size([]) cuda:0\n",
      "<class 'torch.Tensor'> torch.Size([64, 64, 3, 3]) cuda:0\n",
      "<class 'torch.Tensor'> torch.Size([64, 64, 3, 3]) cuda:0\n",
      "<class 'torch.Tensor'> torch.Size([]) cuda:0\n",
      "<class 'torch.Tensor'> torch.Size([64]) cuda:0\n",
      "<class 'torch.Tensor'> torch.Size([64]) cuda:0\n",
      "<class 'torch.Tensor'> torch.Size([]) cuda:0\n",
      "<class 'torch.Tensor'> torch.Size([64]) cuda:0\n",
      "<class 'torch.Tensor'> torch.Size([64]) cuda:0\n",
      "<class 'torch.Tensor'> torch.Size([]) cuda:0\n",
      "<class 'torch.Tensor'> torch.Size([64]) cuda:0\n",
      "<class 'torch.Tensor'> torch.Size([64]) cuda:0\n",
      "<class 'torch.Tensor'> torch.Size([]) cuda:0\n",
      "<class 'torch.Tensor'> torch.Size([2048, 2048]) cuda:0\n",
      "<class 'torch.Tensor'> torch.Size([2048, 2048]) cuda:0\n",
      "<class 'torch.Tensor'> torch.Size([]) cuda:0\n",
      "<class 'torch.Tensor'> torch.Size([2048]) cuda:0\n",
      "<class 'torch.Tensor'> torch.Size([2048]) cuda:0\n",
      "<class 'torch.Tensor'> torch.Size([]) cuda:0\n",
      "<class 'torch.Tensor'> torch.Size([2048, 2048]) cuda:0\n",
      "<class 'torch.Tensor'> torch.Size([2048, 2048]) cuda:0\n",
      "<class 'torch.Tensor'> torch.Size([]) cuda:0\n",
      "<class 'torch.Tensor'> torch.Size([2048]) cuda:0\n",
      "<class 'torch.Tensor'> torch.Size([2048]) cuda:0\n",
      "<class 'torch.Tensor'> torch.Size([]) cuda:0\n",
      "<class 'torch.Tensor'> torch.Size([1, 2048]) cuda:0\n",
      "<class 'torch.Tensor'> torch.Size([1, 2048]) cuda:0\n",
      "<class 'torch.Tensor'> torch.Size([]) cuda:0\n",
      "<class 'torch.Tensor'> torch.Size([1]) cuda:0\n",
      "<class 'torch.Tensor'> torch.Size([1]) cuda:0\n",
      "<class 'torch.Tensor'> torch.Size([]) cuda:0\n",
      "<class 'torch.Tensor'> torch.Size([1024, 4096]) cuda:0\n",
      "<class 'torch.Tensor'> torch.Size([1024, 4096]) cuda:0\n",
      "<class 'torch.Tensor'> torch.Size([]) cuda:0\n",
      "<class 'torch.Tensor'> torch.Size([1024]) cuda:0\n",
      "<class 'torch.Tensor'> torch.Size([1024]) cuda:0\n",
      "<class 'torch.Tensor'> torch.Size([]) cuda:0\n",
      "<class 'torch.Tensor'> torch.Size([1024, 128]) cuda:0\n",
      "<class 'torch.Tensor'> torch.Size([1024, 128]) cuda:0\n",
      "<class 'torch.Tensor'> torch.Size([]) cuda:0\n",
      "<class 'torch.Tensor'> torch.Size([1024]) cuda:0\n",
      "<class 'torch.Tensor'> torch.Size([1024]) cuda:0\n",
      "<class 'torch.Tensor'> torch.Size([64]) cuda:0\n",
      "<class 'torch.Tensor'> torch.Size([64]) cuda:0\n",
      "<class 'torch.Tensor'> torch.Size([]) cuda:0\n",
      "<class 'torch.Tensor'> torch.Size([64]) cuda:0\n",
      "<class 'torch.Tensor'> torch.Size([64]) cuda:0\n",
      "<class 'torch.Tensor'> torch.Size([]) cuda:0\n",
      "<class 'torch.Tensor'> torch.Size([64]) cuda:0\n",
      "<class 'torch.Tensor'> torch.Size([64]) cuda:0\n",
      "<class 'torch.Tensor'> torch.Size([]) cuda:0\n",
      "<class 'torch.Tensor'> torch.Size([64]) cuda:0\n",
      "<class 'torch.Tensor'> torch.Size([64]) cuda:0\n",
      "<class 'torch.Tensor'> torch.Size([]) cuda:0\n",
      "<class 'torch.Tensor'> torch.Size([64]) cuda:0\n",
      "<class 'torch.Tensor'> torch.Size([64]) cuda:0\n",
      "<class 'torch.Tensor'> torch.Size([]) cuda:0\n",
      "<class 'torch.Tensor'> torch.Size([64]) cuda:0\n",
      "<class 'torch.Tensor'> torch.Size([64]) cuda:0\n",
      "<class 'torch.Tensor'> torch.Size([]) cuda:0\n",
      "<class 'torch.Tensor'> torch.Size([64]) cuda:0\n",
      "<class 'torch.Tensor'> torch.Size([64]) cuda:0\n",
      "<class 'torch.Tensor'> torch.Size([]) cuda:0\n",
      "<class 'torch.Tensor'> torch.Size([64]) cuda:0\n",
      "<class 'torch.Tensor'> torch.Size([64]) cuda:0\n",
      "<class 'torch.Tensor'> torch.Size([]) cuda:0\n",
      "<class 'torch.Tensor'> torch.Size([64]) cuda:0\n",
      "<class 'torch.Tensor'> torch.Size([64]) cuda:0\n",
      "<class 'torch.Tensor'> torch.Size([]) cuda:0\n",
      "<class 'torch.Tensor'> torch.Size([64]) cuda:0\n",
      "<class 'torch.Tensor'> torch.Size([64]) cuda:0\n",
      "<class 'torch.Tensor'> torch.Size([]) cuda:0\n",
      "<class 'torch.Tensor'> torch.Size([64]) cuda:0\n",
      "<class 'torch.Tensor'> torch.Size([64]) cuda:0\n",
      "<class 'torch.Tensor'> torch.Size([]) cuda:0\n",
      "<class 'torch.Tensor'> torch.Size([64]) cuda:0\n",
      "<class 'torch.Tensor'> torch.Size([64]) cuda:0\n",
      "<class 'torch.Tensor'> torch.Size([]) cuda:0\n",
      "<class 'torch.Tensor'> torch.Size([64]) cuda:0\n",
      "<class 'torch.Tensor'> torch.Size([64]) cuda:0\n",
      "<class 'torch.Tensor'> torch.Size([]) cuda:0\n",
      "<class 'torch.Tensor'> torch.Size([64]) cuda:0\n",
      "<class 'torch.Tensor'> torch.Size([64]) cuda:0\n",
      "<class 'torch.Tensor'> torch.Size([]) cuda:0\n",
      "<class 'torch.Tensor'> torch.Size([64]) cuda:0\n",
      "<class 'torch.Tensor'> torch.Size([64]) cuda:0\n",
      "<class 'torch.Tensor'> torch.Size([]) cuda:0\n",
      "<class 'torch.Tensor'> torch.Size([64]) cuda:0\n",
      "<class 'torch.Tensor'> torch.Size([64]) cuda:0\n",
      "<class 'torch.Tensor'> torch.Size([]) cuda:0\n",
      "<class 'torch.Tensor'> torch.Size([64]) cuda:0\n",
      "<class 'torch.Tensor'> torch.Size([64]) cuda:0\n",
      "<class 'torch.Tensor'> torch.Size([]) cuda:0\n",
      "<class 'torch.Tensor'> torch.Size([64]) cuda:0\n",
      "<class 'torch.Tensor'> torch.Size([64]) cuda:0\n",
      "<class 'torch.Tensor'> torch.Size([]) cuda:0\n",
      "<class 'torch.Tensor'> torch.Size([64]) cuda:0\n",
      "<class 'torch.Tensor'> torch.Size([64]) cuda:0\n",
      "<class 'torch.Tensor'> torch.Size([]) cuda:0\n",
      "<class 'torch.Tensor'> torch.Size([64]) cuda:0\n",
      "<class 'torch.Tensor'> torch.Size([64]) cuda:0\n",
      "<class 'torch.Tensor'> torch.Size([]) cuda:0\n",
      "<class 'torch.Tensor'> torch.Size([64]) cuda:0\n",
      "<class 'torch.Tensor'> torch.Size([64]) cuda:0\n",
      "<class 'torch.Tensor'> torch.Size([]) cuda:0\n",
      "<class 'torch.Tensor'> torch.Size([64]) cuda:0\n",
      "<class 'torch.Tensor'> torch.Size([64]) cuda:0\n",
      "<class 'torch.Tensor'> torch.Size([]) cuda:0\n",
      "<class 'torch.Tensor'> torch.Size([64]) cuda:0\n",
      "<class 'torch.Tensor'> torch.Size([64]) cuda:0\n",
      "<class 'torch.Tensor'> torch.Size([]) cuda:0\n",
      "<class 'torch.Tensor'> torch.Size([64]) cuda:0\n",
      "<class 'torch.Tensor'> torch.Size([64]) cuda:0\n",
      "<class 'torch.Tensor'> torch.Size([]) cuda:0\n"
     ]
    }
   ],
   "source": [
    "clear_cuda()"
   ],
   "metadata": {
    "collapsed": false,
    "ExecuteTime": {
     "end_time": "2024-04-04T00:11:45.323417Z",
     "start_time": "2024-04-04T00:11:42.005907Z"
    }
   },
   "id": "e99e721a3307a923",
   "execution_count": 40
  },
  {
   "cell_type": "code",
   "outputs": [],
   "source": [
    "del RSv1"
   ],
   "metadata": {
    "collapsed": false,
    "ExecuteTime": {
     "end_time": "2024-04-04T00:20:43.114596Z",
     "start_time": "2024-04-04T00:20:43.103596Z"
    }
   },
   "id": "4e0029868663dd9c",
   "execution_count": 45
  },
  {
   "cell_type": "code",
   "outputs": [
    {
     "ename": "NameError",
     "evalue": "name 'loader' is not defined",
     "output_type": "error",
     "traceback": [
      "\u001B[1;31m---------------------------------------------------------------------------\u001B[0m",
      "\u001B[1;31mNameError\u001B[0m                                 Traceback (most recent call last)",
      "Input \u001B[1;32mIn [39]\u001B[0m, in \u001B[0;36m<cell line: 1>\u001B[1;34m()\u001B[0m\n\u001B[1;32m----> 1\u001B[0m \u001B[38;5;28;01mdel\u001B[39;00m loader\n",
      "\u001B[1;31mNameError\u001B[0m: name 'loader' is not defined"
     ]
    }
   ],
   "source": [
    "del loader"
   ],
   "metadata": {
    "collapsed": false,
    "ExecuteTime": {
     "end_time": "2024-04-04T00:11:40.217791Z",
     "start_time": "2024-04-04T00:11:40.205789Z"
    }
   },
   "id": "620dd96bb49cfb95",
   "execution_count": 39
  },
  {
   "cell_type": "code",
   "outputs": [
    {
     "name": "stdout",
     "output_type": "stream",
     "text": [
      "cuda\n"
     ]
    }
   ],
   "source": [
    "RSv1 = GAN_1(g_conv_depth=6, g_hidden_size=1024, g_hidden_depth=3, \n",
    "             d_conv_depth=6, d_hidden_size=2048, d_hidden_depth=2,\n",
    "             lr=0.001).to(device)"
   ],
   "metadata": {
    "ExecuteTime": {
     "end_time": "2024-04-04T00:20:46.255434Z",
     "start_time": "2024-04-04T00:20:46.227432Z"
    }
   },
   "id": "6b0cc09a",
   "execution_count": 46
  },
  {
   "cell_type": "code",
   "outputs": [
    {
     "name": "stderr",
     "output_type": "stream",
     "text": [
      "100%|██████████| 2300000/2300000 [01:58<00:00, 19377.67it/s]\n",
      "100%|██████████| 5000/5000 [00:00<00:00, 18257.22it/s]\n"
     ]
    }
   ],
   "source": [
    "loader, val_data = RSv1.create_dataloader(boards, meta, moves, B = 512, N=2_300_000, N_val=5_000)\n",
    "G = len(loader)"
   ],
   "metadata": {
    "collapsed": false,
    "ExecuteTime": {
     "end_time": "2024-04-04T00:15:00.578138Z",
     "start_time": "2024-04-04T00:11:55.663777Z"
    }
   },
   "id": "813dd34e6b3493d9",
   "execution_count": 42
  },
  {
   "cell_type": "code",
   "outputs": [],
   "source": [
    "del RSv1.discriminator\n",
    "\n",
    "RSv1.discriminator = discriminator_1(conv_depth=4, hidden_size=512, hidden_depth=3)\n",
    "RSv1.configure_optimizers(0.001)"
   ],
   "metadata": {
    "collapsed": false,
    "ExecuteTime": {
     "end_time": "2024-04-02T04:39:55.040593Z",
     "start_time": "2024-04-02T04:39:55.018509Z"
    }
   },
   "id": "ae05e0141e2312f6",
   "execution_count": 80
  },
  {
   "cell_type": "code",
   "outputs": [],
   "source": [
    "del RSv1.generator\n",
    "\n",
    "RSv1.generator = generator_1(conv_depth=6, hidden_size=1024, hidden_depth=2)\n",
    "RSv1.configure_optimizers(0.001)"
   ],
   "metadata": {
    "collapsed": false,
    "ExecuteTime": {
     "end_time": "2024-04-02T04:53:58.041573Z",
     "start_time": "2024-04-02T04:53:58.017654Z"
    }
   },
   "id": "4422e84a0c20287d",
   "execution_count": 84
  },
  {
   "cell_type": "code",
   "outputs": [],
   "source": [
    "train_discriminator = False\n",
    "train_all = True"
   ],
   "metadata": {
    "collapsed": false,
    "ExecuteTime": {
     "end_time": "2024-04-03T23:42:47.550208Z",
     "start_time": "2024-04-03T23:42:47.535202Z"
    }
   },
   "id": "2eb6651643a9eb0b",
   "execution_count": 23
  },
  {
   "cell_type": "code",
   "outputs": [
    {
     "name": "stderr",
     "output_type": "stream",
     "text": [
      "100%|██████████| 4493/4493 [04:03<00:00, 18.43it/s]\n"
     ]
    },
    {
     "name": "stdout",
     "output_type": "stream",
     "text": [
      "Epoch 1 with g_loss: 0.0 and d_loss: 19.3878704660583\n",
      "Epoch: 1, g_acc=0.0, d_acc_f=1.0, d_acc_r=1.0\n",
      "d_dist_f=0.00020007889717817305, d_dist_r=0.00016678428277373315\n"
     ]
    },
    {
     "name": "stderr",
     "output_type": "stream",
     "text": [
      " 13%|█▎        | 562/4493 [00:25<03:00, 21.83it/s]\n"
     ]
    },
    {
     "name": "stdout",
     "output_type": "stream",
     "text": [
      "Epoch 1 with g_loss: 0.002035154043810891 and d_loss: 0.0\n",
      "Epoch: 1, g_acc=0.0, d_acc_f=0.0, d_acc_r=1.0\n",
      "d_dist_f=0.9999819946289062, d_dist_r=0.00018417883664369582\n"
     ]
    },
    {
     "name": "stderr",
     "output_type": "stream",
     "text": [
      "100%|██████████| 4493/4493 [04:03<00:00, 18.44it/s]\n"
     ]
    },
    {
     "name": "stdout",
     "output_type": "stream",
     "text": [
      "Epoch 2 with g_loss: 0.0 and d_loss: 0.009300406484175612\n",
      "Epoch: 2, g_acc=0.0, d_acc_f=1.0, d_acc_r=1.0\n",
      "d_dist_f=6.7323325201869e-05, d_dist_r=2.0267809741199017e-05\n"
     ]
    },
    {
     "name": "stderr",
     "output_type": "stream",
     "text": [
      " 13%|█▎        | 562/4493 [00:24<02:54, 22.54it/s]\n"
     ]
    },
    {
     "name": "stdout",
     "output_type": "stream",
     "text": [
      "Epoch 2 with g_loss: 0.006101260051949374 and d_loss: 0.0\n",
      "Epoch: 2, g_acc=0.0, d_acc_f=0.0, d_acc_r=1.0\n",
      "d_dist_f=0.9999911499023437, d_dist_r=2.624332904815674e-05\n"
     ]
    },
    {
     "name": "stderr",
     "output_type": "stream",
     "text": [
      "100%|██████████| 4493/4493 [04:05<00:00, 18.26it/s]\n"
     ]
    },
    {
     "name": "stdout",
     "output_type": "stream",
     "text": [
      "Epoch 3 with g_loss: 0.0 and d_loss: 0.021861865038342775\n",
      "Epoch: 3, g_acc=0.0, d_acc_f=1.0, d_acc_r=1.0\n",
      "d_dist_f=9.222232736647129e-05, d_dist_r=5.693684332072735e-05\n"
     ]
    },
    {
     "name": "stderr",
     "output_type": "stream",
     "text": [
      " 13%|█▎        | 562/4493 [00:24<02:52, 22.77it/s]\n"
     ]
    },
    {
     "name": "stdout",
     "output_type": "stream",
     "text": [
      "Epoch 3 with g_loss: 0.011708084688143766 and d_loss: 0.0\n",
      "Epoch: 3, g_acc=0.0, d_acc_f=0.0, d_acc_r=1.0\n",
      "d_dist_f=1.0, d_dist_r=5.575772374868393e-05\n"
     ]
    },
    {
     "name": "stderr",
     "output_type": "stream",
     "text": [
      "100%|██████████| 4493/4493 [04:03<00:00, 18.45it/s]\n"
     ]
    },
    {
     "name": "stdout",
     "output_type": "stream",
     "text": [
      "Epoch 4 with g_loss: 0.0 and d_loss: 0.09424660241999815\n",
      "Epoch: 4, g_acc=0.0, d_acc_f=1.0, d_acc_r=1.0\n",
      "d_dist_f=4.404156468808651e-05, d_dist_r=5.184238310903311e-05\n"
     ]
    },
    {
     "name": "stderr",
     "output_type": "stream",
     "text": [
      " 13%|█▎        | 562/4493 [00:24<02:53, 22.62it/s]\n"
     ]
    },
    {
     "name": "stdout",
     "output_type": "stream",
     "text": [
      "Epoch 4 with g_loss: 0.002763847181938432 and d_loss: 0.0\n",
      "Epoch: 4, g_acc=0.0, d_acc_f=0.0, d_acc_r=1.0\n",
      "d_dist_f=0.9992449951171875, d_dist_r=2.910651033744216e-05\n"
     ]
    },
    {
     "name": "stderr",
     "output_type": "stream",
     "text": [
      "100%|██████████| 4493/4493 [04:02<00:00, 18.50it/s]\n"
     ]
    },
    {
     "name": "stdout",
     "output_type": "stream",
     "text": [
      "Epoch 5 with g_loss: 0.0 and d_loss: 0.005131404260858876\n",
      "Epoch: 5, g_acc=0.0, d_acc_f=1.0, d_acc_r=1.0\n",
      "d_dist_f=0.0001253604982048273, d_dist_r=5.77547587454319e-05\n"
     ]
    },
    {
     "name": "stderr",
     "output_type": "stream",
     "text": [
      " 13%|█▎        | 562/4493 [00:25<02:58, 21.98it/s]\n"
     ]
    },
    {
     "name": "stdout",
     "output_type": "stream",
     "text": [
      "Epoch 5 with g_loss: 1.2333246428903375 and d_loss: 0.0\n",
      "Epoch: 5, g_acc=0.0, d_acc_f=1.0, d_acc_r=1.0\n",
      "d_dist_f=0.00013303354382514953, d_dist_r=5.263927858322859e-05\n"
     ]
    },
    {
     "name": "stderr",
     "output_type": "stream",
     "text": [
      " 13%|█▎        | 562/4493 [00:24<02:53, 22.68it/s]\n"
     ]
    },
    {
     "name": "stdout",
     "output_type": "stream",
     "text": [
      "Epoch 5 with g_loss: 0.5458175546791728 and d_loss: 0.0\n",
      "Epoch: 5, g_acc=0.0, d_acc_f=0.0, d_acc_r=1.0\n",
      "d_dist_f=0.9999922943115235, d_dist_r=5.748895462602377e-05\n"
     ]
    },
    {
     "name": "stderr",
     "output_type": "stream",
     "text": [
      "100%|██████████| 4493/4493 [04:02<00:00, 18.50it/s]\n"
     ]
    },
    {
     "name": "stdout",
     "output_type": "stream",
     "text": [
      "Epoch 6 with g_loss: 0.0 and d_loss: 0.009643596516829734\n",
      "Epoch: 6, g_acc=0.0, d_acc_f=1.0, d_acc_r=1.0\n",
      "d_dist_f=0.0002390151284635067, d_dist_r=3.424680093303323e-05\n"
     ]
    },
    {
     "name": "stderr",
     "output_type": "stream",
     "text": [
      " 13%|█▎        | 562/4493 [00:24<02:53, 22.64it/s]\n"
     ]
    },
    {
     "name": "stdout",
     "output_type": "stream",
     "text": [
      "Epoch 6 with g_loss: 0.6137692446953307 and d_loss: 0.0\n",
      "Epoch: 6, g_acc=0.0, d_acc_f=0.0035999999195337295, d_acc_r=1.0\n",
      "d_dist_f=0.9722591400146484, d_dist_r=4.775002598762512e-05\n"
     ]
    },
    {
     "name": "stderr",
     "output_type": "stream",
     "text": [
      "100%|██████████| 4493/4493 [04:02<00:00, 18.49it/s]\n"
     ]
    },
    {
     "name": "stdout",
     "output_type": "stream",
     "text": [
      "Epoch 7 with g_loss: 0.0 and d_loss: 0.006518438749852626\n",
      "Epoch: 7, g_acc=0.0, d_acc_f=1.0, d_acc_r=1.0\n",
      "d_dist_f=0.00043078683316707613, d_dist_r=6.479330360889435e-05\n"
     ]
    },
    {
     "name": "stderr",
     "output_type": "stream",
     "text": [
      " 13%|█▎        | 562/4493 [00:24<02:53, 22.65it/s]\n"
     ]
    },
    {
     "name": "stdout",
     "output_type": "stream",
     "text": [
      "Epoch 7 with g_loss: 0.9453789774748009 and d_loss: 0.0\n",
      "Epoch: 7, g_acc=0.0, d_acc_f=0.0, d_acc_r=1.0\n",
      "d_dist_f=0.9999664306640625, d_dist_r=8.390598930418491e-05\n"
     ]
    },
    {
     "name": "stderr",
     "output_type": "stream",
     "text": [
      "100%|██████████| 4493/4493 [04:03<00:00, 18.47it/s]\n"
     ]
    },
    {
     "name": "stdout",
     "output_type": "stream",
     "text": [
      "Epoch 8 with g_loss: 0.0 and d_loss: 0.018617162718208433\n",
      "Epoch: 8, g_acc=0.0, d_acc_f=0.9983999919891358, d_acc_r=0.9997999989986419\n",
      "d_dist_f=0.001981533020734787, d_dist_r=0.0006544488668441772\n"
     ]
    },
    {
     "name": "stderr",
     "output_type": "stream",
     "text": [
      " 13%|█▎        | 562/4493 [00:24<02:53, 22.67it/s]\n"
     ]
    },
    {
     "name": "stdout",
     "output_type": "stream",
     "text": [
      "Epoch 8 with g_loss: 0.007508300145539877 and d_loss: 0.0\n",
      "Epoch: 8, g_acc=0.0, d_acc_f=0.0, d_acc_r=1.0\n",
      "d_dist_f=0.9999241638183594, d_dist_r=0.0005325081571936608\n"
     ]
    },
    {
     "name": "stderr",
     "output_type": "stream",
     "text": [
      "100%|██████████| 4493/4493 [04:02<00:00, 18.53it/s]\n"
     ]
    },
    {
     "name": "stdout",
     "output_type": "stream",
     "text": [
      "Epoch 9 with g_loss: 0.0 and d_loss: 0.0047573928193769535\n",
      "Epoch: 9, g_acc=0.0, d_acc_f=1.0, d_acc_r=1.0\n",
      "d_dist_f=0.0001377199962735176, d_dist_r=1.111453864723444e-05\n"
     ]
    },
    {
     "name": "stderr",
     "output_type": "stream",
     "text": [
      " 13%|█▎        | 562/4493 [00:24<02:53, 22.69it/s]\n"
     ]
    },
    {
     "name": "stdout",
     "output_type": "stream",
     "text": [
      "Epoch 9 with g_loss: 0.0021539088894441186 and d_loss: 0.0\n",
      "Epoch: 9, g_acc=0.0, d_acc_f=0.0, d_acc_r=1.0\n",
      "d_dist_f=0.9999976348876953, d_dist_r=1.1465431889519095e-05\n"
     ]
    },
    {
     "name": "stderr",
     "output_type": "stream",
     "text": [
      "100%|██████████| 4493/4493 [04:02<00:00, 18.50it/s]\n"
     ]
    },
    {
     "name": "stdout",
     "output_type": "stream",
     "text": [
      "Epoch 10 with g_loss: 0.0 and d_loss: 0.015260289510615227\n",
      "Epoch: 10, g_acc=0.0, d_acc_f=0.9997999989986419, d_acc_r=0.9991999959945679\n",
      "d_dist_f=0.0014577309787273407, d_dist_r=0.0008731110394001007\n"
     ]
    },
    {
     "name": "stderr",
     "output_type": "stream",
     "text": [
      " 13%|█▎        | 562/4493 [00:24<02:52, 22.75it/s]\n"
     ]
    },
    {
     "name": "stdout",
     "output_type": "stream",
     "text": [
      "Epoch 10 with g_loss: 0.7457047414068599 and d_loss: 0.0\n",
      "Epoch: 10, g_acc=0.0, d_acc_f=0.9671999776363372, d_acc_r=0.9991999959945679\n",
      "d_dist_f=0.04561284065246582, d_dist_r=0.00096535824239254\n"
     ]
    },
    {
     "name": "stderr",
     "output_type": "stream",
     "text": [
      " 13%|█▎        | 562/4493 [00:24<02:52, 22.78it/s]\n"
     ]
    },
    {
     "name": "stdout",
     "output_type": "stream",
     "text": [
      "Epoch 10 with g_loss: 0.745416375700838 and d_loss: 0.0\n",
      "Epoch: 10, g_acc=0.0, d_acc_f=0.9679999804496765, d_acc_r=0.9991999959945679\n",
      "d_dist_f=0.04470839500427246, d_dist_r=0.0009392369538545609\n"
     ]
    },
    {
     "name": "stderr",
     "output_type": "stream",
     "text": [
      " 13%|█▎        | 562/4493 [00:24<02:52, 22.78it/s]\n"
     ]
    },
    {
     "name": "stdout",
     "output_type": "stream",
     "text": [
      "Epoch 10 with g_loss: 0.7444948967543737 and d_loss: 0.0\n",
      "Epoch: 10, g_acc=0.0, d_acc_f=0.9697999823093414, d_acc_r=0.9991999959945679\n",
      "d_dist_f=0.044068069458007814, d_dist_r=0.0009893162548542023\n"
     ]
    },
    {
     "name": "stderr",
     "output_type": "stream",
     "text": [
      " 13%|█▎        | 562/4493 [00:25<02:58, 21.99it/s]\n"
     ]
    },
    {
     "name": "stdout",
     "output_type": "stream",
     "text": [
      "Epoch 10 with g_loss: 0.7459633431560925 and d_loss: 0.0\n",
      "Epoch: 10, g_acc=0.0, d_acc_f=0.9681999790668487, d_acc_r=0.9991999959945679\n",
      "d_dist_f=0.045111165046691895, d_dist_r=0.0008864986896514892\n"
     ]
    },
    {
     "name": "stderr",
     "output_type": "stream",
     "text": [
      " 13%|█▎        | 562/4493 [00:24<02:53, 22.70it/s]\n"
     ]
    },
    {
     "name": "stdout",
     "output_type": "stream",
     "text": [
      "Epoch 10 with g_loss: 0.7443548172161782 and d_loss: 0.0\n",
      "Epoch: 10, g_acc=0.0, d_acc_f=0.966799978017807, d_acc_r=0.9991999959945679\n",
      "d_dist_f=0.044476103782653806, d_dist_r=0.0009320415556430817\n"
     ]
    },
    {
     "name": "stderr",
     "output_type": "stream",
     "text": [
      " 13%|█▎        | 562/4493 [00:24<02:53, 22.68it/s]\n"
     ]
    },
    {
     "name": "stdout",
     "output_type": "stream",
     "text": [
      "Epoch 10 with g_loss: 0.7453479233017324 and d_loss: 0.0\n",
      "Epoch: 10, g_acc=0.0, d_acc_f=0.9665999805927277, d_acc_r=0.9991999959945679\n",
      "d_dist_f=0.04498264312744141, d_dist_r=0.0009537439048290252\n"
     ]
    },
    {
     "name": "stderr",
     "output_type": "stream",
     "text": [
      " 13%|█▎        | 562/4493 [00:24<02:52, 22.73it/s]\n"
     ]
    },
    {
     "name": "stdout",
     "output_type": "stream",
     "text": [
      "Epoch 10 with g_loss: 0.7447707871140549 and d_loss: 0.0\n",
      "Epoch: 10, g_acc=0.0, d_acc_f=0.9689999830722809, d_acc_r=0.9991999959945679\n",
      "d_dist_f=0.044491057395935056, d_dist_r=0.0009810756891965866\n"
     ]
    },
    {
     "name": "stderr",
     "output_type": "stream",
     "text": [
      " 13%|█▎        | 562/4493 [00:24<02:53, 22.70it/s]\n"
     ]
    },
    {
     "name": "stdout",
     "output_type": "stream",
     "text": [
      "Epoch 10 with g_loss: 0.7445105138346105 and d_loss: 0.0\n",
      "Epoch: 10, g_acc=0.0, d_acc_f=0.9675999820232392, d_acc_r=0.9991999959945679\n",
      "d_dist_f=0.04417236328125, d_dist_r=0.0008773046731948852\n"
     ]
    },
    {
     "name": "stderr",
     "output_type": "stream",
     "text": [
      " 13%|█▎        | 562/4493 [00:24<02:52, 22.75it/s]\n"
     ]
    },
    {
     "name": "stdout",
     "output_type": "stream",
     "text": [
      "Epoch 10 with g_loss: 0.7450508544950742 and d_loss: 0.0\n",
      "Epoch: 10, g_acc=0.0, d_acc_f=0.9683999824523926, d_acc_r=0.9991999959945679\n",
      "d_dist_f=0.04453611850738525, d_dist_r=0.0009484696388244629\n"
     ]
    },
    {
     "name": "stderr",
     "output_type": "stream",
     "text": [
      " 13%|█▎        | 562/4493 [00:24<02:53, 22.69it/s]\n"
     ]
    },
    {
     "name": "stdout",
     "output_type": "stream",
     "text": [
      "Epoch 10 with g_loss: 0.7456486008094568 and d_loss: 0.0\n",
      "Epoch: 10, g_acc=0.0, d_acc_f=0.9675999820232392, d_acc_r=0.9991999959945679\n",
      "d_dist_f=0.0456885290145874, d_dist_r=0.000973176509141922\n"
     ]
    },
    {
     "name": "stderr",
     "output_type": "stream",
     "text": [
      " 13%|█▎        | 562/4493 [00:25<02:58, 22.05it/s]\n"
     ]
    },
    {
     "name": "stdout",
     "output_type": "stream",
     "text": [
      "Epoch 10 with g_loss: 0.7453303635319384 and d_loss: 0.0\n",
      "Epoch: 10, g_acc=0.0, d_acc_f=0.9671999788284302, d_acc_r=0.9991999959945679\n",
      "d_dist_f=0.04417887687683106, d_dist_r=0.0009392216801643371\n"
     ]
    },
    {
     "name": "stderr",
     "output_type": "stream",
     "text": [
      " 13%|█▎        | 562/4493 [00:24<02:52, 22.74it/s]\n"
     ]
    },
    {
     "name": "stdout",
     "output_type": "stream",
     "text": [
      "Epoch 10 with g_loss: 0.745216775253571 and d_loss: 0.0\n",
      "Epoch: 10, g_acc=0.0, d_acc_f=0.9683999800682068, d_acc_r=0.9991999959945679\n",
      "d_dist_f=0.0448710298538208, d_dist_r=0.0010053814947605132\n"
     ]
    }
   ],
   "source": [
    "for epoch in range(0,50):\n",
    "\n",
    "    reps = 0\n",
    "\n",
    "    if train_all or train_discriminator:\n",
    "\n",
    "        while RSv1.logs['d_acc_f'][-1] < 0.5:\n",
    "            reps += 1\n",
    "            if reps > 5:\n",
    "                train_all = False\n",
    "                train_discriminator = False\n",
    "                break\n",
    "            for bitboards, mvs in tqdm(loader):\n",
    "\n",
    "                RSv1.train_step(bitboards, mvs, train_generator=False)\n",
    "\n",
    "\n",
    "            RSv1.on_epoch_end(epoch, G, val_data)\n",
    "\n",
    "    reps = 0\n",
    "    if train_all or not train_discriminator:\n",
    "\n",
    "        while RSv1.logs['d_acc_f'][-1] > 0.5:\n",
    "            reps += 1\n",
    "            if reps > 12:\n",
    "                train_all = False\n",
    "                train_discriminator = True\n",
    "                break\n",
    "\n",
    "            i=0\n",
    "            for bitboards, mvs in tqdm(loader):\n",
    "\n",
    "                if i > G // 8:\n",
    "                    break\n",
    "\n",
    "                RSv1.train_step(bitboards, mvs, train_generator=True)\n",
    "                i += 1\n",
    "\n",
    "            RSv1.on_epoch_end(epoch, G, val_data)"
   ],
   "metadata": {
    "collapsed": false,
    "ExecuteTime": {
     "end_time": "2024-04-04T01:10:45.307276Z",
     "start_time": "2024-04-04T00:20:49.310486Z"
    }
   },
   "id": "68ecb55a7a2f10f5",
   "execution_count": 47
  },
  {
   "cell_type": "code",
   "outputs": [
    {
     "data": {
      "text/plain": "0.2510000169277191"
     },
     "execution_count": 135,
     "metadata": {},
     "output_type": "execute_result"
    }
   ],
   "source": [
    "val_boards = val_data.bitboards\n",
    "real_moves = val_data.moves\n",
    "\n",
    "minn, ila = RDv2(val_boards)\n",
    "fake_moves = torch.cat([F.softmax(minn, dim=1), F.softmax(ila,dim=1)], dim=1)\n",
    "torch.mean((real_moves == torch.round(fake_moves)).all(dim=1), dtype=torch.float).item()"
   ],
   "metadata": {
    "collapsed": false,
    "ExecuteTime": {
     "end_time": "2024-04-02T15:15:13.231972Z",
     "start_time": "2024-04-02T15:15:13.035123Z"
    }
   },
   "id": "16b09e78fe015185",
   "execution_count": 135
  },
  {
   "cell_type": "code",
   "outputs": [
    {
     "data": {
      "text/plain": "tensor(1.0000, grad_fn=<MeanBackward0>)"
     },
     "execution_count": 49,
     "metadata": {},
     "output_type": "execute_result"
    }
   ],
   "source": [
    "old_generator = torch.load(\"generator 5.pt\")\n",
    "torch.mean(RSv1.discriminator(val_data.bitboards[:1000], old_generator(val_data.bitboards[:1000])))"
   ],
   "metadata": {
    "collapsed": false,
    "ExecuteTime": {
     "end_time": "2024-04-04T02:38:04.423649Z",
     "start_time": "2024-04-04T02:38:04.065658Z"
    }
   },
   "id": "5d639db2d482b8de",
   "execution_count": 49
  },
  {
   "cell_type": "code",
   "outputs": [
    {
     "name": "stdout",
     "output_type": "stream",
     "text": [
      "tensor([1.7404e-42, 0.0000e+00, 2.2697e-41, 2.9514e-19, 2.4398e-16, 4.8634e-12,\n",
      "        9.2207e-27, 3.0531e-33, 0.0000e+00, 0.0000e+00, 2.2381e-24, 2.3693e-12,\n",
      "        1.0543e-04, 2.4633e-19, 4.6248e-19, 9.9989e-01, 0.0000e+00, 0.0000e+00,\n",
      "        0.0000e+00, 1.0044e-09, 2.2264e-06, 1.8982e-10, 8.1555e-16, 6.4270e-11,\n",
      "        1.2278e-31, 0.0000e+00, 1.0315e-31, 1.0168e-20, 5.1734e-15, 8.6261e-07,\n",
      "        3.3822e-08, 5.3728e-09, 0.0000e+00, 0.0000e+00, 8.4442e-37, 1.1300e-11,\n",
      "        1.6480e-18, 1.1017e-12, 9.6544e-10, 5.9234e-10, 0.0000e+00, 0.0000e+00,\n",
      "        3.2209e-39, 1.5248e-36, 2.6022e-42, 5.4401e-41, 0.0000e+00, 4.2039e-45,\n",
      "        0.0000e+00, 0.0000e+00, 7.8557e-42, 0.0000e+00, 0.0000e+00, 0.0000e+00,\n",
      "        0.0000e+00, 0.0000e+00, 0.0000e+00, 0.0000e+00, 0.0000e+00, 0.0000e+00,\n",
      "        0.0000e+00, 0.0000e+00, 0.0000e+00, 0.0000e+00, 0.0000e+00, 0.0000e+00,\n",
      "        0.0000e+00, 0.0000e+00, 0.0000e+00, 0.0000e+00, 0.0000e+00, 0.0000e+00,\n",
      "        0.0000e+00, 0.0000e+00, 0.0000e+00, 0.0000e+00, 8.0270e-33, 3.5150e-19,\n",
      "        2.1672e-29, 0.0000e+00, 0.0000e+00, 0.0000e+00, 0.0000e+00, 0.0000e+00,\n",
      "        3.2166e-39, 1.0000e+00, 1.9417e-14, 6.5004e-16, 0.0000e+00, 0.0000e+00,\n",
      "        0.0000e+00, 2.2937e-25, 6.6810e-16, 1.5381e-18, 7.0016e-14, 3.3433e-15,\n",
      "        0.0000e+00, 0.0000e+00, 0.0000e+00, 0.0000e+00, 5.6715e-15, 4.0245e-15,\n",
      "        1.6127e-29, 5.1068e-25, 0.0000e+00, 0.0000e+00, 0.0000e+00, 0.0000e+00,\n",
      "        2.6771e-29, 1.9396e-37, 1.4888e-27, 0.0000e+00, 0.0000e+00, 0.0000e+00,\n",
      "        0.0000e+00, 1.7236e-43, 0.0000e+00, 0.0000e+00, 3.5551e-29, 0.0000e+00,\n",
      "        0.0000e+00, 0.0000e+00, 0.0000e+00, 0.0000e+00, 0.0000e+00, 0.0000e+00,\n",
      "        0.0000e+00, 0.0000e+00], grad_fn=<SelectBackward0>)\n",
      "tensor([0., 0., 0., 0., 0., 0., 0., 0., 0., 0., 0., 0., 0., 0., 0., 1., 0., 0.,\n",
      "        0., 0., 0., 0., 0., 0., 0., 0., 0., 0., 0., 0., 0., 0., 0., 0., 0., 0.,\n",
      "        0., 0., 0., 0., 0., 0., 0., 0., 0., 0., 0., 0., 0., 0., 0., 0., 0., 0.,\n",
      "        0., 0., 0., 0., 0., 0., 0., 0., 0., 0., 0., 0., 0., 0., 0., 0., 0., 0.,\n",
      "        0., 0., 0., 0., 0., 0., 0., 0., 0., 0., 0., 0., 0., 1., 0., 0., 0., 0.,\n",
      "        0., 0., 0., 0., 0., 0., 0., 0., 0., 0., 0., 0., 0., 0., 0., 0., 0., 0.,\n",
      "        0., 0., 0., 0., 0., 0., 0., 0., 0., 0., 0., 0., 0., 0., 0., 0., 0., 0.,\n",
      "        0., 0.], grad_fn=<RoundBackward0>)\n"
     ]
    }
   ],
   "source": [
    "fake_moves = RSv1(val_boards)\n",
    "print(fake_moves[0])\n",
    "\n",
    "#fake_moves_ind = torch.argmax(fake_moves, dim=1)\n",
    "print(torch.round(fake_moves[0]))\n",
    "\n",
    "g_acc = torch.mean((real_moves == torch.round(fake_moves)).all(dim=1), dtype=torch.float).item()"
   ],
   "metadata": {
    "collapsed": false,
    "ExecuteTime": {
     "end_time": "2024-04-02T15:15:38.058195Z",
     "start_time": "2024-04-02T15:15:37.743602Z"
    }
   },
   "id": "bb95d8c30b50d73a",
   "execution_count": 137
  },
  {
   "cell_type": "code",
   "outputs": [
    {
     "name": "stderr",
     "output_type": "stream",
     "text": [
      "100%|██████████| 50/50 [00:28<00:00,  1.77it/s]\n",
      "100%|██████████| 50/50 [00:27<00:00,  1.80it/s]\n"
     ]
    },
    {
     "data": {
      "text/plain": "(100, 0, 0, 1.0)"
     },
     "execution_count": 141,
     "metadata": {},
     "output_type": "execute_result"
    }
   ],
   "source": [
    "test_against(lambda x: network_agent_prob_conv(x, RDv2), lambda x: network_agent_prob_conv(x, RSv1.generator), N=100)"
   ],
   "metadata": {
    "ExecuteTime": {
     "end_time": "2024-04-02T19:26:22.605870Z",
     "start_time": "2024-04-02T19:25:26.620287Z"
    }
   },
   "id": "aa4d829c",
   "execution_count": 141
  },
  {
   "cell_type": "code",
   "outputs": [
    {
     "data": {
      "text/plain": "7274496"
     },
     "execution_count": 15,
     "metadata": {},
     "output_type": "execute_result"
    }
   ],
   "source": [
    "torch.cuda.memory_allocated() "
   ],
   "metadata": {
    "collapsed": false,
    "ExecuteTime": {
     "end_time": "2024-03-27T05:01:28.670133Z",
     "start_time": "2024-03-27T05:01:28.649203Z"
    }
   },
   "id": "9f9494059602bcb1",
   "execution_count": 15
  }
 ],
 "metadata": {
  "kernelspec": {
   "display_name": "Python 3 (ipykernel)",
   "language": "python",
   "name": "python3"
  },
  "language_info": {
   "codemirror_mode": {
    "name": "ipython",
    "version": 3
   },
   "file_extension": ".py",
   "mimetype": "text/x-python",
   "name": "python",
   "nbconvert_exporter": "python",
   "pygments_lexer": "ipython3",
   "version": "3.10.12"
  }
 },
 "nbformat": 4,
 "nbformat_minor": 5
}
