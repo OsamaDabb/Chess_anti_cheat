{
 "cells": [
  {
   "cell_type": "markdown",
   "id": "9d9bd546",
   "metadata": {},
   "source": [
    "# ReesSaver Discriminator Agent"
   ]
  },
  {
   "cell_type": "markdown",
   "id": "435d5507",
   "metadata": {},
   "source": [
    "## Notes:\n",
    "- Roughly 90% of our boards are unique\n",
    "- Every time you call generate_data it gets new games/games in a different order?"
   ]
  },
  {
   "cell_type": "code",
   "execution_count": 1,
   "id": "df45d77a",
   "metadata": {
    "ExecuteTime": {
     "end_time": "2024-04-17T02:56:07.584460Z",
     "start_time": "2024-04-17T02:56:03.751861Z"
    }
   },
   "outputs": [
    {
     "name": "stderr",
     "output_type": "stream",
     "text": [
      "C:\\Users\\osama\\anaconda3\\lib\\site-packages\\torch\\__init__.py:690: UserWarning: torch.set_default_tensor_type() is deprecated as of PyTorch 2.1, please use torch.set_default_dtype() and torch.set_default_device() as alternatives. (Triggered internally at C:\\actions-runner\\_work\\pytorch\\pytorch\\builder\\windows\\pytorch\\torch\\csrc\\tensor\\python_tensor.cpp:453.)\n",
      "  _C._set_default_tensor_type(t)\n"
     ]
    }
   ],
   "source": [
    "import chess\n",
    "\n",
    "import chess.svg\n",
    "import cv2\n",
    "\n",
    "from IPython.display import display, SVG\n",
    "\n",
    "import numpy as np\n",
    "import random\n",
    "from tqdm import tqdm\n",
    "from importlib import reload\n",
    "import gc\n",
    "\n",
    "import torch\n",
    "import torch.nn as nn\n",
    "import torch.nn.functional as F\n",
    "import torch.optim as optim\n",
    "from torch.utils.data import DataLoader, Dataset\n",
    "\n",
    "import utils\n",
    "reload(utils)\n",
    "import utils\n",
    "\n",
    "import matplotlib.pyplot as plt\n",
    "\n",
    "from sklearn.model_selection import train_test_split"
   ]
  },
  {
   "cell_type": "code",
   "execution_count": 2,
   "id": "b917432f",
   "metadata": {
    "ExecuteTime": {
     "end_time": "2024-04-17T02:56:14.804815Z",
     "start_time": "2024-04-17T02:56:14.787653Z"
    }
   },
   "outputs": [
    {
     "name": "stdout",
     "output_type": "stream",
     "text": [
      "True\n"
     ]
    }
   ],
   "source": [
    "if torch.cuda.is_available():\n",
    "    # Set default tensor type to CUDA tensors\n",
    "    torch.set_default_tensor_type(torch.cuda.FloatTensor)\n",
    "    \n",
    "else:\n",
    "    \n",
    "    torch.set_default_tensor_type(torch.FloatTensor)\n",
    " \n",
    "print(torch.cuda.is_available())\n",
    "device = torch.device('cuda' if torch.cuda.is_available() else 'cpu')\n",
    "\n",
    "made_loader = False"
   ]
  },
  {
   "cell_type": "code",
   "outputs": [
    {
     "data": {
      "text/plain": "0"
     },
     "execution_count": 4,
     "metadata": {},
     "output_type": "execute_result"
    }
   ],
   "source": [
    "torch.cuda.empty_cache()\n",
    "gc.collect()"
   ],
   "metadata": {
    "collapsed": false,
    "ExecuteTime": {
     "end_time": "2024-04-17T02:56:19.743067Z",
     "start_time": "2024-04-17T02:56:19.657500Z"
    }
   },
   "id": "544e440d30974945",
   "execution_count": 4
  },
  {
   "cell_type": "code",
   "outputs": [],
   "source": [
    "def clear_cuda():\n",
    "    \n",
    "    input()\n",
    "    \n",
    "    for obj in gc.get_objects():\n",
    "        if torch.is_tensor(obj):\n",
    "            if obj.is_cuda:\n",
    "                print(type(obj), obj.size(), obj.device)\n",
    "                del obj\n",
    "    torch.cuda.empty_cache()\n",
    "    gc.collect()"
   ],
   "metadata": {
    "collapsed": false,
    "ExecuteTime": {
     "end_time": "2024-04-17T02:56:22.657374Z",
     "start_time": "2024-04-17T02:56:22.643376Z"
    }
   },
   "id": "5e426489c167da5c",
   "execution_count": 5
  },
  {
   "cell_type": "code",
   "outputs": [],
   "source": [
    "clear_cuda()"
   ],
   "metadata": {
    "collapsed": false
   },
   "id": "24b4c10246dd3c83",
   "execution_count": null
  },
  {
   "cell_type": "code",
   "outputs": [],
   "source": [
    "from utils.Datasets import *\n",
    "\n",
    "import utils.Dataloading\n",
    "reload(utils.Dataloading)\n",
    "from utils.Dataloading import *\n",
    "from utils.Game_playing import *\n",
    "\n",
    "import utils.Playing_agents\n",
    "reload(utils.Playing_agents)\n",
    "from utils.Playing_agents import *\n",
    "\n",
    "from utils.CSV_data import *\n",
    "from utils.Puzzles import *"
   ],
   "metadata": {
    "ExecuteTime": {
     "end_time": "2024-04-17T02:56:25.230316Z",
     "start_time": "2024-04-17T02:56:25.222323Z"
    }
   },
   "id": "aced8f27",
   "execution_count": 6
  },
  {
   "cell_type": "code",
   "outputs": [],
   "source": [
    "class MLPv2_1(nn.Module):\n",
    "\n",
    "    def __init__(self):\n",
    "\n",
    "        super().__init__()\n",
    "        self.conv1 = nn.Conv2d(14, 64, 3, 1, padding=1, padding_mode = 'zeros')\n",
    "\n",
    "        self.layers = nn.ModuleList()\n",
    "\n",
    "        self.depth = 6\n",
    "\n",
    "        for _ in range(self.depth):\n",
    "            self.layers.append(nn.Conv2d(64,64, 3, 1, padding=1, padding_mode = 'zeros'))\n",
    "            self.layers.append(nn.BatchNorm2d(64))\n",
    "            self.layers.append(nn.Conv2d(64,64, 3, 1, padding=1, padding_mode = 'zeros'))\n",
    "            self.layers.append(nn.BatchNorm2d(64))\n",
    "\n",
    "        self.linear = nn.Linear(4096, 128)\n",
    "\n",
    "    def forward(self, x):\n",
    "\n",
    "        x = self.conv1(x)\n",
    "\n",
    "        for i in range(self.depth):\n",
    "            j = i*4\n",
    "            ph = x.clone()\n",
    "            ph = self.layers[j](ph)\n",
    "            ph = self.layers[j+1](ph)\n",
    "            ph = F.relu(ph)\n",
    "            ph = self.layers[j+2](ph)\n",
    "            ph = self.layers[j+3](ph)\n",
    "\n",
    "            x = x + ph\n",
    "            x = F.relu(x)\n",
    "\n",
    "\n",
    "        x = torch.flatten(x, start_dim=1)\n",
    "\n",
    "        x = self.linear(x)\n",
    "\n",
    "        minn, ila = x[:,:64], x[:,64:]\n",
    "\n",
    "        return minn, ila"
   ],
   "metadata": {
    "collapsed": false,
    "ExecuteTime": {
     "end_time": "2024-04-17T02:56:25.734136Z",
     "start_time": "2024-04-17T02:56:25.713626Z"
    }
   },
   "id": "2e17ab646265886d",
   "execution_count": 7
  },
  {
   "cell_type": "code",
   "outputs": [],
   "source": [
    "RDv2 = torch.load(\"Models/RDv2.3 CB.pt\", map_location= device)"
   ],
   "metadata": {
    "collapsed": false,
    "ExecuteTime": {
     "end_time": "2024-04-17T02:56:26.416193Z",
     "start_time": "2024-04-17T02:56:26.360195Z"
    }
   },
   "id": "34154737e9a1cf50",
   "execution_count": 8
  },
  {
   "cell_type": "code",
   "outputs": [
    {
     "name": "stderr",
     "output_type": "stream",
     "text": [
      "0it [00:00, ?it/s]\n",
      "100%|██████████| 30000/30000 [10:17<00:00, 48.61it/s]\n"
     ]
    }
   ],
   "source": [
    "boards, meta, elo, moves, _, _, fens = generate_data(\"./Data/GAN_human_data.pgn\", N = 30_000)"
   ],
   "metadata": {
    "ExecuteTime": {
     "end_time": "2024-04-12T20:32:25.603839Z",
     "start_time": "2024-04-12T20:21:12.149814Z"
    }
   },
   "id": "4d02f81d",
   "execution_count": 7
  },
  {
   "cell_type": "code",
   "outputs": [],
   "source": [
    "class generator_1(nn.Module):\n",
    "\n",
    "    def __init__(self, conv_depth):\n",
    "\n",
    "        super().__init__()\n",
    "        self.conv1 = nn.Conv2d(14, 64, 3, 1, padding=1, padding_mode = 'zeros')\n",
    "        \n",
    "        self.conv_layers = nn.ModuleList()\n",
    "        self.conv_depth = conv_depth\n",
    "        \n",
    "        for i in range(self.conv_depth):\n",
    "            self.conv_layers.append(nn.Conv2d(64,64, 3, 1, padding=1, padding_mode = 'zeros'))\n",
    "            #self.conv_layers.append(nn.BatchNorm2d(64))\n",
    "            self.conv_layers.append(nn.Conv2d(64,64, 3, 1, padding=1, padding_mode = 'zeros'))\n",
    "            #if i < self.conv_depth - 1:\n",
    "                #self.conv_layers.append(nn.BatchNorm2d(64))\n",
    "\n",
    "        self.linear = nn.Linear(4096, 128)\n",
    "\n",
    "    def forward(self, x):\n",
    "\n",
    "        x = self.conv1(x)\n",
    "        \n",
    "        for i in range(self.conv_depth):\n",
    "            j = i*2\n",
    "            ph = x.clone()\n",
    "            ph = self.conv_layers[j](ph)\n",
    "            #ph = self.conv_layers[j+1](ph)\n",
    "            ph = F.relu(ph)\n",
    "            ph = self.conv_layers[j+1](ph)\n",
    "            #if i < self.conv_depth - 1:\n",
    "                #ph = self.conv_layers[j+3](ph)\n",
    "            \n",
    "            x = x + ph\n",
    "            x = F.relu(x)   \n",
    "        \n",
    "        x = torch.flatten(x, start_dim=1)\n",
    "\n",
    "        x = self.linear(x)\n",
    "        minn, ila = x[:,:64], x[:,64:]\n",
    "\n",
    "        minn = F.softmax(minn, dim=1)\n",
    "        ila = F.softmax(ila, dim=1)\n",
    "\n",
    "        return torch.cat([minn, ila], dim=1).view(-1, 2, 8, 8)"
   ],
   "metadata": {
    "ExecuteTime": {
     "end_time": "2024-04-17T02:56:29.446074Z",
     "start_time": "2024-04-17T02:56:29.428645Z"
    }
   },
   "id": "bab89efa",
   "execution_count": 9
  },
  {
   "cell_type": "code",
   "outputs": [],
   "source": [
    "class discriminator_1(nn.Module):\n",
    "\n",
    "    def __init__(self, conv_depth):\n",
    "\n",
    "        super().__init__()\n",
    "        self.conv1 = nn.Conv2d(16, 64, 3, 1, padding=1, padding_mode = 'zeros')\n",
    "\n",
    "        self.conv_layers = nn.ModuleList()\n",
    "        self.conv_depth = conv_depth\n",
    "\n",
    "        for _ in range(self.conv_depth):\n",
    "            self.conv_layers.append(nn.Conv2d(64,64, 3, 1, padding=1, padding_mode = 'zeros'))\n",
    "            #self.conv_layers.append(nn.BatchNorm2d(64))\n",
    "            self.conv_layers.append(nn.Conv2d(64,64, 3, 1, padding=1, padding_mode = 'zeros'))\n",
    "            #self.conv_layers.append(nn.BatchNorm2d(64))\n",
    "            \n",
    "        self.linear = nn.Linear(4096, 1)\n",
    "    \n",
    "\n",
    "    def forward(self, board, move):\n",
    "        \n",
    "        x = torch.cat((board, move), dim = 1)\n",
    "\n",
    "        x = self.conv1(x)\n",
    "        \n",
    "        for i in range(self.conv_depth):\n",
    "            j = i*2\n",
    "            ph = x.clone()\n",
    "            ph = self.conv_layers[j](ph)\n",
    "            #ph = self.conv_layers[j+1](ph)\n",
    "            ph = F.leaky_relu(ph)\n",
    "            #ph = self.conv_layers[j+2](ph)\n",
    "            ph = self.conv_layers[j+1](ph)\n",
    "            \n",
    "            x = x + ph\n",
    "            x = F.leaky_relu(x)\n",
    "                  \n",
    "                  \n",
    "        x = torch.flatten(x, start_dim=1)\n",
    "        \n",
    "        x = self.linear(x)\n",
    "        x = F.sigmoid(x)\n",
    "        \n",
    "        return x"
   ],
   "metadata": {
    "ExecuteTime": {
     "end_time": "2024-04-17T02:56:29.728151Z",
     "start_time": "2024-04-17T02:56:29.720578Z"
    }
   },
   "id": "da16f337",
   "execution_count": 10
  },
  {
   "cell_type": "code",
   "outputs": [],
   "source": [
    "class GAN_1(nn.Module):\n",
    "    #AI: 0, Human: 1\n",
    "    def __init__(self, g_conv_depth, d_conv_depth, lr, pre_trained_g = None):\n",
    "        \n",
    "        super().__init__()\n",
    "        \n",
    "        print(device)\n",
    "        \n",
    "        self.save_every = 2\n",
    "        \n",
    "        if pre_trained_g is not None:\n",
    "            \n",
    "            self.generator = pre_trained_g\n",
    "            self.pre_trained = True\n",
    "        \n",
    "        else:\n",
    "            \n",
    "            self.generator = generator_1(g_conv_depth)\n",
    "            self.pre_trained = False\n",
    "\n",
    "\n",
    "        self.discriminator = discriminator_1(d_conv_depth)\n",
    "        \n",
    "        self.logs = {\"g_acc\": [0], \"d_acc_r\": [0], \"d_acc_f\": [0], \n",
    "                     \"g_loss\": [0], \"d_loss\": [0],\"d_dist_f\": [0], \"d_dist_r\": [0], \n",
    "                     \"cur_g_loss\": 0, \"cur_d_loss\": 0}\n",
    "        \n",
    "        self.made_loader = False\n",
    "        \n",
    "        self.configure_optimizers(lr)\n",
    "        self.categorical_loss_1 = torch.nn.CrossEntropyLoss()\n",
    "        self.categorical_loss_2 = torch.nn.CrossEntropyLoss()\n",
    "        \n",
    "        \n",
    "        \n",
    "    def forward(self, x):\n",
    "        return self.generator(x)\n",
    "    \n",
    "    def adversarial_loss(self, y_hat, y):\n",
    "        return F.binary_cross_entropy(y_hat, y)\n",
    "    \n",
    "    def stockfish_train(self, train_boards, moves):\n",
    "\n",
    "        self.generator.train()\n",
    "        \n",
    "        self.opt_g.zero_grad()\n",
    "\n",
    "        fake_moves = self(train_boards)\n",
    "\n",
    "        moves = moves.view(-1, 128)\n",
    "\n",
    "        if self.pre_trained:\n",
    "\n",
    "            fake_moves = F.softmax(fake_moves[0], dim=1), F.softmax(fake_moves[1], dim=1)\n",
    "            g_loss = self.categorical_loss_1(fake_moves[0], moves[:,:64]) + self.categorical_loss_2(fake_moves[1], moves[:,64:])\n",
    "            \n",
    "        else:\n",
    "            \n",
    "            fake_moves = fake_moves.view(-1, 128)\n",
    "\n",
    "            g_loss = self.categorical_loss_1(fake_moves[:,:64], moves[:,:64]) + self.categorical_loss_2(fake_moves[:,64:], moves[:,64:])\n",
    "            \n",
    "        #g_loss = torch.sum(torch.log((y - y_hat) + epsilon), dim=0)\n",
    "\n",
    "        self.logs[\"cur_g_loss\"] += g_loss.item()\n",
    "\n",
    "        g_loss.backward()\n",
    "\n",
    "        self.opt_g.step()\n",
    "    \n",
    "    def train_step(self, train_boards, real_moves, train_generator, prev_generator=None):\n",
    "\n",
    "        self.discriminator.train()\n",
    "\n",
    "        self.generator.train()\n",
    "\n",
    "        epsilon = 1e-8\n",
    "        \n",
    "        #train generator\n",
    "        if train_generator:\n",
    "\n",
    "            self.opt_g.zero_grad()\n",
    "            \n",
    "            fake_moves = self(train_boards)\n",
    "            \n",
    "            if self.pre_trained:\n",
    "                \n",
    "                fake_moves = F.softmax(fake_moves[0], dim=1), F.softmax(fake_moves[1], dim=1)\n",
    "                fake_moves = self.diffable_argmax_moves(torch.cat(fake_moves,dim=1)).view(-1,2,8,8)\n",
    "                \n",
    "            else:\n",
    "                \n",
    "                fake_moves = self.diffable_argmax_moves(fake_moves).view(-1,2,8,8)\n",
    "            \n",
    "            y_hat = self.discriminator(train_boards, fake_moves)\n",
    "            \n",
    "            y = torch.zeros(real_moves.size(0), 1).to(device)\n",
    "            \n",
    "            g_loss = -1 * self.adversarial_loss(y_hat, y)\n",
    "            #g_loss = torch.sum(torch.log((y - y_hat) + epsilon), dim=0)\n",
    "                        \n",
    "            self.logs[\"cur_g_loss\"] += g_loss.item()\n",
    "            \n",
    "            g_loss.backward()\n",
    "\n",
    "            self.opt_g.step()\n",
    "              \n",
    "        #discriminator training \n",
    "        else:\n",
    "\n",
    "            self.opt_d.zero_grad()\n",
    "            \n",
    "            y_hat_real = self.discriminator(train_boards, real_moves)\n",
    "            y_real = torch.ones(real_moves.size(0), 1).to(device)\n",
    "            \n",
    "            #d_real_loss = torch.sum(y_hat_real, dim = 0)\n",
    "            d_real_loss = self.adversarial_loss(y_hat_real, y_real)\n",
    "            \n",
    "            if prev_generator is not None:\n",
    "                \n",
    "                prev_fake_moves = prev_generator(train_boards[:len(train_boards)//8])\n",
    "                fake_moves = self(train_boards[len(train_boards)//8:])\n",
    "\n",
    "                if self.pre_trained:\n",
    "\n",
    "                    fake_moves = F.softmax(fake_moves[0], dim=1), F.softmax(fake_moves[1], dim=1)\n",
    "                    fake_moves = self.diffable_argmax_moves(torch.cat(fake_moves,dim=1)).view(-1,2,8,8).detach()\n",
    "                    prev_fake_moves = F.softmax(prev_fake_moves[0], dim=1), F.softmax(prev_fake_moves[1], dim=1)\n",
    "                    prev_fake_moves = self.diffable_argmax_moves((torch.cat(prev_fake_moves,dim=1))).view(-1,2,8,8).detach()\n",
    "\n",
    "                else:\n",
    "\n",
    "                    fake_moves = self.diffable_argmax_moves(fake_moves).view(-1,2,8,8).detach()\n",
    "                    prev_fake_moves = self.diffable_argmax_moves(prev_fake_moves).view(-1,2,8,8).detach()\n",
    "                \n",
    "                fake_moves = torch.cat([prev_fake_moves, fake_moves], dim=0)\n",
    "\n",
    "                \n",
    "            else:\n",
    "                \n",
    "                fake_moves = self(train_boards)\n",
    "\n",
    "                if self.pre_trained:\n",
    "                    fake_moves = F.softmax(fake_moves[0], dim=1), F.softmax(fake_moves[1], dim=1)\n",
    "                    fake_moves = self.diffable_argmax_moves(torch.cat(fake_moves,dim=1)).view(-1,2,8,8).detach()\n",
    "\n",
    "                else:\n",
    "\n",
    "                    fake_moves = self.diffable_argmax_moves(fake_moves).view(-1,2,8,8).detach()\n",
    "\n",
    "            \n",
    "            y_hat_fake = self.discriminator(train_boards, fake_moves)\n",
    "            y_fake = torch.zeros(real_moves.size(0), 1).to(device)\n",
    "\n",
    "            #d_fake_loss = torch.sum(y_hat_fake, dim = 0)\n",
    "            d_fake_loss = self.adversarial_loss(y_hat_fake, y_fake)\n",
    "            \n",
    "            \n",
    "            d_loss = d_fake_loss + d_real_loss # - d_fake_loss * d_real_loss\n",
    "            self.logs[\"cur_d_loss\"] += d_loss.item()\n",
    "            \n",
    "            d_loss.backward()\n",
    "\n",
    "            self.opt_d.step()\n",
    "            \n",
    "            #for param in self.discriminator.parameters():\n",
    "            #    param.data.clamp_(-0.01, 0.01)\n",
    "            \n",
    "    def diffable_argmax_moves(self, moves):\n",
    "        \n",
    "        moves = moves.view(-1,2,64)\n",
    "        # Create a tensor to hold the transformed results\n",
    "        transformed_tensor = torch.zeros_like(moves).to(device)\n",
    "    \n",
    "        # Find the indices of the maximum values along the last two dimensions\n",
    "        max_indices = torch.argmax(moves, dim=2, keepdim=True).to(device) # 5000, 2\n",
    "    \n",
    "        # Create a mask where the maximum indices are set to 1\n",
    "        idx0 = torch.arange(transformed_tensor.size(0)).unsqueeze(1).unsqueeze(2).to(device)\n",
    "        idx1 = torch.arange(transformed_tensor.size(1)).unsqueeze(0).unsqueeze(2).to(device)\n",
    "    \n",
    "        transformed_tensor[idx0, idx1, max_indices] = 1\n",
    "        \n",
    "        moves = moves * transformed_tensor\n",
    "\n",
    "        moves /= moves[idx0, idx1, max_indices]\n",
    "    \n",
    "        return moves\n",
    "            \n",
    "    \n",
    "    def configure_optimizers(self, lr):\n",
    "        self.lr = lr\n",
    "        self.opt_g = torch.optim.Adam(self.generator.parameters(), lr=lr, betas = (0.5, 0.999),  weight_decay=0.0)\n",
    "        self.opt_d = torch.optim.Adam(self.discriminator.parameters(), lr=lr,  betas = (0.5, 0.999), weight_decay=0.0)\n",
    "    \n",
    "    def on_epoch_end(self, epoch, G, val_data=None):\n",
    "        \n",
    "        self.logs[\"g_loss\"].append(self.logs[\"cur_g_loss\"] / G)\n",
    "        self.logs[\"d_loss\"].append(self.logs[\"cur_d_loss\"] / G)\n",
    "        \n",
    "        print(f'Epoch {epoch+1} with g_loss: {self.logs[\"cur_g_loss\"] / G} and d_loss: {self.logs[\"cur_d_loss\"] / G}')\n",
    "        \n",
    "        self.logs[\"cur_g_loss\"] = 0\n",
    "        self.logs[\"cur_d_loss\"] = 0\n",
    "        \n",
    "        if epoch % 1 == 0:\n",
    "            \n",
    "            if val_data is not None:\n",
    "                \n",
    "                self.discriminator.eval()\n",
    "                \n",
    "                self.generator.eval()\n",
    "                \n",
    "                val_boards = val_data.bitboards\n",
    "                real_moves = val_data.moves\n",
    "                \n",
    "                #fake_moves_ind = torch.argmax(fake_moves, dim=1)\n",
    "                values = np.zeros(5)\n",
    "                \n",
    "                for i in range(0,len(val_boards), 100):\n",
    "                \n",
    "                    with torch.no_grad():\n",
    "                        \n",
    "                        curr_boards, curr_moves = val_boards[i:i+100], real_moves[i:i+100]\n",
    "    \n",
    "                        fake_moves = self(curr_boards)\n",
    "                                                \n",
    "                        if self.pre_trained:\n",
    "                            \n",
    "                            fake_from_moves = torch.argmax(fake_moves[0], dim=1)\n",
    "                            fake_to_moves = torch.argmax(fake_moves[1], dim=1)\n",
    "                            real_from_moves = torch.argmax(curr_moves[:,0].view(-1,64), dim=1)\n",
    "                            real_to_moves = torch.argmax(curr_moves[:,1].view(-1,64), dim=1)\n",
    "                            values[4] += torch.sum((fake_from_moves == real_from_moves) & (fake_to_moves == real_to_moves)).item()/fake_from_moves.size(0)\n",
    "                        \n",
    "                            fake_moves = self.diffable_argmax_moves(torch.cat([F.softmax(fake_moves[0], dim=1), F.softmax(fake_moves[1], dim=1)], dim=1)).view(-1,2,8,8)\n",
    "\n",
    "                        else:\n",
    "\n",
    "                            fake_moves = self.diffable_argmax_moves(fake_moves).view(-1,2,8,8)\n",
    "\n",
    "\n",
    "                        f_pred = self.discriminator(curr_boards, fake_moves)\n",
    "                        r_pred = self.discriminator(curr_boards, curr_moves)\n",
    "    \n",
    "                        values[0] += torch.mean(torch.round(f_pred) == 0, dtype=torch.float).item() #d_acc_f\n",
    "                        values[1] += torch.mean(torch.round(r_pred) == 1, dtype=torch.float).item() #d_acc_r\n",
    "    \n",
    "                        values[2] += torch.mean(torch.abs(f_pred)) #d_dist_f\n",
    "                        values[3] += torch.mean(torch.abs(1 - r_pred)) #d_dist_r\n",
    "\n",
    "                        if not self.pre_trained:\n",
    "    \n",
    "                            values[4] += torch.mean((curr_moves.view(-1,128) == torch.round(fake_moves).view(-1,128)).all(dim=1), dtype=torch.float).item() # g_acc\n",
    "                                                    \n",
    "                n = int(len(val_boards) // 100)\n",
    "                d_acc_f, d_acc_r = values[0] / n, values[1] / n\n",
    "                d_dist_f, d_dist_r = values[2] / n, values[3] / n\n",
    "                g_acc = values[4] / n\n",
    "                \n",
    "                print(f'Epoch: {epoch+1}, {g_acc=}, {d_acc_f=}, {d_acc_r=}')\n",
    "                print(f\"{d_dist_f=}, {d_dist_r=}\")\n",
    "                \n",
    "                self.logs[\"d_acc_f\"].append(d_acc_f)\n",
    "                self.logs[\"d_acc_r\"].append(d_acc_r)\n",
    "                self.logs[\"d_dist_f\"].append(d_dist_f)\n",
    "                self.logs[\"d_dist_r\"].append(d_dist_r)\n",
    "                self.logs[\"g_acc\"].append(g_acc)\n",
    "                \n",
    "                \n",
    "            if epoch % self.save_every == 0:\n",
    "            \n",
    "                torch.save(self.generator, f\"generator {epoch}.pt\")\n",
    "                torch.save(self.discriminator, f\"discriminator {epoch}.pt\")\n",
    "            \n",
    "    def create_dataloader(self, boards, meta, moves, B, N, N_val):\n",
    "\n",
    "        if self.made_loader:\n",
    "\n",
    "            clear_cuda()\n",
    "            \n",
    "        loader = DataLoader(GANData(boards[:N], meta[:N], moves[:N]), batch_size = B, shuffle = True, generator=torch.Generator(device=device))\n",
    "        val_loader = GANData(boards[N:N+N_val], meta[N:N+N_val], moves[N:N+N_val])\n",
    "        \n",
    "        self.made_loader = True\n",
    "        \n",
    "        return loader, val_loader\n",
    "        \n",
    "\n",
    "        "
   ],
   "metadata": {
    "collapsed": false,
    "ExecuteTime": {
     "end_time": "2024-04-17T03:46:47.785192Z",
     "start_time": "2024-04-17T03:46:47.744546Z"
    }
   },
   "id": "cf3c6fec864d134d",
   "execution_count": 83
  },
  {
   "cell_type": "code",
   "outputs": [],
   "source": [
    "class GANData(Dataset):\n",
    "\n",
    "    def __init__(self, bitboards, white_turn, moves):\n",
    "\n",
    "        self.bitboards = torch.tensor(bitboards, dtype = torch.float).to(device)\n",
    "\n",
    "        self.moves = np.zeros((self.bitboards.size(dim=0), 128))\n",
    "\n",
    "        for ind, move in tqdm(enumerate(moves), total=len(moves)):\n",
    "\n",
    "            minn = move.from_square\n",
    "            ila = move.to_square\n",
    "        \n",
    "            if not white_turn[ind]:\n",
    "                minn = (63 - minn) // 8 * 8 + minn % 8\n",
    "                ila = (63 - ila) // 8 * 8 + ila % 8\n",
    "\n",
    "            self.moves[ind,minn] = 1\n",
    "            self.moves[ind, ila + 64] = 1\n",
    "            \n",
    "            \n",
    "        self.moves = torch.tensor(self.moves.reshape(-1,2,8,8), dtype = torch.float).to(device)\n",
    "\n",
    "    def __len__(self):\n",
    "\n",
    "        return self.moves.size(dim=0)\n",
    "\n",
    "\n",
    "    def __getitem__(self, idx):\n",
    "\n",
    "        return self.bitboards[idx], self.moves[idx]\n",
    "    \n",
    "    "
   ],
   "metadata": {
    "collapsed": false,
    "ExecuteTime": {
     "end_time": "2024-04-17T02:56:30.631698Z",
     "start_time": "2024-04-17T02:56:30.611693Z"
    }
   },
   "id": "4677947170615bf9",
   "execution_count": 12
  },
  {
   "cell_type": "code",
   "outputs": [
    {
     "name": "stdout",
     "output_type": "stream",
     "text": [
      "<class 'torch.Tensor'> torch.Size([64]) cuda:0\n",
      "<class 'torch.nn.parameter.Parameter'> torch.Size([64, 14, 3, 3]) cuda:0\n",
      "<class 'torch.nn.parameter.Parameter'> torch.Size([64]) cuda:0\n",
      "<class 'torch.nn.parameter.Parameter'> torch.Size([128, 4096]) cuda:0\n",
      "<class 'torch.nn.parameter.Parameter'> torch.Size([128]) cuda:0\n",
      "<class 'torch.nn.parameter.Parameter'> torch.Size([64, 64, 3, 3]) cuda:0\n",
      "<class 'torch.nn.parameter.Parameter'> torch.Size([64]) cuda:0\n",
      "<class 'torch.nn.parameter.Parameter'> torch.Size([64]) cuda:0\n",
      "<class 'torch.nn.parameter.Parameter'> torch.Size([64]) cuda:0\n",
      "<class 'torch.Tensor'> torch.Size([64]) cuda:0\n",
      "<class 'torch.Tensor'> torch.Size([64]) cuda:0\n",
      "<class 'torch.Tensor'> torch.Size([]) cuda:0\n",
      "<class 'torch.nn.parameter.Parameter'> torch.Size([64, 64, 3, 3]) cuda:0\n",
      "<class 'torch.nn.parameter.Parameter'> torch.Size([64]) cuda:0\n",
      "<class 'torch.nn.parameter.Parameter'> torch.Size([64]) cuda:0\n",
      "<class 'torch.nn.parameter.Parameter'> torch.Size([64]) cuda:0\n",
      "<class 'torch.Tensor'> torch.Size([64]) cuda:0\n",
      "<class 'torch.Tensor'> torch.Size([64]) cuda:0\n",
      "<class 'torch.Tensor'> torch.Size([]) cuda:0\n",
      "<class 'torch.nn.parameter.Parameter'> torch.Size([64, 64, 3, 3]) cuda:0\n",
      "<class 'torch.nn.parameter.Parameter'> torch.Size([64]) cuda:0\n",
      "<class 'torch.nn.parameter.Parameter'> torch.Size([64]) cuda:0\n",
      "<class 'torch.nn.parameter.Parameter'> torch.Size([64]) cuda:0\n",
      "<class 'torch.Tensor'> torch.Size([64]) cuda:0\n",
      "<class 'torch.Tensor'> torch.Size([64]) cuda:0\n",
      "<class 'torch.Tensor'> torch.Size([]) cuda:0\n",
      "<class 'torch.nn.parameter.Parameter'> torch.Size([64, 64, 3, 3]) cuda:0\n",
      "<class 'torch.nn.parameter.Parameter'> torch.Size([64]) cuda:0\n",
      "<class 'torch.nn.parameter.Parameter'> torch.Size([64]) cuda:0\n",
      "<class 'torch.nn.parameter.Parameter'> torch.Size([64]) cuda:0\n",
      "<class 'torch.Tensor'> torch.Size([64]) cuda:0\n",
      "<class 'torch.Tensor'> torch.Size([64]) cuda:0\n",
      "<class 'torch.Tensor'> torch.Size([]) cuda:0\n",
      "<class 'torch.nn.parameter.Parameter'> torch.Size([64, 64, 3, 3]) cuda:0\n",
      "<class 'torch.nn.parameter.Parameter'> torch.Size([64]) cuda:0\n",
      "<class 'torch.nn.parameter.Parameter'> torch.Size([64]) cuda:0\n",
      "<class 'torch.nn.parameter.Parameter'> torch.Size([64]) cuda:0\n",
      "<class 'torch.Tensor'> torch.Size([64]) cuda:0\n",
      "<class 'torch.Tensor'> torch.Size([64]) cuda:0\n",
      "<class 'torch.Tensor'> torch.Size([]) cuda:0\n",
      "<class 'torch.nn.parameter.Parameter'> torch.Size([64, 64, 3, 3]) cuda:0\n",
      "<class 'torch.nn.parameter.Parameter'> torch.Size([64]) cuda:0\n",
      "<class 'torch.nn.parameter.Parameter'> torch.Size([64]) cuda:0\n",
      "<class 'torch.nn.parameter.Parameter'> torch.Size([64]) cuda:0\n",
      "<class 'torch.Tensor'> torch.Size([64]) cuda:0\n",
      "<class 'torch.Tensor'> torch.Size([64]) cuda:0\n",
      "<class 'torch.Tensor'> torch.Size([]) cuda:0\n",
      "<class 'torch.nn.parameter.Parameter'> torch.Size([64, 64, 3, 3]) cuda:0\n",
      "<class 'torch.nn.parameter.Parameter'> torch.Size([64]) cuda:0\n",
      "<class 'torch.nn.parameter.Parameter'> torch.Size([64]) cuda:0\n",
      "<class 'torch.nn.parameter.Parameter'> torch.Size([64]) cuda:0\n",
      "<class 'torch.Tensor'> torch.Size([64]) cuda:0\n",
      "<class 'torch.Tensor'> torch.Size([64]) cuda:0\n",
      "<class 'torch.Tensor'> torch.Size([]) cuda:0\n",
      "<class 'torch.nn.parameter.Parameter'> torch.Size([64, 64, 3, 3]) cuda:0\n",
      "<class 'torch.nn.parameter.Parameter'> torch.Size([64]) cuda:0\n",
      "<class 'torch.nn.parameter.Parameter'> torch.Size([64]) cuda:0\n",
      "<class 'torch.nn.parameter.Parameter'> torch.Size([64]) cuda:0\n",
      "<class 'torch.Tensor'> torch.Size([64]) cuda:0\n",
      "<class 'torch.Tensor'> torch.Size([64]) cuda:0\n",
      "<class 'torch.Tensor'> torch.Size([]) cuda:0\n",
      "<class 'torch.nn.parameter.Parameter'> torch.Size([64, 64, 3, 3]) cuda:0\n",
      "<class 'torch.nn.parameter.Parameter'> torch.Size([64]) cuda:0\n",
      "<class 'torch.nn.parameter.Parameter'> torch.Size([64]) cuda:0\n",
      "<class 'torch.nn.parameter.Parameter'> torch.Size([64]) cuda:0\n",
      "<class 'torch.Tensor'> torch.Size([64]) cuda:0\n",
      "<class 'torch.Tensor'> torch.Size([64]) cuda:0\n",
      "<class 'torch.Tensor'> torch.Size([]) cuda:0\n",
      "<class 'torch.nn.parameter.Parameter'> torch.Size([64, 64, 3, 3]) cuda:0\n",
      "<class 'torch.nn.parameter.Parameter'> torch.Size([64]) cuda:0\n",
      "<class 'torch.nn.parameter.Parameter'> torch.Size([64]) cuda:0\n",
      "<class 'torch.nn.parameter.Parameter'> torch.Size([64]) cuda:0\n",
      "<class 'torch.Tensor'> torch.Size([64]) cuda:0\n",
      "<class 'torch.Tensor'> torch.Size([64]) cuda:0\n",
      "<class 'torch.Tensor'> torch.Size([]) cuda:0\n",
      "<class 'torch.nn.parameter.Parameter'> torch.Size([64, 64, 3, 3]) cuda:0\n",
      "<class 'torch.nn.parameter.Parameter'> torch.Size([64]) cuda:0\n",
      "<class 'torch.nn.parameter.Parameter'> torch.Size([64]) cuda:0\n",
      "<class 'torch.nn.parameter.Parameter'> torch.Size([64]) cuda:0\n",
      "<class 'torch.Tensor'> torch.Size([64]) cuda:0\n",
      "<class 'torch.Tensor'> torch.Size([64]) cuda:0\n",
      "<class 'torch.Tensor'> torch.Size([]) cuda:0\n",
      "<class 'torch.nn.parameter.Parameter'> torch.Size([64, 64, 3, 3]) cuda:0\n",
      "<class 'torch.nn.parameter.Parameter'> torch.Size([64]) cuda:0\n",
      "<class 'torch.nn.parameter.Parameter'> torch.Size([64]) cuda:0\n",
      "<class 'torch.nn.parameter.Parameter'> torch.Size([64]) cuda:0\n",
      "<class 'torch.Tensor'> torch.Size([64]) cuda:0\n",
      "<class 'torch.Tensor'> torch.Size([64]) cuda:0\n",
      "<class 'torch.Tensor'> torch.Size([]) cuda:0\n",
      "<class 'torch.Tensor'> torch.Size([512, 14, 8, 8]) cuda:0\n",
      "<class 'torch.Tensor'> torch.Size([512, 2, 8, 8]) cuda:0\n",
      "<class 'torch.Tensor'> torch.Size([64]) cuda:0\n",
      "<class 'torch.nn.parameter.Parameter'> torch.Size([64, 14, 3, 3]) cuda:0\n",
      "<class 'torch.nn.parameter.Parameter'> torch.Size([64]) cuda:0\n",
      "<class 'torch.nn.parameter.Parameter'> torch.Size([128, 4096]) cuda:0\n",
      "<class 'torch.nn.parameter.Parameter'> torch.Size([128]) cuda:0\n",
      "<class 'torch.nn.parameter.Parameter'> torch.Size([64, 64, 3, 3]) cuda:0\n",
      "<class 'torch.nn.parameter.Parameter'> torch.Size([64]) cuda:0\n",
      "<class 'torch.nn.parameter.Parameter'> torch.Size([64]) cuda:0\n",
      "<class 'torch.nn.parameter.Parameter'> torch.Size([64]) cuda:0\n",
      "<class 'torch.Tensor'> torch.Size([64]) cuda:0\n",
      "<class 'torch.Tensor'> torch.Size([64]) cuda:0\n",
      "<class 'torch.Tensor'> torch.Size([]) cuda:0\n",
      "<class 'torch.nn.parameter.Parameter'> torch.Size([64, 64, 3, 3]) cuda:0\n",
      "<class 'torch.nn.parameter.Parameter'> torch.Size([64]) cuda:0\n",
      "<class 'torch.nn.parameter.Parameter'> torch.Size([64]) cuda:0\n",
      "<class 'torch.nn.parameter.Parameter'> torch.Size([64]) cuda:0\n",
      "<class 'torch.Tensor'> torch.Size([64]) cuda:0\n",
      "<class 'torch.Tensor'> torch.Size([64]) cuda:0\n",
      "<class 'torch.Tensor'> torch.Size([]) cuda:0\n",
      "<class 'torch.nn.parameter.Parameter'> torch.Size([64, 64, 3, 3]) cuda:0\n",
      "<class 'torch.nn.parameter.Parameter'> torch.Size([64]) cuda:0\n",
      "<class 'torch.nn.parameter.Parameter'> torch.Size([64]) cuda:0\n",
      "<class 'torch.nn.parameter.Parameter'> torch.Size([64]) cuda:0\n",
      "<class 'torch.Tensor'> torch.Size([64]) cuda:0\n",
      "<class 'torch.Tensor'> torch.Size([64]) cuda:0\n",
      "<class 'torch.Tensor'> torch.Size([]) cuda:0\n",
      "<class 'torch.nn.parameter.Parameter'> torch.Size([64, 64, 3, 3]) cuda:0\n",
      "<class 'torch.nn.parameter.Parameter'> torch.Size([64]) cuda:0\n",
      "<class 'torch.nn.parameter.Parameter'> torch.Size([64]) cuda:0\n",
      "<class 'torch.nn.parameter.Parameter'> torch.Size([64]) cuda:0\n",
      "<class 'torch.Tensor'> torch.Size([64]) cuda:0\n",
      "<class 'torch.Tensor'> torch.Size([64]) cuda:0\n",
      "<class 'torch.Tensor'> torch.Size([]) cuda:0\n",
      "<class 'torch.nn.parameter.Parameter'> torch.Size([64, 64, 3, 3]) cuda:0\n",
      "<class 'torch.nn.parameter.Parameter'> torch.Size([64]) cuda:0\n",
      "<class 'torch.nn.parameter.Parameter'> torch.Size([64]) cuda:0\n",
      "<class 'torch.nn.parameter.Parameter'> torch.Size([64]) cuda:0\n",
      "<class 'torch.Tensor'> torch.Size([64]) cuda:0\n",
      "<class 'torch.Tensor'> torch.Size([64]) cuda:0\n",
      "<class 'torch.Tensor'> torch.Size([]) cuda:0\n",
      "<class 'torch.nn.parameter.Parameter'> torch.Size([64, 64, 3, 3]) cuda:0\n",
      "<class 'torch.nn.parameter.Parameter'> torch.Size([64]) cuda:0\n",
      "<class 'torch.nn.parameter.Parameter'> torch.Size([64]) cuda:0\n",
      "<class 'torch.nn.parameter.Parameter'> torch.Size([64]) cuda:0\n",
      "<class 'torch.Tensor'> torch.Size([64]) cuda:0\n",
      "<class 'torch.Tensor'> torch.Size([64]) cuda:0\n",
      "<class 'torch.Tensor'> torch.Size([]) cuda:0\n",
      "<class 'torch.nn.parameter.Parameter'> torch.Size([64, 64, 3, 3]) cuda:0\n",
      "<class 'torch.nn.parameter.Parameter'> torch.Size([64]) cuda:0\n",
      "<class 'torch.nn.parameter.Parameter'> torch.Size([64]) cuda:0\n",
      "<class 'torch.nn.parameter.Parameter'> torch.Size([64]) cuda:0\n",
      "<class 'torch.Tensor'> torch.Size([64]) cuda:0\n",
      "<class 'torch.Tensor'> torch.Size([64]) cuda:0\n",
      "<class 'torch.Tensor'> torch.Size([]) cuda:0\n",
      "<class 'torch.nn.parameter.Parameter'> torch.Size([64, 64, 3, 3]) cuda:0\n",
      "<class 'torch.nn.parameter.Parameter'> torch.Size([64]) cuda:0\n",
      "<class 'torch.nn.parameter.Parameter'> torch.Size([64]) cuda:0\n",
      "<class 'torch.nn.parameter.Parameter'> torch.Size([64]) cuda:0\n",
      "<class 'torch.Tensor'> torch.Size([64]) cuda:0\n",
      "<class 'torch.Tensor'> torch.Size([64]) cuda:0\n",
      "<class 'torch.Tensor'> torch.Size([]) cuda:0\n",
      "<class 'torch.nn.parameter.Parameter'> torch.Size([64, 64, 3, 3]) cuda:0\n",
      "<class 'torch.nn.parameter.Parameter'> torch.Size([64]) cuda:0\n",
      "<class 'torch.nn.parameter.Parameter'> torch.Size([64]) cuda:0\n",
      "<class 'torch.nn.parameter.Parameter'> torch.Size([64]) cuda:0\n",
      "<class 'torch.Tensor'> torch.Size([64]) cuda:0\n",
      "<class 'torch.Tensor'> torch.Size([64]) cuda:0\n",
      "<class 'torch.Tensor'> torch.Size([]) cuda:0\n",
      "<class 'torch.nn.parameter.Parameter'> torch.Size([64, 64, 3, 3]) cuda:0\n",
      "<class 'torch.nn.parameter.Parameter'> torch.Size([64]) cuda:0\n",
      "<class 'torch.nn.parameter.Parameter'> torch.Size([64]) cuda:0\n",
      "<class 'torch.nn.parameter.Parameter'> torch.Size([64]) cuda:0\n",
      "<class 'torch.Tensor'> torch.Size([64]) cuda:0\n",
      "<class 'torch.Tensor'> torch.Size([64]) cuda:0\n",
      "<class 'torch.Tensor'> torch.Size([]) cuda:0\n",
      "<class 'torch.nn.parameter.Parameter'> torch.Size([64, 64, 3, 3]) cuda:0\n",
      "<class 'torch.nn.parameter.Parameter'> torch.Size([64]) cuda:0\n",
      "<class 'torch.nn.parameter.Parameter'> torch.Size([64]) cuda:0\n",
      "<class 'torch.nn.parameter.Parameter'> torch.Size([64]) cuda:0\n",
      "<class 'torch.Tensor'> torch.Size([64]) cuda:0\n",
      "<class 'torch.Tensor'> torch.Size([64]) cuda:0\n",
      "<class 'torch.Tensor'> torch.Size([]) cuda:0\n",
      "<class 'torch.nn.parameter.Parameter'> torch.Size([64, 64, 3, 3]) cuda:0\n",
      "<class 'torch.nn.parameter.Parameter'> torch.Size([64]) cuda:0\n",
      "<class 'torch.nn.parameter.Parameter'> torch.Size([64]) cuda:0\n",
      "<class 'torch.nn.parameter.Parameter'> torch.Size([64]) cuda:0\n",
      "<class 'torch.Tensor'> torch.Size([64]) cuda:0\n",
      "<class 'torch.Tensor'> torch.Size([64]) cuda:0\n",
      "<class 'torch.Tensor'> torch.Size([]) cuda:0\n",
      "<class 'torch.Tensor'> torch.Size([512, 14, 8, 8]) cuda:0\n",
      "<class 'torch.Tensor'> torch.Size([512, 2, 8, 8]) cuda:0\n",
      "<class 'torch.Tensor'> torch.Size([64]) cuda:0\n",
      "<class 'torch.nn.parameter.Parameter'> torch.Size([64, 14, 3, 3]) cuda:0\n",
      "<class 'torch.nn.parameter.Parameter'> torch.Size([64]) cuda:0\n",
      "<class 'torch.nn.parameter.Parameter'> torch.Size([128, 4096]) cuda:0\n",
      "<class 'torch.nn.parameter.Parameter'> torch.Size([128]) cuda:0\n",
      "<class 'torch.nn.parameter.Parameter'> torch.Size([64, 64, 3, 3]) cuda:0\n",
      "<class 'torch.nn.parameter.Parameter'> torch.Size([64]) cuda:0\n",
      "<class 'torch.nn.parameter.Parameter'> torch.Size([64]) cuda:0\n",
      "<class 'torch.nn.parameter.Parameter'> torch.Size([64]) cuda:0\n",
      "<class 'torch.Tensor'> torch.Size([64]) cuda:0\n",
      "<class 'torch.Tensor'> torch.Size([64]) cuda:0\n",
      "<class 'torch.Tensor'> torch.Size([]) cuda:0\n",
      "<class 'torch.nn.parameter.Parameter'> torch.Size([64, 64, 3, 3]) cuda:0\n",
      "<class 'torch.nn.parameter.Parameter'> torch.Size([64]) cuda:0\n",
      "<class 'torch.nn.parameter.Parameter'> torch.Size([64]) cuda:0\n",
      "<class 'torch.nn.parameter.Parameter'> torch.Size([64]) cuda:0\n",
      "<class 'torch.Tensor'> torch.Size([64]) cuda:0\n",
      "<class 'torch.Tensor'> torch.Size([64]) cuda:0\n",
      "<class 'torch.Tensor'> torch.Size([]) cuda:0\n",
      "<class 'torch.nn.parameter.Parameter'> torch.Size([64, 64, 3, 3]) cuda:0\n",
      "<class 'torch.nn.parameter.Parameter'> torch.Size([64]) cuda:0\n",
      "<class 'torch.nn.parameter.Parameter'> torch.Size([64]) cuda:0\n",
      "<class 'torch.nn.parameter.Parameter'> torch.Size([64]) cuda:0\n",
      "<class 'torch.Tensor'> torch.Size([64]) cuda:0\n",
      "<class 'torch.Tensor'> torch.Size([64]) cuda:0\n",
      "<class 'torch.Tensor'> torch.Size([]) cuda:0\n",
      "<class 'torch.nn.parameter.Parameter'> torch.Size([64, 64, 3, 3]) cuda:0\n",
      "<class 'torch.nn.parameter.Parameter'> torch.Size([64]) cuda:0\n",
      "<class 'torch.nn.parameter.Parameter'> torch.Size([64]) cuda:0\n",
      "<class 'torch.nn.parameter.Parameter'> torch.Size([64]) cuda:0\n",
      "<class 'torch.Tensor'> torch.Size([64]) cuda:0\n",
      "<class 'torch.Tensor'> torch.Size([64]) cuda:0\n",
      "<class 'torch.Tensor'> torch.Size([]) cuda:0\n",
      "<class 'torch.nn.parameter.Parameter'> torch.Size([64, 64, 3, 3]) cuda:0\n",
      "<class 'torch.nn.parameter.Parameter'> torch.Size([64]) cuda:0\n",
      "<class 'torch.nn.parameter.Parameter'> torch.Size([64]) cuda:0\n",
      "<class 'torch.nn.parameter.Parameter'> torch.Size([64]) cuda:0\n",
      "<class 'torch.Tensor'> torch.Size([64]) cuda:0\n",
      "<class 'torch.Tensor'> torch.Size([64]) cuda:0\n",
      "<class 'torch.Tensor'> torch.Size([]) cuda:0\n",
      "<class 'torch.nn.parameter.Parameter'> torch.Size([64, 64, 3, 3]) cuda:0\n",
      "<class 'torch.nn.parameter.Parameter'> torch.Size([64]) cuda:0\n",
      "<class 'torch.nn.parameter.Parameter'> torch.Size([64]) cuda:0\n",
      "<class 'torch.nn.parameter.Parameter'> torch.Size([64]) cuda:0\n",
      "<class 'torch.Tensor'> torch.Size([64]) cuda:0\n",
      "<class 'torch.Tensor'> torch.Size([64]) cuda:0\n",
      "<class 'torch.Tensor'> torch.Size([]) cuda:0\n",
      "<class 'torch.nn.parameter.Parameter'> torch.Size([64, 64, 3, 3]) cuda:0\n",
      "<class 'torch.nn.parameter.Parameter'> torch.Size([64]) cuda:0\n",
      "<class 'torch.nn.parameter.Parameter'> torch.Size([64]) cuda:0\n",
      "<class 'torch.nn.parameter.Parameter'> torch.Size([64]) cuda:0\n",
      "<class 'torch.Tensor'> torch.Size([64]) cuda:0\n",
      "<class 'torch.Tensor'> torch.Size([64]) cuda:0\n",
      "<class 'torch.Tensor'> torch.Size([]) cuda:0\n",
      "<class 'torch.nn.parameter.Parameter'> torch.Size([64, 64, 3, 3]) cuda:0\n",
      "<class 'torch.nn.parameter.Parameter'> torch.Size([64]) cuda:0\n",
      "<class 'torch.nn.parameter.Parameter'> torch.Size([64]) cuda:0\n",
      "<class 'torch.nn.parameter.Parameter'> torch.Size([64]) cuda:0\n",
      "<class 'torch.Tensor'> torch.Size([64]) cuda:0\n",
      "<class 'torch.Tensor'> torch.Size([64]) cuda:0\n",
      "<class 'torch.Tensor'> torch.Size([]) cuda:0\n",
      "<class 'torch.nn.parameter.Parameter'> torch.Size([64, 64, 3, 3]) cuda:0\n",
      "<class 'torch.nn.parameter.Parameter'> torch.Size([64]) cuda:0\n",
      "<class 'torch.nn.parameter.Parameter'> torch.Size([64]) cuda:0\n",
      "<class 'torch.nn.parameter.Parameter'> torch.Size([64]) cuda:0\n",
      "<class 'torch.Tensor'> torch.Size([64]) cuda:0\n",
      "<class 'torch.Tensor'> torch.Size([64]) cuda:0\n",
      "<class 'torch.Tensor'> torch.Size([]) cuda:0\n",
      "<class 'torch.nn.parameter.Parameter'> torch.Size([64, 64, 3, 3]) cuda:0\n",
      "<class 'torch.nn.parameter.Parameter'> torch.Size([64]) cuda:0\n",
      "<class 'torch.nn.parameter.Parameter'> torch.Size([64]) cuda:0\n",
      "<class 'torch.nn.parameter.Parameter'> torch.Size([64]) cuda:0\n",
      "<class 'torch.Tensor'> torch.Size([64]) cuda:0\n",
      "<class 'torch.Tensor'> torch.Size([64]) cuda:0\n",
      "<class 'torch.Tensor'> torch.Size([]) cuda:0\n",
      "<class 'torch.nn.parameter.Parameter'> torch.Size([64, 64, 3, 3]) cuda:0\n",
      "<class 'torch.nn.parameter.Parameter'> torch.Size([64]) cuda:0\n",
      "<class 'torch.nn.parameter.Parameter'> torch.Size([64]) cuda:0\n",
      "<class 'torch.nn.parameter.Parameter'> torch.Size([64]) cuda:0\n",
      "<class 'torch.Tensor'> torch.Size([64]) cuda:0\n",
      "<class 'torch.Tensor'> torch.Size([64]) cuda:0\n",
      "<class 'torch.Tensor'> torch.Size([]) cuda:0\n",
      "<class 'torch.nn.parameter.Parameter'> torch.Size([64, 64, 3, 3]) cuda:0\n",
      "<class 'torch.nn.parameter.Parameter'> torch.Size([64]) cuda:0\n",
      "<class 'torch.nn.parameter.Parameter'> torch.Size([64]) cuda:0\n",
      "<class 'torch.nn.parameter.Parameter'> torch.Size([64]) cuda:0\n",
      "<class 'torch.Tensor'> torch.Size([64]) cuda:0\n",
      "<class 'torch.Tensor'> torch.Size([64]) cuda:0\n",
      "<class 'torch.Tensor'> torch.Size([]) cuda:0\n",
      "<class 'torch.Tensor'> torch.Size([512, 14, 8, 8]) cuda:0\n",
      "<class 'torch.Tensor'> torch.Size([512, 2, 8, 8]) cuda:0\n",
      "<class 'torch.Tensor'> torch.Size([64]) cuda:0\n",
      "<class 'torch.nn.parameter.Parameter'> torch.Size([64, 14, 3, 3]) cuda:0\n",
      "<class 'torch.nn.parameter.Parameter'> torch.Size([64]) cuda:0\n",
      "<class 'torch.nn.parameter.Parameter'> torch.Size([128, 4096]) cuda:0\n",
      "<class 'torch.nn.parameter.Parameter'> torch.Size([128]) cuda:0\n",
      "<class 'torch.nn.parameter.Parameter'> torch.Size([64, 64, 3, 3]) cuda:0\n",
      "<class 'torch.nn.parameter.Parameter'> torch.Size([64]) cuda:0\n",
      "<class 'torch.nn.parameter.Parameter'> torch.Size([64]) cuda:0\n",
      "<class 'torch.nn.parameter.Parameter'> torch.Size([64]) cuda:0\n",
      "<class 'torch.Tensor'> torch.Size([64]) cuda:0\n",
      "<class 'torch.Tensor'> torch.Size([64]) cuda:0\n",
      "<class 'torch.Tensor'> torch.Size([]) cuda:0\n",
      "<class 'torch.nn.parameter.Parameter'> torch.Size([64, 64, 3, 3]) cuda:0\n",
      "<class 'torch.nn.parameter.Parameter'> torch.Size([64]) cuda:0\n",
      "<class 'torch.nn.parameter.Parameter'> torch.Size([64]) cuda:0\n",
      "<class 'torch.nn.parameter.Parameter'> torch.Size([64]) cuda:0\n",
      "<class 'torch.Tensor'> torch.Size([64]) cuda:0\n",
      "<class 'torch.Tensor'> torch.Size([64]) cuda:0\n",
      "<class 'torch.Tensor'> torch.Size([]) cuda:0\n",
      "<class 'torch.nn.parameter.Parameter'> torch.Size([64, 64, 3, 3]) cuda:0\n",
      "<class 'torch.nn.parameter.Parameter'> torch.Size([64]) cuda:0\n",
      "<class 'torch.nn.parameter.Parameter'> torch.Size([64]) cuda:0\n",
      "<class 'torch.nn.parameter.Parameter'> torch.Size([64]) cuda:0\n",
      "<class 'torch.Tensor'> torch.Size([64]) cuda:0\n",
      "<class 'torch.Tensor'> torch.Size([64]) cuda:0\n",
      "<class 'torch.Tensor'> torch.Size([]) cuda:0\n",
      "<class 'torch.nn.parameter.Parameter'> torch.Size([64, 64, 3, 3]) cuda:0\n",
      "<class 'torch.nn.parameter.Parameter'> torch.Size([64]) cuda:0\n",
      "<class 'torch.nn.parameter.Parameter'> torch.Size([64]) cuda:0\n",
      "<class 'torch.nn.parameter.Parameter'> torch.Size([64]) cuda:0\n",
      "<class 'torch.Tensor'> torch.Size([64]) cuda:0\n",
      "<class 'torch.Tensor'> torch.Size([64]) cuda:0\n",
      "<class 'torch.Tensor'> torch.Size([]) cuda:0\n",
      "<class 'torch.nn.parameter.Parameter'> torch.Size([64, 64, 3, 3]) cuda:0\n",
      "<class 'torch.nn.parameter.Parameter'> torch.Size([64]) cuda:0\n",
      "<class 'torch.nn.parameter.Parameter'> torch.Size([64]) cuda:0\n",
      "<class 'torch.nn.parameter.Parameter'> torch.Size([64]) cuda:0\n",
      "<class 'torch.Tensor'> torch.Size([64]) cuda:0\n",
      "<class 'torch.Tensor'> torch.Size([64]) cuda:0\n",
      "<class 'torch.Tensor'> torch.Size([]) cuda:0\n",
      "<class 'torch.nn.parameter.Parameter'> torch.Size([64, 64, 3, 3]) cuda:0\n",
      "<class 'torch.nn.parameter.Parameter'> torch.Size([64]) cuda:0\n",
      "<class 'torch.nn.parameter.Parameter'> torch.Size([64]) cuda:0\n",
      "<class 'torch.nn.parameter.Parameter'> torch.Size([64]) cuda:0\n",
      "<class 'torch.Tensor'> torch.Size([64]) cuda:0\n",
      "<class 'torch.Tensor'> torch.Size([64]) cuda:0\n",
      "<class 'torch.Tensor'> torch.Size([]) cuda:0\n",
      "<class 'torch.nn.parameter.Parameter'> torch.Size([64, 64, 3, 3]) cuda:0\n",
      "<class 'torch.nn.parameter.Parameter'> torch.Size([64]) cuda:0\n",
      "<class 'torch.nn.parameter.Parameter'> torch.Size([64]) cuda:0\n",
      "<class 'torch.nn.parameter.Parameter'> torch.Size([64]) cuda:0\n",
      "<class 'torch.Tensor'> torch.Size([64]) cuda:0\n",
      "<class 'torch.Tensor'> torch.Size([64]) cuda:0\n",
      "<class 'torch.Tensor'> torch.Size([]) cuda:0\n",
      "<class 'torch.nn.parameter.Parameter'> torch.Size([64, 64, 3, 3]) cuda:0\n",
      "<class 'torch.nn.parameter.Parameter'> torch.Size([64]) cuda:0\n",
      "<class 'torch.nn.parameter.Parameter'> torch.Size([64]) cuda:0\n",
      "<class 'torch.nn.parameter.Parameter'> torch.Size([64]) cuda:0\n",
      "<class 'torch.Tensor'> torch.Size([64]) cuda:0\n",
      "<class 'torch.Tensor'> torch.Size([64]) cuda:0\n",
      "<class 'torch.Tensor'> torch.Size([]) cuda:0\n",
      "<class 'torch.nn.parameter.Parameter'> torch.Size([64, 64, 3, 3]) cuda:0\n",
      "<class 'torch.nn.parameter.Parameter'> torch.Size([64]) cuda:0\n",
      "<class 'torch.nn.parameter.Parameter'> torch.Size([64]) cuda:0\n",
      "<class 'torch.nn.parameter.Parameter'> torch.Size([64]) cuda:0\n",
      "<class 'torch.Tensor'> torch.Size([64]) cuda:0\n",
      "<class 'torch.Tensor'> torch.Size([64]) cuda:0\n",
      "<class 'torch.Tensor'> torch.Size([]) cuda:0\n",
      "<class 'torch.nn.parameter.Parameter'> torch.Size([64, 64, 3, 3]) cuda:0\n",
      "<class 'torch.nn.parameter.Parameter'> torch.Size([64]) cuda:0\n",
      "<class 'torch.nn.parameter.Parameter'> torch.Size([64]) cuda:0\n",
      "<class 'torch.nn.parameter.Parameter'> torch.Size([64]) cuda:0\n",
      "<class 'torch.Tensor'> torch.Size([64]) cuda:0\n",
      "<class 'torch.Tensor'> torch.Size([64]) cuda:0\n",
      "<class 'torch.Tensor'> torch.Size([]) cuda:0\n",
      "<class 'torch.nn.parameter.Parameter'> torch.Size([64, 64, 3, 3]) cuda:0\n",
      "<class 'torch.nn.parameter.Parameter'> torch.Size([64]) cuda:0\n",
      "<class 'torch.nn.parameter.Parameter'> torch.Size([64]) cuda:0\n",
      "<class 'torch.nn.parameter.Parameter'> torch.Size([64]) cuda:0\n",
      "<class 'torch.Tensor'> torch.Size([64]) cuda:0\n",
      "<class 'torch.Tensor'> torch.Size([64]) cuda:0\n",
      "<class 'torch.Tensor'> torch.Size([]) cuda:0\n",
      "<class 'torch.nn.parameter.Parameter'> torch.Size([64, 64, 3, 3]) cuda:0\n",
      "<class 'torch.nn.parameter.Parameter'> torch.Size([64]) cuda:0\n",
      "<class 'torch.nn.parameter.Parameter'> torch.Size([64]) cuda:0\n",
      "<class 'torch.nn.parameter.Parameter'> torch.Size([64]) cuda:0\n",
      "<class 'torch.Tensor'> torch.Size([64]) cuda:0\n",
      "<class 'torch.Tensor'> torch.Size([64]) cuda:0\n",
      "<class 'torch.Tensor'> torch.Size([]) cuda:0\n",
      "<class 'torch.Tensor'> torch.Size([512, 14, 8, 8]) cuda:0\n",
      "<class 'torch.Tensor'> torch.Size([512, 2, 8, 8]) cuda:0\n"
     ]
    }
   ],
   "source": [
    "for _ in range(4): clear_cuda()"
   ],
   "metadata": {
    "collapsed": false,
    "ExecuteTime": {
     "end_time": "2024-04-12T17:56:04.474779Z",
     "start_time": "2024-04-12T17:55:55.119667Z"
    }
   },
   "id": "e99e721a3307a923",
   "execution_count": 126
  },
  {
   "cell_type": "code",
   "outputs": [],
   "source": [
    "del RSv1"
   ],
   "metadata": {
    "collapsed": false,
    "ExecuteTime": {
     "end_time": "2024-04-17T03:45:02.421837Z",
     "start_time": "2024-04-17T03:45:02.410836Z"
    }
   },
   "id": "4e0029868663dd9c",
   "execution_count": 77
  },
  {
   "cell_type": "code",
   "outputs": [],
   "source": [
    "del loader\n",
    "del val_data"
   ],
   "metadata": {
    "collapsed": false,
    "ExecuteTime": {
     "end_time": "2024-04-12T20:50:39.309749Z",
     "start_time": "2024-04-12T20:50:39.304767Z"
    }
   },
   "id": "620dd96bb49cfb95",
   "execution_count": 30
  },
  {
   "cell_type": "code",
   "outputs": [
    {
     "name": "stdout",
     "output_type": "stream",
     "text": [
      "cuda\n"
     ]
    }
   ],
   "source": [
    "RSv1 = GAN_1(g_conv_depth=6, d_conv_depth=6, lr=0.0002, pre_trained_g=RDv2).to(device)"
   ],
   "metadata": {
    "ExecuteTime": {
     "end_time": "2024-04-12T23:49:19.388732Z",
     "start_time": "2024-04-12T23:49:19.369794Z"
    }
   },
   "id": "6b0cc09a",
   "execution_count": 98
  },
  {
   "cell_type": "code",
   "outputs": [
    {
     "name": "stderr",
     "output_type": "stream",
     "text": [
      "100%|██████████| 1742128/1742128 [00:02<00:00, 713164.65it/s]\n",
      "100%|██████████| 4000/4000 [00:00<00:00, 364856.93it/s]\n"
     ]
    }
   ],
   "source": [
    "loader, val_data = RSv1.create_dataloader(boards, meta, moves, B = 128, N=len(boards)-4_001, N_val=4_000) # try B = 128\n",
    "G = len(loader)"
   ],
   "metadata": {
    "collapsed": false,
    "ExecuteTime": {
     "end_time": "2024-04-12T20:52:08.190296Z",
     "start_time": "2024-04-12T20:51:24.329331Z"
    }
   },
   "id": "813dd34e6b3493d9",
   "execution_count": 34
  },
  {
   "cell_type": "code",
   "outputs": [
    {
     "data": {
      "text/plain": "0"
     },
     "execution_count": 97,
     "metadata": {},
     "output_type": "execute_result"
    }
   ],
   "source": [
    "torch.cuda.empty_cache()\n",
    "gc.collect()"
   ],
   "metadata": {
    "collapsed": false,
    "ExecuteTime": {
     "end_time": "2024-04-12T23:49:11.169828Z",
     "start_time": "2024-04-12T23:49:10.084685Z"
    }
   },
   "id": "d7a7619c0d741a1f",
   "execution_count": 97
  },
  {
   "cell_type": "code",
   "outputs": [],
   "source": [
    "del RSv1.discriminator\n",
    "\n",
    "RSv1.discriminator = discriminator_1(conv_depth=4)\n",
    "RSv1.configure_optimizers(0.001)"
   ],
   "metadata": {
    "collapsed": false,
    "ExecuteTime": {
     "end_time": "2024-04-02T04:39:55.040593Z",
     "start_time": "2024-04-02T04:39:55.018509Z"
    }
   },
   "id": "ae05e0141e2312f6",
   "execution_count": 80
  },
  {
   "cell_type": "code",
   "outputs": [],
   "source": [
    "del RSv1.generator\n",
    "\n",
    "RSv1.generator = generator_1(conv_depth=6)\n",
    "RSv1.configure_optimizers(0.0002)"
   ],
   "metadata": {
    "collapsed": false,
    "ExecuteTime": {
     "end_time": "2024-04-07T03:44:52.994668Z",
     "start_time": "2024-04-07T03:44:52.982663Z"
    }
   },
   "id": "4422e84a0c20287d",
   "execution_count": 35
  },
  {
   "cell_type": "code",
   "outputs": [],
   "source": [
    "train_discriminator = False\n",
    "train_all = True\n",
    "train_generator = False"
   ],
   "metadata": {
    "collapsed": false,
    "ExecuteTime": {
     "end_time": "2024-04-12T23:49:28.394522Z",
     "start_time": "2024-04-12T23:49:28.380504Z"
    }
   },
   "id": "2eb6651643a9eb0b",
   "execution_count": 100
  },
  {
   "cell_type": "code",
   "outputs": [
    {
     "data": {
      "text/plain": "True"
     },
     "execution_count": 101,
     "metadata": {},
     "output_type": "execute_result"
    }
   ],
   "source": [
    "r_bound, f_bound = 0.75,0.7\n",
    "not (RSv1.logs['d_acc_f'][-1] > f_bound and RSv1.logs['d_acc_r'][-1] > r_bound)"
   ],
   "metadata": {
    "collapsed": false,
    "ExecuteTime": {
     "end_time": "2024-04-12T23:49:28.549736Z",
     "start_time": "2024-04-12T23:49:28.536780Z"
    }
   },
   "id": "e66ef50aff6d08d6",
   "execution_count": 101
  },
  {
   "cell_type": "code",
   "outputs": [],
   "source": [
    "for epoch in range(0,50):\n",
    "\n",
    "    reps = 0\n",
    "\n",
    "    if train_all or train_discriminator:\n",
    "        prev_generator = None\n",
    "\n",
    "        if epoch > RSv1.save_every + 1 and not (RSv1.logs['d_acc_f'][-1] > f_bound and RSv1.logs['d_acc_r'][-1] > r_bound):\n",
    "            choice = np.random.choice(np.arange(start=RSv1.save_every, stop= (epoch//(RSv1.save_every+1) * RSv1.save_every)+1, step = RSv1.save_every))\n",
    "\n",
    "            prev_generator = torch.load(f'generator {choice}.pt', map_location= device)\n",
    "    \n",
    "        while not (RSv1.logs['d_acc_f'][-1] > f_bound and RSv1.logs['d_acc_r'][-1] > r_bound):\n",
    "            \n",
    "            reps += 1\n",
    "            if reps > 20:\n",
    "                train_all = False\n",
    "                train_discriminator = False\n",
    "                train_generator = False\n",
    "                break\n",
    "\n",
    "            i=0\n",
    "            \n",
    "            for bitboards, mvs in tqdm(loader):\n",
    "                if i > G // 1:\n",
    "                    break\n",
    "                RSv1.train_step(bitboards, mvs, train_generator=False, prev_generator=prev_generator)\n",
    "                i += 1\n",
    "\n",
    "            print('Discriminator Training')\n",
    "            RSv1.on_epoch_end(epoch, G, val_data)\n",
    "\n",
    "\n",
    "    reps = 0\n",
    "    if train_all or train_generator:\n",
    "        \n",
    "        while (RSv1.logs['d_acc_f'][-1] > f_bound and RSv1.logs['d_acc_r'][-1] > r_bound):\n",
    "            reps += 1\n",
    "            if reps > 20:\n",
    "                train_all = False\n",
    "                train_generator = False\n",
    "                train_discriminator = False\n",
    "                break\n",
    "\n",
    "            i=0\n",
    "            for bitboards, mvs in tqdm(loader):\n",
    "\n",
    "                if i > G // 1:\n",
    "                   break\n",
    "\n",
    "                RSv1.train_step(bitboards, mvs, train_generator=True)\n",
    "                i += 1\n",
    "            \n",
    "            print('Generator Training')\n",
    "            RSv1.on_epoch_end(epoch, G, val_data)\n",
    "            \n",
    "        "
   ],
   "metadata": {
    "collapsed": false
   },
   "id": "68ecb55a7a2f10f5",
   "execution_count": null
  },
  {
   "cell_type": "code",
   "outputs": [],
   "source": [
    "RSv1_generator = torch.load(\"generator 45.pt\", map_location= device)\n",
    "#old_discriminator = torch.load(\"discriminator 15.pt\")"
   ],
   "metadata": {
    "collapsed": false
   },
   "id": "2aa444e6c058731b",
   "execution_count": null
  },
  {
   "cell_type": "code",
   "outputs": [],
   "source": [
    "test_against(old_generator_model, generator_model, N=200)"
   ],
   "metadata": {},
   "id": "aa4d829c",
   "execution_count": null
  },
  {
   "cell_type": "code",
   "outputs": [],
   "source": [
    "generator_model(chess.Board())"
   ],
   "metadata": {
    "collapsed": false
   },
   "id": "cc93984f71ed13d8",
   "execution_count": null
  },
  {
   "cell_type": "code",
   "outputs": [],
   "source": [
    "old_generator_model = lambda x: network_agent_prob_conv(x, lambda y: RDv2(y))\n",
    "generator_model = lambda x: network_agent_prob_conv(x, lambda y: (RSv1.generator(y)[:,:64], RSv1.generator(y)[:,64:]))"
   ],
   "metadata": {
    "collapsed": false,
    "ExecuteTime": {
     "end_time": "2024-04-17T00:20:38.602179Z",
     "start_time": "2024-04-17T00:20:38.585941Z"
    }
   },
   "id": "30a042950898223c",
   "execution_count": 45
  },
  {
   "cell_type": "code",
   "outputs": [],
   "source": [
    "test_disc = torch.load(\"discriminator 15.pt\", map_location=device)"
   ],
   "metadata": {
    "collapsed": false,
    "ExecuteTime": {
     "end_time": "2024-04-10T14:41:42.762326Z",
     "start_time": "2024-04-10T14:41:42.686776Z"
    }
   },
   "id": "b5c4df16ccf6e134",
   "execution_count": 11
  },
  {
   "cell_type": "code",
   "outputs": [
    {
     "data": {
      "text/plain": "tensor(0.0005, grad_fn=<MeanBackward0>)"
     },
     "execution_count": 28,
     "metadata": {},
     "output_type": "execute_result"
    }
   ],
   "source": [
    "fake_moves = test_gen(val_data.bitboards)\n",
    "\n",
    "fake_moves = F.softmax(fake_moves[0], dim=1), F.softmax(fake_moves[1], dim=1)\n",
    "fake_moves = torch.cat(fake_moves,dim=1).view(-1,2,8,8).detach()\n",
    "\n",
    "torch.mean(test_disc(val_data.bitboards, fake_moves))"
   ],
   "metadata": {
    "collapsed": false,
    "ExecuteTime": {
     "end_time": "2024-04-10T14:46:10.415520Z",
     "start_time": "2024-04-10T14:46:10.209158Z"
    }
   },
   "id": "b70ad01c0b8d0347",
   "execution_count": 28
  },
  {
   "cell_type": "code",
   "outputs": [],
   "source": [
    "test_gen = torch.load(\"Models/RDv2.3 CB.pt\", map_location=device)"
   ],
   "metadata": {
    "collapsed": false,
    "ExecuteTime": {
     "end_time": "2024-04-10T21:27:17.388711Z",
     "start_time": "2024-04-10T21:27:17.352407Z"
    }
   },
   "id": "d053853b7b8f8332",
   "execution_count": 76
  },
  {
   "cell_type": "code",
   "outputs": [
    {
     "name": "stdout",
     "output_type": "stream",
     "text": [
      "tensor([[[0., 0., 0., 0., 0., 0., 0., 0.],\n",
      "         [0., 0., 0., 0., 1., 0., 0., 0.],\n",
      "         [0., 0., 0., 0., 0., 0., 0., 0.],\n",
      "         [0., 0., 0., 0., 0., 0., 0., 0.],\n",
      "         [0., 0., 0., 0., 0., 0., 0., 0.],\n",
      "         [0., 0., 0., 0., 0., 0., 0., 0.],\n",
      "         [0., 0., 0., 0., 0., 0., 0., 0.],\n",
      "         [0., 0., 0., 0., 0., 0., 0., 0.]],\n",
      "\n",
      "        [[0., 0., 0., 0., 0., 0., 0., 0.],\n",
      "         [0., 0., 0., 0., 0., 0., 0., 0.],\n",
      "         [0., 0., 0., 0., 0., 0., 0., 0.],\n",
      "         [0., 0., 0., 0., 0., 0., 0., 0.],\n",
      "         [0., 0., 0., 0., 1., 0., 0., 0.],\n",
      "         [0., 0., 0., 0., 0., 0., 0., 0.],\n",
      "         [0., 0., 0., 0., 0., 0., 0., 0.],\n",
      "         [0., 0., 0., 0., 0., 0., 0., 0.]]])\n"
     ]
    }
   ],
   "source": [
    "fake_moves = RSv1(val_data.bitboards[:100])\n",
    "\n",
    "fake_moves = F.softmax(fake_moves[0], dim=1), F.softmax(fake_moves[1], dim=1)\n",
    "fake_moves = RSv1.diffable_argmax_moves(torch.cat(fake_moves,dim=1)).view(-1,2,8,8).detach()\n",
    "print(fake_moves[0])"
   ],
   "metadata": {
    "collapsed": false,
    "ExecuteTime": {
     "end_time": "2024-04-12T18:27:43.396185Z",
     "start_time": "2024-04-12T18:27:43.362596Z"
    }
   },
   "id": "f3ef8c313939e0e3",
   "execution_count": 21
  },
  {
   "cell_type": "code",
   "outputs": [
    {
     "ename": "TypeError",
     "evalue": "eval() takes 1 positional argument but 2 were given",
     "output_type": "error",
     "traceback": [
      "\u001B[1;31m---------------------------------------------------------------------------\u001B[0m",
      "\u001B[1;31mTypeError\u001B[0m                                 Traceback (most recent call last)",
      "Input \u001B[1;32mIn [61]\u001B[0m, in \u001B[0;36m<cell line: 1>\u001B[1;34m()\u001B[0m\n\u001B[1;32m----> 1\u001B[0m \u001B[43mRSv1\u001B[49m\u001B[38;5;241;43m.\u001B[39;49m\u001B[43mdiscriminator\u001B[49m\u001B[38;5;241;43m.\u001B[39;49m\u001B[43meval\u001B[49m\u001B[43m(\u001B[49m\u001B[43m(\u001B[49m\u001B[43mval_data\u001B[49m\u001B[38;5;241;43m.\u001B[39;49m\u001B[43mbitboards\u001B[49m\u001B[43m[\u001B[49m\u001B[38;5;241;43m0\u001B[39;49m\u001B[43m:\u001B[49m\u001B[38;5;241;43m1\u001B[39;49m\u001B[43m]\u001B[49m\u001B[43m,\u001B[49m\u001B[43m \u001B[49m\u001B[43mfake_moves\u001B[49m\u001B[43m[\u001B[49m\u001B[38;5;241;43m0\u001B[39;49m\u001B[43m:\u001B[49m\u001B[38;5;241;43m1\u001B[39;49m\u001B[43m]\u001B[49m\u001B[43m)\u001B[49m\u001B[43m)\u001B[49m\n",
      "\u001B[1;31mTypeError\u001B[0m: eval() takes 1 positional argument but 2 were given"
     ]
    }
   ],
   "source": [
    "RSv1.discriminator(val_data.bitboards[0:1], fake_moves[0:1])"
   ],
   "metadata": {
    "collapsed": false,
    "ExecuteTime": {
     "end_time": "2024-04-12T18:36:58.416838Z",
     "start_time": "2024-04-12T18:36:58.391413Z"
    }
   },
   "id": "51bed9a51aad48ea",
   "execution_count": 61
  },
  {
   "cell_type": "code",
   "outputs": [],
   "source": [
    "new_val = torch.round(fake_moves[0:1])"
   ],
   "metadata": {
    "collapsed": false,
    "ExecuteTime": {
     "end_time": "2024-04-10T16:01:57.041354Z",
     "start_time": "2024-04-10T16:01:57.035064Z"
    }
   },
   "id": "1368277752f4ce7a",
   "execution_count": 115
  },
  {
   "cell_type": "code",
   "outputs": [],
   "source": [
    "counter = 13"
   ],
   "metadata": {
    "collapsed": false,
    "ExecuteTime": {
     "end_time": "2024-04-12T18:30:51.114598Z",
     "start_time": "2024-04-12T18:30:51.102530Z"
    }
   },
   "id": "a7d9459c95ef974",
   "execution_count": 49
  },
  {
   "cell_type": "code",
   "outputs": [
    {
     "data": {
      "text/plain": "tensor(False)"
     },
     "execution_count": 50,
     "metadata": {},
     "output_type": "execute_result"
    }
   ],
   "source": [
    "torch.all(val_data.moves[counter] == fake_moves[counter])"
   ],
   "metadata": {
    "collapsed": false,
    "ExecuteTime": {
     "end_time": "2024-04-12T18:30:51.491947Z",
     "start_time": "2024-04-12T18:30:51.473440Z"
    }
   },
   "id": "b391aaf64f72620e",
   "execution_count": 50
  },
  {
   "cell_type": "code",
   "outputs": [
    {
     "data": {
      "text/plain": "torch.Size([1, 14, 8, 8])"
     },
     "execution_count": 58,
     "metadata": {},
     "output_type": "execute_result"
    }
   ],
   "source": [
    "val_data.bitboards[0:1].shape"
   ],
   "metadata": {
    "collapsed": false,
    "ExecuteTime": {
     "end_time": "2024-04-12T18:32:38.844551Z",
     "start_time": "2024-04-12T18:32:38.831248Z"
    }
   },
   "id": "6f5f9b6045d2e7b6",
   "execution_count": 58
  },
  {
   "cell_type": "code",
   "outputs": [
    {
     "data": {
      "text/plain": "tensor([[3.5519e-03],\n        [1.9832e-03],\n        [5.9222e-08]], grad_fn=<SigmoidBackward0>)"
     },
     "execution_count": 62,
     "metadata": {},
     "output_type": "execute_result"
    }
   ],
   "source": [
    "RSv1.discriminator.eval()\n",
    "RSv1.discriminator(val_data.bitboards[counter:counter+3], val_data.moves[counter:counter+3])"
   ],
   "metadata": {
    "collapsed": false,
    "ExecuteTime": {
     "end_time": "2024-04-12T18:37:53.156882Z",
     "start_time": "2024-04-12T18:37:53.132964Z"
    }
   },
   "id": "2422f3394ea7dc0a",
   "execution_count": 62
  },
  {
   "cell_type": "code",
   "outputs": [
    {
     "data": {
      "text/plain": "tensor([[0.0024]], grad_fn=<SigmoidBackward0>)"
     },
     "execution_count": 63,
     "metadata": {},
     "output_type": "execute_result"
    }
   ],
   "source": [
    "RSv1.discriminator(val_data.bitboards[counter:counter+1], fake_moves[counter:counter+1])"
   ],
   "metadata": {
    "collapsed": false,
    "ExecuteTime": {
     "end_time": "2024-04-12T18:38:14.629310Z",
     "start_time": "2024-04-12T18:38:14.609377Z"
    }
   },
   "id": "fa73b6c3a8683cf0",
   "execution_count": 63
  },
  {
   "cell_type": "markdown",
   "source": [
    "# Stockfish GAN"
   ],
   "metadata": {
    "collapsed": false
   },
   "id": "e4bc343b0b178b4c"
  },
  {
   "cell_type": "code",
   "outputs": [],
   "source": [
    "def load_stockfish_data(N=2_000_000):\n",
    "    \n",
    "    file_path = \"Data/StockData.csv\"\n",
    "    epsilon = 1e-5\n",
    "    \n",
    "    df = pd.read_csv(file_path, nrows=N)\n",
    "    ind_map = index_map.cpu().numpy()\n",
    "    \n",
    "    \n",
    "    df.dropna(axis=0, inplace=True)\n",
    "    df.reset_index(inplace=True)\n",
    "\n",
    "    \n",
    "    fens = np.array(df['FENs'])\n",
    "    moves = np.zeros((len(fens), 128))\n",
    "    h_moves = np.zeros((len(fens), 128))\n",
    "\n",
    "    bitboards, meta = zip(*[fen_to_board(x) for x in tqdm(fens, total=len(fens))])\n",
    "    \n",
    "    bitboards = np.asarray(bitboards)\n",
    "\n",
    "    meta = np.asarray(meta)\n",
    "    \n",
    "    for i in tqdm(range(4)):\n",
    "        \n",
    "        moves[df.index,df[f'move{i}'].apply(lambda x: chess.Move.from_uci(x).from_square)] += df[f'eval{i}'] + epsilon\n",
    "        moves[df.index, 64 + df[f'move{i}'].apply(lambda x: chess.Move.from_uci(x).to_square)] += df[f'eval{i}'] + epsilon\n",
    "        \n",
    "    \n",
    "    h_moves[df.index, df[\"hmoves\"].apply(lambda x: chess.Move.from_uci(x).from_square)] = 1\n",
    "    h_moves[df.index, 64 + df[\"hmoves\"].apply(lambda x: chess.Move.from_uci(x).to_square)] = 1\n",
    "    \n",
    "    flipped_moves = np.zeros_like(moves)    \n",
    "    flipped_moves[:,:64] = moves[:,ind_map]\n",
    "    flipped_moves[:,64:] = moves[:,64+ind_map]\n",
    "    #v_fens = np.vectorize(fen_to_board)\n",
    "    moves = np.where(np.expand_dims(meta, 1), moves, flipped_moves)\n",
    "\n",
    "    flipped_moves = np.zeros_like(h_moves)\n",
    "    flipped_moves[:,:64] = h_moves[:,ind_map]\n",
    "    flipped_moves[:,64:] = h_moves[:,64+ind_map]\n",
    "    #v_fens = np.vectorize(fen_to_board)\n",
    "    h_moves = np.where(np.expand_dims(meta, 1), h_moves, flipped_moves)\n",
    "    \n",
    "    #bitboards = np.array(list(map(fen_to_board, fens)))\n",
    "    \n",
    "    del df\n",
    "    \n",
    "    \n",
    "    return bitboards, meta, h_moves, moves"
   ],
   "metadata": {
    "collapsed": false,
    "ExecuteTime": {
     "end_time": "2024-04-17T02:56:42.357927Z",
     "start_time": "2024-04-17T02:56:42.338366Z"
    }
   },
   "id": "990b518f35d3cd09",
   "execution_count": 13
  },
  {
   "cell_type": "code",
   "outputs": [
    {
     "name": "stdout",
     "output_type": "stream",
     "text": [
      "Kernel saved\n"
     ]
    }
   ],
   "source": [
    "print('Kernel saved')"
   ],
   "metadata": {
    "collapsed": false,
    "ExecuteTime": {
     "end_time": "2024-04-17T02:56:43.997952Z",
     "start_time": "2024-04-17T02:56:43.992953Z"
    }
   },
   "id": "87782b6e4482f494",
   "execution_count": 14
  },
  {
   "cell_type": "code",
   "outputs": [
    {
     "name": "stderr",
     "output_type": "stream",
     "text": [
      "100%|██████████| 953405/953405 [04:01<00:00, 3950.09it/s]\n",
      "100%|██████████| 4/4 [00:14<00:00,  3.60s/it]\n"
     ]
    }
   ],
   "source": [
    "boards, meta, human_moves, stock_moves = load_stockfish_data(1_000_000)"
   ],
   "metadata": {
    "collapsed": false,
    "ExecuteTime": {
     "end_time": "2024-04-17T03:01:31.076Z",
     "start_time": "2024-04-17T02:56:47.107753Z"
    }
   },
   "id": "ac09fd92d5c1ff97",
   "execution_count": 15
  },
  {
   "cell_type": "code",
   "outputs": [],
   "source": [
    "num_samples = 5000\n",
    "RDv2.eval()\n",
    "ai_moves = RDv2(torch.tensor(boards[:num_samples], dtype=torch.float))"
   ],
   "metadata": {
    "collapsed": false,
    "ExecuteTime": {
     "end_time": "2024-04-17T03:01:53.846529Z",
     "start_time": "2024-04-17T03:01:52.639801Z"
    }
   },
   "id": "5faf286f97835e3e",
   "execution_count": 16
  },
  {
   "cell_type": "code",
   "outputs": [],
   "source": [
    "ai_moves = RSv1.diffable_argmax_moves(torch.cat([ai_moves[0], ai_moves[1]], dim = 1)).view(-1,128).detach().cpu()"
   ],
   "metadata": {
    "collapsed": false,
    "ExecuteTime": {
     "end_time": "2024-04-17T03:02:32.072349Z",
     "start_time": "2024-04-17T03:02:32.039349Z"
    }
   },
   "id": "a9ec283de40fcf22",
   "execution_count": 19
  },
  {
   "cell_type": "code",
   "outputs": [
    {
     "name": "stdout",
     "output_type": "stream",
     "text": [
      "[[2.52466196e-07 3.04984963e-07 4.16688941e-07 3.60768491e-07\n",
      "  7.77914074e-07 5.88311338e-08 5.75362964e-07 1.94478886e-07\n",
      "  9.23971632e-07 5.73072450e-07 5.94121149e-07 9.31299174e-07\n",
      "  1.32921466e-09 1.53425135e-07 8.64594282e-07 1.30694337e-07\n",
      "  6.85967250e-07 9.28569655e-07 5.00052113e-07 7.65799226e-08\n",
      "  5.83930833e-08 2.87230787e-07 3.05608406e-07 8.03506090e-07\n",
      "  4.94408115e-08 7.20357389e-07 2.59115127e-07 2.23142638e-07\n",
      "  5.40635329e-07 1.01392806e-07 8.01977084e-07 5.15490531e-07\n",
      "  1.73186423e-07 4.44820399e-07 5.63938620e-07 9.83331731e-07\n",
      "  5.35797613e-07 1.32722097e-07 8.73467479e-07 1.37637974e-07\n",
      "  5.71536096e-07 3.72883939e-07 4.31668001e-07 1.26201868e-07\n",
      "  9.85908226e-07 2.37145930e-07 5.15374749e-07 8.75569062e-08\n",
      "  9.52941662e-07 4.36240717e-08 8.83694907e-07 8.37509844e-08\n",
      "  7.06315095e-07 6.69401948e-07 8.90190017e-07 7.16245304e-07\n",
      "  1.33435700e-07 2.68869233e-07 4.80818050e-07 6.46085627e-07\n",
      "  7.31623261e-07 6.58971627e-07 1.27270595e-07 2.67421745e-07\n",
      "  9.59938651e-07 2.19241514e-07 9.23646276e-07 1.86318676e-07\n",
      "  6.36325410e-07 1.70505546e-07 9.52958276e-08 2.99957077e-07\n",
      "  5.64020537e-07 7.55939280e-08 5.87670620e-07 5.30727327e-07\n",
      "  9.90823433e-07 6.20618503e-07 7.97697016e-07 2.03143766e-07\n",
      "  3.37867838e-07 2.77253177e-07 9.06014689e-07 8.00339927e-08\n",
      "  1.73559496e-07 9.22523198e-07 9.03770050e-07 6.26615001e-08\n",
      "  2.78446016e-07 2.92730652e-07 3.52360627e-07 1.55051077e-07\n",
      "  8.96105504e-07 2.33474875e-07 3.54408444e-07 6.48189485e-07\n",
      "  2.07082896e-08 6.81024894e-07 6.67107937e-07 9.79585156e-08\n",
      "  9.85506311e-07 1.82000961e-07 5.93008123e-07 2.72602024e-07\n",
      "  8.43550650e-07 4.63416020e-07 1.63576991e-08 8.41578107e-07\n",
      "  5.33384583e-07 1.94335646e-07 7.91976711e-07 4.98487159e-08\n",
      "  3.66138796e-07 1.74564938e-07 6.23257907e-08 5.34722013e-07\n",
      "  1.35723861e-07 1.19164018e-07 3.61749997e-07 2.33909364e-07\n",
      "  6.65864238e-07 9.33371603e-07 2.45446966e-07 9.25646945e-07\n",
      "  5.45535330e-07 5.18600317e-08 9.47284007e-07 5.68861149e-08]\n",
      " [5.50376965e-07 4.37149541e-07 1.23389388e-07 7.96207535e-07\n",
      "  1.87052108e-07 1.78936056e-07 1.87877269e-07 7.69565566e-07\n",
      "  3.24216354e-07 8.09039372e-07 4.59129217e-07 9.91819770e-07\n",
      "  1.31934487e-07 6.71133773e-07 4.69824629e-07 6.02483147e-07\n",
      "  7.42633685e-07 6.02045909e-07 5.23141581e-07 5.52679705e-07\n",
      "  7.64404159e-08 3.07664847e-07 9.75704379e-07 6.14472066e-07\n",
      "  7.49250136e-07 5.18472504e-07 7.30361715e-07 2.58996003e-07\n",
      "  2.02856396e-07 1.94873597e-07 9.70101654e-07 1.59377438e-08\n",
      "  4.08600848e-07 1.85938107e-07 1.37057760e-07 1.15192128e-07\n",
      "  2.24405514e-07 6.73402837e-08 2.03903585e-07 9.32426973e-07\n",
      "  6.90758045e-07 7.86241856e-07 3.96174814e-08 1.52659720e-07\n",
      "  4.19994907e-07 4.23927604e-07 2.95575814e-07 9.09608181e-07\n",
      "  9.81617912e-07 6.57796032e-07 9.81648967e-07 2.88728037e-08\n",
      "  2.79734051e-07 2.13305379e-07 8.75099689e-07 6.94121064e-07\n",
      "  5.34346123e-07 8.57008239e-07 5.80055613e-07 1.67513390e-07\n",
      "  8.06368500e-07 5.96094814e-07 2.19949054e-07 6.51326092e-07\n",
      "  4.05767061e-07 5.85558153e-07 5.01266969e-07 6.45271023e-07\n",
      "  7.93694872e-07 7.12011285e-07 1.74369462e-07 4.53861314e-08\n",
      "  3.76750357e-07 9.41912708e-07 6.33873352e-07 5.08821384e-07\n",
      "  2.50923084e-07 9.63689227e-07 5.97278664e-07 2.05604780e-07\n",
      "  8.90302752e-07 4.11819845e-07 2.03011983e-07 7.69329979e-07\n",
      "  1.19093492e-07 1.11049728e-07 6.10968538e-07 1.64095509e-07\n",
      "  4.19713070e-07 6.92829283e-07 6.39919521e-07 7.11493352e-08\n",
      "  3.68672807e-07 5.61859928e-07 4.17825852e-08 2.52333899e-08\n",
      "  9.29516458e-07 1.52748277e-07 8.68014843e-07 3.90504102e-07\n",
      "  7.83555022e-07 5.03655424e-07 2.90307732e-07 9.37364094e-07\n",
      "  6.44956965e-07 6.46238622e-07 6.33066090e-07 3.29269507e-07\n",
      "  3.09349165e-08 3.45862360e-07 8.83127700e-07 1.24458951e-07\n",
      "  4.69074259e-07 3.36701577e-07 8.98714804e-07 7.02509714e-08\n",
      "  4.63202730e-07 5.74149121e-07 7.57687508e-07 3.78993979e-07\n",
      "  8.46581472e-07 9.75119121e-07 5.37335151e-07 4.33912765e-07\n",
      "  2.93308932e-07 8.22365692e-07 2.56646301e-07 9.26332317e-07]\n",
      " [5.60235729e-07 4.18203143e-08 3.57473499e-07 5.97273642e-08\n",
      "  8.39209178e-07 6.87757260e-08 7.78135566e-08 4.40990259e-07\n",
      "  3.17799047e-07 7.27302018e-07 9.66271010e-07 4.92548028e-07\n",
      "  8.78609641e-07 7.85824573e-07 9.68847909e-07 6.21613853e-07\n",
      "  3.66717369e-07 6.03172883e-07 2.06058383e-07 9.34111619e-07\n",
      "  7.68379658e-07 4.85224417e-07 1.56327164e-07 2.18321475e-07\n",
      "  4.20055091e-08 4.03695511e-07 4.75243395e-07 1.17106981e-07\n",
      "  8.33055065e-07 9.02001188e-07 7.19414747e-07 5.22826896e-07\n",
      "  4.19630195e-07 1.91314115e-07 2.48884596e-07 7.24585346e-07\n",
      "  1.35996335e-08 7.26022706e-07 7.98839325e-07 5.14236906e-07\n",
      "  5.18560439e-07 5.59394838e-07 9.98849041e-09 6.66763487e-07\n",
      "  6.82117444e-07 8.75143002e-07 5.05354219e-07 7.72429477e-07\n",
      "  8.70384142e-07 3.01351474e-07 5.50611186e-07 2.30783545e-07\n",
      "  9.66712014e-07 9.17178503e-07 5.34390206e-07 2.87719949e-08\n",
      "  4.72694937e-07 8.69385868e-07 7.37961956e-07 6.91429916e-07\n",
      "  9.06000783e-07 1.63170707e-07 3.42939507e-07 1.36256031e-07\n",
      "  3.95275414e-07 8.74137882e-07 8.25975497e-07 2.81045123e-08\n",
      "  3.78339296e-07 4.66754309e-07 5.87104779e-07 3.33985193e-07\n",
      "  3.18555208e-07 9.29601568e-07 9.05201670e-07 9.63343574e-07\n",
      "  7.08577505e-07 1.01939307e-07 3.41210506e-07 5.09805869e-07\n",
      "  9.95155835e-07 7.87033928e-08 9.09586289e-07 8.55511052e-07\n",
      "  7.98612309e-07 5.54753079e-07 2.45386014e-07 7.77142581e-07\n",
      "  9.86331770e-07 5.85368450e-07 6.61893033e-07 6.71728601e-08\n",
      "  1.64471673e-07 1.90502099e-07 3.14939569e-07 8.08098681e-07\n",
      "  1.70746535e-07 6.94870956e-07 9.69837203e-07 3.03627704e-07\n",
      "  6.72221006e-07 1.52636794e-07 4.36987761e-07 4.18254756e-07\n",
      "  3.34609360e-07 3.97811586e-07 6.68890981e-07 9.06329495e-07\n",
      "  3.75983762e-07 6.51012662e-07 2.81938931e-07 5.46666426e-07\n",
      "  5.73238090e-07 5.82673328e-07 4.32603721e-07 9.08621033e-07\n",
      "  6.85140616e-07 8.29212113e-07 9.04803506e-07 9.31245916e-07\n",
      "  8.83003550e-07 1.88806470e-07 6.82723712e-07 8.94194860e-07\n",
      "  3.36373283e-07 9.55110473e-07 2.64624211e-07 8.61109129e-07]\n",
      " [7.41600410e-07 5.10609531e-07 9.38796491e-07 5.10211932e-07\n",
      "  1.17357874e-07 4.20108518e-07 8.98128940e-08 5.50840223e-07\n",
      "  2.16941301e-07 6.71939361e-07 8.03823094e-07 2.44210289e-07\n",
      "  4.62948034e-07 2.27145910e-08 4.12907931e-07 2.23535353e-07\n",
      "  7.62134410e-07 1.08298967e-07 7.41070045e-07 5.32877356e-07\n",
      "  5.74108819e-07 5.87113568e-07 5.23996791e-07 7.36566558e-07\n",
      "  2.51208533e-07 1.91141863e-07 8.24312328e-07 5.19266827e-07\n",
      "  9.91627720e-07 4.73866131e-08 9.43910946e-07 5.68704155e-07\n",
      "  4.47846409e-07 7.41383117e-07 7.43998451e-07 5.64923639e-07\n",
      "  5.55125698e-07 4.71290910e-07 7.10611570e-07 6.33027292e-07\n",
      "  8.62078243e-07 6.71220815e-07 5.54922917e-07 2.98280001e-07\n",
      "  2.50768381e-08 2.06649618e-07 1.89480021e-07 4.09725640e-07\n",
      "  8.45739497e-07 6.11073678e-07 2.46120164e-07 8.28998646e-07\n",
      "  8.31321330e-07 5.48626300e-07 6.18204054e-07 5.08090819e-07\n",
      "  4.35447469e-07 6.57194329e-08 7.56838179e-07 3.93855496e-07\n",
      "  1.83284837e-08 3.64447900e-07 9.24983499e-07 9.90159694e-07\n",
      "  6.48221479e-07 8.94770719e-07 1.81134234e-07 1.53406945e-07\n",
      "  3.76068083e-07 6.63503922e-07 9.79084961e-07 6.50575327e-07\n",
      "  5.95071514e-07 3.64318630e-07 4.39605790e-07 3.57677588e-08\n",
      "  9.88819915e-07 7.46578701e-07 6.07770086e-07 7.71326810e-07\n",
      "  5.56762265e-07 5.90082760e-07 8.83464983e-07 5.92063291e-07\n",
      "  7.53363814e-07 6.44266814e-07 9.63181723e-07 1.93539478e-07\n",
      "  9.67565971e-07 3.50840437e-08 6.45429436e-07 6.77291605e-07\n",
      "  4.31255628e-07 2.51872656e-07 6.93171402e-07 3.91089588e-07\n",
      "  7.59650255e-08 6.82903675e-07 4.29729627e-07 8.56014386e-07\n",
      "  1.51182889e-07 6.09743094e-07 7.64663654e-07 6.61069088e-07\n",
      "  3.98165884e-07 4.07624430e-07 4.75530898e-07 9.80156332e-07\n",
      "  9.48237485e-09 7.30115958e-07 9.95609895e-07 6.70192580e-08\n",
      "  8.00044731e-08 1.11343555e-07 2.32384993e-08 7.41071309e-07\n",
      "  7.25115775e-07 7.70360889e-07 1.62689651e-07 3.82848930e-07\n",
      "  5.67907116e-07 8.59204708e-07 4.45887843e-07 5.48276772e-07\n",
      "  3.21291199e-07 5.41266684e-07 9.95191311e-07 9.76246094e-07]\n",
      " [6.15768942e-07 7.96269416e-07 9.21445518e-08 4.44187903e-07\n",
      "  8.09114867e-08 5.28536498e-07 3.66977763e-07 1.17262670e-07\n",
      "  5.30915641e-07 8.46701742e-09 6.46182707e-07 3.00722350e-07\n",
      "  9.15290385e-07 3.00087183e-07 5.15738152e-07 3.95922070e-07\n",
      "  1.04818911e-07 5.81341833e-07 7.00234127e-07 4.24437128e-08\n",
      "  3.43930260e-07 3.06380325e-08 1.47138747e-07 3.06478733e-07\n",
      "  1.37664080e-07 5.81840790e-07 9.72550145e-07 3.96800126e-07\n",
      "  5.24567074e-08 1.28409378e-07 8.29853051e-07 2.08041777e-07\n",
      "  2.10736617e-07 1.65861769e-07 2.08797753e-07 9.77117790e-07\n",
      "  3.39054444e-07 5.26413309e-07 3.78604352e-07 6.28936940e-08\n",
      "  2.65185699e-07 8.35545761e-07 1.90517799e-07 4.28488842e-07\n",
      "  6.51943853e-07 9.18945581e-07 2.06751865e-07 4.53848136e-07\n",
      "  9.78520093e-07 5.01154814e-08 7.18246583e-07 6.95462320e-07\n",
      "  5.12800722e-07 3.49965485e-08 5.61813019e-07 7.40577058e-07\n",
      "  3.30509380e-07 2.73932969e-07 4.58658271e-07 2.40888808e-08\n",
      "  5.22813568e-07 1.38011955e-08 2.02586174e-07 1.63351162e-07\n",
      "  4.36967140e-07 1.59487406e-08 7.97416818e-09 5.05532954e-07\n",
      "  9.98736993e-07 9.16318200e-07 9.94013539e-08 4.19800106e-07\n",
      "  8.02780224e-07 5.11200747e-07 9.94602558e-07 6.30256780e-07\n",
      "  7.02587013e-07 9.71767714e-07 4.77863988e-07 2.41641412e-07\n",
      "  7.72934838e-07 3.91370950e-07 6.94153785e-07 1.20788860e-07\n",
      "  2.26341654e-07 4.57674688e-07 1.93713944e-07 4.90965303e-07\n",
      "  5.61947154e-07 7.15503890e-07 4.27014814e-07 3.87394049e-07\n",
      "  7.15839225e-08 4.68682192e-07 1.04079674e-07 4.01197329e-07\n",
      "  7.73377353e-07 3.48060963e-07 7.95168009e-07 1.83932321e-07\n",
      "  6.21789693e-07 1.82933047e-07 2.27382396e-07 1.21368704e-08\n",
      "  6.15030297e-07 9.99630585e-08 2.44104724e-07 3.81650859e-07\n",
      "  1.78591685e-08 4.10943006e-09 2.29752145e-07 4.98424130e-07\n",
      "  5.01800315e-07 5.57767986e-07 2.54220326e-08 5.81369902e-07\n",
      "  9.88042861e-07 6.32395992e-07 1.38375206e-07 9.14803859e-07\n",
      "  3.99499097e-07 5.73974527e-08 9.48246022e-07 2.44977805e-08\n",
      "  4.53885276e-07 5.41772953e-07 4.52962730e-07 5.19828577e-07]]\n"
     ]
    }
   ],
   "source": [
    "stock_noise = np.random.uniform(low = 0, high = 1e-6, size = stock_moves.shape)\n",
    "print(stock_noise[:5])"
   ],
   "metadata": {
    "collapsed": false,
    "ExecuteTime": {
     "end_time": "2024-04-17T03:02:36.646088Z",
     "start_time": "2024-04-17T03:02:35.473170Z"
    }
   },
   "id": "38dc99ffdc54fffc",
   "execution_count": 21
  },
  {
   "cell_type": "code",
   "outputs": [],
   "source": [
    "stock_maxmoves = np.zeros_like(stock_moves)\n",
    "stock_maxmoves[np.arange(len(stock_moves)), np.argmax(stock_moves[:,:64] + stock_noise[:,:64], axis = 1)] = 1\n",
    "stock_maxmoves[np.arange(len(stock_moves)), 64 + np.argmax(stock_moves[:,64:] + stock_noise[:,64:], axis = 1)] = 1"
   ],
   "metadata": {
    "collapsed": false,
    "ExecuteTime": {
     "end_time": "2024-04-17T03:03:31.671199Z",
     "start_time": "2024-04-17T03:03:29.826378Z"
    }
   },
   "id": "cfac7ec540c9e60b",
   "execution_count": 22
  },
  {
   "cell_type": "code",
   "outputs": [
    {
     "name": "stdout",
     "output_type": "stream",
     "text": [
      "     AI mean    AI std  Human mean  Human std  Stock mean  Stock std  Distance\n",
      "21    0.0452  0.207763    0.045206   0.207757    0.048017   0.213803  0.000141\n",
      "9     0.0264  0.160338    0.026392   0.160297    0.024467   0.154494  0.000314\n",
      "82    0.0352  0.184303    0.035182   0.184240    0.034034   0.181316  0.000503\n",
      "1     0.0270  0.162100    0.027148   0.162514    0.028446   0.166245  0.005450\n",
      "46    0.0048  0.069122    0.004769   0.068895    0.004680   0.068251  0.006454\n",
      "..       ...       ...         ...        ...         ...        ...       ...\n",
      "72    0.0020  0.044681    0.003755   0.061163    0.004242   0.064990  0.467371\n",
      "121   0.0014  0.037394    0.003061   0.055238    0.002893   0.053707  0.542575\n",
      "127   0.0014  0.037394    0.003083   0.055436    0.002473   0.049670  0.545843\n",
      "57    0.0030  0.054696    0.001863   0.043120    0.002058   0.045317  0.610481\n",
      "126   0.0004  0.019998    0.002424   0.049174    0.002248   0.047357  0.834980\n",
      "\n",
      "[128 rows x 7 columns]\n"
     ]
    }
   ],
   "source": [
    "df = pd.DataFrame({\"Axis Number\" : list(range(128))})\n",
    "\n",
    "df['AI mean'] = torch.mean(ai_moves, axis=0)\n",
    "df['AI std'] = torch.std(ai_moves, axis=0)\n",
    "\n",
    "df['Human mean'] =  np.mean(human_moves, axis= 0)\n",
    "df['Human std'] = np.std(human_moves, axis= 0)\n",
    "df['Stock mean'] = np.mean(stock_maxmoves, axis= 0)\n",
    "df['Stock std'] = np.std(stock_maxmoves, axis= 0)\n",
    "\n",
    "df['Distance'] = np.abs((df['AI mean'] - df['Human mean'])/df['Human mean'])\n",
    "df.sort_values(['Distance'], inplace= True)\n",
    "print(df.drop('Axis Number', axis = 1))"
   ],
   "metadata": {
    "collapsed": false,
    "ExecuteTime": {
     "end_time": "2024-04-17T03:03:36.301736Z",
     "start_time": "2024-04-17T03:03:34.561146Z"
    }
   },
   "id": "2a09cb613b51cbe1",
   "execution_count": 23
  },
  {
   "cell_type": "code",
   "outputs": [
    {
     "data": {
      "text/plain": "<Figure size 432x288 with 1 Axes>",
      "image/png": "[encoded data removed]"
     },
     "metadata": {
      "needs_background": "light"
     },
     "output_type": "display_data"
    }
   ],
   "source": [
    "plt.stem(df.index, df['AI mean'])\n",
    "plt.ylabel(\"Occurrence rate\")\n",
    "plt.xlabel(\"From square                                To square\")\n",
    "plt.title(\"AI move distribution\")\n",
    "plt.savefig(\"Results/AI_mean.png\")"
   ],
   "metadata": {
    "collapsed": false,
    "ExecuteTime": {
     "end_time": "2024-04-17T03:14:49.962116Z",
     "start_time": "2024-04-17T03:14:49.836603Z"
    }
   },
   "id": "93b2254ac7fd4f5f",
   "execution_count": 43
  },
  {
   "cell_type": "code",
   "outputs": [
    {
     "data": {
      "text/plain": "<Figure size 432x288 with 1 Axes>",
      "image/png": "[encoded data removed]"
     },
     "metadata": {
      "needs_background": "light"
     },
     "output_type": "display_data"
    }
   ],
   "source": [
    "plt.stem(df.index, df['Human mean'])\n",
    "plt.ylabel(\"Occurrence rate\")\n",
    "plt.xlabel(\"From square                                To square\")\n",
    "plt.title(\"Human move distribution\")\n",
    "plt.savefig(\"Results/Human_mean.png\")"
   ],
   "metadata": {
    "collapsed": false,
    "ExecuteTime": {
     "end_time": "2024-04-17T03:15:35.547621Z",
     "start_time": "2024-04-17T03:15:35.422105Z"
    }
   },
   "id": "10c7d5e0d452b008",
   "execution_count": 44
  },
  {
   "cell_type": "code",
   "outputs": [
    {
     "data": {
      "text/plain": "<Figure size 432x288 with 1 Axes>",
      "image/png": "[encoded data removed]"
     },
     "metadata": {
      "needs_background": "light"
     },
     "output_type": "display_data"
    }
   ],
   "source": [
    "plt.stem(df.index, df['Stock mean'])\n",
    "plt.ylabel(\"Occurrence rate\")\n",
    "plt.xlabel(\"From square                                To square\")\n",
    "plt.title(\"Stockfish move distribution\")\n",
    "plt.savefig(\"Results/stock_mean.png\")"
   ],
   "metadata": {
    "collapsed": false,
    "ExecuteTime": {
     "end_time": "2024-04-17T03:15:50.294686Z",
     "start_time": "2024-04-17T03:15:50.166729Z"
    }
   },
   "id": "1649bf451dbd08ab",
   "execution_count": 45
  },
  {
   "cell_type": "code",
   "outputs": [
    {
     "data": {
      "text/plain": "<Figure size 432x288 with 1 Axes>",
      "image/png": "[encoded data removed]"
     },
     "metadata": {
      "needs_background": "light"
     },
     "output_type": "display_data"
    }
   ],
   "source": [
    "plt.stem(df.index, df[\"Human std\"])\n",
    "plt.ylabel(\"Occurrence deviation\")\n",
    "plt.xlabel(\"From square                                To square\")\n",
    "plt.title(\"Human move deviations\")\n",
    "plt.savefig(\"Results/human_std.png\")"
   ],
   "metadata": {
    "collapsed": false,
    "ExecuteTime": {
     "end_time": "2024-04-17T03:18:02.155984Z",
     "start_time": "2024-04-17T03:18:02.028460Z"
    }
   },
   "id": "3015baea5ac1abaa",
   "execution_count": 47
  },
  {
   "cell_type": "code",
   "outputs": [
    {
     "data": {
      "text/plain": "<Figure size 432x288 with 1 Axes>",
      "image/png": "[encoded data removed]"
     },
     "metadata": {
      "needs_background": "light"
     },
     "output_type": "display_data"
    }
   ],
   "source": [
    "plt.stem(df.index, df[\"AI std\"])\n",
    "plt.ylabel(\"Occurrence deviation\")\n",
    "plt.xlabel(\"From square                                To square\")\n",
    "plt.title(\"AI move deviations\")\n",
    "plt.savefig(\"Results/AI_std.png\")"
   ],
   "metadata": {
    "collapsed": false,
    "ExecuteTime": {
     "end_time": "2024-04-17T03:18:23.986357Z",
     "start_time": "2024-04-17T03:18:23.858783Z"
    }
   },
   "id": "ef6aaf8074d7b48b",
   "execution_count": 48
  },
  {
   "cell_type": "code",
   "outputs": [
    {
     "data": {
      "text/plain": "<Figure size 432x288 with 1 Axes>",
      "image/png": "[encoded data removed]"
     },
     "metadata": {
      "needs_background": "light"
     },
     "output_type": "display_data"
    }
   ],
   "source": [
    "plt.stem(df.index, df[\"Stock std\"])\n",
    "plt.ylabel(\"Occurrence deviation\")\n",
    "plt.xlabel(\"From square                                To square\")\n",
    "plt.title(\"Stockfish move deviations\")\n",
    "plt.savefig(\"Results/stock_std.png\")"
   ],
   "metadata": {
    "collapsed": false,
    "ExecuteTime": {
     "end_time": "2024-04-17T03:18:44.531831Z",
     "start_time": "2024-04-17T03:18:44.406973Z"
    }
   },
   "id": "c2c19468de8ead17",
   "execution_count": 49
  },
  {
   "cell_type": "code",
   "outputs": [],
   "source": [
    "class StockData(Dataset):\n",
    "\n",
    "    def __init__(self, bitboards, moves, stock_moves):\n",
    "\n",
    "        self.bitboards = torch.tensor(bitboards, dtype = torch.float).to(device)\n",
    "\n",
    "        self.moves = torch.tensor(moves, dtype = torch.float).to(device)\n",
    "        self.stock_moves = torch.tensor(stock_moves, dtype=torch.float).to(device)\n",
    "\n",
    "    def __len__(self):\n",
    "\n",
    "        return self.moves.size(dim=0)\n",
    "\n",
    "\n",
    "    def __getitem__(self, idx):\n",
    "\n",
    "        return self.bitboards[idx], self.moves[idx], self.stock_moves[idx]\n",
    "    "
   ],
   "metadata": {
    "collapsed": false,
    "ExecuteTime": {
     "end_time": "2024-04-17T03:20:43.553049Z",
     "start_time": "2024-04-17T03:20:43.539542Z"
    }
   },
   "id": "db829524ce5a783b",
   "execution_count": 50
  },
  {
   "cell_type": "code",
   "outputs": [],
   "source": [
    "del RSv1"
   ],
   "metadata": {
    "collapsed": false,
    "ExecuteTime": {
     "end_time": "2024-04-17T14:29:37.625013Z",
     "start_time": "2024-04-17T14:29:37.608012Z"
    }
   },
   "id": "7d4f8be3135c9ae7",
   "execution_count": 112
  },
  {
   "cell_type": "code",
   "outputs": [
    {
     "name": "stdout",
     "output_type": "stream",
     "text": [
      "cuda\n"
     ]
    }
   ],
   "source": [
    "RSv1 = GAN_1(g_conv_depth=6, d_conv_depth=6, lr=0.0002, pre_trained_g=None).to(device)"
   ],
   "metadata": {
    "collapsed": false,
    "ExecuteTime": {
     "end_time": "2024-04-17T14:29:38.759230Z",
     "start_time": "2024-04-17T14:29:38.740169Z"
    }
   },
   "id": "c0b2645f10c27291",
   "execution_count": 113
  },
  {
   "cell_type": "code",
   "outputs": [],
   "source": [
    "val_size = 2_000\n",
    "B = 128\n",
    "loader = DataLoader(StockData(boards[:-val_size], human_moves[:-val_size], stock_moves[:-val_size]), batch_size = B, shuffle = True, generator=torch.Generator(device=device))\n",
    "val_data = StockData(boards[-val_size:], human_moves[-val_size:], stock_moves[-val_size:])\n",
    "G = len(loader)"
   ],
   "metadata": {
    "collapsed": false,
    "ExecuteTime": {
     "end_time": "2024-04-17T03:24:54.778036Z",
     "start_time": "2024-04-17T03:24:32.622005Z"
    }
   },
   "id": "f4ca7a20fd919134",
   "execution_count": 52
  },
  {
   "cell_type": "code",
   "outputs": [],
   "source": [
    "loader.dataset.stock_moves = torch.tensor(stock_maxmoves, dtype=torch.float).to(device)"
   ],
   "metadata": {
    "collapsed": false,
    "ExecuteTime": {
     "end_time": "2024-04-17T14:30:23.856707Z",
     "start_time": "2024-04-17T14:30:23.350838Z"
    }
   },
   "id": "3c9a506b15fc1c45",
   "execution_count": 114
  },
  {
   "cell_type": "code",
   "outputs": [
    {
     "data": {
      "text/plain": "0"
     },
     "execution_count": 116,
     "metadata": {},
     "output_type": "execute_result"
    }
   ],
   "source": [
    "torch.cuda.empty_cache()\n",
    "gc.collect()"
   ],
   "metadata": {
    "collapsed": false,
    "ExecuteTime": {
     "end_time": "2024-04-17T14:30:29.188476Z",
     "start_time": "2024-04-17T14:30:28.919957Z"
    }
   },
   "id": "a4559f1556161967",
   "execution_count": 116
  },
  {
   "cell_type": "code",
   "outputs": [],
   "source": [
    "del RSv1.discriminator\n",
    "\n",
    "RSv1.discriminator = discriminator_1(conv_depth=4)\n",
    "RSv1.configure_optimizers(0.001)"
   ],
   "metadata": {
    "collapsed": false
   },
   "id": "f329bacc28310fe0"
  },
  {
   "cell_type": "code",
   "outputs": [],
   "source": [
    "del RSv1.generator\n",
    "\n",
    "RSv1.generator = generator_1(conv_depth=6)\n",
    "RSv1.configure_optimizers(0.0002)"
   ],
   "metadata": {
    "collapsed": false
   },
   "id": "967e166e9e31040f"
  },
  {
   "cell_type": "code",
   "outputs": [],
   "source": [
    "train_discriminator = False\n",
    "train_all = True\n",
    "train_generator = False\n",
    "\n",
    "r_bound, f_bound = 0.7, 0.7"
   ],
   "metadata": {
    "collapsed": false,
    "ExecuteTime": {
     "end_time": "2024-04-17T14:30:35.843770Z",
     "start_time": "2024-04-17T14:30:35.826776Z"
    }
   },
   "id": "954f59800fd8ceec",
   "execution_count": 117
  },
  {
   "cell_type": "code",
   "outputs": [
    {
     "name": "stderr",
     "output_type": "stream",
     "text": [
      " 33%|███▎      | 2478/7433 [01:12<02:25, 33.95it/s]\n"
     ]
    },
    {
     "name": "stdout",
     "output_type": "stream",
     "text": [
      "Discriminator Training\n",
      "Epoch 1 with g_loss: 0.0 and d_loss: 0.04074382378455248\n",
      "Epoch: 1, g_acc=0.0004999999888241291, d_acc_f=0.9914999753236771, d_acc_r=0.9904999762773514\n",
      "d_dist_f=0.018376801908016206, d_dist_r=0.0175808385014534\n"
     ]
    },
    {
     "name": "stderr",
     "output_type": "stream",
     "text": [
      " 25%|██▌       | 1859/7433 [00:32<01:36, 57.60it/s]\n"
     ]
    },
    {
     "name": "stdout",
     "output_type": "stream",
     "text": [
      "Generator Training\n",
      "Epoch 1 with g_loss: 2.010629179338804 and d_loss: 0.0\n",
      "Epoch: 1, g_acc=0.05099999848753214, d_acc_f=0.0054999998770654205, d_acc_r=0.9904999762773514\n",
      "d_dist_f=0.989339542388916, d_dist_r=0.0175808385014534\n"
     ]
    },
    {
     "name": "stderr",
     "output_type": "stream",
     "text": [
      " 33%|███▎      | 2478/7433 [01:13<02:26, 33.93it/s]\n"
     ]
    },
    {
     "name": "stdout",
     "output_type": "stream",
     "text": [
      "Discriminator Training\n",
      "Epoch 2 with g_loss: 0.0 and d_loss: 0.19092432271900175\n",
      "Epoch: 2, g_acc=0.05099999848753214, d_acc_f=0.9369999825954437, d_acc_r=0.8639999777078629\n",
      "d_dist_f=0.1448886752128601, d_dist_r=0.14384400844573975\n"
     ]
    },
    {
     "name": "stderr",
     "output_type": "stream",
     "text": [
      " 25%|██▌       | 1859/7433 [00:32<01:36, 57.65it/s]\n"
     ]
    },
    {
     "name": "stdout",
     "output_type": "stream",
     "text": [
      "Generator Training\n",
      "Epoch 2 with g_loss: 1.9686859987408512 and d_loss: 0.0\n",
      "Epoch: 2, g_acc=0.06949999844655394, d_acc_f=0.6174999803304673, d_acc_r=0.8639999777078629\n",
      "d_dist_f=0.4252596855163574, d_dist_r=0.14384400844573975\n"
     ]
    },
    {
     "name": "stderr",
     "output_type": "stream",
     "text": [
      " 33%|███▎      | 2478/7433 [01:13<02:26, 33.82it/s]\n"
     ]
    },
    {
     "name": "stdout",
     "output_type": "stream",
     "text": [
      "Discriminator Training\n",
      "Epoch 3 with g_loss: 0.0 and d_loss: 0.2006436064588772\n",
      "Epoch: 3, g_acc=0.06949999844655394, d_acc_f=0.9564999878406525, d_acc_r=0.7914999783039093\n",
      "d_dist_f=0.12575372457504272, d_dist_r=0.20443305969238282\n"
     ]
    },
    {
     "name": "stderr",
     "output_type": "stream",
     "text": [
      " 25%|██▌       | 1859/7433 [00:31<01:35, 58.14it/s]\n"
     ]
    },
    {
     "name": "stdout",
     "output_type": "stream",
     "text": [
      "Generator Training\n",
      "Epoch 3 with g_loss: 1.959290880831674 and d_loss: 0.0\n",
      "Epoch: 3, g_acc=0.09199999682605267, d_acc_f=0.7429999828338623, d_acc_r=0.7914999783039093\n",
      "d_dist_f=0.32365951538085935, d_dist_r=0.20443305969238282\n"
     ]
    },
    {
     "name": "stderr",
     "output_type": "stream",
     "text": [
      " 25%|██▌       | 1859/7433 [00:32<01:37, 57.37it/s]\n"
     ]
    },
    {
     "name": "stdout",
     "output_type": "stream",
     "text": [
      "Generator Training\n",
      "Epoch 3 with g_loss: 1.9524595291925988 and d_loss: 0.0\n",
      "Epoch: 3, g_acc=0.09799999669194222, d_acc_f=0.6719999819993973, d_acc_r=0.7914999783039093\n",
      "d_dist_f=0.38543679714202883, d_dist_r=0.20443305969238282\n"
     ]
    },
    {
     "name": "stderr",
     "output_type": "stream",
     "text": [
      " 33%|███▎      | 2478/7433 [01:12<02:25, 34.03it/s]\n"
     ]
    },
    {
     "name": "stdout",
     "output_type": "stream",
     "text": [
      "Discriminator Training\n",
      "Epoch 4 with g_loss: 0.0 and d_loss: 0.23202741043846395\n",
      "Epoch: 4, g_acc=0.09799999669194222, d_acc_f=0.8919999867677688, d_acc_r=0.7989999800920486\n",
      "d_dist_f=0.20346217155456542, d_dist_r=0.21735405921936035\n"
     ]
    },
    {
     "name": "stderr",
     "output_type": "stream",
     "text": [
      " 25%|██▌       | 1859/7433 [00:31<01:35, 58.13it/s]\n"
     ]
    },
    {
     "name": "stdout",
     "output_type": "stream",
     "text": [
      "Generator Training\n",
      "Epoch 4 with g_loss: 1.9478081473909026 and d_loss: 0.0\n",
      "Epoch: 4, g_acc=0.11549999564886093, d_acc_f=0.6949999809265137, d_acc_r=0.7989999800920486\n",
      "d_dist_f=0.3577850103378296, d_dist_r=0.21735405921936035\n"
     ]
    },
    {
     "name": "stderr",
     "output_type": "stream",
     "text": [
      " 33%|███▎      | 2478/7433 [01:24<02:47, 29.50it/s]\n"
     ]
    },
    {
     "name": "stdout",
     "output_type": "stream",
     "text": [
      "Discriminator Training\n",
      "Epoch 5 with g_loss: 0.0 and d_loss: 0.23516589735937715\n",
      "Epoch: 5, g_acc=0.11549999564886093, d_acc_f=0.9019999831914902, d_acc_r=0.7854999870061874\n",
      "d_dist_f=0.22725753784179686, d_dist_r=0.2244199514389038\n"
     ]
    },
    {
     "name": "stderr",
     "output_type": "stream",
     "text": [
      " 25%|██▌       | 1859/7433 [00:32<01:36, 57.50it/s]\n"
     ]
    },
    {
     "name": "stdout",
     "output_type": "stream",
     "text": [
      "Generator Training\n",
      "Epoch 5 with g_loss: 1.9435918980678895 and d_loss: 0.0\n",
      "Epoch: 5, g_acc=0.1089999970048666, d_acc_f=0.7904999792575836, d_acc_r=0.7854999870061874\n",
      "d_dist_f=0.2959998846054077, d_dist_r=0.2244199514389038\n"
     ]
    },
    {
     "name": "stderr",
     "output_type": "stream",
     "text": [
      " 25%|██▌       | 1859/7433 [00:31<01:35, 58.12it/s]\n"
     ]
    },
    {
     "name": "stdout",
     "output_type": "stream",
     "text": [
      "Generator Training\n",
      "Epoch 5 with g_loss: 1.9413199167496644 and d_loss: 0.0\n",
      "Epoch: 5, g_acc=0.11949999630451202, d_acc_f=0.7439999788999557, d_acc_r=0.7854999870061874\n",
      "d_dist_f=0.3420499563217163, d_dist_r=0.2244199514389038\n"
     ]
    },
    {
     "name": "stderr",
     "output_type": "stream",
     "text": [
      " 25%|██▌       | 1859/7433 [00:32<01:36, 58.06it/s]\n"
     ]
    },
    {
     "name": "stdout",
     "output_type": "stream",
     "text": [
      "Generator Training\n",
      "Epoch 5 with g_loss: 1.938863425240067 and d_loss: 0.0\n",
      "Epoch: 5, g_acc=0.1324999962002039, d_acc_f=0.7094999879598618, d_acc_r=0.7854999870061874\n",
      "d_dist_f=0.36562366485595704, d_dist_r=0.2244199514389038\n"
     ]
    },
    {
     "name": "stderr",
     "output_type": "stream",
     "text": [
      " 25%|██▌       | 1859/7433 [00:31<01:35, 58.29it/s]\n"
     ]
    },
    {
     "name": "stdout",
     "output_type": "stream",
     "text": [
      "Generator Training\n",
      "Epoch 5 with g_loss: 1.9372855460645373 and d_loss: 0.0\n",
      "Epoch: 5, g_acc=0.11699999701231718, d_acc_f=0.6794999822974205, d_acc_r=0.7854999870061874\n",
      "d_dist_f=0.39376049041748046, d_dist_r=0.2244199514389038\n"
     ]
    },
    {
     "name": "stderr",
     "output_type": "stream",
     "text": [
      " 33%|███▎      | 2478/7433 [01:24<02:48, 29.43it/s]\n"
     ]
    },
    {
     "name": "stdout",
     "output_type": "stream",
     "text": [
      "Discriminator Training\n",
      "Epoch 6 with g_loss: 0.0 and d_loss: 0.24460016075733707\n",
      "Epoch: 6, g_acc=0.11699999701231718, d_acc_f=0.8744999885559082, d_acc_r=0.763999980688095\n",
      "d_dist_f=0.2233513355255127, d_dist_r=0.25383405685424804\n"
     ]
    },
    {
     "name": "stderr",
     "output_type": "stream",
     "text": [
      " 25%|██▌       | 1859/7433 [00:32<01:36, 57.84it/s]\n"
     ]
    },
    {
     "name": "stdout",
     "output_type": "stream",
     "text": [
      "Generator Training\n",
      "Epoch 6 with g_loss: 1.9372358025122696 and d_loss: 0.0\n",
      "Epoch: 6, g_acc=0.13049999717622995, d_acc_f=0.7699999868869781, d_acc_r=0.763999980688095\n",
      "d_dist_f=0.2929150819778442, d_dist_r=0.25383405685424804\n"
     ]
    },
    {
     "name": "stderr",
     "output_type": "stream",
     "text": [
      " 25%|██▌       | 1859/7433 [00:31<01:35, 58.23it/s]\n"
     ]
    },
    {
     "name": "stdout",
     "output_type": "stream",
     "text": [
      "Generator Training\n",
      "Epoch 6 with g_loss: 1.9363609427127866 and d_loss: 0.0\n",
      "Epoch: 6, g_acc=0.12099999748170376, d_acc_f=0.7724999815225602, d_acc_r=0.763999980688095\n",
      "d_dist_f=0.29927194118499756, d_dist_r=0.25383405685424804\n"
     ]
    },
    {
     "name": "stderr",
     "output_type": "stream",
     "text": [
      " 25%|██▌       | 1859/7433 [00:31<01:35, 58.25it/s]\n"
     ]
    },
    {
     "name": "stdout",
     "output_type": "stream",
     "text": [
      "Generator Training\n",
      "Epoch 6 with g_loss: 1.9356695799620367 and d_loss: 0.0\n",
      "Epoch: 6, g_acc=0.15199999660253524, d_acc_f=0.7229999810457229, d_acc_r=0.763999980688095\n",
      "d_dist_f=0.3377669334411621, d_dist_r=0.25383405685424804\n"
     ]
    },
    {
     "name": "stderr",
     "output_type": "stream",
     "text": [
      " 25%|██▌       | 1859/7433 [00:32<01:36, 57.81it/s]\n"
     ]
    },
    {
     "name": "stdout",
     "output_type": "stream",
     "text": [
      "Generator Training\n",
      "Epoch 6 with g_loss: 1.9337815541719405 and d_loss: 0.0\n",
      "Epoch: 6, g_acc=0.140999997779727, d_acc_f=0.7579999834299087, d_acc_r=0.763999980688095\n",
      "d_dist_f=0.3111117839813232, d_dist_r=0.25383405685424804\n"
     ]
    },
    {
     "name": "stderr",
     "output_type": "stream",
     "text": [
      " 25%|██▌       | 1859/7433 [00:31<01:35, 58.34it/s]\n"
     ]
    },
    {
     "name": "stdout",
     "output_type": "stream",
     "text": [
      "Generator Training\n",
      "Epoch 6 with g_loss: 1.9335516537404969 and d_loss: 0.0\n",
      "Epoch: 6, g_acc=0.13599999621510506, d_acc_f=0.7319999754428863, d_acc_r=0.763999980688095\n",
      "d_dist_f=0.3222696781158447, d_dist_r=0.25383405685424804\n"
     ]
    },
    {
     "name": "stderr",
     "output_type": "stream",
     "text": [
      " 25%|██▌       | 1859/7433 [00:31<01:35, 58.50it/s]\n"
     ]
    },
    {
     "name": "stdout",
     "output_type": "stream",
     "text": [
      "Generator Training\n",
      "Epoch 6 with g_loss: 1.9326491577859748 and d_loss: 0.0\n",
      "Epoch: 6, g_acc=0.13299999609589577, d_acc_f=0.7344999790191651, d_acc_r=0.763999980688095\n",
      "d_dist_f=0.3240424394607544, d_dist_r=0.25383405685424804\n"
     ]
    },
    {
     "name": "stderr",
     "output_type": "stream",
     "text": [
      " 25%|██▌       | 1859/7433 [00:32<01:37, 57.41it/s]\n"
     ]
    },
    {
     "name": "stdout",
     "output_type": "stream",
     "text": [
      "Generator Training\n",
      "Epoch 6 with g_loss: 1.9319103930722363 and d_loss: 0.0\n",
      "Epoch: 6, g_acc=0.13049999587237834, d_acc_f=0.6684999912977219, d_acc_r=0.763999980688095\n",
      "d_dist_f=0.37199769020080564, d_dist_r=0.25383405685424804\n"
     ]
    },
    {
     "name": "stderr",
     "output_type": "stream",
     "text": [
      " 33%|███▎      | 2478/7433 [01:23<02:47, 29.56it/s]\n"
     ]
    },
    {
     "name": "stdout",
     "output_type": "stream",
     "text": [
      "Discriminator Training\n",
      "Epoch 7 with g_loss: 0.0 and d_loss: 0.2567925260411158\n",
      "Epoch: 7, g_acc=0.13049999587237834, d_acc_f=0.888999980688095, d_acc_r=0.7549999803304672\n",
      "d_dist_f=0.22563648223876953, d_dist_r=0.2712568283081055\n"
     ]
    },
    {
     "name": "stderr",
     "output_type": "stream",
     "text": [
      " 25%|██▌       | 1859/7433 [00:31<01:35, 58.27it/s]\n"
     ]
    },
    {
     "name": "stdout",
     "output_type": "stream",
     "text": [
      "Generator Training\n",
      "Epoch 7 with g_loss: 1.9315434446505482 and d_loss: 0.0\n",
      "Epoch: 7, g_acc=0.13499999642372132, d_acc_f=0.7994999766349793, d_acc_r=0.7549999803304672\n",
      "d_dist_f=0.2735307693481445, d_dist_r=0.2712568283081055\n"
     ]
    },
    {
     "name": "stderr",
     "output_type": "stream",
     "text": [
      " 25%|██▌       | 1859/7433 [00:31<01:35, 58.17it/s]\n"
     ]
    },
    {
     "name": "stdout",
     "output_type": "stream",
     "text": [
      "Generator Training\n",
      "Epoch 7 with g_loss: 1.9308250627526682 and d_loss: 0.0\n",
      "Epoch: 7, g_acc=0.12699999772012233, d_acc_f=0.7979999780654907, d_acc_r=0.7549999803304672\n",
      "d_dist_f=0.28873581886291505, d_dist_r=0.2712568283081055\n"
     ]
    },
    {
     "name": "stderr",
     "output_type": "stream",
     "text": [
      " 25%|██▌       | 1859/7433 [00:32<01:35, 58.07it/s]\n"
     ]
    },
    {
     "name": "stdout",
     "output_type": "stream",
     "text": [
      "Generator Training\n",
      "Epoch 7 with g_loss: 1.9305966230479958 and d_loss: 0.0\n",
      "Epoch: 7, g_acc=0.13849999569356441, d_acc_f=0.7664999753236771, d_acc_r=0.7549999803304672\n",
      "d_dist_f=0.3032143354415894, d_dist_r=0.2712568283081055\n"
     ]
    },
    {
     "name": "stderr",
     "output_type": "stream",
     "text": [
      " 25%|██▌       | 1859/7433 [00:31<01:35, 58.41it/s]\n"
     ]
    },
    {
     "name": "stdout",
     "output_type": "stream",
     "text": [
      "Generator Training\n",
      "Epoch 7 with g_loss: 1.930221919238479 and d_loss: 0.0\n",
      "Epoch: 7, g_acc=0.11949999667704106, d_acc_f=0.8059999823570252, d_acc_r=0.7549999803304672\n",
      "d_dist_f=0.2760096788406372, d_dist_r=0.2712568283081055\n"
     ]
    },
    {
     "name": "stderr",
     "output_type": "stream",
     "text": [
      " 25%|██▌       | 1859/7433 [00:32<01:36, 57.80it/s]\n"
     ]
    },
    {
     "name": "stdout",
     "output_type": "stream",
     "text": [
      "Generator Training\n",
      "Epoch 7 with g_loss: 1.9306966873224372 and d_loss: 0.0\n",
      "Epoch: 7, g_acc=0.14349999502301217, d_acc_f=0.7714999824762344, d_acc_r=0.7549999803304672\n",
      "d_dist_f=0.30000839233398435, d_dist_r=0.2712568283081055\n"
     ]
    },
    {
     "name": "stderr",
     "output_type": "stream",
     "text": [
      " 25%|██▌       | 1859/7433 [00:31<01:35, 58.27it/s]\n"
     ]
    },
    {
     "name": "stdout",
     "output_type": "stream",
     "text": [
      "Generator Training\n",
      "Epoch 7 with g_loss: 1.929426861181404 and d_loss: 0.0\n",
      "Epoch: 7, g_acc=0.12599999718368055, d_acc_f=0.7679999768733978, d_acc_r=0.7549999803304672\n",
      "d_dist_f=0.29370508193969724, d_dist_r=0.2712568283081055\n"
     ]
    },
    {
     "name": "stderr",
     "output_type": "stream",
     "text": [
      " 25%|██▌       | 1859/7433 [00:31<01:35, 58.14it/s]\n"
     ]
    },
    {
     "name": "stdout",
     "output_type": "stream",
     "text": [
      "Generator Training\n",
      "Epoch 7 with g_loss: 1.9298621115703114 and d_loss: 0.0\n",
      "Epoch: 7, g_acc=0.14299999698996543, d_acc_f=0.768999981880188, d_acc_r=0.7549999803304672\n",
      "d_dist_f=0.30579049587249757, d_dist_r=0.2712568283081055\n"
     ]
    },
    {
     "name": "stderr",
     "output_type": "stream",
     "text": [
      " 25%|██▌       | 1859/7433 [00:32<01:36, 57.87it/s]\n"
     ]
    },
    {
     "name": "stdout",
     "output_type": "stream",
     "text": [
      "Generator Training\n",
      "Epoch 7 with g_loss: 1.928056371527951 and d_loss: 0.0\n",
      "Epoch: 7, g_acc=0.13949999678879976, d_acc_f=0.7659999787807464, d_acc_r=0.7549999803304672\n",
      "d_dist_f=0.3113466739654541, d_dist_r=0.2712568283081055\n"
     ]
    },
    {
     "name": "stderr",
     "output_type": "stream",
     "text": [
      " 25%|██▌       | 1859/7433 [00:32<01:36, 57.79it/s]\n"
     ]
    },
    {
     "name": "stdout",
     "output_type": "stream",
     "text": [
      "Generator Training\n",
      "Epoch 7 with g_loss: 1.9280341137599035 and d_loss: 0.0\n",
      "Epoch: 7, g_acc=0.12849999740719795, d_acc_f=0.7614999800920487, d_acc_r=0.7549999803304672\n",
      "d_dist_f=0.3135910749435425, d_dist_r=0.2712568283081055\n"
     ]
    },
    {
     "name": "stderr",
     "output_type": "stream",
     "text": [
      " 25%|██▌       | 1859/7433 [00:31<01:35, 58.37it/s]\n"
     ]
    },
    {
     "name": "stdout",
     "output_type": "stream",
     "text": [
      "Generator Training\n",
      "Epoch 7 with g_loss: 1.928459253764066 and d_loss: 0.0\n",
      "Epoch: 7, g_acc=0.14149999767541885, d_acc_f=0.7314999848604202, d_acc_r=0.7549999803304672\n",
      "d_dist_f=0.3274733781814575, d_dist_r=0.2712568283081055\n"
     ]
    },
    {
     "name": "stderr",
     "output_type": "stream",
     "text": [
      " 25%|██▌       | 1859/7433 [00:32<01:36, 57.98it/s]\n"
     ]
    },
    {
     "name": "stdout",
     "output_type": "stream",
     "text": [
      "Generator Training\n",
      "Epoch 7 with g_loss: 1.9285994871907546 and d_loss: 0.0\n",
      "Epoch: 7, g_acc=0.14049999620765447, d_acc_f=0.7529999822378158, d_acc_r=0.7549999803304672\n",
      "d_dist_f=0.3240565299987793, d_dist_r=0.2712568283081055\n"
     ]
    },
    {
     "name": "stderr",
     "output_type": "stream",
     "text": [
      " 25%|██▌       | 1859/7433 [00:32<01:35, 58.08it/s]\n"
     ]
    },
    {
     "name": "stdout",
     "output_type": "stream",
     "text": [
      "Generator Training\n",
      "Epoch 7 with g_loss: 1.9283043863185398 and d_loss: 0.0\n",
      "Epoch: 7, g_acc=0.15049999617040158, d_acc_f=0.7839999765157699, d_acc_r=0.7549999803304672\n",
      "d_dist_f=0.30089874267578126, d_dist_r=0.2712568283081055\n"
     ]
    },
    {
     "name": "stderr",
     "output_type": "stream",
     "text": [
      " 25%|██▌       | 1859/7433 [00:31<01:35, 58.14it/s]\n"
     ]
    },
    {
     "name": "stdout",
     "output_type": "stream",
     "text": [
      "Generator Training\n",
      "Epoch 7 with g_loss: 1.9280729688354188 and d_loss: 0.0\n",
      "Epoch: 7, g_acc=0.13799999617040157, d_acc_f=0.7549999803304672, d_acc_r=0.7549999803304672\n",
      "d_dist_f=0.31532509326934816, d_dist_r=0.2712568283081055\n"
     ]
    },
    {
     "name": "stderr",
     "output_type": "stream",
     "text": [
      " 25%|██▌       | 1859/7433 [00:31<01:35, 58.37it/s]\n"
     ]
    },
    {
     "name": "stdout",
     "output_type": "stream",
     "text": [
      "Generator Training\n",
      "Epoch 7 with g_loss: 1.9282197861817072 and d_loss: 0.0\n",
      "Epoch: 7, g_acc=0.14649999514222145, d_acc_f=0.7789999783039093, d_acc_r=0.7549999803304672\n",
      "d_dist_f=0.2989945650100708, d_dist_r=0.2712568283081055\n"
     ]
    },
    {
     "name": "stderr",
     "output_type": "stream",
     "text": [
      " 25%|██▌       | 1859/7433 [00:32<01:36, 57.98it/s]\n"
     ]
    },
    {
     "name": "stdout",
     "output_type": "stream",
     "text": [
      "Generator Training\n",
      "Epoch 7 with g_loss: 1.926897709901795 and d_loss: 0.0\n",
      "Epoch: 7, g_acc=0.15599999614059926, d_acc_f=0.7454999774694443, d_acc_r=0.7549999803304672\n",
      "d_dist_f=0.3309146881103516, d_dist_r=0.2712568283081055\n"
     ]
    },
    {
     "name": "stderr",
     "output_type": "stream",
     "text": [
      " 25%|██▌       | 1859/7433 [00:32<01:36, 57.99it/s]\n"
     ]
    },
    {
     "name": "stdout",
     "output_type": "stream",
     "text": [
      "Generator Training\n",
      "Epoch 7 with g_loss: 1.9289659025786816 and d_loss: 0.0\n",
      "Epoch: 7, g_acc=0.1539999969303608, d_acc_f=0.7599999815225601, d_acc_r=0.7549999803304672\n",
      "d_dist_f=0.3198237895965576, d_dist_r=0.2712568283081055\n"
     ]
    },
    {
     "name": "stderr",
     "output_type": "stream",
     "text": [
      " 25%|██▌       | 1859/7433 [00:31<01:35, 58.40it/s]\n"
     ]
    },
    {
     "name": "stdout",
     "output_type": "stream",
     "text": [
      "Generator Training\n",
      "Epoch 7 with g_loss: 1.9275135450595386 and d_loss: 0.0\n",
      "Epoch: 7, g_acc=0.1359999965876341, d_acc_f=0.7604999899864197, d_acc_r=0.7549999803304672\n",
      "d_dist_f=0.32318429946899413, d_dist_r=0.2712568283081055\n"
     ]
    },
    {
     "name": "stderr",
     "output_type": "stream",
     "text": [
      " 25%|██▌       | 1859/7433 [00:31<01:35, 58.31it/s]\n"
     ]
    },
    {
     "name": "stdout",
     "output_type": "stream",
     "text": [
      "Generator Training\n",
      "Epoch 7 with g_loss: 1.927633880205692 and d_loss: 0.0\n",
      "Epoch: 7, g_acc=0.12799999658018352, d_acc_f=0.7939999818801879, d_acc_r=0.7549999803304672\n",
      "d_dist_f=0.29161431789398196, d_dist_r=0.2712568283081055\n"
     ]
    },
    {
     "name": "stderr",
     "output_type": "stream",
     "text": [
      " 25%|██▌       | 1859/7433 [00:32<01:36, 57.84it/s]\n"
     ]
    },
    {
     "name": "stdout",
     "output_type": "stream",
     "text": [
      "Generator Training\n",
      "Epoch 7 with g_loss: 1.9280403499790593 and d_loss: 0.0\n",
      "Epoch: 7, g_acc=0.14799999594688415, d_acc_f=0.7279999792575836, d_acc_r=0.7549999803304672\n",
      "d_dist_f=0.3379359245300293, d_dist_r=0.2712568283081055\n"
     ]
    },
    {
     "name": "stderr",
     "output_type": "stream",
     "text": [
      " 25%|██▌       | 1859/7433 [00:31<01:35, 58.34it/s]\n"
     ]
    },
    {
     "name": "stdout",
     "output_type": "stream",
     "text": [
      "Generator Training\n",
      "Epoch 7 with g_loss: 1.9268375728647722 and d_loss: 0.0\n",
      "Epoch: 7, g_acc=0.13399999663233758, d_acc_f=0.7324999809265137, d_acc_r=0.7549999803304672\n",
      "d_dist_f=0.3288094997406006, d_dist_r=0.2712568283081055\n"
     ]
    }
   ],
   "source": [
    "for epoch in range(50):\n",
    "\n",
    "    reps = 0\n",
    "\n",
    "    if train_all or train_discriminator:\n",
    "        prev_generator = None\n",
    "\n",
    "        if epoch > RSv1.save_every + 1 and not (RSv1.logs['d_acc_f'][-1] > f_bound and RSv1.logs['d_acc_r'][-1] > r_bound):\n",
    "            choice = np.random.choice(np.arange(start=RSv1.save_every, stop= (epoch//(RSv1.save_every+1) * RSv1.save_every)+1, step = RSv1.save_every))\n",
    "\n",
    "            prev_generator = torch.load(f'generator {choice}.pt', map_location= device)\n",
    "\n",
    "        while not (RSv1.logs['d_acc_f'][-1] > f_bound and RSv1.logs['d_acc_r'][-1] > r_bound):\n",
    "\n",
    "            reps += 1\n",
    "            if reps > 20:\n",
    "                train_all = False\n",
    "                train_discriminator = False\n",
    "                train_generator = False\n",
    "                break\n",
    "\n",
    "            i=0\n",
    "\n",
    "            for bitboards, mvs, _ in tqdm(loader):\n",
    "                if i > G // 3:\n",
    "                    break\n",
    "                RSv1.train_step(bitboards, mvs, train_generator=False, prev_generator=prev_generator)\n",
    "                i += 1\n",
    "\n",
    "            print('Discriminator Training')\n",
    "            RSv1.on_epoch_end(epoch, G, val_data)\n",
    "\n",
    "\n",
    "    reps = 0\n",
    "    if train_all or train_generator:\n",
    "\n",
    "        while (RSv1.logs['d_acc_f'][-1] > f_bound and RSv1.logs['d_acc_r'][-1] > r_bound):\n",
    "            reps += 1\n",
    "            if reps > 20:\n",
    "                train_all = False\n",
    "                train_generator = False\n",
    "                train_discriminator = False\n",
    "                break\n",
    "\n",
    "            i=0\n",
    "            for bitboards, mvs, stk_mvs in tqdm(loader):\n",
    "                if i > G // 4:\n",
    "                    break\n",
    "\n",
    "                #RSv1.train_step(bitboards, mvs, train_generator=True)\n",
    "                RSv1.stockfish_train(bitboards, stk_mvs)\n",
    "                i += 1\n",
    "\n",
    "            print('Generator Training')\n",
    "            RSv1.on_epoch_end(epoch, G, val_data)\n",
    "            \n",
    "        "
   ],
   "metadata": {
    "collapsed": false,
    "ExecuteTime": {
     "end_time": "2024-04-17T14:59:03.530957Z",
     "start_time": "2024-04-17T14:30:36.494997Z"
    }
   },
   "id": "183bdcbed9d95856",
   "execution_count": 118
  },
  {
   "cell_type": "code",
   "outputs": [],
   "source": [
    "pd.DataFrame.from_dict(RSv1.logs).to_csv('Results/StockGAN.csv', index = None)"
   ],
   "metadata": {
    "collapsed": false,
    "ExecuteTime": {
     "end_time": "2024-04-17T06:32:19.199954Z",
     "start_time": "2024-04-17T06:32:19.170947Z"
    }
   },
   "id": "4d09422a0c5c7c08",
   "execution_count": 90
  },
  {
   "cell_type": "code",
   "outputs": [
    {
     "data": {
      "text/plain": "tensor([[[[0.0000e+00, 0.0000e+00, 0.0000e+00,  ..., 0.0000e+00,\n           0.0000e+00, 0.0000e+00],\n          [0.0000e+00, 0.0000e+00, 0.0000e+00,  ..., 0.0000e+00,\n           5.1000e-04, 0.0000e+00],\n          [0.0000e+00, 0.0000e+00, 0.0000e+00,  ..., 0.0000e+00,\n           0.0000e+00, 0.0000e+00],\n          ...,\n          [0.0000e+00, 0.0000e+00, 0.0000e+00,  ..., 0.0000e+00,\n           0.0000e+00, 0.0000e+00],\n          [0.0000e+00, 0.0000e+00, 0.0000e+00,  ..., 0.0000e+00,\n           0.0000e+00, 0.0000e+00],\n          [0.0000e+00, 0.0000e+00, 0.0000e+00,  ..., 0.0000e+00,\n           0.0000e+00, 0.0000e+00]],\n\n         [[0.0000e+00, 0.0000e+00, 0.0000e+00,  ..., 0.0000e+00,\n           0.0000e+00, 0.0000e+00],\n          [0.0000e+00, 0.0000e+00, 0.0000e+00,  ..., 0.0000e+00,\n           0.0000e+00, 0.0000e+00],\n          [0.0000e+00, 0.0000e+00, 0.0000e+00,  ..., 0.0000e+00,\n           0.0000e+00, 0.0000e+00],\n          ...,\n          [0.0000e+00, 0.0000e+00, 0.0000e+00,  ..., 0.0000e+00,\n           0.0000e+00, 0.0000e+00],\n          [0.0000e+00, 0.0000e+00, 0.0000e+00,  ..., 0.0000e+00,\n           1.0000e-05, 0.0000e+00],\n          [0.0000e+00, 0.0000e+00, 0.0000e+00,  ..., 0.0000e+00,\n           0.0000e+00, 0.0000e+00]]],\n\n\n        [[[0.0000e+00, 0.0000e+00, 0.0000e+00,  ..., 0.0000e+00,\n           0.0000e+00, 9.8251e-01],\n          [9.9951e-01, 0.0000e+00, 0.0000e+00,  ..., 0.0000e+00,\n           0.0000e+00, 0.0000e+00],\n          [0.0000e+00, 0.0000e+00, 0.0000e+00,  ..., 0.0000e+00,\n           0.0000e+00, 0.0000e+00],\n          ...,\n          [0.0000e+00, 0.0000e+00, 0.0000e+00,  ..., 0.0000e+00,\n           0.0000e+00, 0.0000e+00],\n          [0.0000e+00, 0.0000e+00, 0.0000e+00,  ..., 0.0000e+00,\n           0.0000e+00, 0.0000e+00],\n          [0.0000e+00, 0.0000e+00, 0.0000e+00,  ..., 0.0000e+00,\n           0.0000e+00, 0.0000e+00]],\n\n         [[0.0000e+00, 0.0000e+00, 0.0000e+00,  ..., 0.0000e+00,\n           9.8251e-01, 0.0000e+00],\n          [0.0000e+00, 0.0000e+00, 0.0000e+00,  ..., 0.0000e+00,\n           0.0000e+00, 0.0000e+00],\n          [0.0000e+00, 0.0000e+00, 0.0000e+00,  ..., 0.0000e+00,\n           0.0000e+00, 0.0000e+00],\n          ...,\n          [0.0000e+00, 0.0000e+00, 0.0000e+00,  ..., 0.0000e+00,\n           0.0000e+00, 0.0000e+00],\n          [0.0000e+00, 0.0000e+00, 0.0000e+00,  ..., 0.0000e+00,\n           0.0000e+00, 0.0000e+00],\n          [0.0000e+00, 0.0000e+00, 0.0000e+00,  ..., 0.0000e+00,\n           0.0000e+00, 0.0000e+00]]],\n\n\n        [[[0.0000e+00, 0.0000e+00, 0.0000e+00,  ..., 0.0000e+00,\n           0.0000e+00, 0.0000e+00],\n          [0.0000e+00, 0.0000e+00, 0.0000e+00,  ..., 0.0000e+00,\n           4.9352e-01, 0.0000e+00],\n          [0.0000e+00, 0.0000e+00, 0.0000e+00,  ..., 0.0000e+00,\n           0.0000e+00, 0.0000e+00],\n          ...,\n          [0.0000e+00, 0.0000e+00, 0.0000e+00,  ..., 0.0000e+00,\n           0.0000e+00, 0.0000e+00],\n          [0.0000e+00, 0.0000e+00, 0.0000e+00,  ..., 0.0000e+00,\n           1.0000e-05, 0.0000e+00],\n          [0.0000e+00, 0.0000e+00, 0.0000e+00,  ..., 0.0000e+00,\n           0.0000e+00, 0.0000e+00]],\n\n         [[0.0000e+00, 0.0000e+00, 0.0000e+00,  ..., 0.0000e+00,\n           0.0000e+00, 0.0000e+00],\n          [0.0000e+00, 0.0000e+00, 0.0000e+00,  ..., 0.0000e+00,\n           0.0000e+00, 0.0000e+00],\n          [0.0000e+00, 0.0000e+00, 0.0000e+00,  ..., 0.0000e+00,\n           4.4201e-01, 0.0000e+00],\n          ...,\n          [0.0000e+00, 0.0000e+00, 0.0000e+00,  ..., 0.0000e+00,\n           0.0000e+00, 0.0000e+00],\n          [0.0000e+00, 0.0000e+00, 0.0000e+00,  ..., 0.0000e+00,\n           0.0000e+00, 0.0000e+00],\n          [0.0000e+00, 0.0000e+00, 0.0000e+00,  ..., 0.0000e+00,\n           0.0000e+00, 0.0000e+00]]],\n\n\n        ...,\n\n\n        [[[0.0000e+00, 0.0000e+00, 0.0000e+00,  ..., 0.0000e+00,\n           0.0000e+00, 0.0000e+00],\n          [0.0000e+00, 0.0000e+00, 0.0000e+00,  ..., 0.0000e+00,\n           0.0000e+00, 0.0000e+00],\n          [0.0000e+00, 0.0000e+00, 0.0000e+00,  ..., 0.0000e+00,\n           0.0000e+00, 0.0000e+00],\n          ...,\n          [0.0000e+00, 0.0000e+00, 0.0000e+00,  ..., 0.0000e+00,\n           0.0000e+00, 0.0000e+00],\n          [0.0000e+00, 0.0000e+00, 0.0000e+00,  ..., 0.0000e+00,\n           0.0000e+00, 0.0000e+00],\n          [0.0000e+00, 0.0000e+00, 0.0000e+00,  ..., 0.0000e+00,\n           0.0000e+00, 0.0000e+00]],\n\n         [[0.0000e+00, 0.0000e+00, 0.0000e+00,  ..., 5.0251e-01,\n           0.0000e+00, 0.0000e+00],\n          [0.0000e+00, 0.0000e+00, 0.0000e+00,  ..., 5.0051e-01,\n           0.0000e+00, 0.0000e+00],\n          [0.0000e+00, 0.0000e+00, 0.0000e+00,  ..., 0.0000e+00,\n           0.0000e+00, 0.0000e+00],\n          ...,\n          [0.0000e+00, 0.0000e+00, 0.0000e+00,  ..., 0.0000e+00,\n           0.0000e+00, 0.0000e+00],\n          [0.0000e+00, 0.0000e+00, 0.0000e+00,  ..., 0.0000e+00,\n           0.0000e+00, 0.0000e+00],\n          [0.0000e+00, 0.0000e+00, 0.0000e+00,  ..., 0.0000e+00,\n           0.0000e+00, 0.0000e+00]]],\n\n\n        [[[0.0000e+00, 0.0000e+00, 0.0000e+00,  ..., 0.0000e+00,\n           0.0000e+00, 0.0000e+00],\n          [0.0000e+00, 0.0000e+00, 0.0000e+00,  ..., 0.0000e+00,\n           0.0000e+00, 0.0000e+00],\n          [4.8251e-01, 0.0000e+00, 0.0000e+00,  ..., 0.0000e+00,\n           0.0000e+00, 0.0000e+00],\n          ...,\n          [0.0000e+00, 0.0000e+00, 0.0000e+00,  ..., 0.0000e+00,\n           0.0000e+00, 0.0000e+00],\n          [0.0000e+00, 0.0000e+00, 0.0000e+00,  ..., 0.0000e+00,\n           0.0000e+00, 0.0000e+00],\n          [0.0000e+00, 0.0000e+00, 0.0000e+00,  ..., 0.0000e+00,\n           0.0000e+00, 0.0000e+00]],\n\n         [[0.0000e+00, 0.0000e+00, 0.0000e+00,  ..., 0.0000e+00,\n           0.0000e+00, 0.0000e+00],\n          [0.0000e+00, 0.0000e+00, 0.0000e+00,  ..., 0.0000e+00,\n           0.0000e+00, 0.0000e+00],\n          [0.0000e+00, 0.0000e+00, 0.0000e+00,  ..., 0.0000e+00,\n           0.0000e+00, 0.0000e+00],\n          ...,\n          [0.0000e+00, 0.0000e+00, 5.0601e-01,  ..., 0.0000e+00,\n           0.0000e+00, 0.0000e+00],\n          [0.0000e+00, 0.0000e+00, 0.0000e+00,  ..., 0.0000e+00,\n           0.0000e+00, 0.0000e+00],\n          [0.0000e+00, 0.0000e+00, 0.0000e+00,  ..., 0.0000e+00,\n           0.0000e+00, 0.0000e+00]]],\n\n\n        [[[0.0000e+00, 0.0000e+00, 0.0000e+00,  ..., 0.0000e+00,\n           0.0000e+00, 0.0000e+00],\n          [0.0000e+00, 0.0000e+00, 0.0000e+00,  ..., 0.0000e+00,\n           0.0000e+00, 0.0000e+00],\n          [0.0000e+00, 0.0000e+00, 0.0000e+00,  ..., 0.0000e+00,\n           4.9801e-01, 0.0000e+00],\n          ...,\n          [0.0000e+00, 0.0000e+00, 0.0000e+00,  ..., 0.0000e+00,\n           0.0000e+00, 0.0000e+00],\n          [0.0000e+00, 0.0000e+00, 0.0000e+00,  ..., 0.0000e+00,\n           0.0000e+00, 0.0000e+00],\n          [0.0000e+00, 0.0000e+00, 0.0000e+00,  ..., 0.0000e+00,\n           0.0000e+00, 0.0000e+00]],\n\n         [[0.0000e+00, 0.0000e+00, 0.0000e+00,  ..., 0.0000e+00,\n           0.0000e+00, 0.0000e+00],\n          [0.0000e+00, 0.0000e+00, 0.0000e+00,  ..., 0.0000e+00,\n           0.0000e+00, 0.0000e+00],\n          [0.0000e+00, 0.0000e+00, 0.0000e+00,  ..., 0.0000e+00,\n           0.0000e+00, 0.0000e+00],\n          ...,\n          [0.0000e+00, 0.0000e+00, 0.0000e+00,  ..., 0.0000e+00,\n           0.0000e+00, 4.8351e-01],\n          [0.0000e+00, 0.0000e+00, 0.0000e+00,  ..., 0.0000e+00,\n           0.0000e+00, 0.0000e+00],\n          [0.0000e+00, 0.0000e+00, 0.0000e+00,  ..., 0.0000e+00,\n           0.0000e+00, 0.0000e+00]]]])"
     },
     "execution_count": 61,
     "metadata": {},
     "output_type": "execute_result"
    }
   ],
   "source": [
    "loader.dataset.moves.resize_(len(loader.dataset), 2, 8, 8)\n",
    "loader.dataset.stock_moves.resize_(len(loader.dataset), 2, 8, 8)\n",
    "val_data.moves.resize_(len(val_data), 2, 8, 8)\n",
    "val_data.stock_moves.resize_(len(val_data), 2, 8, 8)"
   ],
   "metadata": {
    "collapsed": false,
    "ExecuteTime": {
     "end_time": "2024-04-17T03:32:13.821589Z",
     "start_time": "2024-04-17T03:32:13.796590Z"
    }
   },
   "id": "7374b50be74aeda2",
   "execution_count": 61
  },
  {
   "cell_type": "code",
   "outputs": [
    {
     "data": {
      "text/plain": "0.22461283504911345"
     },
     "execution_count": 96,
     "metadata": {},
     "output_type": "execute_result"
    }
   ],
   "source": [
    "np.mean(np.all(human_moves == stock_maxmoves, axis=1))"
   ],
   "metadata": {
    "collapsed": false,
    "ExecuteTime": {
     "end_time": "2024-04-17T13:39:56.140151Z",
     "start_time": "2024-04-17T13:39:55.922103Z"
    }
   },
   "id": "5ef1892e3d861e8",
   "execution_count": 96
  },
  {
   "cell_type": "code",
   "outputs": [],
   "source": [
    "old_generator_model = lambda x: network_agent_prob_conv(x, lambda y: RDv2(y))\n",
    "generator_model = lambda x: network_agent_prob_conv(x, lambda y: (RSv1.generator(y).view(-1,128)))"
   ],
   "metadata": {
    "collapsed": false,
    "ExecuteTime": {
     "end_time": "2024-04-17T15:10:02.853272Z",
     "start_time": "2024-04-17T15:10:02.839274Z"
    }
   },
   "id": "dda912296c384c60",
   "execution_count": 119
  },
  {
   "cell_type": "code",
   "outputs": [
    {
     "name": "stderr",
     "output_type": "stream",
     "text": [
      "100%|██████████| 50/50 [00:24<00:00,  2.07it/s]\n",
      "100%|██████████| 50/50 [00:23<00:00,  2.17it/s]\n"
     ]
    },
    {
     "data": {
      "text/plain": "(1, 99, 0, 0.01)"
     },
     "execution_count": 120,
     "metadata": {},
     "output_type": "execute_result"
    }
   ],
   "source": [
    "test_against(generator_model, old_generator_model, N=100, unique=True)"
   ],
   "metadata": {
    "collapsed": false,
    "ExecuteTime": {
     "end_time": "2024-04-17T15:10:50.828708Z",
     "start_time": "2024-04-17T15:10:03.665792Z"
    }
   },
   "id": "fe633d4226eb1269",
   "execution_count": 120
  },
  {
   "cell_type": "code",
   "outputs": [],
   "source": [
    "backup_model = torch.load(\"Models/StockGAN/generator 10.pt\")"
   ],
   "metadata": {
    "collapsed": false,
    "ExecuteTime": {
     "end_time": "2024-04-17T13:47:50.929164Z",
     "start_time": "2024-04-17T13:47:50.897114Z"
    }
   },
   "id": "59ebf1294d8fe3f1",
   "execution_count": 101
  },
  {
   "cell_type": "code",
   "outputs": [],
   "source": [],
   "metadata": {
    "collapsed": false
   },
   "id": "36bf7a18ea71bbff"
  }
 ],
 "metadata": {
  "kernelspec": {
   "display_name": "Python 3 (ipykernel)",
   "language": "python",
   "name": "python3"
  },
  "language_info": {
   "codemirror_mode": {
    "name": "ipython",
    "version": 3
   },
   "file_extension": ".py",
   "mimetype": "text/x-python",
   "name": "python",
   "nbconvert_exporter": "python",
   "pygments_lexer": "ipython3",
   "version": "3.10.12"
  }
 },
 "nbformat": 4,
 "nbformat_minor": 5
}
